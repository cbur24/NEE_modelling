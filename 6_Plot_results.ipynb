{
 "cells": [
  {
   "cell_type": "markdown",
   "metadata": {},
   "source": [
    "# Plotting results of predictions\n",
    "\n",
    "\n"
   ]
  },
  {
   "cell_type": "code",
   "execution_count": null,
   "metadata": {},
   "outputs": [],
   "source": [
    "import folium\n",
    "import odc.geo\n",
    "import numpy as np\n",
    "import xarray as xr\n",
    "import geopandas as gpd\n",
    "import matplotlib.pyplot as plt\n",
    "from odc.geo.xr import assign_crs\n",
    "from odc.algo import xr_reproject\n",
    "from datacube.utils.cog import write_cog\n",
    "from matplotlib.colors import ListedColormap\n",
    "\n",
    "import sys\n",
    "sys.path.append('/g/data/os22/chad_tmp/NEE_modelling/')\n",
    "from collect_prediction_data import allNaN_arg\n",
    "\n",
    "sys.path.append('/g/data/os22/chad_tmp/dea-notebooks/Tools/')\n",
    "from dea_tools.spatial import xr_rasterize\n",
    "\n",
    "import warnings\n",
    "warnings.filterwarnings(\"ignore\")"
   ]
  },
  {
   "cell_type": "markdown",
   "metadata": {},
   "source": [
    "## Analysis Parameters"
   ]
  },
  {
   "cell_type": "code",
   "execution_count": null,
   "metadata": {},
   "outputs": [],
   "source": [
    "var = 'ER'\n",
    "suffix='20230109'\n",
    "# results_name = var+'_2003_2021_5km_LGBM_'+suffix+'.nc'\n",
    "mask_path = '/g/data/os22/chad_tmp/NEE_modelling/results/prediction_data/mask_5km.nc'\n",
    "\n",
    "upper = var+'_2003_2021_5km_LGBM_quantiles_'+suffix+'.nc'"
   ]
  },
  {
   "cell_type": "markdown",
   "metadata": {},
   "source": [
    "### Open predictions"
   ]
  },
  {
   "cell_type": "code",
   "execution_count": null,
   "metadata": {},
   "outputs": [],
   "source": [
    "# ds = xr.open_dataarray('/g/data/os22/chad_tmp/NEE_modelling/results/predictions/'+results_name)\n",
    "# ds.attrs['nodata'] = np.nan\n",
    "\n",
    "ds = xr.open_dataarray('/g/data/os22/chad_tmp/NEE_modelling/results/predictions/'+upper)\n",
    "ds.attrs['nodata'] = np.nan"
   ]
  },
  {
   "cell_type": "markdown",
   "metadata": {},
   "source": [
    "### Optionally calculate NEE as a residual\n",
    "\n",
    "Really GPP should be the residual since NEE is the variable directly measured by the EC tower, ER is measured at night and extrapolated, and GPP is the residual."
   ]
  },
  {
   "cell_type": "code",
   "execution_count": null,
   "metadata": {},
   "outputs": [],
   "source": [
    "# gpp = xr.open_dataarray('/g/data/os22/chad_tmp/NEE_modelling/results/predictions/GPP_2003_2021_5km_LGBM_'+suffix+'.nc')\n",
    "# gpp.attrs['nodata'] = np.nan\n",
    "\n",
    "# er = xr.open_dataarray('/g/data/os22/chad_tmp/NEE_modelling/results/predictions/ER_2003_2021_5km_LGBM_'+suffix+'.nc')\n",
    "# er.attrs['nodata'] = np.nan\n",
    "\n",
    "# ds = gpp - er\n",
    "# ds = ds*-1\n",
    "# ds = ds.rename('NEE')"
   ]
  },
  {
   "cell_type": "markdown",
   "metadata": {},
   "source": [
    "## Convert to PgC/year"
   ]
  },
  {
   "cell_type": "code",
   "execution_count": null,
   "metadata": {},
   "outputs": [],
   "source": [
    "grid = ds.odc.geobox.to_crs('EPSG:3577')"
   ]
  },
  {
   "cell_type": "code",
   "execution_count": null,
   "metadata": {},
   "outputs": [],
   "source": [
    "ds = xr_reproject(ds, geobox=grid.compat, resampling='bilinear')"
   ]
  },
  {
   "cell_type": "code",
   "execution_count": null,
   "metadata": {},
   "outputs": [],
   "source": [
    "area_per_pixel = ds.geobox.resolution[1]**2\n",
    "\n",
    "ds = ds * area_per_pixel * 1e-15 * 12"
   ]
  },
  {
   "cell_type": "markdown",
   "metadata": {},
   "source": [
    "## Fire emissions"
   ]
  },
  {
   "cell_type": "code",
   "execution_count": null,
   "metadata": {},
   "outputs": [],
   "source": [
    "fire = xr.open_dataarray('/g/data/os22/chad_tmp/NEE_modelling/data/FireEmissions_10km_monthly_2003_2021.nc')\n",
    "fire = fire.sum(['x', 'y'])\n",
    "fire = fire*12"
   ]
  },
  {
   "cell_type": "markdown",
   "metadata": {},
   "source": [
    "\n",
    "## Interannual variability and annual mean"
   ]
  },
  {
   "cell_type": "code",
   "execution_count": null,
   "metadata": {},
   "outputs": [],
   "source": [
    "annual_ds = ds.resample(time='1Y').sum()\n",
    "annual_fire = fire.resample(time='1Y').sum()"
   ]
  },
  {
   "cell_type": "code",
   "execution_count": null,
   "metadata": {},
   "outputs": [],
   "source": [
    "upper_percentile = (annual_ds.sel(quantile=0.75).sum(['x','y']) / 12).mean().values\n",
    "lower_percentile = (annual_ds.sel(quantile=0.25).sum(['x','y']) / 12).mean().values\n",
    "print('This Study Annual Mean (median model): ',(annual_ds.sel(quantile=0.5).sum(['x','y']) / 12).mean().values)\n",
    "print('This Study Annual Mean (median model)+FIRE: ', ((annual_ds.sel(quantile=0.5).sum(['x','y'])+annual_fire)/12).mean().values)\n",
    "print('This Study annual mean 75th percentile: ',upper_percentile)\n",
    "print('This Study annual mean 25th percentile: ',lower_percentile)\n",
    "print('IQR = ',upper_percentile-lower_percentile)"
   ]
  },
  {
   "cell_type": "code",
   "execution_count": null,
   "metadata": {},
   "outputs": [],
   "source": [
    "print('This Study IAV (median model): ',(annual_ds.sel(quantile=0.5).sum(['x','y']) / 12).std().values)\n",
    "print('This Study IAV (median model) + FIRE: ',((annual_ds.sel(quantile=0.5).sum(['x','y'])+annual_fire)/12).std().values)"
   ]
  },
  {
   "cell_type": "code",
   "execution_count": null,
   "metadata": {},
   "outputs": [],
   "source": [
    "ds_clim_mean = ds.sel(quantile=0.5).groupby('time.month').mean()\n",
    "print('Seasonal range of '+var, ds_clim_mean.sum(['x','y']).max().values - ds_clim_mean.sum(['x','y']).min().values)\n",
    "\n",
    "if var=='NEE':\n",
    "    ds_1D = ds.sel(quantile=0.5).sum(['x','y'])\n",
    "    ds_fire_1d = ds_1D+fire\n",
    "    ds_clim_mean_fire = ds_fire_1d.groupby('time.month').mean()\n",
    "    print('Seasonal range with fire of '+var, ds_clim_mean_fire.max().values - ds_clim_mean_fire.min().values)"
   ]
  },
  {
   "cell_type": "markdown",
   "metadata": {},
   "source": [
    "## Zonal timeseries\n"
   ]
  },
  {
   "cell_type": "code",
   "execution_count": null,
   "metadata": {},
   "outputs": [],
   "source": [
    "ds_1D = ds.sel(quantile=0.5).rename(var).sum(['x','y'])\n",
    "upper_1D = ds.sel(quantile=0.75).sum(['x','y'])\n",
    "lower_1D = ds.sel(quantile=0.25).sum(['x','y'])"
   ]
  },
  {
   "cell_type": "code",
   "execution_count": null,
   "metadata": {},
   "outputs": [],
   "source": [
    "df_1d = ds_1D.drop('spatial_ref').to_dataframe().drop('quantile', axis=1)\n",
    "if var == 'NEE':\n",
    "    df_1d['NEE+fire'] = ds_fire_1d.drop(['spatial_ref', 'quantile'], axis=1).to_dataframe(name='NEE+fire')\n",
    "\n",
    "fig,ax = plt.subplots(1,2, figsize=(15,5), sharey=True, gridspec_kw={'width_ratios': [4, 1]})\n",
    "ds_1D.plot(linestyle='-', ax=ax[0], label=var)\n",
    "ds_1D.rolling(time=12, min_periods=12).mean().plot(ax=ax[0], label='NEE 12-month rolling mean')\n",
    "ax[0].fill_between(ds_1D.time, lower_1D, upper_1D, alpha=0.2)\n",
    "df_1d.boxplot(ax=ax[1], rot=0, grid=False, fontsize=14, showmeans=True)\n",
    "if var == 'NEE':\n",
    "    ds_fire_1d.plot(linestyle='--', ax=ax[0], label='NEE+Fire', c='purple', alpha=0.5)\n",
    "    ds_fire_1d.rolling(time=12, min_periods=12).mean().plot(ax=ax[0], label='NEE+fire 12-month rolling mean')\n",
    "    ax[0].axhline(0, c='grey', linestyle='--')\n",
    "    ax[1].axhline(0, c='grey', linestyle='--')\n",
    "ax[0].set_ylabel(var+' PgC/year', fontsize=14)\n",
    "ax[0].tick_params(axis='x', labelsize=14)\n",
    "ax[0].tick_params(axis='y', labelsize=14)\n",
    "ax[0].set_yticklabels(['{:3.1f}'.format(x) for x in ax[0].get_yticks()])\n",
    "ax[0].set_xlabel('')\n",
    "ax[0].set_title('')\n",
    "ax[0].grid('off', which='major', axis='both', linestyle='--', linewidth=0.75)\n",
    "ax[1].grid('off', which='major', axis='y', linestyle='--', linewidth=0.75)\n",
    "ax[0].legend(loc='best', fontsize=14)\n",
    "plt.tight_layout()\n",
    "plt.savefig('/g/data/os22/chad_tmp/NEE_modelling/results/figs/'+var+'_aus_timeseries_with_boxplot_'+suffix+'.png')"
   ]
  },
  {
   "cell_type": "markdown",
   "metadata": {},
   "source": [
    "## Plots per bioregion"
   ]
  },
  {
   "cell_type": "code",
   "execution_count": null,
   "metadata": {},
   "outputs": [],
   "source": [
    "gdf = gpd.read_file('/g/data/os22/chad_tmp/NEE_modelling/data/bioclimatic_regions.geojson')\n",
    "gdf.head()"
   ]
  },
  {
   "cell_type": "code",
   "execution_count": null,
   "metadata": {
    "tags": []
   },
   "outputs": [],
   "source": [
    "# Dictionary to save results \n",
    "results = {}\n",
    "for index, row in gdf.iterrows():\n",
    "    print(row['region_name'])\n",
    "\n",
    "    # Generate a polygon mask to keep only data within the polygon\n",
    "    mask = xr_rasterize(gdf.iloc[[index]], ds)\n",
    "    \n",
    "    # Mask dataset to set pixels outside the polygon to `NaN`\n",
    "    dss = ds.where(mask)\n",
    "    \n",
    "    # Append results to a dictionary using the attribute\n",
    "    # column as an key\n",
    "    results.update({row['region_name']: dss})"
   ]
  },
  {
   "cell_type": "code",
   "execution_count": null,
   "metadata": {},
   "outputs": [],
   "source": [
    "fig, axs = plt.subplots(2,3, figsize=(15,10), sharex=True)\n",
    "\n",
    "for ax, k in zip(axs.ravel(), results.keys()):\n",
    "    \n",
    "    _1D = results[k].sel(quantile=0.5).sum(['x','y'])\n",
    "    \n",
    "    _1D.plot(linestyle='--', ax=ax, label=var, )\n",
    "    ax.text(.015, .95, f'Mean: {_1D.mean().values:.3f}, std: {_1D.std().values:.3f} PgC/yr',\n",
    "        transform=ax.transAxes, fontdict={'fontsize': 14})\n",
    "    if var=='NEE':\n",
    "        ax.axhline(0, c='grey', linestyle='--')\n",
    "    ax.set_title(k, fontdict={'fontsize': 14})\n",
    "    ax.set_ylabel('')\n",
    "    ax.set_xlabel('')\n",
    "\n",
    "fig.supylabel(var+' PgC/year', fontsize=14)\n",
    "plt.tight_layout()\n",
    "# plt.savefig('/g/data/os22/chad_tmp/NEE_modelling/results/figs/'+var+'_bioregion'+suffix+'.png')"
   ]
  },
  {
   "cell_type": "markdown",
   "metadata": {},
   "source": [
    "## Per-pixel summaries"
   ]
  },
  {
   "cell_type": "code",
   "execution_count": null,
   "metadata": {},
   "outputs": [],
   "source": [
    "annual_mean = ds.sel(quantile=0.5).resample(time='1Y').sum().mean('time')\n",
    "annual_std = ds.sel(quantile=0.5).resample(time='1Y').sum().std('time')\n",
    "scaled_variance = annual_std / annual_mean"
   ]
  },
  {
   "cell_type": "code",
   "execution_count": null,
   "metadata": {},
   "outputs": [],
   "source": [
    "monthly_mean = ds.sel(quantile=0.5).groupby('time.month').mean() #.sel(time=slice('2003','2015'))\n",
    "if var == 'NEE':\n",
    "    max_mean_month = allNaN_arg(monthly_mean, 'month', 'min')\n",
    "    # max_mean_season = allNaN_arg(monthly_season, 'season', 'min')\n",
    "else:\n",
    "    max_mean_month = allNaN_arg(monthly_mean, 'month', 'max')\n",
    "    # max_mean_season = allNaN_arg(monthly_season, 'season', 'max')"
   ]
  },
  {
   "cell_type": "code",
   "execution_count": null,
   "metadata": {},
   "outputs": [],
   "source": [
    "ds.sel(quantile=0.5).std('time').plot(size=6)"
   ]
  },
  {
   "cell_type": "code",
   "execution_count": null,
   "metadata": {},
   "outputs": [],
   "source": [
    "fig,ax = plt.subplots(1,3, figsize=(18,7), sharey=True)\n",
    "font=20\n",
    "vmax = 0.0006\n",
    "vmin = 0\n",
    "vmax_sd_nee=0.000035\n",
    "vmin_sd_nee=0.00001\n",
    "vmax_sd=0.000075\n",
    "vmin_sd=0.00001\n",
    "\n",
    "if var == 'NEE':\n",
    "    im = annual_mean.rename(var+' PgC/year').where(annual_mean!=0).plot.imshow(ax=ax[0], cmap='RdBu_r', vmax=1e-4, vmin=-1e-4, add_colorbar=False, add_labels=False)\n",
    "    cbar = plt.colorbar(im, location='bottom', pad=0.025, ax=ax[0])\n",
    "    cbar.set_label(label=var+' PgC/year', size=15, weight='bold')\n",
    "    cbar.ax.tick_params(labelsize=15)\n",
    "    cbar.formatter.set_powerlimits((0, 0))\n",
    "else:\n",
    "    im = annual_mean.rename(var+' PgC/year').where(annual_mean!=0).plot.imshow(ax=ax[0], cmap='viridis', vmax=vmax, vmin=vmin, add_colorbar=False, add_labels=False)\n",
    "    cbar = plt.colorbar(im, location='bottom', pad=0.025, ax=ax[0])\n",
    "    cbar.set_label(label=var+' PgC/year', size=15, weight='bold')\n",
    "    cbar.ax.tick_params(labelsize=15)\n",
    "\n",
    "if var=='NEE':\n",
    "    im1 = annual_std.rename('').where(annual_mean!=0).plot.imshow(ax=ax[1], cmap='magma',vmax=vmax_sd_nee,vmin=vmin_sd_nee, add_colorbar=False, add_labels=False)\n",
    "else:\n",
    "    im1 = annual_std.rename('').where(annual_mean!=0).plot.imshow(ax=ax[1], cmap='magma',vmax=vmax_sd,vmin=vmin_sd, add_colorbar=False, add_labels=False)\n",
    "cbar1 = plt.colorbar(im1, location='bottom', pad=0.025, ax=ax[1])\n",
    "cbar1.set_label(label=var+' Std. Dev.', size=15, weight='bold')\n",
    "cbar1.ax.tick_params(labelsize=15)\n",
    "\n",
    "im2 = max_mean_month.plot.imshow(vmin=1, vmax=12, ax=ax[2], cmap='twilight', add_colorbar=False, add_labels=False)\n",
    "cbar2 = plt.colorbar(im2, spacing='uniform', ax=ax[2], location='bottom', pad=0.025)\n",
    "cbar2.set_ticks([1,2,3,4,5,6,7,8,9,10,11,12])\n",
    "cbar2.set_ticklabels([\"J\",\"F\",\"M\",\"A\",\"M\",\"J\",\"J\",\"A\",\"S\",\"O\",\"N\",\"D\"], fontsize=15)\n",
    "cbar2.set_label(label=var+' Month of Max.', size=15, weight='bold')\n",
    "\n",
    "\n",
    "ax[0].set_yticklabels([])\n",
    "ax[0].set_ylabel('')\n",
    "ax[0].set_xlabel('')\n",
    "ax[0].set_xticklabels([])\n",
    "ax[1].set_yticklabels([])\n",
    "ax[1].set_xticklabels([])\n",
    "ax[2].set_yticklabels([])\n",
    "ax[2].set_xticklabels([])\n",
    "\n",
    "ax[0].set_title('Annual Mean of '+var+', (2003-2021)',fontsize=font)\n",
    "ax[1].set_title('Annual Std.Dev. in '+var+', (2003-2021)', fontsize=font)\n",
    "ax[2].set_title('Month of Maximum '+var, fontsize=font);\n",
    "\n",
    "plt.tight_layout();\n",
    "plt.savefig('/g/data/os22/chad_tmp/NEE_modelling/results/figs/'+var+'_perpixel_summaries_'+suffix+'.png')"
   ]
  },
  {
   "cell_type": "code",
   "execution_count": null,
   "metadata": {},
   "outputs": [],
   "source": [
    "y = monthly_mean.sum(['x','y']).values\n",
    "x = monthly_mean.month.values\n",
    "# std = monthly_std.mean(['x','y']).values\n",
    "\n",
    "fig,ax = plt.subplots(1,1, figsize=(7,4))\n",
    "ax.plot(x, y, marker='o', linestyle='--')\n",
    "if var=='NEE':\n",
    "    ax.axhline(0, c='grey')\n",
    "# ax.fill_between(x, y-std, y+std, alpha=0.5)\n",
    "ax.set_title('Monthly Mean '+var+' averaged over Australia')\n",
    "ax.set_xticks(range(1,13))\n",
    "ax.set_xticklabels([\"J\",\"F\",\"M\",\"A\",\"M\",\"J\",\"J\",\"A\",\"S\",\"O\",\"N\",\"D\"]) \n",
    "ax.set_xlabel('Month');\n",
    "ax.set_ylabel('PgC/year');\n"
   ]
  },
  {
   "cell_type": "markdown",
   "metadata": {},
   "source": [
    "## Per bioregion climatology"
   ]
  },
  {
   "cell_type": "code",
   "execution_count": null,
   "metadata": {},
   "outputs": [],
   "source": [
    "# Dictionary to save results \n",
    "results = {}\n",
    "for index, row in gdf.iterrows():\n",
    "    print(row['region_name'])\n",
    "\n",
    "    # Generate a polygon mask to keep only data within the polygon\n",
    "    mask = xr_rasterize(gdf.iloc[[index]], ds)\n",
    "    \n",
    "    # Mask dataset to set pixels outside the polygon to `NaN`\n",
    "    dss = monthly_mean.where(mask)\n",
    "    \n",
    "    # Append results to a dictionary using the attribute\n",
    "    # column as an key\n",
    "    results.update({row['region_name']: dss})"
   ]
  },
  {
   "cell_type": "code",
   "execution_count": null,
   "metadata": {},
   "outputs": [],
   "source": [
    "fig, axs = plt.subplots(3,2, figsize=(12,15), sharex=True)\n",
    "\n",
    "for ax, k in zip(axs.ravel(), results.keys()):\n",
    "    \n",
    "    _1D = results[k].sum(['x','y'])\n",
    "    \n",
    "    _1D.plot(linestyle='--', ax=ax, label=var, )\n",
    "    ax.text(.015, .05, f'Mean: {_1D.mean().values:.3f}, std: {_1D.std().values:.3f} PgC/yr',\n",
    "        transform=ax.transAxes, fontdict={'fontsize': 14})\n",
    "    if var=='NEE':\n",
    "        ax.axhline(0, c='grey', linestyle='--')\n",
    "    ax.set_title(k, fontdict={'fontsize': 14})\n",
    "    ax.set_ylabel('')\n",
    "    ax.set_xlabel('')\n",
    "    ax.set_xticks(range(1,13))\n",
    "    ax.set_xticklabels([\"J\",\"F\",\"M\",\"A\",\"M\",\"J\",\"J\",\"A\",\"S\",\"O\",\"N\",\"D\"]) \n",
    "fig.supylabel(var+' PgC/year', fontsize=14)\n",
    "plt.tight_layout()\n",
    "# plt.savefig('/g/data/os22/chad_tmp/NEE_modelling/results/figs/'+var+'_bioregion_climatology_'+suffix+'.png')"
   ]
  },
  {
   "cell_type": "markdown",
   "metadata": {},
   "source": [
    "## Interactive map"
   ]
  },
  {
   "cell_type": "code",
   "execution_count": null,
   "metadata": {},
   "outputs": [],
   "source": [
    "# Create folium Map (ipyleaflet is also supported)\n",
    "m = folium.Map()\n",
    "\n",
    "# Plot each sample image with different colormap\n",
    "# max_mean_month.plot.imshow(vmin=1, vmax=12, ax=ax[0], cmap='twilight', add_colorbar=False)\n",
    "# np.absolute(scaled_variance).where(~mask).odc.add_to(m, opacity=1.0, cmap='magma', vmax=2)\n",
    "# max_mean_month.odc.add_to(m, opacity=1.0, cmap='twilight', vmin=1, vmax=12)\n",
    "annual_std.odc.add_to(m, opacity=1.0, cmap='magma', robust=True)\n",
    "# annual_mean.where(annual_mean!=0).odc.add_to(m, opacity=1.0)\n",
    "\n",
    "\n",
    "# Zoom map to Australia\n",
    "m.fit_bounds(annual_mean.odc.map_bounds())\n",
    "\n",
    "tile = folium.TileLayer(\n",
    "        tiles = 'https://server.arcgisonline.com/ArcGIS/rest/services/World_Imagery/MapServer/tile/{z}/{y}/{x}',\n",
    "        attr = 'Esri',\n",
    "        name = 'Esri Satellite',\n",
    "        overlay = True,\n",
    "        control = True\n",
    "       ).add_to(m)\n",
    "\n",
    "folium.LayerControl().add_to(m)\n",
    "display(m)"
   ]
  },
  {
   "cell_type": "code",
   "execution_count": null,
   "metadata": {},
   "outputs": [],
   "source": []
  }
 ],
 "metadata": {
  "kernelspec": {
   "display_name": "Python 3 (ipykernel)",
   "language": "python",
   "name": "python3"
  },
  "language_info": {
   "codemirror_mode": {
    "name": "ipython",
    "version": 3
   },
   "file_extension": ".py",
   "mimetype": "text/x-python",
   "name": "python",
   "nbconvert_exporter": "python",
   "pygments_lexer": "ipython3",
   "version": "3.8.8"
  }
 },
 "nbformat": 4,
 "nbformat_minor": 4
}
