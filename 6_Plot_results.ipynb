{
 "cells": [
  {
   "cell_type": "markdown",
   "metadata": {},
   "source": [
    "# Plotting results of predictions\n",
    "\n",
    "\n",
    "make a map where the pixels are color coded to show which month each pixel has the largest carbon sink"
   ]
  },
  {
   "cell_type": "code",
   "execution_count": null,
   "metadata": {},
   "outputs": [],
   "source": [
    "import xarray as xr\n",
    "import numpy as np\n",
    "from matplotlib import pyplot as plt\n",
    "from datacube.utils.cog import write_cog\n",
    "import odc.geo\n",
    "import folium\n",
    "from odc.geo.xr import assign_crs"
   ]
  },
  {
   "cell_type": "markdown",
   "metadata": {},
   "source": [
    "## Calculate net ecosystem exchange"
   ]
  },
  {
   "cell_type": "code",
   "execution_count": null,
   "metadata": {},
   "outputs": [],
   "source": [
    "# gpp = xr.open_dataarray('/g/data/os22/chad_tmp/NEE_modelling/results/predictions/GPP_2003_2021.nc')\n",
    "# er = xr.open_dataarray('/g/data/os22/chad_tmp/NEE_modelling/results/predictions/ER_2003_2021.nc')\n",
    "# nee = (gpp - er) * -1 # reverse sign so that -ve is carbon sink\n",
    "# nee.name = 'NEE'\n",
    "# nee.to_netcdf('/g/data/os22/chad_tmp/NEE_modelling/results/predictions/NEE_2003_2021.nc')"
   ]
  },
  {
   "cell_type": "markdown",
   "metadata": {},
   "source": [
    "## Analysis Parameters"
   ]
  },
  {
   "cell_type": "code",
   "execution_count": null,
   "metadata": {},
   "outputs": [],
   "source": [
    "var = 'GPP'\n",
    "results_name = 'GPP_2003_2021.nc'\n",
    "data_path = '/g/data/os22/chad_tmp/NEE_modelling/results/prediction_data/prediction_data_2003_2021.nc'"
   ]
  },
  {
   "cell_type": "markdown",
   "metadata": {},
   "source": [
    "### Open predictions"
   ]
  },
  {
   "cell_type": "code",
   "execution_count": null,
   "metadata": {},
   "outputs": [],
   "source": [
    "ds = assign_crs(xr.open_dataarray('/g/data/os22/chad_tmp/NEE_modelling/results/predictions/'+results_name), crs='epsg:4326')"
   ]
  },
  {
   "cell_type": "markdown",
   "metadata": {},
   "source": [
    "### Create a mask"
   ]
  },
  {
   "cell_type": "code",
   "execution_count": null,
   "metadata": {},
   "outputs": [],
   "source": [
    "data = xr.open_dataset(data_path)\n",
    "mask = data.PFT.isnull().any('time')"
   ]
  },
  {
   "cell_type": "markdown",
   "metadata": {},
   "source": [
    "## Facet plots"
   ]
  },
  {
   "cell_type": "code",
   "execution_count": null,
   "metadata": {},
   "outputs": [],
   "source": [
    "year='2011'\n",
    "ds.sel(time=year).plot.imshow(col='time', col_wrap=6, robust=True); #cmap='RdBu_r'"
   ]
  },
  {
   "cell_type": "code",
   "execution_count": null,
   "metadata": {},
   "outputs": [],
   "source": [
    "year='2019'\n",
    "ds.sel(time=year).plot.imshow(col='time', col_wrap=6, robust=True);"
   ]
  },
  {
   "cell_type": "markdown",
   "metadata": {},
   "source": [
    "## Zonal summaries"
   ]
  },
  {
   "cell_type": "code",
   "execution_count": null,
   "metadata": {},
   "outputs": [],
   "source": [
    "ds_1D = ds.sum(['x','y'])"
   ]
  },
  {
   "cell_type": "code",
   "execution_count": null,
   "metadata": {},
   "outputs": [],
   "source": [
    "ds_1D.plot(figsize=(15,5), marker='o', linestyle='--')\n",
    "# plt.axhline(0, c='grey')\n",
    "# plt.ylim(15000000,31000000)\n",
    "plt.title(var)\n",
    "plt.ylabel('gC/m2/month');\n"
   ]
  },
  {
   "cell_type": "code",
   "execution_count": null,
   "metadata": {
    "tags": []
   },
   "outputs": [],
   "source": [
    "ds_1D_annual = ds_1D.resample(time='1Y').sum()\n",
    "ds_1D_annual.plot(figsize=(15,5), marker='o', linestyle='--')\n",
    "# plt.axhline(0, c='grey')\n",
    "plt.title(var)\n",
    "plt.ylabel('gC/m2/year');"
   ]
  },
  {
   "cell_type": "code",
   "execution_count": null,
   "metadata": {},
   "outputs": [],
   "source": [
    "# y = monthly_mean.where(~mask).sum(['x','y']).values\n",
    "# x = monthly_mean.month.values\n",
    "# std = monthly_std.where(~mask).sum(['x','y']).values\n",
    "\n",
    "# fig,ax = plt.subplots(1,1, figsize=(10,5))\n",
    "# ax.plot(x, y, marker='o', linestyle='--')\n",
    "# ax.axhline(0, c='grey')\n",
    "# ax.fill_between(x, y-std, y+std, alpha=0.5)\n",
    "# ax.set_title('Monthly Mean NEE summed over Australia');"
   ]
  },
  {
   "cell_type": "markdown",
   "metadata": {},
   "source": [
    "## Per-pixel summaries"
   ]
  },
  {
   "cell_type": "code",
   "execution_count": null,
   "metadata": {},
   "outputs": [],
   "source": [
    "annual_mean = ds.groupby('time.year').sum().mean('year')\n",
    "annual_std = ds.groupby('time.year').sum().std('year')"
   ]
  },
  {
   "cell_type": "code",
   "execution_count": null,
   "metadata": {},
   "outputs": [],
   "source": [
    "# write_cog(annual_mean, '/g/data/os22/chad_tmp/NEE_modelling/results/predictions/NEE_annual_mean.tif')\n",
    "# write_cog(annual_std, '/g/data/os22/chad_tmp/NEE_modelling/results/predictions/NEE_annual_std.tif')"
   ]
  },
  {
   "cell_type": "code",
   "execution_count": null,
   "metadata": {},
   "outputs": [],
   "source": [
    "fig,ax = plt.subplots(1,2, figsize=(25,10))\n",
    "annual_mean.where(~mask).plot.imshow(ax=ax[0], robust=True)  #cmap='RdBu_r'\n",
    "annual_std.where(~mask).plot.imshow(ax=ax[1], cmap='magma', robust=True)\n",
    "ax[0].set_title('Annual Mean '+var+', 2003-2021')\n",
    "ax[1].set_title('Annual Std. in '+var+', 2003-2021')\n",
    "# plt.suptitle('Annual Mean and Std. Dev. of GPP, 2003-2021')\n",
    "plt.tight_layout();"
   ]
  },
  {
   "cell_type": "code",
   "execution_count": null,
   "metadata": {},
   "outputs": [],
   "source": [
    "monthly_mean = ds.groupby('time.month').mean()\n",
    "monthly_std = ds.groupby('time.month').std()"
   ]
  },
  {
   "cell_type": "code",
   "execution_count": null,
   "metadata": {},
   "outputs": [],
   "source": [
    "monthly_mean.where(~mask).plot.imshow(col='month', col_wrap=6, robust=True); #cmap='RdBu_r'"
   ]
  },
  {
   "cell_type": "code",
   "execution_count": null,
   "metadata": {},
   "outputs": [],
   "source": [
    "monthly_std.where(~mask).plot.imshow(col='month', col_wrap=6,robust=True, cmap='magma');"
   ]
  },
  {
   "cell_type": "code",
   "execution_count": null,
   "metadata": {},
   "outputs": [],
   "source": [
    "y = monthly_mean.where(~mask).mean(['x','y']).values\n",
    "x = monthly_mean.month.values\n",
    "std = monthly_std.where(~mask).mean(['x','y']).values\n",
    "\n",
    "fig,ax = plt.subplots(1,1, figsize=(9,4))\n",
    "ax.plot(x, y, marker='o', linestyle='--')\n",
    "ax.axhline(0, c='grey')\n",
    "ax.fill_between(x, y-std, y+std, alpha=0.5)\n",
    "ax.set_title('Monthly Mean '+var+' averaged over Australia')\n",
    "ax.set_xlabel('Month');\n",
    "ax.set_ylabel('gC/m2/month');\n"
   ]
  },
  {
   "cell_type": "markdown",
   "metadata": {},
   "source": [
    "## Interactive map"
   ]
  },
  {
   "cell_type": "code",
   "execution_count": null,
   "metadata": {},
   "outputs": [],
   "source": [
    "# Create folium Map (ipyleaflet is also supported)\n",
    "m = folium.Map()\n",
    "\n",
    "# Plot each sample image with different colormap\n",
    "annual_mean.where(~mask).odc.add_to(m,robust=True, opacity=1.0)\n",
    "\n",
    "# Zoom map to Australia\n",
    "m.fit_bounds(annual_mean.odc.map_bounds())\n",
    "\n",
    "# tile = folium.TileLayer(\n",
    "#         tiles = 'https://server.arcgisonline.com/ArcGIS/rest/services/World_Imagery/MapServer/tile/{z}/{y}/{x}',\n",
    "#         attr = 'Esri',\n",
    "#         name = 'Esri Satellite',\n",
    "#         overlay = True,\n",
    "#         control = True\n",
    "#        ).add_to(m)\n",
    "\n",
    "folium.LayerControl().add_to(m)\n",
    "display(m)"
   ]
  },
  {
   "cell_type": "markdown",
   "metadata": {},
   "source": [
    "## Fluxcom"
   ]
  },
  {
   "cell_type": "code",
   "execution_count": null,
   "metadata": {},
   "outputs": [],
   "source": [
    "import xarray as xr\n",
    "import numpy as np\n",
    "from matplotlib import pyplot as plt"
   ]
  },
  {
   "cell_type": "code",
   "execution_count": null,
   "metadata": {},
   "outputs": [],
   "source": [
    "var = 'nee'\n",
    "ds = xr.open_dataset('/g/data/os22/chad_tmp/NEE_modelling/data/FLUXCOM/'+var+'_rs_meteo_era5.nc').sel(time=slice('2003','2018'))"
   ]
  },
  {
   "cell_type": "code",
   "execution_count": null,
   "metadata": {},
   "outputs": [],
   "source": [
    "var='NEE'\n",
    "monthly_mean = ds[var].groupby('time.month').mean()\n",
    "monthly_std = ds[var].groupby('time.month').std()\n",
    "\n",
    "y = monthly_mean.mean(['lat','lon']).values\n",
    "x = monthly_mean.month.values\n",
    "std = monthly_std.mean(['lat','lon']).values\n",
    "\n",
    "fig,ax = plt.subplots(1,1, figsize=(9,4))\n",
    "ax.plot(x, y, marker='o', linestyle='--')\n",
    "ax.axhline(0, c='grey')\n",
    "ax.fill_between(x, y-std, y+std, alpha=0.5)\n",
    "ax.set_title('Monthly Mean '+var+' averaged over Australia')\n",
    "ax.set_xlabel('Month');\n",
    "ax.set_ylabel('gC/m2/day');"
   ]
  },
  {
   "cell_type": "code",
   "execution_count": null,
   "metadata": {},
   "outputs": [],
   "source": [
    "y = monthly_mean.mean(['lat','lon']).values\n",
    "x = monthly_mean.month.values\n",
    "std = monthly_std.mean(['lat','lon']).values\n",
    "\n",
    "fig,ax = plt.subplots(1,1, figsize=(9,4))\n",
    "ax.plot(x, y, marker='o', linestyle='--')\n",
    "ax.axhline(0, c='grey')\n",
    "ax.fill_between(x, y-std, y+std, alpha=0.5)\n",
    "ax.set_title('Monthly Mean NEE averaged over Australia')\n",
    "ax.set_xlabel('Month');\n",
    "ax.set_ylabel('gC/m2/month');"
   ]
  },
  {
   "cell_type": "code",
   "execution_count": null,
   "metadata": {},
   "outputs": [],
   "source": []
  },
  {
   "cell_type": "code",
   "execution_count": null,
   "metadata": {},
   "outputs": [],
   "source": []
  },
  {
   "cell_type": "code",
   "execution_count": null,
   "metadata": {
    "tags": []
   },
   "outputs": [],
   "source": [
    "nee_1D = nee.NEE.sum(['lat','lon']) * 30\n",
    "nee_1D.plot(figsize=(15,5), marker='o', linestyle='--')\n",
    "plt.axhline(0, c='grey')\n",
    "plt.title('Fluxcom NEE')\n",
    "plt.ylabel('gC/m2/month');"
   ]
  },
  {
   "cell_type": "code",
   "execution_count": null,
   "metadata": {},
   "outputs": [],
   "source": [
    "nee_1D_annual = nee_1D.resample(time='1Y').sum() * 365 \n",
    "nee_1D_annual.plot(figsize=(15,5), marker='o', linestyle='--')\n",
    "plt.axhline(0, c='grey')\n",
    "plt.title('Fluxcom NEE')\n",
    "plt.ylabel('gC/m2/year');"
   ]
  },
  {
   "cell_type": "code",
   "execution_count": null,
   "metadata": {},
   "outputs": [],
   "source": [
    "year='2011'\n",
    "nee.NEE.sel(time=year).plot.imshow(col='time', col_wrap=6, robust=True, cmap='RdBu_r');"
   ]
  },
  {
   "cell_type": "code",
   "execution_count": null,
   "metadata": {},
   "outputs": [],
   "source": [
    "annual_mean = nee.NEE.groupby('time.year').sum().mean('year')\n",
    "annual_std = nee.NEE.groupby('time.year').sum().std('year')"
   ]
  },
  {
   "cell_type": "code",
   "execution_count": null,
   "metadata": {},
   "outputs": [],
   "source": [
    "# from odc.geo.xr import assign_crs\n",
    "# write_cog(assign_crs(annual_std, crs='epsg:4326'), '/g/data/os22/chad_tmp/NEE_modelling/results/predictions/FUXCOM_NEE_annual_std.tif')"
   ]
  },
  {
   "cell_type": "code",
   "execution_count": null,
   "metadata": {},
   "outputs": [],
   "source": [
    "fig,ax = plt.subplots(1,2, figsize=(25,10))\n",
    "annual_mean.plot.imshow(ax=ax[0], robust=True)\n",
    "annual_std.where(annual_std > 0).plot.imshow(ax=ax[1], cmap='magma', robust=True)\n",
    "ax[0].set_title('Annual Mean NEE, 2000-2018')\n",
    "ax[1].set_title('Annual Std. Dev. in NEE, 2000-2018')\n",
    "plt.tight_layout();"
   ]
  },
  {
   "cell_type": "markdown",
   "metadata": {},
   "source": [
    "## SIF"
   ]
  },
  {
   "cell_type": "code",
   "execution_count": null,
   "metadata": {},
   "outputs": [],
   "source": [
    "import xarray as xr\n",
    "import numpy as np\n",
    "from matplotlib import pyplot as plt"
   ]
  },
  {
   "cell_type": "code",
   "execution_count": null,
   "metadata": {},
   "outputs": [],
   "source": [
    "sif = xr.open_dataarray('/g/data/os22/chad_tmp/NEE_modelling/data/SIF/GOSIF_2000_2020.nc').sel(time=slice('2003','2021'))"
   ]
  },
  {
   "cell_type": "code",
   "execution_count": null,
   "metadata": {
    "tags": []
   },
   "outputs": [],
   "source": [
    "sif_1D = sif.sum(['x','y'])\n",
    "sif_1D.plot(figsize=(15,5), marker='o', linestyle='--')\n",
    "# plt.axhline(0, c='grey')\n",
    "plt.title('GO-SIF');"
   ]
  },
  {
   "cell_type": "code",
   "execution_count": null,
   "metadata": {},
   "outputs": [],
   "source": [
    "sif_1D_annual = sif_1D.resample(time='1Y').sum() \n",
    "sif_1D_annual.plot(figsize=(15,5), marker='o', linestyle='--')\n",
    "# plt.axhline(0, c='grey')\n",
    "plt.title('GOSIF');"
   ]
  },
  {
   "cell_type": "code",
   "execution_count": null,
   "metadata": {},
   "outputs": [],
   "source": []
  }
 ],
 "metadata": {
  "kernelspec": {
   "display_name": "Python 3 (ipykernel)",
   "language": "python",
   "name": "python3"
  },
  "language_info": {
   "codemirror_mode": {
    "name": "ipython",
    "version": 3
   },
   "file_extension": ".py",
   "mimetype": "text/x-python",
   "name": "python",
   "nbconvert_exporter": "python",
   "pygments_lexer": "ipython3",
   "version": "3.8.8"
  }
 },
 "nbformat": 4,
 "nbformat_minor": 4
}
