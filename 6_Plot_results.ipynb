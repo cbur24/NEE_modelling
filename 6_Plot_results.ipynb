{
 "cells": [
  {
   "cell_type": "markdown",
   "metadata": {},
   "source": [
    "# Plotting results of predictions\n",
    "\n",
    "\n"
   ]
  },
  {
   "cell_type": "code",
   "execution_count": null,
   "metadata": {},
   "outputs": [],
   "source": [
    "import xarray as xr\n",
    "import matplotlib.pyplot as plt\n",
    "from datacube.utils.cog import write_cog\n",
    "from matplotlib.colors import ListedColormap\n",
    "import odc.geo\n",
    "from odc.geo.xr import assign_crs\n",
    "import folium\n",
    "\n",
    "import sys\n",
    "sys.path.append('/g/data/os22/chad_tmp/dea-notebooks/Tools')\n",
    "# from dea_tools.temporal import allNaN_arg"
   ]
  },
  {
   "cell_type": "markdown",
   "metadata": {},
   "source": [
    "## Calculate net ecosystem exchange"
   ]
  },
  {
   "cell_type": "code",
   "execution_count": null,
   "metadata": {},
   "outputs": [],
   "source": [
    "# gpp = xr.open_dataarray('/g/data/os22/chad_tmp/NEE_modelling/results/predictions/GPP_2003_2021.nc')\n",
    "# er = xr.open_dataarray('/g/data/os22/chad_tmp/NEE_modelling/results/predictions/ER_2003_2021.nc')\n",
    "# nee = er - gpp # reverse sign so that -ve is carbon sink\n",
    "# nee.name = 'NEE'\n",
    "# nee.to_netcdf('/g/data/os22/chad_tmp/NEE_modelling/results/predictions/NEE_2003_2021.nc')"
   ]
  },
  {
   "cell_type": "markdown",
   "metadata": {},
   "source": [
    "## Analysis Parameters"
   ]
  },
  {
   "cell_type": "code",
   "execution_count": null,
   "metadata": {},
   "outputs": [],
   "source": [
    "var = 'NEE'\n",
    "results_name = 'NEE_2003_2021_LGBM.nc'\n",
    "data_path = '/g/data/os22/chad_tmp/NEE_modelling/results/prediction_data/prediction_data_2003_2021.nc'"
   ]
  },
  {
   "cell_type": "markdown",
   "metadata": {},
   "source": [
    "### Open predictions"
   ]
  },
  {
   "cell_type": "code",
   "execution_count": null,
   "metadata": {},
   "outputs": [],
   "source": [
    "ds = xr.open_dataarray('/g/data/os22/chad_tmp/NEE_modelling/results/predictions/'+results_name)\n",
    "# ds = xr.open_dataarray('/g/data/os22/chad_tmp/NEE_modelling/data/5km/GOSIF_GPP_5km_monthly_2002_2021.nc')"
   ]
  },
  {
   "cell_type": "markdown",
   "metadata": {},
   "source": [
    "### Create a mask"
   ]
  },
  {
   "cell_type": "code",
   "execution_count": null,
   "metadata": {},
   "outputs": [],
   "source": [
    "data = xr.open_dataset(data_path)\n",
    "# mask = data.LAI.isnull().any('time')"
   ]
  },
  {
   "cell_type": "markdown",
   "metadata": {},
   "source": [
    "## Facet plots"
   ]
  },
  {
   "cell_type": "code",
   "execution_count": null,
   "metadata": {},
   "outputs": [],
   "source": [
    "year='2011'\n",
    "ds.sel(time=year).plot.imshow(col='time', col_wrap=6, robust=True); "
   ]
  },
  {
   "cell_type": "code",
   "execution_count": null,
   "metadata": {},
   "outputs": [],
   "source": [
    "year='2019'\n",
    "ds.sel(time=year).plot.imshow(col='time', col_wrap=6,  robust=True);"
   ]
  },
  {
   "cell_type": "markdown",
   "metadata": {},
   "source": [
    "## Zonal summaries"
   ]
  },
  {
   "cell_type": "code",
   "execution_count": null,
   "metadata": {},
   "outputs": [],
   "source": [
    "ds_1D = ds.sum(['x','y'])\n",
    "# ds_1D = ds.sum(['latitude','longitude'])"
   ]
  },
  {
   "cell_type": "code",
   "execution_count": null,
   "metadata": {},
   "outputs": [],
   "source": [
    "ds_1D.plot(figsize=(15,5), marker='o', linestyle='--')\n",
    "plt.axhline(0, c='grey')\n",
    "# plt.ylim(15000000,31000000)\n",
    "plt.title(var)\n",
    "plt.ylabel('gC/m2/month');\n"
   ]
  },
  {
   "cell_type": "code",
   "execution_count": null,
   "metadata": {
    "tags": []
   },
   "outputs": [],
   "source": [
    "ds_1D_annual = ds.resample(time='1Y').sum().sum(['x','y'])\n",
    "ds_1D_annual.plot(figsize=(15,5), marker='o', linestyle='--')\n",
    "# plt.axhline(0, c='grey')\n",
    "# plt.ylim(-3.0e7,-1.0e7)\n",
    "plt.title\n",
    "plt.title(var)\n",
    "plt.ylabel('gC/m2/year');"
   ]
  },
  {
   "cell_type": "code",
   "execution_count": null,
   "metadata": {},
   "outputs": [],
   "source": [
    "# y = monthly_mean.where(~mask).sum(['x','y']).values\n",
    "# x = monthly_mean.month.values\n",
    "# std = monthly_std.where(~mask).sum(['x','y']).values\n",
    "\n",
    "# fig,ax = plt.subplots(1,1, figsize=(10,5))\n",
    "# ax.plot(x, y, marker='o', linestyle='--')\n",
    "# ax.axhline(0, c='grey')\n",
    "# ax.fill_between(x, y-std, y+std, alpha=0.5)\n",
    "# ax.set_title('Monthly Mean NEE summed over Australia');"
   ]
  },
  {
   "cell_type": "markdown",
   "metadata": {},
   "source": [
    "## Per-pixel summaries"
   ]
  },
  {
   "cell_type": "code",
   "execution_count": null,
   "metadata": {},
   "outputs": [],
   "source": [
    "annual_mean = ds.groupby('time.year').sum().mean('year')\n",
    "annual_std = ds.groupby('time.year').sum().std('year')\n",
    "scaled_variance = annual_std / annual_mean"
   ]
  },
  {
   "cell_type": "code",
   "execution_count": null,
   "metadata": {},
   "outputs": [],
   "source": [
    "# write_cog(annual_mean, '/g/data/os22/chad_tmp/NEE_modelling/results/predictions/NEE_annual_mean.tif')\n",
    "# write_cog(annual_std, '/g/data/os22/chad_tmp/NEE_modelling/results/predictions/NEE_annual_std.tif')"
   ]
  },
  {
   "cell_type": "code",
   "execution_count": null,
   "metadata": {},
   "outputs": [],
   "source": [
    "fig,ax = plt.subplots(1,3, figsize=(25,7), sharey=True)\n",
    "annual_mean.where(annual_mean>0).plot.imshow(ax=ax[0], vmax=2000)  #cmap='RdBu_r'\n",
    "annual_std.where(annual_std>0).plot.imshow(ax=ax[1], cmap='magma', robust=True)\n",
    "np.absolute(scaled_variance).plot.imshow(ax=ax[2], cmap='magma', vmax=0.6)\n",
    "ax[0].set_title('Annual Mean of '+var+', 2003-2021')\n",
    "ax[1].set_title('Annual Std.Dev. in '+var+', 2003-2021')\n",
    "ax[2].set_title('Coefficient of Variation, '+var+', 2003-2021')\n",
    "# plt.suptitle('Annual Mean and Std. Dev. of GPP, 2003-2021')\n",
    "plt.tight_layout();"
   ]
  },
  {
   "cell_type": "code",
   "execution_count": null,
   "metadata": {},
   "outputs": [],
   "source": [
    "monthly_mean = ds.groupby('time.month').mean()\n",
    "monthly_season = ds.groupby('time.season').mean()\n",
    "monthly_std = ds.groupby('time.month').std()\n",
    "cv_monthly = monthly_std / monthly_mean"
   ]
  },
  {
   "cell_type": "code",
   "execution_count": null,
   "metadata": {},
   "outputs": [],
   "source": [
    "if var == 'NEE':\n",
    "    max_mean_month = allNaN_arg(monthly_mean, 'month', 'min')\n",
    "    max_mean_season = allNaN_arg(monthly_season, 'season', 'min')\n",
    "else:\n",
    "    max_mean_month = allNaN_arg(monthly_mean, 'month', 'max')\n",
    "    max_mean_season = allNaN_arg(monthly_season, 'season', 'max')"
   ]
  },
  {
   "cell_type": "code",
   "execution_count": null,
   "metadata": {},
   "outputs": [],
   "source": [
    "fig,ax = plt.subplots(1,2, figsize=(25,10), sharey=True)\n",
    "\n",
    "im = max_mean_month.plot.imshow(vmin=1, vmax=12, ax=ax[0], cmap='twilight', add_colorbar=False)\n",
    "cbar = plt.colorbar(im, spacing='uniform', ax=ax[0])\n",
    "cbar.set_ticks([1,2,3,4,5,6,7,8,9,10,11,12])\n",
    "cbar.set_ticklabels([\"J\",\"F\",\"M\",\"A\",\"M\",\"J\",\"J\",\"A\",\"S\",\"O\",\"N\",\"D\"])\n",
    "ax[0].set_title('Month of maximum '+var);\n",
    "\n",
    "cmap = ListedColormap(['lightsteelblue', 'cornflowerblue', 'royalblue', 'darkblue'])\n",
    "im1 = max_mean_season.plot.imshow(vmin=1, vmax=4, cmap=cmap, add_colorbar=False, ax=ax[1])\n",
    "cbar1 = plt.colorbar(im1, spacing='uniform', ax=ax[1])\n",
    "cbar1.set_ticks([1, 2, 3, 4])\n",
    "cbar1.set_ticklabels([\"DJF\", \"MAM\", \"JJA\", \"SON\"])\n",
    "ax[1].set_title('Season of maximum '+var)\n",
    "plt.tight_layout();"
   ]
  },
  {
   "cell_type": "code",
   "execution_count": null,
   "metadata": {},
   "outputs": [],
   "source": [
    "# monthly_mean.where(~mask).plot.imshow(col='month', col_wrap=6, robust=True); #cmap='RdBu_r'"
   ]
  },
  {
   "cell_type": "code",
   "execution_count": null,
   "metadata": {},
   "outputs": [],
   "source": [
    "# monthly_std.where(~mask).plot.imshow(col='month', col_wrap=6,robust=True, cmap='magma');"
   ]
  },
  {
   "cell_type": "code",
   "execution_count": null,
   "metadata": {},
   "outputs": [],
   "source": [
    "# np.absolute(cv_monthly).where(~mask).plot.imshow(col='month', col_wrap=6,robust=True, cmap='magma');"
   ]
  },
  {
   "cell_type": "code",
   "execution_count": null,
   "metadata": {},
   "outputs": [],
   "source": [
    "y = monthly_mean.where(~mask).mean(['x','y']).values\n",
    "x = monthly_mean.month.values\n",
    "std = monthly_std.where(~mask).mean(['x','y']).values\n",
    "\n",
    "fig,ax = plt.subplots(1,1, figsize=(9,4))\n",
    "ax.plot(x, y, marker='o', linestyle='--')\n",
    "ax.axhline(0, c='grey')\n",
    "ax.fill_between(x, y-std, y+std, alpha=0.5)\n",
    "ax.set_title('Monthly Mean '+var+' averaged over Australia')\n",
    "ax.set_xlabel('Month');\n",
    "ax.set_ylabel('gC/m2/month');\n"
   ]
  },
  {
   "cell_type": "markdown",
   "metadata": {},
   "source": [
    "## Interactive map"
   ]
  },
  {
   "cell_type": "code",
   "execution_count": null,
   "metadata": {},
   "outputs": [],
   "source": [
    "# Create folium Map (ipyleaflet is also supported)\n",
    "m = folium.Map()\n",
    "\n",
    "# Plot each sample image with different colormap\n",
    "# max_mean_month.plot.imshow(vmin=1, vmax=12, ax=ax[0], cmap='twilight', add_colorbar=False)\n",
    "np.absolute(scaled_variance).where(~mask).odc.add_to(m, opacity=1.0, cmap='magma', vmax=2)\n",
    "# assign_crs(max_mean_month, crs='epsg:4326').where(~mask).odc.add_to(m, opacity=1.0, cmap='twilight', vmin=1, vmax=12)\n",
    "\n",
    "\n",
    "# Zoom map to Australia\n",
    "m.fit_bounds(annual_mean.odc.map_bounds())\n",
    "\n",
    "tile = folium.TileLayer(\n",
    "        tiles = 'https://server.arcgisonline.com/ArcGIS/rest/services/World_Imagery/MapServer/tile/{z}/{y}/{x}',\n",
    "        attr = 'Esri',\n",
    "        name = 'Esri Satellite',\n",
    "        overlay = True,\n",
    "        control = True\n",
    "       ).add_to(m)\n",
    "\n",
    "folium.LayerControl().add_to(m)\n",
    "display(m)"
   ]
  },
  {
   "cell_type": "markdown",
   "metadata": {},
   "source": [
    "## Fluxcom"
   ]
  },
  {
   "cell_type": "code",
   "execution_count": null,
   "metadata": {},
   "outputs": [],
   "source": [
    "import xarray as xr\n",
    "import numpy as np\n",
    "from matplotlib import pyplot as plt"
   ]
  },
  {
   "cell_type": "code",
   "execution_count": null,
   "metadata": {},
   "outputs": [],
   "source": [
    "var = 'nee'\n",
    "ds_fc = xr.open_dataset('/g/data/os22/chad_tmp/NEE_modelling/data/FLUXCOM/'+var+'_rs_meteo_era5.nc').sel(time=slice('2003','2018'))"
   ]
  },
  {
   "cell_type": "code",
   "execution_count": null,
   "metadata": {},
   "outputs": [],
   "source": [
    "var='NEE'\n",
    "monthly_mean = ds[var].groupby('time.month').mean()\n",
    "monthly_std = ds[var].groupby('time.month').std()\n",
    "\n",
    "y = monthly_mean.mean(['lat','lon']).values\n",
    "x = monthly_mean.month.values\n",
    "std = monthly_std.mean(['lat','lon']).values\n",
    "\n",
    "fig,ax = plt.subplots(1,1, figsize=(9,4))\n",
    "ax.plot(x, y, marker='o', linestyle='--')\n",
    "ax.axhline(0, c='grey')\n",
    "ax.fill_between(x, y-std, y+std, alpha=0.5)\n",
    "ax.set_title('Monthly Mean '+var+' averaged over Australia')\n",
    "ax.set_xlabel('Month');\n",
    "ax.set_ylabel('gC/m2/day');"
   ]
  },
  {
   "cell_type": "code",
   "execution_count": null,
   "metadata": {},
   "outputs": [],
   "source": [
    "nee_1D = (ds_fc.NEE*30).sum(['lat','lon'])"
   ]
  },
  {
   "cell_type": "code",
   "execution_count": null,
   "metadata": {},
   "outputs": [],
   "source": [
    "from sklearn.preprocessing import MinMaxScaler\n",
    "\n",
    "scaler = MinMaxScaler(feature_range=(-1, 1))\n",
    "scaler = scaler.fit(nee_1D.values.reshape(-1, 1))\n",
    "print('Min: %f, Max: %f' % (scaler.data_min_, scaler.data_max_))\n",
    "# normalize the dataset and print the first 5 rows\n",
    "normalized_fluxcom = scaler.transform(nee_1D.values.reshape(-1, 1))\n",
    "\n",
    "# scaler = MinMaxScaler(feature_range=(-1, 1))\n",
    "# scaler = scaler.fit(ds_1D.values.reshape(-1, 1))\n",
    "\n",
    "# normalize the dataset and print the first 5 rows\n",
    "normalized_chad = scaler.transform(ds_1D.values.reshape(-1, 1))"
   ]
  },
  {
   "cell_type": "code",
   "execution_count": null,
   "metadata": {
    "tags": []
   },
   "outputs": [],
   "source": [
    "fig, ax = plt.subplots(1,1, figsize=(15,5))\n",
    "ax.plot(nee_1D.time.values, normalized_fluxcom, marker='o', linestyle='--')\n",
    "ax.plot(ds_1D.time.values, normalized_chad, marker='o', linestyle='--')\n",
    "# plt.axhline(0, c='grey')\n",
    "plt.title('Fluxcom NEE')\n",
    "plt.ylabel('gC/m2/month');"
   ]
  },
  {
   "cell_type": "code",
   "execution_count": null,
   "metadata": {},
   "outputs": [],
   "source": [
    "nee_1D_annual = (ds_fc.NEE*30).resample(time='1Y').sum()\n",
    "nee_1D_annual.sum(['lat','lon']).plot()\n",
    "ds_1D_annual.plot()"
   ]
  },
  {
   "cell_type": "code",
   "execution_count": null,
   "metadata": {},
   "outputs": [],
   "source": [
    "scaler = MinMaxScaler(feature_range=(-1, 1))\n",
    "scaler = scaler.fit(nee_1D_annual.values.reshape(-1, 1))\n",
    "print('Min: %f, Max: %f' % (scaler.data_min_, scaler.data_max_))\n",
    "# normalize the dataset and print the first 5 rows\n",
    "normalized_fluxcom_annual = scaler.transform(nee_1D_annual.values.reshape(-1, 1))\n",
    "\n",
    "# scaler = MinMaxScaler(feature_range=(-1, 1))\n",
    "# scaler = scaler.fit(ds_1D_annual.values.reshape(-1, 1))\n",
    "\n",
    "# normalize the dataset and print the first 5 rows\n",
    "normalized_chad_annual = scaler.transform(ds_1D_annual.values.reshape(-1, 1))"
   ]
  },
  {
   "cell_type": "code",
   "execution_count": null,
   "metadata": {},
   "outputs": [],
   "source": [
    "fig, ax = plt.subplots(1,1, figsize=(15,5))\n",
    "ax.plot(nee_1D_annual.time.values, normalized_fluxcom_annual, marker='o', linestyle='--')\n",
    "ax.plot(ds_1D_annual.time.values, normalized_chad_annual, marker='o', linestyle='--')\n",
    "plt.axhline(0, c='grey')\n",
    "plt.title('Fluxcom NEE')\n",
    "plt.ylabel('gC/m2/year');"
   ]
  },
  {
   "cell_type": "code",
   "execution_count": null,
   "metadata": {},
   "outputs": [],
   "source": []
  },
  {
   "cell_type": "code",
   "execution_count": null,
   "metadata": {},
   "outputs": [],
   "source": [
    "year='2011'\n",
    "nee.NEE.sel(time=year).plot.imshow(col='time', col_wrap=6, robust=True, cmap='RdBu_r');"
   ]
  },
  {
   "cell_type": "code",
   "execution_count": null,
   "metadata": {},
   "outputs": [],
   "source": [
    "annual_mean = ds.NEE.groupby('time.year').sum().mean('year')\n",
    "annual_std = ds.NEE.groupby('time.year').sum().std('year')\n",
    "scaled_variance = annual_std / annual_mean"
   ]
  },
  {
   "cell_type": "code",
   "execution_count": null,
   "metadata": {},
   "outputs": [],
   "source": [
    "# from odc.geo.xr import assign_crs\n",
    "# write_cog(assign_crs(annual_std, crs='epsg:4326'), '/g/data/os22/chad_tmp/NEE_modelling/results/predictions/FUXCOM_NEE_annual_std.tif')"
   ]
  },
  {
   "cell_type": "code",
   "execution_count": null,
   "metadata": {},
   "outputs": [],
   "source": [
    "fig,ax = plt.subplots(1,3, figsize=(25,7), sharey=True)\n",
    "annual_mean.plot.imshow(ax=ax[0], robust=True)  #cmap='RdBu_r'\n",
    "annual_std.where(annual_std>0).plot.imshow(ax=ax[1], cmap='magma', robust=True)\n",
    "np.absolute(scaled_variance).plot.imshow(ax=ax[2], cmap='magma', vmax=1.5)\n",
    "ax[0].set_title('Annual Mean of '+var+', 2003-2018')\n",
    "ax[1].set_title('Annual Std.Dev. in '+var+', 2003-2018')\n",
    "ax[2].set_title('Coefficient of Variation, '+var+', 2003-2018')\n",
    "# plt.suptitle('Annual Mean and Std. Dev. of GPP, 2003-2021')\n",
    "plt.tight_layout();\n"
   ]
  },
  {
   "cell_type": "markdown",
   "metadata": {},
   "source": [
    "## SIF"
   ]
  },
  {
   "cell_type": "code",
   "execution_count": null,
   "metadata": {},
   "outputs": [],
   "source": [
    "import xarray as xr\n",
    "import numpy as np\n",
    "from matplotlib import pyplot as plt"
   ]
  },
  {
   "cell_type": "code",
   "execution_count": null,
   "metadata": {},
   "outputs": [],
   "source": [
    "sif = xr.open_dataarray('/g/data/os22/chad_tmp/NEE_modelling/data/1km/MODIS_GPP_1km_monthly_2002_2021.nc').sel(time=slice('2003','2021'))"
   ]
  },
  {
   "cell_type": "code",
   "execution_count": null,
   "metadata": {
    "tags": []
   },
   "outputs": [],
   "source": [
    "sif_1D = sif.sum(['latitude','longitude'])\n",
    "sif_1D.plot(figsize=(15,5), marker='o', linestyle='--')\n",
    "# plt.axhline(0, c='grey')\n",
    "plt.title('GO-SIF');"
   ]
  },
  {
   "cell_type": "code",
   "execution_count": null,
   "metadata": {},
   "outputs": [],
   "source": [
    "sif_1D_annual = sif_1D.resample(time='1Y').sum() \n",
    "sif_1D_annual.plot(figsize=(15,5), marker='o', linestyle='--')\n",
    "# plt.axhline(0, c='grey')\n",
    "plt.title('GOSIF');"
   ]
  },
  {
   "cell_type": "code",
   "execution_count": null,
   "metadata": {},
   "outputs": [],
   "source": []
  }
 ],
 "metadata": {
  "kernelspec": {
   "display_name": "Python 3 (ipykernel)",
   "language": "python",
   "name": "python3"
  },
  "language_info": {
   "codemirror_mode": {
    "name": "ipython",
    "version": 3
   },
   "file_extension": ".py",
   "mimetype": "text/x-python",
   "name": "python",
   "nbconvert_exporter": "python",
   "pygments_lexer": "ipython3",
   "version": "3.8.8"
  }
 },
 "nbformat": 4,
 "nbformat_minor": 4
}
