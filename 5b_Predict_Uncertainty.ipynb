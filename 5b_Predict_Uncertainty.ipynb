{
 "cells": [
  {
   "cell_type": "markdown",
   "metadata": {},
   "source": [
    "# Predicting Uncertainty\n",
    "\n",
    "Using the 30 models produced in `4c_Uncertainty_LGBM_model.ipynb`, we will generate an ensemble of 30 predictions. From this ensemble we will produce an uncertainty envelope, and a median prediction.\n"
   ]
  },
  {
   "cell_type": "code",
   "execution_count": null,
   "metadata": {},
   "outputs": [],
   "source": [
    "import sys\n",
    "import os\n",
    "import xarray as xr\n",
    "import numpy as np\n",
    "import pandas as pd\n",
    "from joblib import load\n",
    "from odc.geo.geobox import zoom_out\n",
    "from odc.algo import xr_reproject\n",
    "from datacube.utils.dask import start_local_dask\n",
    "from odc.geo.xr import assign_crs\n",
    "import odc.geo.xr\n",
    "# from dask.distributed import Client,Scheduler\n",
    "# from dask_jobqueue import SLURMCluster\n",
    "\n",
    "sys.path.append('/g/data/os22/chad_tmp/NEE_modelling/')\n",
    "from collect_prediction_data import round_coords#, collect_prediction_data, \n",
    "\n",
    "sys.path.append('/g/data/os22/chad_tmp/dea-notebooks/Tools/')\n",
    "from dea_tools.classification import predict_xr, HiddenPrints"
   ]
  },
  {
   "cell_type": "code",
   "execution_count": null,
   "metadata": {},
   "outputs": [],
   "source": [
    "# cluster = SLURMCluster(processes=2, cores=2, memory=\"47GB\", walltime='02:00:00')\n",
    "# client = Client(cluster)\n",
    "# cluster.scale(cores=18)\n",
    "\n",
    "client = start_local_dask(mem_safety_margin='2Gb')\n",
    "client"
   ]
  },
  {
   "cell_type": "markdown",
   "metadata": {},
   "source": [
    "## Analysis Parameters"
   ]
  },
  {
   "cell_type": "code",
   "execution_count": null,
   "metadata": {},
   "outputs": [],
   "source": [
    "var = 'NEE'\n",
    "suffix='20230109'\n",
    "results_path = '/g/data/os22/chad_tmp/NEE_modelling/results/predictions_uncertainty/'+var+'/'\n",
    "models_folder = '/g/data/os22/chad_tmp/NEE_modelling/results/models_uncertainty/'+var+'/'\n",
    "features_list = '/g/data/os22/chad_tmp/NEE_modelling/results/variables_'+suffix+'.txt'\n",
    "\n",
    "t1, t2='2003','2021'\n",
    "rescale=False"
   ]
  },
  {
   "cell_type": "markdown",
   "metadata": {},
   "source": [
    "## Get paths to models"
   ]
  },
  {
   "cell_type": "code",
   "execution_count": null,
   "metadata": {},
   "outputs": [],
   "source": [
    "model_list = [file for file in os.listdir(models_folder) if file.endswith(\".joblib\")]"
   ]
  },
  {
   "cell_type": "markdown",
   "metadata": {},
   "source": [
    "## Open predictor data"
   ]
  },
  {
   "cell_type": "code",
   "execution_count": null,
   "metadata": {},
   "outputs": [],
   "source": [
    "data = xr.open_dataset('/g/data/os22/chad_tmp/NEE_modelling/results/prediction_data/data_5km.nc')\n",
    "mask = xr.open_dataarray('/g/data/os22/chad_tmp/NEE_modelling/results/prediction_data/mask_5km.nc')"
   ]
  },
  {
   "cell_type": "markdown",
   "metadata": {},
   "source": [
    "### Check training and prediction variable order"
   ]
  },
  {
   "cell_type": "code",
   "execution_count": null,
   "metadata": {},
   "outputs": [],
   "source": [
    "train_vars = list(pd.read_csv(features_list))[0:-1]\n",
    "train_vars=[i[:-3] for i in train_vars]\n",
    "\n",
    "data = data[train_vars]\n",
    "\n",
    "if train_vars == list(data.data_vars):\n",
    "    print('Variables match, n: ', len(data.data_vars))\n",
    "else:\n",
    "    raise ValueError('Variables dont match')"
   ]
  },
  {
   "cell_type": "markdown",
   "metadata": {},
   "source": [
    "### Predict each time-step seperately\n",
    "\n",
    "- TO DO: fix timesteps that come back from `predict_xr`"
   ]
  },
  {
   "cell_type": "code",
   "execution_count": null,
   "metadata": {},
   "outputs": [],
   "source": [
    "import warnings\n",
    "warnings.filterwarnings(\"ignore\")\n",
    "\n",
    "# Loop through the 30 models\n",
    "for m in model_list:\n",
    "    name = m.split('.')[0]\n",
    "    \n",
    "    if os.path.exists(results_path+name+'.nc'):\n",
    "        print('skipping model '+name)\n",
    "        continue\n",
    "    \n",
    "    print('Model: ', name)\n",
    "    \n",
    "    model = load(models_folder+m).set_params(n_jobs=1)\n",
    "    \n",
    "    results = []\n",
    "    i=0\n",
    "    #loop through the time-steps\n",
    "    for i in range(0, len(data.time)): \n",
    "        print(\"  {:03}/{:03}\\r\".format(i + 1, len(range(0, len(data.time)))), end=\"\")\n",
    "\n",
    "        with HiddenPrints():\n",
    "            predicted = predict_xr(model,\n",
    "                                data.isel(time=i),\n",
    "                                proba=False,\n",
    "                                clean=True,\n",
    "                                  ).compute()\n",
    "\n",
    "        predicted = predicted.Predictions.where(~mask.isel(time=i).compute())\n",
    "        predicted['time'] = data.isel(time=i).time.values\n",
    "        results.append(predicted.astype('float32'))\n",
    "        i+=1 \n",
    "        \n",
    "    ds = xr.concat(results, dim='time').sortby('time').rename(var).astype('float32')\n",
    "    \n",
    "    #mask landcover\n",
    "    mask1 = xr.open_dataarray('/g/data/os22/chad_tmp/NEE_modelling/data/urban_mask_1km.nc')\n",
    "    mask1 = xr_reproject(mask1, geobox=data.odc.geobox.compat, resampling='mode')\n",
    "    mask1=round_coords(mask1)\n",
    "    mask1 = mask1.rename({'latitude':'y', 'longitude':'x'})\n",
    "    ds = ds.where(~mask1).astype('float32')\n",
    "\n",
    "    #save results\n",
    "    ds.to_netcdf(results_path+name+'.nc')\n",
    "    "
   ]
  },
  {
   "cell_type": "markdown",
   "metadata": {},
   "source": [
    "## Combine all the predictions\n",
    "\n",
    "Ran 30 predictions, now its time to open and plot all of them.\n",
    "\n",
    "Then we extract the interquartile range\n",
    "\n",
    "Save as a netcdf to faciliate quick plotting later"
   ]
  },
  {
   "cell_type": "code",
   "execution_count": null,
   "metadata": {},
   "outputs": [],
   "source": [
    "import os\n",
    "import xarray as xr\n",
    "import numpy as np\n",
    "import pandas as pd\n",
    "import matplotlib.pyplot as plt"
   ]
  },
  {
   "cell_type": "code",
   "execution_count": null,
   "metadata": {},
   "outputs": [],
   "source": [
    "!rm -r -f /g/data/os22/chad_tmp/NEE_modelling/results/predictions_uncertainty/.ipynb_checkpoints"
   ]
  },
  {
   "cell_type": "code",
   "execution_count": null,
   "metadata": {},
   "outputs": [],
   "source": [
    "base = '/g/data/os22/chad_tmp/NEE_modelling/results/predictions_uncertainty/'+var+'/'\n",
    "files = os.listdir(base)"
   ]
  },
  {
   "cell_type": "code",
   "execution_count": null,
   "metadata": {},
   "outputs": [],
   "source": [
    "pred_filepaths = [base+i for i in files]"
   ]
  },
  {
   "cell_type": "markdown",
   "metadata": {},
   "source": [
    "### plot all results"
   ]
  },
  {
   "cell_type": "code",
   "execution_count": null,
   "metadata": {},
   "outputs": [],
   "source": [
    "fig,ax = plt.subplots(1,1, figsize=(15, 5))\n",
    "for pred in pred_filepaths:\n",
    "    ds=xr.open_dataarray(pred)\n",
    "    ds.sum(['x','y']).plot(ax=ax, alpha=0.25, c='lightskyblue')\n",
    "\n",
    "ds = xr.open_dataarray('/g/data/os22/chad_tmp/NEE_modelling/results/predictions/'+var+'_2003_2021_5km_LGBM_'+suffix+'.nc')\n",
    "ds.sum(['x','y']).plot(ax=ax, c='darkblue', label='lgbm w/ all training data')\n",
    "plt.axhline(0, c='grey', linestyle='--')\n",
    "plt.title('Ensembles')\n",
    "ax.legend()"
   ]
  },
  {
   "cell_type": "markdown",
   "metadata": {},
   "source": [
    "### Find interquantile range"
   ]
  },
  {
   "cell_type": "code",
   "execution_count": null,
   "metadata": {},
   "outputs": [],
   "source": [
    "arrs=[]\n",
    "for pred in pred_filepaths:\n",
    "    ds=xr.open_dataarray(pred)\n",
    "    arrs.append(ds.rename(pred[-8:-3]))"
   ]
  },
  {
   "cell_type": "code",
   "execution_count": null,
   "metadata": {},
   "outputs": [],
   "source": [
    "ds = xr.merge(arrs)\n",
    "ds = ds.to_array()"
   ]
  },
  {
   "cell_type": "code",
   "execution_count": null,
   "metadata": {},
   "outputs": [],
   "source": [
    "import sys\n",
    "sys.path.append('/g/data/os22/chad_tmp/NEE_modelling/')\n",
    "from _percentile import xr_quantile"
   ]
  },
  {
   "cell_type": "code",
   "execution_count": null,
   "metadata": {},
   "outputs": [],
   "source": [
    "ds = xr_quantile(ds, quantiles=[0.25,0.75], nodata=np.nan)"
   ]
  },
  {
   "cell_type": "code",
   "execution_count": null,
   "metadata": {},
   "outputs": [],
   "source": [
    "fig,ax = plt.subplots(1,1, figsize=(15, 5))\n",
    "ds.band.sel(quantile=0.25).sum(['x','y']).plot(ax=ax, alpha=0.5, c='lightskyblue', label='0.25')\n",
    "ds.band.sel(quantile=0.75).sum(['x','y']).plot(ax=ax, alpha=0.5, c='lightskyblue', label='0.75')\n",
    "\n",
    "da = xr.open_dataarray('/g/data/os22/chad_tmp/NEE_modelling/results/predictions/'+var+'_2003_2021_5km_LGBM_'+suffix+'.nc')\n",
    "da.sum(['x','y']).plot(ax=ax, c='darkblue')\n",
    "plt.axhline(0, c='grey', linestyle='--')\n",
    "ax.legend()"
   ]
  },
  {
   "cell_type": "code",
   "execution_count": null,
   "metadata": {},
   "outputs": [],
   "source": [
    "ds = ds.rename({'band':'NEE_quantiles'}).to_array().squeeze().drop('variable')\n",
    "ds.attrs['nodata']=np.nan"
   ]
  },
  {
   "cell_type": "code",
   "execution_count": null,
   "metadata": {},
   "outputs": [],
   "source": [
    "ds.to_netcdf('/g/data/os22/chad_tmp/NEE_modelling/results/predictions/NEE_2003_2021_5km_LGBM_quantiles.nc')x"
   ]
  },
  {
   "cell_type": "code",
   "execution_count": null,
   "metadata": {},
   "outputs": [],
   "source": [
    "# ds.sel(quantile=0.75).isel(time=1).plot.imshow(size=10, robust=True)"
   ]
  },
  {
   "cell_type": "markdown",
   "metadata": {},
   "source": [
    "### Map per-pixel deviation in predictions"
   ]
  },
  {
   "cell_type": "code",
   "execution_count": null,
   "metadata": {},
   "outputs": [],
   "source": [
    "import os\n",
    "import xarray as xr\n",
    "import numpy as np\n",
    "import pandas as pd\n",
    "import matplotlib.pyplot as plt\n",
    "from odc.algo import xr_reproject\n",
    "from odc.geo.xr import assign_crs\n",
    "import odc.geo.xr\n"
   ]
  },
  {
   "cell_type": "code",
   "execution_count": null,
   "metadata": {},
   "outputs": [],
   "source": [
    "from dask.distributed import Client,Scheduler\n",
    "from dask_jobqueue import SLURMCluster\n",
    "cluster = SLURMCluster(processes=2, cores=2, memory=\"47GB\", walltime='02:00:00')\n",
    "client = Client(cluster)\n",
    "cluster.scale(cores=18)\n",
    "\n",
    "# from datacube.utils.dask import start_local_dask\n",
    "# client = start_local_dask(mem_safety_margin='2Gb')\n"
   ]
  },
  {
   "cell_type": "code",
   "execution_count": null,
   "metadata": {},
   "outputs": [],
   "source": [
    "client"
   ]
  },
  {
   "cell_type": "code",
   "execution_count": null,
   "metadata": {},
   "outputs": [],
   "source": [
    "# !rm -r -f /g/data/os22/chad_tmp/NEE_modelling/results/predictions_uncertainty/.ipynb_checkpointsmedian_abs_deviation"
   ]
  },
  {
   "cell_type": "code",
   "execution_count": null,
   "metadata": {},
   "outputs": [],
   "source": [
    "base = '/g/data/os22/chad_tmp/NEE_modelling/results/predictions_uncertainty/'\n",
    "files = os.listdir(base)"
   ]
  },
  {
   "cell_type": "code",
   "execution_count": null,
   "metadata": {},
   "outputs": [],
   "source": [
    "pred_filepaths = [base+i for i in files]"
   ]
  },
  {
   "cell_type": "markdown",
   "metadata": {},
   "source": [
    "### Convert to PgC/year"
   ]
  },
  {
   "cell_type": "code",
   "execution_count": null,
   "metadata": {},
   "outputs": [],
   "source": [
    "geobox = ds=xr.open_dataarray(pred_filepaths[0]).odc.geobox\n",
    "grid = geobox.to_crs('EPSG:3577')"
   ]
  },
  {
   "cell_type": "code",
   "execution_count": null,
   "metadata": {},
   "outputs": [],
   "source": [
    "i=0\n",
    "arrs=[]\n",
    "for pred in pred_filepaths:\n",
    "    print(\" {:03}/{:03}\\r\".format(i+1, len(pred_filepaths)), end=\"\")\n",
    "    ds=xr.open_dataarray(pred)\n",
    "    ds = xr_reproject(ds, geobox=grid.compat, resampling='bilinear')\n",
    "    area_per_pixel = ds.geobox.resolution[1]**2\n",
    "    ds = ds * area_per_pixel * 1e-15 * 12\n",
    "    ds = ds.groupby('time.year').sum().mean('year')\n",
    "    arrs.append(ds.rename(pred[-8:-3]))\n",
    "    i+=1"
   ]
  },
  {
   "cell_type": "code",
   "execution_count": null,
   "metadata": {},
   "outputs": [],
   "source": [
    "ds = xr.merge(arrs)\n",
    "ds = ds.to_array()"
   ]
  },
  {
   "cell_type": "code",
   "execution_count": null,
   "metadata": {},
   "outputs": [],
   "source": [
    "median = ds.median(dim='variable')\n",
    "dev = np.abs(ds-median)\n",
    "mad = dev.median(dim='variable').compute()"
   ]
  },
  {
   "cell_type": "code",
   "execution_count": null,
   "metadata": {},
   "outputs": [],
   "source": [
    "# best = xr.open_dataarray('/g/data/os22/chad_tmp/NEE_modelling/results/predictions/NEE_2003_2021_5km_LGBM.nc')\n",
    "cv = mad/median"
   ]
  },
  {
   "cell_type": "code",
   "execution_count": null,
   "metadata": {},
   "outputs": [],
   "source": [
    "mask = xr.open_dataset('/g/data/os22/chad_tmp/NEE_modelling/results/prediction_data/data_5km.nc')\n",
    "mask = mask[['FPAR']]\n",
    "mask = xr_reproject(mask, geobox=grid.compat, resampling='bilinear')\n",
    "mask = mask.to_array().isnull().all('variable')\n",
    "mask = mask.isel(time=1).drop('time')\n",
    "\n",
    "mad = mad.where(~mask)\n",
    "cv = cv.where(~mask)\n",
    "median = median.where(~mask)"
   ]
  },
  {
   "cell_type": "code",
   "execution_count": null,
   "metadata": {},
   "outputs": [],
   "source": [
    "median.attrs['units']='PgC/year'\n",
    "mad.attrs['nodata']=np.nan\n",
    "mad = mad.rename('MAD')\n",
    "mad.attrs['units']='PgC/year'\n",
    "mad = mad.where(mad>0)"
   ]
  },
  {
   "cell_type": "code",
   "execution_count": null,
   "metadata": {},
   "outputs": [],
   "source": [
    "fig, ax = plt.subplots(1,3, figsize=(25,7), sharey=True)\n",
    "np.abs(cv).plot.imshow(ax=ax[2], vmax=2, vmin=0, cmap='viridis')\n",
    "mad.plot.imshow(ax=ax[1], robust=True, cmap='cividis')\n",
    "median.plot.imshow(ax=ax[0], robust=True, cmap='RdBu_r')\n",
    "\n",
    "ax[0].set_title('Median of Annual Mean NEE');\n",
    "ax[1].set_title('Median Absolute Deviation in Annual Mean NEE');\n",
    "ax[2].set_title('Absolute Coefficient of Variation (MAD/Median)');\n",
    "plt.tight_layout()"
   ]
  },
  {
   "cell_type": "code",
   "execution_count": null,
   "metadata": {},
   "outputs": [],
   "source": [
    "mad.to_netcdf('/g/data/os22/chad_tmp/NEE_modelling/MAD_uncertainty_'+var+'_PgCyear.nc')"
   ]
  },
  {
   "cell_type": "markdown",
   "metadata": {},
   "source": [
    "### Number of models that show a mean net sink"
   ]
  },
  {
   "cell_type": "code",
   "execution_count": null,
   "metadata": {},
   "outputs": [],
   "source": [
    "ds = ds.where(~mask)"
   ]
  },
  {
   "cell_type": "code",
   "execution_count": null,
   "metadata": {},
   "outputs": [],
   "source": [
    "count_of_sinks = xr.where(ds<0, 1, 0)\n",
    "count_of_sources = xr.where(ds>0, 1, 0)"
   ]
  },
  {
   "cell_type": "code",
   "execution_count": null,
   "metadata": {},
   "outputs": [],
   "source": [
    "count_of_sources = count_of_sources.sum('variable')\n",
    "count_of_sources = count_of_sources / len(ds.variable)\n",
    "count_of_sources = count_of_sources.where(~mask)"
   ]
  },
  {
   "cell_type": "code",
   "execution_count": null,
   "metadata": {},
   "outputs": [],
   "source": [
    "count_of_sinks = count_of_sinks.sum('variable')\n",
    "count_of_sinks = count_of_sinks / len(ds.variable)\n",
    "count_of_sinks = count_of_sinks.where(~mask)"
   ]
  },
  {
   "cell_type": "code",
   "execution_count": null,
   "metadata": {},
   "outputs": [],
   "source": [
    "frac_of_agreement = xr.where(median<0, count_of_sinks, count_of_sources)\n",
    "frac_of_agreement = frac_of_agreement.where(frac_of_agreement>0)"
   ]
  },
  {
   "cell_type": "code",
   "execution_count": null,
   "metadata": {},
   "outputs": [],
   "source": [
    "fig, ax = plt.subplots(1,2, figsize=(18,7), sharey=True)\n",
    "median.plot.imshow(ax=ax[0], robust=True, cmap='RdBu_r')\n",
    "frac_of_agreement.plot.imshow(ax=ax[1], cmap='viridis_r', robust=True)\n",
    "\n",
    "ax[0].set_title(\"Median of Annual Mean NEE\");\n",
    "ax[1].set_title(\"Fraction of Model Ensemble Members where NEE sign agrees\");\n",
    "plt.tight_layout()"
   ]
  },
  {
   "cell_type": "code",
   "execution_count": null,
   "metadata": {},
   "outputs": [],
   "source": []
  }
 ],
 "metadata": {
  "kernelspec": {
   "display_name": "Python 3 (ipykernel)",
   "language": "python",
   "name": "python3"
  },
  "language_info": {
   "codemirror_mode": {
    "name": "ipython",
    "version": 3
   },
   "file_extension": ".py",
   "mimetype": "text/x-python",
   "name": "python",
   "nbconvert_exporter": "python",
   "pygments_lexer": "ipython3",
   "version": "3.8.8"
  }
 },
 "nbformat": 4,
 "nbformat_minor": 4
}
