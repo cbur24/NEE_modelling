{
 "cells": [
  {
   "cell_type": "markdown",
   "id": "46a8d6c0-f4b0-4517-92e7-748c5f9d3b0d",
   "metadata": {},
   "source": [
    "# Merge ANUCLIM Rainfall with Satellite Rainfall\n",
    "\n",
    "Australia's has high resolution gridded datasets built from spatial interpolation of the extensive weather stations across Aus. However, in locations where the the station denisity is low, the interpolations are suspect. IN these location we will attempt to replace the sptially interpoled gridded data with satellite retriveals of rainfall."
   ]
  },
  {
   "cell_type": "code",
   "execution_count": null,
   "id": "0d9dd3ca-648a-4fb8-bf6a-22f6dbe06146",
   "metadata": {},
   "outputs": [],
   "source": [
    "import shapely\n",
    "import xarray as xr\n",
    "import pandas as pd\n",
    "import geopandas as gpd\n",
    "import numpy as np\n",
    "import matplotlib.pyplot as plt\n",
    "\n",
    "from odc.geo.xr import assign_crs\n",
    "from odc.geo.geobox import GeoBox\n",
    "from odc.geo.xr import xr_reproject\n",
    "\n",
    "import sys\n",
    "sys.path.append('/g/data/os22/chad_tmp/dea-notebooks/Tools')\n",
    "from dea_tools.spatial import xr_rasterize"
   ]
  },
  {
   "cell_type": "markdown",
   "id": "7901c087-752f-4e25-bcb2-f84a05ba2b4d",
   "metadata": {},
   "source": [
    "## Read weather stations list, filter, then convert to geopandas, clip to Aus mainland"
   ]
  },
  {
   "cell_type": "code",
   "execution_count": null,
   "id": "50ade3f0-4502-4db4-8623-1d1e97abcb11",
   "metadata": {},
   "outputs": [],
   "source": [
    "df = pd.read_csv('/g/data/os22/chad_tmp/NEE_modelling/data/weather_stations.csv')\n",
    "df.head()"
   ]
  },
  {
   "cell_type": "code",
   "execution_count": null,
   "id": "332c0f8d-640b-418d-b75f-c843a42a52da",
   "metadata": {},
   "outputs": [],
   "source": [
    "# filter datasets to stations that existed for at least as long as half the study period\n",
    "df['End'] = np.where(df['End']=='..', 2022, df['End'])\n",
    "df['End'] = df['End'].astype(int)\n",
    "df = df[df['End']>=2010]"
   ]
  },
  {
   "cell_type": "code",
   "execution_count": null,
   "id": "dd80781b-0ba7-46b7-83a6-003fa392301d",
   "metadata": {},
   "outputs": [],
   "source": [
    "aus.plot()"
   ]
  },
  {
   "cell_type": "code",
   "execution_count": null,
   "id": "19649d47-d6f4-44c9-adb9-d65c883ec7da",
   "metadata": {
    "tags": []
   },
   "outputs": [],
   "source": [
    "#convert to geopandas\n",
    "gdf = gpd.GeoDataFrame(\n",
    "    df, geometry=gpd.points_from_xy(df.Lon, df.Lat))\n",
    "gdf.crs='EPSG:4326'\n",
    "\n",
    "#clip to Aus mainland\n",
    "aus = gpd.read_file('/g/data/os22/chad_tmp/NEE_modelling/data/aus_bbox.geojson')\n",
    "gdf = gdf.clip(aus)\n",
    "gdf"
   ]
  },
  {
   "cell_type": "markdown",
   "id": "b947e534-c535-4a3c-8ec7-e92aebf93178",
   "metadata": {},
   "source": [
    "### Buffer points by 50 km"
   ]
  },
  {
   "cell_type": "code",
   "execution_count": null,
   "id": "e5ca88b9-1e0c-4703-99d7-30e04791240d",
   "metadata": {},
   "outputs": [],
   "source": [
    "gdf = gdf.to_crs('epsg:3577')\n",
    "gdf['geometry'] = gdf.geometry.buffer(100000)#.plot(figsize=(10,10))\n",
    "gdf = gdf.to_crs('epsg:4326')"
   ]
  },
  {
   "cell_type": "markdown",
   "id": "7e45414e-27ff-45ba-ac2f-9a7e57bca809",
   "metadata": {},
   "source": [
    "### Rasterize buffered points on 1km grid"
   ]
  },
  {
   "cell_type": "code",
   "execution_count": null,
   "id": "802948bf-e971-44aa-898b-84b1dde4a4a1",
   "metadata": {},
   "outputs": [],
   "source": [
    "ds = xr.open_dataset('/g/data/os22/chad_tmp/NEE_modelling/data/1km/EVI_1km_monthly_2002_2021.nc')\n",
    "da_stations = xr_rasterize(gdf, ds)"
   ]
  },
  {
   "cell_type": "code",
   "execution_count": null,
   "id": "fa320f10-c94d-4038-ae41-a14f7e1ccd18",
   "metadata": {},
   "outputs": [],
   "source": [
    "da_stations.plot.imshow(size=10)"
   ]
  },
  {
   "cell_type": "markdown",
   "id": "84a83716-3c07-495a-8bbb-9ba8d27bcd28",
   "metadata": {},
   "source": [
    "## Replace rainfall at low density stations regions"
   ]
  },
  {
   "cell_type": "markdown",
   "id": "5c77e99f-f1db-4345-a4f6-613944a317ee",
   "metadata": {},
   "source": [
    "Open ANUClim rainfall and "
   ]
  },
  {
   "cell_type": "code",
   "execution_count": null,
   "id": "45d36471-915e-4ae8-a0bc-50485a0b5019",
   "metadata": {},
   "outputs": [],
   "source": [
    "chirps = xr.open_dataarray('/g/data/os22/chad_tmp/NEE_modelling/data/5km/chirps_5km_monthly_1991_2021.nc').isel(time=-1)\n",
    "chirps = xr_reproject(chirps, ds.odc.geobox, resampling='bilinear')\n",
    "chirps['latitude'] = chirps.latitude.astype('float32')\n",
    "chirps['longitude'] = chirps.longitude.astype('float32')\n",
    "\n",
    "anu = xr.open_dataset('https://dapds00.nci.org.au/thredds/dodsC/gh70/ANUClimate/v2-0/stable/month/rain/2021/ANUClimate_v2-0_rain_monthly_202112.nc')\n",
    "anu = assign_crs(anu, crs='EPSG:4283')\n",
    "anu = anu.rain.squeeze()\n",
    "anu.attrs['nodata'] = np.nan\n",
    "\n",
    "anu = xr_reproject(anu, ds.odc.geobox, resampling='bilinear')\n",
    "anu['latitude'] = anu.latitude.astype('float32')\n",
    "anu['longitude'] = anu.longitude.astype('float32')"
   ]
  },
  {
   "cell_type": "markdown",
   "id": "f868f3d7-2c36-4e03-92b2-94488f841c71",
   "metadata": {},
   "source": [
    "### Rasterize and clip to extent of ANU Rainfall"
   ]
  },
  {
   "cell_type": "code",
   "execution_count": null,
   "id": "baf9b255-b515-40a8-8338-88cc7c06e1b9",
   "metadata": {},
   "outputs": [],
   "source": [
    "merged_rainfall = xr.where(da_stations==0, chirps, anu)"
   ]
  },
  {
   "cell_type": "code",
   "execution_count": null,
   "id": "e609abf2-a801-490c-af0b-25adfd45031f",
   "metadata": {},
   "outputs": [],
   "source": [
    "merged_rainfall.plot.imshow(vmax=500, size=10, robust=True)"
   ]
  },
  {
   "cell_type": "code",
   "execution_count": null,
   "id": "ac2e784b-0a50-495c-aad7-2a97fcf58917",
   "metadata": {},
   "outputs": [],
   "source": [
    "(merged_rainfall - anu).plot.imshow(robust=True, size=10)"
   ]
  },
  {
   "cell_type": "code",
   "execution_count": null,
   "id": "938946b0-c964-47dc-b6bc-9ee67db75f57",
   "metadata": {},
   "outputs": [],
   "source": []
  },
  {
   "cell_type": "code",
   "execution_count": null,
   "id": "8bf4bcc7-cfdd-47d7-8b3d-b624f6cd90c3",
   "metadata": {},
   "outputs": [],
   "source": []
  },
  {
   "cell_type": "code",
   "execution_count": null,
   "id": "1b0f2f09-5424-4320-99cb-45417f22c07c",
   "metadata": {},
   "outputs": [],
   "source": []
  },
  {
   "cell_type": "code",
   "execution_count": null,
   "id": "135cce31-561d-43f9-9dc1-de7ca505c1c3",
   "metadata": {},
   "outputs": [],
   "source": [
    "xmin, ymin, xmax, ymax"
   ]
  },
  {
   "cell_type": "markdown",
   "id": "a3893235-50db-464e-ad15-e36a2ed8f3de",
   "metadata": {},
   "source": [
    "----\n",
    "\n",
    "## Create 1x1 degree grid over Aus"
   ]
  },
  {
   "cell_type": "code",
   "execution_count": null,
   "id": "60109ad4-4c79-45bb-b1bc-724557382e0f",
   "metadata": {},
   "outputs": [],
   "source": [
    "#how many degrees shiuld the cell size be?\n",
    "cell_size = 22\n",
    "\n",
    "# total area for the grid\n",
    "xmin, ymin, xmax, ymax= aus.total_bounds\n",
    "\n",
    "n_cells = cell_size*(xmax-xmin)\n",
    "print(n_cells)\n",
    "\n",
    "# projection of the grid\n",
    "crs = gdf.crs\n",
    "# create the cells in a loop\n",
    "grid_cells = []\n",
    "for x0 in np.arange(xmin, xmax+cell_size, cell_size ):\n",
    "    for y0 in np.arange(ymin, ymax+cell_size, cell_size):\n",
    "        # bounds\n",
    "        x1 = x0-cell_size\n",
    "        y1 = y0+cell_size\n",
    "        grid_cells.append(shapely.geometry.box(x0, y0, x1, y1)  )\n",
    "\n",
    "cell = gpd.GeoDataFrame(grid_cells, columns=['geometry'], \n",
    "                                 crs=crs)\n",
    "cell = cell.clip(aus) \n",
    "\n",
    "ax = gdf.plot(markersize=.1, figsize=(12, 8))\n",
    "plt.autoscale(False)\n",
    "cell.plot(ax=ax, facecolor=\"none\", edgecolor='grey')\n",
    "ax.axis(\"off\")\n",
    "\n",
    "# merged = gpd.sjoin(gdf, cell, how='left', predicate='within')\n",
    "\n",
    "# # make a simple count variable that we can sum\n",
    "# merged['n_stations']=1\n",
    "\n",
    "# # Compute stats per grid cell -- aggregate stations to grid cells with dissolve\n",
    "# dissolve = merged.dissolve(by=\"index_right\", aggfunc=\"count\")\n",
    "\n",
    "# # put this into cell\n",
    "# cell.loc[dissolve.index, 'n_stations'] = dissolve.n_stations.values\n",
    "\n",
    "# #convert cell with NaN to zero\n",
    "# cell['n_stations'] = cell['n_stations'].fillna(0)\n",
    "\n",
    "# ax = cell.plot(column='n_stations', figsize=(15, 10), cmap='viridis',edgecolor=\"grey\", vmax=20, vmin=0, legend=True)\n",
    "# plt.autoscale(False)\n",
    "# world = gpd.read_file(gpd.datasets.get_path('naturalearth_lowres'))\n",
    "# world.to_crs(cell.crs).plot(ax=ax, color='none', edgecolor='black');\n",
    "# # ax.axis('off')"
   ]
  },
  {
   "cell_type": "code",
   "execution_count": null,
   "id": "958f0752-f13a-4b4e-8baf-4db7bbe1befa",
   "metadata": {},
   "outputs": [],
   "source": [
    "cell[2:].to_file('/g/data/os22/chad_tmp/NEE_modelling/notebooks/tiles_aus.geojson')"
   ]
  },
  {
   "cell_type": "code",
   "execution_count": null,
   "id": "395f7777-c9eb-40df-b64a-a8e876b5c110",
   "metadata": {},
   "outputs": [],
   "source": [
    "cell[2:].explore()"
   ]
  },
  {
   "cell_type": "code",
   "execution_count": null,
   "id": "bf90d07c-4e04-4122-ac14-c84d6c8990f2",
   "metadata": {},
   "outputs": [],
   "source": []
  }
 ],
 "metadata": {
  "kernelspec": {
   "display_name": "Python 3 (ipykernel)",
   "language": "python",
   "name": "python3"
  },
  "language_info": {
   "codemirror_mode": {
    "name": "ipython",
    "version": 3
   },
   "file_extension": ".py",
   "mimetype": "text/x-python",
   "name": "python",
   "nbconvert_exporter": "python",
   "pygments_lexer": "ipython3",
   "version": "3.8.8"
  }
 },
 "nbformat": 4,
 "nbformat_minor": 5
}
