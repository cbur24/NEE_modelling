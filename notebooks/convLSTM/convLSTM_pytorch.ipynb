{
 "cells": [
  {
   "cell_type": "code",
   "execution_count": 1,
   "id": "898a8cbc-9e68-4479-9573-57b412468bb8",
   "metadata": {},
   "outputs": [],
   "source": [
    "from torch.utils.data import Dataset, DataLoader\n",
    "import xarray as xr\n",
    "\n",
    "class XarrayDataset(Dataset):\n",
    "    '''A simple torch Dataset wrapping xr.DataArray'''\n",
    "    def __init__(self, ar, batch_dim):\n",
    "        self.ar = ar\n",
    "        self.batch_dim = batch_dim\n",
    "\n",
    "    def __len__(self):\n",
    "        return len(self.ar[self.batch_dim])\n",
    "\n",
    "    def __getitem__(self, idx):\n",
    "        return self.ar[{self.batch_dim: idx}].values\n",
    "\n",
    "class XarrayDataLoader(DataLoader):\n",
    "    '''A simple torch DataLoader wrapping xr.DataArray'''\n",
    "    def __init__(self, ar, batch_dim, **kwargs):\n",
    "        ar = XarrayDataset(ar, batch_dim)\n",
    "        super().__init__(ar, **kwargs)\n",
    "\n"
   ]
  },
  {
   "cell_type": "code",
   "execution_count": 3,
   "id": "067e5f29-aa87-4360-8049-15e0c23e0cf1",
   "metadata": {},
   "outputs": [],
   "source": [
    "# Open the dataset with xarray and select the feature to work with.\n",
    "ds = xr.open_dataarray('/g/data/os22/chad_tmp/NEE_modelling/data/5km/EVI_5km_monthly_2002_2021.nc')\n",
    "\n",
    "# Trying to load the data with num_workers > 0 results in deadlock.\n",
    "dl = XarrayDataLoader(ds, batch_dim='reftime', num_workers=1)"
   ]
  },
  {
   "cell_type": "code",
   "execution_count": 4,
   "id": "2bcf1e61-5fa2-4951-a08e-704c9a0b7dd0",
   "metadata": {},
   "outputs": [
    {
     "data": {
      "text/plain": [
       "<__main__.XarrayDataLoader at 0x7f48dd177d60>"
      ]
     },
     "execution_count": 4,
     "metadata": {},
     "output_type": "execute_result"
    }
   ],
   "source": [
    "dl"
   ]
  },
  {
   "cell_type": "code",
   "execution_count": null,
   "id": "26753ed5-c8d2-47c2-8386-07d5e7c5e838",
   "metadata": {},
   "outputs": [],
   "source": []
  }
 ],
 "metadata": {
  "kernelspec": {
   "display_name": "Python 3 (ipykernel)",
   "language": "python",
   "name": "python3"
  },
  "language_info": {
   "codemirror_mode": {
    "name": "ipython",
    "version": 3
   },
   "file_extension": ".py",
   "mimetype": "text/x-python",
   "name": "python",
   "nbconvert_exporter": "python",
   "pygments_lexer": "ipython3",
   "version": "3.8.8"
  }
 },
 "nbformat": 4,
 "nbformat_minor": 5
}
