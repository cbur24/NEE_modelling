{
 "cells": [
  {
   "cell_type": "markdown",
   "id": "2eed3a2b-bbfc-4aa7-bb85-16e0c70936cd",
   "metadata": {},
   "source": [
    "# Spatio-temporal forecasting using Deep Learning\n",
    "\n",
    "possible starting places, mostly weather forecasting DL architectures:\n",
    "\n",
    "- STConV: https://github.com/MLRG-CEFET-RJ/stconvs2s\n",
    "\n",
    "- RedRNN: https://github.com/thuml/predrnn-pytorch\n",
    "\n",
    "- MetNet: https://github.com/openclimatefix/MetNet\n",
    "\n",
    "- Skilful nowcasting: https://github.com/openclimatefix/skillful_nowcasting"
   ]
  },
  {
   "cell_type": "code",
   "execution_count": null,
   "id": "a0178117-4a85-42fd-aed9-d4401c608600",
   "metadata": {},
   "outputs": [],
   "source": []
  }
 ],
 "metadata": {
  "kernelspec": {
   "display_name": "Python 3 (ipykernel)",
   "language": "python",
   "name": "python3"
  },
  "language_info": {
   "codemirror_mode": {
    "name": "ipython",
    "version": 3
   },
   "file_extension": ".py",
   "mimetype": "text/x-python",
   "name": "python",
   "nbconvert_exporter": "python",
   "pygments_lexer": "ipython3",
   "version": "3.8.8"
  }
 },
 "nbformat": 4,
 "nbformat_minor": 5
}
