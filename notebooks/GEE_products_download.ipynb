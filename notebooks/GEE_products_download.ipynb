{
 "cells": [
  {
   "cell_type": "markdown",
   "metadata": {},
   "source": [
    "# Downloading products from GEE into netcdfs\n",
    "\n",
    "Using package `wxee`: https://github.com/aazuspan/wxee\n",
    "\n",
    "The default example loads `MODIS GPP`\n",
    "\n",
    "> Note: Will likely need to install the two packages listed in the cell below. Uncomment, run the cell, then restart kernel."
   ]
  },
  {
   "cell_type": "code",
   "execution_count": null,
   "metadata": {},
   "outputs": [],
   "source": [
    "# !pip install wxee\n",
    "# !pip install eemont"
   ]
  },
  {
   "cell_type": "markdown",
   "metadata": {},
   "source": [
    "## Load packages"
   ]
  },
  {
   "cell_type": "code",
   "execution_count": 2,
   "metadata": {},
   "outputs": [],
   "source": [
    "import os\n",
    "import ee\n",
    "import wxee\n",
    "import eemont\n",
    "import geemap as gmap\n",
    "import xarray as xr\n",
    "import pandas as pd\n",
    "import numpy as np\n",
    "import geopandas as gpd\n",
    "import rioxarray\n",
    "from odc.geo.xr import assign_crs\n",
    "# from odc.algo import xr_reproject"
   ]
  },
  {
   "cell_type": "markdown",
   "metadata": {},
   "source": [
    "## Authenticate GEE    \n",
    "\n",
    "Need to sign up: https://earthengine.google.com/new_signup/\n",
    "\n",
    "Then run the cell and follow the link/prompts"
   ]
  },
  {
   "cell_type": "code",
   "execution_count": 3,
   "metadata": {},
   "outputs": [
    {
     "data": {
      "text/html": [
       "<p>To authorize access needed by Earth Engine, open the following\n",
       "        URL in a web browser and follow the instructions:</p>\n",
       "        <p><a href=https://code.earthengine.google.com/client-auth?scopes=https%3A//www.googleapis.com/auth/earthengine%20https%3A//www.googleapis.com/auth/devstorage.full_control&request_id=55URAU6-kyOx-0P9bVWNvyGCXfRiD1SQlLHwQ9XXAFs&tc=KIngl6fymOeug86jJSTSxj9DanfEQTkZAWFKg6i8tEI&cc=Fhs6ZIVV1uqmLV8UWhf4Eh4zJ0N_4vZIxzqasx07tfw>https://code.earthengine.google.com/client-auth?scopes=https%3A//www.googleapis.com/auth/earthengine%20https%3A//www.googleapis.com/auth/devstorage.full_control&request_id=55URAU6-kyOx-0P9bVWNvyGCXfRiD1SQlLHwQ9XXAFs&tc=KIngl6fymOeug86jJSTSxj9DanfEQTkZAWFKg6i8tEI&cc=Fhs6ZIVV1uqmLV8UWhf4Eh4zJ0N_4vZIxzqasx07tfw</a></p>\n",
       "        <p>The authorization workflow will generate a code, which you\n",
       "        should paste in the box below</p>\n",
       "        "
      ],
      "text/plain": [
       "<IPython.core.display.HTML object>"
      ]
     },
     "metadata": {},
     "output_type": "display_data"
    },
    {
     "name": "stdin",
     "output_type": "stream",
     "text": [
      "Enter verification code:  4/1AWtgzh4_HW4HwT7c5_Br8MONIFpDqYMfuN9SbDHzNsnh-9nEnr4qp0vli2I\n"
     ]
    },
    {
     "name": "stdout",
     "output_type": "stream",
     "text": [
      "\n",
      "Successfully saved authorization token.\n"
     ]
    }
   ],
   "source": [
    "# Trigger the authentication flow.\n",
    "ee.Authenticate()\n",
    "\n",
    "# Initialize the library.\n",
    "ee.Initialize()"
   ]
  },
  {
   "cell_type": "markdown",
   "metadata": {},
   "source": [
    "## Analysis parameters\n",
    "\n",
    "Enter the product name and other parameters below, you find some of this info on the product data page, e.g. https://developers.google.com/earth-engine/datasets/catalog/MODIS_006_MOD14A1?hl=en\n",
    "\n",
    "> Note: For the analysis extent try using http://geojson.io/ to draw a polygon, then copy and paste the coordinates into the cell"
   ]
  },
  {
   "cell_type": "code",
   "execution_count": 4,
   "metadata": {},
   "outputs": [],
   "source": [
    "# product = \"MODIS/006/MCD43A4\" #NBAR\n",
    "# product = \"MODIS/061/MOD11A2\" #LST\n",
    "product = \"MODIS/MOD09GA_006_NDWI\"\n",
    "\n",
    "bands =  'NDWI'\n",
    "start_date = '1/1/2002'\n",
    "end_date = '06/30/2022'\n",
    "# output_path = '/g/data/os22/chad_tmp/NEE_modelling/data/kNDVI/'\n",
    "output_crs = \"EPSG:3577\"\n",
    "resolution = 1000\n",
    "# scale = 0.0001\n",
    "\n",
    "# ~Aus region (slightly less to trick google into giving me 1km res)\n",
    "region = ee.Geometry.Polygon([[\n",
    "            [114,-43.0],\n",
    "            [153.0,-43.0],\n",
    "            [153.0,-10.0],\n",
    "            [114,-10.0],\n",
    "            [114,-43.0]]])\n"
   ]
  },
  {
   "cell_type": "markdown",
   "metadata": {},
   "source": [
    "## Select region"
   ]
  },
  {
   "cell_type": "code",
   "execution_count": null,
   "metadata": {},
   "outputs": [],
   "source": [
    "# Map = gmap.Map(basemap=gmap.basemaps['SATELLITE'], center=[-35.2041, 149.2721], zoom=8)\n",
    "# # region = gmap.geopandas_to_ee(gdf, geodesic=False)\n",
    "# Map.addLayer(region, {}, 'Tiles')\n",
    "# Map"
   ]
  },
  {
   "cell_type": "code",
   "execution_count": null,
   "metadata": {},
   "outputs": [],
   "source": [
    "# region = Map.user_roi.getInfo()\n",
    "# region"
   ]
  },
  {
   "cell_type": "markdown",
   "metadata": {},
   "source": [
    "## Loop through months and load MODIS data\n",
    "\n",
    "Doing this on a per-month basis to keep the memory usage down"
   ]
  },
  {
   "cell_type": "code",
   "execution_count": 5,
   "metadata": {},
   "outputs": [
    {
     "name": "stdout",
     "output_type": "stream",
     "text": [
      " 246/246\r"
     ]
    }
   ],
   "source": [
    "#use start and end dates to loop through months and load GEE data\n",
    "start = pd.date_range(start=start_date, end=end_date, freq='MS') \n",
    "end = pd.date_range(start=start_date, end=end_date, freq='M')\n",
    "\n",
    "i = 0\n",
    "# for index, row in gdf.iterrows():\n",
    "    # print(index)\n",
    "for s, e in zip(start,end):\n",
    "    print(\" {:03}/{:03}\\r\".format(i+1, len(start)), end=\"\")\n",
    "\n",
    "    #region = gmap.geopandas_to_ee(gdf.iloc[[index]])\n",
    "\n",
    "    ss = s+pd.Timedelta(14, 'd')\n",
    "\n",
    "#     if os.path.isfile(output_path+product[-19:]+'_'+ss.strftime('%Y-%m')+'.nc'):\n",
    "#         pass\n",
    "\n",
    "#     else:\n",
    "#         try:\n",
    "    s = s.strftime('%Y-%m-%d')\n",
    "    e = e.strftime('%Y-%m-%d')\n",
    "    \n",
    "    # spectral indices\n",
    "#     ds = ee.ImageCollection(product) \\\n",
    "#         .filterDate(s,e) \\\n",
    "#         .scaleAndOffset() \\\n",
    "#         .spectralIndices(bands) \\\n",
    "#         .select(bands) \\\n",
    "#         .mean()\n",
    "    \n",
    "    \n",
    "    #LST\n",
    "#     ds = ee.ImageCollection(product) \\\n",
    "#         .filterDate(s,e) \\\n",
    "#         .scaleAndOffset() \\\n",
    "#         .select('LST_Day_1km') \\\n",
    "#         .mean()\n",
    "    \n",
    "    # NDWI\n",
    "    ds = ee.ImageCollection(product) \\\n",
    "        .filterDate(s,e) \\\n",
    "        .select('NDWI') \\\n",
    "        .mean()\n",
    "        \n",
    "    export = ee.batch.Export.image.toDrive(ds,\n",
    "        description=bands+'_'+ss.strftime('%Y-%m-%d'),\n",
    "        folder=bands,\n",
    "        region=region,\n",
    "        scale=resolution,\n",
    "        crs=output_crs,\n",
    "        maxPixels=1e13,\n",
    "        fileFormat='GeoTIFF',\n",
    "        formatOptions={\n",
    "            'cloudOptimized':True\n",
    "              }\n",
    "    )\n",
    "    export.start()\n",
    "#     gmap.ee_export_image_to_drive(d\n",
    "\n",
    "#     )\n",
    "    \n",
    "    #ts = wxee.TimeSeries(product).filterDate(s,e)\n",
    "    #ts = ts.select(bands)\n",
    "    #kndvi = kndvi.wx.to_time_series()\n",
    "    #print(kndvi)\n",
    "    #ds = kndvi.wx.to_xarray(region=region, scale=resolution, crs=output_crs, progress=True)\n",
    "\n",
    "    # ds = ds[bands] * scale # scale values \n",
    "    # attrs=ds.attrs #extract attributes so we don't loose them\n",
    "    # ds.attrs['nodata'] = np.nan\n",
    "    # ds = assign_crs(ds, crs=output_crs) #add gbox\n",
    "    # ds['time'] = ds.time + pd.Timedelta(14, 'd')\n",
    "    # ds = ds * n_days #convert to total ET/month\n",
    "    #ds = ds.resample(time='MS', loffset=pd.Timedelta(14, 'd')).mean() #resample to monthly\n",
    "\n",
    "#     da = xr.open_dataarray('/g/data/os22/chad_tmp/NEE_modelling/data/1km/tavg_1km_monthly_2002_2021.nc').isel(time=0) #use this to reproject too\n",
    "#     ds = xr_reproject(ds, geobox=da.geobox, resampling='bilinear') #reproject\n",
    "\n",
    "#     ds['latitude'] = ds.latitude.astype('float32')\n",
    "#     ds['latitude'] = np.array([round(i,4) for i in ds.latitude.values])\n",
    "#     ds['longitude'] = ds.longitude.astype('float32')\n",
    "#     ds['longitude'] = np.array([round(i,4) for i in ds.longitude.values])\n",
    "\n",
    "#     ds = ds.where(~np.isnan(da)).astype('float32')\n",
    "\n",
    "    #  ds = ds.where(ds!=0) # remove spurious zeros from reprojection\n",
    "    #ds = ds.assign_attrs(attrs) #add back attrs\n",
    "    #f = str(row['attr'])\n",
    "    #ds.to_netcdf(output_path+f+'/'+'kNDVI'+'_'+np.datetime_as_string(ds.time.values[0], unit='M')+'.nc')\n",
    "\n",
    "        # except:\n",
    "        #     print('fail:', s,e)\n",
    "        #     pass\n",
    "   \n",
    "    i+=1\n"
   ]
  },
  {
   "cell_type": "code",
   "execution_count": 6,
   "metadata": {},
   "outputs": [
    {
     "data": {
      "text/plain": [
       "{'state': 'READY',\n",
       " 'description': 'NDWI_2022-06-15',\n",
       " 'creation_timestamp_ms': 1677040103605,\n",
       " 'update_timestamp_ms': 1677040103605,\n",
       " 'start_timestamp_ms': 0,\n",
       " 'task_type': 'EXPORT_IMAGE',\n",
       " 'id': 'VZKE65ZRQGC6322E2UOGQBQA',\n",
       " 'name': 'projects/earthengine-legacy/operations/VZKE65ZRQGC6322E2UOGQBQA'}"
      ]
     },
     "execution_count": 6,
     "metadata": {},
     "output_type": "execute_result"
    }
   ],
   "source": [
    "export.status()"
   ]
  },
  {
   "cell_type": "code",
   "execution_count": null,
   "metadata": {},
   "outputs": [],
   "source": [
    "# Map = gmap.Map(center=[-35.2041, 149.2721], zoom=10)\n",
    "\n",
    "# modisVisParams = {'bands': [\"NDWI\"],\n",
    "#               'max': 1,\n",
    "#               'min': -1}\n",
    "\n",
    "# Map.addLayer(ds, modisVisParams, 'modis')\n",
    "# Map.addLayerControl()\n",
    "# Map"
   ]
  },
  {
   "cell_type": "markdown",
   "metadata": {},
   "source": [
    "## Optional: Stitch together monthly files into annual netcdfs\n",
    "\n",
    "Set the three parameters below"
   ]
  },
  {
   "cell_type": "code",
   "execution_count": null,
   "metadata": {},
   "outputs": [],
   "source": [
    "year_start = 2002\n",
    "year_end = 2021\n",
    "annual_output_path = '/g/data/os22/chad_tmp/NEE_modelling/data/NDWI_annual/'"
   ]
  },
  {
   "cell_type": "code",
   "execution_count": null,
   "metadata": {},
   "outputs": [],
   "source": [
    "i=0\n",
    "for y in range(year_start, year_end+1):\n",
    "    print(\" {:02}/{:02}\\r\".format(i + 1, len(range(year_start, year_end+1))), end=\"\")\n",
    "    \n",
    "    year = str(y)\n",
    "    files = [output_path+f for f in os.listdir(output_path) if year in f]\n",
    "    \n",
    "    dss=[]\n",
    "    for f in files:\n",
    "        ds = xr.open_dataset(f)\n",
    "        dss.append(ds)\n",
    "        \n",
    "    data = xr.concat(dss, dim='time').sortby('time')\n",
    "    data = data.astype('float32')\n",
    "    data['latitude'] = data.latitude.astype('float32')\n",
    "    data['longitude'] = data.longitude.astype('float32')\n",
    "\n",
    "    data.to_netcdf(annual_output_path+product[-8:]+'_'+year+'.nc')\n",
    "    i+=1"
   ]
  },
  {
   "cell_type": "code",
   "execution_count": null,
   "metadata": {},
   "outputs": [],
   "source": []
  },
  {
   "cell_type": "code",
   "execution_count": null,
   "metadata": {},
   "outputs": [],
   "source": []
  },
  {
   "cell_type": "code",
   "execution_count": null,
   "metadata": {},
   "outputs": [],
   "source": [
    "ds = ds.rename({'Gpp':'GPP'})"
   ]
  },
  {
   "cell_type": "code",
   "execution_count": null,
   "metadata": {},
   "outputs": [],
   "source": [
    "#compute climatology\n",
    "clim = ds['NDWI'].chunk(dict(latitude=750, longitude=750))\n",
    "clim = ds.groupby(\"time.month\").mean(\"time\").compute()\n",
    "\n",
    "# fill nans with climatology and plot cloudiest period\n",
    "ds = ds.groupby(\"time.month\").fillna(clim).drop('month')"
   ]
  },
  {
   "cell_type": "code",
   "execution_count": null,
   "metadata": {},
   "outputs": [],
   "source": []
  },
  {
   "cell_type": "code",
   "execution_count": null,
   "metadata": {},
   "outputs": [],
   "source": [
    "ds.to_netcdf('/g/data/os22/chad_tmp/NEE_modelling/data/1km/NDWI_1km_monthly_2002_2021.nc')"
   ]
  },
  {
   "cell_type": "code",
   "execution_count": null,
   "metadata": {},
   "outputs": [],
   "source": [
    "evi = xr.open_dataarray('/g/data/os22/chad_tmp/NEE_modelling/data/5km/EVI_5km_monthly_2002_2021.nc').isel(time=0) #use this to reproject too\n",
    "ds_rp = xr_reproject(ds, geobox=evi.geobox, resampling='average', dst_nodata=np.nan).compute() #reproject\n",
    "ds_rp['latitude'] = ds_rp.latitude.astype('float32')\n",
    "ds_rp['longitude'] = ds_rp.longitude.astype('float32')\n",
    "ds_rp"
   ]
  },
  {
   "cell_type": "code",
   "execution_count": null,
   "metadata": {},
   "outputs": [],
   "source": [
    "ds_rp.NDWI.isel(time=110).plot.imshow(size=6,vmax=0.2, vmin=-0.2, cmap='RdBu');"
   ]
  },
  {
   "cell_type": "code",
   "execution_count": null,
   "metadata": {},
   "outputs": [],
   "source": [
    "ds.NDWI.isel(time=110).plot.imshow(size=6,vmax=0.2, vmin=-0.2, cmap='RdBu');"
   ]
  },
  {
   "cell_type": "code",
   "execution_count": null,
   "metadata": {},
   "outputs": [],
   "source": [
    "ds.NDWI.groupby('time.month').mean().mean(['latitude','longitude']).plot(figsize=(11,5))"
   ]
  },
  {
   "cell_type": "code",
   "execution_count": null,
   "metadata": {},
   "outputs": [],
   "source": []
  },
  {
   "cell_type": "code",
   "execution_count": null,
   "metadata": {},
   "outputs": [],
   "source": [
    "ds_rp.to_netcdf('/g/data/os22/chad_tmp/NEE_modelling/data/5km/NDWI_5km_monthly_2002_2021.nc')"
   ]
  },
  {
   "cell_type": "code",
   "execution_count": null,
   "metadata": {},
   "outputs": [],
   "source": []
  },
  {
   "cell_type": "code",
   "execution_count": null,
   "metadata": {},
   "outputs": [],
   "source": []
  },
  {
   "cell_type": "code",
   "execution_count": null,
   "metadata": {},
   "outputs": [],
   "source": []
  }
 ],
 "metadata": {
  "kernelspec": {
   "display_name": "Python 3 (ipykernel)",
   "language": "python",
   "name": "python3"
  },
  "language_info": {
   "codemirror_mode": {
    "name": "ipython",
    "version": 3
   },
   "file_extension": ".py",
   "mimetype": "text/x-python",
   "name": "python",
   "nbconvert_exporter": "python",
   "pygments_lexer": "ipython3",
   "version": "3.8.8"
  }
 },
 "nbformat": 4,
 "nbformat_minor": 4
}
