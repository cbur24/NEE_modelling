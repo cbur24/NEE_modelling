{
 "cells": [
  {
   "cell_type": "markdown",
   "id": "31dc407c-a680-4c92-89f1-77c45d9f8608",
   "metadata": {},
   "source": [
    "# Extract site locations for OzFlux EC data"
   ]
  },
  {
   "cell_type": "markdown",
   "id": "f08b0888-98e6-413d-afc5-e4698df84e8c",
   "metadata": {},
   "source": [
    "## Import libraries"
   ]
  },
  {
   "cell_type": "code",
   "execution_count": null,
   "id": "dc79083b-c0d1-4401-823b-75973f4f38cb",
   "metadata": {},
   "outputs": [],
   "source": [
    "import xarray as xr\n",
    "import numpy as np\n",
    "import pandas as pd\n",
    "import geopandas as gpd"
   ]
  },
  {
   "cell_type": "markdown",
   "id": "4e01dc4c-2cab-48c1-b5f2-0732a064b000",
   "metadata": {},
   "source": [
    "## Define the list of sites to extract"
   ]
  },
  {
   "cell_type": "code",
   "execution_count": null,
   "id": "f0df6a46-5bb5-44c0-81e0-82de4156e18a",
   "metadata": {},
   "outputs": [],
   "source": [
    "suffixes = [\n",
    "    'Emerald/2022_v1/L6/default/Emerald_L6_20110610_20131231_Monthly.nc',\n",
    "    'GreatWesternWoodlands/2022_v1/L6/default/GreatWesternWoodlands_L6_20130101_20220101_Monthly.nc',\n",
    "    'CowBay/2022_v1/L6/default/CowBay_L6_20090101_20211231_Monthly.nc',\n",
    "    'Tumbarumba/2021_v1/L6/default/Tumbarumba_L6_20020107_20191231_Monthly.nc',\n",
    "    'Whroo/2021_v1/L6/default/Whroo_L6_20111201_20210724_Monthly.nc',\n",
    "    'WombatStateForest/2022_v1/L6/default/WombatStateForest_L6_20100120_20210529_Monthly.nc',\n",
    "    'WallabyCreek/2022_v1/L6/default/WallabyCreek_L6_20050825_20130409_Monthly.nc',\n",
    "    'RobsonCreek/2022_v1/L6/default/RobsonCreek_L6_20130801_20211218_Monthly.nc',\n",
    "    'CapeTribulation/2022_v1/L6/default/CapeTribulation_L6_20100101_20181102_Monthly.nc',\n",
    "    'AliceSpringsMulga/2022_v1/L6/default/AliceSpringsMulga_L6_20100903_20211231_Monthly.nc',\n",
    "    'CalperumChowilla/2022_v1/L6/default/Calperum_L6_20100730_20220216_Monthly.nc',\n",
    "    'DryRiver/2022_v1/L6/default/DryRiver_L6_20091025_20220218_Monthly.nc',\n",
    "    'Litchfield/2021_v1/L6/default/Litchfield_L6_20150623_20210725_Monthly.nc',\n",
    "    'SturtPlains/2021_v1/L6/default/SturtPlains_L6_20080828_20210724_Monthly.nc',\n",
    "    'RiggsCreek/2022_v1/L6/default/RiggsCreek_L6_20110101_20170712_Monthly.nc', #dryland cropping\n",
    "    'Otway/2021_v1/L6/default/Otway_L6_20070811_20110101_Monthly.nc', # pasture site\n",
    "    'Yanco/2022_v1/L6/default/Yanco_L6_20130101_20220218_Monthly.nc', # soil site\n",
    "    'Gingin/2022_v1/L6/default/Gingin_L6_20111013_20201231_Monthly.nc', # native Banksia woodland\n",
    "    'LongreachMitchellGrassRangeland/2022_v1/L6/default/Longreach_L6_20181009_20210909_Monthly.nc',\n",
    "    'Ridgefield/2022_v1/L6/default/Ridgefield_L6_20160101_20220218_Monthly.nc', #  dryland agriculture\n",
    "    'SilverPlains/2022_v1/L6/default/SilverPlains_L6_20200101_20211231_Monthly.nc', #Australian Mountain Reseach \n",
    "    'DalyUncleared/2022_v1/L6/default/DalyUncleared_L6_20080101_20220217_Monthly.nc', #Woodland savanna\n",
    "    'Collie/2022_v1/L6/default/Collie_L6_20170804_20191111_Monthly.nc', # wandoo woodland\n",
    "    'AdelaideRiver/2022_v1/L6/default/AdelaideRiver_L6_20071017_20090524_Monthly.nc', #  Savanna dominated by Eucalyptus\n",
    "    'Warra/2022_v1/L6/default/Warra_L6_20130305_20210923_Monthly.nc', #tasmania\n",
    "    \n",
    "    ### ----------Problematic sites--------\n",
    "    #'DalyPasture/2022_v1/L6/default/DalyPasture_L6_20080101_20130908_Monthly.nc', #incorrect geographic coordinates\n",
    "    'CumberlandPlain/2022_v1/L6/default/CumberlandPlain_L6_20140101_20220101_Monthly.nc', # small remnant bushland block in ag district\n",
    "    'SamfordEcologicalResearchFacility/2022_v1/L6/default/Samford_L6_20100602_20171231_Monthly.nc', #fragmented landscape \n",
    "    'Boyagin/2022_v1/L6/default/Boyagin_L6_20171020_20211231_Monthly.nc', \n",
    "    #'TiTreeEast/2022_v1/L6/default/TiTreeEast_L6_20120718_20220117_Monthly.nc', # Same location as Alice Springs\n",
    "    'RedDirtMelonFarm/2021_v1/L6/default/RedDirtMelonFarm_L6_20110923_20130721_Monthly.nc', #small farm in the middle of svannah woodland\n",
    "    'FoggDam/2021_v1/L6/default/FoggDam_L6_20060207_20081031_Monthly.nc', \n",
    "    'Loxton/2022_v1/L6/default/Loxton_L6_20080819_20090609_Monthly.nc' # almond tree, 1 year of data\n",
    "    \n",
    "]\n",
    "\n"
   ]
  },
  {
   "cell_type": "markdown",
   "id": "34941256-2bd7-4b78-a963-8285a5637315",
   "metadata": {},
   "source": [
    "## Loop through sites\n",
    "\n",
    "Extract lat, lon, site name, and the start and end month of the time-series."
   ]
  },
  {
   "cell_type": "code",
   "execution_count": null,
   "id": "725dfdeb-792f-44b7-95eb-97b2727dc855",
   "metadata": {},
   "outputs": [],
   "source": [
    "base = 'https://dap.tern.org.au/thredds/dodsC/ecosystem_process/ozflux/'\n",
    "\n",
    "i=0\n",
    "sites = []\n",
    "for suffix in suffixes:\n",
    "    print(\" {:02}/{:02}\\r\".format(i + 1, len(suffixes)), end=\"\")\n",
    "    flux = xr.open_dataset(base+suffix)\n",
    "    lat = flux.latitude.values[0]\n",
    "    lon = flux.longitude.values[0]\n",
    "    time_start = str(np.datetime_as_string(flux.time.values[0], unit='D'))\n",
    "    time_end = str(np.datetime_as_string(flux.time.values[-1], unit='D'))\n",
    "    d = dict({'site_name':suffix[0:5], 'lat': lat, 'lon':lon, 'time_start':time_start, 'time_end':time_end})\n",
    "    sites.append(d)\n",
    "    i+=1"
   ]
  },
  {
   "cell_type": "markdown",
   "id": "32903159-9f37-44e9-9f96-97f6429f4ecd",
   "metadata": {},
   "source": [
    "## Concat into pandas dataframe\n",
    "\n",
    "Export .csv"
   ]
  },
  {
   "cell_type": "code",
   "execution_count": null,
   "id": "2b4dd3da-0b6d-4813-8b5d-597e1975ce44",
   "metadata": {},
   "outputs": [],
   "source": [
    "df = pd.DataFrame(sites)\n",
    "df.to_csv('ozflux_sites.csv')\n",
    "df.head()"
   ]
  },
  {
   "cell_type": "markdown",
   "id": "380cb850-56d5-44d2-a131-662f20faaca5",
   "metadata": {},
   "source": [
    "## Convert into a geopandas dataframe\n",
    "\n",
    "Export geojson"
   ]
  },
  {
   "cell_type": "code",
   "execution_count": null,
   "id": "c6851ae0-0f22-4f4d-99dc-7c8b5d63c4dd",
   "metadata": {},
   "outputs": [],
   "source": [
    "gdf = gpd.GeoDataFrame(\n",
    "    df, geometry=gpd.points_from_xy(df.lon, df.lat), crs='epsg:4326')\n",
    "\n",
    "gdf = gdf.drop(['lat', 'lon'],axis=1)\n",
    "gdf.to_file('ozflux_sites.geojson')"
   ]
  },
  {
   "cell_type": "markdown",
   "id": "53ea52a0-c8e8-47b0-a516-acd12d2dcf71",
   "metadata": {},
   "source": [
    "## Explore points on interactive map\n",
    "\n",
    "Use the radius parameter (the units are metres) to see if landscape fragmentation will result in mixed pixels if comparing sites with climate/remote sensing datasets. A good example is the `CumberlandPlain` and `RedDirtMelonFarm`.  "
   ]
  },
  {
   "cell_type": "code",
   "execution_count": null,
   "id": "72353380-d0a9-48b6-8bf1-09cbb257f54a",
   "metadata": {},
   "outputs": [],
   "source": [
    "radius = 1000"
   ]
  },
  {
   "cell_type": "code",
   "execution_count": null,
   "id": "be084830-4dda-40d0-bb2f-e61123613c04",
   "metadata": {},
   "outputs": [],
   "source": [
    "gdf.explore(column='site_name', marker_kwds={'radius':radius, 'fill':True}, marker_type ='circle',\n",
    "            tiles='https://server.arcgisonline.com/ArcGIS/rest/services/World_Imagery/MapServer/tile/{z}/{y}/{x}', attr='Esri'\n",
    "           )\n"
   ]
  },
  {
   "cell_type": "code",
   "execution_count": null,
   "id": "1d8600a6-4759-4a1a-b579-9beec6cd0687",
   "metadata": {},
   "outputs": [],
   "source": []
  }
 ],
 "metadata": {
  "kernelspec": {
   "display_name": "Python 3 (ipykernel)",
   "language": "python",
   "name": "python3"
  },
  "language_info": {
   "codemirror_mode": {
    "name": "ipython",
    "version": 3
   },
   "file_extension": ".py",
   "mimetype": "text/x-python",
   "name": "python",
   "nbconvert_exporter": "python",
   "pygments_lexer": "ipython3",
   "version": "3.8.8"
  }
 },
 "nbformat": 4,
 "nbformat_minor": 5
}
