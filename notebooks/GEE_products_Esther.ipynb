{
 "cells": [
  {
   "cell_type": "markdown",
   "metadata": {},
   "source": [
    "# Downloading products from GEE into netcdfs\n",
    "\n",
    "Using packages\n",
    "\n",
    "* `wxee`: https://github.com/aazuspan/wxee\n",
    "* `eemont`: https://github.com/davemlz/eemont\n",
    "\n",
    "> Note: Will likely need to install the two packages listed in the cell below. Uncomment, run the cell, then restart kernel."
   ]
  },
  {
   "cell_type": "code",
   "execution_count": null,
   "metadata": {},
   "outputs": [],
   "source": [
    "# !pip install wxee\n",
    "# !pip install eemont"
   ]
  },
  {
   "cell_type": "markdown",
   "metadata": {},
   "source": [
    "## Load packages"
   ]
  },
  {
   "cell_type": "code",
   "execution_count": null,
   "metadata": {},
   "outputs": [],
   "source": [
    "import os\n",
    "import ee\n",
    "import wxee\n",
    "import eemont\n",
    "import geemap as gmap\n",
    "import xarray as xr\n",
    "import pandas as pd\n",
    "import numpy as np\n",
    "import geopandas as gpd\n",
    "import rioxarray\n",
    "from odc.geo.xr import assign_crs\n",
    "from odc.algo import xr_reproject"
   ]
  },
  {
   "cell_type": "markdown",
   "metadata": {},
   "source": [
    "## Authenticate GEE    \n",
    "\n",
    "Need to sign up: https://earthengine.google.com/new_signup/\n",
    "\n",
    "Then run the cell and follow the link/prompts"
   ]
  },
  {
   "cell_type": "code",
   "execution_count": null,
   "metadata": {},
   "outputs": [],
   "source": [
    "# Trigger the authentication flow.\n",
    "ee.Authenticate()\n",
    "\n",
    "# Initialize the library.\n",
    "ee.Initialize()"
   ]
  },
  {
   "cell_type": "markdown",
   "metadata": {},
   "source": [
    "## Analysis parameters\n",
    "\n",
    "Enter the product name and other parameters below, you find some of this info on the product data page"
   ]
  },
  {
   "cell_type": "code",
   "execution_count": null,
   "metadata": {},
   "outputs": [],
   "source": [
    "product = \"MODIS/006/MOD17A2H\"\n",
    "bands =  ['Gpp']\n",
    "start_date = '2000/03/01'\n",
    "end_date = '2022/08/31'\n",
    "output_path = 'location/to/save/the/data/GPP/'\n",
    "output_crs = \"EPSG:3577\"\n",
    "resolution = 500\n",
    "\n",
    "# geojson defining analysis region\n",
    "region = gmap.geojson_to_ee('/locationtothe/NSW_boundary.geojson')\n",
    "\n"
   ]
  },
  {
   "cell_type": "markdown",
   "metadata": {},
   "source": [
    "## Show region"
   ]
  },
  {
   "cell_type": "code",
   "execution_count": null,
   "metadata": {},
   "outputs": [],
   "source": [
    "Map = gmap.Map(basemap=gmap.basemaps['SATELLITE'], center=[-35.2041, 149.2721], zoom=5)\n",
    "Map.addLayer(region, {}, 'Tiles')\n",
    "Map"
   ]
  },
  {
   "cell_type": "markdown",
   "metadata": {},
   "source": [
    "## Loop through months and load MODIS data\n",
    "\n",
    "Doing this on a per-month basis to keep the memory usage down and not cross GEE limits for downloading data"
   ]
  },
  {
   "cell_type": "code",
   "execution_count": null,
   "metadata": {},
   "outputs": [],
   "source": [
    "#use start and end dates to loop through months and load GEE data\n",
    "start = pd.date_range(start=start_date, end=end_date, freq='MS') \n",
    "end = pd.date_range(start=start_date, end=end_date, freq='M')\n",
    "\n",
    "i = 0\n",
    "for s, e in zip(start,end):\n",
    "    print(\" {:03}/{:03}\\r\".format(i+1, len(start)), end=\"\")\n",
    "\n",
    "    s = s.strftime('%Y-%m-%d')\n",
    "    e = e.strftime('%Y-%m-%d')\n",
    "    \n",
    "    #download data from GEE, convert to xarray\n",
    "    ds = ee.ImageCollection(product) \\\n",
    "        .filterDate(s,e) \\\n",
    "        .scaleAndOffset() \\\n",
    "        .select(bands) \\\n",
    "        .wx.to_time_series() \\\n",
    "        .wx.to_xarray(region=region.geometry(), scale=resolution, crs=output_crs, progress=False)\n",
    "\n",
    "    ds.attrs['nodata'] = np.nan\n",
    "    ds = assign_crs(ds, crs=output_crs) #add gbox\n",
    "    ds.to_netcdf(output_path+bands[0]+'_'+np.datetime_as_string(ds.time.values[0], unit='M')+'.nc')\n",
    "   \n",
    "    i+=1\n"
   ]
  },
  {
   "cell_type": "markdown",
   "metadata": {},
   "source": [
    "## Optional: Stitch together monthly files into one large netcdf\n"
   ]
  },
  {
   "cell_type": "code",
   "execution_count": null,
   "metadata": {},
   "outputs": [],
   "source": [
    "#where are the files:\n",
    "base = '/g/data/os22/chad_tmp/NEE_modelling/data/GPP/'\n",
    "\n",
    "# Create a list of these files\n",
    "files=[]\n",
    "for file in os.listdir(base):\n",
    "    if file.endswith(\".nc\"):\n",
    "        files.append(file)\n"
   ]
  },
  {
   "cell_type": "code",
   "execution_count": null,
   "metadata": {},
   "outputs": [],
   "source": [
    "#Use open_mfdatasets to concat these along the time dim\n",
    "ds = xr.open_mfdataset([base+i for i in files])"
   ]
  },
  {
   "cell_type": "markdown",
   "metadata": {},
   "source": [
    "### Consider rasterizing your NSW polygon and clipping the netcdf to that extent before exporting"
   ]
  },
  {
   "cell_type": "code",
   "execution_count": null,
   "metadata": {},
   "outputs": [],
   "source": []
  }
 ],
 "metadata": {
  "kernelspec": {
   "display_name": "Python 3 (ipykernel)",
   "language": "python",
   "name": "python3"
  },
  "language_info": {
   "codemirror_mode": {
    "name": "ipython",
    "version": 3
   },
   "file_extension": ".py",
   "mimetype": "text/x-python",
   "name": "python",
   "nbconvert_exporter": "python",
   "pygments_lexer": "ipython3",
   "version": "3.8.8"
  }
 },
 "nbformat": 4,
 "nbformat_minor": 4
}
