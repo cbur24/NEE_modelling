{
 "cells": [
  {
   "cell_type": "markdown",
   "metadata": {},
   "source": [
    "# Deep learning forecasting with DARTS\n",
    "\n",
    "Using the N-BEATS model: Neural Basis Expansion Analysis Time Series Forecasting. Also comparing DL results with AutoARIMA.\n",
    "\n",
    "* **Training a DL model on a single multivariate series**\n",
    "\n",
    "Paper: https://openreview.net/forum?id=r1ecqn4YwB\n",
    "\n",
    "netcdf loading into TensorFlow: https://www.noahbrenowitz.com/post/loading_netcdfs/\n",
    "\n",
    "Deep learning course here: https://course.fast.ai/\n",
    "\n",
    "Deep Spatiotemporal prediction https://github.com/amirkhango/DeepST"
   ]
  },
  {
   "cell_type": "code",
   "execution_count": 1,
   "metadata": {},
   "outputs": [],
   "source": [
    "# General Imports\n",
    "import numpy as np\n",
    "import xarray as xr\n",
    "import pandas as pd\n",
    "from matplotlib import pyplot as plt\n",
    "%matplotlib inline     \n",
    "\n",
    "# Forecasting imports\n",
    "from darts.models import NBEATSModel, AutoARIMA\n",
    "from darts.utils.likelihood_models import QuantileRegression\n",
    "from darts.utils.timeseries_generation import datetime_attribute_timeseries\n",
    "# from darts.utils.statistics import extract_trend_and_seasonality, remove_trend\n",
    "# from darts.utils.utils import SeasonalityMode\n",
    "from darts import TimeSeries\n",
    "from darts.metrics import mae, mape\n",
    "from darts.dataprocessing.transformers import Scaler\n",
    "\n",
    "#causal variable selection\n",
    "# from tigramite import data_processing as pp\n",
    "# from tigramite import plotting as tp\n",
    "# from tigramite.pcmci import PCMCI\n",
    "# from tigramite.independence_tests import ParCorr\n",
    "# from tigramite.models import Prediction\n",
    "# from sklearn.ensemble import RandomForestRegressor\n",
    "\n",
    "import warnings\n",
    "warnings.filterwarnings(\"ignore\")"
   ]
  },
  {
   "cell_type": "markdown",
   "metadata": {},
   "source": [
    "## Analysis Parameters\n",
    "\n",
    "\n",
    "<!-- CumberlandPlain/2022_v1/L6/default/CumberlandPlain_L6_20140101_20220101_Daily.nc\n",
    "\n",
    "CumberlandPlain/2022_v1/L6/default/CumberlandPlain_L6_20140101_20220101_Monthly.nc -->\n",
    "\n",
    "<!-- Tumbarumba/2022_v1/L6/default/Tumbarumba_L6_20020107_20191231_Daily.nc\n",
    "\n",
    "'AliceSpringsMulga/2022_v1/L6/default/AliceSpringsMulga_L6_20100903_20211231_Daily.nc'\n",
    "\n",
    "AliceSpringsMulga/2022_v1/L6/default/AliceSpringsMulga_L6_20100903_20211231_Monthly.nc\n",
    "\n",
    "'Tumbarumba/2022_v1/L6/default/Tumbarumba_L6_20020107_20191231_Monthly.nc'\n",
    "\n",
    "/Gingin/2022_v1/L6/default/Gingin_L6_20111013_20201231_Monthly.nc\n",
    "\n",
    "Gingin/2022_v1/L6/default/Gingin_L6_20111013_20201231_Daily.nc\n",
    "\n",
    "CumberlandPlain/2022_v1/L6/default/CumberlandPlain_L6_20140101_20220101_Monthly.nc\n",
    "\n",
    "AliceSpringsMulga/2022_v1/L6/default/AliceSpringsMulga_L6_20100903_20211231_Monthly.nc\n",
    "\n",
    "Whroo/2022_v1/L6/default/Whroo_L6_20111201_20220218_Monthly.nc\n",
    "\n",
    "Whroo/2022_v1/L6/default/Whroo_L6_20111201_20220218_Daily.nc\n",
    "\n",
    "DryRiver/2022_v1/L6/default/DryRiver_L6_20091025_20220218_Monthly.nc\n",
    "\n",
    "AliceSpringsMulga/2022_v1/L6/default/AliceSpringsMulga_L6_20100903_20211231_Daily.nc\n",
    "\n",
    "GreatWesternWoodlands/2022_v1/L6/default/GreatWesternWoodlands_L6_20130101_20220101_Daily.nc\n",
    "\n",
    "GreatWesternWoodlands/2022_v1/L6/default/GreatWesternWoodlands_L6_20130101_20220101_Monthly.nc "
   ]
  },
  {
   "cell_type": "code",
   "execution_count": null,
   "metadata": {},
   "outputs": [],
   "source": [
    "site = 'Tumbarumba/2022_v1/L6/default/Tumbarumba_L6_20020107_20191231_Daily.nc'\n",
    "        \n",
    "# site = '/g/data/os22/chad_tmp/NEE_modelling/data/ec_netcdfs/Gingi_EC_site.nc'\n",
    "var = ['GPP_SOLO', 'Ta', 'VPD','Precip', 'ET', 'Fsd']\n",
    "var_names = ['GPP','Ta', 'VPD', 'precip', 'ET', 'solar']\n",
    "test_split=0.80\n",
    "n=12"
   ]
  },
  {
   "cell_type": "markdown",
   "metadata": {},
   "source": [
    "## Load data"
   ]
  },
  {
   "cell_type": "code",
   "execution_count": null,
   "metadata": {},
   "outputs": [],
   "source": [
    "def VPD(rh, ta):\n",
    "    sat_vp = (6.11 * np.exp((2500000/461) * (1/273 - 1/(273 + ta))))\n",
    "    vpd = (((100 - rh)/100) * sat_vp)\n",
    "    return vpd\n",
    "\n",
    "ds = xr.open_dataset('https://dap.tern.org.au/thredds/dodsC/ecosystem_process/ozflux/'+site)\n",
    "ds['GPP_SOLO'] = xr.where(ds.GPP_SOLO < 0, 0, ds.GPP_SOLO)  #Set negative GPP, ER, and ET measurements as zero\n",
    "ds['ER_SOLO'] = xr.where(ds.ER_SOLO < 0, 0, ds.ER_SOLO)  #Set negative GPP, ER, and ET measurements as zero\n",
    "ds['ET'] = xr.where(ds.ET < 0, 0, ds.ET)  #Set negative GPP, ER, and ET measurements as zero\n",
    "ds['VPD'] = VPD(ds.RH, ds.Ta)\n",
    "ds = ds[var]\n",
    "\n",
    "# anomalization\n",
    "# ds_clim_mean = ds.groupby('time.month').mean()\n",
    "# ds = (ds.groupby('time.month') - ds_clim_mean)\n",
    "\n",
    "ds = ds.resample(time='1W').mean()\n",
    "\n",
    "df = ds.to_dataframe().reset_index(\n",
    "        level=[1, 2]).drop(['latitude', 'longitude'], axis=1)\n",
    "\n",
    "df = df[var].dropna()"
   ]
  },
  {
   "cell_type": "code",
   "execution_count": null,
   "metadata": {},
   "outputs": [],
   "source": [
    "# site = '/g/data/os22/chad_tmp/NEE_modelling/results/training_data/Great_training_data.csv'\n",
    "# var = ['GPP_SOLO_EC', 'Ta_EC', 'VPD_EC', 'precip_RS', 'LAI_RS', 'ET_EC', 'solar_RS']\n",
    "# var_names = ['GPP','Ta', 'VPD', 'precip', 'LAI', 'ET', 'solar']\n",
    "\n",
    "# df_in = pd.read_csv(site, index_col='time', parse_dates=True)\n",
    "# df_in = df_in[var]\n",
    "\n",
    "# df_in = df_in.reset_index()\n",
    "# df_in['time'] = df_in['time'].astype(\"datetime64[M]\")\n",
    "# df_in = df_in.set_index('time')"
   ]
  },
  {
   "cell_type": "markdown",
   "metadata": {},
   "source": [
    "## Casual predictor selection"
   ]
  },
  {
   "cell_type": "code",
   "execution_count": null,
   "metadata": {},
   "outputs": [],
   "source": [
    "import sklearn\n",
    "from sklearn.ensemble import RandomForestRegressor\n",
    "\n",
    "target=0\n",
    "tau_max=1\n",
    "steps_ahead=1\n",
    "data = df.values\n",
    "T, N = data.shape\n",
    "\n",
    "# Initialize dataframe object, specify time axis and variable names\n",
    "dataframe = pp.DataFrame(data, \n",
    "                         datatime = {0:np.arange(len(data))}, \n",
    "                         var_names=var_names)\n",
    "\n",
    "pred = Prediction(dataframe=dataframe,\n",
    "        cond_ind_test=ParCorr(), \n",
    "        prediction_model=RandomForestRegressor(),\n",
    "        # data_transform=sklearn.preprocessing.StandardScaler(),\n",
    "        train_indices= range(int(0.95*T)),\n",
    "        test_indices= range(int(0.95*T), T),\n",
    "        verbosity=0\n",
    "    )\n",
    "\n",
    "# Make solar have no parents\n",
    "selected_links = {}\n",
    "\n",
    "for j in range(N):\n",
    "    if j in list(range(N-1)):\n",
    "        selected_links[j] = [(var, -lag) for var in range(N)\n",
    "                         for lag in range(0, tau_max + 1)]\n",
    "    else:\n",
    "        selected_links[j] = []\n",
    "\n",
    "predictors = pred.get_predictors(\n",
    "                  selected_targets=[target],\n",
    "                  steps_ahead=steps_ahead,\n",
    "                  tau_max=tau_max,\n",
    "                  pc_alpha=0.05,\n",
    "                  selected_links=selected_links\n",
    "                  )\n",
    "\n",
    "graph = np.zeros((N, N, tau_max+1), dtype='bool')\n",
    "\n",
    "for j in [target]:\n",
    "    for p in predictors[j]:\n",
    "        graph[p[0], j, abs(p[1])] = 1\n",
    "\n",
    "# Plot time series graph\n",
    "tp.plot_time_series_graph(\n",
    "    figsize=(6, 3),\n",
    "#     node_aspect=2.,\n",
    "    val_matrix=np.ones(graph.shape),\n",
    "    graph=graph,\n",
    "    var_names=var_names,\n",
    "    link_colorbar_label='',\n",
    "    );"
   ]
  },
  {
   "cell_type": "markdown",
   "metadata": {},
   "source": [
    "### Remove variables not casually related"
   ]
  },
  {
   "cell_type": "code",
   "execution_count": null,
   "metadata": {},
   "outputs": [],
   "source": [
    "gpp_predictors = predictors.get(target)\n",
    "results = []\n",
    "for i in gpp_predictors:\n",
    "    col = df.columns[i[0]]\n",
    "    results.append(col)\n",
    "\n",
    "df = df[results]"
   ]
  },
  {
   "cell_type": "markdown",
   "metadata": {},
   "source": [
    "## Start from saved csvs"
   ]
  },
  {
   "cell_type": "code",
   "execution_count": 29,
   "metadata": {},
   "outputs": [],
   "source": [
    "# df.to_csv('/g/data/os22/chad_tmp/NEE_modelling/notebooks/'+site[0:4]+'.csv')\n",
    "df = pd.read_csv('/g/data/os22/chad_tmp/NEE_modelling/notebooks/Alic.csv', index_col='time', parse_dates=True)\n",
    "\n",
    "var = ['GPP_SOLO', 'Ta', 'VPD','Precip', 'ET', 'Fsd']\n",
    "var_names = ['GPP','Ta', 'VPD', 'precip', 'ET', 'solar']\n",
    "test_split=0.80\n",
    "n=12"
   ]
  },
  {
   "cell_type": "markdown",
   "metadata": {},
   "source": [
    "### Training with climate as multivariate"
   ]
  },
  {
   "cell_type": "code",
   "execution_count": 30,
   "metadata": {
    "tags": []
   },
   "outputs": [],
   "source": [
    "series_gpp = TimeSeries.from_dataframe(df)"
   ]
  },
  {
   "cell_type": "markdown",
   "metadata": {},
   "source": [
    "### Training with climate as covariables"
   ]
  },
  {
   "cell_type": "code",
   "execution_count": 31,
   "metadata": {},
   "outputs": [],
   "source": [
    "# target variable\n",
    "series_gpp_arima = TimeSeries.from_dataframe(df, value_cols=[var[0]])\n",
    "# series_gpp = remove_trend(series_gpp)\n",
    "\n",
    "# add first covariates\n",
    "# covariates = df[df.columns[1]] \n",
    "# covariates = TimeSeries.from_series(covariates)\n",
    "\n",
    "# # stack the remaining covariates\n",
    "# if len(df.columns) > 2:\n",
    "#     for i in range(0, len(df.columns[2:])):\n",
    "#         series =  df[df.columns[2+i]]\n",
    "#         series = TimeSeries.from_series(series)\n",
    "#         covariates=covariates.stack(series)\n",
    "        \n",
    "#add seasonality and trend as covariates\n",
    "# trends = extract_trend_and_seasonality(series_gpp, model =SeasonalityMode.ADDITIVE, method='STL')\n",
    "# covariates = covariates.stack(trends[0])\n",
    "# covariates = covariates.stack(trends[1])"
   ]
  },
  {
   "cell_type": "markdown",
   "metadata": {},
   "source": [
    "## Fit a model on training dataset\n",
    "\n",
    "Scaling data before fitting\n",
    "\n",
    "<!-- # RNN Model\n",
    "# model = BlockRNNModel(\n",
    "#     model=\"LSTM\",\n",
    "#     input_chunk_length=int(len(df)/3),\n",
    "#     output_chunk_length=3,\n",
    "#     pl_trainer_kwargs={'accelerator':'cuda', 'devices':1} #use GPUs\n",
    "# )\n",
    "\n",
    "# model = TCNModel(\n",
    "#     input_chunk_length=int(len(df)/3),\n",
    "#     output_chunk_length=3\n",
    "# )\n",
    "\n",
    "# model = LightGBMModel(lags=3, lags_past_covariates=3, output_chunk_length=3, likelihood='quantile')\n",
    "# model = LinearRegressionModel(lags=3, lags_past_covariates=3, output_chunk_length=3, likelihood='quantile') -->"
   ]
  },
  {
   "cell_type": "code",
   "execution_count": 32,
   "metadata": {},
   "outputs": [],
   "source": [
    "scaler = Scaler()\n",
    "series_gpp_scaled = scaler.fit_transform(series_gpp)\n",
    "\n",
    "scaler_arima = Scaler()\n",
    "series_gpp_scaled_arima = scaler_arima.fit_transform(series_gpp_arima)\n",
    "\n",
    "# scaler_cov = Scaler()\n",
    "# covariates = scaler_cov.fit_transform(covariates)"
   ]
  },
  {
   "cell_type": "code",
   "execution_count": 47,
   "metadata": {},
   "outputs": [
    {
     "name": "stderr",
     "output_type": "stream",
     "text": [
      "2022-08-25 14:49:52 darts.models.forecasting.torch_forecasting_model INFO: Train dataset contains 359 samples.\n",
      "2022-08-25 14:49:52 darts.models.forecasting.torch_forecasting_model INFO: Time series values are 64-bits; casting model to float64.\n",
      "2022-08-25 14:49:53 pytorch_lightning.utilities.rank_zero INFO: GPU available: True (cuda), used: True\n",
      "2022-08-25 14:49:53 pytorch_lightning.utilities.rank_zero INFO: TPU available: False, using: 0 TPU cores\n",
      "2022-08-25 14:49:53 pytorch_lightning.utilities.rank_zero INFO: IPU available: False, using: 0 IPUs\n",
      "2022-08-25 14:49:53 pytorch_lightning.utilities.rank_zero INFO: HPU available: False, using: 0 HPUs\n",
      "2022-08-25 14:49:53 pytorch_lightning.accelerators.cuda INFO: LOCAL_RANK: 0 - CUDA_VISIBLE_DEVICES: [0]\n",
      "2022-08-25 14:49:53 pytorch_lightning.callbacks.model_summary INFO: \n",
      "  | Name          | Type             | Params\n",
      "---------------------------------------------------\n",
      "0 | criterion     | MSELoss          | 0     \n",
      "1 | train_metrics | MetricCollection | 0     \n",
      "2 | val_metrics   | MetricCollection | 0     \n",
      "3 | stacks        | ModuleList       | 1.9 M \n",
      "---------------------------------------------------\n",
      "1.1 M     Trainable params\n",
      "725 K     Non-trainable params\n",
      "1.9 M     Total params\n",
      "14.960    Total estimated model params size (MB)\n"
     ]
    },
    {
     "data": {
      "application/vnd.jupyter.widget-view+json": {
       "model_id": "8e18b131b24b436e82dc7b3683260110",
       "version_major": 2,
       "version_minor": 0
      },
      "text/plain": [
       "Training: 0it [00:00, ?it/s]"
      ]
     },
     "metadata": {},
     "output_type": "display_data"
    },
    {
     "name": "stderr",
     "output_type": "stream",
     "text": [
      "2022-08-25 14:50:06 pytorch_lightning.utilities.rank_zero INFO: `Trainer.fit` stopped: `max_epochs=80` reached.\n"
     ]
    },
    {
     "name": "stdout",
     "output_type": "stream",
     "text": [
      "CPU times: user 13.5 s, sys: 922 ms, total: 14.4 s\n",
      "Wall time: 14.4 s\n"
     ]
    },
    {
     "data": {
      "text/plain": [
       "<darts.models.forecasting.auto_arima.AutoARIMA at 0x14a7cdacd550>"
      ]
     },
     "execution_count": 47,
     "metadata": {},
     "output_type": "execute_result"
    }
   ],
   "source": [
    "%%time\n",
    "\n",
    "idx = int(len(series_gpp_scaled)*test_split)\n",
    "train, val = series_gpp_scaled.split_after(pd.Timestamp(series_gpp_scaled[idx].data_array().time.values[0]))\n",
    "# cov_train, cov_val = covariates.split_after(pd.Timestamp(series_gpp[idx].data_array().time.values[0]))\n",
    "\n",
    "train_arima, val_arima = series_gpp_scaled_arima.split_after(pd.Timestamp(series_gpp_scaled_arima[idx].data_array().time.values[0]))\n",
    "\n",
    "# covariables as enconders\n",
    "encoders = {\n",
    "    # \"cyclic\": {\"future\": [\"month\"]},\n",
    "    \"datetime_attribute\": {\"past\":[\"week\", \"month\", \"year\"]},\n",
    "    # \"position\": {\"past\": [\"absolute\"], \"future\": [\"relative\"]},\n",
    "    \"transformer\": Scaler(),\n",
    "}\n",
    "\n",
    "model = NBEATSModel(input_chunk_length=104,\n",
    "                    output_chunk_length=n,\n",
    "                    generic_architecture=False,\n",
    "                    likelihood=QuantileRegression(),\n",
    "                    random_state=0,\n",
    "                    n_epochs=80,\n",
    "                    add_encoders=encoders,\n",
    "                    # model_name='Mr_NBEATS',\n",
    "                    # save_checkpoints=True,\n",
    "                    # pl_trainer_kwargs={'accelerator':'cpu', #use cpus\n",
    "                    #                   # \"enable_progress_bar\": False\n",
    "                    #                   } \n",
    "                    pl_trainer_kwargs={'accelerator':'cuda', 'devices':1} #use GPUs\n",
    "                   )\n",
    "\n",
    "model_arima=AutoARIMA(n_jobs=-1, stepwise=False)\n",
    "                                \n",
    "model.fit(series=train) #past_covariates=covariates\n",
    "                                                             \n",
    "model_arima.fit(series=train_arima)                                                             "
   ]
  },
  {
   "cell_type": "markdown",
   "metadata": {},
   "source": [
    "## Predict on validation dataset"
   ]
  },
  {
   "cell_type": "code",
   "execution_count": 48,
   "metadata": {},
   "outputs": [
    {
     "name": "stderr",
     "output_type": "stream",
     "text": [
      "2022-08-25 14:50:07 pytorch_lightning.accelerators.cuda INFO: LOCAL_RANK: 0 - CUDA_VISIBLE_DEVICES: [0]\n"
     ]
    },
    {
     "data": {
      "application/vnd.jupyter.widget-view+json": {
       "model_id": "3f6ef6df6d7248ab9378717929f4ef34",
       "version_major": 2,
       "version_minor": 0
      },
      "text/plain": [
       "Predicting: 12it [00:00, ?it/s]"
      ]
     },
     "metadata": {},
     "output_type": "display_data"
    },
    {
     "data": {
      "text/plain": [
       "<matplotlib.legend.Legend at 0x14a7c419e760>"
      ]
     },
     "execution_count": 48,
     "metadata": {},
     "output_type": "execute_result"
    },
    {
     "data": {
      "image/png": "[encoded data removed]",
      "text/plain": [
       "<Figure size 1080x360 with 1 Axes>"
      ]
     },
     "metadata": {
      "needs_background": "light"
     },
     "output_type": "display_data"
    }
   ],
   "source": [
    "pred = model.predict(n=len(val), series=train, num_samples=100) #past_covariates=covariates\n",
    "\n",
    "pred_arima = model_arima.predict(n=len(val_arima))\n",
    "\n",
    "pred_r = scaler.inverse_transform(pred)\n",
    "val_r = scaler.inverse_transform(val)\n",
    "err = mape(val_r['GPP_SOLO'], pred_r['GPP_SOLO'])\n",
    "\n",
    "pred_r_arima = scaler_arima.inverse_transform(pred_arima)\n",
    "val_r_arima = scaler_arima.inverse_transform(val_arima)\n",
    "err_arima = mape(val_r_arima['GPP_SOLO'], pred_r_arima['GPP_SOLO'])\n",
    "\n",
    "fig,ax = plt.subplots(figsize=(15,5))\n",
    "\n",
    "series_gpp['GPP_SOLO'].plot(ax=ax, label='actual')\n",
    "pred_r['GPP_SOLO'].plot(ax=ax, lw=3, label='{}, MAPE_NBEATS={:.2f} %'.format('Forecast', err))\n",
    "pred_r_arima['GPP_SOLO'].plot(ax=ax, lw=3, label='{}, MAPE_ARIMA={:.2f} %'.format('Forecast', err_arima))\n",
    "\n",
    "plt.ylabel(var_names[0]+', gC/m2/week')\n",
    "plt.legend()"
   ]
  },
  {
   "cell_type": "markdown",
   "metadata": {},
   "source": [
    "## Iterative backtest"
   ]
  },
  {
   "cell_type": "code",
   "execution_count": 49,
   "metadata": {},
   "outputs": [
    {
     "data": {
      "application/vnd.jupyter.widget-view+json": {
       "model_id": "4caa4707db6f4bffa92d816da2eb752a",
       "version_major": 2,
       "version_minor": 0
      },
      "text/plain": [
       "  0%|          | 0/109 [00:00<?, ?it/s]"
      ]
     },
     "metadata": {},
     "output_type": "display_data"
    },
    {
     "name": "stderr",
     "output_type": "stream",
     "text": [
      "2022-08-25 14:50:08 pytorch_lightning.accelerators.cuda INFO: LOCAL_RANK: 0 - CUDA_VISIBLE_DEVICES: [0]\n"
     ]
    },
    {
     "data": {
      "application/vnd.jupyter.widget-view+json": {
       "model_id": "c58bd4be2bb442f79831083bd80b7284",
       "version_major": 2,
       "version_minor": 0
      },
      "text/plain": [
       "Predicting: 12it [00:00, ?it/s]"
      ]
     },
     "metadata": {},
     "output_type": "display_data"
    },
    {
     "name": "stderr",
     "output_type": "stream",
     "text": [
      "2022-08-25 14:50:08 pytorch_lightning.accelerators.cuda INFO: LOCAL_RANK: 0 - CUDA_VISIBLE_DEVICES: [0]\n"
     ]
    },
    {
     "data": {
      "application/vnd.jupyter.widget-view+json": {
       "model_id": "e482dc8a192249f9b3aafc2e0e74cce2",
       "version_major": 2,
       "version_minor": 0
      },
      "text/plain": [
       "Predicting: 12it [00:00, ?it/s]"
      ]
     },
     "metadata": {},
     "output_type": "display_data"
    },
    {
     "name": "stderr",
     "output_type": "stream",
     "text": [
      "2022-08-25 14:50:08 pytorch_lightning.accelerators.cuda INFO: LOCAL_RANK: 0 - CUDA_VISIBLE_DEVICES: [0]\n"
     ]
    },
    {
     "data": {
      "application/vnd.jupyter.widget-view+json": {
       "model_id": "d549b152ff9241bab01a4aa7a3502c33",
       "version_major": 2,
       "version_minor": 0
      },
      "text/plain": [
       "Predicting: 12it [00:00, ?it/s]"
      ]
     },
     "metadata": {},
     "output_type": "display_data"
    },
    {
     "name": "stderr",
     "output_type": "stream",
     "text": [
      "2022-08-25 14:50:08 pytorch_lightning.accelerators.cuda INFO: LOCAL_RANK: 0 - CUDA_VISIBLE_DEVICES: [0]\n"
     ]
    },
    {
     "data": {
      "application/vnd.jupyter.widget-view+json": {
       "model_id": "e4e23fd3fb44418a8ef71a00d49c4a4b",
       "version_major": 2,
       "version_minor": 0
      },
      "text/plain": [
       "Predicting: 12it [00:00, ?it/s]"
      ]
     },
     "metadata": {},
     "output_type": "display_data"
    },
    {
     "name": "stderr",
     "output_type": "stream",
     "text": [
      "2022-08-25 14:50:09 pytorch_lightning.accelerators.cuda INFO: LOCAL_RANK: 0 - CUDA_VISIBLE_DEVICES: [0]\n"
     ]
    },
    {
     "data": {
      "application/vnd.jupyter.widget-view+json": {
       "model_id": "dd2607dfc84e4a1d9b3f1e91020c7ef0",
       "version_major": 2,
       "version_minor": 0
      },
      "text/plain": [
       "Predicting: 12it [00:00, ?it/s]"
      ]
     },
     "metadata": {},
     "output_type": "display_data"
    },
    {
     "name": "stderr",
     "output_type": "stream",
     "text": [
      "2022-08-25 14:50:09 pytorch_lightning.accelerators.cuda INFO: LOCAL_RANK: 0 - CUDA_VISIBLE_DEVICES: [0]\n"
     ]
    },
    {
     "data": {
      "application/vnd.jupyter.widget-view+json": {
       "model_id": "fd290a6e05674255a680f0b9e39748b6",
       "version_major": 2,
       "version_minor": 0
      },
      "text/plain": [
       "Predicting: 12it [00:00, ?it/s]"
      ]
     },
     "metadata": {},
     "output_type": "display_data"
    },
    {
     "name": "stderr",
     "output_type": "stream",
     "text": [
      "2022-08-25 14:50:09 pytorch_lightning.accelerators.cuda INFO: LOCAL_RANK: 0 - CUDA_VISIBLE_DEVICES: [0]\n"
     ]
    },
    {
     "data": {
      "application/vnd.jupyter.widget-view+json": {
       "model_id": "3a6f7b22e7b146aaa684d3dcb27aaa8d",
       "version_major": 2,
       "version_minor": 0
      },
      "text/plain": [
       "Predicting: 12it [00:00, ?it/s]"
      ]
     },
     "metadata": {},
     "output_type": "display_data"
    },
    {
     "name": "stderr",
     "output_type": "stream",
     "text": [
      "2022-08-25 14:50:09 pytorch_lightning.accelerators.cuda INFO: LOCAL_RANK: 0 - CUDA_VISIBLE_DEVICES: [0]\n"
     ]
    },
    {
     "data": {
      "application/vnd.jupyter.widget-view+json": {
       "model_id": "bf4adc27fde9400fa44e3f5bc00daf24",
       "version_major": 2,
       "version_minor": 0
      },
      "text/plain": [
       "Predicting: 12it [00:00, ?it/s]"
      ]
     },
     "metadata": {},
     "output_type": "display_data"
    },
    {
     "name": "stderr",
     "output_type": "stream",
     "text": [
      "2022-08-25 14:50:10 pytorch_lightning.accelerators.cuda INFO: LOCAL_RANK: 0 - CUDA_VISIBLE_DEVICES: [0]\n"
     ]
    },
    {
     "data": {
      "application/vnd.jupyter.widget-view+json": {
       "model_id": "7f4c8760382d477e8f836d4ccffdbaf1",
       "version_major": 2,
       "version_minor": 0
      },
      "text/plain": [
       "Predicting: 12it [00:00, ?it/s]"
      ]
     },
     "metadata": {},
     "output_type": "display_data"
    },
    {
     "name": "stderr",
     "output_type": "stream",
     "text": [
      "2022-08-25 14:50:10 pytorch_lightning.accelerators.cuda INFO: LOCAL_RANK: 0 - CUDA_VISIBLE_DEVICES: [0]\n"
     ]
    },
    {
     "data": {
      "application/vnd.jupyter.widget-view+json": {
       "model_id": "8f6cf16cf3a94bbb8874debb4d2bbf1e",
       "version_major": 2,
       "version_minor": 0
      },
      "text/plain": [
       "Predicting: 12it [00:00, ?it/s]"
      ]
     },
     "metadata": {},
     "output_type": "display_data"
    },
    {
     "name": "stderr",
     "output_type": "stream",
     "text": [
      "2022-08-25 14:50:10 pytorch_lightning.accelerators.cuda INFO: LOCAL_RANK: 0 - CUDA_VISIBLE_DEVICES: [0]\n"
     ]
    },
    {
     "data": {
      "application/vnd.jupyter.widget-view+json": {
       "model_id": "cd643ccf047a4c1b90a1b8a8e2efb84d",
       "version_major": 2,
       "version_minor": 0
      },
      "text/plain": [
       "Predicting: 12it [00:00, ?it/s]"
      ]
     },
     "metadata": {},
     "output_type": "display_data"
    },
    {
     "name": "stderr",
     "output_type": "stream",
     "text": [
      "2022-08-25 14:50:10 pytorch_lightning.accelerators.cuda INFO: LOCAL_RANK: 0 - CUDA_VISIBLE_DEVICES: [0]\n"
     ]
    },
    {
     "data": {
      "application/vnd.jupyter.widget-view+json": {
       "model_id": "eaa1c9bfd27c4a1b93d46d0952ed504a",
       "version_major": 2,
       "version_minor": 0
      },
      "text/plain": [
       "Predicting: 12it [00:00, ?it/s]"
      ]
     },
     "metadata": {},
     "output_type": "display_data"
    },
    {
     "name": "stderr",
     "output_type": "stream",
     "text": [
      "2022-08-25 14:50:11 pytorch_lightning.accelerators.cuda INFO: LOCAL_RANK: 0 - CUDA_VISIBLE_DEVICES: [0]\n"
     ]
    },
    {
     "data": {
      "application/vnd.jupyter.widget-view+json": {
       "model_id": "5bd34027abcd457897bf94cd214a5e8f",
       "version_major": 2,
       "version_minor": 0
      },
      "text/plain": [
       "Predicting: 12it [00:00, ?it/s]"
      ]
     },
     "metadata": {},
     "output_type": "display_data"
    },
    {
     "name": "stderr",
     "output_type": "stream",
     "text": [
      "2022-08-25 14:50:11 pytorch_lightning.accelerators.cuda INFO: LOCAL_RANK: 0 - CUDA_VISIBLE_DEVICES: [0]\n"
     ]
    },
    {
     "data": {
      "application/vnd.jupyter.widget-view+json": {
       "model_id": "10c75060ce6244bfaa982ad181da72fd",
       "version_major": 2,
       "version_minor": 0
      },
      "text/plain": [
       "Predicting: 12it [00:00, ?it/s]"
      ]
     },
     "metadata": {},
     "output_type": "display_data"
    },
    {
     "name": "stderr",
     "output_type": "stream",
     "text": [
      "2022-08-25 14:50:11 pytorch_lightning.accelerators.cuda INFO: LOCAL_RANK: 0 - CUDA_VISIBLE_DEVICES: [0]\n"
     ]
    },
    {
     "data": {
      "application/vnd.jupyter.widget-view+json": {
       "model_id": "c9dbac05736d48e0bbeeeb8672cbdd30",
       "version_major": 2,
       "version_minor": 0
      },
      "text/plain": [
       "Predicting: 12it [00:00, ?it/s]"
      ]
     },
     "metadata": {},
     "output_type": "display_data"
    },
    {
     "name": "stderr",
     "output_type": "stream",
     "text": [
      "2022-08-25 14:50:11 pytorch_lightning.accelerators.cuda INFO: LOCAL_RANK: 0 - CUDA_VISIBLE_DEVICES: [0]\n"
     ]
    },
    {
     "data": {
      "application/vnd.jupyter.widget-view+json": {
       "model_id": "058a94384c3c4cbe99c6665c84d0d709",
       "version_major": 2,
       "version_minor": 0
      },
      "text/plain": [
       "Predicting: 12it [00:00, ?it/s]"
      ]
     },
     "metadata": {},
     "output_type": "display_data"
    },
    {
     "name": "stderr",
     "output_type": "stream",
     "text": [
      "2022-08-25 14:50:11 pytorch_lightning.accelerators.cuda INFO: LOCAL_RANK: 0 - CUDA_VISIBLE_DEVICES: [0]\n"
     ]
    },
    {
     "data": {
      "application/vnd.jupyter.widget-view+json": {
       "model_id": "7371c037bd5549dbb76aaf70540fd98c",
       "version_major": 2,
       "version_minor": 0
      },
      "text/plain": [
       "Predicting: 12it [00:00, ?it/s]"
      ]
     },
     "metadata": {},
     "output_type": "display_data"
    },
    {
     "name": "stderr",
     "output_type": "stream",
     "text": [
      "2022-08-25 14:50:12 pytorch_lightning.accelerators.cuda INFO: LOCAL_RANK: 0 - CUDA_VISIBLE_DEVICES: [0]\n"
     ]
    },
    {
     "data": {
      "application/vnd.jupyter.widget-view+json": {
       "model_id": "4137f69caa8e4d9bbb41af8cf67c6c40",
       "version_major": 2,
       "version_minor": 0
      },
      "text/plain": [
       "Predicting: 12it [00:00, ?it/s]"
      ]
     },
     "metadata": {},
     "output_type": "display_data"
    },
    {
     "name": "stderr",
     "output_type": "stream",
     "text": [
      "2022-08-25 14:50:12 pytorch_lightning.accelerators.cuda INFO: LOCAL_RANK: 0 - CUDA_VISIBLE_DEVICES: [0]\n"
     ]
    },
    {
     "data": {
      "application/vnd.jupyter.widget-view+json": {
       "model_id": "ea855886660148ff9b63390101ba1943",
       "version_major": 2,
       "version_minor": 0
      },
      "text/plain": [
       "Predicting: 12it [00:00, ?it/s]"
      ]
     },
     "metadata": {},
     "output_type": "display_data"
    },
    {
     "name": "stderr",
     "output_type": "stream",
     "text": [
      "2022-08-25 14:50:12 pytorch_lightning.accelerators.cuda INFO: LOCAL_RANK: 0 - CUDA_VISIBLE_DEVICES: [0]\n"
     ]
    },
    {
     "data": {
      "application/vnd.jupyter.widget-view+json": {
       "model_id": "db7571bf29e14b8d8802adae5c404d66",
       "version_major": 2,
       "version_minor": 0
      },
      "text/plain": [
       "Predicting: 12it [00:00, ?it/s]"
      ]
     },
     "metadata": {},
     "output_type": "display_data"
    },
    {
     "name": "stderr",
     "output_type": "stream",
     "text": [
      "2022-08-25 14:50:12 pytorch_lightning.accelerators.cuda INFO: LOCAL_RANK: 0 - CUDA_VISIBLE_DEVICES: [0]\n"
     ]
    },
    {
     "data": {
      "application/vnd.jupyter.widget-view+json": {
       "model_id": "0bbee0fae65f4d86860f1dd0924a3d46",
       "version_major": 2,
       "version_minor": 0
      },
      "text/plain": [
       "Predicting: 12it [00:00, ?it/s]"
      ]
     },
     "metadata": {},
     "output_type": "display_data"
    },
    {
     "name": "stderr",
     "output_type": "stream",
     "text": [
      "2022-08-25 14:50:13 pytorch_lightning.accelerators.cuda INFO: LOCAL_RANK: 0 - CUDA_VISIBLE_DEVICES: [0]\n"
     ]
    },
    {
     "data": {
      "application/vnd.jupyter.widget-view+json": {
       "model_id": "efba860b44184bfd976c555d9a4a3a12",
       "version_major": 2,
       "version_minor": 0
      },
      "text/plain": [
       "Predicting: 12it [00:00, ?it/s]"
      ]
     },
     "metadata": {},
     "output_type": "display_data"
    },
    {
     "name": "stderr",
     "output_type": "stream",
     "text": [
      "2022-08-25 14:50:13 pytorch_lightning.accelerators.cuda INFO: LOCAL_RANK: 0 - CUDA_VISIBLE_DEVICES: [0]\n"
     ]
    },
    {
     "data": {
      "application/vnd.jupyter.widget-view+json": {
       "model_id": "fb9b3b9d19624aab988262b98073a54e",
       "version_major": 2,
       "version_minor": 0
      },
      "text/plain": [
       "Predicting: 12it [00:00, ?it/s]"
      ]
     },
     "metadata": {},
     "output_type": "display_data"
    },
    {
     "name": "stderr",
     "output_type": "stream",
     "text": [
      "2022-08-25 14:50:13 pytorch_lightning.accelerators.cuda INFO: LOCAL_RANK: 0 - CUDA_VISIBLE_DEVICES: [0]\n"
     ]
    },
    {
     "data": {
      "application/vnd.jupyter.widget-view+json": {
       "model_id": "ff53eb3acf9b4aa08ae89bdcae9c84a2",
       "version_major": 2,
       "version_minor": 0
      },
      "text/plain": [
       "Predicting: 12it [00:00, ?it/s]"
      ]
     },
     "metadata": {},
     "output_type": "display_data"
    },
    {
     "name": "stderr",
     "output_type": "stream",
     "text": [
      "2022-08-25 14:50:13 pytorch_lightning.accelerators.cuda INFO: LOCAL_RANK: 0 - CUDA_VISIBLE_DEVICES: [0]\n"
     ]
    },
    {
     "data": {
      "application/vnd.jupyter.widget-view+json": {
       "model_id": "b433564e68fd4bbb9585e920e7579e6a",
       "version_major": 2,
       "version_minor": 0
      },
      "text/plain": [
       "Predicting: 12it [00:00, ?it/s]"
      ]
     },
     "metadata": {},
     "output_type": "display_data"
    },
    {
     "name": "stderr",
     "output_type": "stream",
     "text": [
      "2022-08-25 14:50:14 pytorch_lightning.accelerators.cuda INFO: LOCAL_RANK: 0 - CUDA_VISIBLE_DEVICES: [0]\n"
     ]
    },
    {
     "data": {
      "application/vnd.jupyter.widget-view+json": {
       "model_id": "13f6db873816495289a9519ad2697959",
       "version_major": 2,
       "version_minor": 0
      },
      "text/plain": [
       "Predicting: 12it [00:00, ?it/s]"
      ]
     },
     "metadata": {},
     "output_type": "display_data"
    },
    {
     "name": "stderr",
     "output_type": "stream",
     "text": [
      "2022-08-25 14:50:14 pytorch_lightning.accelerators.cuda INFO: LOCAL_RANK: 0 - CUDA_VISIBLE_DEVICES: [0]\n"
     ]
    },
    {
     "data": {
      "application/vnd.jupyter.widget-view+json": {
       "model_id": "79f6cf4cb2fd4ef497581367fbcd0bce",
       "version_major": 2,
       "version_minor": 0
      },
      "text/plain": [
       "Predicting: 12it [00:00, ?it/s]"
      ]
     },
     "metadata": {},
     "output_type": "display_data"
    },
    {
     "name": "stderr",
     "output_type": "stream",
     "text": [
      "2022-08-25 14:50:14 pytorch_lightning.accelerators.cuda INFO: LOCAL_RANK: 0 - CUDA_VISIBLE_DEVICES: [0]\n"
     ]
    },
    {
     "data": {
      "application/vnd.jupyter.widget-view+json": {
       "model_id": "309f7b4846dd45d4bc5e73b2574450ed",
       "version_major": 2,
       "version_minor": 0
      },
      "text/plain": [
       "Predicting: 12it [00:00, ?it/s]"
      ]
     },
     "metadata": {},
     "output_type": "display_data"
    },
    {
     "name": "stderr",
     "output_type": "stream",
     "text": [
      "2022-08-25 14:50:14 pytorch_lightning.accelerators.cuda INFO: LOCAL_RANK: 0 - CUDA_VISIBLE_DEVICES: [0]\n"
     ]
    },
    {
     "data": {
      "application/vnd.jupyter.widget-view+json": {
       "model_id": "450938633a8d4eaba39c8befefc347ea",
       "version_major": 2,
       "version_minor": 0
      },
      "text/plain": [
       "Predicting: 12it [00:00, ?it/s]"
      ]
     },
     "metadata": {},
     "output_type": "display_data"
    },
    {
     "name": "stderr",
     "output_type": "stream",
     "text": [
      "2022-08-25 14:50:15 pytorch_lightning.accelerators.cuda INFO: LOCAL_RANK: 0 - CUDA_VISIBLE_DEVICES: [0]\n"
     ]
    },
    {
     "data": {
      "application/vnd.jupyter.widget-view+json": {
       "model_id": "733624d5068b4d6fb2df27324200ead1",
       "version_major": 2,
       "version_minor": 0
      },
      "text/plain": [
       "Predicting: 12it [00:00, ?it/s]"
      ]
     },
     "metadata": {},
     "output_type": "display_data"
    },
    {
     "name": "stderr",
     "output_type": "stream",
     "text": [
      "2022-08-25 14:50:15 pytorch_lightning.accelerators.cuda INFO: LOCAL_RANK: 0 - CUDA_VISIBLE_DEVICES: [0]\n"
     ]
    },
    {
     "data": {
      "application/vnd.jupyter.widget-view+json": {
       "model_id": "ef6a7e9b6b58485f92c8eb262503e035",
       "version_major": 2,
       "version_minor": 0
      },
      "text/plain": [
       "Predicting: 12it [00:00, ?it/s]"
      ]
     },
     "metadata": {},
     "output_type": "display_data"
    },
    {
     "name": "stderr",
     "output_type": "stream",
     "text": [
      "2022-08-25 14:50:15 pytorch_lightning.accelerators.cuda INFO: LOCAL_RANK: 0 - CUDA_VISIBLE_DEVICES: [0]\n"
     ]
    },
    {
     "data": {
      "application/vnd.jupyter.widget-view+json": {
       "model_id": "af0672ac4cc7489b9da177b95661c0be",
       "version_major": 2,
       "version_minor": 0
      },
      "text/plain": [
       "Predicting: 12it [00:00, ?it/s]"
      ]
     },
     "metadata": {},
     "output_type": "display_data"
    },
    {
     "name": "stderr",
     "output_type": "stream",
     "text": [
      "2022-08-25 14:50:15 pytorch_lightning.accelerators.cuda INFO: LOCAL_RANK: 0 - CUDA_VISIBLE_DEVICES: [0]\n"
     ]
    },
    {
     "data": {
      "application/vnd.jupyter.widget-view+json": {
       "model_id": "4fdce05f59664bf09c6b07ebcb5a4b00",
       "version_major": 2,
       "version_minor": 0
      },
      "text/plain": [
       "Predicting: 12it [00:00, ?it/s]"
      ]
     },
     "metadata": {},
     "output_type": "display_data"
    },
    {
     "name": "stderr",
     "output_type": "stream",
     "text": [
      "2022-08-25 14:50:15 pytorch_lightning.accelerators.cuda INFO: LOCAL_RANK: 0 - CUDA_VISIBLE_DEVICES: [0]\n"
     ]
    },
    {
     "data": {
      "application/vnd.jupyter.widget-view+json": {
       "model_id": "4523902a24aa448ba6548c440aee19ec",
       "version_major": 2,
       "version_minor": 0
      },
      "text/plain": [
       "Predicting: 12it [00:00, ?it/s]"
      ]
     },
     "metadata": {},
     "output_type": "display_data"
    },
    {
     "name": "stderr",
     "output_type": "stream",
     "text": [
      "2022-08-25 14:50:16 pytorch_lightning.accelerators.cuda INFO: LOCAL_RANK: 0 - CUDA_VISIBLE_DEVICES: [0]\n"
     ]
    },
    {
     "data": {
      "application/vnd.jupyter.widget-view+json": {
       "model_id": "c4ee8682952a481d8d7acfadb600a20f",
       "version_major": 2,
       "version_minor": 0
      },
      "text/plain": [
       "Predicting: 12it [00:00, ?it/s]"
      ]
     },
     "metadata": {},
     "output_type": "display_data"
    },
    {
     "name": "stderr",
     "output_type": "stream",
     "text": [
      "2022-08-25 14:50:16 pytorch_lightning.accelerators.cuda INFO: LOCAL_RANK: 0 - CUDA_VISIBLE_DEVICES: [0]\n"
     ]
    },
    {
     "data": {
      "application/vnd.jupyter.widget-view+json": {
       "model_id": "aed59a5832224245af671ef1af6428a6",
       "version_major": 2,
       "version_minor": 0
      },
      "text/plain": [
       "Predicting: 12it [00:00, ?it/s]"
      ]
     },
     "metadata": {},
     "output_type": "display_data"
    },
    {
     "name": "stderr",
     "output_type": "stream",
     "text": [
      "2022-08-25 14:50:16 pytorch_lightning.accelerators.cuda INFO: LOCAL_RANK: 0 - CUDA_VISIBLE_DEVICES: [0]\n"
     ]
    },
    {
     "data": {
      "application/vnd.jupyter.widget-view+json": {
       "model_id": "8d7be29ee7874645ad03ba585dd97693",
       "version_major": 2,
       "version_minor": 0
      },
      "text/plain": [
       "Predicting: 12it [00:00, ?it/s]"
      ]
     },
     "metadata": {},
     "output_type": "display_data"
    },
    {
     "name": "stderr",
     "output_type": "stream",
     "text": [
      "2022-08-25 14:50:16 pytorch_lightning.accelerators.cuda INFO: LOCAL_RANK: 0 - CUDA_VISIBLE_DEVICES: [0]\n"
     ]
    },
    {
     "data": {
      "application/vnd.jupyter.widget-view+json": {
       "model_id": "1e87543090b84a93831e80cd4cc446c7",
       "version_major": 2,
       "version_minor": 0
      },
      "text/plain": [
       "Predicting: 12it [00:00, ?it/s]"
      ]
     },
     "metadata": {},
     "output_type": "display_data"
    },
    {
     "name": "stderr",
     "output_type": "stream",
     "text": [
      "2022-08-25 14:50:17 pytorch_lightning.accelerators.cuda INFO: LOCAL_RANK: 0 - CUDA_VISIBLE_DEVICES: [0]\n"
     ]
    },
    {
     "data": {
      "application/vnd.jupyter.widget-view+json": {
       "model_id": "bb84c1ebacf14ae7a919234455b37d20",
       "version_major": 2,
       "version_minor": 0
      },
      "text/plain": [
       "Predicting: 12it [00:00, ?it/s]"
      ]
     },
     "metadata": {},
     "output_type": "display_data"
    },
    {
     "name": "stderr",
     "output_type": "stream",
     "text": [
      "2022-08-25 14:50:17 pytorch_lightning.accelerators.cuda INFO: LOCAL_RANK: 0 - CUDA_VISIBLE_DEVICES: [0]\n"
     ]
    },
    {
     "data": {
      "application/vnd.jupyter.widget-view+json": {
       "model_id": "eb04154013e648068007e4cd0270e4ca",
       "version_major": 2,
       "version_minor": 0
      },
      "text/plain": [
       "Predicting: 12it [00:00, ?it/s]"
      ]
     },
     "metadata": {},
     "output_type": "display_data"
    },
    {
     "name": "stderr",
     "output_type": "stream",
     "text": [
      "2022-08-25 14:50:17 pytorch_lightning.accelerators.cuda INFO: LOCAL_RANK: 0 - CUDA_VISIBLE_DEVICES: [0]\n"
     ]
    },
    {
     "data": {
      "application/vnd.jupyter.widget-view+json": {
       "model_id": "3663bfa2609b4a3fb958bb1d2b71ff13",
       "version_major": 2,
       "version_minor": 0
      },
      "text/plain": [
       "Predicting: 12it [00:00, ?it/s]"
      ]
     },
     "metadata": {},
     "output_type": "display_data"
    },
    {
     "name": "stderr",
     "output_type": "stream",
     "text": [
      "2022-08-25 14:50:17 pytorch_lightning.accelerators.cuda INFO: LOCAL_RANK: 0 - CUDA_VISIBLE_DEVICES: [0]\n"
     ]
    },
    {
     "data": {
      "application/vnd.jupyter.widget-view+json": {
       "model_id": "b8547e514fac4bb4a0b86eb810661f51",
       "version_major": 2,
       "version_minor": 0
      },
      "text/plain": [
       "Predicting: 12it [00:00, ?it/s]"
      ]
     },
     "metadata": {},
     "output_type": "display_data"
    },
    {
     "name": "stderr",
     "output_type": "stream",
     "text": [
      "2022-08-25 14:50:18 pytorch_lightning.accelerators.cuda INFO: LOCAL_RANK: 0 - CUDA_VISIBLE_DEVICES: [0]\n"
     ]
    },
    {
     "data": {
      "application/vnd.jupyter.widget-view+json": {
       "model_id": "613e95f15a264c7981ecadc3f7cc1f1b",
       "version_major": 2,
       "version_minor": 0
      },
      "text/plain": [
       "Predicting: 12it [00:00, ?it/s]"
      ]
     },
     "metadata": {},
     "output_type": "display_data"
    },
    {
     "name": "stderr",
     "output_type": "stream",
     "text": [
      "2022-08-25 14:50:18 pytorch_lightning.accelerators.cuda INFO: LOCAL_RANK: 0 - CUDA_VISIBLE_DEVICES: [0]\n"
     ]
    },
    {
     "data": {
      "application/vnd.jupyter.widget-view+json": {
       "model_id": "267998c30fe54e44981f70cca24ec094",
       "version_major": 2,
       "version_minor": 0
      },
      "text/plain": [
       "Predicting: 12it [00:00, ?it/s]"
      ]
     },
     "metadata": {},
     "output_type": "display_data"
    },
    {
     "name": "stderr",
     "output_type": "stream",
     "text": [
      "2022-08-25 14:50:18 pytorch_lightning.accelerators.cuda INFO: LOCAL_RANK: 0 - CUDA_VISIBLE_DEVICES: [0]\n"
     ]
    },
    {
     "data": {
      "application/vnd.jupyter.widget-view+json": {
       "model_id": "1a2f586bcef04e8c84b006d5f11d76f4",
       "version_major": 2,
       "version_minor": 0
      },
      "text/plain": [
       "Predicting: 12it [00:00, ?it/s]"
      ]
     },
     "metadata": {},
     "output_type": "display_data"
    },
    {
     "name": "stderr",
     "output_type": "stream",
     "text": [
      "2022-08-25 14:50:18 pytorch_lightning.accelerators.cuda INFO: LOCAL_RANK: 0 - CUDA_VISIBLE_DEVICES: [0]\n"
     ]
    },
    {
     "data": {
      "application/vnd.jupyter.widget-view+json": {
       "model_id": "4da08972174d4d9db071886cafe19cc2",
       "version_major": 2,
       "version_minor": 0
      },
      "text/plain": [
       "Predicting: 12it [00:00, ?it/s]"
      ]
     },
     "metadata": {},
     "output_type": "display_data"
    },
    {
     "name": "stderr",
     "output_type": "stream",
     "text": [
      "2022-08-25 14:50:19 pytorch_lightning.accelerators.cuda INFO: LOCAL_RANK: 0 - CUDA_VISIBLE_DEVICES: [0]\n"
     ]
    },
    {
     "data": {
      "application/vnd.jupyter.widget-view+json": {
       "model_id": "900df0099fd645bfb803058101fe5533",
       "version_major": 2,
       "version_minor": 0
      },
      "text/plain": [
       "Predicting: 12it [00:00, ?it/s]"
      ]
     },
     "metadata": {},
     "output_type": "display_data"
    },
    {
     "name": "stderr",
     "output_type": "stream",
     "text": [
      "2022-08-25 14:50:19 pytorch_lightning.accelerators.cuda INFO: LOCAL_RANK: 0 - CUDA_VISIBLE_DEVICES: [0]\n"
     ]
    },
    {
     "data": {
      "application/vnd.jupyter.widget-view+json": {
       "model_id": "0c0aa7888649427eb9bb97202628d181",
       "version_major": 2,
       "version_minor": 0
      },
      "text/plain": [
       "Predicting: 12it [00:00, ?it/s]"
      ]
     },
     "metadata": {},
     "output_type": "display_data"
    },
    {
     "name": "stderr",
     "output_type": "stream",
     "text": [
      "2022-08-25 14:50:19 pytorch_lightning.accelerators.cuda INFO: LOCAL_RANK: 0 - CUDA_VISIBLE_DEVICES: [0]\n"
     ]
    },
    {
     "data": {
      "application/vnd.jupyter.widget-view+json": {
       "model_id": "2e00aa8b79c74c588b2e36f316ab7e55",
       "version_major": 2,
       "version_minor": 0
      },
      "text/plain": [
       "Predicting: 12it [00:00, ?it/s]"
      ]
     },
     "metadata": {},
     "output_type": "display_data"
    },
    {
     "name": "stderr",
     "output_type": "stream",
     "text": [
      "2022-08-25 14:50:19 pytorch_lightning.accelerators.cuda INFO: LOCAL_RANK: 0 - CUDA_VISIBLE_DEVICES: [0]\n"
     ]
    },
    {
     "data": {
      "application/vnd.jupyter.widget-view+json": {
       "model_id": "a51b2c1680c94f889670c61c81f9a959",
       "version_major": 2,
       "version_minor": 0
      },
      "text/plain": [
       "Predicting: 12it [00:00, ?it/s]"
      ]
     },
     "metadata": {},
     "output_type": "display_data"
    },
    {
     "name": "stderr",
     "output_type": "stream",
     "text": [
      "2022-08-25 14:50:20 pytorch_lightning.accelerators.cuda INFO: LOCAL_RANK: 0 - CUDA_VISIBLE_DEVICES: [0]\n"
     ]
    },
    {
     "data": {
      "application/vnd.jupyter.widget-view+json": {
       "model_id": "3be2a4e298964daea0f2ebaec8117fc8",
       "version_major": 2,
       "version_minor": 0
      },
      "text/plain": [
       "Predicting: 12it [00:00, ?it/s]"
      ]
     },
     "metadata": {},
     "output_type": "display_data"
    },
    {
     "name": "stderr",
     "output_type": "stream",
     "text": [
      "2022-08-25 14:50:20 pytorch_lightning.accelerators.cuda INFO: LOCAL_RANK: 0 - CUDA_VISIBLE_DEVICES: [0]\n"
     ]
    },
    {
     "data": {
      "application/vnd.jupyter.widget-view+json": {
       "model_id": "5833dfd3d24f42a4b0caabad25fb0180",
       "version_major": 2,
       "version_minor": 0
      },
      "text/plain": [
       "Predicting: 12it [00:00, ?it/s]"
      ]
     },
     "metadata": {},
     "output_type": "display_data"
    },
    {
     "name": "stderr",
     "output_type": "stream",
     "text": [
      "2022-08-25 14:50:20 pytorch_lightning.accelerators.cuda INFO: LOCAL_RANK: 0 - CUDA_VISIBLE_DEVICES: [0]\n"
     ]
    },
    {
     "data": {
      "application/vnd.jupyter.widget-view+json": {
       "model_id": "64cbe2f57d9242d2a0bcf82c2d977331",
       "version_major": 2,
       "version_minor": 0
      },
      "text/plain": [
       "Predicting: 12it [00:00, ?it/s]"
      ]
     },
     "metadata": {},
     "output_type": "display_data"
    },
    {
     "name": "stderr",
     "output_type": "stream",
     "text": [
      "2022-08-25 14:50:20 pytorch_lightning.accelerators.cuda INFO: LOCAL_RANK: 0 - CUDA_VISIBLE_DEVICES: [0]\n"
     ]
    },
    {
     "data": {
      "application/vnd.jupyter.widget-view+json": {
       "model_id": "884dfacda8b143e58641e56e34a5b14c",
       "version_major": 2,
       "version_minor": 0
      },
      "text/plain": [
       "Predicting: 12it [00:00, ?it/s]"
      ]
     },
     "metadata": {},
     "output_type": "display_data"
    },
    {
     "name": "stderr",
     "output_type": "stream",
     "text": [
      "2022-08-25 14:50:20 pytorch_lightning.accelerators.cuda INFO: LOCAL_RANK: 0 - CUDA_VISIBLE_DEVICES: [0]\n"
     ]
    },
    {
     "data": {
      "application/vnd.jupyter.widget-view+json": {
       "model_id": "6975859957724f68b7f0535e7cc2badf",
       "version_major": 2,
       "version_minor": 0
      },
      "text/plain": [
       "Predicting: 12it [00:00, ?it/s]"
      ]
     },
     "metadata": {},
     "output_type": "display_data"
    },
    {
     "name": "stderr",
     "output_type": "stream",
     "text": [
      "2022-08-25 14:50:21 pytorch_lightning.accelerators.cuda INFO: LOCAL_RANK: 0 - CUDA_VISIBLE_DEVICES: [0]\n"
     ]
    },
    {
     "data": {
      "application/vnd.jupyter.widget-view+json": {
       "model_id": "91aa9d625c8b471881f028683d224393",
       "version_major": 2,
       "version_minor": 0
      },
      "text/plain": [
       "Predicting: 12it [00:00, ?it/s]"
      ]
     },
     "metadata": {},
     "output_type": "display_data"
    },
    {
     "name": "stderr",
     "output_type": "stream",
     "text": [
      "2022-08-25 14:50:21 pytorch_lightning.accelerators.cuda INFO: LOCAL_RANK: 0 - CUDA_VISIBLE_DEVICES: [0]\n"
     ]
    },
    {
     "data": {
      "application/vnd.jupyter.widget-view+json": {
       "model_id": "a72a6b35ef514700840a036f41e4f990",
       "version_major": 2,
       "version_minor": 0
      },
      "text/plain": [
       "Predicting: 12it [00:00, ?it/s]"
      ]
     },
     "metadata": {},
     "output_type": "display_data"
    },
    {
     "name": "stderr",
     "output_type": "stream",
     "text": [
      "2022-08-25 14:50:21 pytorch_lightning.accelerators.cuda INFO: LOCAL_RANK: 0 - CUDA_VISIBLE_DEVICES: [0]\n"
     ]
    },
    {
     "data": {
      "application/vnd.jupyter.widget-view+json": {
       "model_id": "4837dbd1dc904707a8a536ea64527e0f",
       "version_major": 2,
       "version_minor": 0
      },
      "text/plain": [
       "Predicting: 12it [00:00, ?it/s]"
      ]
     },
     "metadata": {},
     "output_type": "display_data"
    },
    {
     "name": "stderr",
     "output_type": "stream",
     "text": [
      "2022-08-25 14:50:21 pytorch_lightning.accelerators.cuda INFO: LOCAL_RANK: 0 - CUDA_VISIBLE_DEVICES: [0]\n"
     ]
    },
    {
     "data": {
      "application/vnd.jupyter.widget-view+json": {
       "model_id": "8e162dedebde401f9f68b3e918c6fada",
       "version_major": 2,
       "version_minor": 0
      },
      "text/plain": [
       "Predicting: 12it [00:00, ?it/s]"
      ]
     },
     "metadata": {},
     "output_type": "display_data"
    },
    {
     "name": "stderr",
     "output_type": "stream",
     "text": [
      "2022-08-25 14:50:22 pytorch_lightning.accelerators.cuda INFO: LOCAL_RANK: 0 - CUDA_VISIBLE_DEVICES: [0]\n"
     ]
    },
    {
     "data": {
      "application/vnd.jupyter.widget-view+json": {
       "model_id": "4f2add3931ef47f885d3bf2b8db9cc4d",
       "version_major": 2,
       "version_minor": 0
      },
      "text/plain": [
       "Predicting: 12it [00:00, ?it/s]"
      ]
     },
     "metadata": {},
     "output_type": "display_data"
    },
    {
     "name": "stderr",
     "output_type": "stream",
     "text": [
      "2022-08-25 14:50:22 pytorch_lightning.accelerators.cuda INFO: LOCAL_RANK: 0 - CUDA_VISIBLE_DEVICES: [0]\n"
     ]
    },
    {
     "data": {
      "application/vnd.jupyter.widget-view+json": {
       "model_id": "9fb6a903a3434cd783bb3a0f59889a11",
       "version_major": 2,
       "version_minor": 0
      },
      "text/plain": [
       "Predicting: 12it [00:00, ?it/s]"
      ]
     },
     "metadata": {},
     "output_type": "display_data"
    },
    {
     "name": "stderr",
     "output_type": "stream",
     "text": [
      "2022-08-25 14:50:22 pytorch_lightning.accelerators.cuda INFO: LOCAL_RANK: 0 - CUDA_VISIBLE_DEVICES: [0]\n"
     ]
    },
    {
     "data": {
      "application/vnd.jupyter.widget-view+json": {
       "model_id": "cdbfc79803f14bea9b9bf787e831155b",
       "version_major": 2,
       "version_minor": 0
      },
      "text/plain": [
       "Predicting: 12it [00:00, ?it/s]"
      ]
     },
     "metadata": {},
     "output_type": "display_data"
    },
    {
     "name": "stderr",
     "output_type": "stream",
     "text": [
      "2022-08-25 14:50:22 pytorch_lightning.accelerators.cuda INFO: LOCAL_RANK: 0 - CUDA_VISIBLE_DEVICES: [0]\n"
     ]
    },
    {
     "data": {
      "application/vnd.jupyter.widget-view+json": {
       "model_id": "eb50df4ce6bf427887c0abd04cc5a720",
       "version_major": 2,
       "version_minor": 0
      },
      "text/plain": [
       "Predicting: 12it [00:00, ?it/s]"
      ]
     },
     "metadata": {},
     "output_type": "display_data"
    },
    {
     "name": "stderr",
     "output_type": "stream",
     "text": [
      "2022-08-25 14:50:23 pytorch_lightning.accelerators.cuda INFO: LOCAL_RANK: 0 - CUDA_VISIBLE_DEVICES: [0]\n"
     ]
    },
    {
     "data": {
      "application/vnd.jupyter.widget-view+json": {
       "model_id": "257aa5c904b44fc5bb0d0becc013064e",
       "version_major": 2,
       "version_minor": 0
      },
      "text/plain": [
       "Predicting: 12it [00:00, ?it/s]"
      ]
     },
     "metadata": {},
     "output_type": "display_data"
    },
    {
     "name": "stderr",
     "output_type": "stream",
     "text": [
      "2022-08-25 14:50:23 pytorch_lightning.accelerators.cuda INFO: LOCAL_RANK: 0 - CUDA_VISIBLE_DEVICES: [0]\n"
     ]
    },
    {
     "data": {
      "application/vnd.jupyter.widget-view+json": {
       "model_id": "f2cac293bd414df6887431f4cd77265c",
       "version_major": 2,
       "version_minor": 0
      },
      "text/plain": [
       "Predicting: 12it [00:00, ?it/s]"
      ]
     },
     "metadata": {},
     "output_type": "display_data"
    },
    {
     "name": "stderr",
     "output_type": "stream",
     "text": [
      "2022-08-25 14:50:23 pytorch_lightning.accelerators.cuda INFO: LOCAL_RANK: 0 - CUDA_VISIBLE_DEVICES: [0]\n"
     ]
    },
    {
     "data": {
      "application/vnd.jupyter.widget-view+json": {
       "model_id": "13792403920c429bb4652675d28dc934",
       "version_major": 2,
       "version_minor": 0
      },
      "text/plain": [
       "Predicting: 12it [00:00, ?it/s]"
      ]
     },
     "metadata": {},
     "output_type": "display_data"
    },
    {
     "name": "stderr",
     "output_type": "stream",
     "text": [
      "2022-08-25 14:50:23 pytorch_lightning.accelerators.cuda INFO: LOCAL_RANK: 0 - CUDA_VISIBLE_DEVICES: [0]\n"
     ]
    },
    {
     "data": {
      "application/vnd.jupyter.widget-view+json": {
       "model_id": "971d24ed0e9942b38362f0c80a773d37",
       "version_major": 2,
       "version_minor": 0
      },
      "text/plain": [
       "Predicting: 12it [00:00, ?it/s]"
      ]
     },
     "metadata": {},
     "output_type": "display_data"
    },
    {
     "name": "stderr",
     "output_type": "stream",
     "text": [
      "2022-08-25 14:50:24 pytorch_lightning.accelerators.cuda INFO: LOCAL_RANK: 0 - CUDA_VISIBLE_DEVICES: [0]\n"
     ]
    },
    {
     "data": {
      "application/vnd.jupyter.widget-view+json": {
       "model_id": "dce3f71b42674921bfb75ca5dbed6c26",
       "version_major": 2,
       "version_minor": 0
      },
      "text/plain": [
       "Predicting: 12it [00:00, ?it/s]"
      ]
     },
     "metadata": {},
     "output_type": "display_data"
    },
    {
     "name": "stderr",
     "output_type": "stream",
     "text": [
      "2022-08-25 14:50:24 pytorch_lightning.accelerators.cuda INFO: LOCAL_RANK: 0 - CUDA_VISIBLE_DEVICES: [0]\n"
     ]
    },
    {
     "data": {
      "application/vnd.jupyter.widget-view+json": {
       "model_id": "b1fb1d916e8b4196b60f8dfb68ca6843",
       "version_major": 2,
       "version_minor": 0
      },
      "text/plain": [
       "Predicting: 12it [00:00, ?it/s]"
      ]
     },
     "metadata": {},
     "output_type": "display_data"
    },
    {
     "name": "stderr",
     "output_type": "stream",
     "text": [
      "2022-08-25 14:50:24 pytorch_lightning.accelerators.cuda INFO: LOCAL_RANK: 0 - CUDA_VISIBLE_DEVICES: [0]\n"
     ]
    },
    {
     "data": {
      "application/vnd.jupyter.widget-view+json": {
       "model_id": "9b2f9c0730b54a9dac8def5a15317e3c",
       "version_major": 2,
       "version_minor": 0
      },
      "text/plain": [
       "Predicting: 12it [00:00, ?it/s]"
      ]
     },
     "metadata": {},
     "output_type": "display_data"
    },
    {
     "name": "stderr",
     "output_type": "stream",
     "text": [
      "2022-08-25 14:50:24 pytorch_lightning.accelerators.cuda INFO: LOCAL_RANK: 0 - CUDA_VISIBLE_DEVICES: [0]\n"
     ]
    },
    {
     "data": {
      "application/vnd.jupyter.widget-view+json": {
       "model_id": "1f7f5e8aa6434a8eaa137d4570c12947",
       "version_major": 2,
       "version_minor": 0
      },
      "text/plain": [
       "Predicting: 12it [00:00, ?it/s]"
      ]
     },
     "metadata": {},
     "output_type": "display_data"
    },
    {
     "name": "stderr",
     "output_type": "stream",
     "text": [
      "2022-08-25 14:50:25 pytorch_lightning.accelerators.cuda INFO: LOCAL_RANK: 0 - CUDA_VISIBLE_DEVICES: [0]\n"
     ]
    },
    {
     "data": {
      "application/vnd.jupyter.widget-view+json": {
       "model_id": "733480a3fe624071af5d8f04c00ef9ce",
       "version_major": 2,
       "version_minor": 0
      },
      "text/plain": [
       "Predicting: 12it [00:00, ?it/s]"
      ]
     },
     "metadata": {},
     "output_type": "display_data"
    },
    {
     "name": "stderr",
     "output_type": "stream",
     "text": [
      "2022-08-25 14:50:25 pytorch_lightning.accelerators.cuda INFO: LOCAL_RANK: 0 - CUDA_VISIBLE_DEVICES: [0]\n"
     ]
    },
    {
     "data": {
      "application/vnd.jupyter.widget-view+json": {
       "model_id": "72c5daf356264b9a922b7c9b82c19f2b",
       "version_major": 2,
       "version_minor": 0
      },
      "text/plain": [
       "Predicting: 12it [00:00, ?it/s]"
      ]
     },
     "metadata": {},
     "output_type": "display_data"
    },
    {
     "name": "stderr",
     "output_type": "stream",
     "text": [
      "2022-08-25 14:50:25 pytorch_lightning.accelerators.cuda INFO: LOCAL_RANK: 0 - CUDA_VISIBLE_DEVICES: [0]\n"
     ]
    },
    {
     "data": {
      "application/vnd.jupyter.widget-view+json": {
       "model_id": "9c385a53050f4074bfefb2ab86d45fdd",
       "version_major": 2,
       "version_minor": 0
      },
      "text/plain": [
       "Predicting: 12it [00:00, ?it/s]"
      ]
     },
     "metadata": {},
     "output_type": "display_data"
    },
    {
     "name": "stderr",
     "output_type": "stream",
     "text": [
      "2022-08-25 14:50:25 pytorch_lightning.accelerators.cuda INFO: LOCAL_RANK: 0 - CUDA_VISIBLE_DEVICES: [0]\n"
     ]
    },
    {
     "data": {
      "application/vnd.jupyter.widget-view+json": {
       "model_id": "bf133a5d23ff476daab16382fd9433fa",
       "version_major": 2,
       "version_minor": 0
      },
      "text/plain": [
       "Predicting: 12it [00:00, ?it/s]"
      ]
     },
     "metadata": {},
     "output_type": "display_data"
    },
    {
     "name": "stderr",
     "output_type": "stream",
     "text": [
      "2022-08-25 14:50:26 pytorch_lightning.accelerators.cuda INFO: LOCAL_RANK: 0 - CUDA_VISIBLE_DEVICES: [0]\n"
     ]
    },
    {
     "data": {
      "application/vnd.jupyter.widget-view+json": {
       "model_id": "094f9d4560124a7a966190b6cea6640a",
       "version_major": 2,
       "version_minor": 0
      },
      "text/plain": [
       "Predicting: 12it [00:00, ?it/s]"
      ]
     },
     "metadata": {},
     "output_type": "display_data"
    },
    {
     "name": "stderr",
     "output_type": "stream",
     "text": [
      "2022-08-25 14:50:26 pytorch_lightning.accelerators.cuda INFO: LOCAL_RANK: 0 - CUDA_VISIBLE_DEVICES: [0]\n"
     ]
    },
    {
     "data": {
      "application/vnd.jupyter.widget-view+json": {
       "model_id": "e25611b70d324db3981d7850f8059cd2",
       "version_major": 2,
       "version_minor": 0
      },
      "text/plain": [
       "Predicting: 12it [00:00, ?it/s]"
      ]
     },
     "metadata": {},
     "output_type": "display_data"
    },
    {
     "name": "stderr",
     "output_type": "stream",
     "text": [
      "2022-08-25 14:50:26 pytorch_lightning.accelerators.cuda INFO: LOCAL_RANK: 0 - CUDA_VISIBLE_DEVICES: [0]\n"
     ]
    },
    {
     "data": {
      "application/vnd.jupyter.widget-view+json": {
       "model_id": "395a1b0b7a244b8084865e690013aec1",
       "version_major": 2,
       "version_minor": 0
      },
      "text/plain": [
       "Predicting: 12it [00:00, ?it/s]"
      ]
     },
     "metadata": {},
     "output_type": "display_data"
    },
    {
     "name": "stderr",
     "output_type": "stream",
     "text": [
      "2022-08-25 14:50:26 pytorch_lightning.accelerators.cuda INFO: LOCAL_RANK: 0 - CUDA_VISIBLE_DEVICES: [0]\n"
     ]
    },
    {
     "data": {
      "application/vnd.jupyter.widget-view+json": {
       "model_id": "88707aebd448440e9b7159cded3e23c9",
       "version_major": 2,
       "version_minor": 0
      },
      "text/plain": [
       "Predicting: 12it [00:00, ?it/s]"
      ]
     },
     "metadata": {},
     "output_type": "display_data"
    },
    {
     "name": "stderr",
     "output_type": "stream",
     "text": [
      "2022-08-25 14:50:26 pytorch_lightning.accelerators.cuda INFO: LOCAL_RANK: 0 - CUDA_VISIBLE_DEVICES: [0]\n"
     ]
    },
    {
     "data": {
      "application/vnd.jupyter.widget-view+json": {
       "model_id": "a6b7f9bfebb241e9a429c7f9d6eaf3ca",
       "version_major": 2,
       "version_minor": 0
      },
      "text/plain": [
       "Predicting: 12it [00:00, ?it/s]"
      ]
     },
     "metadata": {},
     "output_type": "display_data"
    },
    {
     "name": "stderr",
     "output_type": "stream",
     "text": [
      "2022-08-25 14:50:27 pytorch_lightning.accelerators.cuda INFO: LOCAL_RANK: 0 - CUDA_VISIBLE_DEVICES: [0]\n"
     ]
    },
    {
     "data": {
      "application/vnd.jupyter.widget-view+json": {
       "model_id": "38ed2b006f1c45c189bd44b738da935e",
       "version_major": 2,
       "version_minor": 0
      },
      "text/plain": [
       "Predicting: 12it [00:00, ?it/s]"
      ]
     },
     "metadata": {},
     "output_type": "display_data"
    },
    {
     "name": "stderr",
     "output_type": "stream",
     "text": [
      "2022-08-25 14:50:27 pytorch_lightning.accelerators.cuda INFO: LOCAL_RANK: 0 - CUDA_VISIBLE_DEVICES: [0]\n"
     ]
    },
    {
     "data": {
      "application/vnd.jupyter.widget-view+json": {
       "model_id": "502a47a036af4ad3b454f524e183db0f",
       "version_major": 2,
       "version_minor": 0
      },
      "text/plain": [
       "Predicting: 12it [00:00, ?it/s]"
      ]
     },
     "metadata": {},
     "output_type": "display_data"
    },
    {
     "name": "stderr",
     "output_type": "stream",
     "text": [
      "2022-08-25 14:50:27 pytorch_lightning.accelerators.cuda INFO: LOCAL_RANK: 0 - CUDA_VISIBLE_DEVICES: [0]\n"
     ]
    },
    {
     "data": {
      "application/vnd.jupyter.widget-view+json": {
       "model_id": "33a498e0af4043d5a87bee1ecf9bb7a5",
       "version_major": 2,
       "version_minor": 0
      },
      "text/plain": [
       "Predicting: 12it [00:00, ?it/s]"
      ]
     },
     "metadata": {},
     "output_type": "display_data"
    },
    {
     "name": "stderr",
     "output_type": "stream",
     "text": [
      "2022-08-25 14:50:27 pytorch_lightning.accelerators.cuda INFO: LOCAL_RANK: 0 - CUDA_VISIBLE_DEVICES: [0]\n"
     ]
    },
    {
     "data": {
      "application/vnd.jupyter.widget-view+json": {
       "model_id": "66fb5db0d7024176b692ced5ebc5c55b",
       "version_major": 2,
       "version_minor": 0
      },
      "text/plain": [
       "Predicting: 12it [00:00, ?it/s]"
      ]
     },
     "metadata": {},
     "output_type": "display_data"
    },
    {
     "name": "stderr",
     "output_type": "stream",
     "text": [
      "2022-08-25 14:50:28 pytorch_lightning.accelerators.cuda INFO: LOCAL_RANK: 0 - CUDA_VISIBLE_DEVICES: [0]\n"
     ]
    },
    {
     "data": {
      "application/vnd.jupyter.widget-view+json": {
       "model_id": "8d1dae6a36b84932b3897201fcccc432",
       "version_major": 2,
       "version_minor": 0
      },
      "text/plain": [
       "Predicting: 12it [00:00, ?it/s]"
      ]
     },
     "metadata": {},
     "output_type": "display_data"
    },
    {
     "name": "stderr",
     "output_type": "stream",
     "text": [
      "2022-08-25 14:50:28 pytorch_lightning.accelerators.cuda INFO: LOCAL_RANK: 0 - CUDA_VISIBLE_DEVICES: [0]\n"
     ]
    },
    {
     "data": {
      "application/vnd.jupyter.widget-view+json": {
       "model_id": "fd858073a8ee4b2ea2d3c76abe4a4a11",
       "version_major": 2,
       "version_minor": 0
      },
      "text/plain": [
       "Predicting: 12it [00:00, ?it/s]"
      ]
     },
     "metadata": {},
     "output_type": "display_data"
    },
    {
     "name": "stderr",
     "output_type": "stream",
     "text": [
      "2022-08-25 14:50:28 pytorch_lightning.accelerators.cuda INFO: LOCAL_RANK: 0 - CUDA_VISIBLE_DEVICES: [0]\n"
     ]
    },
    {
     "data": {
      "application/vnd.jupyter.widget-view+json": {
       "model_id": "5d659103d7c743948709a109d5a38733",
       "version_major": 2,
       "version_minor": 0
      },
      "text/plain": [
       "Predicting: 12it [00:00, ?it/s]"
      ]
     },
     "metadata": {},
     "output_type": "display_data"
    },
    {
     "name": "stderr",
     "output_type": "stream",
     "text": [
      "2022-08-25 14:50:28 pytorch_lightning.accelerators.cuda INFO: LOCAL_RANK: 0 - CUDA_VISIBLE_DEVICES: [0]\n"
     ]
    },
    {
     "data": {
      "application/vnd.jupyter.widget-view+json": {
       "model_id": "86164a52abab41bb92e3c8bc48f478c0",
       "version_major": 2,
       "version_minor": 0
      },
      "text/plain": [
       "Predicting: 12it [00:00, ?it/s]"
      ]
     },
     "metadata": {},
     "output_type": "display_data"
    },
    {
     "name": "stderr",
     "output_type": "stream",
     "text": [
      "2022-08-25 14:50:29 pytorch_lightning.accelerators.cuda INFO: LOCAL_RANK: 0 - CUDA_VISIBLE_DEVICES: [0]\n"
     ]
    },
    {
     "data": {
      "application/vnd.jupyter.widget-view+json": {
       "model_id": "299d84715fd542669fd3d2b299595ea0",
       "version_major": 2,
       "version_minor": 0
      },
      "text/plain": [
       "Predicting: 12it [00:00, ?it/s]"
      ]
     },
     "metadata": {},
     "output_type": "display_data"
    },
    {
     "name": "stderr",
     "output_type": "stream",
     "text": [
      "2022-08-25 14:50:29 pytorch_lightning.accelerators.cuda INFO: LOCAL_RANK: 0 - CUDA_VISIBLE_DEVICES: [0]\n"
     ]
    },
    {
     "data": {
      "application/vnd.jupyter.widget-view+json": {
       "model_id": "13d286977b004737a55674d54d34129c",
       "version_major": 2,
       "version_minor": 0
      },
      "text/plain": [
       "Predicting: 12it [00:00, ?it/s]"
      ]
     },
     "metadata": {},
     "output_type": "display_data"
    },
    {
     "name": "stderr",
     "output_type": "stream",
     "text": [
      "2022-08-25 14:50:29 pytorch_lightning.accelerators.cuda INFO: LOCAL_RANK: 0 - CUDA_VISIBLE_DEVICES: [0]\n"
     ]
    },
    {
     "data": {
      "application/vnd.jupyter.widget-view+json": {
       "model_id": "828656037bd1407b89d198a9eaa8a318",
       "version_major": 2,
       "version_minor": 0
      },
      "text/plain": [
       "Predicting: 12it [00:00, ?it/s]"
      ]
     },
     "metadata": {},
     "output_type": "display_data"
    },
    {
     "name": "stderr",
     "output_type": "stream",
     "text": [
      "2022-08-25 14:50:29 pytorch_lightning.accelerators.cuda INFO: LOCAL_RANK: 0 - CUDA_VISIBLE_DEVICES: [0]\n"
     ]
    },
    {
     "data": {
      "application/vnd.jupyter.widget-view+json": {
       "model_id": "05b21e859a6f49739c3ee077bb818da4",
       "version_major": 2,
       "version_minor": 0
      },
      "text/plain": [
       "Predicting: 12it [00:00, ?it/s]"
      ]
     },
     "metadata": {},
     "output_type": "display_data"
    },
    {
     "name": "stderr",
     "output_type": "stream",
     "text": [
      "2022-08-25 14:50:30 pytorch_lightning.accelerators.cuda INFO: LOCAL_RANK: 0 - CUDA_VISIBLE_DEVICES: [0]\n"
     ]
    },
    {
     "data": {
      "application/vnd.jupyter.widget-view+json": {
       "model_id": "786250a2fd5d4099aafc9a8e0664894d",
       "version_major": 2,
       "version_minor": 0
      },
      "text/plain": [
       "Predicting: 12it [00:00, ?it/s]"
      ]
     },
     "metadata": {},
     "output_type": "display_data"
    },
    {
     "name": "stderr",
     "output_type": "stream",
     "text": [
      "2022-08-25 14:50:30 pytorch_lightning.accelerators.cuda INFO: LOCAL_RANK: 0 - CUDA_VISIBLE_DEVICES: [0]\n"
     ]
    },
    {
     "data": {
      "application/vnd.jupyter.widget-view+json": {
       "model_id": "e6299aaf62474863baf6d442b5bed5ed",
       "version_major": 2,
       "version_minor": 0
      },
      "text/plain": [
       "Predicting: 12it [00:00, ?it/s]"
      ]
     },
     "metadata": {},
     "output_type": "display_data"
    },
    {
     "name": "stderr",
     "output_type": "stream",
     "text": [
      "2022-08-25 14:50:30 pytorch_lightning.accelerators.cuda INFO: LOCAL_RANK: 0 - CUDA_VISIBLE_DEVICES: [0]\n"
     ]
    },
    {
     "data": {
      "application/vnd.jupyter.widget-view+json": {
       "model_id": "c9db4c123a0d406091c3afbb79f27ac4",
       "version_major": 2,
       "version_minor": 0
      },
      "text/plain": [
       "Predicting: 12it [00:00, ?it/s]"
      ]
     },
     "metadata": {},
     "output_type": "display_data"
    },
    {
     "name": "stderr",
     "output_type": "stream",
     "text": [
      "2022-08-25 14:50:30 pytorch_lightning.accelerators.cuda INFO: LOCAL_RANK: 0 - CUDA_VISIBLE_DEVICES: [0]\n"
     ]
    },
    {
     "data": {
      "application/vnd.jupyter.widget-view+json": {
       "model_id": "87e25670c3fa4bad9d1032bee3d0dc65",
       "version_major": 2,
       "version_minor": 0
      },
      "text/plain": [
       "Predicting: 12it [00:00, ?it/s]"
      ]
     },
     "metadata": {},
     "output_type": "display_data"
    },
    {
     "name": "stderr",
     "output_type": "stream",
     "text": [
      "2022-08-25 14:50:31 pytorch_lightning.accelerators.cuda INFO: LOCAL_RANK: 0 - CUDA_VISIBLE_DEVICES: [0]\n"
     ]
    },
    {
     "data": {
      "application/vnd.jupyter.widget-view+json": {
       "model_id": "c8e3e754ff3e4c1ead8222c2edf54e37",
       "version_major": 2,
       "version_minor": 0
      },
      "text/plain": [
       "Predicting: 12it [00:00, ?it/s]"
      ]
     },
     "metadata": {},
     "output_type": "display_data"
    },
    {
     "name": "stderr",
     "output_type": "stream",
     "text": [
      "2022-08-25 14:50:31 pytorch_lightning.accelerators.cuda INFO: LOCAL_RANK: 0 - CUDA_VISIBLE_DEVICES: [0]\n"
     ]
    },
    {
     "data": {
      "application/vnd.jupyter.widget-view+json": {
       "model_id": "39bf7a564f5d4f6abbc6f859ee04677f",
       "version_major": 2,
       "version_minor": 0
      },
      "text/plain": [
       "Predicting: 12it [00:00, ?it/s]"
      ]
     },
     "metadata": {},
     "output_type": "display_data"
    },
    {
     "name": "stderr",
     "output_type": "stream",
     "text": [
      "2022-08-25 14:50:31 pytorch_lightning.accelerators.cuda INFO: LOCAL_RANK: 0 - CUDA_VISIBLE_DEVICES: [0]\n"
     ]
    },
    {
     "data": {
      "application/vnd.jupyter.widget-view+json": {
       "model_id": "8104ea7e01bb4658ba42a047b0411d73",
       "version_major": 2,
       "version_minor": 0
      },
      "text/plain": [
       "Predicting: 12it [00:00, ?it/s]"
      ]
     },
     "metadata": {},
     "output_type": "display_data"
    },
    {
     "name": "stderr",
     "output_type": "stream",
     "text": [
      "2022-08-25 14:50:31 pytorch_lightning.accelerators.cuda INFO: LOCAL_RANK: 0 - CUDA_VISIBLE_DEVICES: [0]\n"
     ]
    },
    {
     "data": {
      "application/vnd.jupyter.widget-view+json": {
       "model_id": "837a32fcdf904c43b75fc1513799b3ae",
       "version_major": 2,
       "version_minor": 0
      },
      "text/plain": [
       "Predicting: 12it [00:00, ?it/s]"
      ]
     },
     "metadata": {},
     "output_type": "display_data"
    },
    {
     "name": "stderr",
     "output_type": "stream",
     "text": [
      "2022-08-25 14:50:31 pytorch_lightning.accelerators.cuda INFO: LOCAL_RANK: 0 - CUDA_VISIBLE_DEVICES: [0]\n"
     ]
    },
    {
     "data": {
      "application/vnd.jupyter.widget-view+json": {
       "model_id": "e6e61d7b91f04bc1aa98a15bf2cd6152",
       "version_major": 2,
       "version_minor": 0
      },
      "text/plain": [
       "Predicting: 12it [00:00, ?it/s]"
      ]
     },
     "metadata": {},
     "output_type": "display_data"
    },
    {
     "name": "stderr",
     "output_type": "stream",
     "text": [
      "2022-08-25 14:50:32 pytorch_lightning.accelerators.cuda INFO: LOCAL_RANK: 0 - CUDA_VISIBLE_DEVICES: [0]\n"
     ]
    },
    {
     "data": {
      "application/vnd.jupyter.widget-view+json": {
       "model_id": "448fb38344264105933f957e3289745b",
       "version_major": 2,
       "version_minor": 0
      },
      "text/plain": [
       "Predicting: 12it [00:00, ?it/s]"
      ]
     },
     "metadata": {},
     "output_type": "display_data"
    },
    {
     "name": "stderr",
     "output_type": "stream",
     "text": [
      "2022-08-25 14:50:32 pytorch_lightning.accelerators.cuda INFO: LOCAL_RANK: 0 - CUDA_VISIBLE_DEVICES: [0]\n"
     ]
    },
    {
     "data": {
      "application/vnd.jupyter.widget-view+json": {
       "model_id": "d8bd59cd7f0e44cfba9626fd85d4032e",
       "version_major": 2,
       "version_minor": 0
      },
      "text/plain": [
       "Predicting: 12it [00:00, ?it/s]"
      ]
     },
     "metadata": {},
     "output_type": "display_data"
    },
    {
     "name": "stderr",
     "output_type": "stream",
     "text": [
      "2022-08-25 14:50:32 pytorch_lightning.accelerators.cuda INFO: LOCAL_RANK: 0 - CUDA_VISIBLE_DEVICES: [0]\n"
     ]
    },
    {
     "data": {
      "application/vnd.jupyter.widget-view+json": {
       "model_id": "ec8a60a3dfe44611994a5a816dc5f00c",
       "version_major": 2,
       "version_minor": 0
      },
      "text/plain": [
       "Predicting: 12it [00:00, ?it/s]"
      ]
     },
     "metadata": {},
     "output_type": "display_data"
    },
    {
     "name": "stderr",
     "output_type": "stream",
     "text": [
      "2022-08-25 14:50:32 pytorch_lightning.accelerators.cuda INFO: LOCAL_RANK: 0 - CUDA_VISIBLE_DEVICES: [0]\n"
     ]
    },
    {
     "data": {
      "application/vnd.jupyter.widget-view+json": {
       "model_id": "6f7ba2be922849208e34fe0b9b25e461",
       "version_major": 2,
       "version_minor": 0
      },
      "text/plain": [
       "Predicting: 12it [00:00, ?it/s]"
      ]
     },
     "metadata": {},
     "output_type": "display_data"
    },
    {
     "name": "stderr",
     "output_type": "stream",
     "text": [
      "2022-08-25 14:50:33 pytorch_lightning.accelerators.cuda INFO: LOCAL_RANK: 0 - CUDA_VISIBLE_DEVICES: [0]\n"
     ]
    },
    {
     "data": {
      "application/vnd.jupyter.widget-view+json": {
       "model_id": "ef38b4c0de414466b28eb682a810f743",
       "version_major": 2,
       "version_minor": 0
      },
      "text/plain": [
       "Predicting: 12it [00:00, ?it/s]"
      ]
     },
     "metadata": {},
     "output_type": "display_data"
    },
    {
     "name": "stderr",
     "output_type": "stream",
     "text": [
      "2022-08-25 14:50:33 pytorch_lightning.accelerators.cuda INFO: LOCAL_RANK: 0 - CUDA_VISIBLE_DEVICES: [0]\n"
     ]
    },
    {
     "data": {
      "application/vnd.jupyter.widget-view+json": {
       "model_id": "c786446808654892be76f7a4f19e1e87",
       "version_major": 2,
       "version_minor": 0
      },
      "text/plain": [
       "Predicting: 12it [00:00, ?it/s]"
      ]
     },
     "metadata": {},
     "output_type": "display_data"
    },
    {
     "name": "stderr",
     "output_type": "stream",
     "text": [
      "2022-08-25 14:50:33 pytorch_lightning.accelerators.cuda INFO: LOCAL_RANK: 0 - CUDA_VISIBLE_DEVICES: [0]\n"
     ]
    },
    {
     "data": {
      "application/vnd.jupyter.widget-view+json": {
       "model_id": "13cb0e2a992e45258bb156d2471633bb",
       "version_major": 2,
       "version_minor": 0
      },
      "text/plain": [
       "Predicting: 12it [00:00, ?it/s]"
      ]
     },
     "metadata": {},
     "output_type": "display_data"
    },
    {
     "name": "stderr",
     "output_type": "stream",
     "text": [
      "2022-08-25 14:50:33 pytorch_lightning.accelerators.cuda INFO: LOCAL_RANK: 0 - CUDA_VISIBLE_DEVICES: [0]\n"
     ]
    },
    {
     "data": {
      "application/vnd.jupyter.widget-view+json": {
       "model_id": "7899a54a3a274fe2bc8798f1150d7b4b",
       "version_major": 2,
       "version_minor": 0
      },
      "text/plain": [
       "Predicting: 12it [00:00, ?it/s]"
      ]
     },
     "metadata": {},
     "output_type": "display_data"
    },
    {
     "data": {
      "application/vnd.jupyter.widget-view+json": {
       "model_id": "2d61d2dd64f047939a5c573c0612bac3",
       "version_major": 2,
       "version_minor": 0
      },
      "text/plain": [
       "  0%|          | 0/109 [00:00<?, ?it/s]"
      ]
     },
     "metadata": {},
     "output_type": "display_data"
    }
   ],
   "source": [
    "backtests = model.historical_forecasts(series_gpp_scaled,\n",
    "                                       # past_covariates=covariates,\n",
    "                                       num_samples=100,\n",
    "                                       start=test_split,\n",
    "                                       retrain=False,\n",
    "                                       forecast_horizon=n,\n",
    "                                       stride=1,\n",
    "                                       verbose=True\n",
    "                                      )\n",
    "\n",
    "backtests_arima = model_arima.historical_forecasts(series_gpp_scaled_arima,\n",
    "                                       start=test_split,\n",
    "                                       retrain=True,\n",
    "                                       forecast_horizon=n,\n",
    "                                       stride=1,\n",
    "                                       verbose=True\n",
    "                                      )\n"
   ]
  },
  {
   "cell_type": "code",
   "execution_count": 50,
   "metadata": {},
   "outputs": [],
   "source": [
    "backtests = scaler.inverse_transform(backtests)\n",
    "backtests_arima = scaler_arima.inverse_transform(backtests_arima)"
   ]
  },
  {
   "cell_type": "code",
   "execution_count": 51,
   "metadata": {},
   "outputs": [
    {
     "data": {
      "text/plain": [
       "<matplotlib.legend.Legend at 0x14a77049c130>"
      ]
     },
     "execution_count": 51,
     "metadata": {},
     "output_type": "execute_result"
    },
    {
     "data": {
      "image/png": "[encoded data removed]",
      "text/plain": [
       "<Figure size 1080x432 with 1 Axes>"
      ]
     },
     "metadata": {
      "needs_background": "light"
     },
     "output_type": "display_data"
    }
   ],
   "source": [
    "plt.rcParams.update({'font.size': 15})\n",
    "\n",
    "fig,ax = plt.subplots(figsize=(15,6))\n",
    "\n",
    "#errors\n",
    "err = mape(backtests[['GPP_SOLO']], series_gpp[['GPP_SOLO']])\n",
    "err_arima = mape(backtests_arima[['GPP_SOLO']], series_gpp[['GPP_SOLO']])\n",
    "\n",
    "i=-208\n",
    "#plots\n",
    "series_gpp['GPP_SOLO'][i:].plot(ax=ax, lw=2, label='Observations')\n",
    "backtests['GPP_SOLO'][i:].plot(ax=ax, lw=2, label='{}, MAPE_NBEATS={:.2f} %'.format('Forecast', err), low_quantile=.05, high_quantile=0.95)\n",
    "backtests_arima['GPP_SOLO'][i:].plot(ax=ax, lw=2, label='{}, MAPE_ARIMA={:.2f} %'.format('Forecast', err_arima), low_quantile=.05, high_quantile=0.95)\n",
    "\n",
    "#fig params\n",
    "plt.ylabel(var_names[0]+' gC/m2/week')\n",
    "plt.xlabel('')\n",
    "plt.axvline(pd.Timestamp(series_gpp[idx].data_array().time.values[0]), color='red', linestyle='--')\n",
    "plt.legend()"
   ]
  },
  {
   "cell_type": "markdown",
   "metadata": {},
   "source": [
    "## Forecast the future"
   ]
  },
  {
   "cell_type": "code",
   "execution_count": 52,
   "metadata": {},
   "outputs": [
    {
     "name": "stderr",
     "output_type": "stream",
     "text": [
      "2022-08-25 14:52:14 darts.models.forecasting.torch_forecasting_model INFO: Train dataset contains 477 samples.\n",
      "2022-08-25 14:52:15 pytorch_lightning.utilities.rank_zero INFO: GPU available: True (cuda), used: True\n",
      "2022-08-25 14:52:15 pytorch_lightning.utilities.rank_zero INFO: TPU available: False, using: 0 TPU cores\n",
      "2022-08-25 14:52:15 pytorch_lightning.utilities.rank_zero INFO: IPU available: False, using: 0 IPUs\n",
      "2022-08-25 14:52:15 pytorch_lightning.utilities.rank_zero INFO: HPU available: False, using: 0 HPUs\n",
      "2022-08-25 14:52:15 darts.models.forecasting.torch_forecasting_model WARNING: Attempting to retrain the model without resuming from a checkpoint. This is currently discouraged. Consider setting `save_checkpoints` to `True` and specifying `model_name` at model creation. Then call `model = NBEATSModel.load_from_checkpoint(model_name, best=False)`. Finally, train the model with `model.fit(..., epochs=new_epochs)` where `new_epochs` is the sum of (epochs already trained + some additional epochs).\n",
      "2022-08-25 14:52:15 pytorch_lightning.accelerators.cuda INFO: LOCAL_RANK: 0 - CUDA_VISIBLE_DEVICES: [0]\n",
      "2022-08-25 14:52:15 pytorch_lightning.callbacks.model_summary INFO: \n",
      "  | Name          | Type             | Params\n",
      "---------------------------------------------------\n",
      "0 | criterion     | MSELoss          | 0     \n",
      "1 | train_metrics | MetricCollection | 0     \n",
      "2 | val_metrics   | MetricCollection | 0     \n",
      "3 | stacks        | ModuleList       | 1.9 M \n",
      "---------------------------------------------------\n",
      "1.1 M     Trainable params\n",
      "725 K     Non-trainable params\n",
      "1.9 M     Total params\n",
      "14.960    Total estimated model params size (MB)\n"
     ]
    },
    {
     "data": {
      "application/vnd.jupyter.widget-view+json": {
       "model_id": "2c526fe9d3a043ababc77b39917fb16b",
       "version_major": 2,
       "version_minor": 0
      },
      "text/plain": [
       "Training: 0it [00:00, ?it/s]"
      ]
     },
     "metadata": {},
     "output_type": "display_data"
    },
    {
     "name": "stderr",
     "output_type": "stream",
     "text": [
      "2022-08-25 14:52:31 pytorch_lightning.utilities.rank_zero INFO: `Trainer.fit` stopped: `max_epochs=80` reached.\n",
      "2022-08-25 14:52:32 pytorch_lightning.accelerators.cuda INFO: LOCAL_RANK: 0 - CUDA_VISIBLE_DEVICES: [0]\n"
     ]
    },
    {
     "data": {
      "application/vnd.jupyter.widget-view+json": {
       "model_id": "cfe76c13d6e04f9ba10b7701ab061cbf",
       "version_major": 2,
       "version_minor": 0
      },
      "text/plain": [
       "Predicting: 15it [00:00, ?it/s]"
      ]
     },
     "metadata": {},
     "output_type": "display_data"
    }
   ],
   "source": [
    "#refit the model on all the data\n",
    "model.fit(series_gpp_scaled) #past_covariates=covariates\n",
    "model_arima.fit(series_gpp_scaled_arima) \n",
    "\n",
    "#forecast the future\n",
    "pred = model.predict(n=12,\n",
    "                     series=series_gpp_scaled,\n",
    "                     n_jobs=-1,\n",
    "                     num_samples=100\n",
    "                    )\n",
    "\n",
    "pred_arima = model_arima.predict(n=n,\n",
    "                    )"
   ]
  },
  {
   "cell_type": "code",
   "execution_count": 53,
   "metadata": {},
   "outputs": [],
   "source": [
    "pred_r = scaler.inverse_transform(pred)\n",
    "pred_r_arima = scaler_arima.inverse_transform(pred_arima)"
   ]
  },
  {
   "cell_type": "code",
   "execution_count": 54,
   "metadata": {
    "tags": []
   },
   "outputs": [
    {
     "data": {
      "text/plain": [
       "<matplotlib.legend.Legend at 0x14a7c4072b80>"
      ]
     },
     "execution_count": 54,
     "metadata": {},
     "output_type": "execute_result"
    },
    {
     "data": {
      "image/png": "[encoded data removed]",
      "text/plain": [
       "<Figure size 864x360 with 1 Axes>"
      ]
     },
     "metadata": {
      "needs_background": "light"
     },
     "output_type": "display_data"
    }
   ],
   "source": [
    "fig,ax = plt.subplots(figsize=(12,5))\n",
    "series_gpp['GPP_SOLO'][i:].plot(ax=ax, label='actual')\n",
    "pred_r['GPP_SOLO'][i:].plot(ax=ax, label='forecast_NBEATS', lw=3)\n",
    "pred_r_arima['GPP_SOLO'][i:].plot(ax=ax, label='forecast_ARIMA', lw=3)\n",
    "plt.xlabel('')\n",
    "plt.legend()"
   ]
  },
  {
   "cell_type": "code",
   "execution_count": null,
   "metadata": {},
   "outputs": [],
   "source": []
  },
  {
   "cell_type": "code",
   "execution_count": null,
   "metadata": {},
   "outputs": [],
   "source": []
  },
  {
   "cell_type": "code",
   "execution_count": null,
   "metadata": {},
   "outputs": [],
   "source": []
  },
  {
   "cell_type": "code",
   "execution_count": null,
   "metadata": {},
   "outputs": [],
   "source": []
  },
  {
   "cell_type": "code",
   "execution_count": null,
   "metadata": {},
   "outputs": [],
   "source": []
  },
  {
   "cell_type": "code",
   "execution_count": null,
   "metadata": {},
   "outputs": [],
   "source": []
  },
  {
   "cell_type": "markdown",
   "metadata": {},
   "source": [
    "## Cuts\n",
    "\n",
    "---"
   ]
  },
  {
   "cell_type": "markdown",
   "metadata": {},
   "source": [
    "### Per pixel time-series"
   ]
  },
  {
   "cell_type": "code",
   "execution_count": null,
   "metadata": {},
   "outputs": [],
   "source": [
    "# gpp=xr.open_dataarray('/g/data/os22/chad_tmp/NEE_modelling/data/5km/GOSIF_GPP_5km_monthly_2002_2021.nc').drop('spatial_ref')\n",
    "# rain=xr.open_dataarray('/g/data/os22/chad_tmp/NEE_modelling/data/5km/chirps_5km_monthly_1991_2021.nc').drop('spatial_ref').sel(time=slice('2002', '2021'))\n",
    "\n",
    "# gpp=gpp.isel(latitude=slice(300,305), longitude=slice(300,305))\n",
    "# rain=rain.isel(latitude=slice(300,305), longitude=slice(300,305))\n",
    "\n",
    "# # da=da.stack(component=('latitude', 'longitude'))\n",
    "# # da = da.expand_dims({'sample':1}, axis=-1)\n",
    "# # da['time'] = da['time'].astype(\"datetime64[M]\")\n",
    "# # df_in = TimeSeries.from_xarray(da)\n",
    "\n",
    "# def process(df):\n",
    "#     df = df.reset_index()\n",
    "#     df['time'] = df['time'].astype(\"datetime64[M]\")\n",
    "#     df = df.set_index('time')\n",
    "#     return df\n",
    "\n",
    "# tss = []\n",
    "# i=0\n",
    "# shape = gpp.shape\n",
    "# #loop through pixels\n",
    "# for i in range(shape[1]):\n",
    "#     for j in range(shape[2]):\n",
    "#         gpp_df = gpp.isel(latitude=i, longitude=j).drop(['latitude', 'longitude']).to_dataframe()\n",
    "#         rain_df = rain.isel(latitude=i, longitude=j).drop(['latitude', 'longitude']).to_dataframe()\n",
    "#         gpp_df = process(gpp_df)\n",
    "#         rain_df = process(rain_df)\n",
    "#         df = pd.concat([gpp_df,rain_df], join='inner', axis=1)\n",
    "#         ts = TimeSeries.from_dataframe(df)\n",
    "#         covariates = datetime_attribute_timeseries(ts.time_index, attribute=\"week\")\n",
    "#         covariates = covariates.stack(datetime_attribute_timeseries(ts.time_index, attribute=\"month\"))\n",
    "#         covariates = covariates.stack(datetime_attribute_timeseries(ts.time_index, attribute=\"year\"))\n",
    "#         ts = ts.stack(covariates)\n",
    "#         tss.append(ts)\n",
    "#         # i+=1\n",
    "#     i+=1*shape[2]\n",
    "#     print(\" {:04}/{:04}\\r\".format(i, shape[1]*shape[2]), end=\"\")"
   ]
  },
  {
   "cell_type": "code",
   "execution_count": null,
   "metadata": {},
   "outputs": [],
   "source": []
  },
  {
   "cell_type": "code",
   "execution_count": null,
   "metadata": {},
   "outputs": [],
   "source": []
  }
 ],
 "metadata": {
  "kernelspec": {
   "display_name": "Python 3 (ipykernel)",
   "language": "python",
   "name": "python3"
  },
  "language_info": {
   "codemirror_mode": {
    "name": "ipython",
    "version": 3
   },
   "file_extension": ".py",
   "mimetype": "text/x-python",
   "name": "python",
   "nbconvert_exporter": "python",
   "pygments_lexer": "ipython3",
   "version": "3.8.8"
  }
 },
 "nbformat": 4,
 "nbformat_minor": 4
}
