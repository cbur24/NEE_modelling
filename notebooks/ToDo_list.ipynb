{
 "cells": [
  {
   "cell_type": "markdown",
   "id": "f01dc010-fbc3-4c49-8d32-eb30c7828a3b",
   "metadata": {},
   "source": [
    "## Gridded Datasets"
   ]
  },
  {
   "cell_type": "markdown",
   "id": "25389b40-e265-41cd-9709-db464d04ebbc",
   "metadata": {},
   "source": [
    "* ~~%tree, non-tree, non-veg (`MODIS/006/MOD44B`) from MODIS instead of LULC~~\n",
    "* ~~Redo reprojection of MODIS datasets with nodata flag set so NaNs aren't propogated~~\n",
    "* ~~**Need to extract pixel values at finer (500m - 1km) spatial resolution for the MODIS datasets - fragmented landscapes are causing havoc with the predictions since a forest surrounded by pasture/crop or vice versa throws off the 5 km re-scaled data e.g. Samford site, Boyagin**~~\n",
    "* **Consider creating PFT specific models: grass, crops, shrubs, Tree, (tropical trees?)**\n",
    "* ~~MODIS months since burn date~~\n",
    "* GPM-IMERG instead of CHIRPS, 6-month cml and 12-mnt cml, Cumulative Water Deficit\n",
    "* ~~Fill NaNs in fire disturbance with 120 values...or not?~~\n",
    "* ~~Extract GOSIF GPP and MODIS GPP for comparisons~~\n",
    "* Digital Elevation Model\n",
    "* Coefficient of variation for rainfall (std.dev of annual P / Mean Annual P) (Page et al 2022 - memory effects)\n",
    "* Extract MODIS surface relfectance bands:\n",
    "    * ~~Add NDWI as a general proxy for soil moisture~~\n",
    "    * Use NIRV instead of EVI\n",
    "        * NIRV = (NDVI-0.08) x NIR\n",
    "* ~~Do my own Aridity Index instead of CGIAR's~~\n",
    "* Update TerraClimate 'Moisture Index' with one derived from AWRA+CHIRPS (GPM-IMERG) data\n",
    "* The last 4 months of TerraClimate 'CWD' is dodgy `CWD_5km_monthly_2002_2021.nc`\n",
    "* Synoptic CO2 as predictor- get time-series from Tasmania, NZ, or Mauna Lua\n",
    "* Soil grids: upper horizon organic carbon and clay`/g/data/fj4/Soil_Landscape_grid/TERNLandscape_90m`\n",
    "* ~~Topographic wetness index https://portal.tern.org.au/topographic-wetness-index-dem-h/17355~~\n",
    "* LAI and climate variables expressed as norms and fractional anomalies \n",
    "    * P_3mo/P_3mo_u  + P_3mo_u\n",
    "    * P12/P_MA + P_MA\n"
   ]
  },
  {
   "cell_type": "markdown",
   "id": "b71e5d92-3635-4d5e-b89f-8af92f5b84bb",
   "metadata": {},
   "source": [
    "## Modelling"
   ]
  },
  {
   "cell_type": "markdown",
   "id": "028e0a23-34c8-4590-9d85-34b08776843b",
   "metadata": {},
   "source": [
    "<!-- If using categorical data like LULC:\n",
    "* one-hot-encoding but this may be a poor way of handling categorical variables in this case:\n",
    "* https://notebook.community/roaminsight/roamresearch/BlogPosts/Categorical_variables_in_tree_models/categorical_variables_post\n",
    "* https://notebook.community/marcotcr/lime/doc/notebooks/Tutorial_H2O_continuous_and_cat\n",
    "* `LightGBM` handles categorical variables well: https://lightgbm.readthedocs.io/en/latest/Features.html#optimal-split-for-categorical-features\n",
    " -->\n",
    "\n",
    "* Imbalance in the training data\n",
    "\n",
    "    * between trees and non-trees sites.\n",
    "    * Extreme vs average conditions\n",
    "    * Difficult problem to solve - could be a paper in itself...apply SMOTE somehow to continous data [SMOTE](https://machinelearningmastery.com/smote-oversampling-for-imbalanced-classification/)\n",
    "    * GBM better than RF for training data imbalance\n",
    "\n",
    "* Compare various CV techniques\n",
    "    * ~~Random splits~~\n",
    "    * ~~leave-one-group-out (spatial)~~\n",
    "    * time-series-splits\n",
    "    \n",
    "**GPP modelling:** \n",
    "\n",
    "* Generate 100s-1000s of RF or GBM models\n",
    "     * subset based off of sites: withhold 1-X sites\n",
    "     * withhold 1-X predictors \n",
    "     * withhold X fraction of the time series\n",
    "* Rescale SIF and ML predictions between 0-1\n",
    "* Evaluate individual ML ensemble members \n",
    "     * Subset evaluations by ecosystem?\n",
    "     * by climate zone? \n",
    "     * But does not make sense if training model across ecosystems/climates\n",
    "* Metrics:\n",
    "     * R2? \n",
    "     * RMSE?\n",
    "     * per-pixel or zonal?     \n",
    "     * I would favor per-pixel because it would inform the biology at the pixel level\n",
    "     * Avoid equifinality of reaching a similar Pan-Australian NEE time series\n",
    "\n",
    "**Uncertainty modelling**\n",
    "* LightGBM supports quantile regression\n",
    "* An extension to LightGBM ([LightGBMLSS](https://github.com/StatMixedML/LightGBMLSS)) models full distribution of uncertainty\n",
    "* Standford ML has an implementation called [NGBoost](https://github.com/stanfordmlgroup/ngboost)\n",
    "\n",
    "**Causal Inference networks**\n",
    "\n",
    "* https://github.com/jakobrunge/tigramite/"
   ]
  },
  {
   "cell_type": "markdown",
   "id": "6265533c-cf75-4620-8cba-dff4ea8e03e8",
   "metadata": {},
   "source": [
    "## Plotting/Analysis"
   ]
  },
  {
   "cell_type": "markdown",
   "id": "e0f71a21-3c90-4d35-a577-5d0e3428f1cc",
   "metadata": {},
   "source": [
    "* ~~Make a map where the pixels are color coded to show which month each pixel has the largest carbon sink~~"
   ]
  },
  {
   "cell_type": "markdown",
   "id": "9c2b8c89-0335-43da-8118-3a22a2484eb1",
   "metadata": {},
   "source": [
    "## Reading"
   ]
  },
  {
   "cell_type": "markdown",
   "id": "d44211c0-a94c-4c17-9ea2-418696b26777",
   "metadata": {},
   "source": [
    "* ~~EC tower data QC papers by Peter Isaac~~\n",
    "* ~~Cleverly's papers examining climate drivers of C fluxes~~\n",
    "* ~~Biogeosciences special issues on OzFlux: https://bg.copernicus.org/articles/special_issue618.html~~\n",
    "* ~~Li, X., Xiao, J. (2019) Mapping photosynthesis solely from solar-induced chlorophyll fluorescence: A global, fine-resolution dataset of gross primary production derived from OCO-2. Remote Sensing, 11(21), 2563; https://doi.org/10.3390/rs11212563.~~\n",
    "* Drought rapidly diminishes the large net CO2 uptake in 2011 over semi-arid Australia\n",
    "* Terrestrial carbon cycle model-data fusion: Progress and challenges\n",
    "* Measuring fluxes of trace gases and energy between ecosystems and the atmosphere–the state and future of the eddy covariance method\n",
    "* ~~An introduction to the Australian and New Zealand flux tower network – OzFlux~~\n",
    "* Fire in Australian savannas: from leaf to landscape\n",
    "* Multiple observation types reduce uncertainty in Australia’s terrestrial carbon and water cycles\n",
    "* Dryland vegetation response to wet episode, not inherent shift in sensitivity to rainfall, behind Australia’s role in 2011 global carbon sink anomaly\n",
    "* Learning from imbalanced data: open challenges and future directions\n",
    "* Integration of MODIS land and atmosphere products with a coupled‐process model to estimate gross primary productivity and evapotranspiration from 1 km to global scales"
   ]
  },
  {
   "cell_type": "markdown",
   "id": "78db068b-5bf1-42ab-aef8-3627d6c061ba",
   "metadata": {},
   "source": [
    "## Writing\n",
    "\n",
    "* ~~Finalise draft of chapter 1 TPR~~"
   ]
  },
  {
   "cell_type": "markdown",
   "id": "a22721ab-4046-473e-9fda-0d1db3db0d5e",
   "metadata": {},
   "source": [
    "## Teaching\n",
    "\n",
    "* ~~Pulse training modules~~"
   ]
  },
  {
   "cell_type": "markdown",
   "id": "9d14d949-37e9-4001-8386-b076455013a7",
   "metadata": {},
   "source": [
    "## Random\n",
    "\n",
    "* Test/refine procedure for working on ARE/OOD with virtual env "
   ]
  },
  {
   "cell_type": "markdown",
   "id": "9fa10da7-803b-414c-adb8-abc17743cb25",
   "metadata": {},
   "source": [
    "## Questions"
   ]
  },
  {
   "cell_type": "code",
   "execution_count": null,
   "id": "a849efa2-ff23-4581-8512-ae007016219c",
   "metadata": {},
   "outputs": [],
   "source": []
  },
  {
   "cell_type": "markdown",
   "id": "195b6035-6627-4695-b4b8-588333051355",
   "metadata": {},
   "source": [
    "virtual env path: `/g/data/os22/chad_tmp/NEE_modelling/env/nee`\n",
    "\n",
    "`https://dap.tern.org.au/thredds/catalog.html`"
   ]
  }
 ],
 "metadata": {
  "kernelspec": {
   "display_name": "Python 3 (ipykernel)",
   "language": "python",
   "name": "python3"
  },
  "language_info": {
   "codemirror_mode": {
    "name": "ipython",
    "version": 3
   },
   "file_extension": ".py",
   "mimetype": "text/x-python",
   "name": "python",
   "nbconvert_exporter": "python",
   "pygments_lexer": "ipython3",
   "version": "3.8.8"
  }
 },
 "nbformat": 4,
 "nbformat_minor": 5
}
