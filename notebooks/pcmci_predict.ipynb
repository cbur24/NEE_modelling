{
 "cells": [
  {
   "cell_type": "markdown",
   "metadata": {},
   "source": [
    "# Forecasting using causal inference for variable selection\n"
   ]
  },
  {
   "cell_type": "code",
   "execution_count": null,
   "metadata": {},
   "outputs": [],
   "source": [
    "# Imports\n",
    "import numpy as np\n",
    "import matplotlib\n",
    "from matplotlib import pyplot as plt\n",
    "%matplotlib inline     \n",
    "\n",
    "import xarray as xr\n",
    "import pandas as pd\n",
    "from sklearn.ensemble import RandomForestRegressor\n",
    "\n",
    "from tigramite import data_processing as pp\n",
    "from tigramite import plotting as tp\n",
    "from tigramite.pcmci import PCMCI\n",
    "from tigramite.independence_tests import ParCorr\n",
    "from tigramite.models import Prediction"
   ]
  },
  {
   "cell_type": "markdown",
   "metadata": {},
   "source": [
    "## Analysis Parameters\n",
    "\n",
    "\n",
    "<!-- CumberlandPlain/2022_v1/L6/default/CumberlandPlain_L6_20140101_20220101_Daily.nc\n",
    "\n",
    "CumberlandPlain/2022_v1/L6/default/CumberlandPlain_L6_20140101_20220101_Monthly.nc -->\n",
    "\n",
    "<!-- Tumbarumba/2022_v1/L6/default/Tumbarumba_L6_20020107_20191231_Daily.nc\n",
    "\n",
    "'AliceSpringsMulga/2022_v1/L6/default/AliceSpringsMulga_L6_20100903_20211231_Daily.nc'\n",
    "\n",
    "AliceSpringsMulga/2022_v1/L6/default/AliceSpringsMulga_L6_20100903_20211231_Monthly.nc\n",
    "\n",
    "'Tumbarumba/2022_v1/L6/default/Tumbarumba_L6_20020107_20191231_Monthly.nc'\n",
    "\n",
    "/Gingin/2022_v1/L6/default/Gingin_L6_20111013_20201231_Monthly.nc\n",
    "\n",
    "Gingin/2022_v1/L6/default/Gingin_L6_20111013_20201231_Daily.nc\n",
    "\n",
    "CumberlandPlain/2022_v1/L6/default/CumberlandPlain_L6_20140101_20220101_Monthly.nc\n",
    "\n",
    "AliceSpringsMulga/2022_v1/L6/default/AliceSpringsMulga_L6_20100903_20211231_Monthly.nc\n",
    "\n",
    "Whroo/2022_v1/L6/default/Whroo_L6_20111201_20220218_Monthly.nc\n",
    "\n",
    "Whroo/2022_v1/L6/default/Whroo_L6_20111201_20220218_Daily.nc\n",
    "\n",
    "DryRiver/2022_v1/L6/default/DryRiver_L6_20091025_20220218_Monthly.nc\n",
    "\n",
    "AliceSpringsMulga/2022_v1/L6/default/AliceSpringsMulga_L6_20100903_20211231_Daily.nc\n",
    "\n",
    "GreatWesternWoodlands/2022_v1/L6/default/GreatWesternWoodlands_L6_20130101_20220101_Daily.nc\n",
    "\n",
    "GreatWesternWoodlands/2022_v1/L6/default/GreatWesternWoodlands_L6_20130101_20220101_Monthly.nc "
   ]
  },
  {
   "cell_type": "code",
   "execution_count": null,
   "metadata": {},
   "outputs": [],
   "source": [
    "site = 'DryRiver/2022_v1/L6/default/DryRiver_L6_20091025_20220218_Daily.nc'\n",
    "        \n",
    "# site = '/g/data/os22/chad_tmp/NEE_modelling/data/ec_netcdfs/Gingi_EC_site.nc'\n",
    "var = ['GPP_SOLO', 'Ta', 'VPD','Precip', 'ET', 'Fsd']\n",
    "var_names = ['GPP','Ta', 'VPD', 'precip', 'ET', 'solar']\n",
    "target = 0 #GPP\n",
    "tau_max = 1\n",
    "steps_ahead = 1\n",
    "model_type = RandomForestRegressor()"
   ]
  },
  {
   "cell_type": "markdown",
   "metadata": {},
   "source": [
    "## Load data"
   ]
  },
  {
   "cell_type": "code",
   "execution_count": null,
   "metadata": {},
   "outputs": [],
   "source": [
    "def VPD(rh, ta):\n",
    "    sat_vp = (6.11 * np.exp((2500000/461) * (1/273 - 1/(273 + ta))))\n",
    "    vpd = (((100 - rh)/100) * sat_vp)\n",
    "    return vpd\n",
    "\n",
    "ds = xr.open_dataset('https://dap.tern.org.au/thredds/dodsC/ecosystem_process/ozflux/'+site)\n",
    "# ds = xr.open_dataset(site)\n",
    "# ds = ds.sel(time=slice(time[0], time[1]))\n",
    "ds['GPP_SOLO'] = xr.where(ds.GPP_SOLO < 0, 0, ds.GPP_SOLO)  #Set negative GPP, ER, and ET measurements as zero\n",
    "ds['ER_SOLO'] = xr.where(ds.ER_SOLO < 0, 0, ds.ER_SOLO)  #Set negative GPP, ER, and ET measurements as zero\n",
    "ds['ET'] = xr.where(ds.ET < 0, 0, ds.ET)  #Set negative GPP, ER, and ET measurements as zero\n",
    "ds['VPD'] = VPD(ds.RH, ds.Ta)\n",
    "ds = ds[var]\n",
    "# ds_clim_mean = ds.groupby('time.month').mean()\n",
    "# ds = (ds.groupby('time.month') - ds_clim_mean)\n"
   ]
  },
  {
   "cell_type": "code",
   "execution_count": null,
   "metadata": {},
   "outputs": [],
   "source": [
    "ds = ds.resample(time='1W').mean()"
   ]
  },
  {
   "cell_type": "code",
   "execution_count": null,
   "metadata": {},
   "outputs": [],
   "source": [
    "df = ds.to_dataframe().reset_index(\n",
    "        level=[1, 2]).drop(['latitude', 'longitude'], axis=1)\n",
    "\n",
    "# df = pd.read_csv(site ,index_col='time', parse_dates=True)\n",
    "# df = df[var]\n",
    "\n",
    "# calculate VPD on ec data\n",
    "#df['VPD'] = VPD(df.RH, df.Ta)\n",
    "df = df[var].dropna()\n",
    "# test = df[-6:]\n",
    "# df = df[0:-6]\n",
    "\n",
    "data = df.values\n",
    "T, N = data.shape\n",
    "\n",
    "# Initialize dataframe object, specify time axis and variable names\n",
    "dataframe = pp.DataFrame(data, \n",
    "                         datatime = {0:np.arange(len(data))}, \n",
    "                         var_names=var_names)\n",
    "\n",
    "# # Initialize dataframe object, specify time axis and variable names\n",
    "# test_dataframe = pp.DataFrame(test.values, \n",
    "#                          datatime = {0:np.arange(len(test.values))}, \n",
    "#                          var_names=var_names)"
   ]
  },
  {
   "cell_type": "markdown",
   "metadata": {},
   "source": [
    "## Prediction with Tigramite\n",
    "\n",
    "Tigramite also contains a class tigramite.models.Prediction to perform predictions based on the sklearn models. The Prediction class includes a wrapper around run_pc_stable from the PCMCI class to perform predictor selection"
   ]
  },
  {
   "cell_type": "code",
   "execution_count": null,
   "metadata": {
    "scrolled": true
   },
   "outputs": [],
   "source": [
    "# tp.plot_timeseries(dataframe, figsize=(15, 5))"
   ]
  },
  {
   "cell_type": "code",
   "execution_count": null,
   "metadata": {},
   "outputs": [],
   "source": [
    "pred = Prediction(dataframe=dataframe,\n",
    "        cond_ind_test=ParCorr(), \n",
    "        prediction_model=model_type,\n",
    "        # data_transform=sklearn.preprocessing.StandardScaler(),\n",
    "        train_indices= range(int(0.8*T)),\n",
    "        test_indices= range(int(0.8*T), T),\n",
    "        verbosity=1\n",
    "    )"
   ]
  },
  {
   "cell_type": "code",
   "execution_count": null,
   "metadata": {},
   "outputs": [],
   "source": [
    "# Make solar have no parents\n",
    "selected_links = {}\n",
    "\n",
    "for j in range(N):\n",
    "    if j in list(range(N-1)):\n",
    "        selected_links[j] = [(var, -lag) for var in range(N)\n",
    "                         for lag in range(0, tau_max + 1)]\n",
    "    else:\n",
    "        selected_links[j] = []\n",
    "\n",
    "predictors = pred.get_predictors(\n",
    "                  selected_targets=[target],\n",
    "                  steps_ahead=steps_ahead,\n",
    "                  tau_max=tau_max,\n",
    "                  pc_alpha=None,\n",
    "                  selected_links=selected_links\n",
    "                  )\n",
    "\n",
    "graph = np.zeros((N, N, tau_max+1), dtype='bool')\n",
    "\n",
    "for j in [target]:\n",
    "    for p in predictors[j]:\n",
    "        graph[p[0], j, abs(p[1])] = 1\n",
    "\n",
    "# Plot time series graph\n",
    "tp.plot_time_series_graph(\n",
    "    figsize=(6, 3),\n",
    "#     node_aspect=2.,\n",
    "    val_matrix=np.ones(graph.shape),\n",
    "    graph=graph,\n",
    "    var_names=var_names,\n",
    "    link_colorbar_label='',\n",
    "    );"
   ]
  },
  {
   "cell_type": "code",
   "execution_count": null,
   "metadata": {},
   "outputs": [],
   "source": [
    "pred.fit(target_predictors=predictors, \n",
    "         selected_targets=[target],\n",
    "         tau_max=tau_max\n",
    "        )"
   ]
  },
  {
   "cell_type": "code",
   "execution_count": null,
   "metadata": {},
   "outputs": [],
   "source": [
    "predicted = pred.predict(target)\n",
    "true_data = pred.get_test_array()[0]\n",
    "\n",
    "plt.scatter(true_data, predicted)\n",
    "plt.title(r\"NRMSE = %.2f\" % (np.abs(true_data - predicted).mean()/true_data.std()))\n",
    "plt.plot(true_data, true_data, 'k-')\n",
    "plt.xlabel('True test data')\n",
    "plt.ylabel('Predicted test data')\n",
    "plt.show()"
   ]
  },
  {
   "cell_type": "markdown",
   "metadata": {},
   "source": [
    "## Multivariate forecasting using vector autoregression with causally selected variables"
   ]
  },
  {
   "cell_type": "code",
   "execution_count": null,
   "metadata": {},
   "outputs": [],
   "source": [
    "from statsmodels.tsa.vector_ar.var_model import VAR\n",
    "from statsmodels.tools.eval_measures import rmse\n",
    "\n",
    "forecast_length = steps_ahead\n",
    "pred_var = df.columns[target]"
   ]
  },
  {
   "cell_type": "markdown",
   "metadata": {},
   "source": [
    "### Set up dataframe, selecting only variables causally related"
   ]
  },
  {
   "cell_type": "code",
   "execution_count": null,
   "metadata": {},
   "outputs": [],
   "source": [
    "gpp_predictors = predictors.get(target)\n",
    "results = []\n",
    "for i in gpp_predictors:\n",
    "    print(i)\n",
    "    col = df.columns[i[0]]\n",
    "    series = df[col]\n",
    "    results.append(series)\n",
    "\n",
    "df_in = pd.concat(results, axis=1)\n",
    "df_in.head(3)"
   ]
  },
  {
   "cell_type": "markdown",
   "metadata": {},
   "source": [
    "### Fit model using the significant lag"
   ]
  },
  {
   "cell_type": "code",
   "execution_count": null,
   "metadata": {},
   "outputs": [],
   "source": [
    "lag_order = np.abs(gpp_predictors[0][1])\n",
    "\n",
    "model=VAR(df_in, freq='1W')\n",
    "model_fit = model.fit(lag_order)"
   ]
  },
  {
   "cell_type": "markdown",
   "metadata": {},
   "source": [
    "### Iteratively backtest"
   ]
  },
  {
   "cell_type": "code",
   "execution_count": null,
   "metadata": {},
   "outputs": [],
   "source": [
    "n_windows = int((len(df_in) / forecast_length) - 1)\n",
    "window_size = forecast_length\n",
    "\n",
    "aa = window_size\n",
    "dfs=[]\n",
    "for i in range(0, n_windows):\n",
    "    start=aa+lag_order\n",
    "    end=(aa)\n",
    "    backtest_input = df_in.values[-start:-end] \n",
    "    fc = model_fit.forecast(y=backtest_input, steps=window_size)  \n",
    "    if i == 0:\n",
    "        index=df_in.index[-end:]\n",
    "    else:\n",
    "        index=df_in.index[-end:-(end-window_size)]\n",
    "    fc = pd.DataFrame(fc, index=index, columns=df_in.columns)\n",
    "    dfs.append(fc)\n",
    "    aa+=window_size                       \n",
    "\n",
    "#concat results together\n",
    "fc=pd.concat(dfs)"
   ]
  },
  {
   "cell_type": "code",
   "execution_count": null,
   "metadata": {},
   "outputs": [],
   "source": [
    "test=df_in[df_in.index.isin(fc.index)]\n",
    "for i in test.columns:\n",
    "    print('rmse value for', i, 'is : ', round(rmse(fc[[i]], test[[i]])[0],2))"
   ]
  },
  {
   "cell_type": "code",
   "execution_count": null,
   "metadata": {},
   "outputs": [],
   "source": [
    "for col in df_in.columns:\n",
    "    plt.figure(figsize=(11,5))\n",
    "    plt.plot(df_in.index, df_in[col], label=col+' observation',linestyle='dashed', marker='o')\n",
    "    fc[col].plot(label=col+' forecast',linestyle='dashed', marker='o')\n",
    "    plt.ylabel(col)\n",
    "    plt.title(col+\": forecast vs actual\")\n",
    "    plt.legend();"
   ]
  },
  {
   "cell_type": "markdown",
   "metadata": {},
   "source": [
    "### Make a forecast"
   ]
  },
  {
   "cell_type": "code",
   "execution_count": null,
   "metadata": {},
   "outputs": [],
   "source": [
    "model = VAR(endog=df_in,freq='1W')\n",
    "model_fit = model.fit(lag_order)\n",
    "\n",
    "pred = model_fit.forecast(df_in.values[-model_fit.k_ar:], steps=forecast_length)"
   ]
  },
  {
   "cell_type": "code",
   "execution_count": null,
   "metadata": {},
   "outputs": [],
   "source": [
    "#converting predictions to dataframe\n",
    "cols = df_in.columns\n",
    "fc = pd.DataFrame(index=range(0,len(pred)), columns=[cols])\n",
    "for j in range(0,len(cols)):\n",
    "    for i in range(0, len(pred)):\n",
    "        fc.iloc[i][j] = pred[i][j]\n",
    "\n",
    "fc.index = pd.date_range(freq='1W', start=df_in.index[-1], periods=len(fc)+1)[1:]\n",
    "fc.head()"
   ]
  },
  {
   "cell_type": "markdown",
   "metadata": {},
   "source": [
    "### Plot the result of our forecast"
   ]
  },
  {
   "cell_type": "code",
   "execution_count": null,
   "metadata": {},
   "outputs": [],
   "source": [
    "plt.figure(figsize=(11,5))\n",
    "plt.plot(df_in.index, df_in[pred_var], label='observations',linestyle='dashed', marker='o')\n",
    "plt.plot(fc.index, fc[[pred_var]], label='forecast',linestyle='dashed', marker='o')\n",
    "plt.ylabel(pred_var+' Anomaly, gC/m2/month')\n",
    "plt.axhline(0, color='grey')\n",
    "# plt.title(\"NDVI Forecast\")\n",
    "# plt.ylim(0.0,0.9)\n",
    "plt.legend();"
   ]
  },
  {
   "cell_type": "markdown",
   "metadata": {},
   "source": [
    "## Multivariate forecasting with DARTS\n",
    "\n",
    "Using the N-BEATS model: Neural Basis Expansion Analysis Time Series Forecasting \n",
    "\n",
    "Paper: https://openreview.net/forum?id=r1ecqn4YwB\n",
    "\n",
    "netcdf loading into TensorFlow: https://www.noahbrenowitz.com/post/loading_netcdfs/\n"
   ]
  },
  {
   "cell_type": "code",
   "execution_count": null,
   "metadata": {},
   "outputs": [],
   "source": [
    "from darts.models import NBEATSModel, BlockRNNModel, TCNModel, LightGBMModel, LinearRegressionModel, VARIMA\n",
    "from darts.utils.likelihood_models import QuantileRegression\n",
    "from darts.utils.timeseries_generation import datetime_attribute_timeseries\n",
    "from darts.utils.statistics import extract_trend_and_seasonality, remove_trend\n",
    "from darts.utils.utils import SeasonalityMode\n",
    "from darts import TimeSeries\n",
    "from darts.metrics import mae\n",
    "from darts.dataprocessing.transformers import Scaler\n",
    "import xarray as xr\n",
    "import pandas as pd\n",
    "from matplotlib import pyplot as plt\n",
    "import warnings\n",
    "warnings.filterwarnings(\"ignore\")"
   ]
  },
  {
   "cell_type": "markdown",
   "metadata": {},
   "source": [
    "### Training with climate as multivariate"
   ]
  },
  {
   "cell_type": "code",
   "execution_count": 5,
   "metadata": {
    "tags": []
   },
   "outputs": [],
   "source": [
    "# covariates = df[df_in.columns[1:]] #only use covariates selected by causal network\n",
    "series_gpp = TimeSeries.from_dataframe(df)"
   ]
  },
  {
   "cell_type": "markdown",
   "metadata": {},
   "source": [
    "### Training with climate as covariables"
   ]
  },
  {
   "cell_type": "code",
   "execution_count": 6,
   "metadata": {},
   "outputs": [],
   "source": [
    "# #target variable\n",
    "# series_gpp = TimeSeries.from_dataframe(df_in, value_cols=[var[0]])\n",
    "\n",
    "# # series_gpp = remove_trend(series_gpp)\n",
    "\n",
    "# #covariates\n",
    "# covariates = df_in[df_in.columns[1]] \n",
    "# covariates = TimeSeries.from_series(covariates)\n",
    "\n",
    "# if len(df_in.columns) > 2:\n",
    "#     for i in range(0, len(df_in.columns[2:])):\n",
    "#         series =  df_in[df_in.columns[2+i]]\n",
    "#         series = TimeSeries.from_series(series)\n",
    "#         covariates=covariates.stack(series)\n",
    "        \n",
    "# #add seasonality and trend as covariates\n",
    "# trends = extract_trend_and_seasonality(series_gpp, model =SeasonalityMode.ADDITIVE, method='STL')\n",
    "# covariates = covariates.stack(trends[0])\n",
    "# covariates = covariates.stack(trends[1])"
   ]
  },
  {
   "cell_type": "code",
   "execution_count": 7,
   "metadata": {},
   "outputs": [],
   "source": [
    "# series_gpp = TimeSeries.from_dataframe(df, value_cols=[var[0]])\n",
    "\n",
    "# covariates = TimeSeries.from_dataframe(covariates)"
   ]
  },
  {
   "cell_type": "markdown",
   "metadata": {},
   "source": [
    "## Fit a model on training dataset\n",
    "\n",
    "Scaling data before fitting\n",
    "\n",
    "<!-- # RNN Model\n",
    "# model = BlockRNNModel(\n",
    "#     model=\"LSTM\",\n",
    "#     input_chunk_length=int(len(df)/3),\n",
    "#     output_chunk_length=3,\n",
    "#     pl_trainer_kwargs={'accelerator':'cuda', 'devices':1} #use GPUs\n",
    "# )\n",
    "\n",
    "# model = TCNModel(\n",
    "#     input_chunk_length=int(len(df)/3),\n",
    "#     output_chunk_length=3\n",
    "# )\n",
    "\n",
    "# model = LightGBMModel(lags=3, lags_past_covariates=3, output_chunk_length=3, likelihood='quantile')\n",
    "# model = LinearRegressionModel(lags=3, lags_past_covariates=3, output_chunk_length=3, likelihood='quantile') -->"
   ]
  },
  {
   "cell_type": "code",
   "execution_count": 8,
   "metadata": {},
   "outputs": [],
   "source": [
    "scaler = Scaler()\n",
    "series_gpp_scaled = scaler.fit_transform(series_gpp)\n",
    "\n",
    "# scaler_cov = Scaler()\n",
    "# covariates = scaler_cov.fit_transform(covariates)"
   ]
  },
  {
   "cell_type": "code",
   "execution_count": 9,
   "metadata": {},
   "outputs": [
    {
     "name": "stderr",
     "output_type": "stream",
     "text": [
      "2022-08-19 11:18:39 darts.models.forecasting.torch_forecasting_model INFO: Train dataset contains 418 samples.\n",
      "2022-08-19 11:18:40 darts.models.forecasting.torch_forecasting_model INFO: Time series values are 64-bits; casting model to float64.\n",
      "2022-08-19 11:18:40 pytorch_lightning.utilities.rank_zero INFO: GPU available: False, used: False\n",
      "2022-08-19 11:18:40 pytorch_lightning.utilities.rank_zero INFO: TPU available: False, using: 0 TPU cores\n",
      "2022-08-19 11:18:40 pytorch_lightning.utilities.rank_zero INFO: IPU available: False, using: 0 IPUs\n",
      "2022-08-19 11:18:40 pytorch_lightning.utilities.rank_zero INFO: HPU available: False, using: 0 HPUs\n",
      "2022-08-19 11:18:40 pytorch_lightning.callbacks.model_summary INFO: \n",
      "  | Name          | Type             | Params\n",
      "---------------------------------------------------\n",
      "0 | criterion     | MSELoss          | 0     \n",
      "1 | train_metrics | MetricCollection | 0     \n",
      "2 | val_metrics   | MetricCollection | 0     \n",
      "3 | stacks        | ModuleList       | 2.5 M \n",
      "---------------------------------------------------\n",
      "1.4 M     Trainable params\n",
      "1.1 M     Non-trainable params\n",
      "2.5 M     Total params\n",
      "19.888    Total estimated model params size (MB)\n"
     ]
    },
    {
     "data": {
      "application/vnd.jupyter.widget-view+json": {
       "model_id": "769c19976879438588a34a32a1279c48",
       "version_major": 2,
       "version_minor": 0
      },
      "text/plain": [
       "Training: 0it [00:00, ?it/s]"
      ]
     },
     "metadata": {},
     "output_type": "display_data"
    },
    {
     "name": "stderr",
     "output_type": "stream",
     "text": [
      "2022-08-19 11:20:22 pytorch_lightning.utilities.rank_zero INFO: `Trainer.fit` stopped: `max_epochs=80` reached.\n"
     ]
    },
    {
     "name": "stdout",
     "output_type": "stream",
     "text": [
      "CPU times: user 18min 57s, sys: 9.06 s, total: 19min 7s\n",
      "Wall time: 1min 43s\n"
     ]
    },
    {
     "data": {
      "text/plain": [
       "<darts.models.forecasting.nbeats.NBEATSModel at 0x7f878efef580>"
      ]
     },
     "execution_count": 9,
     "metadata": {},
     "output_type": "execute_result"
    }
   ],
   "source": [
    "%%time\n",
    "\n",
    "idx = int(len(series_gpp_scaled)*test_split)\n",
    "train, val = series_gpp_scaled.split_after(pd.Timestamp(series_gpp_scaled[idx].data_array().time.values[0]))\n",
    "# cov_train, cov_val = covariates.split_after(pd.Timestamp(series_gpp[idx].data_array().time.values[0]))\n",
    "\n",
    "# covariables as enconders\n",
    "encoders = {\n",
    "    # \"cyclic\": {\"future\": [\"month\"]},\n",
    "    \"datetime_attribute\": {\"past\":[\"week\", \"month\", \"year\"]},\n",
    "    # \"position\": {\"past\": [\"absolute\"], \"future\": [\"relative\"]},\n",
    "    \"transformer\": Scaler(),\n",
    "}\n",
    "\n",
    "model = NBEATSModel(input_chunk_length=104,\n",
    "                    output_chunk_length=n,\n",
    "                    generic_architecture=False,\n",
    "                    likelihood=QuantileRegression(),\n",
    "                    random_state=0,\n",
    "                    n_epochs=80,\n",
    "                    add_encoders=encoders\n",
    "                    # pl_trainer_kwargs={'accelerator':'cuda', 'devices':1} #use GPUs\n",
    "                   )\n",
    "\n",
    "model.fit(train)"
   ]
  },
  {
   "cell_type": "markdown",
   "metadata": {},
   "source": [
    "## Predict on validation dataset"
   ]
  },
  {
   "cell_type": "code",
   "execution_count": 10,
   "metadata": {},
   "outputs": [
    {
     "data": {
      "application/vnd.jupyter.widget-view+json": {
       "model_id": "352f8bf62d4e4b659e361653ef3f62d4",
       "version_major": 2,
       "version_minor": 0
      },
      "text/plain": [
       "Predicting: 14it [00:00, ?it/s]"
      ]
     },
     "metadata": {},
     "output_type": "display_data"
    },
    {
     "data": {
      "text/plain": [
       "<matplotlib.legend.Legend at 0x7f878f02a4f0>"
      ]
     },
     "execution_count": 10,
     "metadata": {},
     "output_type": "execute_result"
    },
    {
     "data": {
      "image/png": "[encoded data removed]",
      "text/plain": [
       "<Figure size 1080x360 with 1 Axes>"
      ]
     },
     "metadata": {
      "needs_background": "light"
     },
     "output_type": "display_data"
    }
   ],
   "source": [
    "pred = model.predict(n=len(val), series=train, num_samples=100) #past_covariates=covariates\n",
    "\n",
    "pred_r = scaler.inverse_transform(pred)\n",
    "val_r = scaler.inverse_transform(val)\n",
    "err = mape(val_r['GPP_SOLO'], pred_r['GPP_SOLO'])\n",
    "\n",
    "fig,ax = plt.subplots(figsize=(15,5))\n",
    "series_gpp['GPP_SOLO'].plot(ax=ax, label='actual')\n",
    "\n",
    "pred_r['GPP_SOLO'].plot(ax=ax, lw=3,\n",
    "                                    label='{}, MAPE={:.2f} %'.format('Forecast', err))\n",
    "plt.ylabel(var_names[0]+', gC/m2/week')\n",
    "# plt.axhline(0, color='grey')\n",
    "plt.legend()"
   ]
  },
  {
   "cell_type": "markdown",
   "metadata": {},
   "source": [
    "### Iterative backtest"
   ]
  },
  {
   "cell_type": "code",
   "execution_count": 11,
   "metadata": {},
   "outputs": [
    {
     "data": {
      "application/vnd.jupyter.widget-view+json": {
       "model_id": "7c8149cd85fc40bc86f4f9c20ab26be5",
       "version_major": 2,
       "version_minor": 0
      },
      "text/plain": [
       "  0%|          | 0/286 [00:00<?, ?it/s]"
      ]
     },
     "metadata": {},
     "output_type": "display_data"
    },
    {
     "data": {
      "application/vnd.jupyter.widget-view+json": {
       "model_id": "7096a7a8deff4a438b68215329f3efb4",
       "version_major": 2,
       "version_minor": 0
      },
      "text/plain": [
       "Predicting: 14it [00:00, ?it/s]"
      ]
     },
     "metadata": {},
     "output_type": "display_data"
    },
    {
     "data": {
      "application/vnd.jupyter.widget-view+json": {
       "model_id": "59f240ab38cf4c1094545a91ed72cc6e",
       "version_major": 2,
       "version_minor": 0
      },
      "text/plain": [
       "Predicting: 14it [00:00, ?it/s]"
      ]
     },
     "metadata": {},
     "output_type": "display_data"
    },
    {
     "data": {
      "application/vnd.jupyter.widget-view+json": {
       "model_id": "4fac38bb695e4ce991c2cb8e3e25cf16",
       "version_major": 2,
       "version_minor": 0
      },
      "text/plain": [
       "Predicting: 14it [00:00, ?it/s]"
      ]
     },
     "metadata": {},
     "output_type": "display_data"
    },
    {
     "data": {
      "application/vnd.jupyter.widget-view+json": {
       "model_id": "f5b13dd579e74558a202fe0b2b130354",
       "version_major": 2,
       "version_minor": 0
      },
      "text/plain": [
       "Predicting: 14it [00:00, ?it/s]"
      ]
     },
     "metadata": {},
     "output_type": "display_data"
    },
    {
     "data": {
      "application/vnd.jupyter.widget-view+json": {
       "model_id": "5820c01245b94000b094b2e08d2cf99f",
       "version_major": 2,
       "version_minor": 0
      },
      "text/plain": [
       "Predicting: 14it [00:00, ?it/s]"
      ]
     },
     "metadata": {},
     "output_type": "display_data"
    },
    {
     "data": {
      "application/vnd.jupyter.widget-view+json": {
       "model_id": "b4f4f71b79574e67bae1c5e2d8d6c590",
       "version_major": 2,
       "version_minor": 0
      },
      "text/plain": [
       "Predicting: 14it [00:00, ?it/s]"
      ]
     },
     "metadata": {},
     "output_type": "display_data"
    },
    {
     "data": {
      "application/vnd.jupyter.widget-view+json": {
       "model_id": "4475d4a634364db6b1b79848cdc7c833",
       "version_major": 2,
       "version_minor": 0
      },
      "text/plain": [
       "Predicting: 14it [00:00, ?it/s]"
      ]
     },
     "metadata": {},
     "output_type": "display_data"
    },
    {
     "data": {
      "application/vnd.jupyter.widget-view+json": {
       "model_id": "5dc39ef716464347a80f4383c6197c5f",
       "version_major": 2,
       "version_minor": 0
      },
      "text/plain": [
       "Predicting: 14it [00:00, ?it/s]"
      ]
     },
     "metadata": {},
     "output_type": "display_data"
    },
    {
     "data": {
      "application/vnd.jupyter.widget-view+json": {
       "model_id": "b90401d689574cc6af852cb77f4550c0",
       "version_major": 2,
       "version_minor": 0
      },
      "text/plain": [
       "Predicting: 14it [00:00, ?it/s]"
      ]
     },
     "metadata": {},
     "output_type": "display_data"
    },
    {
     "data": {
      "application/vnd.jupyter.widget-view+json": {
       "model_id": "7f209862920a42319b39b8be4d5496c6",
       "version_major": 2,
       "version_minor": 0
      },
      "text/plain": [
       "Predicting: 14it [00:00, ?it/s]"
      ]
     },
     "metadata": {},
     "output_type": "display_data"
    },
    {
     "data": {
      "application/vnd.jupyter.widget-view+json": {
       "model_id": "137e5c2ac2d94945b0bdf8140cea22ce",
       "version_major": 2,
       "version_minor": 0
      },
      "text/plain": [
       "Predicting: 14it [00:00, ?it/s]"
      ]
     },
     "metadata": {},
     "output_type": "display_data"
    },
    {
     "data": {
      "application/vnd.jupyter.widget-view+json": {
       "model_id": "f83c2be34b344e0fb62621262e667ab7",
       "version_major": 2,
       "version_minor": 0
      },
      "text/plain": [
       "Predicting: 14it [00:00, ?it/s]"
      ]
     },
     "metadata": {},
     "output_type": "display_data"
    },
    {
     "data": {
      "application/vnd.jupyter.widget-view+json": {
       "model_id": "f8ccf1a0d98b4e1fb28a9f4d101b5fa6",
       "version_major": 2,
       "version_minor": 0
      },
      "text/plain": [
       "Predicting: 14it [00:00, ?it/s]"
      ]
     },
     "metadata": {},
     "output_type": "display_data"
    },
    {
     "data": {
      "application/vnd.jupyter.widget-view+json": {
       "model_id": "ec04ef0df7f247c5a9eb384cfd61f3d3",
       "version_major": 2,
       "version_minor": 0
      },
      "text/plain": [
       "Predicting: 14it [00:00, ?it/s]"
      ]
     },
     "metadata": {},
     "output_type": "display_data"
    },
    {
     "data": {
      "application/vnd.jupyter.widget-view+json": {
       "model_id": "d852447b13864b9c9dabc838cd2f3598",
       "version_major": 2,
       "version_minor": 0
      },
      "text/plain": [
       "Predicting: 14it [00:00, ?it/s]"
      ]
     },
     "metadata": {},
     "output_type": "display_data"
    },
    {
     "data": {
      "application/vnd.jupyter.widget-view+json": {
       "model_id": "a282054e98f747a893c6d78c3f2e0cdb",
       "version_major": 2,
       "version_minor": 0
      },
      "text/plain": [
       "Predicting: 14it [00:00, ?it/s]"
      ]
     },
     "metadata": {},
     "output_type": "display_data"
    },
    {
     "data": {
      "application/vnd.jupyter.widget-view+json": {
       "model_id": "090ac04bb01c44c2b18ba9b64e3fc8d9",
       "version_major": 2,
       "version_minor": 0
      },
      "text/plain": [
       "Predicting: 14it [00:00, ?it/s]"
      ]
     },
     "metadata": {},
     "output_type": "display_data"
    },
    {
     "data": {
      "application/vnd.jupyter.widget-view+json": {
       "model_id": "8b512726a2e945a7a1dee4c153422fd8",
       "version_major": 2,
       "version_minor": 0
      },
      "text/plain": [
       "Predicting: 14it [00:00, ?it/s]"
      ]
     },
     "metadata": {},
     "output_type": "display_data"
    },
    {
     "data": {
      "application/vnd.jupyter.widget-view+json": {
       "model_id": "3a9ba538281b49eb8ee932dc8fd3254d",
       "version_major": 2,
       "version_minor": 0
      },
      "text/plain": [
       "Predicting: 14it [00:00, ?it/s]"
      ]
     },
     "metadata": {},
     "output_type": "display_data"
    },
    {
     "data": {
      "application/vnd.jupyter.widget-view+json": {
       "model_id": "c1428e1448ee4acabaa274cfa8224ea9",
       "version_major": 2,
       "version_minor": 0
      },
      "text/plain": [
       "Predicting: 14it [00:00, ?it/s]"
      ]
     },
     "metadata": {},
     "output_type": "display_data"
    },
    {
     "data": {
      "application/vnd.jupyter.widget-view+json": {
       "model_id": "d25e1a2d951b49a3bbc5d836f0396afa",
       "version_major": 2,
       "version_minor": 0
      },
      "text/plain": [
       "Predicting: 14it [00:00, ?it/s]"
      ]
     },
     "metadata": {},
     "output_type": "display_data"
    },
    {
     "data": {
      "application/vnd.jupyter.widget-view+json": {
       "model_id": "6fb87c42a7c7466386b79412670f50ff",
       "version_major": 2,
       "version_minor": 0
      },
      "text/plain": [
       "Predicting: 14it [00:00, ?it/s]"
      ]
     },
     "metadata": {},
     "output_type": "display_data"
    },
    {
     "data": {
      "application/vnd.jupyter.widget-view+json": {
       "model_id": "7533dfb5eb7f46f7a635f6db145e2bd6",
       "version_major": 2,
       "version_minor": 0
      },
      "text/plain": [
       "Predicting: 14it [00:00, ?it/s]"
      ]
     },
     "metadata": {},
     "output_type": "display_data"
    },
    {
     "data": {
      "application/vnd.jupyter.widget-view+json": {
       "model_id": "46609219c74145a49261083bc6263e2c",
       "version_major": 2,
       "version_minor": 0
      },
      "text/plain": [
       "Predicting: 14it [00:00, ?it/s]"
      ]
     },
     "metadata": {},
     "output_type": "display_data"
    },
    {
     "data": {
      "application/vnd.jupyter.widget-view+json": {
       "model_id": "94c5f9104f1b493ba7653208926c9582",
       "version_major": 2,
       "version_minor": 0
      },
      "text/plain": [
       "Predicting: 14it [00:00, ?it/s]"
      ]
     },
     "metadata": {},
     "output_type": "display_data"
    },
    {
     "data": {
      "application/vnd.jupyter.widget-view+json": {
       "model_id": "4f956371150e457d997e2f0389e42fb1",
       "version_major": 2,
       "version_minor": 0
      },
      "text/plain": [
       "Predicting: 14it [00:00, ?it/s]"
      ]
     },
     "metadata": {},
     "output_type": "display_data"
    },
    {
     "data": {
      "application/vnd.jupyter.widget-view+json": {
       "model_id": "d34e9cf9acb3465f9242d96386122265",
       "version_major": 2,
       "version_minor": 0
      },
      "text/plain": [
       "Predicting: 14it [00:00, ?it/s]"
      ]
     },
     "metadata": {},
     "output_type": "display_data"
    },
    {
     "data": {
      "application/vnd.jupyter.widget-view+json": {
       "model_id": "ab40e5338a7b40d1a4357a7e593352fc",
       "version_major": 2,
       "version_minor": 0
      },
      "text/plain": [
       "Predicting: 14it [00:00, ?it/s]"
      ]
     },
     "metadata": {},
     "output_type": "display_data"
    },
    {
     "data": {
      "application/vnd.jupyter.widget-view+json": {
       "model_id": "9dd447c549eb40db942947bdae3d7a89",
       "version_major": 2,
       "version_minor": 0
      },
      "text/plain": [
       "Predicting: 14it [00:00, ?it/s]"
      ]
     },
     "metadata": {},
     "output_type": "display_data"
    },
    {
     "data": {
      "application/vnd.jupyter.widget-view+json": {
       "model_id": "c49bb9970225455fa71642b5970609c1",
       "version_major": 2,
       "version_minor": 0
      },
      "text/plain": [
       "Predicting: 14it [00:00, ?it/s]"
      ]
     },
     "metadata": {},
     "output_type": "display_data"
    },
    {
     "data": {
      "application/vnd.jupyter.widget-view+json": {
       "model_id": "c4f370c2d7324a14bbf408bb0f94cf46",
       "version_major": 2,
       "version_minor": 0
      },
      "text/plain": [
       "Predicting: 14it [00:00, ?it/s]"
      ]
     },
     "metadata": {},
     "output_type": "display_data"
    },
    {
     "data": {
      "application/vnd.jupyter.widget-view+json": {
       "model_id": "a5320267b750463e97f84133e08e93cd",
       "version_major": 2,
       "version_minor": 0
      },
      "text/plain": [
       "Predicting: 14it [00:00, ?it/s]"
      ]
     },
     "metadata": {},
     "output_type": "display_data"
    },
    {
     "data": {
      "application/vnd.jupyter.widget-view+json": {
       "model_id": "31b7818e16094fb6b3d9df08aaaf3ed7",
       "version_major": 2,
       "version_minor": 0
      },
      "text/plain": [
       "Predicting: 14it [00:00, ?it/s]"
      ]
     },
     "metadata": {},
     "output_type": "display_data"
    },
    {
     "data": {
      "application/vnd.jupyter.widget-view+json": {
       "model_id": "24c24140ab524afe923dc6f4238aedb6",
       "version_major": 2,
       "version_minor": 0
      },
      "text/plain": [
       "Predicting: 14it [00:00, ?it/s]"
      ]
     },
     "metadata": {},
     "output_type": "display_data"
    },
    {
     "data": {
      "application/vnd.jupyter.widget-view+json": {
       "model_id": "79afd7c50dc24d5182740ce3cdde2bc6",
       "version_major": 2,
       "version_minor": 0
      },
      "text/plain": [
       "Predicting: 14it [00:00, ?it/s]"
      ]
     },
     "metadata": {},
     "output_type": "display_data"
    },
    {
     "data": {
      "application/vnd.jupyter.widget-view+json": {
       "model_id": "2cc4c57c94f54acdb6313c43302ddb66",
       "version_major": 2,
       "version_minor": 0
      },
      "text/plain": [
       "Predicting: 14it [00:00, ?it/s]"
      ]
     },
     "metadata": {},
     "output_type": "display_data"
    },
    {
     "data": {
      "application/vnd.jupyter.widget-view+json": {
       "model_id": "16e30348c59a4c9f8786a2192a13aafe",
       "version_major": 2,
       "version_minor": 0
      },
      "text/plain": [
       "Predicting: 14it [00:00, ?it/s]"
      ]
     },
     "metadata": {},
     "output_type": "display_data"
    },
    {
     "data": {
      "application/vnd.jupyter.widget-view+json": {
       "model_id": "507bafa4266a4fd3bf2430a1818cad37",
       "version_major": 2,
       "version_minor": 0
      },
      "text/plain": [
       "Predicting: 14it [00:00, ?it/s]"
      ]
     },
     "metadata": {},
     "output_type": "display_data"
    },
    {
     "data": {
      "application/vnd.jupyter.widget-view+json": {
       "model_id": "6aa16dcff335446b83b9102e07eb6726",
       "version_major": 2,
       "version_minor": 0
      },
      "text/plain": [
       "Predicting: 14it [00:00, ?it/s]"
      ]
     },
     "metadata": {},
     "output_type": "display_data"
    },
    {
     "data": {
      "application/vnd.jupyter.widget-view+json": {
       "model_id": "e6ac4a510e6343aea1cc0d125909e0e0",
       "version_major": 2,
       "version_minor": 0
      },
      "text/plain": [
       "Predicting: 14it [00:00, ?it/s]"
      ]
     },
     "metadata": {},
     "output_type": "display_data"
    },
    {
     "data": {
      "application/vnd.jupyter.widget-view+json": {
       "model_id": "e56d5f5fd35b44ac98d62a7a7134b0c9",
       "version_major": 2,
       "version_minor": 0
      },
      "text/plain": [
       "Predicting: 14it [00:00, ?it/s]"
      ]
     },
     "metadata": {},
     "output_type": "display_data"
    },
    {
     "data": {
      "application/vnd.jupyter.widget-view+json": {
       "model_id": "b9baf984cc454c24985ec9c6259506b4",
       "version_major": 2,
       "version_minor": 0
      },
      "text/plain": [
       "Predicting: 14it [00:00, ?it/s]"
      ]
     },
     "metadata": {},
     "output_type": "display_data"
    },
    {
     "data": {
      "application/vnd.jupyter.widget-view+json": {
       "model_id": "14cea193d9904dba906e919141671374",
       "version_major": 2,
       "version_minor": 0
      },
      "text/plain": [
       "Predicting: 14it [00:00, ?it/s]"
      ]
     },
     "metadata": {},
     "output_type": "display_data"
    },
    {
     "data": {
      "application/vnd.jupyter.widget-view+json": {
       "model_id": "9f820672c82d437ca4c92a72847c2d71",
       "version_major": 2,
       "version_minor": 0
      },
      "text/plain": [
       "Predicting: 14it [00:00, ?it/s]"
      ]
     },
     "metadata": {},
     "output_type": "display_data"
    },
    {
     "data": {
      "application/vnd.jupyter.widget-view+json": {
       "model_id": "e9a6b7cde0df446d895eae493b6ff488",
       "version_major": 2,
       "version_minor": 0
      },
      "text/plain": [
       "Predicting: 14it [00:00, ?it/s]"
      ]
     },
     "metadata": {},
     "output_type": "display_data"
    },
    {
     "data": {
      "application/vnd.jupyter.widget-view+json": {
       "model_id": "a89ebd8514ad4b5ab00a09ce4af9c44d",
       "version_major": 2,
       "version_minor": 0
      },
      "text/plain": [
       "Predicting: 14it [00:00, ?it/s]"
      ]
     },
     "metadata": {},
     "output_type": "display_data"
    },
    {
     "data": {
      "application/vnd.jupyter.widget-view+json": {
       "model_id": "9b5c0d0c411b43b2ae379b2dfe692e2d",
       "version_major": 2,
       "version_minor": 0
      },
      "text/plain": [
       "Predicting: 14it [00:00, ?it/s]"
      ]
     },
     "metadata": {},
     "output_type": "display_data"
    },
    {
     "data": {
      "application/vnd.jupyter.widget-view+json": {
       "model_id": "301f8a4f2c4b4099b23da47474299d5c",
       "version_major": 2,
       "version_minor": 0
      },
      "text/plain": [
       "Predicting: 14it [00:00, ?it/s]"
      ]
     },
     "metadata": {},
     "output_type": "display_data"
    },
    {
     "data": {
      "application/vnd.jupyter.widget-view+json": {
       "model_id": "5bc6dcf97b2e4d37b1de48fa9222a2f5",
       "version_major": 2,
       "version_minor": 0
      },
      "text/plain": [
       "Predicting: 14it [00:00, ?it/s]"
      ]
     },
     "metadata": {},
     "output_type": "display_data"
    },
    {
     "data": {
      "application/vnd.jupyter.widget-view+json": {
       "model_id": "568d8da7dd604ca2981f345be93cea06",
       "version_major": 2,
       "version_minor": 0
      },
      "text/plain": [
       "Predicting: 14it [00:00, ?it/s]"
      ]
     },
     "metadata": {},
     "output_type": "display_data"
    },
    {
     "data": {
      "application/vnd.jupyter.widget-view+json": {
       "model_id": "a8aeaa15a37441e29f856bc9fd9e0158",
       "version_major": 2,
       "version_minor": 0
      },
      "text/plain": [
       "Predicting: 14it [00:00, ?it/s]"
      ]
     },
     "metadata": {},
     "output_type": "display_data"
    },
    {
     "data": {
      "application/vnd.jupyter.widget-view+json": {
       "model_id": "8d3380ef37e54ea296bf1b813b01aba4",
       "version_major": 2,
       "version_minor": 0
      },
      "text/plain": [
       "Predicting: 14it [00:00, ?it/s]"
      ]
     },
     "metadata": {},
     "output_type": "display_data"
    },
    {
     "data": {
      "application/vnd.jupyter.widget-view+json": {
       "model_id": "58336a8631b942b98bf71442d0b2c05d",
       "version_major": 2,
       "version_minor": 0
      },
      "text/plain": [
       "Predicting: 14it [00:00, ?it/s]"
      ]
     },
     "metadata": {},
     "output_type": "display_data"
    },
    {
     "data": {
      "application/vnd.jupyter.widget-view+json": {
       "model_id": "65d49688d136425899183fd4658e7c7d",
       "version_major": 2,
       "version_minor": 0
      },
      "text/plain": [
       "Predicting: 14it [00:00, ?it/s]"
      ]
     },
     "metadata": {},
     "output_type": "display_data"
    },
    {
     "data": {
      "application/vnd.jupyter.widget-view+json": {
       "model_id": "bc09fecf6d61492881d66677f4d9b4ce",
       "version_major": 2,
       "version_minor": 0
      },
      "text/plain": [
       "Predicting: 14it [00:00, ?it/s]"
      ]
     },
     "metadata": {},
     "output_type": "display_data"
    },
    {
     "data": {
      "application/vnd.jupyter.widget-view+json": {
       "model_id": "da1c5049c52742f28fc1d4a0c5f2a209",
       "version_major": 2,
       "version_minor": 0
      },
      "text/plain": [
       "Predicting: 14it [00:00, ?it/s]"
      ]
     },
     "metadata": {},
     "output_type": "display_data"
    },
    {
     "data": {
      "application/vnd.jupyter.widget-view+json": {
       "model_id": "ab912644a34e4b16aa6a5439b63c6ea2",
       "version_major": 2,
       "version_minor": 0
      },
      "text/plain": [
       "Predicting: 14it [00:00, ?it/s]"
      ]
     },
     "metadata": {},
     "output_type": "display_data"
    },
    {
     "data": {
      "application/vnd.jupyter.widget-view+json": {
       "model_id": "1eeb48dce19c40b482bc2dfd6cfc35e8",
       "version_major": 2,
       "version_minor": 0
      },
      "text/plain": [
       "Predicting: 14it [00:00, ?it/s]"
      ]
     },
     "metadata": {},
     "output_type": "display_data"
    },
    {
     "data": {
      "application/vnd.jupyter.widget-view+json": {
       "model_id": "cef16e7d19a945e2a750898ca55d9b93",
       "version_major": 2,
       "version_minor": 0
      },
      "text/plain": [
       "Predicting: 14it [00:00, ?it/s]"
      ]
     },
     "metadata": {},
     "output_type": "display_data"
    },
    {
     "data": {
      "application/vnd.jupyter.widget-view+json": {
       "model_id": "d4e8a73630704728a821059fa6cdda09",
       "version_major": 2,
       "version_minor": 0
      },
      "text/plain": [
       "Predicting: 14it [00:00, ?it/s]"
      ]
     },
     "metadata": {},
     "output_type": "display_data"
    },
    {
     "data": {
      "application/vnd.jupyter.widget-view+json": {
       "model_id": "9a1ce801c5d8428d98e63c96f301709f",
       "version_major": 2,
       "version_minor": 0
      },
      "text/plain": [
       "Predicting: 14it [00:00, ?it/s]"
      ]
     },
     "metadata": {},
     "output_type": "display_data"
    },
    {
     "data": {
      "application/vnd.jupyter.widget-view+json": {
       "model_id": "1af2d53a54474065815a7b5619b25d68",
       "version_major": 2,
       "version_minor": 0
      },
      "text/plain": [
       "Predicting: 14it [00:00, ?it/s]"
      ]
     },
     "metadata": {},
     "output_type": "display_data"
    },
    {
     "data": {
      "application/vnd.jupyter.widget-view+json": {
       "model_id": "cf4658f3621e44d88b5570873d85c3ed",
       "version_major": 2,
       "version_minor": 0
      },
      "text/plain": [
       "Predicting: 14it [00:00, ?it/s]"
      ]
     },
     "metadata": {},
     "output_type": "display_data"
    },
    {
     "data": {
      "application/vnd.jupyter.widget-view+json": {
       "model_id": "1e9ce78156904d628e66e80495c34a9d",
       "version_major": 2,
       "version_minor": 0
      },
      "text/plain": [
       "Predicting: 14it [00:00, ?it/s]"
      ]
     },
     "metadata": {},
     "output_type": "display_data"
    },
    {
     "data": {
      "application/vnd.jupyter.widget-view+json": {
       "model_id": "1eec1446cd89407b99cd66dc8f6a75c6",
       "version_major": 2,
       "version_minor": 0
      },
      "text/plain": [
       "Predicting: 14it [00:00, ?it/s]"
      ]
     },
     "metadata": {},
     "output_type": "display_data"
    },
    {
     "data": {
      "application/vnd.jupyter.widget-view+json": {
       "model_id": "6e0391e09c7746ac85a4c05ae8804d17",
       "version_major": 2,
       "version_minor": 0
      },
      "text/plain": [
       "Predicting: 14it [00:00, ?it/s]"
      ]
     },
     "metadata": {},
     "output_type": "display_data"
    },
    {
     "data": {
      "application/vnd.jupyter.widget-view+json": {
       "model_id": "c53bfa3f0b8e40e3a242a81a27bccc25",
       "version_major": 2,
       "version_minor": 0
      },
      "text/plain": [
       "Predicting: 14it [00:00, ?it/s]"
      ]
     },
     "metadata": {},
     "output_type": "display_data"
    },
    {
     "data": {
      "application/vnd.jupyter.widget-view+json": {
       "model_id": "9432ff62682447ee9bbc3c699cfdd4a6",
       "version_major": 2,
       "version_minor": 0
      },
      "text/plain": [
       "Predicting: 14it [00:00, ?it/s]"
      ]
     },
     "metadata": {},
     "output_type": "display_data"
    },
    {
     "data": {
      "application/vnd.jupyter.widget-view+json": {
       "model_id": "0a2f487e27d242629c28fdb6432551a0",
       "version_major": 2,
       "version_minor": 0
      },
      "text/plain": [
       "Predicting: 14it [00:00, ?it/s]"
      ]
     },
     "metadata": {},
     "output_type": "display_data"
    },
    {
     "data": {
      "application/vnd.jupyter.widget-view+json": {
       "model_id": "564c952bbc0e48aabb69d500e3690ee5",
       "version_major": 2,
       "version_minor": 0
      },
      "text/plain": [
       "Predicting: 14it [00:00, ?it/s]"
      ]
     },
     "metadata": {},
     "output_type": "display_data"
    },
    {
     "data": {
      "application/vnd.jupyter.widget-view+json": {
       "model_id": "777760378be24c70a1dd1772518700c9",
       "version_major": 2,
       "version_minor": 0
      },
      "text/plain": [
       "Predicting: 14it [00:00, ?it/s]"
      ]
     },
     "metadata": {},
     "output_type": "display_data"
    },
    {
     "data": {
      "application/vnd.jupyter.widget-view+json": {
       "model_id": "13314c89498b413a9a07d729a66f4fd0",
       "version_major": 2,
       "version_minor": 0
      },
      "text/plain": [
       "Predicting: 14it [00:00, ?it/s]"
      ]
     },
     "metadata": {},
     "output_type": "display_data"
    },
    {
     "data": {
      "application/vnd.jupyter.widget-view+json": {
       "model_id": "373c6bba9a5d457aa1d4fc38d71c8e3a",
       "version_major": 2,
       "version_minor": 0
      },
      "text/plain": [
       "Predicting: 14it [00:00, ?it/s]"
      ]
     },
     "metadata": {},
     "output_type": "display_data"
    },
    {
     "data": {
      "application/vnd.jupyter.widget-view+json": {
       "model_id": "4e688fa2f3a54b9eaa0568df8d91d60a",
       "version_major": 2,
       "version_minor": 0
      },
      "text/plain": [
       "Predicting: 14it [00:00, ?it/s]"
      ]
     },
     "metadata": {},
     "output_type": "display_data"
    },
    {
     "data": {
      "application/vnd.jupyter.widget-view+json": {
       "model_id": "3c13624d62f844898e96b930b3c17abd",
       "version_major": 2,
       "version_minor": 0
      },
      "text/plain": [
       "Predicting: 14it [00:00, ?it/s]"
      ]
     },
     "metadata": {},
     "output_type": "display_data"
    },
    {
     "data": {
      "application/vnd.jupyter.widget-view+json": {
       "model_id": "1028954440944ca59cd36ac8712cce63",
       "version_major": 2,
       "version_minor": 0
      },
      "text/plain": [
       "Predicting: 14it [00:00, ?it/s]"
      ]
     },
     "metadata": {},
     "output_type": "display_data"
    },
    {
     "data": {
      "application/vnd.jupyter.widget-view+json": {
       "model_id": "8fa4c0053dd64c6d9b914352a2afa0bf",
       "version_major": 2,
       "version_minor": 0
      },
      "text/plain": [
       "Predicting: 14it [00:00, ?it/s]"
      ]
     },
     "metadata": {},
     "output_type": "display_data"
    },
    {
     "data": {
      "application/vnd.jupyter.widget-view+json": {
       "model_id": "87906519ecc2435f899a87b91d88a61f",
       "version_major": 2,
       "version_minor": 0
      },
      "text/plain": [
       "Predicting: 14it [00:00, ?it/s]"
      ]
     },
     "metadata": {},
     "output_type": "display_data"
    },
    {
     "data": {
      "application/vnd.jupyter.widget-view+json": {
       "model_id": "5dfd425f36264bd5a9d298d50f287055",
       "version_major": 2,
       "version_minor": 0
      },
      "text/plain": [
       "Predicting: 14it [00:00, ?it/s]"
      ]
     },
     "metadata": {},
     "output_type": "display_data"
    },
    {
     "data": {
      "application/vnd.jupyter.widget-view+json": {
       "model_id": "0203590fa8eb41b39821f58d87a6c55c",
       "version_major": 2,
       "version_minor": 0
      },
      "text/plain": [
       "Predicting: 14it [00:00, ?it/s]"
      ]
     },
     "metadata": {},
     "output_type": "display_data"
    },
    {
     "data": {
      "application/vnd.jupyter.widget-view+json": {
       "model_id": "2200f16325434403ad4c0609771b5109",
       "version_major": 2,
       "version_minor": 0
      },
      "text/plain": [
       "Predicting: 14it [00:00, ?it/s]"
      ]
     },
     "metadata": {},
     "output_type": "display_data"
    },
    {
     "data": {
      "application/vnd.jupyter.widget-view+json": {
       "model_id": "ad46e7cda9e84652b3c700d1d2802470",
       "version_major": 2,
       "version_minor": 0
      },
      "text/plain": [
       "Predicting: 14it [00:00, ?it/s]"
      ]
     },
     "metadata": {},
     "output_type": "display_data"
    },
    {
     "data": {
      "application/vnd.jupyter.widget-view+json": {
       "model_id": "2ff4944a1d744a94a8b26c77192bb2e9",
       "version_major": 2,
       "version_minor": 0
      },
      "text/plain": [
       "Predicting: 14it [00:00, ?it/s]"
      ]
     },
     "metadata": {},
     "output_type": "display_data"
    },
    {
     "data": {
      "application/vnd.jupyter.widget-view+json": {
       "model_id": "9f921cc07611498587135b96a4fb5aa2",
       "version_major": 2,
       "version_minor": 0
      },
      "text/plain": [
       "Predicting: 14it [00:00, ?it/s]"
      ]
     },
     "metadata": {},
     "output_type": "display_data"
    },
    {
     "data": {
      "application/vnd.jupyter.widget-view+json": {
       "model_id": "9215c69c794a484193c07868a3d9e89f",
       "version_major": 2,
       "version_minor": 0
      },
      "text/plain": [
       "Predicting: 14it [00:00, ?it/s]"
      ]
     },
     "metadata": {},
     "output_type": "display_data"
    },
    {
     "data": {
      "application/vnd.jupyter.widget-view+json": {
       "model_id": "2b88a9df2fe342ad9c6007b4bc812744",
       "version_major": 2,
       "version_minor": 0
      },
      "text/plain": [
       "Predicting: 14it [00:00, ?it/s]"
      ]
     },
     "metadata": {},
     "output_type": "display_data"
    },
    {
     "data": {
      "application/vnd.jupyter.widget-view+json": {
       "model_id": "f48a4f82cbff498793ce40b5acb88e0b",
       "version_major": 2,
       "version_minor": 0
      },
      "text/plain": [
       "Predicting: 14it [00:00, ?it/s]"
      ]
     },
     "metadata": {},
     "output_type": "display_data"
    },
    {
     "data": {
      "application/vnd.jupyter.widget-view+json": {
       "model_id": "4700a0513c974ecc95a7f6e7d4bc60cb",
       "version_major": 2,
       "version_minor": 0
      },
      "text/plain": [
       "Predicting: 14it [00:00, ?it/s]"
      ]
     },
     "metadata": {},
     "output_type": "display_data"
    },
    {
     "data": {
      "application/vnd.jupyter.widget-view+json": {
       "model_id": "6f50d83a47cc4c45921063b7783eaf37",
       "version_major": 2,
       "version_minor": 0
      },
      "text/plain": [
       "Predicting: 14it [00:00, ?it/s]"
      ]
     },
     "metadata": {},
     "output_type": "display_data"
    },
    {
     "data": {
      "application/vnd.jupyter.widget-view+json": {
       "model_id": "8b2c1067ed5c4c618ff6e43721ceb4aa",
       "version_major": 2,
       "version_minor": 0
      },
      "text/plain": [
       "Predicting: 14it [00:00, ?it/s]"
      ]
     },
     "metadata": {},
     "output_type": "display_data"
    },
    {
     "data": {
      "application/vnd.jupyter.widget-view+json": {
       "model_id": "ae16ea55cff447fd85a3e2a767d907c2",
       "version_major": 2,
       "version_minor": 0
      },
      "text/plain": [
       "Predicting: 14it [00:00, ?it/s]"
      ]
     },
     "metadata": {},
     "output_type": "display_data"
    },
    {
     "data": {
      "application/vnd.jupyter.widget-view+json": {
       "model_id": "ff6e25e05f1a4e5695c38a4420de62ac",
       "version_major": 2,
       "version_minor": 0
      },
      "text/plain": [
       "Predicting: 14it [00:00, ?it/s]"
      ]
     },
     "metadata": {},
     "output_type": "display_data"
    },
    {
     "data": {
      "application/vnd.jupyter.widget-view+json": {
       "model_id": "8ffd5370d89a4551af84510d0635ca16",
       "version_major": 2,
       "version_minor": 0
      },
      "text/plain": [
       "Predicting: 14it [00:00, ?it/s]"
      ]
     },
     "metadata": {},
     "output_type": "display_data"
    },
    {
     "data": {
      "application/vnd.jupyter.widget-view+json": {
       "model_id": "06234f77e1634d59a40f6b666a3edabd",
       "version_major": 2,
       "version_minor": 0
      },
      "text/plain": [
       "Predicting: 14it [00:00, ?it/s]"
      ]
     },
     "metadata": {},
     "output_type": "display_data"
    },
    {
     "data": {
      "application/vnd.jupyter.widget-view+json": {
       "model_id": "438a480ab7ce42eda399477c4b95e689",
       "version_major": 2,
       "version_minor": 0
      },
      "text/plain": [
       "Predicting: 14it [00:00, ?it/s]"
      ]
     },
     "metadata": {},
     "output_type": "display_data"
    },
    {
     "data": {
      "application/vnd.jupyter.widget-view+json": {
       "model_id": "18f14f6d152846e2b615eb468d5edb1f",
       "version_major": 2,
       "version_minor": 0
      },
      "text/plain": [
       "Predicting: 14it [00:00, ?it/s]"
      ]
     },
     "metadata": {},
     "output_type": "display_data"
    },
    {
     "data": {
      "application/vnd.jupyter.widget-view+json": {
       "model_id": "08f3add310a5446dae67cf26c62ad8c2",
       "version_major": 2,
       "version_minor": 0
      },
      "text/plain": [
       "Predicting: 14it [00:00, ?it/s]"
      ]
     },
     "metadata": {},
     "output_type": "display_data"
    },
    {
     "data": {
      "application/vnd.jupyter.widget-view+json": {
       "model_id": "5970ccfedc344232b77dcb38262391dd",
       "version_major": 2,
       "version_minor": 0
      },
      "text/plain": [
       "Predicting: 14it [00:00, ?it/s]"
      ]
     },
     "metadata": {},
     "output_type": "display_data"
    },
    {
     "data": {
      "application/vnd.jupyter.widget-view+json": {
       "model_id": "4b560ce80b764e2e8a0ed66e56fb3b87",
       "version_major": 2,
       "version_minor": 0
      },
      "text/plain": [
       "Predicting: 14it [00:00, ?it/s]"
      ]
     },
     "metadata": {},
     "output_type": "display_data"
    },
    {
     "data": {
      "application/vnd.jupyter.widget-view+json": {
       "model_id": "a04c7004d1864366aef55038dbd3a912",
       "version_major": 2,
       "version_minor": 0
      },
      "text/plain": [
       "Predicting: 14it [00:00, ?it/s]"
      ]
     },
     "metadata": {},
     "output_type": "display_data"
    },
    {
     "data": {
      "application/vnd.jupyter.widget-view+json": {
       "model_id": "3836f760ac4f4e66a3bea3728ae2edeb",
       "version_major": 2,
       "version_minor": 0
      },
      "text/plain": [
       "Predicting: 14it [00:00, ?it/s]"
      ]
     },
     "metadata": {},
     "output_type": "display_data"
    },
    {
     "data": {
      "application/vnd.jupyter.widget-view+json": {
       "model_id": "472bd031ba98400eb512598f43e5b7fa",
       "version_major": 2,
       "version_minor": 0
      },
      "text/plain": [
       "Predicting: 14it [00:00, ?it/s]"
      ]
     },
     "metadata": {},
     "output_type": "display_data"
    },
    {
     "data": {
      "application/vnd.jupyter.widget-view+json": {
       "model_id": "efbe4c9491204c76b19d2d53fc35dcd4",
       "version_major": 2,
       "version_minor": 0
      },
      "text/plain": [
       "Predicting: 14it [00:00, ?it/s]"
      ]
     },
     "metadata": {},
     "output_type": "display_data"
    },
    {
     "data": {
      "application/vnd.jupyter.widget-view+json": {
       "model_id": "2fc718709ae54ab7b57f77ad5d8f98c2",
       "version_major": 2,
       "version_minor": 0
      },
      "text/plain": [
       "Predicting: 14it [00:00, ?it/s]"
      ]
     },
     "metadata": {},
     "output_type": "display_data"
    },
    {
     "data": {
      "application/vnd.jupyter.widget-view+json": {
       "model_id": "e18b7ac6f9884781b8b0f1dbb1e4993c",
       "version_major": 2,
       "version_minor": 0
      },
      "text/plain": [
       "Predicting: 14it [00:00, ?it/s]"
      ]
     },
     "metadata": {},
     "output_type": "display_data"
    },
    {
     "data": {
      "application/vnd.jupyter.widget-view+json": {
       "model_id": "f505f74948614dfa81620bac505dc23f",
       "version_major": 2,
       "version_minor": 0
      },
      "text/plain": [
       "Predicting: 14it [00:00, ?it/s]"
      ]
     },
     "metadata": {},
     "output_type": "display_data"
    },
    {
     "data": {
      "application/vnd.jupyter.widget-view+json": {
       "model_id": "d7659b6648de43e9aedd25e8e29d3030",
       "version_major": 2,
       "version_minor": 0
      },
      "text/plain": [
       "Predicting: 14it [00:00, ?it/s]"
      ]
     },
     "metadata": {},
     "output_type": "display_data"
    },
    {
     "data": {
      "application/vnd.jupyter.widget-view+json": {
       "model_id": "bac5c5429694483cbd3ab54625faa965",
       "version_major": 2,
       "version_minor": 0
      },
      "text/plain": [
       "Predicting: 14it [00:00, ?it/s]"
      ]
     },
     "metadata": {},
     "output_type": "display_data"
    },
    {
     "data": {
      "application/vnd.jupyter.widget-view+json": {
       "model_id": "665bac17626747c396a6e571b1bb6b02",
       "version_major": 2,
       "version_minor": 0
      },
      "text/plain": [
       "Predicting: 14it [00:00, ?it/s]"
      ]
     },
     "metadata": {},
     "output_type": "display_data"
    },
    {
     "data": {
      "application/vnd.jupyter.widget-view+json": {
       "model_id": "c6d1cd33499142d9846a0b90616bacfc",
       "version_major": 2,
       "version_minor": 0
      },
      "text/plain": [
       "Predicting: 14it [00:00, ?it/s]"
      ]
     },
     "metadata": {},
     "output_type": "display_data"
    },
    {
     "data": {
      "application/vnd.jupyter.widget-view+json": {
       "model_id": "01ac0d8c7f5e47bd98566c69fab31e47",
       "version_major": 2,
       "version_minor": 0
      },
      "text/plain": [
       "Predicting: 14it [00:00, ?it/s]"
      ]
     },
     "metadata": {},
     "output_type": "display_data"
    },
    {
     "data": {
      "application/vnd.jupyter.widget-view+json": {
       "model_id": "e5971f6a68ab43a3836e00aa9671be5e",
       "version_major": 2,
       "version_minor": 0
      },
      "text/plain": [
       "Predicting: 14it [00:00, ?it/s]"
      ]
     },
     "metadata": {},
     "output_type": "display_data"
    },
    {
     "data": {
      "application/vnd.jupyter.widget-view+json": {
       "model_id": "b43810696b4846968702840b9b7a12a3",
       "version_major": 2,
       "version_minor": 0
      },
      "text/plain": [
       "Predicting: 14it [00:00, ?it/s]"
      ]
     },
     "metadata": {},
     "output_type": "display_data"
    },
    {
     "data": {
      "application/vnd.jupyter.widget-view+json": {
       "model_id": "f70954b09a284467b12239dfc1d0db11",
       "version_major": 2,
       "version_minor": 0
      },
      "text/plain": [
       "Predicting: 14it [00:00, ?it/s]"
      ]
     },
     "metadata": {},
     "output_type": "display_data"
    },
    {
     "data": {
      "application/vnd.jupyter.widget-view+json": {
       "model_id": "2245eef57f1542efb328f6b66e1ce686",
       "version_major": 2,
       "version_minor": 0
      },
      "text/plain": [
       "Predicting: 14it [00:00, ?it/s]"
      ]
     },
     "metadata": {},
     "output_type": "display_data"
    },
    {
     "data": {
      "application/vnd.jupyter.widget-view+json": {
       "model_id": "84afd030d1bb4b3083d916bc53a700d4",
       "version_major": 2,
       "version_minor": 0
      },
      "text/plain": [
       "Predicting: 14it [00:00, ?it/s]"
      ]
     },
     "metadata": {},
     "output_type": "display_data"
    },
    {
     "data": {
      "application/vnd.jupyter.widget-view+json": {
       "model_id": "c0393d9b8c704b7dbdd64e4ca4d52827",
       "version_major": 2,
       "version_minor": 0
      },
      "text/plain": [
       "Predicting: 14it [00:00, ?it/s]"
      ]
     },
     "metadata": {},
     "output_type": "display_data"
    },
    {
     "data": {
      "application/vnd.jupyter.widget-view+json": {
       "model_id": "a7a404a919ba4b1094a21a599793dc87",
       "version_major": 2,
       "version_minor": 0
      },
      "text/plain": [
       "Predicting: 14it [00:00, ?it/s]"
      ]
     },
     "metadata": {},
     "output_type": "display_data"
    },
    {
     "data": {
      "application/vnd.jupyter.widget-view+json": {
       "model_id": "1e147e937ca4455eb946997d30c30e33",
       "version_major": 2,
       "version_minor": 0
      },
      "text/plain": [
       "Predicting: 14it [00:00, ?it/s]"
      ]
     },
     "metadata": {},
     "output_type": "display_data"
    },
    {
     "data": {
      "application/vnd.jupyter.widget-view+json": {
       "model_id": "b8dab169dff24cd8933cf797bed17943",
       "version_major": 2,
       "version_minor": 0
      },
      "text/plain": [
       "Predicting: 14it [00:00, ?it/s]"
      ]
     },
     "metadata": {},
     "output_type": "display_data"
    },
    {
     "data": {
      "application/vnd.jupyter.widget-view+json": {
       "model_id": "861f231cc3324c9da46a1377fe463970",
       "version_major": 2,
       "version_minor": 0
      },
      "text/plain": [
       "Predicting: 14it [00:00, ?it/s]"
      ]
     },
     "metadata": {},
     "output_type": "display_data"
    },
    {
     "data": {
      "application/vnd.jupyter.widget-view+json": {
       "model_id": "e85c9a45dd4d44eab1ef380c4d1c0701",
       "version_major": 2,
       "version_minor": 0
      },
      "text/plain": [
       "Predicting: 14it [00:00, ?it/s]"
      ]
     },
     "metadata": {},
     "output_type": "display_data"
    },
    {
     "data": {
      "application/vnd.jupyter.widget-view+json": {
       "model_id": "45e097f18bf045f4a6dc8e10fcd7f8d4",
       "version_major": 2,
       "version_minor": 0
      },
      "text/plain": [
       "Predicting: 14it [00:00, ?it/s]"
      ]
     },
     "metadata": {},
     "output_type": "display_data"
    },
    {
     "data": {
      "application/vnd.jupyter.widget-view+json": {
       "model_id": "5c75d064d5684a9b9f2497b11e4f6daa",
       "version_major": 2,
       "version_minor": 0
      },
      "text/plain": [
       "Predicting: 14it [00:00, ?it/s]"
      ]
     },
     "metadata": {},
     "output_type": "display_data"
    },
    {
     "data": {
      "application/vnd.jupyter.widget-view+json": {
       "model_id": "e58f1a506ffb4124af644a6f554fce99",
       "version_major": 2,
       "version_minor": 0
      },
      "text/plain": [
       "Predicting: 14it [00:00, ?it/s]"
      ]
     },
     "metadata": {},
     "output_type": "display_data"
    },
    {
     "data": {
      "application/vnd.jupyter.widget-view+json": {
       "model_id": "8d5def3dc3114c728824fe53722e75d0",
       "version_major": 2,
       "version_minor": 0
      },
      "text/plain": [
       "Predicting: 14it [00:00, ?it/s]"
      ]
     },
     "metadata": {},
     "output_type": "display_data"
    },
    {
     "data": {
      "application/vnd.jupyter.widget-view+json": {
       "model_id": "cba66cf285584131b403fd145680c048",
       "version_major": 2,
       "version_minor": 0
      },
      "text/plain": [
       "Predicting: 14it [00:00, ?it/s]"
      ]
     },
     "metadata": {},
     "output_type": "display_data"
    },
    {
     "data": {
      "application/vnd.jupyter.widget-view+json": {
       "model_id": "81c9837cc6544c6d8fcca24aa382f65c",
       "version_major": 2,
       "version_minor": 0
      },
      "text/plain": [
       "Predicting: 14it [00:00, ?it/s]"
      ]
     },
     "metadata": {},
     "output_type": "display_data"
    },
    {
     "data": {
      "application/vnd.jupyter.widget-view+json": {
       "model_id": "78acca14f3f74e469ee5ccce585d36a2",
       "version_major": 2,
       "version_minor": 0
      },
      "text/plain": [
       "Predicting: 14it [00:00, ?it/s]"
      ]
     },
     "metadata": {},
     "output_type": "display_data"
    },
    {
     "data": {
      "application/vnd.jupyter.widget-view+json": {
       "model_id": "3ba5543a7e6e4d628d58af903ef6bd21",
       "version_major": 2,
       "version_minor": 0
      },
      "text/plain": [
       "Predicting: 14it [00:00, ?it/s]"
      ]
     },
     "metadata": {},
     "output_type": "display_data"
    },
    {
     "data": {
      "application/vnd.jupyter.widget-view+json": {
       "model_id": "dace12500f9c4111a1cacdb9272a8d4d",
       "version_major": 2,
       "version_minor": 0
      },
      "text/plain": [
       "Predicting: 14it [00:00, ?it/s]"
      ]
     },
     "metadata": {},
     "output_type": "display_data"
    },
    {
     "data": {
      "application/vnd.jupyter.widget-view+json": {
       "model_id": "d4e35c9dbeb74421bf27a5a426f0e040",
       "version_major": 2,
       "version_minor": 0
      },
      "text/plain": [
       "Predicting: 14it [00:00, ?it/s]"
      ]
     },
     "metadata": {},
     "output_type": "display_data"
    },
    {
     "data": {
      "application/vnd.jupyter.widget-view+json": {
       "model_id": "7fb173df0f574a4c8ec3d92b4fe8505e",
       "version_major": 2,
       "version_minor": 0
      },
      "text/plain": [
       "Predicting: 14it [00:00, ?it/s]"
      ]
     },
     "metadata": {},
     "output_type": "display_data"
    },
    {
     "data": {
      "application/vnd.jupyter.widget-view+json": {
       "model_id": "ac0b22ac005d48c7ac85b3e21ba98441",
       "version_major": 2,
       "version_minor": 0
      },
      "text/plain": [
       "Predicting: 14it [00:00, ?it/s]"
      ]
     },
     "metadata": {},
     "output_type": "display_data"
    },
    {
     "data": {
      "application/vnd.jupyter.widget-view+json": {
       "model_id": "580fcd1e141241bd951b860107a7264d",
       "version_major": 2,
       "version_minor": 0
      },
      "text/plain": [
       "Predicting: 14it [00:00, ?it/s]"
      ]
     },
     "metadata": {},
     "output_type": "display_data"
    },
    {
     "data": {
      "application/vnd.jupyter.widget-view+json": {
       "model_id": "eed10687065b4a77963eb1f7308f5553",
       "version_major": 2,
       "version_minor": 0
      },
      "text/plain": [
       "Predicting: 14it [00:00, ?it/s]"
      ]
     },
     "metadata": {},
     "output_type": "display_data"
    },
    {
     "data": {
      "application/vnd.jupyter.widget-view+json": {
       "model_id": "652303ae876340e68b7e6197e01cc80a",
       "version_major": 2,
       "version_minor": 0
      },
      "text/plain": [
       "Predicting: 14it [00:00, ?it/s]"
      ]
     },
     "metadata": {},
     "output_type": "display_data"
    },
    {
     "data": {
      "application/vnd.jupyter.widget-view+json": {
       "model_id": "b52fe8b1e5c0409a9f561efd4bf36596",
       "version_major": 2,
       "version_minor": 0
      },
      "text/plain": [
       "Predicting: 14it [00:00, ?it/s]"
      ]
     },
     "metadata": {},
     "output_type": "display_data"
    },
    {
     "data": {
      "application/vnd.jupyter.widget-view+json": {
       "model_id": "20f0897085db4dfdb035ac0deaf757d3",
       "version_major": 2,
       "version_minor": 0
      },
      "text/plain": [
       "Predicting: 14it [00:00, ?it/s]"
      ]
     },
     "metadata": {},
     "output_type": "display_data"
    },
    {
     "data": {
      "application/vnd.jupyter.widget-view+json": {
       "model_id": "dceadb6ce17d408fb262cf3aa7c2aa3d",
       "version_major": 2,
       "version_minor": 0
      },
      "text/plain": [
       "Predicting: 14it [00:00, ?it/s]"
      ]
     },
     "metadata": {},
     "output_type": "display_data"
    },
    {
     "data": {
      "application/vnd.jupyter.widget-view+json": {
       "model_id": "c2d23decd6e14da886653a3c48925cb7",
       "version_major": 2,
       "version_minor": 0
      },
      "text/plain": [
       "Predicting: 14it [00:00, ?it/s]"
      ]
     },
     "metadata": {},
     "output_type": "display_data"
    },
    {
     "data": {
      "application/vnd.jupyter.widget-view+json": {
       "model_id": "25ec25134c344f44b987955a9b1b8897",
       "version_major": 2,
       "version_minor": 0
      },
      "text/plain": [
       "Predicting: 14it [00:00, ?it/s]"
      ]
     },
     "metadata": {},
     "output_type": "display_data"
    },
    {
     "data": {
      "application/vnd.jupyter.widget-view+json": {
       "model_id": "af320ae25f92494b971374a033f99aa2",
       "version_major": 2,
       "version_minor": 0
      },
      "text/plain": [
       "Predicting: 14it [00:00, ?it/s]"
      ]
     },
     "metadata": {},
     "output_type": "display_data"
    },
    {
     "data": {
      "application/vnd.jupyter.widget-view+json": {
       "model_id": "7798dce825c3489fb042fb9090b9a336",
       "version_major": 2,
       "version_minor": 0
      },
      "text/plain": [
       "Predicting: 14it [00:00, ?it/s]"
      ]
     },
     "metadata": {},
     "output_type": "display_data"
    },
    {
     "data": {
      "application/vnd.jupyter.widget-view+json": {
       "model_id": "3ed93a594564493c80db032237b7d801",
       "version_major": 2,
       "version_minor": 0
      },
      "text/plain": [
       "Predicting: 14it [00:00, ?it/s]"
      ]
     },
     "metadata": {},
     "output_type": "display_data"
    },
    {
     "data": {
      "application/vnd.jupyter.widget-view+json": {
       "model_id": "749d6292bb044262a54895bb43bf2f8d",
       "version_major": 2,
       "version_minor": 0
      },
      "text/plain": [
       "Predicting: 14it [00:00, ?it/s]"
      ]
     },
     "metadata": {},
     "output_type": "display_data"
    },
    {
     "data": {
      "application/vnd.jupyter.widget-view+json": {
       "model_id": "80ac2e9b6200433a89ec59d77185621f",
       "version_major": 2,
       "version_minor": 0
      },
      "text/plain": [
       "Predicting: 14it [00:00, ?it/s]"
      ]
     },
     "metadata": {},
     "output_type": "display_data"
    },
    {
     "data": {
      "application/vnd.jupyter.widget-view+json": {
       "model_id": "b0bfec95694049db85284f4eb5b7150f",
       "version_major": 2,
       "version_minor": 0
      },
      "text/plain": [
       "Predicting: 14it [00:00, ?it/s]"
      ]
     },
     "metadata": {},
     "output_type": "display_data"
    },
    {
     "data": {
      "application/vnd.jupyter.widget-view+json": {
       "model_id": "a575efdbbb5841d58500433f8cc515e9",
       "version_major": 2,
       "version_minor": 0
      },
      "text/plain": [
       "Predicting: 14it [00:00, ?it/s]"
      ]
     },
     "metadata": {},
     "output_type": "display_data"
    },
    {
     "data": {
      "application/vnd.jupyter.widget-view+json": {
       "model_id": "670c4ad6a9734628a8825c0522779d1f",
       "version_major": 2,
       "version_minor": 0
      },
      "text/plain": [
       "Predicting: 14it [00:00, ?it/s]"
      ]
     },
     "metadata": {},
     "output_type": "display_data"
    },
    {
     "data": {
      "application/vnd.jupyter.widget-view+json": {
       "model_id": "817276f0263243859fc88ffba83223a1",
       "version_major": 2,
       "version_minor": 0
      },
      "text/plain": [
       "Predicting: 14it [00:00, ?it/s]"
      ]
     },
     "metadata": {},
     "output_type": "display_data"
    },
    {
     "data": {
      "application/vnd.jupyter.widget-view+json": {
       "model_id": "d7d4172088d740d8829079c1f7cd573d",
       "version_major": 2,
       "version_minor": 0
      },
      "text/plain": [
       "Predicting: 14it [00:00, ?it/s]"
      ]
     },
     "metadata": {},
     "output_type": "display_data"
    },
    {
     "data": {
      "application/vnd.jupyter.widget-view+json": {
       "model_id": "938a05a10ba149c1aa7c7275813c864c",
       "version_major": 2,
       "version_minor": 0
      },
      "text/plain": [
       "Predicting: 14it [00:00, ?it/s]"
      ]
     },
     "metadata": {},
     "output_type": "display_data"
    },
    {
     "data": {
      "application/vnd.jupyter.widget-view+json": {
       "model_id": "5545732f0ddf4380ad09c63def7e6481",
       "version_major": 2,
       "version_minor": 0
      },
      "text/plain": [
       "Predicting: 14it [00:00, ?it/s]"
      ]
     },
     "metadata": {},
     "output_type": "display_data"
    },
    {
     "data": {
      "application/vnd.jupyter.widget-view+json": {
       "model_id": "2888b1118489454d87541a99aee3403a",
       "version_major": 2,
       "version_minor": 0
      },
      "text/plain": [
       "Predicting: 14it [00:00, ?it/s]"
      ]
     },
     "metadata": {},
     "output_type": "display_data"
    },
    {
     "data": {
      "application/vnd.jupyter.widget-view+json": {
       "model_id": "570a8b4a8d4b4cbaa3496cf1a6666c41",
       "version_major": 2,
       "version_minor": 0
      },
      "text/plain": [
       "Predicting: 14it [00:00, ?it/s]"
      ]
     },
     "metadata": {},
     "output_type": "display_data"
    },
    {
     "data": {
      "application/vnd.jupyter.widget-view+json": {
       "model_id": "eed8d109e61340b8889f117b465654ec",
       "version_major": 2,
       "version_minor": 0
      },
      "text/plain": [
       "Predicting: 14it [00:00, ?it/s]"
      ]
     },
     "metadata": {},
     "output_type": "display_data"
    },
    {
     "data": {
      "application/vnd.jupyter.widget-view+json": {
       "model_id": "2d57ac0abc1d40458e6351227e206cb6",
       "version_major": 2,
       "version_minor": 0
      },
      "text/plain": [
       "Predicting: 14it [00:00, ?it/s]"
      ]
     },
     "metadata": {},
     "output_type": "display_data"
    },
    {
     "data": {
      "application/vnd.jupyter.widget-view+json": {
       "model_id": "b854dd5d4e264d63acde1e83902ea32e",
       "version_major": 2,
       "version_minor": 0
      },
      "text/plain": [
       "Predicting: 14it [00:00, ?it/s]"
      ]
     },
     "metadata": {},
     "output_type": "display_data"
    },
    {
     "data": {
      "application/vnd.jupyter.widget-view+json": {
       "model_id": "f7a3ac45ba5b4339b782caeda31ff325",
       "version_major": 2,
       "version_minor": 0
      },
      "text/plain": [
       "Predicting: 14it [00:00, ?it/s]"
      ]
     },
     "metadata": {},
     "output_type": "display_data"
    },
    {
     "data": {
      "application/vnd.jupyter.widget-view+json": {
       "model_id": "6889f3fd8a1d47c4995dd96e215fc1e9",
       "version_major": 2,
       "version_minor": 0
      },
      "text/plain": [
       "Predicting: 14it [00:00, ?it/s]"
      ]
     },
     "metadata": {},
     "output_type": "display_data"
    },
    {
     "data": {
      "application/vnd.jupyter.widget-view+json": {
       "model_id": "18085f53fe8f4e4989bac62278e08a7a",
       "version_major": 2,
       "version_minor": 0
      },
      "text/plain": [
       "Predicting: 14it [00:00, ?it/s]"
      ]
     },
     "metadata": {},
     "output_type": "display_data"
    },
    {
     "data": {
      "application/vnd.jupyter.widget-view+json": {
       "model_id": "3527bf36626a4d86845e69c814aafebe",
       "version_major": 2,
       "version_minor": 0
      },
      "text/plain": [
       "Predicting: 14it [00:00, ?it/s]"
      ]
     },
     "metadata": {},
     "output_type": "display_data"
    },
    {
     "data": {
      "application/vnd.jupyter.widget-view+json": {
       "model_id": "15984c15632940bbaec926a8139589a3",
       "version_major": 2,
       "version_minor": 0
      },
      "text/plain": [
       "Predicting: 14it [00:00, ?it/s]"
      ]
     },
     "metadata": {},
     "output_type": "display_data"
    },
    {
     "data": {
      "application/vnd.jupyter.widget-view+json": {
       "model_id": "e44d7334373e42acafd0d959700ee35b",
       "version_major": 2,
       "version_minor": 0
      },
      "text/plain": [
       "Predicting: 14it [00:00, ?it/s]"
      ]
     },
     "metadata": {},
     "output_type": "display_data"
    },
    {
     "data": {
      "application/vnd.jupyter.widget-view+json": {
       "model_id": "799c644bba6c478c802a9c966eb5cc7b",
       "version_major": 2,
       "version_minor": 0
      },
      "text/plain": [
       "Predicting: 14it [00:00, ?it/s]"
      ]
     },
     "metadata": {},
     "output_type": "display_data"
    },
    {
     "data": {
      "application/vnd.jupyter.widget-view+json": {
       "model_id": "498bf4f31321443ca0e2862c5fb13cd0",
       "version_major": 2,
       "version_minor": 0
      },
      "text/plain": [
       "Predicting: 14it [00:00, ?it/s]"
      ]
     },
     "metadata": {},
     "output_type": "display_data"
    },
    {
     "data": {
      "application/vnd.jupyter.widget-view+json": {
       "model_id": "e4a535858ccb4d06987949808cf0fca4",
       "version_major": 2,
       "version_minor": 0
      },
      "text/plain": [
       "Predicting: 14it [00:00, ?it/s]"
      ]
     },
     "metadata": {},
     "output_type": "display_data"
    },
    {
     "data": {
      "application/vnd.jupyter.widget-view+json": {
       "model_id": "ffa84e2ff1404992a15b2666c94422f2",
       "version_major": 2,
       "version_minor": 0
      },
      "text/plain": [
       "Predicting: 14it [00:00, ?it/s]"
      ]
     },
     "metadata": {},
     "output_type": "display_data"
    },
    {
     "data": {
      "application/vnd.jupyter.widget-view+json": {
       "model_id": "59ecba10921c47f3833e298b1ff2e4fb",
       "version_major": 2,
       "version_minor": 0
      },
      "text/plain": [
       "Predicting: 14it [00:00, ?it/s]"
      ]
     },
     "metadata": {},
     "output_type": "display_data"
    },
    {
     "data": {
      "application/vnd.jupyter.widget-view+json": {
       "model_id": "b07a8289d92e4024b175f47eb568785e",
       "version_major": 2,
       "version_minor": 0
      },
      "text/plain": [
       "Predicting: 14it [00:00, ?it/s]"
      ]
     },
     "metadata": {},
     "output_type": "display_data"
    },
    {
     "data": {
      "application/vnd.jupyter.widget-view+json": {
       "model_id": "c4969d4014944ec990c85d9f98b5a384",
       "version_major": 2,
       "version_minor": 0
      },
      "text/plain": [
       "Predicting: 14it [00:00, ?it/s]"
      ]
     },
     "metadata": {},
     "output_type": "display_data"
    },
    {
     "data": {
      "application/vnd.jupyter.widget-view+json": {
       "model_id": "6b0095619545489288a5f23f15a92009",
       "version_major": 2,
       "version_minor": 0
      },
      "text/plain": [
       "Predicting: 14it [00:00, ?it/s]"
      ]
     },
     "metadata": {},
     "output_type": "display_data"
    },
    {
     "data": {
      "application/vnd.jupyter.widget-view+json": {
       "model_id": "9b4e1f8389cb40369b84fccd47718aa4",
       "version_major": 2,
       "version_minor": 0
      },
      "text/plain": [
       "Predicting: 14it [00:00, ?it/s]"
      ]
     },
     "metadata": {},
     "output_type": "display_data"
    },
    {
     "data": {
      "application/vnd.jupyter.widget-view+json": {
       "model_id": "74489d9048b240f7b8a2221c3249428f",
       "version_major": 2,
       "version_minor": 0
      },
      "text/plain": [
       "Predicting: 14it [00:00, ?it/s]"
      ]
     },
     "metadata": {},
     "output_type": "display_data"
    },
    {
     "data": {
      "application/vnd.jupyter.widget-view+json": {
       "model_id": "491235d99e7f4bab99a59049f2767111",
       "version_major": 2,
       "version_minor": 0
      },
      "text/plain": [
       "Predicting: 14it [00:00, ?it/s]"
      ]
     },
     "metadata": {},
     "output_type": "display_data"
    },
    {
     "data": {
      "application/vnd.jupyter.widget-view+json": {
       "model_id": "2c72df5841854afd85bb12910a9b4119",
       "version_major": 2,
       "version_minor": 0
      },
      "text/plain": [
       "Predicting: 14it [00:00, ?it/s]"
      ]
     },
     "metadata": {},
     "output_type": "display_data"
    },
    {
     "data": {
      "application/vnd.jupyter.widget-view+json": {
       "model_id": "cf577a5291024662b1e575c50ddf6444",
       "version_major": 2,
       "version_minor": 0
      },
      "text/plain": [
       "Predicting: 14it [00:00, ?it/s]"
      ]
     },
     "metadata": {},
     "output_type": "display_data"
    },
    {
     "data": {
      "application/vnd.jupyter.widget-view+json": {
       "model_id": "c7a824a8bf2c4c699e1e6c71ea51d5e6",
       "version_major": 2,
       "version_minor": 0
      },
      "text/plain": [
       "Predicting: 14it [00:00, ?it/s]"
      ]
     },
     "metadata": {},
     "output_type": "display_data"
    },
    {
     "data": {
      "application/vnd.jupyter.widget-view+json": {
       "model_id": "d644e81a53584b758ce4c00eef126fe3",
       "version_major": 2,
       "version_minor": 0
      },
      "text/plain": [
       "Predicting: 14it [00:00, ?it/s]"
      ]
     },
     "metadata": {},
     "output_type": "display_data"
    },
    {
     "data": {
      "application/vnd.jupyter.widget-view+json": {
       "model_id": "e6d5fa8ff7624a9ca707ee26df4f2fdb",
       "version_major": 2,
       "version_minor": 0
      },
      "text/plain": [
       "Predicting: 14it [00:00, ?it/s]"
      ]
     },
     "metadata": {},
     "output_type": "display_data"
    },
    {
     "data": {
      "application/vnd.jupyter.widget-view+json": {
       "model_id": "2c6263c2861a4ee8891b96b4e9ed0a54",
       "version_major": 2,
       "version_minor": 0
      },
      "text/plain": [
       "Predicting: 14it [00:00, ?it/s]"
      ]
     },
     "metadata": {},
     "output_type": "display_data"
    },
    {
     "data": {
      "application/vnd.jupyter.widget-view+json": {
       "model_id": "ae702ac5d329430aa1ea8073ae4bc8a2",
       "version_major": 2,
       "version_minor": 0
      },
      "text/plain": [
       "Predicting: 14it [00:00, ?it/s]"
      ]
     },
     "metadata": {},
     "output_type": "display_data"
    },
    {
     "data": {
      "application/vnd.jupyter.widget-view+json": {
       "model_id": "5831b9754c3d45559c98a71189143036",
       "version_major": 2,
       "version_minor": 0
      },
      "text/plain": [
       "Predicting: 14it [00:00, ?it/s]"
      ]
     },
     "metadata": {},
     "output_type": "display_data"
    },
    {
     "data": {
      "application/vnd.jupyter.widget-view+json": {
       "model_id": "f9e8c09a7ef94c79b58c2318003fd30e",
       "version_major": 2,
       "version_minor": 0
      },
      "text/plain": [
       "Predicting: 14it [00:00, ?it/s]"
      ]
     },
     "metadata": {},
     "output_type": "display_data"
    },
    {
     "data": {
      "application/vnd.jupyter.widget-view+json": {
       "model_id": "46c60ccc4f124e218aff5bde139f00c1",
       "version_major": 2,
       "version_minor": 0
      },
      "text/plain": [
       "Predicting: 14it [00:00, ?it/s]"
      ]
     },
     "metadata": {},
     "output_type": "display_data"
    },
    {
     "data": {
      "application/vnd.jupyter.widget-view+json": {
       "model_id": "2d3ec0673abc499f827ddc7fa16e3eb8",
       "version_major": 2,
       "version_minor": 0
      },
      "text/plain": [
       "Predicting: 14it [00:00, ?it/s]"
      ]
     },
     "metadata": {},
     "output_type": "display_data"
    },
    {
     "data": {
      "application/vnd.jupyter.widget-view+json": {
       "model_id": "451d8aa139f14cdca03f8a2cb2719964",
       "version_major": 2,
       "version_minor": 0
      },
      "text/plain": [
       "Predicting: 14it [00:00, ?it/s]"
      ]
     },
     "metadata": {},
     "output_type": "display_data"
    },
    {
     "data": {
      "application/vnd.jupyter.widget-view+json": {
       "model_id": "de052e32e4434c28b9cfea366dc65961",
       "version_major": 2,
       "version_minor": 0
      },
      "text/plain": [
       "Predicting: 14it [00:00, ?it/s]"
      ]
     },
     "metadata": {},
     "output_type": "display_data"
    },
    {
     "data": {
      "application/vnd.jupyter.widget-view+json": {
       "model_id": "e9f9cc58c7604d629c1aa78cc5ca89da",
       "version_major": 2,
       "version_minor": 0
      },
      "text/plain": [
       "Predicting: 14it [00:00, ?it/s]"
      ]
     },
     "metadata": {},
     "output_type": "display_data"
    },
    {
     "data": {
      "application/vnd.jupyter.widget-view+json": {
       "model_id": "db6f217f144b43ea9e9f102172a12c79",
       "version_major": 2,
       "version_minor": 0
      },
      "text/plain": [
       "Predicting: 14it [00:00, ?it/s]"
      ]
     },
     "metadata": {},
     "output_type": "display_data"
    },
    {
     "data": {
      "application/vnd.jupyter.widget-view+json": {
       "model_id": "6e31a1ca16044f7181da2d011980901c",
       "version_major": 2,
       "version_minor": 0
      },
      "text/plain": [
       "Predicting: 14it [00:00, ?it/s]"
      ]
     },
     "metadata": {},
     "output_type": "display_data"
    },
    {
     "data": {
      "application/vnd.jupyter.widget-view+json": {
       "model_id": "289a6bfa67664a37bd01c949f8cbcd73",
       "version_major": 2,
       "version_minor": 0
      },
      "text/plain": [
       "Predicting: 14it [00:00, ?it/s]"
      ]
     },
     "metadata": {},
     "output_type": "display_data"
    },
    {
     "data": {
      "application/vnd.jupyter.widget-view+json": {
       "model_id": "45a16ab828c44714961f701a363fa6e8",
       "version_major": 2,
       "version_minor": 0
      },
      "text/plain": [
       "Predicting: 14it [00:00, ?it/s]"
      ]
     },
     "metadata": {},
     "output_type": "display_data"
    },
    {
     "data": {
      "application/vnd.jupyter.widget-view+json": {
       "model_id": "76bb8a5d18504dd9af9bdcb663e6a87d",
       "version_major": 2,
       "version_minor": 0
      },
      "text/plain": [
       "Predicting: 14it [00:00, ?it/s]"
      ]
     },
     "metadata": {},
     "output_type": "display_data"
    },
    {
     "data": {
      "application/vnd.jupyter.widget-view+json": {
       "model_id": "ee33bdb9c5a040e1983df89dfc1eeaa3",
       "version_major": 2,
       "version_minor": 0
      },
      "text/plain": [
       "Predicting: 14it [00:00, ?it/s]"
      ]
     },
     "metadata": {},
     "output_type": "display_data"
    },
    {
     "data": {
      "application/vnd.jupyter.widget-view+json": {
       "model_id": "ee6070c72b244d2da351eccbf6acd155",
       "version_major": 2,
       "version_minor": 0
      },
      "text/plain": [
       "Predicting: 14it [00:00, ?it/s]"
      ]
     },
     "metadata": {},
     "output_type": "display_data"
    },
    {
     "data": {
      "application/vnd.jupyter.widget-view+json": {
       "model_id": "74c4562c662a4dd3a0ef4d71fc7eb349",
       "version_major": 2,
       "version_minor": 0
      },
      "text/plain": [
       "Predicting: 14it [00:00, ?it/s]"
      ]
     },
     "metadata": {},
     "output_type": "display_data"
    },
    {
     "data": {
      "application/vnd.jupyter.widget-view+json": {
       "model_id": "6a8b9f9bab87448292531598e06c6549",
       "version_major": 2,
       "version_minor": 0
      },
      "text/plain": [
       "Predicting: 14it [00:00, ?it/s]"
      ]
     },
     "metadata": {},
     "output_type": "display_data"
    },
    {
     "data": {
      "application/vnd.jupyter.widget-view+json": {
       "model_id": "0ce3159ac156427bb55c15c8f8a62b4a",
       "version_major": 2,
       "version_minor": 0
      },
      "text/plain": [
       "Predicting: 14it [00:00, ?it/s]"
      ]
     },
     "metadata": {},
     "output_type": "display_data"
    },
    {
     "data": {
      "application/vnd.jupyter.widget-view+json": {
       "model_id": "9e1a6beeb5394c528989d1928353fd91",
       "version_major": 2,
       "version_minor": 0
      },
      "text/plain": [
       "Predicting: 14it [00:00, ?it/s]"
      ]
     },
     "metadata": {},
     "output_type": "display_data"
    },
    {
     "data": {
      "application/vnd.jupyter.widget-view+json": {
       "model_id": "11f9b7ede5784900baeb723c80f91c0c",
       "version_major": 2,
       "version_minor": 0
      },
      "text/plain": [
       "Predicting: 14it [00:00, ?it/s]"
      ]
     },
     "metadata": {},
     "output_type": "display_data"
    },
    {
     "data": {
      "application/vnd.jupyter.widget-view+json": {
       "model_id": "f6cebfb439d04e21bd467d708bbcb543",
       "version_major": 2,
       "version_minor": 0
      },
      "text/plain": [
       "Predicting: 14it [00:00, ?it/s]"
      ]
     },
     "metadata": {},
     "output_type": "display_data"
    },
    {
     "data": {
      "application/vnd.jupyter.widget-view+json": {
       "model_id": "7fa635d2116142bf9da077cba517ffb3",
       "version_major": 2,
       "version_minor": 0
      },
      "text/plain": [
       "Predicting: 14it [00:00, ?it/s]"
      ]
     },
     "metadata": {},
     "output_type": "display_data"
    },
    {
     "data": {
      "application/vnd.jupyter.widget-view+json": {
       "model_id": "9243c09eb5d44a51a8630fcf3923c61c",
       "version_major": 2,
       "version_minor": 0
      },
      "text/plain": [
       "Predicting: 14it [00:00, ?it/s]"
      ]
     },
     "metadata": {},
     "output_type": "display_data"
    },
    {
     "data": {
      "application/vnd.jupyter.widget-view+json": {
       "model_id": "0d55a6dd2cfb4fa5a46c97123f1d7e7c",
       "version_major": 2,
       "version_minor": 0
      },
      "text/plain": [
       "Predicting: 14it [00:00, ?it/s]"
      ]
     },
     "metadata": {},
     "output_type": "display_data"
    },
    {
     "data": {
      "application/vnd.jupyter.widget-view+json": {
       "model_id": "8caa9a95bcaa46018777f3424912b07c",
       "version_major": 2,
       "version_minor": 0
      },
      "text/plain": [
       "Predicting: 14it [00:00, ?it/s]"
      ]
     },
     "metadata": {},
     "output_type": "display_data"
    },
    {
     "data": {
      "application/vnd.jupyter.widget-view+json": {
       "model_id": "2d5552da6ddb4f139c0f0f23512fa713",
       "version_major": 2,
       "version_minor": 0
      },
      "text/plain": [
       "Predicting: 14it [00:00, ?it/s]"
      ]
     },
     "metadata": {},
     "output_type": "display_data"
    },
    {
     "data": {
      "application/vnd.jupyter.widget-view+json": {
       "model_id": "4d82265d8de44b838fa455cdcc6eeff2",
       "version_major": 2,
       "version_minor": 0
      },
      "text/plain": [
       "Predicting: 14it [00:00, ?it/s]"
      ]
     },
     "metadata": {},
     "output_type": "display_data"
    },
    {
     "data": {
      "application/vnd.jupyter.widget-view+json": {
       "model_id": "daa4387f2f104291b0d3f7bb3ef70975",
       "version_major": 2,
       "version_minor": 0
      },
      "text/plain": [
       "Predicting: 14it [00:00, ?it/s]"
      ]
     },
     "metadata": {},
     "output_type": "display_data"
    },
    {
     "data": {
      "application/vnd.jupyter.widget-view+json": {
       "model_id": "84b488719ad74da5b0e8f4125b1dcc11",
       "version_major": 2,
       "version_minor": 0
      },
      "text/plain": [
       "Predicting: 14it [00:00, ?it/s]"
      ]
     },
     "metadata": {},
     "output_type": "display_data"
    },
    {
     "data": {
      "application/vnd.jupyter.widget-view+json": {
       "model_id": "1ef117b97c494b7190dd576bd5bccf15",
       "version_major": 2,
       "version_minor": 0
      },
      "text/plain": [
       "Predicting: 14it [00:00, ?it/s]"
      ]
     },
     "metadata": {},
     "output_type": "display_data"
    },
    {
     "data": {
      "application/vnd.jupyter.widget-view+json": {
       "model_id": "9d03c11d3d3141f1b9d405805b050473",
       "version_major": 2,
       "version_minor": 0
      },
      "text/plain": [
       "Predicting: 14it [00:00, ?it/s]"
      ]
     },
     "metadata": {},
     "output_type": "display_data"
    },
    {
     "data": {
      "application/vnd.jupyter.widget-view+json": {
       "model_id": "7ae825f38d2a4117878fb1ac3c449837",
       "version_major": 2,
       "version_minor": 0
      },
      "text/plain": [
       "Predicting: 14it [00:00, ?it/s]"
      ]
     },
     "metadata": {},
     "output_type": "display_data"
    },
    {
     "data": {
      "application/vnd.jupyter.widget-view+json": {
       "model_id": "d34bdaee34a0489ca504918b8209e24d",
       "version_major": 2,
       "version_minor": 0
      },
      "text/plain": [
       "Predicting: 14it [00:00, ?it/s]"
      ]
     },
     "metadata": {},
     "output_type": "display_data"
    },
    {
     "data": {
      "application/vnd.jupyter.widget-view+json": {
       "model_id": "a027b6ef6462463daef7f53a14eea79f",
       "version_major": 2,
       "version_minor": 0
      },
      "text/plain": [
       "Predicting: 14it [00:00, ?it/s]"
      ]
     },
     "metadata": {},
     "output_type": "display_data"
    },
    {
     "data": {
      "application/vnd.jupyter.widget-view+json": {
       "model_id": "a6bb9ffce33a4dca8237fd523b63f2de",
       "version_major": 2,
       "version_minor": 0
      },
      "text/plain": [
       "Predicting: 14it [00:00, ?it/s]"
      ]
     },
     "metadata": {},
     "output_type": "display_data"
    },
    {
     "data": {
      "application/vnd.jupyter.widget-view+json": {
       "model_id": "3b874b4c8d844cc690b8c6763e22daf0",
       "version_major": 2,
       "version_minor": 0
      },
      "text/plain": [
       "Predicting: 14it [00:00, ?it/s]"
      ]
     },
     "metadata": {},
     "output_type": "display_data"
    },
    {
     "data": {
      "application/vnd.jupyter.widget-view+json": {
       "model_id": "b32b0cb2f7e34d228d808e7fa94759be",
       "version_major": 2,
       "version_minor": 0
      },
      "text/plain": [
       "Predicting: 14it [00:00, ?it/s]"
      ]
     },
     "metadata": {},
     "output_type": "display_data"
    },
    {
     "data": {
      "application/vnd.jupyter.widget-view+json": {
       "model_id": "2ea9b033b2944e3b8aa0773ed6d4f0b3",
       "version_major": 2,
       "version_minor": 0
      },
      "text/plain": [
       "Predicting: 14it [00:00, ?it/s]"
      ]
     },
     "metadata": {},
     "output_type": "display_data"
    },
    {
     "data": {
      "application/vnd.jupyter.widget-view+json": {
       "model_id": "7faa7f128a614131863ba5440a2864dd",
       "version_major": 2,
       "version_minor": 0
      },
      "text/plain": [
       "Predicting: 14it [00:00, ?it/s]"
      ]
     },
     "metadata": {},
     "output_type": "display_data"
    },
    {
     "data": {
      "application/vnd.jupyter.widget-view+json": {
       "model_id": "c175f2c63508443f8080c988f5f1fc76",
       "version_major": 2,
       "version_minor": 0
      },
      "text/plain": [
       "Predicting: 14it [00:00, ?it/s]"
      ]
     },
     "metadata": {},
     "output_type": "display_data"
    },
    {
     "data": {
      "application/vnd.jupyter.widget-view+json": {
       "model_id": "94f1efa22ca84ccb8ab6d9faf2408b6b",
       "version_major": 2,
       "version_minor": 0
      },
      "text/plain": [
       "Predicting: 14it [00:00, ?it/s]"
      ]
     },
     "metadata": {},
     "output_type": "display_data"
    },
    {
     "data": {
      "application/vnd.jupyter.widget-view+json": {
       "model_id": "a069e29daf2749e5891afbc60fd56065",
       "version_major": 2,
       "version_minor": 0
      },
      "text/plain": [
       "Predicting: 14it [00:00, ?it/s]"
      ]
     },
     "metadata": {},
     "output_type": "display_data"
    },
    {
     "data": {
      "application/vnd.jupyter.widget-view+json": {
       "model_id": "a8b0cd60bc8d492c9699fb5d9514f6a0",
       "version_major": 2,
       "version_minor": 0
      },
      "text/plain": [
       "Predicting: 14it [00:00, ?it/s]"
      ]
     },
     "metadata": {},
     "output_type": "display_data"
    },
    {
     "data": {
      "application/vnd.jupyter.widget-view+json": {
       "model_id": "e91941d1f91c4d2aa074eb02dd72cc07",
       "version_major": 2,
       "version_minor": 0
      },
      "text/plain": [
       "Predicting: 14it [00:00, ?it/s]"
      ]
     },
     "metadata": {},
     "output_type": "display_data"
    },
    {
     "data": {
      "application/vnd.jupyter.widget-view+json": {
       "model_id": "319d58c9fb624c7b99567660cbb9f016",
       "version_major": 2,
       "version_minor": 0
      },
      "text/plain": [
       "Predicting: 14it [00:00, ?it/s]"
      ]
     },
     "metadata": {},
     "output_type": "display_data"
    },
    {
     "data": {
      "application/vnd.jupyter.widget-view+json": {
       "model_id": "500f701aa6c240b9948155d0ebb841cf",
       "version_major": 2,
       "version_minor": 0
      },
      "text/plain": [
       "Predicting: 14it [00:00, ?it/s]"
      ]
     },
     "metadata": {},
     "output_type": "display_data"
    },
    {
     "data": {
      "application/vnd.jupyter.widget-view+json": {
       "model_id": "fb497369db1747ccb500f3307c4fdb74",
       "version_major": 2,
       "version_minor": 0
      },
      "text/plain": [
       "Predicting: 14it [00:00, ?it/s]"
      ]
     },
     "metadata": {},
     "output_type": "display_data"
    },
    {
     "data": {
      "application/vnd.jupyter.widget-view+json": {
       "model_id": "67b2c185e244449ea46e50c3b161ba4d",
       "version_major": 2,
       "version_minor": 0
      },
      "text/plain": [
       "Predicting: 14it [00:00, ?it/s]"
      ]
     },
     "metadata": {},
     "output_type": "display_data"
    },
    {
     "data": {
      "application/vnd.jupyter.widget-view+json": {
       "model_id": "c31974899b2b458b8d676924a8f27b89",
       "version_major": 2,
       "version_minor": 0
      },
      "text/plain": [
       "Predicting: 14it [00:00, ?it/s]"
      ]
     },
     "metadata": {},
     "output_type": "display_data"
    },
    {
     "data": {
      "application/vnd.jupyter.widget-view+json": {
       "model_id": "d66943bf44434e73adfc5a4cc2880b42",
       "version_major": 2,
       "version_minor": 0
      },
      "text/plain": [
       "Predicting: 14it [00:00, ?it/s]"
      ]
     },
     "metadata": {},
     "output_type": "display_data"
    },
    {
     "data": {
      "application/vnd.jupyter.widget-view+json": {
       "model_id": "c76d18c86ecb4f02bc7ee112d2bfeda4",
       "version_major": 2,
       "version_minor": 0
      },
      "text/plain": [
       "Predicting: 14it [00:00, ?it/s]"
      ]
     },
     "metadata": {},
     "output_type": "display_data"
    },
    {
     "data": {
      "application/vnd.jupyter.widget-view+json": {
       "model_id": "74d41cf6d801480290205e3179ce9a4f",
       "version_major": 2,
       "version_minor": 0
      },
      "text/plain": [
       "Predicting: 14it [00:00, ?it/s]"
      ]
     },
     "metadata": {},
     "output_type": "display_data"
    },
    {
     "data": {
      "application/vnd.jupyter.widget-view+json": {
       "model_id": "ae1f76f77b9e44ffb5996dbf801b9e03",
       "version_major": 2,
       "version_minor": 0
      },
      "text/plain": [
       "Predicting: 14it [00:00, ?it/s]"
      ]
     },
     "metadata": {},
     "output_type": "display_data"
    },
    {
     "data": {
      "application/vnd.jupyter.widget-view+json": {
       "model_id": "059a654808d3493ba7dd55b6ccb9bde8",
       "version_major": 2,
       "version_minor": 0
      },
      "text/plain": [
       "Predicting: 14it [00:00, ?it/s]"
      ]
     },
     "metadata": {},
     "output_type": "display_data"
    },
    {
     "data": {
      "application/vnd.jupyter.widget-view+json": {
       "model_id": "6c12b01e93e147528856ef69c9edf456",
       "version_major": 2,
       "version_minor": 0
      },
      "text/plain": [
       "Predicting: 14it [00:00, ?it/s]"
      ]
     },
     "metadata": {},
     "output_type": "display_data"
    },
    {
     "data": {
      "application/vnd.jupyter.widget-view+json": {
       "model_id": "777b77e137164cdfa8e9dadd2c1b93b8",
       "version_major": 2,
       "version_minor": 0
      },
      "text/plain": [
       "Predicting: 14it [00:00, ?it/s]"
      ]
     },
     "metadata": {},
     "output_type": "display_data"
    },
    {
     "data": {
      "application/vnd.jupyter.widget-view+json": {
       "model_id": "8a94377d4bd64499bafba5867471ae7e",
       "version_major": 2,
       "version_minor": 0
      },
      "text/plain": [
       "Predicting: 14it [00:00, ?it/s]"
      ]
     },
     "metadata": {},
     "output_type": "display_data"
    },
    {
     "data": {
      "application/vnd.jupyter.widget-view+json": {
       "model_id": "3701154b04d64a1cb39025da346e9c63",
       "version_major": 2,
       "version_minor": 0
      },
      "text/plain": [
       "Predicting: 14it [00:00, ?it/s]"
      ]
     },
     "metadata": {},
     "output_type": "display_data"
    },
    {
     "data": {
      "application/vnd.jupyter.widget-view+json": {
       "model_id": "b4921d76143a4936b374198ce485d462",
       "version_major": 2,
       "version_minor": 0
      },
      "text/plain": [
       "Predicting: 14it [00:00, ?it/s]"
      ]
     },
     "metadata": {},
     "output_type": "display_data"
    },
    {
     "data": {
      "application/vnd.jupyter.widget-view+json": {
       "model_id": "d7948c0939554b51a5519311001b3576",
       "version_major": 2,
       "version_minor": 0
      },
      "text/plain": [
       "Predicting: 14it [00:00, ?it/s]"
      ]
     },
     "metadata": {},
     "output_type": "display_data"
    },
    {
     "data": {
      "application/vnd.jupyter.widget-view+json": {
       "model_id": "5c5d1785a8ed425e880d510f2496bde6",
       "version_major": 2,
       "version_minor": 0
      },
      "text/plain": [
       "Predicting: 14it [00:00, ?it/s]"
      ]
     },
     "metadata": {},
     "output_type": "display_data"
    },
    {
     "data": {
      "application/vnd.jupyter.widget-view+json": {
       "model_id": "d3430ec9bfbc4a3da13fe1e2119f7129",
       "version_major": 2,
       "version_minor": 0
      },
      "text/plain": [
       "Predicting: 14it [00:00, ?it/s]"
      ]
     },
     "metadata": {},
     "output_type": "display_data"
    },
    {
     "data": {
      "application/vnd.jupyter.widget-view+json": {
       "model_id": "5eeeebece2e14c65b88d681f617475e1",
       "version_major": 2,
       "version_minor": 0
      },
      "text/plain": [
       "Predicting: 14it [00:00, ?it/s]"
      ]
     },
     "metadata": {},
     "output_type": "display_data"
    },
    {
     "data": {
      "application/vnd.jupyter.widget-view+json": {
       "model_id": "9ceb25c52f87422aad158059ac6c6abd",
       "version_major": 2,
       "version_minor": 0
      },
      "text/plain": [
       "Predicting: 14it [00:00, ?it/s]"
      ]
     },
     "metadata": {},
     "output_type": "display_data"
    },
    {
     "data": {
      "application/vnd.jupyter.widget-view+json": {
       "model_id": "68483c943f824781b418d259cfc4ca4f",
       "version_major": 2,
       "version_minor": 0
      },
      "text/plain": [
       "Predicting: 14it [00:00, ?it/s]"
      ]
     },
     "metadata": {},
     "output_type": "display_data"
    },
    {
     "data": {
      "application/vnd.jupyter.widget-view+json": {
       "model_id": "8eb8a1085d604b9a8b9eb8f35a1a17b5",
       "version_major": 2,
       "version_minor": 0
      },
      "text/plain": [
       "Predicting: 14it [00:00, ?it/s]"
      ]
     },
     "metadata": {},
     "output_type": "display_data"
    },
    {
     "data": {
      "application/vnd.jupyter.widget-view+json": {
       "model_id": "3cae02e1a46c45f0bcb4d12ec927e426",
       "version_major": 2,
       "version_minor": 0
      },
      "text/plain": [
       "Predicting: 14it [00:00, ?it/s]"
      ]
     },
     "metadata": {},
     "output_type": "display_data"
    },
    {
     "data": {
      "application/vnd.jupyter.widget-view+json": {
       "model_id": "ef63e2457c4b46759a00866377087884",
       "version_major": 2,
       "version_minor": 0
      },
      "text/plain": [
       "Predicting: 14it [00:00, ?it/s]"
      ]
     },
     "metadata": {},
     "output_type": "display_data"
    },
    {
     "data": {
      "application/vnd.jupyter.widget-view+json": {
       "model_id": "a834e9f741aa4fec9cb03b19ac8d9fb8",
       "version_major": 2,
       "version_minor": 0
      },
      "text/plain": [
       "Predicting: 14it [00:00, ?it/s]"
      ]
     },
     "metadata": {},
     "output_type": "display_data"
    },
    {
     "data": {
      "application/vnd.jupyter.widget-view+json": {
       "model_id": "c346e6825c224a04ac2932001ebdb571",
       "version_major": 2,
       "version_minor": 0
      },
      "text/plain": [
       "Predicting: 14it [00:00, ?it/s]"
      ]
     },
     "metadata": {},
     "output_type": "display_data"
    },
    {
     "data": {
      "application/vnd.jupyter.widget-view+json": {
       "model_id": "9e3c89caf4a0495bb9e453e6637f9b97",
       "version_major": 2,
       "version_minor": 0
      },
      "text/plain": [
       "Predicting: 14it [00:00, ?it/s]"
      ]
     },
     "metadata": {},
     "output_type": "display_data"
    },
    {
     "data": {
      "application/vnd.jupyter.widget-view+json": {
       "model_id": "1ea532d13c484b2b9e499f0786c74eb6",
       "version_major": 2,
       "version_minor": 0
      },
      "text/plain": [
       "Predicting: 14it [00:00, ?it/s]"
      ]
     },
     "metadata": {},
     "output_type": "display_data"
    },
    {
     "data": {
      "application/vnd.jupyter.widget-view+json": {
       "model_id": "ff4418eae0624b2ea823497d99d20c21",
       "version_major": 2,
       "version_minor": 0
      },
      "text/plain": [
       "Predicting: 14it [00:00, ?it/s]"
      ]
     },
     "metadata": {},
     "output_type": "display_data"
    },
    {
     "data": {
      "application/vnd.jupyter.widget-view+json": {
       "model_id": "fa4709f7fbc742198dd557688a868c6d",
       "version_major": 2,
       "version_minor": 0
      },
      "text/plain": [
       "Predicting: 14it [00:00, ?it/s]"
      ]
     },
     "metadata": {},
     "output_type": "display_data"
    },
    {
     "data": {
      "application/vnd.jupyter.widget-view+json": {
       "model_id": "cc08f5e7110e4b0a8357ae7da2c489ed",
       "version_major": 2,
       "version_minor": 0
      },
      "text/plain": [
       "Predicting: 14it [00:00, ?it/s]"
      ]
     },
     "metadata": {},
     "output_type": "display_data"
    },
    {
     "data": {
      "application/vnd.jupyter.widget-view+json": {
       "model_id": "d0138cfa473d4a73b849174fc64d7ed7",
       "version_major": 2,
       "version_minor": 0
      },
      "text/plain": [
       "Predicting: 14it [00:00, ?it/s]"
      ]
     },
     "metadata": {},
     "output_type": "display_data"
    },
    {
     "data": {
      "application/vnd.jupyter.widget-view+json": {
       "model_id": "dcf3e974b8714e38ad556698a3491f6a",
       "version_major": 2,
       "version_minor": 0
      },
      "text/plain": [
       "Predicting: 14it [00:00, ?it/s]"
      ]
     },
     "metadata": {},
     "output_type": "display_data"
    },
    {
     "data": {
      "application/vnd.jupyter.widget-view+json": {
       "model_id": "a0df74fb15d14c0ab6203a62357e89d8",
       "version_major": 2,
       "version_minor": 0
      },
      "text/plain": [
       "Predicting: 14it [00:00, ?it/s]"
      ]
     },
     "metadata": {},
     "output_type": "display_data"
    },
    {
     "data": {
      "application/vnd.jupyter.widget-view+json": {
       "model_id": "a1c59265be224eb7b519c38458806d96",
       "version_major": 2,
       "version_minor": 0
      },
      "text/plain": [
       "Predicting: 14it [00:00, ?it/s]"
      ]
     },
     "metadata": {},
     "output_type": "display_data"
    },
    {
     "data": {
      "application/vnd.jupyter.widget-view+json": {
       "model_id": "a0183540d3d84428a6cab413989fbd26",
       "version_major": 2,
       "version_minor": 0
      },
      "text/plain": [
       "Predicting: 14it [00:00, ?it/s]"
      ]
     },
     "metadata": {},
     "output_type": "display_data"
    },
    {
     "data": {
      "application/vnd.jupyter.widget-view+json": {
       "model_id": "7a88652185414ea49986877a4d9a4e82",
       "version_major": 2,
       "version_minor": 0
      },
      "text/plain": [
       "Predicting: 14it [00:00, ?it/s]"
      ]
     },
     "metadata": {},
     "output_type": "display_data"
    },
    {
     "data": {
      "application/vnd.jupyter.widget-view+json": {
       "model_id": "4a0d688d78624e4d93187bd1dc329429",
       "version_major": 2,
       "version_minor": 0
      },
      "text/plain": [
       "Predicting: 14it [00:00, ?it/s]"
      ]
     },
     "metadata": {},
     "output_type": "display_data"
    },
    {
     "data": {
      "application/vnd.jupyter.widget-view+json": {
       "model_id": "5c5539a4b38547e6b1afa503206f6705",
       "version_major": 2,
       "version_minor": 0
      },
      "text/plain": [
       "Predicting: 14it [00:00, ?it/s]"
      ]
     },
     "metadata": {},
     "output_type": "display_data"
    },
    {
     "data": {
      "application/vnd.jupyter.widget-view+json": {
       "model_id": "885a3ab981e64229a5f46e180bc126c8",
       "version_major": 2,
       "version_minor": 0
      },
      "text/plain": [
       "Predicting: 14it [00:00, ?it/s]"
      ]
     },
     "metadata": {},
     "output_type": "display_data"
    },
    {
     "data": {
      "application/vnd.jupyter.widget-view+json": {
       "model_id": "1cea8374a20448c7af9e77c982ed70be",
       "version_major": 2,
       "version_minor": 0
      },
      "text/plain": [
       "Predicting: 14it [00:00, ?it/s]"
      ]
     },
     "metadata": {},
     "output_type": "display_data"
    },
    {
     "data": {
      "application/vnd.jupyter.widget-view+json": {
       "model_id": "28a60cccc3154fc68a8bdb30ef16a03a",
       "version_major": 2,
       "version_minor": 0
      },
      "text/plain": [
       "Predicting: 14it [00:00, ?it/s]"
      ]
     },
     "metadata": {},
     "output_type": "display_data"
    },
    {
     "data": {
      "application/vnd.jupyter.widget-view+json": {
       "model_id": "36e7937b01c445698b0df2789b29d1f1",
       "version_major": 2,
       "version_minor": 0
      },
      "text/plain": [
       "Predicting: 14it [00:00, ?it/s]"
      ]
     },
     "metadata": {},
     "output_type": "display_data"
    },
    {
     "data": {
      "application/vnd.jupyter.widget-view+json": {
       "model_id": "5df9905573f84bdf87ba7c514abff286",
       "version_major": 2,
       "version_minor": 0
      },
      "text/plain": [
       "Predicting: 14it [00:00, ?it/s]"
      ]
     },
     "metadata": {},
     "output_type": "display_data"
    },
    {
     "data": {
      "application/vnd.jupyter.widget-view+json": {
       "model_id": "0e1082f8645242e3b7168e4a7c38d79b",
       "version_major": 2,
       "version_minor": 0
      },
      "text/plain": [
       "Predicting: 14it [00:00, ?it/s]"
      ]
     },
     "metadata": {},
     "output_type": "display_data"
    },
    {
     "data": {
      "application/vnd.jupyter.widget-view+json": {
       "model_id": "cb1e0e1f7a10459f8f1c65a84e5ac342",
       "version_major": 2,
       "version_minor": 0
      },
      "text/plain": [
       "Predicting: 14it [00:00, ?it/s]"
      ]
     },
     "metadata": {},
     "output_type": "display_data"
    },
    {
     "data": {
      "application/vnd.jupyter.widget-view+json": {
       "model_id": "5181eb460a6444d48bb2f7deb4d121cd",
       "version_major": 2,
       "version_minor": 0
      },
      "text/plain": [
       "Predicting: 14it [00:00, ?it/s]"
      ]
     },
     "metadata": {},
     "output_type": "display_data"
    },
    {
     "data": {
      "application/vnd.jupyter.widget-view+json": {
       "model_id": "68e4d6e30ca6453285b75ad9fd25a946",
       "version_major": 2,
       "version_minor": 0
      },
      "text/plain": [
       "Predicting: 14it [00:00, ?it/s]"
      ]
     },
     "metadata": {},
     "output_type": "display_data"
    },
    {
     "data": {
      "application/vnd.jupyter.widget-view+json": {
       "model_id": "71abed4b0c8e437eae76855194accf2d",
       "version_major": 2,
       "version_minor": 0
      },
      "text/plain": [
       "Predicting: 14it [00:00, ?it/s]"
      ]
     },
     "metadata": {},
     "output_type": "display_data"
    },
    {
     "data": {
      "application/vnd.jupyter.widget-view+json": {
       "model_id": "d1c7c99255a34e8ba1b9fde154ec5b55",
       "version_major": 2,
       "version_minor": 0
      },
      "text/plain": [
       "Predicting: 14it [00:00, ?it/s]"
      ]
     },
     "metadata": {},
     "output_type": "display_data"
    },
    {
     "data": {
      "application/vnd.jupyter.widget-view+json": {
       "model_id": "264f0852da62458f9969f8e4d13638f5",
       "version_major": 2,
       "version_minor": 0
      },
      "text/plain": [
       "Predicting: 14it [00:00, ?it/s]"
      ]
     },
     "metadata": {},
     "output_type": "display_data"
    },
    {
     "data": {
      "application/vnd.jupyter.widget-view+json": {
       "model_id": "49a872cac9214249a3ac56a7b6be9d3c",
       "version_major": 2,
       "version_minor": 0
      },
      "text/plain": [
       "Predicting: 14it [00:00, ?it/s]"
      ]
     },
     "metadata": {},
     "output_type": "display_data"
    },
    {
     "data": {
      "application/vnd.jupyter.widget-view+json": {
       "model_id": "97971ccd38a849f0ac8acd2634c3ed0f",
       "version_major": 2,
       "version_minor": 0
      },
      "text/plain": [
       "Predicting: 14it [00:00, ?it/s]"
      ]
     },
     "metadata": {},
     "output_type": "display_data"
    },
    {
     "data": {
      "application/vnd.jupyter.widget-view+json": {
       "model_id": "6a66f7b489fc4f05aa7f9357b011902e",
       "version_major": 2,
       "version_minor": 0
      },
      "text/plain": [
       "Predicting: 14it [00:00, ?it/s]"
      ]
     },
     "metadata": {},
     "output_type": "display_data"
    },
    {
     "data": {
      "application/vnd.jupyter.widget-view+json": {
       "model_id": "afab98d2ce8e4c0d8743f84c809077f7",
       "version_major": 2,
       "version_minor": 0
      },
      "text/plain": [
       "Predicting: 14it [00:00, ?it/s]"
      ]
     },
     "metadata": {},
     "output_type": "display_data"
    },
    {
     "data": {
      "application/vnd.jupyter.widget-view+json": {
       "model_id": "0db6d34834224cbe973167ebd41ec979",
       "version_major": 2,
       "version_minor": 0
      },
      "text/plain": [
       "Predicting: 14it [00:00, ?it/s]"
      ]
     },
     "metadata": {},
     "output_type": "display_data"
    },
    {
     "data": {
      "application/vnd.jupyter.widget-view+json": {
       "model_id": "cfeddf219920459b8ac71370e2b6950a",
       "version_major": 2,
       "version_minor": 0
      },
      "text/plain": [
       "Predicting: 14it [00:00, ?it/s]"
      ]
     },
     "metadata": {},
     "output_type": "display_data"
    },
    {
     "data": {
      "application/vnd.jupyter.widget-view+json": {
       "model_id": "f32c1702a06b494e8a0ee23d5749440d",
       "version_major": 2,
       "version_minor": 0
      },
      "text/plain": [
       "Predicting: 14it [00:00, ?it/s]"
      ]
     },
     "metadata": {},
     "output_type": "display_data"
    },
    {
     "data": {
      "application/vnd.jupyter.widget-view+json": {
       "model_id": "055cea6a5b9b4063bd576f16d3563ba3",
       "version_major": 2,
       "version_minor": 0
      },
      "text/plain": [
       "Predicting: 14it [00:00, ?it/s]"
      ]
     },
     "metadata": {},
     "output_type": "display_data"
    },
    {
     "data": {
      "application/vnd.jupyter.widget-view+json": {
       "model_id": "41ca9825b1fa4db89288688e1523c6aa",
       "version_major": 2,
       "version_minor": 0
      },
      "text/plain": [
       "Predicting: 14it [00:00, ?it/s]"
      ]
     },
     "metadata": {},
     "output_type": "display_data"
    }
   ],
   "source": [
    "backtests = model.historical_forecasts(series_gpp_scaled,\n",
    "                                       # past_covariates=covariates,\n",
    "                                       num_samples=100,\n",
    "                                       start=.5,\n",
    "                                       retrain=False,\n",
    "                                       forecast_horizon=n,\n",
    "                                       stride=1,\n",
    "                                       verbose=True\n",
    "                                      )\n",
    "\n",
    "# # lets also get the average error\n",
    "# average_error = model.backtest(\n",
    "#     series_gpp_scaled,\n",
    "#     start=0.5,\n",
    "#     forecast_horizon=n,\n",
    "#     metric=mape,\n",
    "#     retrain=False,\n",
    "#     reduction=np.mean,  # default\n",
    "#     verbose=True,\n",
    "# )"
   ]
  },
  {
   "cell_type": "code",
   "execution_count": 12,
   "metadata": {},
   "outputs": [
    {
     "data": {
      "text/plain": [
       "<matplotlib.legend.Legend at 0x7f878c06e190>"
      ]
     },
     "execution_count": 12,
     "metadata": {},
     "output_type": "execute_result"
    },
    {
     "data": {
      "image/png": "[encoded data removed]",
      "text/plain": [
       "<Figure size 1080x432 with 1 Axes>"
      ]
     },
     "metadata": {
      "needs_background": "light"
     },
     "output_type": "display_data"
    }
   ],
   "source": [
    "backtests = scaler.inverse_transform(backtests)\n",
    "\n",
    "fig,ax = plt.subplots(figsize=(15,6))\n",
    "series_gpp['GPP_SOLO'].plot(ax=ax, lw=2, label='Observations')\n",
    "\n",
    "err = mape(backtests[['GPP_SOLO']], series_gpp[['GPP_SOLO']])\n",
    "\n",
    "backtests['GPP_SOLO'].plot(ax=ax, lw=2, label='{}, MAPE={:.2f} %'.format('Forecast', err), low_quantile=.05, high_quantile=0.95)\n",
    "plt.ylabel(var_names[0]+', gC/m2/month')\n",
    "plt.xlabel('')\n",
    "# plt.title('Backtests with 12-week forecast horizon')\n",
    "plt.axvline(pd.Timestamp(series_gpp[idx].data_array().time.values[0]), color='red', linestyle='--')\n",
    "plt.legend()"
   ]
  },
  {
   "cell_type": "markdown",
   "metadata": {},
   "source": [
    "## Forecast the future"
   ]
  },
  {
   "cell_type": "code",
   "execution_count": 13,
   "metadata": {},
   "outputs": [
    {
     "name": "stderr",
     "output_type": "stream",
     "text": [
      "2022-08-19 11:21:41 darts.models.forecasting.torch_forecasting_model INFO: Train dataset contains 477 samples.\n",
      "2022-08-19 11:21:42 pytorch_lightning.utilities.rank_zero INFO: GPU available: False, used: False\n",
      "2022-08-19 11:21:42 pytorch_lightning.utilities.rank_zero INFO: TPU available: False, using: 0 TPU cores\n",
      "2022-08-19 11:21:42 pytorch_lightning.utilities.rank_zero INFO: IPU available: False, using: 0 IPUs\n",
      "2022-08-19 11:21:42 pytorch_lightning.utilities.rank_zero INFO: HPU available: False, using: 0 HPUs\n",
      "2022-08-19 11:21:42 darts.models.forecasting.torch_forecasting_model WARNING: Attempting to retrain the model without resuming from a checkpoint. This is currently discouraged. Consider setting `save_checkpoints` to `True` and specifying `model_name` at model creation. Then call `model = NBEATSModel.load_from_checkpoint(model_name, best=False)`. Finally, train the model with `model.fit(..., epochs=new_epochs)` where `new_epochs` is the sum of (epochs already trained + some additional epochs).\n",
      "2022-08-19 11:21:42 pytorch_lightning.callbacks.model_summary INFO: \n",
      "  | Name          | Type             | Params\n",
      "---------------------------------------------------\n",
      "0 | criterion     | MSELoss          | 0     \n",
      "1 | train_metrics | MetricCollection | 0     \n",
      "2 | val_metrics   | MetricCollection | 0     \n",
      "3 | stacks        | ModuleList       | 2.5 M \n",
      "---------------------------------------------------\n",
      "1.4 M     Trainable params\n",
      "1.1 M     Non-trainable params\n",
      "2.5 M     Total params\n",
      "19.888    Total estimated model params size (MB)\n"
     ]
    },
    {
     "data": {
      "application/vnd.jupyter.widget-view+json": {
       "model_id": "451d7dd364514bdd95ac7b1d4abab98b",
       "version_major": 2,
       "version_minor": 0
      },
      "text/plain": [
       "Training: 0it [00:00, ?it/s]"
      ]
     },
     "metadata": {},
     "output_type": "display_data"
    },
    {
     "name": "stderr",
     "output_type": "stream",
     "text": [
      "2022-08-19 11:23:38 pytorch_lightning.utilities.rank_zero INFO: `Trainer.fit` stopped: `max_epochs=80` reached.\n"
     ]
    },
    {
     "data": {
      "application/vnd.jupyter.widget-view+json": {
       "model_id": "b7f1798c4898456f8bd4f365631de4ec",
       "version_major": 2,
       "version_minor": 0
      },
      "text/plain": [
       "Predicting: 15it [00:00, ?it/s]"
      ]
     },
     "metadata": {},
     "output_type": "display_data"
    }
   ],
   "source": [
    "#refit the model on all the data\n",
    "model.fit(series_gpp_scaled) # past_covariates=covariates\n",
    "\n",
    "#forecast the future\n",
    "pred = model.predict(n=n,\n",
    "                     series=series_gpp_scaled,\n",
    "                     num_samples=100\n",
    "                    )"
   ]
  },
  {
   "cell_type": "code",
   "execution_count": 14,
   "metadata": {
    "tags": []
   },
   "outputs": [
    {
     "data": {
      "text/plain": [
       "<matplotlib.legend.Legend at 0x7f878f418af0>"
      ]
     },
     "execution_count": 14,
     "metadata": {},
     "output_type": "execute_result"
    },
    {
     "data": {
      "image/png": "[encoded data removed]",
      "text/plain": [
       "<Figure size 864x360 with 1 Axes>"
      ]
     },
     "metadata": {
      "needs_background": "light"
     },
     "output_type": "display_data"
    }
   ],
   "source": [
    "pred_r = scaler.inverse_transform(pred)\n",
    "\n",
    "fig,ax = plt.subplots(figsize=(12,5))\n",
    "series_gpp['GPP_SOLO'].plot(ax=ax, label='actual')\n",
    "pred_r['GPP_SOLO'].plot(ax=ax, label='forecast', lw=3)\n",
    "plt.legend()"
   ]
  },
  {
   "cell_type": "code",
   "execution_count": null,
   "metadata": {},
   "outputs": [],
   "source": []
  },
  {
   "cell_type": "code",
   "execution_count": null,
   "metadata": {},
   "outputs": [],
   "source": []
  },
  {
   "cell_type": "code",
   "execution_count": null,
   "metadata": {},
   "outputs": [],
   "source": []
  },
  {
   "cell_type": "code",
   "execution_count": null,
   "metadata": {},
   "outputs": [],
   "source": []
  },
  {
   "cell_type": "code",
   "execution_count": null,
   "metadata": {},
   "outputs": [],
   "source": []
  }
 ],
 "metadata": {
  "kernelspec": {
   "display_name": "Python 3 (ipykernel)",
   "language": "python",
   "name": "python3"
  },
  "language_info": {
   "codemirror_mode": {
    "name": "ipython",
    "version": 3
   },
   "file_extension": ".py",
   "mimetype": "text/x-python",
   "name": "python",
   "nbconvert_exporter": "python",
   "pygments_lexer": "ipython3",
   "version": "3.8.8"
  }
 },
 "nbformat": 4,
 "nbformat_minor": 4
}
