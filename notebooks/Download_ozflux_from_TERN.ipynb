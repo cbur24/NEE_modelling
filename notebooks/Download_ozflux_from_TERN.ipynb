{
 "cells": [
  {
   "cell_type": "markdown",
   "metadata": {},
   "source": [
    "# Load and save OzFLux eddy covariance data from TERN\n",
    "\n",
    "Datasets are stored here https://dap.tern.org.au/thredds/catalog/ecosystem_process/ozflux/catalog.html\n",
    "\n",
    "Annoyingly, the ozflux team appends the date-range of the data to the file name, which changes with every version released (unless EC tower is defunct). Thus, if you change the version number below, then the date suffix at the end of each file name may also need to change, which requires looking up the site on TERN or at the link above and finding the new end date."
   ]
  },
  {
   "cell_type": "markdown",
   "metadata": {},
   "source": [
    "## Load modules"
   ]
  },
  {
   "cell_type": "code",
   "execution_count": null,
   "metadata": {},
   "outputs": [],
   "source": [
    "import xarray as xr"
   ]
  },
  {
   "cell_type": "markdown",
   "metadata": {},
   "source": [
    "## Parameters"
   ]
  },
  {
   "cell_type": "code",
   "execution_count": null,
   "metadata": {},
   "outputs": [],
   "source": [
    "save_netcdf='/g/data/os22/chad_tmp/NEE_modelling/'\n",
    "level = 'L3'\n",
    "version = '2022_v2'\n",
    "base = 'https://dap.tern.org.au/thredds/dodsC/ecosystem_process/ozflux/'"
   ]
  },
  {
   "cell_type": "markdown",
   "metadata": {},
   "source": [
    "## List of sites to load\n"
   ]
  },
  {
   "cell_type": "code",
   "execution_count": null,
   "metadata": {},
   "outputs": [],
   "source": [
    "suffixes = [\n",
    "    'Emerald/'+version+'/'+level+'/default/Emerald_'+level+'_20110610_20131231.nc',\n",
    "    'GreatWesternWoodlands/'+version+'/'+level+'/default/GreatWesternWoodlands_'+level+'_20130101_20220601.nc',\n",
    "    'CowBay/'+version+'/'+level+'/default/CowBay_'+level+'_20090101_20220816.nc',\n",
    "    'Tumbarumba/'+version+'/'+level+'/default/Tumbarumba_'+level+'_20020107_20220530.nc',\n",
    "    'Whroo/'+version+'/'+level+'/default/Whroo_'+level+'_20111201_20220821.nc',\n",
    "    'WombatStateForest/'+version+'/'+level+'/default/WombatStateForest_'+level+'_20100120_20210529.nc',\n",
    "    'WallabyCreek/'+version+'/'+level+'/default/WallabyCreek_'+level+'_20050825_20130409.nc',\n",
    "    'RobsonCreek/'+version+'/'+level+'/default/RobsonCreek_'+level+'_20130801_20220816.nc',\n",
    "    'CapeTribulation/'+version+'/'+level+'/default/CapeTribulation_'+level+'_20100101_20181102.nc',\n",
    "    'AliceSpringsMulga/'+version+'/'+level+'/default/AliceSpringsMulga_'+level+'_20100903_20220806.nc',\n",
    "    'CalperumChowilla/'+version+'/'+level+'/default/Calperum_'+level+'_20100730_20220829.nc',\n",
    "    'DryRiver/'+version+'/'+level+'/default/DryRiver_'+level+'_20091025_20220820.nc',\n",
    "    'Litchfield/'+version+'/'+level+'/default/Litchfield_'+level+'_20150623_20220513.nc',\n",
    "    'SturtPlains/'+version+'/'+level+'/default/SturtPlains_'+level+'_20080828_20220513.nc',\n",
    "    'RiggsCreek/'+version+'/'+level+'/default/RiggsCreek_'+level+'_20110101_20170712.nc',\n",
    "    'Otway/'+version+'/'+level+'/default/Otway_'+level+'_20070811_20110101.nc', \n",
    "    'Yanco/'+version+'/'+level+'/default/Yanco_'+level+'_20130101_20220821.nc',\n",
    "    'Gingin/'+version+'/'+level+'/default/Gingin_'+level+'_20111013_20210614.nc', # native Banksia woodland\n",
    "    'LongreachMitchellGrassRangeland/'+version+'/'+level+'/default/Longreach_'+level+'_20181009_20220607.nc',\n",
    "    'Ridgefield/'+version+'/'+level+'/default/Ridgefield_'+level+'_20160101_20220821.nc', #  dryland agriculture\n",
    "    'SilverPlains/'+version+'/'+level+'/default/SilverPlains_'+level+'_20200101_20211231.nc', #Australian Mountain Reseach \n",
    "    'Collie/'+version+'/'+level+'/default/Collie_'+level+'_20170804_20191111.nc', # wandoo woodland\n",
    "    'AdelaideRiver/'+version+'/'+level+'/default/AdelaideRiver_'+level+'_20071017_20090524.nc', #  Savanna dominated by Eucalyptus\n",
    "    'Warra/'+version+'/'+level+'/default/Warra_'+level+'_20130305_20210921.nc', #tasmania\n",
    "    'Boyagin/'+version+'/'+level+'/default/Boyagin_'+level+'_20171020_20220821.nc',\n",
    "    \n",
    "    ### ----------Problematic sites--------\n",
    "    'FoggDam/'+version+'/'+level+'/default/FoggDam_'+level+'_20060207_20081031.nc', # wetland that floods seasonally\n",
    "    'CumberlandPlain/'+version+'/'+level+'/default/CumberlandPlain_'+level+'_20140101_20220820.nc',# small remnant bushland block in ag district\n",
    "    'TiTreeEast/'+version+'/'+level+'/default/TiTreeEast_'+level+'_20120718_20220117.nc'\n",
    "    #'SamfordEcologicalResearchFacility/'+version+'/'+level+'/default/Samford_'+level+'_20100602_20220512.nc', #fragmented landscape\n",
    "    #'DalyPasture/2022_v2/L6/default/DalyPasture_L6_20080101_20130908.nc', #fragmented landscape, pasture among native veg fragments\n",
    "    #'DalyUncleared/2022_v1/L6/default/DalyUncleared_L6_20080101_20220217.nc', #Woodland savanna LOTS OF UNCERTAINTY IN THIS SITE - Peter Isaac\n",
    "    #'RedDirtMelonFarm/2021_v1/L6/default/RedDirtMelonFarm_L6_20110923_20130721.nc', #small farm in the middle of savannah woodland\n",
    "    #'Loxton/2022_v1/L6/default/Loxton_L6_20080819_20090609.nc' # almond tress, 1 year of data\n",
    "]\n"
   ]
  },
  {
   "cell_type": "markdown",
   "metadata": {},
   "source": [
    "## Loop through sites and save to disk"
   ]
  },
  {
   "cell_type": "code",
   "execution_count": null,
   "metadata": {},
   "outputs": [],
   "source": [
    "i=0\n",
    "for suffix in suffixes[0:2]:\n",
    "    print(\" {:02}/{:02}\\r\".format(i + 1, len(suffixes)), end=\"\")\n",
    "    \n",
    "    flux = xr.open_dataset(base+suffix)\n",
    "    flux.to_netcdf(save_netcdf+suffix[0:5]+'_'+level+'.nc')\n",
    "    i+=1"
   ]
  },
  {
   "cell_type": "code",
   "execution_count": null,
   "metadata": {},
   "outputs": [],
   "source": []
  }
 ],
 "metadata": {
  "kernelspec": {
   "display_name": "Python 3 (ipykernel)",
   "language": "python",
   "name": "python3"
  },
  "language_info": {
   "codemirror_mode": {
    "name": "ipython",
    "version": 3
   },
   "file_extension": ".py",
   "mimetype": "text/x-python",
   "name": "python",
   "nbconvert_exporter": "python",
   "pygments_lexer": "ipython3",
   "version": "3.8.8"
  }
 },
 "nbformat": 4,
 "nbformat_minor": 4
}
