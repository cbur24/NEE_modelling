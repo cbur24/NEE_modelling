{
 "cells": [
  {
   "cell_type": "markdown",
   "metadata": {},
   "source": [
    "# Deep learning forecasting with DARTS\n",
    "\n",
    "Using the N-BEATS model: Neural Basis Expansion Analysis Time Series Forecasting \n",
    "\n",
    "* **Training a DL model on in mulitple, multivariate series**\n"
   ]
  },
  {
   "cell_type": "code",
   "execution_count": 14,
   "metadata": {},
   "outputs": [],
   "source": [
    "# General Imports\n",
    "import numpy as np\n",
    "import xarray as xr\n",
    "import pandas as pd\n",
    "from matplotlib import pyplot as plt\n",
    "%matplotlib inline     \n",
    "\n",
    "# Forecasting imports\n",
    "from darts.models import NBEATSModel\n",
    "from darts.utils.likelihood_models import QuantileRegression\n",
    "from darts.utils.timeseries_generation import datetime_attribute_timeseries\n",
    "from darts.utils.utils import SeasonalityMode\n",
    "from darts import TimeSeries\n",
    "from darts.metrics import mae, mape\n",
    "from darts.dataprocessing.transformers import Scaler\n",
    "# from darts.utils.statistics import extract_trend_and_seasonality, remove_trend\n",
    "\n",
    "import warnings\n",
    "warnings.filterwarnings(\"ignore\")"
   ]
  },
  {
   "cell_type": "markdown",
   "metadata": {},
   "source": [
    "## Analysis Parameters\n"
   ]
  },
  {
   "cell_type": "code",
   "execution_count": 3,
   "metadata": {},
   "outputs": [],
   "source": [
    "sites = [\n",
    "    'Whroo/2022_v1/L6/default/Whroo_L6_20111201_20220218_Daily.nc',\n",
    "    'CumberlandPlain/2022_v1/L6/default/CumberlandPlain_L6_20140101_20220101_Daily.nc',\n",
    "    'Tumbarumba/2022_v1/L6/default/Tumbarumba_L6_20020107_20191231_Daily.nc',\n",
    "    'WombatStateForest/2022_v1/L6/default/WombatStateForest_L6_20100120_20210529_Daily.nc'\n",
    "]\n",
    "\n",
    "var = ['GPP_SOLO', 'Ta', 'VPD','Precip', 'ET', 'Fsd']\n",
    "var_names = ['GPP','Ta', 'VPD', 'precip', 'ET', 'solar']\n",
    "# test_split=0.80\n",
    "\n",
    "n=12"
   ]
  },
  {
   "cell_type": "markdown",
   "metadata": {},
   "source": [
    "## Load data\n",
    "\n",
    "Training a DL model on in mulitple, multivariate series.\n",
    "\n",
    "Using the first three sites to train a model, then predicting on a fourth site."
   ]
  },
  {
   "cell_type": "code",
   "execution_count": 4,
   "metadata": {},
   "outputs": [],
   "source": [
    "def VPD(rh, ta):\n",
    "    sat_vp = (6.11 * np.exp((2500000/461) * (1/273 - 1/(273 + ta))))\n",
    "    vpd = (((100 - rh)/100) * sat_vp)\n",
    "    return vpd\n",
    "\n",
    "# l\n",
    "series_all=[]\n",
    "for site in sites: \n",
    "    ds = xr.open_dataset('https://dap.tern.org.au/thredds/dodsC/ecosystem_process/ozflux/'+site)\n",
    "    ds['GPP_SOLO'] = xr.where(ds.GPP_SOLO < 0, 0, ds.GPP_SOLO)  #Set negative GPP, ER, and ET measurements as zero\n",
    "    ds['ER_SOLO'] = xr.where(ds.ER_SOLO < 0, 0, ds.ER_SOLO)  #Set negative GPP, ER, and ET measurements as zero\n",
    "    ds['ET'] = xr.where(ds.ET < 0, 0, ds.ET)  #Set negative GPP, ER, and ET measurements as zero\n",
    "    ds['VPD'] = VPD(ds.RH, ds.Ta)\n",
    "    ds = ds[var]\n",
    "\n",
    "    # anomalization\n",
    "    # ds_clim_mean = ds.groupby('time.month').mean()\n",
    "    # ds = (ds.groupby('time.month') - ds_clim_mean)\n",
    "\n",
    "    ds = ds.resample(time='1W').mean()\n",
    "    df = ds.to_dataframe().reset_index(\n",
    "            level=[1, 2]).drop(['latitude', 'longitude'], axis=1)\n",
    "    df = df[var].dropna()\n",
    "    series = TimeSeries.from_dataframe(df) \n",
    "    series_all.append(series)\n",
    "\n",
    "#split into train/test sammples\n",
    "train = series_all[0:-1]\n",
    "test = series_all[-1]"
   ]
  },
  {
   "cell_type": "markdown",
   "metadata": {},
   "source": [
    "## Fit a model on training dataset\n",
    "\n",
    "Scaling data before fitting\n",
    "\n",
    "<!-- # RNN Model\n",
    "# model = BlockRNNModel(\n",
    "#     model=\"LSTM\",\n",
    "#     input_chunk_length=int(len(df)/3),\n",
    "#     output_chunk_length=3,\n",
    "#     pl_trainer_kwargs={'accelerator':'cuda', 'devices':1} #use GPUs\n",
    "# )\n",
    "\n",
    "# model = TCNModel(\n",
    "#     input_chunk_length=int(len(df)/3),\n",
    "#     output_chunk_length=3\n",
    "# )\n",
    "\n",
    "# model = LightGBMModel(lags=3, lags_past_covariates=3, output_chunk_length=3, likelihood='quantile')\n",
    "# model = LinearRegressionModel(lags=3, lags_past_covariates=3, output_chunk_length=3, likelihood='quantile') -->"
   ]
  },
  {
   "cell_type": "code",
   "execution_count": null,
   "metadata": {},
   "outputs": [],
   "source": [
    "# scaler = Scaler()\n",
    "# series_gpp_scaled = scaler.fit_transform(series_gpp)\n",
    "\n",
    "# scaler_cov = Scaler()\n",
    "# covariates = scaler_cov.fit_transform(covariates)"
   ]
  },
  {
   "cell_type": "code",
   "execution_count": 16,
   "metadata": {},
   "outputs": [
    {
     "name": "stderr",
     "output_type": "stream",
     "text": [
      "2022-08-22 14:12:32 darts.models.forecasting.torch_forecasting_model INFO: Train dataset contains 2472 samples.\n",
      "2022-08-22 14:12:32 darts.models.forecasting.torch_forecasting_model INFO: Time series values are 64-bits; casting model to float64.\n",
      "2022-08-22 14:12:33 pytorch_lightning.utilities.rank_zero INFO: GPU available: False, used: False\n",
      "2022-08-22 14:12:33 pytorch_lightning.utilities.rank_zero INFO: TPU available: False, using: 0 TPU cores\n",
      "2022-08-22 14:12:33 pytorch_lightning.utilities.rank_zero INFO: IPU available: False, using: 0 IPUs\n",
      "2022-08-22 14:12:33 pytorch_lightning.utilities.rank_zero INFO: HPU available: False, using: 0 HPUs\n",
      "2022-08-22 14:12:33 pytorch_lightning.callbacks.model_summary INFO: \n",
      "  | Name          | Type             | Params\n",
      "---------------------------------------------------\n",
      "0 | criterion     | MSELoss          | 0     \n",
      "1 | train_metrics | MetricCollection | 0     \n",
      "2 | val_metrics   | MetricCollection | 0     \n",
      "3 | stacks        | ModuleList       | 2.5 M \n",
      "---------------------------------------------------\n",
      "1.4 M     Trainable params\n",
      "1.1 M     Non-trainable params\n",
      "2.5 M     Total params\n",
      "19.888    Total estimated model params size (MB)\n"
     ]
    },
    {
     "data": {
      "application/vnd.jupyter.widget-view+json": {
       "model_id": "017d40de7eab4981b968862974fb7845",
       "version_major": 2,
       "version_minor": 0
      },
      "text/plain": [
       "Training: 0it [00:00, ?it/s]"
      ]
     },
     "metadata": {},
     "output_type": "display_data"
    },
    {
     "name": "stderr",
     "output_type": "stream",
     "text": [
      "2022-08-22 14:21:45 pytorch_lightning.utilities.rank_zero INFO: `Trainer.fit` stopped: `max_epochs=80` reached.\n"
     ]
    },
    {
     "name": "stdout",
     "output_type": "stream",
     "text": [
      "CPU times: user 1h 41min 43s, sys: 46.4 s, total: 1h 42min 30s\n",
      "Wall time: 9min 13s\n"
     ]
    },
    {
     "data": {
      "text/plain": [
       "<darts.models.forecasting.nbeats.NBEATSModel at 0x7f86ba02b7f0>"
      ]
     },
     "execution_count": 16,
     "metadata": {},
     "output_type": "execute_result"
    }
   ],
   "source": [
    "%%time\n",
    "\n",
    "# idx = int(len(series_gpp_scaled)*test_split)\n",
    "# train, val = series_all.split_after(pd.Timestamp(series_all[idx].data_array().time.values[0]))\n",
    "# cov_train, cov_val = covariates.split_after(pd.Timestamp(series_gpp[idx].data_array().time.values[0]))\n",
    "\n",
    "# covariables as enconders\n",
    "encoders = {\n",
    "    # \"cyclic\": {\"future\": [\"month\"]},\n",
    "    \"datetime_attribute\": {\"past\":[\"week\", \"month\", \"year\"]},\n",
    "    # \"position\": {\"past\": [\"absolute\"], \"future\": [\"relative\"]},\n",
    "    \"transformer\": Scaler(),\n",
    "}\n",
    "\n",
    "model = NBEATSModel(input_chunk_length=104,\n",
    "                    output_chunk_length=n,\n",
    "                    generic_architecture=False,\n",
    "                    likelihood=QuantileRegression(),\n",
    "                    random_state=0,\n",
    "                    n_epochs=80,\n",
    "                    add_encoders=encoders,\n",
    "                    pl_trainer_kwargs={'accelerator':'cpu'} #use CPUs\n",
    "                    # pl_trainer_kwargs={'accelerator':'cuda', 'devices':1,} #use GPUs\n",
    "                   )\n",
    "\n",
    "model.fit(train)"
   ]
  },
  {
   "cell_type": "markdown",
   "metadata": {},
   "source": [
    "## Predict on validation dataset"
   ]
  },
  {
   "cell_type": "code",
   "execution_count": 17,
   "metadata": {},
   "outputs": [],
   "source": [
    "# pred = model.predict(n=len(val), series=train[], num_samples=100) #past_covariates=covariates\n",
    "\n",
    "# pred_r = scaler.inverse_transform(pred)\n",
    "# val_r = scaler.inverse_transform(val)\n",
    "# err = mape(val_r['GPP_SOLO'], pred_r['GPP_SOLO'])\n",
    "\n",
    "# fig,ax = plt.subplots(figsize=(15,5))\n",
    "# series_gpp['GPP_SOLO'].plot(ax=ax, label='actual')\n",
    "\n",
    "# pred_r['GPP_SOLO'].plot(ax=ax, lw=3,\n",
    "#                                     label='{}, MAPE={:.2f} %'.format('Forecast', err))\n",
    "# plt.ylabel(var_names[0]+', gC/m2/week')\n",
    "# # plt.axhline(0, color='grey')\n",
    "# plt.legend()"
   ]
  },
  {
   "cell_type": "markdown",
   "metadata": {},
   "source": [
    "### Iterative backtest on site held out of traininig"
   ]
  },
  {
   "cell_type": "code",
   "execution_count": 18,
   "metadata": {},
   "outputs": [
    {
     "data": {
      "application/vnd.jupyter.widget-view+json": {
       "model_id": "0e9062f3a83145a891f45a2a86eeee4b",
       "version_major": 2,
       "version_minor": 0
      },
      "text/plain": [
       "  0%|          | 0/286 [00:00<?, ?it/s]"
      ]
     },
     "metadata": {},
     "output_type": "display_data"
    },
    {
     "data": {
      "application/vnd.jupyter.widget-view+json": {
       "model_id": "33595fc09ccf4d56ae1c275f5d56c208",
       "version_major": 2,
       "version_minor": 0
      },
      "text/plain": [
       "Predicting: 78it [00:00, ?it/s]"
      ]
     },
     "metadata": {},
     "output_type": "display_data"
    },
    {
     "data": {
      "application/vnd.jupyter.widget-view+json": {
       "model_id": "17aecff9e72341f385a25c8eae9e35b9",
       "version_major": 2,
       "version_minor": 0
      },
      "text/plain": [
       "Predicting: 78it [00:00, ?it/s]"
      ]
     },
     "metadata": {},
     "output_type": "display_data"
    },
    {
     "data": {
      "application/vnd.jupyter.widget-view+json": {
       "model_id": "6da84325b6374cc0b707c5d2780d7136",
       "version_major": 2,
       "version_minor": 0
      },
      "text/plain": [
       "Predicting: 78it [00:00, ?it/s]"
      ]
     },
     "metadata": {},
     "output_type": "display_data"
    },
    {
     "data": {
      "application/vnd.jupyter.widget-view+json": {
       "model_id": "2c3b23190d1b4a4bb39180de096c2fd0",
       "version_major": 2,
       "version_minor": 0
      },
      "text/plain": [
       "Predicting: 78it [00:00, ?it/s]"
      ]
     },
     "metadata": {},
     "output_type": "display_data"
    },
    {
     "data": {
      "application/vnd.jupyter.widget-view+json": {
       "model_id": "86faaa27ae274a2c8684657e26667106",
       "version_major": 2,
       "version_minor": 0
      },
      "text/plain": [
       "Predicting: 78it [00:00, ?it/s]"
      ]
     },
     "metadata": {},
     "output_type": "display_data"
    },
    {
     "data": {
      "application/vnd.jupyter.widget-view+json": {
       "model_id": "5f0c3f81884f400181a40a0c26eca2e6",
       "version_major": 2,
       "version_minor": 0
      },
      "text/plain": [
       "Predicting: 78it [00:00, ?it/s]"
      ]
     },
     "metadata": {},
     "output_type": "display_data"
    },
    {
     "data": {
      "application/vnd.jupyter.widget-view+json": {
       "model_id": "949e2af5e1f44173bfe42c18b76a47ea",
       "version_major": 2,
       "version_minor": 0
      },
      "text/plain": [
       "Predicting: 78it [00:00, ?it/s]"
      ]
     },
     "metadata": {},
     "output_type": "display_data"
    },
    {
     "data": {
      "application/vnd.jupyter.widget-view+json": {
       "model_id": "f382e64e557b4528a60eca8a7a87f339",
       "version_major": 2,
       "version_minor": 0
      },
      "text/plain": [
       "Predicting: 78it [00:00, ?it/s]"
      ]
     },
     "metadata": {},
     "output_type": "display_data"
    },
    {
     "data": {
      "application/vnd.jupyter.widget-view+json": {
       "model_id": "ce18b61039394295bfcc3c90616c25f5",
       "version_major": 2,
       "version_minor": 0
      },
      "text/plain": [
       "Predicting: 78it [00:00, ?it/s]"
      ]
     },
     "metadata": {},
     "output_type": "display_data"
    },
    {
     "data": {
      "application/vnd.jupyter.widget-view+json": {
       "model_id": "795b9b01cf764f65906b13844740f279",
       "version_major": 2,
       "version_minor": 0
      },
      "text/plain": [
       "Predicting: 78it [00:00, ?it/s]"
      ]
     },
     "metadata": {},
     "output_type": "display_data"
    },
    {
     "data": {
      "application/vnd.jupyter.widget-view+json": {
       "model_id": "3519355e644744d4a6d4ddcaaf0a3548",
       "version_major": 2,
       "version_minor": 0
      },
      "text/plain": [
       "Predicting: 78it [00:00, ?it/s]"
      ]
     },
     "metadata": {},
     "output_type": "display_data"
    },
    {
     "data": {
      "application/vnd.jupyter.widget-view+json": {
       "model_id": "f9d6486349184e4a844adf0a281d4dd6",
       "version_major": 2,
       "version_minor": 0
      },
      "text/plain": [
       "Predicting: 78it [00:00, ?it/s]"
      ]
     },
     "metadata": {},
     "output_type": "display_data"
    },
    {
     "data": {
      "application/vnd.jupyter.widget-view+json": {
       "model_id": "8dca164cb6a14f23ab138e46c219d837",
       "version_major": 2,
       "version_minor": 0
      },
      "text/plain": [
       "Predicting: 78it [00:00, ?it/s]"
      ]
     },
     "metadata": {},
     "output_type": "display_data"
    },
    {
     "data": {
      "application/vnd.jupyter.widget-view+json": {
       "model_id": "f7efdae0ea31403bbbfcb128d5b9810f",
       "version_major": 2,
       "version_minor": 0
      },
      "text/plain": [
       "Predicting: 78it [00:00, ?it/s]"
      ]
     },
     "metadata": {},
     "output_type": "display_data"
    },
    {
     "data": {
      "application/vnd.jupyter.widget-view+json": {
       "model_id": "ea7a896883e241aabe525a29c6ac4c51",
       "version_major": 2,
       "version_minor": 0
      },
      "text/plain": [
       "Predicting: 78it [00:00, ?it/s]"
      ]
     },
     "metadata": {},
     "output_type": "display_data"
    },
    {
     "data": {
      "application/vnd.jupyter.widget-view+json": {
       "model_id": "5ffb33f4886844a98b186c7840bfe237",
       "version_major": 2,
       "version_minor": 0
      },
      "text/plain": [
       "Predicting: 78it [00:00, ?it/s]"
      ]
     },
     "metadata": {},
     "output_type": "display_data"
    },
    {
     "data": {
      "application/vnd.jupyter.widget-view+json": {
       "model_id": "6341aa7822334a448bf04b3fcfb3387a",
       "version_major": 2,
       "version_minor": 0
      },
      "text/plain": [
       "Predicting: 78it [00:00, ?it/s]"
      ]
     },
     "metadata": {},
     "output_type": "display_data"
    },
    {
     "data": {
      "application/vnd.jupyter.widget-view+json": {
       "model_id": "a57c516383e24181bea5212b3eb2bf49",
       "version_major": 2,
       "version_minor": 0
      },
      "text/plain": [
       "Predicting: 78it [00:00, ?it/s]"
      ]
     },
     "metadata": {},
     "output_type": "display_data"
    },
    {
     "data": {
      "application/vnd.jupyter.widget-view+json": {
       "model_id": "1a35b6a6bb42412194e1e9ac8eac9bdb",
       "version_major": 2,
       "version_minor": 0
      },
      "text/plain": [
       "Predicting: 78it [00:00, ?it/s]"
      ]
     },
     "metadata": {},
     "output_type": "display_data"
    },
    {
     "data": {
      "application/vnd.jupyter.widget-view+json": {
       "model_id": "a36a1a7a1d1049eabbbd997fc4feeb4d",
       "version_major": 2,
       "version_minor": 0
      },
      "text/plain": [
       "Predicting: 78it [00:00, ?it/s]"
      ]
     },
     "metadata": {},
     "output_type": "display_data"
    },
    {
     "data": {
      "application/vnd.jupyter.widget-view+json": {
       "model_id": "2cb884f6fbe345e8b2d7f1a2ecf09e47",
       "version_major": 2,
       "version_minor": 0
      },
      "text/plain": [
       "Predicting: 78it [00:00, ?it/s]"
      ]
     },
     "metadata": {},
     "output_type": "display_data"
    },
    {
     "data": {
      "application/vnd.jupyter.widget-view+json": {
       "model_id": "eba586897edf46d1bf3b44087a6579df",
       "version_major": 2,
       "version_minor": 0
      },
      "text/plain": [
       "Predicting: 78it [00:00, ?it/s]"
      ]
     },
     "metadata": {},
     "output_type": "display_data"
    },
    {
     "data": {
      "application/vnd.jupyter.widget-view+json": {
       "model_id": "38848f06f59240b99f177b686fb30a42",
       "version_major": 2,
       "version_minor": 0
      },
      "text/plain": [
       "Predicting: 78it [00:00, ?it/s]"
      ]
     },
     "metadata": {},
     "output_type": "display_data"
    },
    {
     "data": {
      "application/vnd.jupyter.widget-view+json": {
       "model_id": "91dd0b9f676344019ee1678fc322771b",
       "version_major": 2,
       "version_minor": 0
      },
      "text/plain": [
       "Predicting: 78it [00:00, ?it/s]"
      ]
     },
     "metadata": {},
     "output_type": "display_data"
    },
    {
     "data": {
      "application/vnd.jupyter.widget-view+json": {
       "model_id": "9808fe43141b499782ec49abf1bfb93d",
       "version_major": 2,
       "version_minor": 0
      },
      "text/plain": [
       "Predicting: 78it [00:00, ?it/s]"
      ]
     },
     "metadata": {},
     "output_type": "display_data"
    },
    {
     "data": {
      "application/vnd.jupyter.widget-view+json": {
       "model_id": "d9dc37e3c55b42f2a02c0fadf7f59c79",
       "version_major": 2,
       "version_minor": 0
      },
      "text/plain": [
       "Predicting: 78it [00:00, ?it/s]"
      ]
     },
     "metadata": {},
     "output_type": "display_data"
    },
    {
     "data": {
      "application/vnd.jupyter.widget-view+json": {
       "model_id": "863dd18548bf44ce91bd3e6a153e6387",
       "version_major": 2,
       "version_minor": 0
      },
      "text/plain": [
       "Predicting: 78it [00:00, ?it/s]"
      ]
     },
     "metadata": {},
     "output_type": "display_data"
    },
    {
     "data": {
      "application/vnd.jupyter.widget-view+json": {
       "model_id": "8a05986a402f4074a7bb6fe90f03692e",
       "version_major": 2,
       "version_minor": 0
      },
      "text/plain": [
       "Predicting: 78it [00:00, ?it/s]"
      ]
     },
     "metadata": {},
     "output_type": "display_data"
    },
    {
     "data": {
      "application/vnd.jupyter.widget-view+json": {
       "model_id": "890c2d70a2634c00a55ca15c3c2ed879",
       "version_major": 2,
       "version_minor": 0
      },
      "text/plain": [
       "Predicting: 78it [00:00, ?it/s]"
      ]
     },
     "metadata": {},
     "output_type": "display_data"
    },
    {
     "data": {
      "application/vnd.jupyter.widget-view+json": {
       "model_id": "1646d77505264ad0974b1367b36770a9",
       "version_major": 2,
       "version_minor": 0
      },
      "text/plain": [
       "Predicting: 78it [00:00, ?it/s]"
      ]
     },
     "metadata": {},
     "output_type": "display_data"
    },
    {
     "data": {
      "application/vnd.jupyter.widget-view+json": {
       "model_id": "75eb0d089f7c454cac8d3a9938aeadd9",
       "version_major": 2,
       "version_minor": 0
      },
      "text/plain": [
       "Predicting: 78it [00:00, ?it/s]"
      ]
     },
     "metadata": {},
     "output_type": "display_data"
    },
    {
     "data": {
      "application/vnd.jupyter.widget-view+json": {
       "model_id": "859c36f23c6a49068a3651e72cdd56a6",
       "version_major": 2,
       "version_minor": 0
      },
      "text/plain": [
       "Predicting: 78it [00:00, ?it/s]"
      ]
     },
     "metadata": {},
     "output_type": "display_data"
    },
    {
     "data": {
      "application/vnd.jupyter.widget-view+json": {
       "model_id": "f722c8c578b6438e8f9cbe3632507419",
       "version_major": 2,
       "version_minor": 0
      },
      "text/plain": [
       "Predicting: 78it [00:00, ?it/s]"
      ]
     },
     "metadata": {},
     "output_type": "display_data"
    },
    {
     "data": {
      "application/vnd.jupyter.widget-view+json": {
       "model_id": "e4a53bf0ae174290b5318e95e9f17dc4",
       "version_major": 2,
       "version_minor": 0
      },
      "text/plain": [
       "Predicting: 78it [00:00, ?it/s]"
      ]
     },
     "metadata": {},
     "output_type": "display_data"
    },
    {
     "data": {
      "application/vnd.jupyter.widget-view+json": {
       "model_id": "8e8c5330bd014f47a357d55bf8f57ca7",
       "version_major": 2,
       "version_minor": 0
      },
      "text/plain": [
       "Predicting: 78it [00:00, ?it/s]"
      ]
     },
     "metadata": {},
     "output_type": "display_data"
    },
    {
     "data": {
      "application/vnd.jupyter.widget-view+json": {
       "model_id": "9f155101ed9943eb892583969caf5b61",
       "version_major": 2,
       "version_minor": 0
      },
      "text/plain": [
       "Predicting: 78it [00:00, ?it/s]"
      ]
     },
     "metadata": {},
     "output_type": "display_data"
    },
    {
     "data": {
      "application/vnd.jupyter.widget-view+json": {
       "model_id": "6047e2d0a84542a3bd0ed192f23f51d7",
       "version_major": 2,
       "version_minor": 0
      },
      "text/plain": [
       "Predicting: 78it [00:00, ?it/s]"
      ]
     },
     "metadata": {},
     "output_type": "display_data"
    },
    {
     "data": {
      "application/vnd.jupyter.widget-view+json": {
       "model_id": "e82281b030eb414fad80eb3c3087dc60",
       "version_major": 2,
       "version_minor": 0
      },
      "text/plain": [
       "Predicting: 78it [00:00, ?it/s]"
      ]
     },
     "metadata": {},
     "output_type": "display_data"
    },
    {
     "data": {
      "application/vnd.jupyter.widget-view+json": {
       "model_id": "e67053b3adec402b82a235463516e98c",
       "version_major": 2,
       "version_minor": 0
      },
      "text/plain": [
       "Predicting: 78it [00:00, ?it/s]"
      ]
     },
     "metadata": {},
     "output_type": "display_data"
    },
    {
     "data": {
      "application/vnd.jupyter.widget-view+json": {
       "model_id": "ed205b8f995646bf84c4df136a985860",
       "version_major": 2,
       "version_minor": 0
      },
      "text/plain": [
       "Predicting: 78it [00:00, ?it/s]"
      ]
     },
     "metadata": {},
     "output_type": "display_data"
    },
    {
     "data": {
      "application/vnd.jupyter.widget-view+json": {
       "model_id": "5145063ed5254a428710723e8e137133",
       "version_major": 2,
       "version_minor": 0
      },
      "text/plain": [
       "Predicting: 78it [00:00, ?it/s]"
      ]
     },
     "metadata": {},
     "output_type": "display_data"
    },
    {
     "data": {
      "application/vnd.jupyter.widget-view+json": {
       "model_id": "9857c3ae1c1f49ee81e952688af1721e",
       "version_major": 2,
       "version_minor": 0
      },
      "text/plain": [
       "Predicting: 78it [00:00, ?it/s]"
      ]
     },
     "metadata": {},
     "output_type": "display_data"
    },
    {
     "data": {
      "application/vnd.jupyter.widget-view+json": {
       "model_id": "bf013b254e0d492c907ad75d2a7248c1",
       "version_major": 2,
       "version_minor": 0
      },
      "text/plain": [
       "Predicting: 78it [00:00, ?it/s]"
      ]
     },
     "metadata": {},
     "output_type": "display_data"
    },
    {
     "data": {
      "application/vnd.jupyter.widget-view+json": {
       "model_id": "21babd1f6c0d4d63a8dd595b6b5e2d2a",
       "version_major": 2,
       "version_minor": 0
      },
      "text/plain": [
       "Predicting: 78it [00:00, ?it/s]"
      ]
     },
     "metadata": {},
     "output_type": "display_data"
    },
    {
     "data": {
      "application/vnd.jupyter.widget-view+json": {
       "model_id": "dd6a222b624d4173a9ae7af07f12e89d",
       "version_major": 2,
       "version_minor": 0
      },
      "text/plain": [
       "Predicting: 78it [00:00, ?it/s]"
      ]
     },
     "metadata": {},
     "output_type": "display_data"
    },
    {
     "data": {
      "application/vnd.jupyter.widget-view+json": {
       "model_id": "4a3f6f07656e4a5f9a182eb07b688112",
       "version_major": 2,
       "version_minor": 0
      },
      "text/plain": [
       "Predicting: 78it [00:00, ?it/s]"
      ]
     },
     "metadata": {},
     "output_type": "display_data"
    },
    {
     "data": {
      "application/vnd.jupyter.widget-view+json": {
       "model_id": "1b6baf70436f45f0a58aa8c18394b559",
       "version_major": 2,
       "version_minor": 0
      },
      "text/plain": [
       "Predicting: 78it [00:00, ?it/s]"
      ]
     },
     "metadata": {},
     "output_type": "display_data"
    },
    {
     "data": {
      "application/vnd.jupyter.widget-view+json": {
       "model_id": "b5476863d29840128df49fc6dff097ae",
       "version_major": 2,
       "version_minor": 0
      },
      "text/plain": [
       "Predicting: 78it [00:00, ?it/s]"
      ]
     },
     "metadata": {},
     "output_type": "display_data"
    },
    {
     "data": {
      "application/vnd.jupyter.widget-view+json": {
       "model_id": "7adbc7769d964a52b68f4107c1c10451",
       "version_major": 2,
       "version_minor": 0
      },
      "text/plain": [
       "Predicting: 78it [00:00, ?it/s]"
      ]
     },
     "metadata": {},
     "output_type": "display_data"
    },
    {
     "data": {
      "application/vnd.jupyter.widget-view+json": {
       "model_id": "bfb0c9d5c9d345ebba2dbe4afe0ef80b",
       "version_major": 2,
       "version_minor": 0
      },
      "text/plain": [
       "Predicting: 78it [00:00, ?it/s]"
      ]
     },
     "metadata": {},
     "output_type": "display_data"
    },
    {
     "data": {
      "application/vnd.jupyter.widget-view+json": {
       "model_id": "28c529f20bb04ac999c6a3f92be14412",
       "version_major": 2,
       "version_minor": 0
      },
      "text/plain": [
       "Predicting: 78it [00:00, ?it/s]"
      ]
     },
     "metadata": {},
     "output_type": "display_data"
    },
    {
     "data": {
      "application/vnd.jupyter.widget-view+json": {
       "model_id": "310b9d209fb248549aac46c41768a747",
       "version_major": 2,
       "version_minor": 0
      },
      "text/plain": [
       "Predicting: 78it [00:00, ?it/s]"
      ]
     },
     "metadata": {},
     "output_type": "display_data"
    },
    {
     "data": {
      "application/vnd.jupyter.widget-view+json": {
       "model_id": "4e79986684b3481aa49552b2ee03f0f0",
       "version_major": 2,
       "version_minor": 0
      },
      "text/plain": [
       "Predicting: 78it [00:00, ?it/s]"
      ]
     },
     "metadata": {},
     "output_type": "display_data"
    },
    {
     "data": {
      "application/vnd.jupyter.widget-view+json": {
       "model_id": "3714f5dec0d84d28abaca40c7c4d6021",
       "version_major": 2,
       "version_minor": 0
      },
      "text/plain": [
       "Predicting: 78it [00:00, ?it/s]"
      ]
     },
     "metadata": {},
     "output_type": "display_data"
    },
    {
     "data": {
      "application/vnd.jupyter.widget-view+json": {
       "model_id": "c306574b06cc494883bc3388488fa589",
       "version_major": 2,
       "version_minor": 0
      },
      "text/plain": [
       "Predicting: 78it [00:00, ?it/s]"
      ]
     },
     "metadata": {},
     "output_type": "display_data"
    },
    {
     "data": {
      "application/vnd.jupyter.widget-view+json": {
       "model_id": "eab4ee236bc1469dac12dd83514f6bf5",
       "version_major": 2,
       "version_minor": 0
      },
      "text/plain": [
       "Predicting: 78it [00:00, ?it/s]"
      ]
     },
     "metadata": {},
     "output_type": "display_data"
    },
    {
     "data": {
      "application/vnd.jupyter.widget-view+json": {
       "model_id": "e86ed9d9c4dc4e7b99dea1963749430f",
       "version_major": 2,
       "version_minor": 0
      },
      "text/plain": [
       "Predicting: 78it [00:00, ?it/s]"
      ]
     },
     "metadata": {},
     "output_type": "display_data"
    },
    {
     "data": {
      "application/vnd.jupyter.widget-view+json": {
       "model_id": "16f5c065c34144fd902e76eaed9025bb",
       "version_major": 2,
       "version_minor": 0
      },
      "text/plain": [
       "Predicting: 78it [00:00, ?it/s]"
      ]
     },
     "metadata": {},
     "output_type": "display_data"
    },
    {
     "data": {
      "application/vnd.jupyter.widget-view+json": {
       "model_id": "ee25bde33265422b999f7b0c67e2ade3",
       "version_major": 2,
       "version_minor": 0
      },
      "text/plain": [
       "Predicting: 78it [00:00, ?it/s]"
      ]
     },
     "metadata": {},
     "output_type": "display_data"
    },
    {
     "data": {
      "application/vnd.jupyter.widget-view+json": {
       "model_id": "af977e539f514cdeb7d2a0ec6afefbd6",
       "version_major": 2,
       "version_minor": 0
      },
      "text/plain": [
       "Predicting: 78it [00:00, ?it/s]"
      ]
     },
     "metadata": {},
     "output_type": "display_data"
    },
    {
     "data": {
      "application/vnd.jupyter.widget-view+json": {
       "model_id": "17622cdf1c5548afa4512199b5494406",
       "version_major": 2,
       "version_minor": 0
      },
      "text/plain": [
       "Predicting: 78it [00:00, ?it/s]"
      ]
     },
     "metadata": {},
     "output_type": "display_data"
    },
    {
     "data": {
      "application/vnd.jupyter.widget-view+json": {
       "model_id": "b9d83043057a44b1bd8baf918bbf842e",
       "version_major": 2,
       "version_minor": 0
      },
      "text/plain": [
       "Predicting: 78it [00:00, ?it/s]"
      ]
     },
     "metadata": {},
     "output_type": "display_data"
    },
    {
     "data": {
      "application/vnd.jupyter.widget-view+json": {
       "model_id": "b0b006fb124c40069ff8ef663d155f33",
       "version_major": 2,
       "version_minor": 0
      },
      "text/plain": [
       "Predicting: 78it [00:00, ?it/s]"
      ]
     },
     "metadata": {},
     "output_type": "display_data"
    },
    {
     "data": {
      "application/vnd.jupyter.widget-view+json": {
       "model_id": "a4ea1a2e8b1341dd981153619ff87671",
       "version_major": 2,
       "version_minor": 0
      },
      "text/plain": [
       "Predicting: 78it [00:00, ?it/s]"
      ]
     },
     "metadata": {},
     "output_type": "display_data"
    },
    {
     "data": {
      "application/vnd.jupyter.widget-view+json": {
       "model_id": "247874fbac3c4e27a34c7ba21a629f20",
       "version_major": 2,
       "version_minor": 0
      },
      "text/plain": [
       "Predicting: 78it [00:00, ?it/s]"
      ]
     },
     "metadata": {},
     "output_type": "display_data"
    },
    {
     "data": {
      "application/vnd.jupyter.widget-view+json": {
       "model_id": "fe2df88630ec423e8e018aefa21a51ce",
       "version_major": 2,
       "version_minor": 0
      },
      "text/plain": [
       "Predicting: 78it [00:00, ?it/s]"
      ]
     },
     "metadata": {},
     "output_type": "display_data"
    },
    {
     "data": {
      "application/vnd.jupyter.widget-view+json": {
       "model_id": "822fc3f796834c949919937935fb8aba",
       "version_major": 2,
       "version_minor": 0
      },
      "text/plain": [
       "Predicting: 78it [00:00, ?it/s]"
      ]
     },
     "metadata": {},
     "output_type": "display_data"
    },
    {
     "data": {
      "application/vnd.jupyter.widget-view+json": {
       "model_id": "51206bb328c344e0ade8d1739c10cc13",
       "version_major": 2,
       "version_minor": 0
      },
      "text/plain": [
       "Predicting: 78it [00:00, ?it/s]"
      ]
     },
     "metadata": {},
     "output_type": "display_data"
    },
    {
     "data": {
      "application/vnd.jupyter.widget-view+json": {
       "model_id": "f584c73afaa04bba97085dcb8cd194f5",
       "version_major": 2,
       "version_minor": 0
      },
      "text/plain": [
       "Predicting: 78it [00:00, ?it/s]"
      ]
     },
     "metadata": {},
     "output_type": "display_data"
    },
    {
     "data": {
      "application/vnd.jupyter.widget-view+json": {
       "model_id": "3bb2f9998d384d5bbe758528fdb379c9",
       "version_major": 2,
       "version_minor": 0
      },
      "text/plain": [
       "Predicting: 78it [00:00, ?it/s]"
      ]
     },
     "metadata": {},
     "output_type": "display_data"
    },
    {
     "data": {
      "application/vnd.jupyter.widget-view+json": {
       "model_id": "3a2e03610c6b41b895add67e11284fc0",
       "version_major": 2,
       "version_minor": 0
      },
      "text/plain": [
       "Predicting: 78it [00:00, ?it/s]"
      ]
     },
     "metadata": {},
     "output_type": "display_data"
    },
    {
     "data": {
      "application/vnd.jupyter.widget-view+json": {
       "model_id": "8776a8c1ee7b411289ee2955129fd566",
       "version_major": 2,
       "version_minor": 0
      },
      "text/plain": [
       "Predicting: 78it [00:00, ?it/s]"
      ]
     },
     "metadata": {},
     "output_type": "display_data"
    },
    {
     "data": {
      "application/vnd.jupyter.widget-view+json": {
       "model_id": "6080c7b4bddf4802a6eca57fc2ed5be6",
       "version_major": 2,
       "version_minor": 0
      },
      "text/plain": [
       "Predicting: 78it [00:00, ?it/s]"
      ]
     },
     "metadata": {},
     "output_type": "display_data"
    },
    {
     "data": {
      "application/vnd.jupyter.widget-view+json": {
       "model_id": "e9f7b8717cd74f9fa4f4e3a69ebc2069",
       "version_major": 2,
       "version_minor": 0
      },
      "text/plain": [
       "Predicting: 78it [00:00, ?it/s]"
      ]
     },
     "metadata": {},
     "output_type": "display_data"
    },
    {
     "data": {
      "application/vnd.jupyter.widget-view+json": {
       "model_id": "0e8929c3f34c4c3b8d829a1917511822",
       "version_major": 2,
       "version_minor": 0
      },
      "text/plain": [
       "Predicting: 78it [00:00, ?it/s]"
      ]
     },
     "metadata": {},
     "output_type": "display_data"
    },
    {
     "data": {
      "application/vnd.jupyter.widget-view+json": {
       "model_id": "fd972cf42b93466e871cd6b67be03dca",
       "version_major": 2,
       "version_minor": 0
      },
      "text/plain": [
       "Predicting: 78it [00:00, ?it/s]"
      ]
     },
     "metadata": {},
     "output_type": "display_data"
    },
    {
     "data": {
      "application/vnd.jupyter.widget-view+json": {
       "model_id": "3d71d9af04154cfab1766aec5a4d6faf",
       "version_major": 2,
       "version_minor": 0
      },
      "text/plain": [
       "Predicting: 78it [00:00, ?it/s]"
      ]
     },
     "metadata": {},
     "output_type": "display_data"
    },
    {
     "data": {
      "application/vnd.jupyter.widget-view+json": {
       "model_id": "ebae56ce5dbc4e8fa6e7f892cd40e609",
       "version_major": 2,
       "version_minor": 0
      },
      "text/plain": [
       "Predicting: 78it [00:00, ?it/s]"
      ]
     },
     "metadata": {},
     "output_type": "display_data"
    },
    {
     "data": {
      "application/vnd.jupyter.widget-view+json": {
       "model_id": "548ab447313f4f9f91e12d9a7cc27829",
       "version_major": 2,
       "version_minor": 0
      },
      "text/plain": [
       "Predicting: 78it [00:00, ?it/s]"
      ]
     },
     "metadata": {},
     "output_type": "display_data"
    },
    {
     "data": {
      "application/vnd.jupyter.widget-view+json": {
       "model_id": "6c0af6a791e14f7180764e5002a4ca41",
       "version_major": 2,
       "version_minor": 0
      },
      "text/plain": [
       "Predicting: 78it [00:00, ?it/s]"
      ]
     },
     "metadata": {},
     "output_type": "display_data"
    },
    {
     "data": {
      "application/vnd.jupyter.widget-view+json": {
       "model_id": "b7b566b2115d4c4ab6de33163cd07554",
       "version_major": 2,
       "version_minor": 0
      },
      "text/plain": [
       "Predicting: 78it [00:00, ?it/s]"
      ]
     },
     "metadata": {},
     "output_type": "display_data"
    },
    {
     "data": {
      "application/vnd.jupyter.widget-view+json": {
       "model_id": "a80a45911ea34a6499da1efde70d1759",
       "version_major": 2,
       "version_minor": 0
      },
      "text/plain": [
       "Predicting: 78it [00:00, ?it/s]"
      ]
     },
     "metadata": {},
     "output_type": "display_data"
    },
    {
     "data": {
      "application/vnd.jupyter.widget-view+json": {
       "model_id": "7ad9e0db3401457680c19b13acdf6f9f",
       "version_major": 2,
       "version_minor": 0
      },
      "text/plain": [
       "Predicting: 78it [00:00, ?it/s]"
      ]
     },
     "metadata": {},
     "output_type": "display_data"
    },
    {
     "data": {
      "application/vnd.jupyter.widget-view+json": {
       "model_id": "58a24f3c2bc74a729ac5ffdfa1d6bb95",
       "version_major": 2,
       "version_minor": 0
      },
      "text/plain": [
       "Predicting: 78it [00:00, ?it/s]"
      ]
     },
     "metadata": {},
     "output_type": "display_data"
    },
    {
     "data": {
      "application/vnd.jupyter.widget-view+json": {
       "model_id": "8b69f6874da241f5964a44b86886fc27",
       "version_major": 2,
       "version_minor": 0
      },
      "text/plain": [
       "Predicting: 78it [00:00, ?it/s]"
      ]
     },
     "metadata": {},
     "output_type": "display_data"
    },
    {
     "data": {
      "application/vnd.jupyter.widget-view+json": {
       "model_id": "b5d0319e31f74d27974780dab8b584da",
       "version_major": 2,
       "version_minor": 0
      },
      "text/plain": [
       "Predicting: 78it [00:00, ?it/s]"
      ]
     },
     "metadata": {},
     "output_type": "display_data"
    },
    {
     "data": {
      "application/vnd.jupyter.widget-view+json": {
       "model_id": "e7163173f5674c618573398d05e2adfc",
       "version_major": 2,
       "version_minor": 0
      },
      "text/plain": [
       "Predicting: 78it [00:00, ?it/s]"
      ]
     },
     "metadata": {},
     "output_type": "display_data"
    },
    {
     "data": {
      "application/vnd.jupyter.widget-view+json": {
       "model_id": "c5f979be66f44d6caf195f67ccf19fb2",
       "version_major": 2,
       "version_minor": 0
      },
      "text/plain": [
       "Predicting: 78it [00:00, ?it/s]"
      ]
     },
     "metadata": {},
     "output_type": "display_data"
    },
    {
     "data": {
      "application/vnd.jupyter.widget-view+json": {
       "model_id": "330a782becba49e7a832d66841e05c5f",
       "version_major": 2,
       "version_minor": 0
      },
      "text/plain": [
       "Predicting: 78it [00:00, ?it/s]"
      ]
     },
     "metadata": {},
     "output_type": "display_data"
    },
    {
     "data": {
      "application/vnd.jupyter.widget-view+json": {
       "model_id": "f0ad2581fee2423b953cef8104d0eacb",
       "version_major": 2,
       "version_minor": 0
      },
      "text/plain": [
       "Predicting: 78it [00:00, ?it/s]"
      ]
     },
     "metadata": {},
     "output_type": "display_data"
    },
    {
     "data": {
      "application/vnd.jupyter.widget-view+json": {
       "model_id": "d64b1bc24227487e846b95d3252931b0",
       "version_major": 2,
       "version_minor": 0
      },
      "text/plain": [
       "Predicting: 78it [00:00, ?it/s]"
      ]
     },
     "metadata": {},
     "output_type": "display_data"
    },
    {
     "data": {
      "application/vnd.jupyter.widget-view+json": {
       "model_id": "34949db6def8444fb492d7b00f247e23",
       "version_major": 2,
       "version_minor": 0
      },
      "text/plain": [
       "Predicting: 78it [00:00, ?it/s]"
      ]
     },
     "metadata": {},
     "output_type": "display_data"
    },
    {
     "data": {
      "application/vnd.jupyter.widget-view+json": {
       "model_id": "a01827f5c542477686067178cef41a32",
       "version_major": 2,
       "version_minor": 0
      },
      "text/plain": [
       "Predicting: 78it [00:00, ?it/s]"
      ]
     },
     "metadata": {},
     "output_type": "display_data"
    },
    {
     "data": {
      "application/vnd.jupyter.widget-view+json": {
       "model_id": "320acbfc9815489380f37e7194108971",
       "version_major": 2,
       "version_minor": 0
      },
      "text/plain": [
       "Predicting: 78it [00:00, ?it/s]"
      ]
     },
     "metadata": {},
     "output_type": "display_data"
    },
    {
     "data": {
      "application/vnd.jupyter.widget-view+json": {
       "model_id": "25db3834e38247bfbe2eff33fa97dbad",
       "version_major": 2,
       "version_minor": 0
      },
      "text/plain": [
       "Predicting: 78it [00:00, ?it/s]"
      ]
     },
     "metadata": {},
     "output_type": "display_data"
    },
    {
     "data": {
      "application/vnd.jupyter.widget-view+json": {
       "model_id": "5ba59658e73343189692d86051c0727a",
       "version_major": 2,
       "version_minor": 0
      },
      "text/plain": [
       "Predicting: 78it [00:00, ?it/s]"
      ]
     },
     "metadata": {},
     "output_type": "display_data"
    },
    {
     "data": {
      "application/vnd.jupyter.widget-view+json": {
       "model_id": "77445de77e5f498fbe958baa8ff700d4",
       "version_major": 2,
       "version_minor": 0
      },
      "text/plain": [
       "Predicting: 78it [00:00, ?it/s]"
      ]
     },
     "metadata": {},
     "output_type": "display_data"
    },
    {
     "data": {
      "application/vnd.jupyter.widget-view+json": {
       "model_id": "1d003bc7206f41d0b63ff294d49f1292",
       "version_major": 2,
       "version_minor": 0
      },
      "text/plain": [
       "Predicting: 78it [00:00, ?it/s]"
      ]
     },
     "metadata": {},
     "output_type": "display_data"
    },
    {
     "data": {
      "application/vnd.jupyter.widget-view+json": {
       "model_id": "bbb43ecd17f446c58e291dd3d96b0a2b",
       "version_major": 2,
       "version_minor": 0
      },
      "text/plain": [
       "Predicting: 78it [00:00, ?it/s]"
      ]
     },
     "metadata": {},
     "output_type": "display_data"
    },
    {
     "data": {
      "application/vnd.jupyter.widget-view+json": {
       "model_id": "c3850f00448f4a899c8e22b03be54f25",
       "version_major": 2,
       "version_minor": 0
      },
      "text/plain": [
       "Predicting: 78it [00:00, ?it/s]"
      ]
     },
     "metadata": {},
     "output_type": "display_data"
    },
    {
     "data": {
      "application/vnd.jupyter.widget-view+json": {
       "model_id": "6e1be59fe20e453ea063bce9a00c3490",
       "version_major": 2,
       "version_minor": 0
      },
      "text/plain": [
       "Predicting: 78it [00:00, ?it/s]"
      ]
     },
     "metadata": {},
     "output_type": "display_data"
    },
    {
     "data": {
      "application/vnd.jupyter.widget-view+json": {
       "model_id": "52ee22ab19e148d9a2627c8139ee49aa",
       "version_major": 2,
       "version_minor": 0
      },
      "text/plain": [
       "Predicting: 78it [00:00, ?it/s]"
      ]
     },
     "metadata": {},
     "output_type": "display_data"
    },
    {
     "data": {
      "application/vnd.jupyter.widget-view+json": {
       "model_id": "33283587fd164892a405f7bf8e84d6d0",
       "version_major": 2,
       "version_minor": 0
      },
      "text/plain": [
       "Predicting: 78it [00:00, ?it/s]"
      ]
     },
     "metadata": {},
     "output_type": "display_data"
    },
    {
     "data": {
      "application/vnd.jupyter.widget-view+json": {
       "model_id": "da941ba0bc5a427f88d1becdf924adda",
       "version_major": 2,
       "version_minor": 0
      },
      "text/plain": [
       "Predicting: 78it [00:00, ?it/s]"
      ]
     },
     "metadata": {},
     "output_type": "display_data"
    },
    {
     "data": {
      "application/vnd.jupyter.widget-view+json": {
       "model_id": "773388b9722b4d6f8d1f82f5492821e8",
       "version_major": 2,
       "version_minor": 0
      },
      "text/plain": [
       "Predicting: 78it [00:00, ?it/s]"
      ]
     },
     "metadata": {},
     "output_type": "display_data"
    },
    {
     "data": {
      "application/vnd.jupyter.widget-view+json": {
       "model_id": "4283edb35f4f487c8b41a1c6a36e2ba1",
       "version_major": 2,
       "version_minor": 0
      },
      "text/plain": [
       "Predicting: 78it [00:00, ?it/s]"
      ]
     },
     "metadata": {},
     "output_type": "display_data"
    },
    {
     "data": {
      "application/vnd.jupyter.widget-view+json": {
       "model_id": "96459b5b0d704dc69bfdd8132a5de79d",
       "version_major": 2,
       "version_minor": 0
      },
      "text/plain": [
       "Predicting: 78it [00:00, ?it/s]"
      ]
     },
     "metadata": {},
     "output_type": "display_data"
    },
    {
     "data": {
      "application/vnd.jupyter.widget-view+json": {
       "model_id": "c4dca4e3584f45309f031f75981c56d1",
       "version_major": 2,
       "version_minor": 0
      },
      "text/plain": [
       "Predicting: 78it [00:00, ?it/s]"
      ]
     },
     "metadata": {},
     "output_type": "display_data"
    },
    {
     "data": {
      "application/vnd.jupyter.widget-view+json": {
       "model_id": "2676a20a8be54852b9e5d71ac2e61eae",
       "version_major": 2,
       "version_minor": 0
      },
      "text/plain": [
       "Predicting: 78it [00:00, ?it/s]"
      ]
     },
     "metadata": {},
     "output_type": "display_data"
    },
    {
     "data": {
      "application/vnd.jupyter.widget-view+json": {
       "model_id": "b5cd0ebfaac740e8853a1c730d6701f4",
       "version_major": 2,
       "version_minor": 0
      },
      "text/plain": [
       "Predicting: 78it [00:00, ?it/s]"
      ]
     },
     "metadata": {},
     "output_type": "display_data"
    },
    {
     "data": {
      "application/vnd.jupyter.widget-view+json": {
       "model_id": "c8427e6cc0ae4e8b9b66c0cb5ceb8cde",
       "version_major": 2,
       "version_minor": 0
      },
      "text/plain": [
       "Predicting: 78it [00:00, ?it/s]"
      ]
     },
     "metadata": {},
     "output_type": "display_data"
    },
    {
     "data": {
      "application/vnd.jupyter.widget-view+json": {
       "model_id": "ecde8db7842c4e33a5f4303cee8422ef",
       "version_major": 2,
       "version_minor": 0
      },
      "text/plain": [
       "Predicting: 78it [00:00, ?it/s]"
      ]
     },
     "metadata": {},
     "output_type": "display_data"
    },
    {
     "data": {
      "application/vnd.jupyter.widget-view+json": {
       "model_id": "40c95afa32fa4c6dbb3cfee817eeaa76",
       "version_major": 2,
       "version_minor": 0
      },
      "text/plain": [
       "Predicting: 78it [00:00, ?it/s]"
      ]
     },
     "metadata": {},
     "output_type": "display_data"
    },
    {
     "data": {
      "application/vnd.jupyter.widget-view+json": {
       "model_id": "3bbe3d0c7ee84a9ea7ba1834d3a9c4b8",
       "version_major": 2,
       "version_minor": 0
      },
      "text/plain": [
       "Predicting: 78it [00:00, ?it/s]"
      ]
     },
     "metadata": {},
     "output_type": "display_data"
    },
    {
     "data": {
      "application/vnd.jupyter.widget-view+json": {
       "model_id": "780744e4e38e4156a3fd3483597896c8",
       "version_major": 2,
       "version_minor": 0
      },
      "text/plain": [
       "Predicting: 78it [00:00, ?it/s]"
      ]
     },
     "metadata": {},
     "output_type": "display_data"
    },
    {
     "data": {
      "application/vnd.jupyter.widget-view+json": {
       "model_id": "c8cd688615a147b392d32b0bac40ffb4",
       "version_major": 2,
       "version_minor": 0
      },
      "text/plain": [
       "Predicting: 78it [00:00, ?it/s]"
      ]
     },
     "metadata": {},
     "output_type": "display_data"
    },
    {
     "data": {
      "application/vnd.jupyter.widget-view+json": {
       "model_id": "11c11792ef2746ed8ba24142c41848ad",
       "version_major": 2,
       "version_minor": 0
      },
      "text/plain": [
       "Predicting: 78it [00:00, ?it/s]"
      ]
     },
     "metadata": {},
     "output_type": "display_data"
    },
    {
     "data": {
      "application/vnd.jupyter.widget-view+json": {
       "model_id": "d16d9e38887e4a2e93bd110e6c488f65",
       "version_major": 2,
       "version_minor": 0
      },
      "text/plain": [
       "Predicting: 78it [00:00, ?it/s]"
      ]
     },
     "metadata": {},
     "output_type": "display_data"
    },
    {
     "data": {
      "application/vnd.jupyter.widget-view+json": {
       "model_id": "861ee49f6e9040f6afd401a40b0e909c",
       "version_major": 2,
       "version_minor": 0
      },
      "text/plain": [
       "Predicting: 78it [00:00, ?it/s]"
      ]
     },
     "metadata": {},
     "output_type": "display_data"
    },
    {
     "data": {
      "application/vnd.jupyter.widget-view+json": {
       "model_id": "47982d0f7c2c436bae87eda42e757495",
       "version_major": 2,
       "version_minor": 0
      },
      "text/plain": [
       "Predicting: 78it [00:00, ?it/s]"
      ]
     },
     "metadata": {},
     "output_type": "display_data"
    },
    {
     "data": {
      "application/vnd.jupyter.widget-view+json": {
       "model_id": "a0a72a484fc5462f9297114584c55b00",
       "version_major": 2,
       "version_minor": 0
      },
      "text/plain": [
       "Predicting: 78it [00:00, ?it/s]"
      ]
     },
     "metadata": {},
     "output_type": "display_data"
    },
    {
     "data": {
      "application/vnd.jupyter.widget-view+json": {
       "model_id": "8c40b647c13f44139db44646d743bb21",
       "version_major": 2,
       "version_minor": 0
      },
      "text/plain": [
       "Predicting: 78it [00:00, ?it/s]"
      ]
     },
     "metadata": {},
     "output_type": "display_data"
    },
    {
     "data": {
      "application/vnd.jupyter.widget-view+json": {
       "model_id": "7278a6dfae754a17b71be9ac39a3f94c",
       "version_major": 2,
       "version_minor": 0
      },
      "text/plain": [
       "Predicting: 78it [00:00, ?it/s]"
      ]
     },
     "metadata": {},
     "output_type": "display_data"
    },
    {
     "data": {
      "application/vnd.jupyter.widget-view+json": {
       "model_id": "8a939da0d46e4ad2a3fb6656ca0bae3d",
       "version_major": 2,
       "version_minor": 0
      },
      "text/plain": [
       "Predicting: 78it [00:00, ?it/s]"
      ]
     },
     "metadata": {},
     "output_type": "display_data"
    },
    {
     "data": {
      "application/vnd.jupyter.widget-view+json": {
       "model_id": "c62a1902ee4e4c80857cba8f88218806",
       "version_major": 2,
       "version_minor": 0
      },
      "text/plain": [
       "Predicting: 78it [00:00, ?it/s]"
      ]
     },
     "metadata": {},
     "output_type": "display_data"
    },
    {
     "data": {
      "application/vnd.jupyter.widget-view+json": {
       "model_id": "20af7027943c456498ccfb06d24dd3b1",
       "version_major": 2,
       "version_minor": 0
      },
      "text/plain": [
       "Predicting: 78it [00:00, ?it/s]"
      ]
     },
     "metadata": {},
     "output_type": "display_data"
    },
    {
     "data": {
      "application/vnd.jupyter.widget-view+json": {
       "model_id": "dad7a7bc97ed447dbbebcb29f4b85afa",
       "version_major": 2,
       "version_minor": 0
      },
      "text/plain": [
       "Predicting: 78it [00:00, ?it/s]"
      ]
     },
     "metadata": {},
     "output_type": "display_data"
    },
    {
     "data": {
      "application/vnd.jupyter.widget-view+json": {
       "model_id": "4b194589478342d9bf8a49b70184e8bf",
       "version_major": 2,
       "version_minor": 0
      },
      "text/plain": [
       "Predicting: 78it [00:00, ?it/s]"
      ]
     },
     "metadata": {},
     "output_type": "display_data"
    },
    {
     "data": {
      "application/vnd.jupyter.widget-view+json": {
       "model_id": "3741fdf403e94482bc84c6aaa327510b",
       "version_major": 2,
       "version_minor": 0
      },
      "text/plain": [
       "Predicting: 78it [00:00, ?it/s]"
      ]
     },
     "metadata": {},
     "output_type": "display_data"
    },
    {
     "data": {
      "application/vnd.jupyter.widget-view+json": {
       "model_id": "dff6985fc43b49a59fec57208bd463f0",
       "version_major": 2,
       "version_minor": 0
      },
      "text/plain": [
       "Predicting: 78it [00:00, ?it/s]"
      ]
     },
     "metadata": {},
     "output_type": "display_data"
    },
    {
     "data": {
      "application/vnd.jupyter.widget-view+json": {
       "model_id": "c0777201d5ec4efe846dfad4973b8ac9",
       "version_major": 2,
       "version_minor": 0
      },
      "text/plain": [
       "Predicting: 78it [00:00, ?it/s]"
      ]
     },
     "metadata": {},
     "output_type": "display_data"
    },
    {
     "data": {
      "application/vnd.jupyter.widget-view+json": {
       "model_id": "311ed73d622e43508e9e733d5e0d165a",
       "version_major": 2,
       "version_minor": 0
      },
      "text/plain": [
       "Predicting: 78it [00:00, ?it/s]"
      ]
     },
     "metadata": {},
     "output_type": "display_data"
    },
    {
     "data": {
      "application/vnd.jupyter.widget-view+json": {
       "model_id": "387d404801dc4bc893e434b022725ec9",
       "version_major": 2,
       "version_minor": 0
      },
      "text/plain": [
       "Predicting: 78it [00:00, ?it/s]"
      ]
     },
     "metadata": {},
     "output_type": "display_data"
    },
    {
     "data": {
      "application/vnd.jupyter.widget-view+json": {
       "model_id": "990d908485b74140b05ef5b0bd3695b9",
       "version_major": 2,
       "version_minor": 0
      },
      "text/plain": [
       "Predicting: 78it [00:00, ?it/s]"
      ]
     },
     "metadata": {},
     "output_type": "display_data"
    },
    {
     "data": {
      "application/vnd.jupyter.widget-view+json": {
       "model_id": "d984aedf65df4dc2abf0f8051f075ec1",
       "version_major": 2,
       "version_minor": 0
      },
      "text/plain": [
       "Predicting: 78it [00:00, ?it/s]"
      ]
     },
     "metadata": {},
     "output_type": "display_data"
    },
    {
     "data": {
      "application/vnd.jupyter.widget-view+json": {
       "model_id": "dd420192027d44c2a5a21cef835ab72f",
       "version_major": 2,
       "version_minor": 0
      },
      "text/plain": [
       "Predicting: 78it [00:00, ?it/s]"
      ]
     },
     "metadata": {},
     "output_type": "display_data"
    },
    {
     "data": {
      "application/vnd.jupyter.widget-view+json": {
       "model_id": "d460b538394e44efba041e92cfb2de3f",
       "version_major": 2,
       "version_minor": 0
      },
      "text/plain": [
       "Predicting: 78it [00:00, ?it/s]"
      ]
     },
     "metadata": {},
     "output_type": "display_data"
    },
    {
     "data": {
      "application/vnd.jupyter.widget-view+json": {
       "model_id": "11065f976b5547349d5e6ae21c4fc9df",
       "version_major": 2,
       "version_minor": 0
      },
      "text/plain": [
       "Predicting: 78it [00:00, ?it/s]"
      ]
     },
     "metadata": {},
     "output_type": "display_data"
    },
    {
     "data": {
      "application/vnd.jupyter.widget-view+json": {
       "model_id": "c93c754c5e5f46148ec18c5db71954a3",
       "version_major": 2,
       "version_minor": 0
      },
      "text/plain": [
       "Predicting: 78it [00:00, ?it/s]"
      ]
     },
     "metadata": {},
     "output_type": "display_data"
    },
    {
     "data": {
      "application/vnd.jupyter.widget-view+json": {
       "model_id": "cffd8f70917e494a9fe4e60a2199456f",
       "version_major": 2,
       "version_minor": 0
      },
      "text/plain": [
       "Predicting: 78it [00:00, ?it/s]"
      ]
     },
     "metadata": {},
     "output_type": "display_data"
    },
    {
     "data": {
      "application/vnd.jupyter.widget-view+json": {
       "model_id": "e3853e8727804d5ea4d0addf39f208bb",
       "version_major": 2,
       "version_minor": 0
      },
      "text/plain": [
       "Predicting: 78it [00:00, ?it/s]"
      ]
     },
     "metadata": {},
     "output_type": "display_data"
    },
    {
     "data": {
      "application/vnd.jupyter.widget-view+json": {
       "model_id": "cdf39aff52b144a99b10a465ded83629",
       "version_major": 2,
       "version_minor": 0
      },
      "text/plain": [
       "Predicting: 78it [00:00, ?it/s]"
      ]
     },
     "metadata": {},
     "output_type": "display_data"
    },
    {
     "data": {
      "application/vnd.jupyter.widget-view+json": {
       "model_id": "80ac07919a3e453299aa7061fb3afb57",
       "version_major": 2,
       "version_minor": 0
      },
      "text/plain": [
       "Predicting: 78it [00:00, ?it/s]"
      ]
     },
     "metadata": {},
     "output_type": "display_data"
    },
    {
     "data": {
      "application/vnd.jupyter.widget-view+json": {
       "model_id": "55b59d4bc6b44a18ab8e6123be15e120",
       "version_major": 2,
       "version_minor": 0
      },
      "text/plain": [
       "Predicting: 78it [00:00, ?it/s]"
      ]
     },
     "metadata": {},
     "output_type": "display_data"
    },
    {
     "data": {
      "application/vnd.jupyter.widget-view+json": {
       "model_id": "1c060781fa0a4a6882ddce117d2ca10d",
       "version_major": 2,
       "version_minor": 0
      },
      "text/plain": [
       "Predicting: 78it [00:00, ?it/s]"
      ]
     },
     "metadata": {},
     "output_type": "display_data"
    },
    {
     "data": {
      "application/vnd.jupyter.widget-view+json": {
       "model_id": "4515fdf9f0f44e66b3b0b738cbcc2f07",
       "version_major": 2,
       "version_minor": 0
      },
      "text/plain": [
       "Predicting: 78it [00:00, ?it/s]"
      ]
     },
     "metadata": {},
     "output_type": "display_data"
    },
    {
     "data": {
      "application/vnd.jupyter.widget-view+json": {
       "model_id": "4d83bfcb7bcf47fc92c802b1c650b1bc",
       "version_major": 2,
       "version_minor": 0
      },
      "text/plain": [
       "Predicting: 78it [00:00, ?it/s]"
      ]
     },
     "metadata": {},
     "output_type": "display_data"
    },
    {
     "data": {
      "application/vnd.jupyter.widget-view+json": {
       "model_id": "b9785136dd29475585e08f6073a186c0",
       "version_major": 2,
       "version_minor": 0
      },
      "text/plain": [
       "Predicting: 78it [00:00, ?it/s]"
      ]
     },
     "metadata": {},
     "output_type": "display_data"
    },
    {
     "data": {
      "application/vnd.jupyter.widget-view+json": {
       "model_id": "52a7c698491f4c0091f80342f37aca54",
       "version_major": 2,
       "version_minor": 0
      },
      "text/plain": [
       "Predicting: 78it [00:00, ?it/s]"
      ]
     },
     "metadata": {},
     "output_type": "display_data"
    },
    {
     "data": {
      "application/vnd.jupyter.widget-view+json": {
       "model_id": "d33491ea21a64259a7b83d0ffd69b723",
       "version_major": 2,
       "version_minor": 0
      },
      "text/plain": [
       "Predicting: 78it [00:00, ?it/s]"
      ]
     },
     "metadata": {},
     "output_type": "display_data"
    },
    {
     "data": {
      "application/vnd.jupyter.widget-view+json": {
       "model_id": "79c37e1ca9ec4654bcd6d5b01ea7addd",
       "version_major": 2,
       "version_minor": 0
      },
      "text/plain": [
       "Predicting: 78it [00:00, ?it/s]"
      ]
     },
     "metadata": {},
     "output_type": "display_data"
    },
    {
     "data": {
      "application/vnd.jupyter.widget-view+json": {
       "model_id": "9ae7aedb18aa47d9befcbb84b1db54b1",
       "version_major": 2,
       "version_minor": 0
      },
      "text/plain": [
       "Predicting: 78it [00:00, ?it/s]"
      ]
     },
     "metadata": {},
     "output_type": "display_data"
    },
    {
     "data": {
      "application/vnd.jupyter.widget-view+json": {
       "model_id": "ee3607eb9bc34534b39be6ee99e71c73",
       "version_major": 2,
       "version_minor": 0
      },
      "text/plain": [
       "Predicting: 78it [00:00, ?it/s]"
      ]
     },
     "metadata": {},
     "output_type": "display_data"
    },
    {
     "data": {
      "application/vnd.jupyter.widget-view+json": {
       "model_id": "8084f575b5e6487fa20a736e1e488795",
       "version_major": 2,
       "version_minor": 0
      },
      "text/plain": [
       "Predicting: 78it [00:00, ?it/s]"
      ]
     },
     "metadata": {},
     "output_type": "display_data"
    },
    {
     "data": {
      "application/vnd.jupyter.widget-view+json": {
       "model_id": "c07bfcc843ad46469fc23509c4e984cb",
       "version_major": 2,
       "version_minor": 0
      },
      "text/plain": [
       "Predicting: 78it [00:00, ?it/s]"
      ]
     },
     "metadata": {},
     "output_type": "display_data"
    },
    {
     "data": {
      "application/vnd.jupyter.widget-view+json": {
       "model_id": "d52d4b07067747a5baee2c040f5d91df",
       "version_major": 2,
       "version_minor": 0
      },
      "text/plain": [
       "Predicting: 78it [00:00, ?it/s]"
      ]
     },
     "metadata": {},
     "output_type": "display_data"
    },
    {
     "data": {
      "application/vnd.jupyter.widget-view+json": {
       "model_id": "36363ec3030f4d86972cfea68c16e4d6",
       "version_major": 2,
       "version_minor": 0
      },
      "text/plain": [
       "Predicting: 78it [00:00, ?it/s]"
      ]
     },
     "metadata": {},
     "output_type": "display_data"
    },
    {
     "data": {
      "application/vnd.jupyter.widget-view+json": {
       "model_id": "4725aa1a8e6a41fd90b01eaf795bed5b",
       "version_major": 2,
       "version_minor": 0
      },
      "text/plain": [
       "Predicting: 78it [00:00, ?it/s]"
      ]
     },
     "metadata": {},
     "output_type": "display_data"
    },
    {
     "data": {
      "application/vnd.jupyter.widget-view+json": {
       "model_id": "c11364da9e81451692e413102c23093d",
       "version_major": 2,
       "version_minor": 0
      },
      "text/plain": [
       "Predicting: 78it [00:00, ?it/s]"
      ]
     },
     "metadata": {},
     "output_type": "display_data"
    },
    {
     "data": {
      "application/vnd.jupyter.widget-view+json": {
       "model_id": "0b8efabb033e420e97a017b13ac8c633",
       "version_major": 2,
       "version_minor": 0
      },
      "text/plain": [
       "Predicting: 78it [00:00, ?it/s]"
      ]
     },
     "metadata": {},
     "output_type": "display_data"
    },
    {
     "data": {
      "application/vnd.jupyter.widget-view+json": {
       "model_id": "56195a77776f4d31b37b10d30e8585ac",
       "version_major": 2,
       "version_minor": 0
      },
      "text/plain": [
       "Predicting: 78it [00:00, ?it/s]"
      ]
     },
     "metadata": {},
     "output_type": "display_data"
    },
    {
     "data": {
      "application/vnd.jupyter.widget-view+json": {
       "model_id": "8cc8a22050fb433abe717145cebeb0aa",
       "version_major": 2,
       "version_minor": 0
      },
      "text/plain": [
       "Predicting: 78it [00:00, ?it/s]"
      ]
     },
     "metadata": {},
     "output_type": "display_data"
    },
    {
     "data": {
      "application/vnd.jupyter.widget-view+json": {
       "model_id": "4948be649fb74fa6a0b2c3363fa38839",
       "version_major": 2,
       "version_minor": 0
      },
      "text/plain": [
       "Predicting: 78it [00:00, ?it/s]"
      ]
     },
     "metadata": {},
     "output_type": "display_data"
    },
    {
     "data": {
      "application/vnd.jupyter.widget-view+json": {
       "model_id": "c593cb0152324490a2769c28ae99b537",
       "version_major": 2,
       "version_minor": 0
      },
      "text/plain": [
       "Predicting: 78it [00:00, ?it/s]"
      ]
     },
     "metadata": {},
     "output_type": "display_data"
    },
    {
     "data": {
      "application/vnd.jupyter.widget-view+json": {
       "model_id": "7fb95fd1ae0e4271a7f7bd06da683c85",
       "version_major": 2,
       "version_minor": 0
      },
      "text/plain": [
       "Predicting: 78it [00:00, ?it/s]"
      ]
     },
     "metadata": {},
     "output_type": "display_data"
    },
    {
     "data": {
      "application/vnd.jupyter.widget-view+json": {
       "model_id": "f600a683151b403e93983b8c7d368fe3",
       "version_major": 2,
       "version_minor": 0
      },
      "text/plain": [
       "Predicting: 78it [00:00, ?it/s]"
      ]
     },
     "metadata": {},
     "output_type": "display_data"
    },
    {
     "data": {
      "application/vnd.jupyter.widget-view+json": {
       "model_id": "f6937d3622ea4a83979eeb4bec4c8d5e",
       "version_major": 2,
       "version_minor": 0
      },
      "text/plain": [
       "Predicting: 78it [00:00, ?it/s]"
      ]
     },
     "metadata": {},
     "output_type": "display_data"
    },
    {
     "data": {
      "application/vnd.jupyter.widget-view+json": {
       "model_id": "2b8d5d7102e549c085c81659663ff535",
       "version_major": 2,
       "version_minor": 0
      },
      "text/plain": [
       "Predicting: 78it [00:00, ?it/s]"
      ]
     },
     "metadata": {},
     "output_type": "display_data"
    },
    {
     "data": {
      "application/vnd.jupyter.widget-view+json": {
       "model_id": "c320c619bf6048ec88585d96d3d91d54",
       "version_major": 2,
       "version_minor": 0
      },
      "text/plain": [
       "Predicting: 78it [00:00, ?it/s]"
      ]
     },
     "metadata": {},
     "output_type": "display_data"
    },
    {
     "data": {
      "application/vnd.jupyter.widget-view+json": {
       "model_id": "7aa3da4dafe74b34a2684279578290a3",
       "version_major": 2,
       "version_minor": 0
      },
      "text/plain": [
       "Predicting: 78it [00:00, ?it/s]"
      ]
     },
     "metadata": {},
     "output_type": "display_data"
    },
    {
     "data": {
      "application/vnd.jupyter.widget-view+json": {
       "model_id": "b57873043cf148ed850bf2d7f03aea2c",
       "version_major": 2,
       "version_minor": 0
      },
      "text/plain": [
       "Predicting: 78it [00:00, ?it/s]"
      ]
     },
     "metadata": {},
     "output_type": "display_data"
    },
    {
     "data": {
      "application/vnd.jupyter.widget-view+json": {
       "model_id": "5083f812379043d081dc4e5ceae3e069",
       "version_major": 2,
       "version_minor": 0
      },
      "text/plain": [
       "Predicting: 78it [00:00, ?it/s]"
      ]
     },
     "metadata": {},
     "output_type": "display_data"
    },
    {
     "data": {
      "application/vnd.jupyter.widget-view+json": {
       "model_id": "2b5eeb3e4d9d4e43b9d15b73f7d0041b",
       "version_major": 2,
       "version_minor": 0
      },
      "text/plain": [
       "Predicting: 78it [00:00, ?it/s]"
      ]
     },
     "metadata": {},
     "output_type": "display_data"
    },
    {
     "data": {
      "application/vnd.jupyter.widget-view+json": {
       "model_id": "f57f72a664eb45dfb218f8c6f92d23ab",
       "version_major": 2,
       "version_minor": 0
      },
      "text/plain": [
       "Predicting: 78it [00:00, ?it/s]"
      ]
     },
     "metadata": {},
     "output_type": "display_data"
    },
    {
     "data": {
      "application/vnd.jupyter.widget-view+json": {
       "model_id": "f03fe23db2aa4419a7994892d547b608",
       "version_major": 2,
       "version_minor": 0
      },
      "text/plain": [
       "Predicting: 78it [00:00, ?it/s]"
      ]
     },
     "metadata": {},
     "output_type": "display_data"
    },
    {
     "data": {
      "application/vnd.jupyter.widget-view+json": {
       "model_id": "23c164efa1764209a33f895976878884",
       "version_major": 2,
       "version_minor": 0
      },
      "text/plain": [
       "Predicting: 78it [00:00, ?it/s]"
      ]
     },
     "metadata": {},
     "output_type": "display_data"
    },
    {
     "data": {
      "application/vnd.jupyter.widget-view+json": {
       "model_id": "e79464dc357d4a7f8ae5ec4a3d748879",
       "version_major": 2,
       "version_minor": 0
      },
      "text/plain": [
       "Predicting: 78it [00:00, ?it/s]"
      ]
     },
     "metadata": {},
     "output_type": "display_data"
    },
    {
     "data": {
      "application/vnd.jupyter.widget-view+json": {
       "model_id": "e9abb737ef0041b48a19b17254653c79",
       "version_major": 2,
       "version_minor": 0
      },
      "text/plain": [
       "Predicting: 78it [00:00, ?it/s]"
      ]
     },
     "metadata": {},
     "output_type": "display_data"
    },
    {
     "data": {
      "application/vnd.jupyter.widget-view+json": {
       "model_id": "7b4d6184cabf44909e6e427f43723191",
       "version_major": 2,
       "version_minor": 0
      },
      "text/plain": [
       "Predicting: 78it [00:00, ?it/s]"
      ]
     },
     "metadata": {},
     "output_type": "display_data"
    },
    {
     "data": {
      "application/vnd.jupyter.widget-view+json": {
       "model_id": "133b82d65b9d4af283e9ae7707155573",
       "version_major": 2,
       "version_minor": 0
      },
      "text/plain": [
       "Predicting: 78it [00:00, ?it/s]"
      ]
     },
     "metadata": {},
     "output_type": "display_data"
    },
    {
     "data": {
      "application/vnd.jupyter.widget-view+json": {
       "model_id": "98d502fcb96342ac94f9327c139f18be",
       "version_major": 2,
       "version_minor": 0
      },
      "text/plain": [
       "Predicting: 78it [00:00, ?it/s]"
      ]
     },
     "metadata": {},
     "output_type": "display_data"
    },
    {
     "data": {
      "application/vnd.jupyter.widget-view+json": {
       "model_id": "0ff2d502dafa4b6e9a67a984597fe744",
       "version_major": 2,
       "version_minor": 0
      },
      "text/plain": [
       "Predicting: 78it [00:00, ?it/s]"
      ]
     },
     "metadata": {},
     "output_type": "display_data"
    },
    {
     "data": {
      "application/vnd.jupyter.widget-view+json": {
       "model_id": "a3673fb66ae24867a8a9312154d442d2",
       "version_major": 2,
       "version_minor": 0
      },
      "text/plain": [
       "Predicting: 78it [00:00, ?it/s]"
      ]
     },
     "metadata": {},
     "output_type": "display_data"
    },
    {
     "data": {
      "application/vnd.jupyter.widget-view+json": {
       "model_id": "a5d49248669149128f4875aed7c5f716",
       "version_major": 2,
       "version_minor": 0
      },
      "text/plain": [
       "Predicting: 78it [00:00, ?it/s]"
      ]
     },
     "metadata": {},
     "output_type": "display_data"
    },
    {
     "data": {
      "application/vnd.jupyter.widget-view+json": {
       "model_id": "ac57c62a23e14f9ab5382b91360d674d",
       "version_major": 2,
       "version_minor": 0
      },
      "text/plain": [
       "Predicting: 78it [00:00, ?it/s]"
      ]
     },
     "metadata": {},
     "output_type": "display_data"
    },
    {
     "data": {
      "application/vnd.jupyter.widget-view+json": {
       "model_id": "fc88eed2f94840148d18049f1a1e65dc",
       "version_major": 2,
       "version_minor": 0
      },
      "text/plain": [
       "Predicting: 78it [00:00, ?it/s]"
      ]
     },
     "metadata": {},
     "output_type": "display_data"
    },
    {
     "data": {
      "application/vnd.jupyter.widget-view+json": {
       "model_id": "2e67c4fd0a0c494eb7dac51401fd2ee7",
       "version_major": 2,
       "version_minor": 0
      },
      "text/plain": [
       "Predicting: 78it [00:00, ?it/s]"
      ]
     },
     "metadata": {},
     "output_type": "display_data"
    },
    {
     "data": {
      "application/vnd.jupyter.widget-view+json": {
       "model_id": "125813354b3f4300a3e61b7479cd6b81",
       "version_major": 2,
       "version_minor": 0
      },
      "text/plain": [
       "Predicting: 78it [00:00, ?it/s]"
      ]
     },
     "metadata": {},
     "output_type": "display_data"
    },
    {
     "data": {
      "application/vnd.jupyter.widget-view+json": {
       "model_id": "615b7cb15ecf4c41aa326b9679c56b5d",
       "version_major": 2,
       "version_minor": 0
      },
      "text/plain": [
       "Predicting: 78it [00:00, ?it/s]"
      ]
     },
     "metadata": {},
     "output_type": "display_data"
    },
    {
     "data": {
      "application/vnd.jupyter.widget-view+json": {
       "model_id": "6bf487fc95a04289b1182217a475a0f3",
       "version_major": 2,
       "version_minor": 0
      },
      "text/plain": [
       "Predicting: 78it [00:00, ?it/s]"
      ]
     },
     "metadata": {},
     "output_type": "display_data"
    },
    {
     "data": {
      "application/vnd.jupyter.widget-view+json": {
       "model_id": "4bd5d9bd48a54809bbcd1c49e55c61b7",
       "version_major": 2,
       "version_minor": 0
      },
      "text/plain": [
       "Predicting: 78it [00:00, ?it/s]"
      ]
     },
     "metadata": {},
     "output_type": "display_data"
    },
    {
     "data": {
      "application/vnd.jupyter.widget-view+json": {
       "model_id": "6530f2c29f454a64921d506b705e2c6e",
       "version_major": 2,
       "version_minor": 0
      },
      "text/plain": [
       "Predicting: 78it [00:00, ?it/s]"
      ]
     },
     "metadata": {},
     "output_type": "display_data"
    },
    {
     "data": {
      "application/vnd.jupyter.widget-view+json": {
       "model_id": "30afcab8bb534be58ebf0ed408fea2a7",
       "version_major": 2,
       "version_minor": 0
      },
      "text/plain": [
       "Predicting: 78it [00:00, ?it/s]"
      ]
     },
     "metadata": {},
     "output_type": "display_data"
    },
    {
     "data": {
      "application/vnd.jupyter.widget-view+json": {
       "model_id": "87d00148cfbf4ef2b52ea58c866f4a7f",
       "version_major": 2,
       "version_minor": 0
      },
      "text/plain": [
       "Predicting: 78it [00:00, ?it/s]"
      ]
     },
     "metadata": {},
     "output_type": "display_data"
    },
    {
     "data": {
      "application/vnd.jupyter.widget-view+json": {
       "model_id": "6126afb0990448b9802c633c14e93060",
       "version_major": 2,
       "version_minor": 0
      },
      "text/plain": [
       "Predicting: 78it [00:00, ?it/s]"
      ]
     },
     "metadata": {},
     "output_type": "display_data"
    },
    {
     "data": {
      "application/vnd.jupyter.widget-view+json": {
       "model_id": "123cbeb4ced549cdaf8d4ce4b88f980e",
       "version_major": 2,
       "version_minor": 0
      },
      "text/plain": [
       "Predicting: 78it [00:00, ?it/s]"
      ]
     },
     "metadata": {},
     "output_type": "display_data"
    },
    {
     "data": {
      "application/vnd.jupyter.widget-view+json": {
       "model_id": "64f482cd03564d95a0f5ef647942f149",
       "version_major": 2,
       "version_minor": 0
      },
      "text/plain": [
       "Predicting: 78it [00:00, ?it/s]"
      ]
     },
     "metadata": {},
     "output_type": "display_data"
    },
    {
     "data": {
      "application/vnd.jupyter.widget-view+json": {
       "model_id": "89e015b48bdf4c63aef787fc3cefb657",
       "version_major": 2,
       "version_minor": 0
      },
      "text/plain": [
       "Predicting: 78it [00:00, ?it/s]"
      ]
     },
     "metadata": {},
     "output_type": "display_data"
    },
    {
     "data": {
      "application/vnd.jupyter.widget-view+json": {
       "model_id": "214cf49c17c84e049c3bae7769a58897",
       "version_major": 2,
       "version_minor": 0
      },
      "text/plain": [
       "Predicting: 78it [00:00, ?it/s]"
      ]
     },
     "metadata": {},
     "output_type": "display_data"
    },
    {
     "data": {
      "application/vnd.jupyter.widget-view+json": {
       "model_id": "578d8926151845448f2e4ce413a22682",
       "version_major": 2,
       "version_minor": 0
      },
      "text/plain": [
       "Predicting: 78it [00:00, ?it/s]"
      ]
     },
     "metadata": {},
     "output_type": "display_data"
    },
    {
     "data": {
      "application/vnd.jupyter.widget-view+json": {
       "model_id": "caa8ebc34d44479e8604ac226fe27734",
       "version_major": 2,
       "version_minor": 0
      },
      "text/plain": [
       "Predicting: 78it [00:00, ?it/s]"
      ]
     },
     "metadata": {},
     "output_type": "display_data"
    },
    {
     "data": {
      "application/vnd.jupyter.widget-view+json": {
       "model_id": "5b89feb4dff94063804f923db2151837",
       "version_major": 2,
       "version_minor": 0
      },
      "text/plain": [
       "Predicting: 78it [00:00, ?it/s]"
      ]
     },
     "metadata": {},
     "output_type": "display_data"
    },
    {
     "data": {
      "application/vnd.jupyter.widget-view+json": {
       "model_id": "da4eaf9db070460bb4e45650da65f51a",
       "version_major": 2,
       "version_minor": 0
      },
      "text/plain": [
       "Predicting: 78it [00:00, ?it/s]"
      ]
     },
     "metadata": {},
     "output_type": "display_data"
    },
    {
     "data": {
      "application/vnd.jupyter.widget-view+json": {
       "model_id": "d153c56f43214e2c956c78dea7bf90fa",
       "version_major": 2,
       "version_minor": 0
      },
      "text/plain": [
       "Predicting: 78it [00:00, ?it/s]"
      ]
     },
     "metadata": {},
     "output_type": "display_data"
    },
    {
     "data": {
      "application/vnd.jupyter.widget-view+json": {
       "model_id": "392cfabc52b447f78595e8664874fed2",
       "version_major": 2,
       "version_minor": 0
      },
      "text/plain": [
       "Predicting: 78it [00:00, ?it/s]"
      ]
     },
     "metadata": {},
     "output_type": "display_data"
    },
    {
     "data": {
      "application/vnd.jupyter.widget-view+json": {
       "model_id": "580ed601ef384cf096a3e034ebd61d8e",
       "version_major": 2,
       "version_minor": 0
      },
      "text/plain": [
       "Predicting: 78it [00:00, ?it/s]"
      ]
     },
     "metadata": {},
     "output_type": "display_data"
    },
    {
     "data": {
      "application/vnd.jupyter.widget-view+json": {
       "model_id": "467c3cdcab3741cfa73549fd6c3537a0",
       "version_major": 2,
       "version_minor": 0
      },
      "text/plain": [
       "Predicting: 78it [00:00, ?it/s]"
      ]
     },
     "metadata": {},
     "output_type": "display_data"
    },
    {
     "data": {
      "application/vnd.jupyter.widget-view+json": {
       "model_id": "a94721b271364d40b8201e77a4e8336a",
       "version_major": 2,
       "version_minor": 0
      },
      "text/plain": [
       "Predicting: 78it [00:00, ?it/s]"
      ]
     },
     "metadata": {},
     "output_type": "display_data"
    },
    {
     "data": {
      "application/vnd.jupyter.widget-view+json": {
       "model_id": "193df56f68014694b8d5124b669319b8",
       "version_major": 2,
       "version_minor": 0
      },
      "text/plain": [
       "Predicting: 78it [00:00, ?it/s]"
      ]
     },
     "metadata": {},
     "output_type": "display_data"
    },
    {
     "data": {
      "application/vnd.jupyter.widget-view+json": {
       "model_id": "aadfd180791342629f1a51a018c2287c",
       "version_major": 2,
       "version_minor": 0
      },
      "text/plain": [
       "Predicting: 78it [00:00, ?it/s]"
      ]
     },
     "metadata": {},
     "output_type": "display_data"
    },
    {
     "data": {
      "application/vnd.jupyter.widget-view+json": {
       "model_id": "c106b34cca1940e88bbbc781e311637c",
       "version_major": 2,
       "version_minor": 0
      },
      "text/plain": [
       "Predicting: 78it [00:00, ?it/s]"
      ]
     },
     "metadata": {},
     "output_type": "display_data"
    },
    {
     "data": {
      "application/vnd.jupyter.widget-view+json": {
       "model_id": "69d94615c98e406fb97c6b117a23595c",
       "version_major": 2,
       "version_minor": 0
      },
      "text/plain": [
       "Predicting: 78it [00:00, ?it/s]"
      ]
     },
     "metadata": {},
     "output_type": "display_data"
    },
    {
     "data": {
      "application/vnd.jupyter.widget-view+json": {
       "model_id": "fb7fccf611a44d3a913e5814cb6fc7e3",
       "version_major": 2,
       "version_minor": 0
      },
      "text/plain": [
       "Predicting: 78it [00:00, ?it/s]"
      ]
     },
     "metadata": {},
     "output_type": "display_data"
    },
    {
     "data": {
      "application/vnd.jupyter.widget-view+json": {
       "model_id": "47bc9ae2290f4cabb9cda315960047c6",
       "version_major": 2,
       "version_minor": 0
      },
      "text/plain": [
       "Predicting: 78it [00:00, ?it/s]"
      ]
     },
     "metadata": {},
     "output_type": "display_data"
    },
    {
     "data": {
      "application/vnd.jupyter.widget-view+json": {
       "model_id": "c998e9cc475f403a9e0fbfb4af4b784a",
       "version_major": 2,
       "version_minor": 0
      },
      "text/plain": [
       "Predicting: 78it [00:00, ?it/s]"
      ]
     },
     "metadata": {},
     "output_type": "display_data"
    },
    {
     "data": {
      "application/vnd.jupyter.widget-view+json": {
       "model_id": "a65a2a9d21a04d63a9db381fcd8e5763",
       "version_major": 2,
       "version_minor": 0
      },
      "text/plain": [
       "Predicting: 78it [00:00, ?it/s]"
      ]
     },
     "metadata": {},
     "output_type": "display_data"
    },
    {
     "data": {
      "application/vnd.jupyter.widget-view+json": {
       "model_id": "6af96c78f90b47ceab8d202a1f88fa75",
       "version_major": 2,
       "version_minor": 0
      },
      "text/plain": [
       "Predicting: 78it [00:00, ?it/s]"
      ]
     },
     "metadata": {},
     "output_type": "display_data"
    },
    {
     "data": {
      "application/vnd.jupyter.widget-view+json": {
       "model_id": "7ecc97ca7bf04ccd8d977ff9d4518642",
       "version_major": 2,
       "version_minor": 0
      },
      "text/plain": [
       "Predicting: 78it [00:00, ?it/s]"
      ]
     },
     "metadata": {},
     "output_type": "display_data"
    },
    {
     "data": {
      "application/vnd.jupyter.widget-view+json": {
       "model_id": "7df471ca75db45a3947ea4c85087ca62",
       "version_major": 2,
       "version_minor": 0
      },
      "text/plain": [
       "Predicting: 78it [00:00, ?it/s]"
      ]
     },
     "metadata": {},
     "output_type": "display_data"
    },
    {
     "data": {
      "application/vnd.jupyter.widget-view+json": {
       "model_id": "38f0e94aa0f647afb5727b0b8c2cdb86",
       "version_major": 2,
       "version_minor": 0
      },
      "text/plain": [
       "Predicting: 78it [00:00, ?it/s]"
      ]
     },
     "metadata": {},
     "output_type": "display_data"
    },
    {
     "data": {
      "application/vnd.jupyter.widget-view+json": {
       "model_id": "89bd7ac565b64ec69411568b53c83ce7",
       "version_major": 2,
       "version_minor": 0
      },
      "text/plain": [
       "Predicting: 78it [00:00, ?it/s]"
      ]
     },
     "metadata": {},
     "output_type": "display_data"
    },
    {
     "data": {
      "application/vnd.jupyter.widget-view+json": {
       "model_id": "38e78aa0907e4070bfc2f4c4a5c39c79",
       "version_major": 2,
       "version_minor": 0
      },
      "text/plain": [
       "Predicting: 78it [00:00, ?it/s]"
      ]
     },
     "metadata": {},
     "output_type": "display_data"
    },
    {
     "data": {
      "application/vnd.jupyter.widget-view+json": {
       "model_id": "e8dfad08b6fd4265955152c3fd18998f",
       "version_major": 2,
       "version_minor": 0
      },
      "text/plain": [
       "Predicting: 78it [00:00, ?it/s]"
      ]
     },
     "metadata": {},
     "output_type": "display_data"
    },
    {
     "data": {
      "application/vnd.jupyter.widget-view+json": {
       "model_id": "72e414ec090f4ab19a90f69e95bd1d8c",
       "version_major": 2,
       "version_minor": 0
      },
      "text/plain": [
       "Predicting: 78it [00:00, ?it/s]"
      ]
     },
     "metadata": {},
     "output_type": "display_data"
    },
    {
     "data": {
      "application/vnd.jupyter.widget-view+json": {
       "model_id": "c04242692703469ca3cf60029e85f8c6",
       "version_major": 2,
       "version_minor": 0
      },
      "text/plain": [
       "Predicting: 78it [00:00, ?it/s]"
      ]
     },
     "metadata": {},
     "output_type": "display_data"
    },
    {
     "data": {
      "application/vnd.jupyter.widget-view+json": {
       "model_id": "38e03ce142ba422494c44f8cebb176a6",
       "version_major": 2,
       "version_minor": 0
      },
      "text/plain": [
       "Predicting: 78it [00:00, ?it/s]"
      ]
     },
     "metadata": {},
     "output_type": "display_data"
    },
    {
     "data": {
      "application/vnd.jupyter.widget-view+json": {
       "model_id": "59f8f2f5ea2f45089fe2f5e4d580849b",
       "version_major": 2,
       "version_minor": 0
      },
      "text/plain": [
       "Predicting: 78it [00:00, ?it/s]"
      ]
     },
     "metadata": {},
     "output_type": "display_data"
    },
    {
     "data": {
      "application/vnd.jupyter.widget-view+json": {
       "model_id": "fa929cf675fe4a999d56dea71629aba0",
       "version_major": 2,
       "version_minor": 0
      },
      "text/plain": [
       "Predicting: 78it [00:00, ?it/s]"
      ]
     },
     "metadata": {},
     "output_type": "display_data"
    },
    {
     "data": {
      "application/vnd.jupyter.widget-view+json": {
       "model_id": "24169795b70940ef8f8dfac153639a11",
       "version_major": 2,
       "version_minor": 0
      },
      "text/plain": [
       "Predicting: 78it [00:00, ?it/s]"
      ]
     },
     "metadata": {},
     "output_type": "display_data"
    },
    {
     "data": {
      "application/vnd.jupyter.widget-view+json": {
       "model_id": "5c12024ecd634a0cb39022a3e7a410a7",
       "version_major": 2,
       "version_minor": 0
      },
      "text/plain": [
       "Predicting: 78it [00:00, ?it/s]"
      ]
     },
     "metadata": {},
     "output_type": "display_data"
    },
    {
     "data": {
      "application/vnd.jupyter.widget-view+json": {
       "model_id": "89be7a196a1b481ea7cdf68508c23cb1",
       "version_major": 2,
       "version_minor": 0
      },
      "text/plain": [
       "Predicting: 78it [00:00, ?it/s]"
      ]
     },
     "metadata": {},
     "output_type": "display_data"
    },
    {
     "data": {
      "application/vnd.jupyter.widget-view+json": {
       "model_id": "2f03f438ffc84fe485483f4cdc51df73",
       "version_major": 2,
       "version_minor": 0
      },
      "text/plain": [
       "Predicting: 78it [00:00, ?it/s]"
      ]
     },
     "metadata": {},
     "output_type": "display_data"
    },
    {
     "data": {
      "application/vnd.jupyter.widget-view+json": {
       "model_id": "bc07a815d8b14ac29de65d0cca59e14d",
       "version_major": 2,
       "version_minor": 0
      },
      "text/plain": [
       "Predicting: 78it [00:00, ?it/s]"
      ]
     },
     "metadata": {},
     "output_type": "display_data"
    },
    {
     "data": {
      "application/vnd.jupyter.widget-view+json": {
       "model_id": "8e1d70254f7d4eec9799f0365c9f0815",
       "version_major": 2,
       "version_minor": 0
      },
      "text/plain": [
       "Predicting: 78it [00:00, ?it/s]"
      ]
     },
     "metadata": {},
     "output_type": "display_data"
    },
    {
     "data": {
      "application/vnd.jupyter.widget-view+json": {
       "model_id": "5edf3acb569149bfb94f90e1dbf790bc",
       "version_major": 2,
       "version_minor": 0
      },
      "text/plain": [
       "Predicting: 78it [00:00, ?it/s]"
      ]
     },
     "metadata": {},
     "output_type": "display_data"
    },
    {
     "data": {
      "application/vnd.jupyter.widget-view+json": {
       "model_id": "f0509555d77148ca902317c3a4908cdc",
       "version_major": 2,
       "version_minor": 0
      },
      "text/plain": [
       "Predicting: 78it [00:00, ?it/s]"
      ]
     },
     "metadata": {},
     "output_type": "display_data"
    },
    {
     "data": {
      "application/vnd.jupyter.widget-view+json": {
       "model_id": "ec6e5291a349426180e05c1c799074cd",
       "version_major": 2,
       "version_minor": 0
      },
      "text/plain": [
       "Predicting: 78it [00:00, ?it/s]"
      ]
     },
     "metadata": {},
     "output_type": "display_data"
    },
    {
     "data": {
      "application/vnd.jupyter.widget-view+json": {
       "model_id": "7f766cfbe1c64cd0b9f0d5745615f895",
       "version_major": 2,
       "version_minor": 0
      },
      "text/plain": [
       "Predicting: 78it [00:00, ?it/s]"
      ]
     },
     "metadata": {},
     "output_type": "display_data"
    },
    {
     "data": {
      "application/vnd.jupyter.widget-view+json": {
       "model_id": "3cd66728a941463687b4e8e1fe221614",
       "version_major": 2,
       "version_minor": 0
      },
      "text/plain": [
       "Predicting: 78it [00:00, ?it/s]"
      ]
     },
     "metadata": {},
     "output_type": "display_data"
    },
    {
     "data": {
      "application/vnd.jupyter.widget-view+json": {
       "model_id": "32879897f7d74bc48768b232b3fa44ff",
       "version_major": 2,
       "version_minor": 0
      },
      "text/plain": [
       "Predicting: 78it [00:00, ?it/s]"
      ]
     },
     "metadata": {},
     "output_type": "display_data"
    },
    {
     "data": {
      "application/vnd.jupyter.widget-view+json": {
       "model_id": "f1cc5ea285c84bfb9bbc52981b915a22",
       "version_major": 2,
       "version_minor": 0
      },
      "text/plain": [
       "Predicting: 78it [00:00, ?it/s]"
      ]
     },
     "metadata": {},
     "output_type": "display_data"
    },
    {
     "data": {
      "application/vnd.jupyter.widget-view+json": {
       "model_id": "71f86d0dff8c417fa5c872f80511cc68",
       "version_major": 2,
       "version_minor": 0
      },
      "text/plain": [
       "Predicting: 78it [00:00, ?it/s]"
      ]
     },
     "metadata": {},
     "output_type": "display_data"
    },
    {
     "data": {
      "application/vnd.jupyter.widget-view+json": {
       "model_id": "ad84357e34b44484931885933772d521",
       "version_major": 2,
       "version_minor": 0
      },
      "text/plain": [
       "Predicting: 78it [00:00, ?it/s]"
      ]
     },
     "metadata": {},
     "output_type": "display_data"
    },
    {
     "data": {
      "application/vnd.jupyter.widget-view+json": {
       "model_id": "b3714094428d4461a7044aad82cd6e46",
       "version_major": 2,
       "version_minor": 0
      },
      "text/plain": [
       "Predicting: 78it [00:00, ?it/s]"
      ]
     },
     "metadata": {},
     "output_type": "display_data"
    },
    {
     "data": {
      "application/vnd.jupyter.widget-view+json": {
       "model_id": "ae84594d6052453484cf1b7c30c4b0e9",
       "version_major": 2,
       "version_minor": 0
      },
      "text/plain": [
       "Predicting: 78it [00:00, ?it/s]"
      ]
     },
     "metadata": {},
     "output_type": "display_data"
    },
    {
     "data": {
      "application/vnd.jupyter.widget-view+json": {
       "model_id": "e5830877389141e4a32657930c2504cd",
       "version_major": 2,
       "version_minor": 0
      },
      "text/plain": [
       "Predicting: 78it [00:00, ?it/s]"
      ]
     },
     "metadata": {},
     "output_type": "display_data"
    },
    {
     "data": {
      "application/vnd.jupyter.widget-view+json": {
       "model_id": "66cc59ea53d54dd99e0e270c89757596",
       "version_major": 2,
       "version_minor": 0
      },
      "text/plain": [
       "Predicting: 78it [00:00, ?it/s]"
      ]
     },
     "metadata": {},
     "output_type": "display_data"
    },
    {
     "data": {
      "application/vnd.jupyter.widget-view+json": {
       "model_id": "b583fa8992c84063be6e4c75e5420022",
       "version_major": 2,
       "version_minor": 0
      },
      "text/plain": [
       "Predicting: 78it [00:00, ?it/s]"
      ]
     },
     "metadata": {},
     "output_type": "display_data"
    },
    {
     "data": {
      "application/vnd.jupyter.widget-view+json": {
       "model_id": "42c0a6772a3247e7bb11ed259e0861ad",
       "version_major": 2,
       "version_minor": 0
      },
      "text/plain": [
       "Predicting: 78it [00:00, ?it/s]"
      ]
     },
     "metadata": {},
     "output_type": "display_data"
    },
    {
     "data": {
      "application/vnd.jupyter.widget-view+json": {
       "model_id": "0456949c77c94c16a28aa8000d731462",
       "version_major": 2,
       "version_minor": 0
      },
      "text/plain": [
       "Predicting: 78it [00:00, ?it/s]"
      ]
     },
     "metadata": {},
     "output_type": "display_data"
    },
    {
     "data": {
      "application/vnd.jupyter.widget-view+json": {
       "model_id": "d149114e78294f1ab9c7e75e6e588ec8",
       "version_major": 2,
       "version_minor": 0
      },
      "text/plain": [
       "Predicting: 78it [00:00, ?it/s]"
      ]
     },
     "metadata": {},
     "output_type": "display_data"
    },
    {
     "data": {
      "application/vnd.jupyter.widget-view+json": {
       "model_id": "e9a8a350d2e947bf8c83f5d506cc6b9f",
       "version_major": 2,
       "version_minor": 0
      },
      "text/plain": [
       "Predicting: 78it [00:00, ?it/s]"
      ]
     },
     "metadata": {},
     "output_type": "display_data"
    },
    {
     "data": {
      "application/vnd.jupyter.widget-view+json": {
       "model_id": "0510d2d19623407c94d2e50b0dd2afe3",
       "version_major": 2,
       "version_minor": 0
      },
      "text/plain": [
       "Predicting: 78it [00:00, ?it/s]"
      ]
     },
     "metadata": {},
     "output_type": "display_data"
    },
    {
     "data": {
      "application/vnd.jupyter.widget-view+json": {
       "model_id": "05e540386b604daa8048254d60afb711",
       "version_major": 2,
       "version_minor": 0
      },
      "text/plain": [
       "Predicting: 78it [00:00, ?it/s]"
      ]
     },
     "metadata": {},
     "output_type": "display_data"
    },
    {
     "data": {
      "application/vnd.jupyter.widget-view+json": {
       "model_id": "462ae275b5c04f2385f6cd7f2e9a5b5c",
       "version_major": 2,
       "version_minor": 0
      },
      "text/plain": [
       "Predicting: 78it [00:00, ?it/s]"
      ]
     },
     "metadata": {},
     "output_type": "display_data"
    },
    {
     "data": {
      "application/vnd.jupyter.widget-view+json": {
       "model_id": "49561e14ca53470caba8354121f9c36d",
       "version_major": 2,
       "version_minor": 0
      },
      "text/plain": [
       "Predicting: 78it [00:00, ?it/s]"
      ]
     },
     "metadata": {},
     "output_type": "display_data"
    },
    {
     "data": {
      "application/vnd.jupyter.widget-view+json": {
       "model_id": "83bb4c5b295b4579aaf8ce9ca2e9b2f9",
       "version_major": 2,
       "version_minor": 0
      },
      "text/plain": [
       "Predicting: 78it [00:00, ?it/s]"
      ]
     },
     "metadata": {},
     "output_type": "display_data"
    },
    {
     "data": {
      "application/vnd.jupyter.widget-view+json": {
       "model_id": "5682b4078aee42a6ad08025e753de727",
       "version_major": 2,
       "version_minor": 0
      },
      "text/plain": [
       "Predicting: 78it [00:00, ?it/s]"
      ]
     },
     "metadata": {},
     "output_type": "display_data"
    },
    {
     "data": {
      "application/vnd.jupyter.widget-view+json": {
       "model_id": "d59877a926a84b62995af46436a019c5",
       "version_major": 2,
       "version_minor": 0
      },
      "text/plain": [
       "Predicting: 78it [00:00, ?it/s]"
      ]
     },
     "metadata": {},
     "output_type": "display_data"
    },
    {
     "data": {
      "application/vnd.jupyter.widget-view+json": {
       "model_id": "84e5b39d4dd04075afc83938e592a2ae",
       "version_major": 2,
       "version_minor": 0
      },
      "text/plain": [
       "Predicting: 78it [00:00, ?it/s]"
      ]
     },
     "metadata": {},
     "output_type": "display_data"
    },
    {
     "data": {
      "application/vnd.jupyter.widget-view+json": {
       "model_id": "fee4455921054b32aad67c88147b0bc1",
       "version_major": 2,
       "version_minor": 0
      },
      "text/plain": [
       "Predicting: 78it [00:00, ?it/s]"
      ]
     },
     "metadata": {},
     "output_type": "display_data"
    },
    {
     "data": {
      "application/vnd.jupyter.widget-view+json": {
       "model_id": "17c955c9affb4a95a8c3671f638fdfbb",
       "version_major": 2,
       "version_minor": 0
      },
      "text/plain": [
       "Predicting: 78it [00:00, ?it/s]"
      ]
     },
     "metadata": {},
     "output_type": "display_data"
    },
    {
     "data": {
      "application/vnd.jupyter.widget-view+json": {
       "model_id": "0fb3a31534a54c7ab5acd18065c018c2",
       "version_major": 2,
       "version_minor": 0
      },
      "text/plain": [
       "Predicting: 78it [00:00, ?it/s]"
      ]
     },
     "metadata": {},
     "output_type": "display_data"
    },
    {
     "data": {
      "application/vnd.jupyter.widget-view+json": {
       "model_id": "45dba24723474243bd3d779997b21984",
       "version_major": 2,
       "version_minor": 0
      },
      "text/plain": [
       "Predicting: 78it [00:00, ?it/s]"
      ]
     },
     "metadata": {},
     "output_type": "display_data"
    },
    {
     "data": {
      "application/vnd.jupyter.widget-view+json": {
       "model_id": "6c606c1ca8884d50b264da96d6f3b46b",
       "version_major": 2,
       "version_minor": 0
      },
      "text/plain": [
       "Predicting: 78it [00:00, ?it/s]"
      ]
     },
     "metadata": {},
     "output_type": "display_data"
    },
    {
     "data": {
      "application/vnd.jupyter.widget-view+json": {
       "model_id": "b7cb99c6e7e74d98931b6c4b7ade807f",
       "version_major": 2,
       "version_minor": 0
      },
      "text/plain": [
       "Predicting: 78it [00:00, ?it/s]"
      ]
     },
     "metadata": {},
     "output_type": "display_data"
    },
    {
     "data": {
      "application/vnd.jupyter.widget-view+json": {
       "model_id": "02bd2818f4294731b17ccdce3cd6dd15",
       "version_major": 2,
       "version_minor": 0
      },
      "text/plain": [
       "Predicting: 78it [00:00, ?it/s]"
      ]
     },
     "metadata": {},
     "output_type": "display_data"
    },
    {
     "data": {
      "application/vnd.jupyter.widget-view+json": {
       "model_id": "4e8632c71913496da646616a10477c9a",
       "version_major": 2,
       "version_minor": 0
      },
      "text/plain": [
       "Predicting: 78it [00:00, ?it/s]"
      ]
     },
     "metadata": {},
     "output_type": "display_data"
    },
    {
     "data": {
      "application/vnd.jupyter.widget-view+json": {
       "model_id": "63350383e89a4d0fa973f7f112deac03",
       "version_major": 2,
       "version_minor": 0
      },
      "text/plain": [
       "Predicting: 78it [00:00, ?it/s]"
      ]
     },
     "metadata": {},
     "output_type": "display_data"
    },
    {
     "data": {
      "application/vnd.jupyter.widget-view+json": {
       "model_id": "751472baf229481b9c75cf8a66b92b29",
       "version_major": 2,
       "version_minor": 0
      },
      "text/plain": [
       "Predicting: 78it [00:00, ?it/s]"
      ]
     },
     "metadata": {},
     "output_type": "display_data"
    },
    {
     "data": {
      "application/vnd.jupyter.widget-view+json": {
       "model_id": "50a09710e1d949538f429c70a497064b",
       "version_major": 2,
       "version_minor": 0
      },
      "text/plain": [
       "Predicting: 78it [00:00, ?it/s]"
      ]
     },
     "metadata": {},
     "output_type": "display_data"
    },
    {
     "data": {
      "application/vnd.jupyter.widget-view+json": {
       "model_id": "634d3644175d4a18b08108df5c5395fe",
       "version_major": 2,
       "version_minor": 0
      },
      "text/plain": [
       "Predicting: 78it [00:00, ?it/s]"
      ]
     },
     "metadata": {},
     "output_type": "display_data"
    },
    {
     "data": {
      "application/vnd.jupyter.widget-view+json": {
       "model_id": "bee46eb016924e838295c3161d1c0b1e",
       "version_major": 2,
       "version_minor": 0
      },
      "text/plain": [
       "Predicting: 78it [00:00, ?it/s]"
      ]
     },
     "metadata": {},
     "output_type": "display_data"
    },
    {
     "data": {
      "application/vnd.jupyter.widget-view+json": {
       "model_id": "7d6e8a34e94f4a84972d37ab677a47cb",
       "version_major": 2,
       "version_minor": 0
      },
      "text/plain": [
       "Predicting: 78it [00:00, ?it/s]"
      ]
     },
     "metadata": {},
     "output_type": "display_data"
    },
    {
     "data": {
      "application/vnd.jupyter.widget-view+json": {
       "model_id": "3d16631d3cc8458aadea1ff84a5cdbf6",
       "version_major": 2,
       "version_minor": 0
      },
      "text/plain": [
       "Predicting: 78it [00:00, ?it/s]"
      ]
     },
     "metadata": {},
     "output_type": "display_data"
    },
    {
     "data": {
      "application/vnd.jupyter.widget-view+json": {
       "model_id": "f4f06b0aa9454f75bdf9a1dfdfc49d52",
       "version_major": 2,
       "version_minor": 0
      },
      "text/plain": [
       "Predicting: 78it [00:00, ?it/s]"
      ]
     },
     "metadata": {},
     "output_type": "display_data"
    },
    {
     "data": {
      "application/vnd.jupyter.widget-view+json": {
       "model_id": "4b95ae9b859940cbaf0794e25db1e002",
       "version_major": 2,
       "version_minor": 0
      },
      "text/plain": [
       "Predicting: 78it [00:00, ?it/s]"
      ]
     },
     "metadata": {},
     "output_type": "display_data"
    },
    {
     "data": {
      "application/vnd.jupyter.widget-view+json": {
       "model_id": "6c7e5497dc664ac695b913b3d58ad2b8",
       "version_major": 2,
       "version_minor": 0
      },
      "text/plain": [
       "Predicting: 78it [00:00, ?it/s]"
      ]
     },
     "metadata": {},
     "output_type": "display_data"
    },
    {
     "data": {
      "application/vnd.jupyter.widget-view+json": {
       "model_id": "f25cd561b82e4d43be759724a8815cae",
       "version_major": 2,
       "version_minor": 0
      },
      "text/plain": [
       "Predicting: 78it [00:00, ?it/s]"
      ]
     },
     "metadata": {},
     "output_type": "display_data"
    },
    {
     "data": {
      "application/vnd.jupyter.widget-view+json": {
       "model_id": "c93078283af94266afde4c397eede384",
       "version_major": 2,
       "version_minor": 0
      },
      "text/plain": [
       "Predicting: 78it [00:00, ?it/s]"
      ]
     },
     "metadata": {},
     "output_type": "display_data"
    },
    {
     "data": {
      "application/vnd.jupyter.widget-view+json": {
       "model_id": "180e5c77ca4d453bbbf9422b33fbe2b4",
       "version_major": 2,
       "version_minor": 0
      },
      "text/plain": [
       "Predicting: 78it [00:00, ?it/s]"
      ]
     },
     "metadata": {},
     "output_type": "display_data"
    },
    {
     "data": {
      "application/vnd.jupyter.widget-view+json": {
       "model_id": "23441d2e9e174498b7ae9b9f9e18827c",
       "version_major": 2,
       "version_minor": 0
      },
      "text/plain": [
       "Predicting: 78it [00:00, ?it/s]"
      ]
     },
     "metadata": {},
     "output_type": "display_data"
    },
    {
     "data": {
      "application/vnd.jupyter.widget-view+json": {
       "model_id": "b4ddafb4a86345bb90563a24f7d19d1d",
       "version_major": 2,
       "version_minor": 0
      },
      "text/plain": [
       "Predicting: 78it [00:00, ?it/s]"
      ]
     },
     "metadata": {},
     "output_type": "display_data"
    },
    {
     "data": {
      "application/vnd.jupyter.widget-view+json": {
       "model_id": "3b9c636156904bd6b93dfd5f6bdcc7a5",
       "version_major": 2,
       "version_minor": 0
      },
      "text/plain": [
       "Predicting: 78it [00:00, ?it/s]"
      ]
     },
     "metadata": {},
     "output_type": "display_data"
    },
    {
     "data": {
      "application/vnd.jupyter.widget-view+json": {
       "model_id": "650d08628e4c47c9bf2abc0bb2192905",
       "version_major": 2,
       "version_minor": 0
      },
      "text/plain": [
       "Predicting: 78it [00:00, ?it/s]"
      ]
     },
     "metadata": {},
     "output_type": "display_data"
    },
    {
     "data": {
      "application/vnd.jupyter.widget-view+json": {
       "model_id": "e4200c308d324397b984cd8175470707",
       "version_major": 2,
       "version_minor": 0
      },
      "text/plain": [
       "Predicting: 78it [00:00, ?it/s]"
      ]
     },
     "metadata": {},
     "output_type": "display_data"
    }
   ],
   "source": [
    "backtests = model.historical_forecasts(test,\n",
    "                                       # past_covariates=covariates,\n",
    "                                       num_samples=100,\n",
    "                                       start=.5,\n",
    "                                       retrain=False,\n",
    "                                       forecast_horizon=n,\n",
    "                                       stride=1,\n",
    "                                       verbose=True\n",
    "                                      )\n"
   ]
  },
  {
   "cell_type": "code",
   "execution_count": 19,
   "metadata": {},
   "outputs": [
    {
     "data": {
      "text/plain": [
       "<matplotlib.legend.Legend at 0x7f873a5ad9d0>"
      ]
     },
     "execution_count": 19,
     "metadata": {},
     "output_type": "execute_result"
    },
    {
     "data": {
      "image/png": "[encoded data removed]",
      "text/plain": [
       "<Figure size 1080x432 with 1 Axes>"
      ]
     },
     "metadata": {
      "needs_background": "light"
     },
     "output_type": "display_data"
    }
   ],
   "source": [
    "plt.rcParams.update({'font.size': 15})\n",
    "# backtests = scaler.inverse_transform(backtests)\n",
    "\n",
    "fig,ax = plt.subplots(figsize=(15,6))\n",
    "test['GPP_SOLO'].plot(ax=ax, lw=2, label='Observations')\n",
    "\n",
    "err = mape(backtests[['GPP_SOLO']], test[['GPP_SOLO']])\n",
    "\n",
    "backtests['GPP_SOLO'].plot(ax=ax, lw=2, label='{}, MAPE={:.2f} %'.format('Forecast', err), low_quantile=.05, high_quantile=0.95)\n",
    "plt.ylabel(var_names[0]+' gC/m2/week')\n",
    "plt.xlabel('')\n",
    "# plt.title('Backtests with 12-week forecast horizon')\n",
    "# plt.axvline(pd.Timestamp(test[idx].data_array().time.values[0]), color='red', linestyle='--')\n",
    "plt.legend()"
   ]
  },
  {
   "cell_type": "markdown",
   "metadata": {},
   "source": [
    "## Forecast the future"
   ]
  },
  {
   "cell_type": "code",
   "execution_count": 21,
   "metadata": {},
   "outputs": [
    {
     "data": {
      "application/vnd.jupyter.widget-view+json": {
       "model_id": "da8a958cbf954ba890a68d6b74b4cee5",
       "version_major": 2,
       "version_minor": 0
      },
      "text/plain": [
       "Predicting: 78it [00:00, ?it/s]"
      ]
     },
     "metadata": {},
     "output_type": "display_data"
    },
    {
     "data": {
      "application/vnd.jupyter.widget-view+json": {
       "model_id": "1b41ac3cdca24b4da45961bb417122e0",
       "version_major": 2,
       "version_minor": 0
      },
      "text/plain": [
       "Predicting: 78it [00:00, ?it/s]"
      ]
     },
     "metadata": {},
     "output_type": "display_data"
    },
    {
     "data": {
      "application/vnd.jupyter.widget-view+json": {
       "model_id": "5918be853ff14f158578cbcc97dea49d",
       "version_major": 2,
       "version_minor": 0
      },
      "text/plain": [
       "Predicting: 78it [00:00, ?it/s]"
      ]
     },
     "metadata": {},
     "output_type": "display_data"
    },
    {
     "data": {
      "application/vnd.jupyter.widget-view+json": {
       "model_id": "95364e7fc6d94793a6272eeaf4610a55",
       "version_major": 2,
       "version_minor": 0
      },
      "text/plain": [
       "Predicting: 78it [00:00, ?it/s]"
      ]
     },
     "metadata": {},
     "output_type": "display_data"
    },
    {
     "data": {
      "image/png": "[encoded data removed]",
      "text/plain": [
       "<Figure size 864x360 with 1 Axes>"
      ]
     },
     "metadata": {
      "needs_background": "light"
     },
     "output_type": "display_data"
    },
    {
     "data": {
      "image/png": "[encoded data removed]",
      "text/plain": [
       "<Figure size 864x360 with 1 Axes>"
      ]
     },
     "metadata": {
      "needs_background": "light"
     },
     "output_type": "display_data"
    },
    {
     "data": {
      "image/png": "[encoded data removed]",
      "text/plain": [
       "<Figure size 864x360 with 1 Axes>"
      ]
     },
     "metadata": {
      "needs_background": "light"
     },
     "output_type": "display_data"
    },
    {
     "data": {
      "image/png": "[encoded data removed]",
      "text/plain": [
       "<Figure size 864x360 with 1 Axes>"
      ]
     },
     "metadata": {
      "needs_background": "light"
     },
     "output_type": "display_data"
    }
   ],
   "source": [
    "#refit the model on all the data\n",
    "fig, axes = plt.subsplots(2,2):\n",
    "\n",
    "for t, ax in zip(series_all):\n",
    "    #model.fit(t) # past_covariates=covariates\n",
    "\n",
    "    #forecast the future\n",
    "    pred = model.predict(n=n,\n",
    "                         series=t,\n",
    "                         num_samples=100\n",
    "                        )\n",
    "    \n",
    "    #pred_r = scaler.inverse_transform(pred)\n",
    "    fig,ax = plt.subplots(figsize=(12,5))\n",
    "    t['GPP_SOLO'].plot(ax=ax, label='actual')\n",
    "    pred['GPP_SOLO'].plot(ax=ax, label='forecast', lw=3)\n",
    "    plt.legend()"
   ]
  },
  {
   "cell_type": "code",
   "execution_count": null,
   "metadata": {
    "tags": []
   },
   "outputs": [],
   "source": [
    "'"
   ]
  },
  {
   "cell_type": "code",
   "execution_count": 25,
   "metadata": {},
   "outputs": [],
   "source": [
    "ds = xr.open_dataset('https://dap.tern.org.au/thredds/dodsC/ecosystem_process/ozflux/'+'Gingin/2022_v1/L6/default/Gingin_L6_20111013_20201231_Daily.nc')\n",
    "ds['GPP_SOLO'] = xr.where(ds.GPP_SOLO < 0, 0, ds.GPP_SOLO)  #Set negative GPP, ER, and ET measurements as zero\n",
    "ds['ER_SOLO'] = xr.where(ds.ER_SOLO < 0, 0, ds.ER_SOLO)  #Set negative GPP, ER, and ET measurements as zero\n",
    "ds['ET'] = xr.where(ds.ET < 0, 0, ds.ET)  #Set negative GPP, ER, and ET measurements as zero\n",
    "ds['VPD'] = VPD(ds.RH, ds.Ta)\n",
    "ds = ds[var]\n",
    "\n",
    "# anomalization\n",
    "# ds_clim_mean = ds.groupby('time.month').mean()\n",
    "# ds = (ds.groupby('time.month') - ds_clim_mean)\n",
    "\n",
    "ds = ds.resample(time='1W').mean()\n",
    "df = ds.to_dataframe().reset_index(\n",
    "        level=[1, 2]).drop(['latitude', 'longitude'], axis=1)\n",
    "df = df[var].dropna()\n",
    "series = TimeSeries.from_dataframe(df)"
   ]
  },
  {
   "cell_type": "code",
   "execution_count": 26,
   "metadata": {},
   "outputs": [
    {
     "data": {
      "application/vnd.jupyter.widget-view+json": {
       "model_id": "6853f30a3eb649adb119a90b288e5b8f",
       "version_major": 2,
       "version_minor": 0
      },
      "text/plain": [
       "  0%|          | 0/231 [00:00<?, ?it/s]"
      ]
     },
     "metadata": {},
     "output_type": "display_data"
    },
    {
     "data": {
      "application/vnd.jupyter.widget-view+json": {
       "model_id": "e3553aeba3b54eecabd0e207f3c4ca5f",
       "version_major": 2,
       "version_minor": 0
      },
      "text/plain": [
       "Predicting: 78it [00:00, ?it/s]"
      ]
     },
     "metadata": {},
     "output_type": "display_data"
    },
    {
     "data": {
      "application/vnd.jupyter.widget-view+json": {
       "model_id": "1b3177eb60444a95aff6619553862eb2",
       "version_major": 2,
       "version_minor": 0
      },
      "text/plain": [
       "Predicting: 78it [00:00, ?it/s]"
      ]
     },
     "metadata": {},
     "output_type": "display_data"
    },
    {
     "data": {
      "application/vnd.jupyter.widget-view+json": {
       "model_id": "3624f8881c814bfeafd72cb637d28494",
       "version_major": 2,
       "version_minor": 0
      },
      "text/plain": [
       "Predicting: 78it [00:00, ?it/s]"
      ]
     },
     "metadata": {},
     "output_type": "display_data"
    },
    {
     "data": {
      "application/vnd.jupyter.widget-view+json": {
       "model_id": "1f4d7e7f21c8435897313ca853f3d5cf",
       "version_major": 2,
       "version_minor": 0
      },
      "text/plain": [
       "Predicting: 78it [00:00, ?it/s]"
      ]
     },
     "metadata": {},
     "output_type": "display_data"
    },
    {
     "data": {
      "application/vnd.jupyter.widget-view+json": {
       "model_id": "de4aca3a02e2472bb636aab1f010aed1",
       "version_major": 2,
       "version_minor": 0
      },
      "text/plain": [
       "Predicting: 78it [00:00, ?it/s]"
      ]
     },
     "metadata": {},
     "output_type": "display_data"
    },
    {
     "data": {
      "application/vnd.jupyter.widget-view+json": {
       "model_id": "859c0a3f462d4609a8f21adcfb8256a8",
       "version_major": 2,
       "version_minor": 0
      },
      "text/plain": [
       "Predicting: 78it [00:00, ?it/s]"
      ]
     },
     "metadata": {},
     "output_type": "display_data"
    },
    {
     "data": {
      "application/vnd.jupyter.widget-view+json": {
       "model_id": "2826dfc38b03438297094bcd10a98508",
       "version_major": 2,
       "version_minor": 0
      },
      "text/plain": [
       "Predicting: 78it [00:00, ?it/s]"
      ]
     },
     "metadata": {},
     "output_type": "display_data"
    },
    {
     "data": {
      "application/vnd.jupyter.widget-view+json": {
       "model_id": "cb30006d5b774c1a8ddcb31e8c2f515e",
       "version_major": 2,
       "version_minor": 0
      },
      "text/plain": [
       "Predicting: 78it [00:00, ?it/s]"
      ]
     },
     "metadata": {},
     "output_type": "display_data"
    },
    {
     "data": {
      "application/vnd.jupyter.widget-view+json": {
       "model_id": "d74578b4f5da4967aa1ca99fd0d93eb6",
       "version_major": 2,
       "version_minor": 0
      },
      "text/plain": [
       "Predicting: 78it [00:00, ?it/s]"
      ]
     },
     "metadata": {},
     "output_type": "display_data"
    },
    {
     "data": {
      "application/vnd.jupyter.widget-view+json": {
       "model_id": "c4b2b0a703294beba71fd7beb7f7494c",
       "version_major": 2,
       "version_minor": 0
      },
      "text/plain": [
       "Predicting: 78it [00:00, ?it/s]"
      ]
     },
     "metadata": {},
     "output_type": "display_data"
    },
    {
     "data": {
      "application/vnd.jupyter.widget-view+json": {
       "model_id": "031aa150c84f4911a94eed2253b81d4c",
       "version_major": 2,
       "version_minor": 0
      },
      "text/plain": [
       "Predicting: 78it [00:00, ?it/s]"
      ]
     },
     "metadata": {},
     "output_type": "display_data"
    },
    {
     "data": {
      "application/vnd.jupyter.widget-view+json": {
       "model_id": "f572fbf590ab4a9ea0b48bac21f65a81",
       "version_major": 2,
       "version_minor": 0
      },
      "text/plain": [
       "Predicting: 78it [00:00, ?it/s]"
      ]
     },
     "metadata": {},
     "output_type": "display_data"
    },
    {
     "data": {
      "application/vnd.jupyter.widget-view+json": {
       "model_id": "5d4d24b952774bdc8d99909b4a7e09c7",
       "version_major": 2,
       "version_minor": 0
      },
      "text/plain": [
       "Predicting: 78it [00:00, ?it/s]"
      ]
     },
     "metadata": {},
     "output_type": "display_data"
    },
    {
     "data": {
      "application/vnd.jupyter.widget-view+json": {
       "model_id": "a9239ec7ae8f4b03bbb2f994c67b1246",
       "version_major": 2,
       "version_minor": 0
      },
      "text/plain": [
       "Predicting: 78it [00:00, ?it/s]"
      ]
     },
     "metadata": {},
     "output_type": "display_data"
    },
    {
     "data": {
      "application/vnd.jupyter.widget-view+json": {
       "model_id": "690b169dcc1748c1b368977886dbbe4a",
       "version_major": 2,
       "version_minor": 0
      },
      "text/plain": [
       "Predicting: 78it [00:00, ?it/s]"
      ]
     },
     "metadata": {},
     "output_type": "display_data"
    },
    {
     "data": {
      "application/vnd.jupyter.widget-view+json": {
       "model_id": "b1b69cdfac6c464caada649b503c254e",
       "version_major": 2,
       "version_minor": 0
      },
      "text/plain": [
       "Predicting: 78it [00:00, ?it/s]"
      ]
     },
     "metadata": {},
     "output_type": "display_data"
    },
    {
     "data": {
      "application/vnd.jupyter.widget-view+json": {
       "model_id": "cdd4c69efe4e42aea286f5ab5f0e1977",
       "version_major": 2,
       "version_minor": 0
      },
      "text/plain": [
       "Predicting: 78it [00:00, ?it/s]"
      ]
     },
     "metadata": {},
     "output_type": "display_data"
    },
    {
     "data": {
      "application/vnd.jupyter.widget-view+json": {
       "model_id": "1451e19f642e40b88e8adae48740b1c5",
       "version_major": 2,
       "version_minor": 0
      },
      "text/plain": [
       "Predicting: 78it [00:00, ?it/s]"
      ]
     },
     "metadata": {},
     "output_type": "display_data"
    },
    {
     "data": {
      "application/vnd.jupyter.widget-view+json": {
       "model_id": "dccc25c97d14422fa25f1b439ce6de2b",
       "version_major": 2,
       "version_minor": 0
      },
      "text/plain": [
       "Predicting: 78it [00:00, ?it/s]"
      ]
     },
     "metadata": {},
     "output_type": "display_data"
    },
    {
     "data": {
      "application/vnd.jupyter.widget-view+json": {
       "model_id": "9abe2e746ebb4831b030c1bae28a424b",
       "version_major": 2,
       "version_minor": 0
      },
      "text/plain": [
       "Predicting: 78it [00:00, ?it/s]"
      ]
     },
     "metadata": {},
     "output_type": "display_data"
    },
    {
     "data": {
      "application/vnd.jupyter.widget-view+json": {
       "model_id": "e318a2d9d8b44f2cba61adbea2f470a4",
       "version_major": 2,
       "version_minor": 0
      },
      "text/plain": [
       "Predicting: 78it [00:00, ?it/s]"
      ]
     },
     "metadata": {},
     "output_type": "display_data"
    },
    {
     "data": {
      "application/vnd.jupyter.widget-view+json": {
       "model_id": "188eca8f476349f99d327ac9637db10b",
       "version_major": 2,
       "version_minor": 0
      },
      "text/plain": [
       "Predicting: 78it [00:00, ?it/s]"
      ]
     },
     "metadata": {},
     "output_type": "display_data"
    },
    {
     "data": {
      "application/vnd.jupyter.widget-view+json": {
       "model_id": "0e9f7a228c8b4e29a0acdd2efadbd000",
       "version_major": 2,
       "version_minor": 0
      },
      "text/plain": [
       "Predicting: 78it [00:00, ?it/s]"
      ]
     },
     "metadata": {},
     "output_type": "display_data"
    },
    {
     "data": {
      "application/vnd.jupyter.widget-view+json": {
       "model_id": "8bcdc7637ef44ea8b84befb833027f5f",
       "version_major": 2,
       "version_minor": 0
      },
      "text/plain": [
       "Predicting: 78it [00:00, ?it/s]"
      ]
     },
     "metadata": {},
     "output_type": "display_data"
    },
    {
     "data": {
      "application/vnd.jupyter.widget-view+json": {
       "model_id": "4495344351be4a81a913c33a386c76aa",
       "version_major": 2,
       "version_minor": 0
      },
      "text/plain": [
       "Predicting: 78it [00:00, ?it/s]"
      ]
     },
     "metadata": {},
     "output_type": "display_data"
    },
    {
     "data": {
      "application/vnd.jupyter.widget-view+json": {
       "model_id": "7ae3699809ad4e5c9fb0a2f7219f8c14",
       "version_major": 2,
       "version_minor": 0
      },
      "text/plain": [
       "Predicting: 78it [00:00, ?it/s]"
      ]
     },
     "metadata": {},
     "output_type": "display_data"
    },
    {
     "data": {
      "application/vnd.jupyter.widget-view+json": {
       "model_id": "51bff1f6f7b041d2877e91f93709c76b",
       "version_major": 2,
       "version_minor": 0
      },
      "text/plain": [
       "Predicting: 78it [00:00, ?it/s]"
      ]
     },
     "metadata": {},
     "output_type": "display_data"
    },
    {
     "data": {
      "application/vnd.jupyter.widget-view+json": {
       "model_id": "5c1338bb66cf4951aa63bcf8f76c596d",
       "version_major": 2,
       "version_minor": 0
      },
      "text/plain": [
       "Predicting: 78it [00:00, ?it/s]"
      ]
     },
     "metadata": {},
     "output_type": "display_data"
    },
    {
     "data": {
      "application/vnd.jupyter.widget-view+json": {
       "model_id": "aa52bd7b58da4688a462edcbe22a9ef9",
       "version_major": 2,
       "version_minor": 0
      },
      "text/plain": [
       "Predicting: 78it [00:00, ?it/s]"
      ]
     },
     "metadata": {},
     "output_type": "display_data"
    },
    {
     "data": {
      "application/vnd.jupyter.widget-view+json": {
       "model_id": "2551a918a24343568cceafbba02af057",
       "version_major": 2,
       "version_minor": 0
      },
      "text/plain": [
       "Predicting: 78it [00:00, ?it/s]"
      ]
     },
     "metadata": {},
     "output_type": "display_data"
    },
    {
     "data": {
      "application/vnd.jupyter.widget-view+json": {
       "model_id": "065b5cb8360a413287da83eabd34eb36",
       "version_major": 2,
       "version_minor": 0
      },
      "text/plain": [
       "Predicting: 78it [00:00, ?it/s]"
      ]
     },
     "metadata": {},
     "output_type": "display_data"
    },
    {
     "data": {
      "application/vnd.jupyter.widget-view+json": {
       "model_id": "6ef7102257124d86b57f16162e7040c7",
       "version_major": 2,
       "version_minor": 0
      },
      "text/plain": [
       "Predicting: 78it [00:00, ?it/s]"
      ]
     },
     "metadata": {},
     "output_type": "display_data"
    },
    {
     "data": {
      "application/vnd.jupyter.widget-view+json": {
       "model_id": "5a69009d36e64bc79bbc269230a82c37",
       "version_major": 2,
       "version_minor": 0
      },
      "text/plain": [
       "Predicting: 78it [00:00, ?it/s]"
      ]
     },
     "metadata": {},
     "output_type": "display_data"
    },
    {
     "data": {
      "application/vnd.jupyter.widget-view+json": {
       "model_id": "871a5f5e4f36470b92b2c85716bfe003",
       "version_major": 2,
       "version_minor": 0
      },
      "text/plain": [
       "Predicting: 78it [00:00, ?it/s]"
      ]
     },
     "metadata": {},
     "output_type": "display_data"
    },
    {
     "data": {
      "application/vnd.jupyter.widget-view+json": {
       "model_id": "57309fc53dd84a9e922779d43d32e07c",
       "version_major": 2,
       "version_minor": 0
      },
      "text/plain": [
       "Predicting: 78it [00:00, ?it/s]"
      ]
     },
     "metadata": {},
     "output_type": "display_data"
    },
    {
     "data": {
      "application/vnd.jupyter.widget-view+json": {
       "model_id": "27a48d3b9c14456c9920fc1ed156c386",
       "version_major": 2,
       "version_minor": 0
      },
      "text/plain": [
       "Predicting: 78it [00:00, ?it/s]"
      ]
     },
     "metadata": {},
     "output_type": "display_data"
    },
    {
     "data": {
      "application/vnd.jupyter.widget-view+json": {
       "model_id": "2747544f10dc4aff8ad3fb893d194329",
       "version_major": 2,
       "version_minor": 0
      },
      "text/plain": [
       "Predicting: 78it [00:00, ?it/s]"
      ]
     },
     "metadata": {},
     "output_type": "display_data"
    },
    {
     "data": {
      "application/vnd.jupyter.widget-view+json": {
       "model_id": "f5ef13676ea244bbb74c0f4b58495b4d",
       "version_major": 2,
       "version_minor": 0
      },
      "text/plain": [
       "Predicting: 78it [00:00, ?it/s]"
      ]
     },
     "metadata": {},
     "output_type": "display_data"
    },
    {
     "data": {
      "application/vnd.jupyter.widget-view+json": {
       "model_id": "96737c1a534a4ef29313950099370ea0",
       "version_major": 2,
       "version_minor": 0
      },
      "text/plain": [
       "Predicting: 78it [00:00, ?it/s]"
      ]
     },
     "metadata": {},
     "output_type": "display_data"
    },
    {
     "data": {
      "application/vnd.jupyter.widget-view+json": {
       "model_id": "141a5c9da1e5425cb07b9e9013e0f857",
       "version_major": 2,
       "version_minor": 0
      },
      "text/plain": [
       "Predicting: 78it [00:00, ?it/s]"
      ]
     },
     "metadata": {},
     "output_type": "display_data"
    },
    {
     "data": {
      "application/vnd.jupyter.widget-view+json": {
       "model_id": "93af31af05d147e784846a6e63679e7a",
       "version_major": 2,
       "version_minor": 0
      },
      "text/plain": [
       "Predicting: 78it [00:00, ?it/s]"
      ]
     },
     "metadata": {},
     "output_type": "display_data"
    },
    {
     "data": {
      "application/vnd.jupyter.widget-view+json": {
       "model_id": "7e3430f048dc4e859e298d4363bb53f8",
       "version_major": 2,
       "version_minor": 0
      },
      "text/plain": [
       "Predicting: 78it [00:00, ?it/s]"
      ]
     },
     "metadata": {},
     "output_type": "display_data"
    },
    {
     "data": {
      "application/vnd.jupyter.widget-view+json": {
       "model_id": "dc03b92eed1a472b87c6cabaf0a0a336",
       "version_major": 2,
       "version_minor": 0
      },
      "text/plain": [
       "Predicting: 78it [00:00, ?it/s]"
      ]
     },
     "metadata": {},
     "output_type": "display_data"
    },
    {
     "data": {
      "application/vnd.jupyter.widget-view+json": {
       "model_id": "ddf075b44e43432698b8d47957962243",
       "version_major": 2,
       "version_minor": 0
      },
      "text/plain": [
       "Predicting: 78it [00:00, ?it/s]"
      ]
     },
     "metadata": {},
     "output_type": "display_data"
    },
    {
     "data": {
      "application/vnd.jupyter.widget-view+json": {
       "model_id": "9df49871660e4f25bcad06898059c0b6",
       "version_major": 2,
       "version_minor": 0
      },
      "text/plain": [
       "Predicting: 78it [00:00, ?it/s]"
      ]
     },
     "metadata": {},
     "output_type": "display_data"
    },
    {
     "data": {
      "application/vnd.jupyter.widget-view+json": {
       "model_id": "f6cf8b5de45649eb8740d72882d5db52",
       "version_major": 2,
       "version_minor": 0
      },
      "text/plain": [
       "Predicting: 78it [00:00, ?it/s]"
      ]
     },
     "metadata": {},
     "output_type": "display_data"
    },
    {
     "data": {
      "application/vnd.jupyter.widget-view+json": {
       "model_id": "12e1ecb81c4e499b8236a0542e4569cd",
       "version_major": 2,
       "version_minor": 0
      },
      "text/plain": [
       "Predicting: 78it [00:00, ?it/s]"
      ]
     },
     "metadata": {},
     "output_type": "display_data"
    },
    {
     "data": {
      "application/vnd.jupyter.widget-view+json": {
       "model_id": "7823ec12ac534b4c848a4cee00c3da30",
       "version_major": 2,
       "version_minor": 0
      },
      "text/plain": [
       "Predicting: 78it [00:00, ?it/s]"
      ]
     },
     "metadata": {},
     "output_type": "display_data"
    },
    {
     "data": {
      "application/vnd.jupyter.widget-view+json": {
       "model_id": "13bafb113f114eff8dad24cc85430199",
       "version_major": 2,
       "version_minor": 0
      },
      "text/plain": [
       "Predicting: 78it [00:00, ?it/s]"
      ]
     },
     "metadata": {},
     "output_type": "display_data"
    },
    {
     "data": {
      "application/vnd.jupyter.widget-view+json": {
       "model_id": "4edf8e12f8424e99a576d4ebfd3f61ad",
       "version_major": 2,
       "version_minor": 0
      },
      "text/plain": [
       "Predicting: 78it [00:00, ?it/s]"
      ]
     },
     "metadata": {},
     "output_type": "display_data"
    },
    {
     "data": {
      "application/vnd.jupyter.widget-view+json": {
       "model_id": "fa9d6de66de34bc7b2ddbc3ca48aad04",
       "version_major": 2,
       "version_minor": 0
      },
      "text/plain": [
       "Predicting: 78it [00:00, ?it/s]"
      ]
     },
     "metadata": {},
     "output_type": "display_data"
    },
    {
     "data": {
      "application/vnd.jupyter.widget-view+json": {
       "model_id": "f309f4bf8b1f48f494ee8a751bcc1a82",
       "version_major": 2,
       "version_minor": 0
      },
      "text/plain": [
       "Predicting: 78it [00:00, ?it/s]"
      ]
     },
     "metadata": {},
     "output_type": "display_data"
    },
    {
     "data": {
      "application/vnd.jupyter.widget-view+json": {
       "model_id": "d2f0371c50fa4032b7f89f4f76f85865",
       "version_major": 2,
       "version_minor": 0
      },
      "text/plain": [
       "Predicting: 78it [00:00, ?it/s]"
      ]
     },
     "metadata": {},
     "output_type": "display_data"
    },
    {
     "data": {
      "application/vnd.jupyter.widget-view+json": {
       "model_id": "0368d0c221e048adba75c42136baca4c",
       "version_major": 2,
       "version_minor": 0
      },
      "text/plain": [
       "Predicting: 78it [00:00, ?it/s]"
      ]
     },
     "metadata": {},
     "output_type": "display_data"
    },
    {
     "data": {
      "application/vnd.jupyter.widget-view+json": {
       "model_id": "b29c2dc3aae74413bd93325264801e52",
       "version_major": 2,
       "version_minor": 0
      },
      "text/plain": [
       "Predicting: 78it [00:00, ?it/s]"
      ]
     },
     "metadata": {},
     "output_type": "display_data"
    },
    {
     "data": {
      "application/vnd.jupyter.widget-view+json": {
       "model_id": "9ca55eb394264ba1bb9250708dbda5d7",
       "version_major": 2,
       "version_minor": 0
      },
      "text/plain": [
       "Predicting: 78it [00:00, ?it/s]"
      ]
     },
     "metadata": {},
     "output_type": "display_data"
    },
    {
     "data": {
      "application/vnd.jupyter.widget-view+json": {
       "model_id": "9b0e167eb3804ec1a36d7b5c1095c5e0",
       "version_major": 2,
       "version_minor": 0
      },
      "text/plain": [
       "Predicting: 78it [00:00, ?it/s]"
      ]
     },
     "metadata": {},
     "output_type": "display_data"
    },
    {
     "data": {
      "application/vnd.jupyter.widget-view+json": {
       "model_id": "a8f428c61df547e2bf0bf04f99f03b76",
       "version_major": 2,
       "version_minor": 0
      },
      "text/plain": [
       "Predicting: 78it [00:00, ?it/s]"
      ]
     },
     "metadata": {},
     "output_type": "display_data"
    },
    {
     "data": {
      "application/vnd.jupyter.widget-view+json": {
       "model_id": "e292b3ac10594cc3a47df2173b7bd86a",
       "version_major": 2,
       "version_minor": 0
      },
      "text/plain": [
       "Predicting: 78it [00:00, ?it/s]"
      ]
     },
     "metadata": {},
     "output_type": "display_data"
    },
    {
     "data": {
      "application/vnd.jupyter.widget-view+json": {
       "model_id": "0f2a8ec3c6b247fc872d9612537ba102",
       "version_major": 2,
       "version_minor": 0
      },
      "text/plain": [
       "Predicting: 78it [00:00, ?it/s]"
      ]
     },
     "metadata": {},
     "output_type": "display_data"
    },
    {
     "data": {
      "application/vnd.jupyter.widget-view+json": {
       "model_id": "876d17dbaf07447bbd3c0bbf572b0f7d",
       "version_major": 2,
       "version_minor": 0
      },
      "text/plain": [
       "Predicting: 78it [00:00, ?it/s]"
      ]
     },
     "metadata": {},
     "output_type": "display_data"
    },
    {
     "data": {
      "application/vnd.jupyter.widget-view+json": {
       "model_id": "78392670da0c40699b19ef4a6116af9b",
       "version_major": 2,
       "version_minor": 0
      },
      "text/plain": [
       "Predicting: 78it [00:00, ?it/s]"
      ]
     },
     "metadata": {},
     "output_type": "display_data"
    },
    {
     "data": {
      "application/vnd.jupyter.widget-view+json": {
       "model_id": "442364c5bcd540619312b3a67361ea1f",
       "version_major": 2,
       "version_minor": 0
      },
      "text/plain": [
       "Predicting: 78it [00:00, ?it/s]"
      ]
     },
     "metadata": {},
     "output_type": "display_data"
    },
    {
     "data": {
      "application/vnd.jupyter.widget-view+json": {
       "model_id": "dc9e3be796494b4e9ce9f4f2b3f43401",
       "version_major": 2,
       "version_minor": 0
      },
      "text/plain": [
       "Predicting: 78it [00:00, ?it/s]"
      ]
     },
     "metadata": {},
     "output_type": "display_data"
    },
    {
     "data": {
      "application/vnd.jupyter.widget-view+json": {
       "model_id": "8d083d61090845f5b55c0d8c3ed8a51e",
       "version_major": 2,
       "version_minor": 0
      },
      "text/plain": [
       "Predicting: 78it [00:00, ?it/s]"
      ]
     },
     "metadata": {},
     "output_type": "display_data"
    },
    {
     "data": {
      "application/vnd.jupyter.widget-view+json": {
       "model_id": "4ef56debc5624fec8623a291a62f238f",
       "version_major": 2,
       "version_minor": 0
      },
      "text/plain": [
       "Predicting: 78it [00:00, ?it/s]"
      ]
     },
     "metadata": {},
     "output_type": "display_data"
    },
    {
     "data": {
      "application/vnd.jupyter.widget-view+json": {
       "model_id": "08df6701d9d24713b640e4d8612b9275",
       "version_major": 2,
       "version_minor": 0
      },
      "text/plain": [
       "Predicting: 78it [00:00, ?it/s]"
      ]
     },
     "metadata": {},
     "output_type": "display_data"
    },
    {
     "data": {
      "application/vnd.jupyter.widget-view+json": {
       "model_id": "64e60e3efc484db0b2129d8778a5bfec",
       "version_major": 2,
       "version_minor": 0
      },
      "text/plain": [
       "Predicting: 78it [00:00, ?it/s]"
      ]
     },
     "metadata": {},
     "output_type": "display_data"
    },
    {
     "data": {
      "application/vnd.jupyter.widget-view+json": {
       "model_id": "ea92add42c89484b8f5cce8fcb68d232",
       "version_major": 2,
       "version_minor": 0
      },
      "text/plain": [
       "Predicting: 78it [00:00, ?it/s]"
      ]
     },
     "metadata": {},
     "output_type": "display_data"
    },
    {
     "data": {
      "application/vnd.jupyter.widget-view+json": {
       "model_id": "4b4ff60e6e314b56b692570c2d312642",
       "version_major": 2,
       "version_minor": 0
      },
      "text/plain": [
       "Predicting: 78it [00:00, ?it/s]"
      ]
     },
     "metadata": {},
     "output_type": "display_data"
    },
    {
     "data": {
      "application/vnd.jupyter.widget-view+json": {
       "model_id": "4db46975d9664be3b32d1c4c09ab3398",
       "version_major": 2,
       "version_minor": 0
      },
      "text/plain": [
       "Predicting: 78it [00:00, ?it/s]"
      ]
     },
     "metadata": {},
     "output_type": "display_data"
    },
    {
     "data": {
      "application/vnd.jupyter.widget-view+json": {
       "model_id": "60faff0d24204e65bd09b2bf943af636",
       "version_major": 2,
       "version_minor": 0
      },
      "text/plain": [
       "Predicting: 78it [00:00, ?it/s]"
      ]
     },
     "metadata": {},
     "output_type": "display_data"
    },
    {
     "data": {
      "application/vnd.jupyter.widget-view+json": {
       "model_id": "8a89c6cdb8d74d0eb30a8a29fea48830",
       "version_major": 2,
       "version_minor": 0
      },
      "text/plain": [
       "Predicting: 78it [00:00, ?it/s]"
      ]
     },
     "metadata": {},
     "output_type": "display_data"
    },
    {
     "data": {
      "application/vnd.jupyter.widget-view+json": {
       "model_id": "f65822451bb94df2b5cbca400f94341b",
       "version_major": 2,
       "version_minor": 0
      },
      "text/plain": [
       "Predicting: 78it [00:00, ?it/s]"
      ]
     },
     "metadata": {},
     "output_type": "display_data"
    },
    {
     "data": {
      "application/vnd.jupyter.widget-view+json": {
       "model_id": "49f5e8aaaeda4f3eb4fdd077b2b1d522",
       "version_major": 2,
       "version_minor": 0
      },
      "text/plain": [
       "Predicting: 78it [00:00, ?it/s]"
      ]
     },
     "metadata": {},
     "output_type": "display_data"
    },
    {
     "data": {
      "application/vnd.jupyter.widget-view+json": {
       "model_id": "11630c411a9e4a2c8303bcd9b822783a",
       "version_major": 2,
       "version_minor": 0
      },
      "text/plain": [
       "Predicting: 78it [00:00, ?it/s]"
      ]
     },
     "metadata": {},
     "output_type": "display_data"
    },
    {
     "data": {
      "application/vnd.jupyter.widget-view+json": {
       "model_id": "1cf569e35e364e7a9b030e72d0ee75ae",
       "version_major": 2,
       "version_minor": 0
      },
      "text/plain": [
       "Predicting: 78it [00:00, ?it/s]"
      ]
     },
     "metadata": {},
     "output_type": "display_data"
    },
    {
     "data": {
      "application/vnd.jupyter.widget-view+json": {
       "model_id": "9220db8249ae42e89db0230ffbb7d011",
       "version_major": 2,
       "version_minor": 0
      },
      "text/plain": [
       "Predicting: 78it [00:00, ?it/s]"
      ]
     },
     "metadata": {},
     "output_type": "display_data"
    },
    {
     "data": {
      "application/vnd.jupyter.widget-view+json": {
       "model_id": "ebaded89dd4e4fbda584f06b78e01617",
       "version_major": 2,
       "version_minor": 0
      },
      "text/plain": [
       "Predicting: 78it [00:00, ?it/s]"
      ]
     },
     "metadata": {},
     "output_type": "display_data"
    },
    {
     "data": {
      "application/vnd.jupyter.widget-view+json": {
       "model_id": "e34fa99db37d4bf39480f9c97043b01f",
       "version_major": 2,
       "version_minor": 0
      },
      "text/plain": [
       "Predicting: 78it [00:00, ?it/s]"
      ]
     },
     "metadata": {},
     "output_type": "display_data"
    },
    {
     "data": {
      "application/vnd.jupyter.widget-view+json": {
       "model_id": "76a9be6e272946a4801f4e61acf3879e",
       "version_major": 2,
       "version_minor": 0
      },
      "text/plain": [
       "Predicting: 78it [00:00, ?it/s]"
      ]
     },
     "metadata": {},
     "output_type": "display_data"
    },
    {
     "data": {
      "application/vnd.jupyter.widget-view+json": {
       "model_id": "120731a15ccd44cab8b883919a1fce44",
       "version_major": 2,
       "version_minor": 0
      },
      "text/plain": [
       "Predicting: 78it [00:00, ?it/s]"
      ]
     },
     "metadata": {},
     "output_type": "display_data"
    },
    {
     "data": {
      "application/vnd.jupyter.widget-view+json": {
       "model_id": "579c6e92f6934f25bb5a5ff06326c23d",
       "version_major": 2,
       "version_minor": 0
      },
      "text/plain": [
       "Predicting: 78it [00:00, ?it/s]"
      ]
     },
     "metadata": {},
     "output_type": "display_data"
    },
    {
     "data": {
      "application/vnd.jupyter.widget-view+json": {
       "model_id": "33ede8058148422ba42e9f10ae1e6d86",
       "version_major": 2,
       "version_minor": 0
      },
      "text/plain": [
       "Predicting: 78it [00:00, ?it/s]"
      ]
     },
     "metadata": {},
     "output_type": "display_data"
    },
    {
     "data": {
      "application/vnd.jupyter.widget-view+json": {
       "model_id": "558fef13298647ebbf82d86742fa2fdb",
       "version_major": 2,
       "version_minor": 0
      },
      "text/plain": [
       "Predicting: 78it [00:00, ?it/s]"
      ]
     },
     "metadata": {},
     "output_type": "display_data"
    },
    {
     "data": {
      "application/vnd.jupyter.widget-view+json": {
       "model_id": "425299a7f9e649e2a360649217b0ab04",
       "version_major": 2,
       "version_minor": 0
      },
      "text/plain": [
       "Predicting: 78it [00:00, ?it/s]"
      ]
     },
     "metadata": {},
     "output_type": "display_data"
    },
    {
     "data": {
      "application/vnd.jupyter.widget-view+json": {
       "model_id": "26cb5950ba284c8faabbdf858049d313",
       "version_major": 2,
       "version_minor": 0
      },
      "text/plain": [
       "Predicting: 78it [00:00, ?it/s]"
      ]
     },
     "metadata": {},
     "output_type": "display_data"
    },
    {
     "data": {
      "application/vnd.jupyter.widget-view+json": {
       "model_id": "38790f963d6743a0ad399a6fca5c746c",
       "version_major": 2,
       "version_minor": 0
      },
      "text/plain": [
       "Predicting: 78it [00:00, ?it/s]"
      ]
     },
     "metadata": {},
     "output_type": "display_data"
    },
    {
     "data": {
      "application/vnd.jupyter.widget-view+json": {
       "model_id": "5c39d9074250429cb753914b099770da",
       "version_major": 2,
       "version_minor": 0
      },
      "text/plain": [
       "Predicting: 78it [00:00, ?it/s]"
      ]
     },
     "metadata": {},
     "output_type": "display_data"
    },
    {
     "data": {
      "application/vnd.jupyter.widget-view+json": {
       "model_id": "f924751cfb8c4bf29248432c0526897b",
       "version_major": 2,
       "version_minor": 0
      },
      "text/plain": [
       "Predicting: 78it [00:00, ?it/s]"
      ]
     },
     "metadata": {},
     "output_type": "display_data"
    },
    {
     "data": {
      "application/vnd.jupyter.widget-view+json": {
       "model_id": "df0d6475490846ebbd9ca94b89b75953",
       "version_major": 2,
       "version_minor": 0
      },
      "text/plain": [
       "Predicting: 78it [00:00, ?it/s]"
      ]
     },
     "metadata": {},
     "output_type": "display_data"
    },
    {
     "data": {
      "application/vnd.jupyter.widget-view+json": {
       "model_id": "ce87b6eb292541ba832497a687328a03",
       "version_major": 2,
       "version_minor": 0
      },
      "text/plain": [
       "Predicting: 78it [00:00, ?it/s]"
      ]
     },
     "metadata": {},
     "output_type": "display_data"
    },
    {
     "data": {
      "application/vnd.jupyter.widget-view+json": {
       "model_id": "b16ac06a1cef4cad8ce9f991d2fc2190",
       "version_major": 2,
       "version_minor": 0
      },
      "text/plain": [
       "Predicting: 78it [00:00, ?it/s]"
      ]
     },
     "metadata": {},
     "output_type": "display_data"
    },
    {
     "data": {
      "application/vnd.jupyter.widget-view+json": {
       "model_id": "ac9fd37b553f410db8163774af1ad4a8",
       "version_major": 2,
       "version_minor": 0
      },
      "text/plain": [
       "Predicting: 78it [00:00, ?it/s]"
      ]
     },
     "metadata": {},
     "output_type": "display_data"
    },
    {
     "data": {
      "application/vnd.jupyter.widget-view+json": {
       "model_id": "e6458a2828864081b28b556c3e8f04d9",
       "version_major": 2,
       "version_minor": 0
      },
      "text/plain": [
       "Predicting: 78it [00:00, ?it/s]"
      ]
     },
     "metadata": {},
     "output_type": "display_data"
    },
    {
     "data": {
      "application/vnd.jupyter.widget-view+json": {
       "model_id": "49a37b69dc56405287782f9199cfbdbf",
       "version_major": 2,
       "version_minor": 0
      },
      "text/plain": [
       "Predicting: 78it [00:00, ?it/s]"
      ]
     },
     "metadata": {},
     "output_type": "display_data"
    },
    {
     "data": {
      "application/vnd.jupyter.widget-view+json": {
       "model_id": "df85b2360699446a8d4eb2e400959dd2",
       "version_major": 2,
       "version_minor": 0
      },
      "text/plain": [
       "Predicting: 78it [00:00, ?it/s]"
      ]
     },
     "metadata": {},
     "output_type": "display_data"
    },
    {
     "data": {
      "application/vnd.jupyter.widget-view+json": {
       "model_id": "b1f811452bb94ab397b7f2afbfd597cc",
       "version_major": 2,
       "version_minor": 0
      },
      "text/plain": [
       "Predicting: 78it [00:00, ?it/s]"
      ]
     },
     "metadata": {},
     "output_type": "display_data"
    },
    {
     "data": {
      "application/vnd.jupyter.widget-view+json": {
       "model_id": "833d06f52413455ebc767b716474db32",
       "version_major": 2,
       "version_minor": 0
      },
      "text/plain": [
       "Predicting: 78it [00:00, ?it/s]"
      ]
     },
     "metadata": {},
     "output_type": "display_data"
    },
    {
     "data": {
      "application/vnd.jupyter.widget-view+json": {
       "model_id": "5119ec94a9204b80a4859125d46d8792",
       "version_major": 2,
       "version_minor": 0
      },
      "text/plain": [
       "Predicting: 78it [00:00, ?it/s]"
      ]
     },
     "metadata": {},
     "output_type": "display_data"
    },
    {
     "data": {
      "application/vnd.jupyter.widget-view+json": {
       "model_id": "143ef32ec08241b2965253211af61f13",
       "version_major": 2,
       "version_minor": 0
      },
      "text/plain": [
       "Predicting: 78it [00:00, ?it/s]"
      ]
     },
     "metadata": {},
     "output_type": "display_data"
    },
    {
     "data": {
      "application/vnd.jupyter.widget-view+json": {
       "model_id": "568664dcd7614dccaa9e2bd6e8a518e7",
       "version_major": 2,
       "version_minor": 0
      },
      "text/plain": [
       "Predicting: 78it [00:00, ?it/s]"
      ]
     },
     "metadata": {},
     "output_type": "display_data"
    },
    {
     "data": {
      "application/vnd.jupyter.widget-view+json": {
       "model_id": "9fd8d246d6054701a52a40b789354f21",
       "version_major": 2,
       "version_minor": 0
      },
      "text/plain": [
       "Predicting: 78it [00:00, ?it/s]"
      ]
     },
     "metadata": {},
     "output_type": "display_data"
    },
    {
     "data": {
      "application/vnd.jupyter.widget-view+json": {
       "model_id": "877d80691c424256a09153d6ed9e3e83",
       "version_major": 2,
       "version_minor": 0
      },
      "text/plain": [
       "Predicting: 78it [00:00, ?it/s]"
      ]
     },
     "metadata": {},
     "output_type": "display_data"
    },
    {
     "data": {
      "application/vnd.jupyter.widget-view+json": {
       "model_id": "28ad076100074fee8d89492168bdeee9",
       "version_major": 2,
       "version_minor": 0
      },
      "text/plain": [
       "Predicting: 78it [00:00, ?it/s]"
      ]
     },
     "metadata": {},
     "output_type": "display_data"
    },
    {
     "data": {
      "application/vnd.jupyter.widget-view+json": {
       "model_id": "2708969cbae542e5bece01bc197ffd8b",
       "version_major": 2,
       "version_minor": 0
      },
      "text/plain": [
       "Predicting: 78it [00:00, ?it/s]"
      ]
     },
     "metadata": {},
     "output_type": "display_data"
    },
    {
     "data": {
      "application/vnd.jupyter.widget-view+json": {
       "model_id": "63a5900c8f7244279d2fa35a4fc6139f",
       "version_major": 2,
       "version_minor": 0
      },
      "text/plain": [
       "Predicting: 78it [00:00, ?it/s]"
      ]
     },
     "metadata": {},
     "output_type": "display_data"
    },
    {
     "data": {
      "application/vnd.jupyter.widget-view+json": {
       "model_id": "ca340b39a21c4bf1a9006f5a26761c40",
       "version_major": 2,
       "version_minor": 0
      },
      "text/plain": [
       "Predicting: 78it [00:00, ?it/s]"
      ]
     },
     "metadata": {},
     "output_type": "display_data"
    },
    {
     "data": {
      "application/vnd.jupyter.widget-view+json": {
       "model_id": "6323c354b31d4ce3b46f706c25bfcc44",
       "version_major": 2,
       "version_minor": 0
      },
      "text/plain": [
       "Predicting: 78it [00:00, ?it/s]"
      ]
     },
     "metadata": {},
     "output_type": "display_data"
    },
    {
     "data": {
      "application/vnd.jupyter.widget-view+json": {
       "model_id": "fa6cfdb96dea4824bc871c6780ce5551",
       "version_major": 2,
       "version_minor": 0
      },
      "text/plain": [
       "Predicting: 78it [00:00, ?it/s]"
      ]
     },
     "metadata": {},
     "output_type": "display_data"
    },
    {
     "data": {
      "application/vnd.jupyter.widget-view+json": {
       "model_id": "ea19a5c100e0413bbaecc8ade877e20b",
       "version_major": 2,
       "version_minor": 0
      },
      "text/plain": [
       "Predicting: 78it [00:00, ?it/s]"
      ]
     },
     "metadata": {},
     "output_type": "display_data"
    },
    {
     "data": {
      "application/vnd.jupyter.widget-view+json": {
       "model_id": "a06aaf9d223a4d4ca98b6ae5d100de86",
       "version_major": 2,
       "version_minor": 0
      },
      "text/plain": [
       "Predicting: 78it [00:00, ?it/s]"
      ]
     },
     "metadata": {},
     "output_type": "display_data"
    },
    {
     "data": {
      "application/vnd.jupyter.widget-view+json": {
       "model_id": "263a5b5294e04d3ca364846faa74210b",
       "version_major": 2,
       "version_minor": 0
      },
      "text/plain": [
       "Predicting: 78it [00:00, ?it/s]"
      ]
     },
     "metadata": {},
     "output_type": "display_data"
    },
    {
     "data": {
      "application/vnd.jupyter.widget-view+json": {
       "model_id": "4c5c49418d364882ad083e239b79fe42",
       "version_major": 2,
       "version_minor": 0
      },
      "text/plain": [
       "Predicting: 78it [00:00, ?it/s]"
      ]
     },
     "metadata": {},
     "output_type": "display_data"
    },
    {
     "data": {
      "application/vnd.jupyter.widget-view+json": {
       "model_id": "e1277dfb7cd142ba90d2365630c13842",
       "version_major": 2,
       "version_minor": 0
      },
      "text/plain": [
       "Predicting: 78it [00:00, ?it/s]"
      ]
     },
     "metadata": {},
     "output_type": "display_data"
    },
    {
     "data": {
      "application/vnd.jupyter.widget-view+json": {
       "model_id": "3aad21c60d9047b19bf450c8fd8d0511",
       "version_major": 2,
       "version_minor": 0
      },
      "text/plain": [
       "Predicting: 78it [00:00, ?it/s]"
      ]
     },
     "metadata": {},
     "output_type": "display_data"
    },
    {
     "data": {
      "application/vnd.jupyter.widget-view+json": {
       "model_id": "2f9f88d18ad144b7ae3d2620b97c7fa0",
       "version_major": 2,
       "version_minor": 0
      },
      "text/plain": [
       "Predicting: 78it [00:00, ?it/s]"
      ]
     },
     "metadata": {},
     "output_type": "display_data"
    },
    {
     "data": {
      "application/vnd.jupyter.widget-view+json": {
       "model_id": "dfcf441a66a544789df6b1285dd2b5ef",
       "version_major": 2,
       "version_minor": 0
      },
      "text/plain": [
       "Predicting: 78it [00:00, ?it/s]"
      ]
     },
     "metadata": {},
     "output_type": "display_data"
    },
    {
     "data": {
      "application/vnd.jupyter.widget-view+json": {
       "model_id": "e6f1d3f982684bfe854f2868c2cbee22",
       "version_major": 2,
       "version_minor": 0
      },
      "text/plain": [
       "Predicting: 78it [00:00, ?it/s]"
      ]
     },
     "metadata": {},
     "output_type": "display_data"
    },
    {
     "data": {
      "application/vnd.jupyter.widget-view+json": {
       "model_id": "0465d824d0f047a4998e382d6fe1f0a7",
       "version_major": 2,
       "version_minor": 0
      },
      "text/plain": [
       "Predicting: 78it [00:00, ?it/s]"
      ]
     },
     "metadata": {},
     "output_type": "display_data"
    },
    {
     "data": {
      "application/vnd.jupyter.widget-view+json": {
       "model_id": "006eee251aad457199ae6322ac307493",
       "version_major": 2,
       "version_minor": 0
      },
      "text/plain": [
       "Predicting: 78it [00:00, ?it/s]"
      ]
     },
     "metadata": {},
     "output_type": "display_data"
    },
    {
     "data": {
      "application/vnd.jupyter.widget-view+json": {
       "model_id": "dcbb05e4324f4c81864e67369a2a8dbd",
       "version_major": 2,
       "version_minor": 0
      },
      "text/plain": [
       "Predicting: 78it [00:00, ?it/s]"
      ]
     },
     "metadata": {},
     "output_type": "display_data"
    },
    {
     "data": {
      "application/vnd.jupyter.widget-view+json": {
       "model_id": "a0ca8b2eb2e74415a0d6df7dd1368a01",
       "version_major": 2,
       "version_minor": 0
      },
      "text/plain": [
       "Predicting: 78it [00:00, ?it/s]"
      ]
     },
     "metadata": {},
     "output_type": "display_data"
    },
    {
     "data": {
      "application/vnd.jupyter.widget-view+json": {
       "model_id": "50b6ad128934440f949b80fe727088cc",
       "version_major": 2,
       "version_minor": 0
      },
      "text/plain": [
       "Predicting: 78it [00:00, ?it/s]"
      ]
     },
     "metadata": {},
     "output_type": "display_data"
    },
    {
     "data": {
      "application/vnd.jupyter.widget-view+json": {
       "model_id": "f69bef4086d74c6b829b15a2eaed4ae6",
       "version_major": 2,
       "version_minor": 0
      },
      "text/plain": [
       "Predicting: 78it [00:00, ?it/s]"
      ]
     },
     "metadata": {},
     "output_type": "display_data"
    },
    {
     "data": {
      "application/vnd.jupyter.widget-view+json": {
       "model_id": "78ca4f0e46d64b8d9ee09a7e5e1c7887",
       "version_major": 2,
       "version_minor": 0
      },
      "text/plain": [
       "Predicting: 78it [00:00, ?it/s]"
      ]
     },
     "metadata": {},
     "output_type": "display_data"
    },
    {
     "data": {
      "application/vnd.jupyter.widget-view+json": {
       "model_id": "c6b129a6868c4a749efbdb51f35cf01e",
       "version_major": 2,
       "version_minor": 0
      },
      "text/plain": [
       "Predicting: 78it [00:00, ?it/s]"
      ]
     },
     "metadata": {},
     "output_type": "display_data"
    },
    {
     "data": {
      "application/vnd.jupyter.widget-view+json": {
       "model_id": "9cea46efb01b44e196967ed65858e445",
       "version_major": 2,
       "version_minor": 0
      },
      "text/plain": [
       "Predicting: 78it [00:00, ?it/s]"
      ]
     },
     "metadata": {},
     "output_type": "display_data"
    },
    {
     "data": {
      "application/vnd.jupyter.widget-view+json": {
       "model_id": "f0da89506b0449d4a083f3e5897f27fa",
       "version_major": 2,
       "version_minor": 0
      },
      "text/plain": [
       "Predicting: 78it [00:00, ?it/s]"
      ]
     },
     "metadata": {},
     "output_type": "display_data"
    },
    {
     "data": {
      "application/vnd.jupyter.widget-view+json": {
       "model_id": "b72bb70dd2ad4b30b6672c36c3c8a6f8",
       "version_major": 2,
       "version_minor": 0
      },
      "text/plain": [
       "Predicting: 78it [00:00, ?it/s]"
      ]
     },
     "metadata": {},
     "output_type": "display_data"
    },
    {
     "data": {
      "application/vnd.jupyter.widget-view+json": {
       "model_id": "e2eaf35d166940599bcd0855452df226",
       "version_major": 2,
       "version_minor": 0
      },
      "text/plain": [
       "Predicting: 78it [00:00, ?it/s]"
      ]
     },
     "metadata": {},
     "output_type": "display_data"
    },
    {
     "data": {
      "application/vnd.jupyter.widget-view+json": {
       "model_id": "00a8babc95664d9da34a510735419b68",
       "version_major": 2,
       "version_minor": 0
      },
      "text/plain": [
       "Predicting: 78it [00:00, ?it/s]"
      ]
     },
     "metadata": {},
     "output_type": "display_data"
    },
    {
     "data": {
      "application/vnd.jupyter.widget-view+json": {
       "model_id": "9a709f7aee7e47e98f9fe84db5cd1383",
       "version_major": 2,
       "version_minor": 0
      },
      "text/plain": [
       "Predicting: 78it [00:00, ?it/s]"
      ]
     },
     "metadata": {},
     "output_type": "display_data"
    },
    {
     "data": {
      "application/vnd.jupyter.widget-view+json": {
       "model_id": "74b8623252cc4299aaef172e92fcfe22",
       "version_major": 2,
       "version_minor": 0
      },
      "text/plain": [
       "Predicting: 78it [00:00, ?it/s]"
      ]
     },
     "metadata": {},
     "output_type": "display_data"
    },
    {
     "data": {
      "application/vnd.jupyter.widget-view+json": {
       "model_id": "43c3203476b741f0a8b1a5392f75be26",
       "version_major": 2,
       "version_minor": 0
      },
      "text/plain": [
       "Predicting: 78it [00:00, ?it/s]"
      ]
     },
     "metadata": {},
     "output_type": "display_data"
    },
    {
     "data": {
      "application/vnd.jupyter.widget-view+json": {
       "model_id": "79250c1defee4d02b0daba41cb42fa3c",
       "version_major": 2,
       "version_minor": 0
      },
      "text/plain": [
       "Predicting: 78it [00:00, ?it/s]"
      ]
     },
     "metadata": {},
     "output_type": "display_data"
    },
    {
     "data": {
      "application/vnd.jupyter.widget-view+json": {
       "model_id": "a83a9e6516084230aefa96bc175c6884",
       "version_major": 2,
       "version_minor": 0
      },
      "text/plain": [
       "Predicting: 78it [00:00, ?it/s]"
      ]
     },
     "metadata": {},
     "output_type": "display_data"
    },
    {
     "data": {
      "application/vnd.jupyter.widget-view+json": {
       "model_id": "ba31054e2e4b4250a1ee7c3347e779c5",
       "version_major": 2,
       "version_minor": 0
      },
      "text/plain": [
       "Predicting: 78it [00:00, ?it/s]"
      ]
     },
     "metadata": {},
     "output_type": "display_data"
    },
    {
     "data": {
      "application/vnd.jupyter.widget-view+json": {
       "model_id": "04f68d4b02c648fc867b526fc74b7769",
       "version_major": 2,
       "version_minor": 0
      },
      "text/plain": [
       "Predicting: 78it [00:00, ?it/s]"
      ]
     },
     "metadata": {},
     "output_type": "display_data"
    },
    {
     "data": {
      "application/vnd.jupyter.widget-view+json": {
       "model_id": "173f5fca6ef8497f8627e6af710c5aa2",
       "version_major": 2,
       "version_minor": 0
      },
      "text/plain": [
       "Predicting: 78it [00:00, ?it/s]"
      ]
     },
     "metadata": {},
     "output_type": "display_data"
    },
    {
     "data": {
      "application/vnd.jupyter.widget-view+json": {
       "model_id": "c15b6f22f4b94abc83b2873af7d2421c",
       "version_major": 2,
       "version_minor": 0
      },
      "text/plain": [
       "Predicting: 78it [00:00, ?it/s]"
      ]
     },
     "metadata": {},
     "output_type": "display_data"
    },
    {
     "data": {
      "application/vnd.jupyter.widget-view+json": {
       "model_id": "3cd3896babeb4efda8d165d0b34b62ed",
       "version_major": 2,
       "version_minor": 0
      },
      "text/plain": [
       "Predicting: 78it [00:00, ?it/s]"
      ]
     },
     "metadata": {},
     "output_type": "display_data"
    },
    {
     "data": {
      "application/vnd.jupyter.widget-view+json": {
       "model_id": "5ae11405fbe24cedb03dfb432990b927",
       "version_major": 2,
       "version_minor": 0
      },
      "text/plain": [
       "Predicting: 78it [00:00, ?it/s]"
      ]
     },
     "metadata": {},
     "output_type": "display_data"
    },
    {
     "data": {
      "application/vnd.jupyter.widget-view+json": {
       "model_id": "f3422e0e1aed4c8b9defcc92354aafb6",
       "version_major": 2,
       "version_minor": 0
      },
      "text/plain": [
       "Predicting: 78it [00:00, ?it/s]"
      ]
     },
     "metadata": {},
     "output_type": "display_data"
    },
    {
     "data": {
      "application/vnd.jupyter.widget-view+json": {
       "model_id": "313e4ee0bac241f18fab9b3f3763052a",
       "version_major": 2,
       "version_minor": 0
      },
      "text/plain": [
       "Predicting: 78it [00:00, ?it/s]"
      ]
     },
     "metadata": {},
     "output_type": "display_data"
    },
    {
     "data": {
      "application/vnd.jupyter.widget-view+json": {
       "model_id": "207225cd13684598a06380a7721976b5",
       "version_major": 2,
       "version_minor": 0
      },
      "text/plain": [
       "Predicting: 78it [00:00, ?it/s]"
      ]
     },
     "metadata": {},
     "output_type": "display_data"
    },
    {
     "data": {
      "application/vnd.jupyter.widget-view+json": {
       "model_id": "bdf2e1ddb1b1442c9d2472eed05f364e",
       "version_major": 2,
       "version_minor": 0
      },
      "text/plain": [
       "Predicting: 78it [00:00, ?it/s]"
      ]
     },
     "metadata": {},
     "output_type": "display_data"
    },
    {
     "data": {
      "application/vnd.jupyter.widget-view+json": {
       "model_id": "1cbfe8cdbcb242df952476a0b7bdc56b",
       "version_major": 2,
       "version_minor": 0
      },
      "text/plain": [
       "Predicting: 78it [00:00, ?it/s]"
      ]
     },
     "metadata": {},
     "output_type": "display_data"
    },
    {
     "data": {
      "application/vnd.jupyter.widget-view+json": {
       "model_id": "ea7387b6c9984f0b9a4b590a84218736",
       "version_major": 2,
       "version_minor": 0
      },
      "text/plain": [
       "Predicting: 78it [00:00, ?it/s]"
      ]
     },
     "metadata": {},
     "output_type": "display_data"
    },
    {
     "data": {
      "application/vnd.jupyter.widget-view+json": {
       "model_id": "c62cdb1dc13f4a899f0376e2d874520a",
       "version_major": 2,
       "version_minor": 0
      },
      "text/plain": [
       "Predicting: 78it [00:00, ?it/s]"
      ]
     },
     "metadata": {},
     "output_type": "display_data"
    },
    {
     "data": {
      "application/vnd.jupyter.widget-view+json": {
       "model_id": "12bddf87875a4286afad4202311582c8",
       "version_major": 2,
       "version_minor": 0
      },
      "text/plain": [
       "Predicting: 78it [00:00, ?it/s]"
      ]
     },
     "metadata": {},
     "output_type": "display_data"
    },
    {
     "data": {
      "application/vnd.jupyter.widget-view+json": {
       "model_id": "44b33fd757be4aaf882696b59177ff90",
       "version_major": 2,
       "version_minor": 0
      },
      "text/plain": [
       "Predicting: 78it [00:00, ?it/s]"
      ]
     },
     "metadata": {},
     "output_type": "display_data"
    },
    {
     "data": {
      "application/vnd.jupyter.widget-view+json": {
       "model_id": "2541d8fe455f4e9caca6fb9bd7f7ec16",
       "version_major": 2,
       "version_minor": 0
      },
      "text/plain": [
       "Predicting: 78it [00:00, ?it/s]"
      ]
     },
     "metadata": {},
     "output_type": "display_data"
    },
    {
     "data": {
      "application/vnd.jupyter.widget-view+json": {
       "model_id": "edda860671d0476b996161dd11ab7a9a",
       "version_major": 2,
       "version_minor": 0
      },
      "text/plain": [
       "Predicting: 78it [00:00, ?it/s]"
      ]
     },
     "metadata": {},
     "output_type": "display_data"
    },
    {
     "data": {
      "application/vnd.jupyter.widget-view+json": {
       "model_id": "2635e784e62d47ac8f78bf4ae0f88cea",
       "version_major": 2,
       "version_minor": 0
      },
      "text/plain": [
       "Predicting: 78it [00:00, ?it/s]"
      ]
     },
     "metadata": {},
     "output_type": "display_data"
    },
    {
     "data": {
      "application/vnd.jupyter.widget-view+json": {
       "model_id": "0a7647825e7b494386edf32f77a57860",
       "version_major": 2,
       "version_minor": 0
      },
      "text/plain": [
       "Predicting: 78it [00:00, ?it/s]"
      ]
     },
     "metadata": {},
     "output_type": "display_data"
    },
    {
     "data": {
      "application/vnd.jupyter.widget-view+json": {
       "model_id": "dc28564dade24f02ba3857b4cf86151d",
       "version_major": 2,
       "version_minor": 0
      },
      "text/plain": [
       "Predicting: 78it [00:00, ?it/s]"
      ]
     },
     "metadata": {},
     "output_type": "display_data"
    },
    {
     "data": {
      "application/vnd.jupyter.widget-view+json": {
       "model_id": "f8d5f45fa84c427f974ee659c388e63e",
       "version_major": 2,
       "version_minor": 0
      },
      "text/plain": [
       "Predicting: 78it [00:00, ?it/s]"
      ]
     },
     "metadata": {},
     "output_type": "display_data"
    },
    {
     "data": {
      "application/vnd.jupyter.widget-view+json": {
       "model_id": "0136e2325fd846b8aa7975bb06219919",
       "version_major": 2,
       "version_minor": 0
      },
      "text/plain": [
       "Predicting: 78it [00:00, ?it/s]"
      ]
     },
     "metadata": {},
     "output_type": "display_data"
    },
    {
     "data": {
      "application/vnd.jupyter.widget-view+json": {
       "model_id": "4a36e9540c86432c9eea34e76168c2aa",
       "version_major": 2,
       "version_minor": 0
      },
      "text/plain": [
       "Predicting: 78it [00:00, ?it/s]"
      ]
     },
     "metadata": {},
     "output_type": "display_data"
    },
    {
     "data": {
      "application/vnd.jupyter.widget-view+json": {
       "model_id": "9da9c982d71e4c80a7dbfbd334feb9db",
       "version_major": 2,
       "version_minor": 0
      },
      "text/plain": [
       "Predicting: 78it [00:00, ?it/s]"
      ]
     },
     "metadata": {},
     "output_type": "display_data"
    },
    {
     "data": {
      "application/vnd.jupyter.widget-view+json": {
       "model_id": "d0e05fac59c94105bfe193b67b406485",
       "version_major": 2,
       "version_minor": 0
      },
      "text/plain": [
       "Predicting: 78it [00:00, ?it/s]"
      ]
     },
     "metadata": {},
     "output_type": "display_data"
    },
    {
     "data": {
      "application/vnd.jupyter.widget-view+json": {
       "model_id": "fdd42e0a7a7f431cab4bc05e58d6dda7",
       "version_major": 2,
       "version_minor": 0
      },
      "text/plain": [
       "Predicting: 78it [00:00, ?it/s]"
      ]
     },
     "metadata": {},
     "output_type": "display_data"
    },
    {
     "data": {
      "application/vnd.jupyter.widget-view+json": {
       "model_id": "6895398bd25747d58a086a1143518d72",
       "version_major": 2,
       "version_minor": 0
      },
      "text/plain": [
       "Predicting: 78it [00:00, ?it/s]"
      ]
     },
     "metadata": {},
     "output_type": "display_data"
    },
    {
     "data": {
      "application/vnd.jupyter.widget-view+json": {
       "model_id": "61fb984a56b54c5aa67640f3a6529bff",
       "version_major": 2,
       "version_minor": 0
      },
      "text/plain": [
       "Predicting: 78it [00:00, ?it/s]"
      ]
     },
     "metadata": {},
     "output_type": "display_data"
    },
    {
     "data": {
      "application/vnd.jupyter.widget-view+json": {
       "model_id": "8ea5d6010fa24880b1d3d0caf963e19f",
       "version_major": 2,
       "version_minor": 0
      },
      "text/plain": [
       "Predicting: 78it [00:00, ?it/s]"
      ]
     },
     "metadata": {},
     "output_type": "display_data"
    },
    {
     "data": {
      "application/vnd.jupyter.widget-view+json": {
       "model_id": "79c280f7f8d74ec185dff1b84ea0d9e7",
       "version_major": 2,
       "version_minor": 0
      },
      "text/plain": [
       "Predicting: 78it [00:00, ?it/s]"
      ]
     },
     "metadata": {},
     "output_type": "display_data"
    },
    {
     "data": {
      "application/vnd.jupyter.widget-view+json": {
       "model_id": "cb9ffd2a769a409ab0f4465b2436c2cd",
       "version_major": 2,
       "version_minor": 0
      },
      "text/plain": [
       "Predicting: 78it [00:00, ?it/s]"
      ]
     },
     "metadata": {},
     "output_type": "display_data"
    },
    {
     "data": {
      "application/vnd.jupyter.widget-view+json": {
       "model_id": "882d23b687424044a5d7c5a589f77fba",
       "version_major": 2,
       "version_minor": 0
      },
      "text/plain": [
       "Predicting: 78it [00:00, ?it/s]"
      ]
     },
     "metadata": {},
     "output_type": "display_data"
    },
    {
     "data": {
      "application/vnd.jupyter.widget-view+json": {
       "model_id": "35ac4a77f9fd4d69940bbb04c7d89a89",
       "version_major": 2,
       "version_minor": 0
      },
      "text/plain": [
       "Predicting: 78it [00:00, ?it/s]"
      ]
     },
     "metadata": {},
     "output_type": "display_data"
    },
    {
     "data": {
      "application/vnd.jupyter.widget-view+json": {
       "model_id": "1d9c325271c941ba8a451aeb56a0c40f",
       "version_major": 2,
       "version_minor": 0
      },
      "text/plain": [
       "Predicting: 78it [00:00, ?it/s]"
      ]
     },
     "metadata": {},
     "output_type": "display_data"
    },
    {
     "data": {
      "application/vnd.jupyter.widget-view+json": {
       "model_id": "81675d55fa3f4d9a8997d7fe09b27500",
       "version_major": 2,
       "version_minor": 0
      },
      "text/plain": [
       "Predicting: 78it [00:00, ?it/s]"
      ]
     },
     "metadata": {},
     "output_type": "display_data"
    },
    {
     "data": {
      "application/vnd.jupyter.widget-view+json": {
       "model_id": "92f4ca14c38f4c6cb311671d924aab85",
       "version_major": 2,
       "version_minor": 0
      },
      "text/plain": [
       "Predicting: 78it [00:00, ?it/s]"
      ]
     },
     "metadata": {},
     "output_type": "display_data"
    },
    {
     "data": {
      "application/vnd.jupyter.widget-view+json": {
       "model_id": "bd30388d56f44162869cbed6dfd45918",
       "version_major": 2,
       "version_minor": 0
      },
      "text/plain": [
       "Predicting: 78it [00:00, ?it/s]"
      ]
     },
     "metadata": {},
     "output_type": "display_data"
    },
    {
     "data": {
      "application/vnd.jupyter.widget-view+json": {
       "model_id": "ab7f322d97f44626b9a19ae2d489afaa",
       "version_major": 2,
       "version_minor": 0
      },
      "text/plain": [
       "Predicting: 78it [00:00, ?it/s]"
      ]
     },
     "metadata": {},
     "output_type": "display_data"
    },
    {
     "data": {
      "application/vnd.jupyter.widget-view+json": {
       "model_id": "9220c7e89f1043a69f073fa4299120e7",
       "version_major": 2,
       "version_minor": 0
      },
      "text/plain": [
       "Predicting: 78it [00:00, ?it/s]"
      ]
     },
     "metadata": {},
     "output_type": "display_data"
    },
    {
     "data": {
      "application/vnd.jupyter.widget-view+json": {
       "model_id": "7d48b94f68fa46549bf53ebbbcaee8c5",
       "version_major": 2,
       "version_minor": 0
      },
      "text/plain": [
       "Predicting: 78it [00:00, ?it/s]"
      ]
     },
     "metadata": {},
     "output_type": "display_data"
    },
    {
     "data": {
      "application/vnd.jupyter.widget-view+json": {
       "model_id": "cba69563fdb247d5b39c3e2c385e0345",
       "version_major": 2,
       "version_minor": 0
      },
      "text/plain": [
       "Predicting: 78it [00:00, ?it/s]"
      ]
     },
     "metadata": {},
     "output_type": "display_data"
    },
    {
     "data": {
      "application/vnd.jupyter.widget-view+json": {
       "model_id": "72fc9e122d2443379ebe0ea58a2d9270",
       "version_major": 2,
       "version_minor": 0
      },
      "text/plain": [
       "Predicting: 78it [00:00, ?it/s]"
      ]
     },
     "metadata": {},
     "output_type": "display_data"
    },
    {
     "data": {
      "application/vnd.jupyter.widget-view+json": {
       "model_id": "a87dc49b4b5d45daadd3fb1a6588a569",
       "version_major": 2,
       "version_minor": 0
      },
      "text/plain": [
       "Predicting: 78it [00:00, ?it/s]"
      ]
     },
     "metadata": {},
     "output_type": "display_data"
    },
    {
     "data": {
      "application/vnd.jupyter.widget-view+json": {
       "model_id": "934a1c4e6f614d80ad8e77bf243f70ef",
       "version_major": 2,
       "version_minor": 0
      },
      "text/plain": [
       "Predicting: 78it [00:00, ?it/s]"
      ]
     },
     "metadata": {},
     "output_type": "display_data"
    },
    {
     "data": {
      "application/vnd.jupyter.widget-view+json": {
       "model_id": "669cb923e79a4716908e80a4433b6274",
       "version_major": 2,
       "version_minor": 0
      },
      "text/plain": [
       "Predicting: 78it [00:00, ?it/s]"
      ]
     },
     "metadata": {},
     "output_type": "display_data"
    },
    {
     "data": {
      "application/vnd.jupyter.widget-view+json": {
       "model_id": "7704e2f029e943f3bb698e64298faedb",
       "version_major": 2,
       "version_minor": 0
      },
      "text/plain": [
       "Predicting: 78it [00:00, ?it/s]"
      ]
     },
     "metadata": {},
     "output_type": "display_data"
    },
    {
     "data": {
      "application/vnd.jupyter.widget-view+json": {
       "model_id": "2c989bc762694f64953f3dd25de6367c",
       "version_major": 2,
       "version_minor": 0
      },
      "text/plain": [
       "Predicting: 78it [00:00, ?it/s]"
      ]
     },
     "metadata": {},
     "output_type": "display_data"
    },
    {
     "data": {
      "application/vnd.jupyter.widget-view+json": {
       "model_id": "3664200c19ec4af19dbefd2fc2f9cc5d",
       "version_major": 2,
       "version_minor": 0
      },
      "text/plain": [
       "Predicting: 78it [00:00, ?it/s]"
      ]
     },
     "metadata": {},
     "output_type": "display_data"
    },
    {
     "data": {
      "application/vnd.jupyter.widget-view+json": {
       "model_id": "9338df26dc854b999cd86ea5044b43b1",
       "version_major": 2,
       "version_minor": 0
      },
      "text/plain": [
       "Predicting: 78it [00:00, ?it/s]"
      ]
     },
     "metadata": {},
     "output_type": "display_data"
    },
    {
     "data": {
      "application/vnd.jupyter.widget-view+json": {
       "model_id": "aea0bde6b23a44cfae688851cf549c04",
       "version_major": 2,
       "version_minor": 0
      },
      "text/plain": [
       "Predicting: 78it [00:00, ?it/s]"
      ]
     },
     "metadata": {},
     "output_type": "display_data"
    },
    {
     "data": {
      "application/vnd.jupyter.widget-view+json": {
       "model_id": "e3b1c85e5ed64a18a116245ac9f296ae",
       "version_major": 2,
       "version_minor": 0
      },
      "text/plain": [
       "Predicting: 78it [00:00, ?it/s]"
      ]
     },
     "metadata": {},
     "output_type": "display_data"
    },
    {
     "data": {
      "application/vnd.jupyter.widget-view+json": {
       "model_id": "84af0dd5b9bd4bb9a94d53fd6aa4c3f0",
       "version_major": 2,
       "version_minor": 0
      },
      "text/plain": [
       "Predicting: 78it [00:00, ?it/s]"
      ]
     },
     "metadata": {},
     "output_type": "display_data"
    },
    {
     "data": {
      "application/vnd.jupyter.widget-view+json": {
       "model_id": "218308c180c5468cae6a9182256b72f9",
       "version_major": 2,
       "version_minor": 0
      },
      "text/plain": [
       "Predicting: 78it [00:00, ?it/s]"
      ]
     },
     "metadata": {},
     "output_type": "display_data"
    },
    {
     "data": {
      "application/vnd.jupyter.widget-view+json": {
       "model_id": "9bc6c47c8a87416fa25f5a65c39e704c",
       "version_major": 2,
       "version_minor": 0
      },
      "text/plain": [
       "Predicting: 78it [00:00, ?it/s]"
      ]
     },
     "metadata": {},
     "output_type": "display_data"
    },
    {
     "data": {
      "application/vnd.jupyter.widget-view+json": {
       "model_id": "7ceacb77e975469db02da5acb9f59532",
       "version_major": 2,
       "version_minor": 0
      },
      "text/plain": [
       "Predicting: 78it [00:00, ?it/s]"
      ]
     },
     "metadata": {},
     "output_type": "display_data"
    },
    {
     "data": {
      "application/vnd.jupyter.widget-view+json": {
       "model_id": "12488e44c1464514a37add616e7625ed",
       "version_major": 2,
       "version_minor": 0
      },
      "text/plain": [
       "Predicting: 78it [00:00, ?it/s]"
      ]
     },
     "metadata": {},
     "output_type": "display_data"
    },
    {
     "data": {
      "application/vnd.jupyter.widget-view+json": {
       "model_id": "03f3d56cb772440c9e2f176c497c264b",
       "version_major": 2,
       "version_minor": 0
      },
      "text/plain": [
       "Predicting: 78it [00:00, ?it/s]"
      ]
     },
     "metadata": {},
     "output_type": "display_data"
    },
    {
     "data": {
      "application/vnd.jupyter.widget-view+json": {
       "model_id": "0c08efa762704000bbf8e127a4a03bb2",
       "version_major": 2,
       "version_minor": 0
      },
      "text/plain": [
       "Predicting: 78it [00:00, ?it/s]"
      ]
     },
     "metadata": {},
     "output_type": "display_data"
    },
    {
     "data": {
      "application/vnd.jupyter.widget-view+json": {
       "model_id": "3f25cd29269049dc865f4ccb87a32ace",
       "version_major": 2,
       "version_minor": 0
      },
      "text/plain": [
       "Predicting: 78it [00:00, ?it/s]"
      ]
     },
     "metadata": {},
     "output_type": "display_data"
    },
    {
     "data": {
      "application/vnd.jupyter.widget-view+json": {
       "model_id": "a9cca9e495204c74afd2ac657554d4a9",
       "version_major": 2,
       "version_minor": 0
      },
      "text/plain": [
       "Predicting: 78it [00:00, ?it/s]"
      ]
     },
     "metadata": {},
     "output_type": "display_data"
    },
    {
     "data": {
      "application/vnd.jupyter.widget-view+json": {
       "model_id": "81722e94607b457e866be05d0f5fd9c4",
       "version_major": 2,
       "version_minor": 0
      },
      "text/plain": [
       "Predicting: 78it [00:00, ?it/s]"
      ]
     },
     "metadata": {},
     "output_type": "display_data"
    },
    {
     "data": {
      "application/vnd.jupyter.widget-view+json": {
       "model_id": "baff0f2ad7244ce7851617f5058ec15a",
       "version_major": 2,
       "version_minor": 0
      },
      "text/plain": [
       "Predicting: 78it [00:00, ?it/s]"
      ]
     },
     "metadata": {},
     "output_type": "display_data"
    },
    {
     "data": {
      "application/vnd.jupyter.widget-view+json": {
       "model_id": "fb654b396a88412e97fc8eb49785de10",
       "version_major": 2,
       "version_minor": 0
      },
      "text/plain": [
       "Predicting: 78it [00:00, ?it/s]"
      ]
     },
     "metadata": {},
     "output_type": "display_data"
    },
    {
     "data": {
      "application/vnd.jupyter.widget-view+json": {
       "model_id": "2e56678182d840b4b2b70c3ac1017bda",
       "version_major": 2,
       "version_minor": 0
      },
      "text/plain": [
       "Predicting: 78it [00:00, ?it/s]"
      ]
     },
     "metadata": {},
     "output_type": "display_data"
    },
    {
     "data": {
      "application/vnd.jupyter.widget-view+json": {
       "model_id": "2931325008e543b4a1df4c2574782fbd",
       "version_major": 2,
       "version_minor": 0
      },
      "text/plain": [
       "Predicting: 78it [00:00, ?it/s]"
      ]
     },
     "metadata": {},
     "output_type": "display_data"
    },
    {
     "data": {
      "application/vnd.jupyter.widget-view+json": {
       "model_id": "7ab5ce6c10854afdb846907fdb9456b4",
       "version_major": 2,
       "version_minor": 0
      },
      "text/plain": [
       "Predicting: 78it [00:00, ?it/s]"
      ]
     },
     "metadata": {},
     "output_type": "display_data"
    },
    {
     "data": {
      "application/vnd.jupyter.widget-view+json": {
       "model_id": "020a37468d054b96ade5f0b4e5d278e6",
       "version_major": 2,
       "version_minor": 0
      },
      "text/plain": [
       "Predicting: 78it [00:00, ?it/s]"
      ]
     },
     "metadata": {},
     "output_type": "display_data"
    },
    {
     "data": {
      "application/vnd.jupyter.widget-view+json": {
       "model_id": "a21cd504dbba444c9f76b2ad65d653f1",
       "version_major": 2,
       "version_minor": 0
      },
      "text/plain": [
       "Predicting: 78it [00:00, ?it/s]"
      ]
     },
     "metadata": {},
     "output_type": "display_data"
    },
    {
     "data": {
      "application/vnd.jupyter.widget-view+json": {
       "model_id": "311164ef63864f498f596a98371a2992",
       "version_major": 2,
       "version_minor": 0
      },
      "text/plain": [
       "Predicting: 78it [00:00, ?it/s]"
      ]
     },
     "metadata": {},
     "output_type": "display_data"
    },
    {
     "data": {
      "application/vnd.jupyter.widget-view+json": {
       "model_id": "7ce1ba642b6c4686bf2ea383021a71c0",
       "version_major": 2,
       "version_minor": 0
      },
      "text/plain": [
       "Predicting: 78it [00:00, ?it/s]"
      ]
     },
     "metadata": {},
     "output_type": "display_data"
    },
    {
     "data": {
      "application/vnd.jupyter.widget-view+json": {
       "model_id": "7512496ca14f4c8a91c9220a8e71208a",
       "version_major": 2,
       "version_minor": 0
      },
      "text/plain": [
       "Predicting: 78it [00:00, ?it/s]"
      ]
     },
     "metadata": {},
     "output_type": "display_data"
    },
    {
     "data": {
      "application/vnd.jupyter.widget-view+json": {
       "model_id": "55a1e58a10d84ae39e703167837f9882",
       "version_major": 2,
       "version_minor": 0
      },
      "text/plain": [
       "Predicting: 78it [00:00, ?it/s]"
      ]
     },
     "metadata": {},
     "output_type": "display_data"
    },
    {
     "data": {
      "application/vnd.jupyter.widget-view+json": {
       "model_id": "01c59d4bd6884b83ba78908e240d83b9",
       "version_major": 2,
       "version_minor": 0
      },
      "text/plain": [
       "Predicting: 78it [00:00, ?it/s]"
      ]
     },
     "metadata": {},
     "output_type": "display_data"
    },
    {
     "data": {
      "application/vnd.jupyter.widget-view+json": {
       "model_id": "0d936884e8204e2088a73fec0eb3ed70",
       "version_major": 2,
       "version_minor": 0
      },
      "text/plain": [
       "Predicting: 78it [00:00, ?it/s]"
      ]
     },
     "metadata": {},
     "output_type": "display_data"
    },
    {
     "data": {
      "application/vnd.jupyter.widget-view+json": {
       "model_id": "d87cfebe6c344fbfa7275d6c85ab0444",
       "version_major": 2,
       "version_minor": 0
      },
      "text/plain": [
       "Predicting: 78it [00:00, ?it/s]"
      ]
     },
     "metadata": {},
     "output_type": "display_data"
    },
    {
     "data": {
      "application/vnd.jupyter.widget-view+json": {
       "model_id": "b0a4a5bf0f214f65a7c4cad1bb177f77",
       "version_major": 2,
       "version_minor": 0
      },
      "text/plain": [
       "Predicting: 78it [00:00, ?it/s]"
      ]
     },
     "metadata": {},
     "output_type": "display_data"
    },
    {
     "data": {
      "application/vnd.jupyter.widget-view+json": {
       "model_id": "12042d3eebb84155bb848626eb4d3272",
       "version_major": 2,
       "version_minor": 0
      },
      "text/plain": [
       "Predicting: 78it [00:00, ?it/s]"
      ]
     },
     "metadata": {},
     "output_type": "display_data"
    },
    {
     "data": {
      "application/vnd.jupyter.widget-view+json": {
       "model_id": "c55e90ec6afe49bbba95887d74fd63d2",
       "version_major": 2,
       "version_minor": 0
      },
      "text/plain": [
       "Predicting: 78it [00:00, ?it/s]"
      ]
     },
     "metadata": {},
     "output_type": "display_data"
    },
    {
     "data": {
      "application/vnd.jupyter.widget-view+json": {
       "model_id": "26e0b8d5cb4a4aaab3de906a60ff4a86",
       "version_major": 2,
       "version_minor": 0
      },
      "text/plain": [
       "Predicting: 78it [00:00, ?it/s]"
      ]
     },
     "metadata": {},
     "output_type": "display_data"
    },
    {
     "data": {
      "application/vnd.jupyter.widget-view+json": {
       "model_id": "c0788682125d446bb4a7c4cff6abaf0f",
       "version_major": 2,
       "version_minor": 0
      },
      "text/plain": [
       "Predicting: 78it [00:00, ?it/s]"
      ]
     },
     "metadata": {},
     "output_type": "display_data"
    },
    {
     "data": {
      "application/vnd.jupyter.widget-view+json": {
       "model_id": "c63689e7bc1045aba3a697433a1963d2",
       "version_major": 2,
       "version_minor": 0
      },
      "text/plain": [
       "Predicting: 78it [00:00, ?it/s]"
      ]
     },
     "metadata": {},
     "output_type": "display_data"
    },
    {
     "data": {
      "application/vnd.jupyter.widget-view+json": {
       "model_id": "28bd5abb647c4ad1abaab20d22225c58",
       "version_major": 2,
       "version_minor": 0
      },
      "text/plain": [
       "Predicting: 78it [00:00, ?it/s]"
      ]
     },
     "metadata": {},
     "output_type": "display_data"
    },
    {
     "data": {
      "application/vnd.jupyter.widget-view+json": {
       "model_id": "5a465545684c4427800403680e3a8835",
       "version_major": 2,
       "version_minor": 0
      },
      "text/plain": [
       "Predicting: 78it [00:00, ?it/s]"
      ]
     },
     "metadata": {},
     "output_type": "display_data"
    },
    {
     "data": {
      "application/vnd.jupyter.widget-view+json": {
       "model_id": "00e57904e3d3469a95b16b22cfa43d0c",
       "version_major": 2,
       "version_minor": 0
      },
      "text/plain": [
       "Predicting: 78it [00:00, ?it/s]"
      ]
     },
     "metadata": {},
     "output_type": "display_data"
    },
    {
     "data": {
      "application/vnd.jupyter.widget-view+json": {
       "model_id": "09b99fe81829482898b775b300a6b51d",
       "version_major": 2,
       "version_minor": 0
      },
      "text/plain": [
       "Predicting: 78it [00:00, ?it/s]"
      ]
     },
     "metadata": {},
     "output_type": "display_data"
    },
    {
     "data": {
      "application/vnd.jupyter.widget-view+json": {
       "model_id": "82123dbf530b4abea3bead82c54438ff",
       "version_major": 2,
       "version_minor": 0
      },
      "text/plain": [
       "Predicting: 78it [00:00, ?it/s]"
      ]
     },
     "metadata": {},
     "output_type": "display_data"
    },
    {
     "data": {
      "application/vnd.jupyter.widget-view+json": {
       "model_id": "305ed6ac252147df93d5da4533cbfd7a",
       "version_major": 2,
       "version_minor": 0
      },
      "text/plain": [
       "Predicting: 78it [00:00, ?it/s]"
      ]
     },
     "metadata": {},
     "output_type": "display_data"
    },
    {
     "data": {
      "application/vnd.jupyter.widget-view+json": {
       "model_id": "1c10069434664740863378396c7df5a3",
       "version_major": 2,
       "version_minor": 0
      },
      "text/plain": [
       "Predicting: 78it [00:00, ?it/s]"
      ]
     },
     "metadata": {},
     "output_type": "display_data"
    },
    {
     "data": {
      "application/vnd.jupyter.widget-view+json": {
       "model_id": "0e5161d983cc4cbea57a07f778556803",
       "version_major": 2,
       "version_minor": 0
      },
      "text/plain": [
       "Predicting: 78it [00:00, ?it/s]"
      ]
     },
     "metadata": {},
     "output_type": "display_data"
    },
    {
     "data": {
      "application/vnd.jupyter.widget-view+json": {
       "model_id": "ae9d6834f3d64d1e9edbd3bca684d6fa",
       "version_major": 2,
       "version_minor": 0
      },
      "text/plain": [
       "Predicting: 78it [00:00, ?it/s]"
      ]
     },
     "metadata": {},
     "output_type": "display_data"
    },
    {
     "data": {
      "application/vnd.jupyter.widget-view+json": {
       "model_id": "7609740e6c2743e29bedc8360a440775",
       "version_major": 2,
       "version_minor": 0
      },
      "text/plain": [
       "Predicting: 78it [00:00, ?it/s]"
      ]
     },
     "metadata": {},
     "output_type": "display_data"
    },
    {
     "data": {
      "application/vnd.jupyter.widget-view+json": {
       "model_id": "a2d727aaee4c48949be01f0b44c2cd3e",
       "version_major": 2,
       "version_minor": 0
      },
      "text/plain": [
       "Predicting: 78it [00:00, ?it/s]"
      ]
     },
     "metadata": {},
     "output_type": "display_data"
    },
    {
     "data": {
      "application/vnd.jupyter.widget-view+json": {
       "model_id": "ec4771c0940940638913b0c224c1150b",
       "version_major": 2,
       "version_minor": 0
      },
      "text/plain": [
       "Predicting: 78it [00:00, ?it/s]"
      ]
     },
     "metadata": {},
     "output_type": "display_data"
    },
    {
     "data": {
      "application/vnd.jupyter.widget-view+json": {
       "model_id": "1de5474249e94479b6b8b0912cd02250",
       "version_major": 2,
       "version_minor": 0
      },
      "text/plain": [
       "Predicting: 78it [00:00, ?it/s]"
      ]
     },
     "metadata": {},
     "output_type": "display_data"
    }
   ],
   "source": [
    "backtests = model.historical_forecasts(series,\n",
    "                                       # past_covariates=covariates,\n",
    "                                       num_samples=100,\n",
    "                                       start=.5,\n",
    "                                       retrain=False,\n",
    "                                       forecast_horizon=n,\n",
    "                                       stride=1,\n",
    "                                       verbose=True\n",
    "                                      )\n"
   ]
  },
  {
   "cell_type": "code",
   "execution_count": 27,
   "metadata": {},
   "outputs": [
    {
     "data": {
      "text/plain": [
       "<matplotlib.legend.Legend at 0x7f868cc72850>"
      ]
     },
     "execution_count": 27,
     "metadata": {},
     "output_type": "execute_result"
    },
    {
     "data": {
      "image/png": "[encoded data removed]",
      "text/plain": [
       "<Figure size 1080x432 with 1 Axes>"
      ]
     },
     "metadata": {
      "needs_background": "light"
     },
     "output_type": "display_data"
    }
   ],
   "source": [
    "fig,ax = plt.subplots(figsize=(15,6))\n",
    "series['GPP_SOLO'].plot(ax=ax, lw=2, label='Observations')\n",
    "\n",
    "err = mape(backtests[['GPP_SOLO']], series[['GPP_SOLO']])\n",
    "\n",
    "backtests['GPP_SOLO'].plot(ax=ax, lw=2, label='{}, MAPE={:.2f} %'.format('Forecast', err), low_quantile=.05, high_quantile=0.95)\n",
    "plt.ylabel(var_names[0]+' gC/m2/week')\n",
    "plt.xlabel('')\n",
    "# plt.title('Backtests with 12-week forecast horizon')\n",
    "# plt.axvline(pd.Timestamp(test[idx].data_array().time.values[0]), color='red', linestyle='--')\n",
    "plt.legend()"
   ]
  },
  {
   "cell_type": "code",
   "execution_count": null,
   "metadata": {},
   "outputs": [],
   "source": []
  },
  {
   "cell_type": "code",
   "execution_count": null,
   "metadata": {},
   "outputs": [],
   "source": []
  },
  {
   "cell_type": "code",
   "execution_count": null,
   "metadata": {},
   "outputs": [],
   "source": []
  },
  {
   "cell_type": "markdown",
   "metadata": {},
   "source": [
    "## Cuts\n",
    "\n",
    "---"
   ]
  },
  {
   "cell_type": "markdown",
   "metadata": {},
   "source": [
    "### Per pixel time-series"
   ]
  },
  {
   "cell_type": "code",
   "execution_count": null,
   "metadata": {},
   "outputs": [],
   "source": [
    "# gpp=xr.open_dataarray('/g/data/os22/chad_tmp/NEE_modelling/data/5km/GOSIF_GPP_5km_monthly_2002_2021.nc').drop('spatial_ref')\n",
    "# rain=xr.open_dataarray('/g/data/os22/chad_tmp/NEE_modelling/data/5km/chirps_5km_monthly_1991_2021.nc').drop('spatial_ref').sel(time=slice('2002', '2021'))\n",
    "\n",
    "# gpp=gpp.isel(latitude=slice(300,305), longitude=slice(300,305))\n",
    "# rain=rain.isel(latitude=slice(300,305), longitude=slice(300,305))\n",
    "\n",
    "# # da=da.stack(component=('latitude', 'longitude'))\n",
    "# # da = da.expand_dims({'sample':1}, axis=-1)\n",
    "# # da['time'] = da['time'].astype(\"datetime64[M]\")\n",
    "# # df_in = TimeSeries.from_xarray(da)\n",
    "\n",
    "# def process(df):\n",
    "#     df = df.reset_index()\n",
    "#     df['time'] = df['time'].astype(\"datetime64[M]\")\n",
    "#     df = df.set_index('time')\n",
    "#     return df\n",
    "\n",
    "# tss = []\n",
    "# i=0\n",
    "# shape = gpp.shape\n",
    "# #loop through pixels\n",
    "# for i in range(shape[1]):\n",
    "#     for j in range(shape[2]):\n",
    "#         gpp_df = gpp.isel(latitude=i, longitude=j).drop(['latitude', 'longitude']).to_dataframe()\n",
    "#         rain_df = rain.isel(latitude=i, longitude=j).drop(['latitude', 'longitude']).to_dataframe()\n",
    "#         gpp_df = process(gpp_df)\n",
    "#         rain_df = process(rain_df)\n",
    "#         df = pd.concat([gpp_df,rain_df], join='inner', axis=1)\n",
    "#         ts = TimeSeries.from_dataframe(df)\n",
    "#         covariates = datetime_attribute_timeseries(ts.time_index, attribute=\"week\")\n",
    "#         covariates = covariates.stack(datetime_attribute_timeseries(ts.time_index, attribute=\"month\"))\n",
    "#         covariates = covariates.stack(datetime_attribute_timeseries(ts.time_index, attribute=\"year\"))\n",
    "#         ts = ts.stack(covariates)\n",
    "#         tss.append(ts)\n",
    "#         # i+=1\n",
    "#     i+=1*shape[2]\n",
    "#     print(\" {:04}/{:04}\\r\".format(i, shape[1]*shape[2]), end=\"\")"
   ]
  },
  {
   "cell_type": "code",
   "execution_count": null,
   "metadata": {},
   "outputs": [],
   "source": []
  }
 ],
 "metadata": {
  "kernelspec": {
   "display_name": "Python 3 (ipykernel)",
   "language": "python",
   "name": "python3"
  },
  "language_info": {
   "codemirror_mode": {
    "name": "ipython",
    "version": 3
   },
   "file_extension": ".py",
   "mimetype": "text/x-python",
   "name": "python",
   "nbconvert_exporter": "python",
   "pygments_lexer": "ipython3",
   "version": "3.8.8"
  }
 },
 "nbformat": 4,
 "nbformat_minor": 4
}
