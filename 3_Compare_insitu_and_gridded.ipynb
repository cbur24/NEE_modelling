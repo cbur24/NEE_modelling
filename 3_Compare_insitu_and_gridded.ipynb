{
 "cells": [
  {
   "cell_type": "markdown",
   "metadata": {},
   "source": [
    "# Exploring and comparing the EC tower data with gridded datasets\n",
    "\n",
    "* Per-site, facet plots:\n",
    "    * For common in-situ and gridded variables: Ta, VPD, rainfall, incoming solar\n",
    "        * Correlation matrices\n",
    "        * 1:1 plots with r2 and MAE\n",
    "        * Distributions\n",
    "* Group all sites together\n",
    "    * Distributions \n",
    "\n",
    "     "
   ]
  },
  {
   "cell_type": "markdown",
   "metadata": {},
   "source": [
    "## Load modules"
   ]
  },
  {
   "cell_type": "code",
   "execution_count": null,
   "metadata": {},
   "outputs": [],
   "source": [
    "import os\n",
    "import scipy as sp\n",
    "import numpy as np\n",
    "import pandas as pd\n",
    "import seaborn as sb\n",
    "import xarray as xr\n",
    "import matplotlib.pyplot as plt\n",
    "from sklearn.metrics import mean_absolute_error\n"
   ]
  },
  {
   "cell_type": "markdown",
   "metadata": {},
   "source": [
    "## Analysis parameters"
   ]
  },
  {
   "cell_type": "code",
   "execution_count": null,
   "metadata": {},
   "outputs": [],
   "source": [
    "path = '/g/data/os22/chad_tmp/NEE_modelling/results/training_data/'"
   ]
  },
  {
   "cell_type": "markdown",
   "metadata": {},
   "source": [
    "First, stitch all the training data together add site name as field "
   ]
  },
  {
   "cell_type": "code",
   "execution_count": null,
   "metadata": {
    "tags": []
   },
   "outputs": [],
   "source": [
    "dffs = []\n",
    "for i in os.listdir(path):\n",
    "    if 'csv' in i:\n",
    "        df = pd.read_csv(path+i,index_col='time', parse_dates=True)\n",
    "        df['site_name'] = i[0:3]\n",
    "        dffs.append(df)\n",
    "\n",
    "df = pd.concat(dffs)"
   ]
  },
  {
   "cell_type": "markdown",
   "metadata": {},
   "source": [
    "##  1:1 point-to-pixel comparisons"
   ]
  },
  {
   "cell_type": "markdown",
   "metadata": {},
   "source": [
    "Function for producing nice 1:1 plots grouped by a variable in the dataframe"
   ]
  },
  {
   "cell_type": "code",
   "execution_count": null,
   "metadata": {},
   "outputs": [],
   "source": [
    "def one_to_one(df, x, y, groupby_var, title, col_wrap, adjust, output_path, ax_lim=(None,None)):\n",
    "    df = df[[x, y, groupby_var]].dropna()\n",
    "    fg = sb.FacetGrid(df, col=groupby_var, col_wrap=col_wrap, margin_titles=True)\n",
    "    fg.map(sb.scatterplot,x,y,color=\"#338844\", edgecolor=\"white\", s=50, lw=1, alpha=0.5)\n",
    "    fg.map(sb.regplot, x, y, scatter=False, color='m')\n",
    "    fg.map(sb.regplot, x, x, scatter=False, color='black', line_kws={'linestyle':'dashed'})\n",
    "    fg.set(ylim=ax_lim, xlim=ax_lim)\n",
    "    fg.set_axis_labels(\"In-situ\", \"Gridded\")\n",
    "\n",
    "    def annotate(data,**kws):\n",
    "        r, p = sp.stats.pearsonr(data[x], data[y])\n",
    "        mae = mean_absolute_error(data[x], data[y])\n",
    "        ax = plt.gca()\n",
    "        ax.text(.05, .8, 'r={:.3f}'.format(r),\n",
    "                transform=ax.transAxes)\n",
    "        ax.text(.05, .7, 'mae={:.3g}'.format(mae),\n",
    "                transform=ax.transAxes)\n",
    "\n",
    "    fg.map_dataframe(annotate)\n",
    "    fg.fig.subplots_adjust(top=adjust)\n",
    "    fg.fig.suptitle(title)\n",
    "    plt.savefig(output_path);"
   ]
  },
  {
   "cell_type": "markdown",
   "metadata": {},
   "source": [
    "Site specific 1:1 plots"
   ]
  },
  {
   "cell_type": "code",
   "execution_count": null,
   "metadata": {},
   "outputs": [],
   "source": [
    "one_to_one(df,\n",
    "           x='Precip_EC',\n",
    "           y='precip_RS',\n",
    "           groupby_var='site_name',\n",
    "           title=f'Rainfall (mm)', #W/m\\N{SUPERSCRIPT TWO}\n",
    "           col_wrap=5,\n",
    "           ax_lim=(0,400),\n",
    "           adjust=0.935, \n",
    "           output_path='/g/data/os22/chad_tmp/NEE_modelling/results/figs/one_to_one/precip_site_name.png'\n",
    "          )\n"
   ]
  },
  {
   "cell_type": "markdown",
   "metadata": {},
   "source": [
    "Group by simplified landcover class"
   ]
  },
  {
   "cell_type": "code",
   "execution_count": null,
   "metadata": {},
   "outputs": [],
   "source": [
    "one_to_one(df,\n",
    "           x='Precip_EC',\n",
    "           y='precip_RS',\n",
    "           groupby_var='IGBP_class_RS',\n",
    "           title=f'Rainfall (mm)', #W/m\\N{SUPERSCRIPT TWO},\n",
    "           ax_lim=(0,500),\n",
    "           col_wrap=3,\n",
    "           adjust=0.8,\n",
    "           output_path='/g/data/os22/chad_tmp/NEE_modelling/results/figs/one_to_one/precip_IGBP.png'\n",
    "          )"
   ]
  },
  {
   "cell_type": "markdown",
   "metadata": {},
   "source": [
    "---\n",
    "\n",
    "## Compare insitu distributions (EC data) with remotely sensed distributions (Aus-wide)"
   ]
  },
  {
   "cell_type": "markdown",
   "metadata": {},
   "source": [
    "### First prepare the EC data"
   ]
  },
  {
   "cell_type": "code",
   "execution_count": null,
   "metadata": {},
   "outputs": [],
   "source": [
    "ec_vars = df.filter(regex='EC').drop(['NEE_SOLO_EC', 'GPP_SOLO_EC', 'ER_SOLO_EC', 'RH_EC', 'Sws_EC', 'Fe_EC', 'Fn_EC', 'Fh_EC', 'Fld_EC'],\n",
    "                                     axis=1).rename({'Ta_EC':'Ta', 'Precip_EC':'precip','Fsd_EC':'Fsd','VPD_EC':'VPD'},axis=1).reset_index(drop=True)\n",
    "ec_vars.head()\n",
    "ec_vars['Measurement'] = 'EC'"
   ]
  },
  {
   "cell_type": "markdown",
   "metadata": {},
   "source": [
    "### Gather the gridded data over all of Aus\n",
    "\n",
    "Extract a random subsample of data to keep compute down"
   ]
  },
  {
   "cell_type": "code",
   "execution_count": null,
   "metadata": {
    "tags": []
   },
   "outputs": [],
   "source": [
    "n = 100000\n",
    "\n",
    "#temperature\n",
    "print('Sampling Ta')\n",
    "ta_rs = xr.open_dataset('/g/data/os22/chad_tmp/NEE_modelling/data/AWRA/tavg_monthly_1991_2021.nc')\n",
    "ta_rs = ta_rs.rename({'temp_avg_month':'Ta'})\n",
    "ta_rs = ta_rs.sel(time=slice('2003', '2021'))\n",
    "ta_rs = ta_rs.Ta.to_dataframe().reset_index(\n",
    "        level=[1, 2]).drop(['latitude', 'longitude'], axis=1).sample(n=n).reset_index(drop=True)\n",
    "ta_rs['Measurement'] = 'RS'\n",
    "\n",
    "# shrtwave radiation\n",
    "print('Sampling solar radiation')\n",
    "solar = xr.open_dataset('/g/data/os22/chad_tmp/NEE_modelling/data/AWRA/solar_monthly_wm2_2000_2021.nc')\n",
    "solar = solar.rename({'solar_exposure_day':'Fsd'})\n",
    "solar = solar.sel(time=slice('2003', '2021'))\n",
    "solar = solar.Fsd.to_dataframe().reset_index(\n",
    "        level=[1, 2]).drop(['latitude', 'longitude', 'spatial_ref'], axis=1).sample(n=n).reset_index(drop=True)\n",
    "solar['Measurement'] = 'RS'\n",
    "\n",
    "#rainfall\n",
    "print('Sampling Rainfall')\n",
    "rain = xr.open_dataset('/g/data/os22/chad_tmp/NEE_modelling/data/chirps_aus_monthly_1991_2021.nc')\n",
    "rain = rain.sel(time=slice('2003', '2021'))\n",
    "rain = rain.precip.to_dataframe().reset_index(\n",
    "        level=[1, 2]).drop(['latitude', 'longitude', 'spatial_ref'], axis=1).sample(n=n).reset_index(drop=True)\n",
    "rain['Measurement'] = 'RS'\n",
    "\n",
    "#vapour pressure deficit\n",
    "print('Sampling VPD')\n",
    "vpd = xr.open_dataset('/g/data/os22/chad_tmp/NEE_modelling/data/AWRA/vpd_monthly_2000_2021.nc')\n",
    "vpd = vpd.sel(time=slice('2003', '2021'))\n",
    "vpd = vpd.VPD.to_dataframe().reset_index(\n",
    "        level=[1, 2]).drop(['latitude', 'longitude', 'spatial_ref'], axis=1).sample(n=n).reset_index(drop=True)\n",
    "vpd['Measurement'] = 'RS'"
   ]
  },
  {
   "cell_type": "markdown",
   "metadata": {},
   "source": [
    "### Join EC and remote sensing data, then wrangle into individual dataframes"
   ]
  },
  {
   "cell_type": "code",
   "execution_count": null,
   "metadata": {},
   "outputs": [],
   "source": [
    "df = pd.concat([ec_vars, ta_rs, solar, rain, vpd])\n",
    "\n",
    "ta = df[['Ta', 'Measurement']].melt(id_vars=['Measurement'], var_name='Ta').dropna().reset_index(drop=True)\n",
    "vpd = df[['VPD', 'Measurement']].melt(id_vars=['Measurement'], var_name='VPD').dropna().reset_index(drop=True)\n",
    "precip = df[['precip', 'Measurement']].melt(id_vars=['Measurement'], var_name='precip').dropna().reset_index(drop=True)\n",
    "precip = precip[precip.value < 300]\n",
    "solar = df[['Fsd', 'Measurement']].melt(id_vars=['Measurement'], var_name='Fsd').dropna().reset_index(drop=True)"
   ]
  },
  {
   "cell_type": "markdown",
   "metadata": {},
   "source": [
    "### Create violin plots"
   ]
  },
  {
   "cell_type": "code",
   "execution_count": null,
   "metadata": {},
   "outputs": [],
   "source": [
    "fig, ax = plt.subplots(1, 4, figsize=(16,7), sharey=False, sharex=False)\n",
    "sb.violinplot(x=\"Ta\", y=\"value\", hue=\"Measurement\", ax=ax[0], data=ta, palette=\"muted\", split=True, inner=\"quartile\", scale='width')\n",
    "sb.violinplot(x=\"VPD\", y=\"value\", hue=\"Measurement\", ax=ax[1], data=vpd, palette=\"muted\", split=True,inner=\"quartile\")\n",
    "sb.violinplot(x=\"precip\", y=\"value\", hue=\"Measurement\", ax=ax[2], data=precip, palette=\"muted\", split=True, inner=\"quartile\")\n",
    "sb.violinplot(x=\"Fsd\", y=\"value\", hue=\"Measurement\", ax=ax[3], data=solar, palette=\"muted\", split=True, inner=\"quartile\");\n",
    "\n",
    "degree_sign = u'\\N{DEGREE SIGN}'\n",
    "units = [degree_sign+'C', 'Pa', 'mm', f'W/m\\N{SUPERSCRIPT TWO}']\n",
    "\n",
    "for i,j in zip(ax, units):\n",
    "    i.set_ylabel(j)\n",
    "    i.set_xlabel('')\n",
    "plt.suptitle('Eddy covariance vs gridded data')\n",
    "plt.tight_layout()\n",
    "plt.savefig('/g/data/os22/chad_tmp/NEE_modelling/results/figs/ec_vs_rs_violinplots.png');"
   ]
  },
  {
   "cell_type": "markdown",
   "metadata": {},
   "source": [
    "---\n",
    "## Correlation matrices"
   ]
  },
  {
   "cell_type": "code",
   "execution_count": null,
   "metadata": {},
   "outputs": [],
   "source": [
    "def corr_matrix_ec(df, groupby_var, suffix, drop, col_wrap, output_path, height=4, aspect=1):\n",
    "    df = df.filter(regex=r'(_EC|site)').drop(drop,axis=1)\n",
    "    df = df.sort_values('site_name')\n",
    "    df.columns = df.columns.str.rstrip(suffix)\n",
    "    df = df.rename({'NEE_SOLO':'NEE', 'GPP_SOLO':'GPP', 'ER_SOLO':'ER'}, axis=1)\n",
    "    fg = sb.FacetGrid(df, col=groupby_var, col_wrap=col_wrap, sharex=False, height=height, aspect=aspect)\n",
    "    fg.map_dataframe(lambda data, color: sb.heatmap(data.corr(),vmin=-1.0, vmax=1.0,annot=True, cbar=False,  cmap=\"bwr_r\", mask=np.triu(np.ones_like(data.corr(), dtype=bool))))\n",
    "    plt.savefig(output_path);\n",
    "    \n",
    "corr_matrix_ec(df=df,       \n",
    "           suffix='_EC',\n",
    "           drop=['Fe_EC','Fh_EC','Fld_EC', 'Sws_EC', 'RH_EC','Fn_EC'],\n",
    "           groupby_var='site_name',\n",
    "           col_wrap=6,\n",
    "           output_path='/g/data/os22/chad_tmp/NEE_modelling/results/figs/corr_ec.png'\n",
    "           )"
   ]
  },
  {
   "cell_type": "code",
   "execution_count": null,
   "metadata": {},
   "outputs": [],
   "source": [
    "def corr_matrix_rs(df, groupby_var, suffix, drop, col_wrap, output_path, height=4, aspect=1):\n",
    "    df = df.set_index(['site_name'], append=True)\n",
    "    fluxes = df[['NEE_SOLO_EC', 'GPP_SOLO_EC','ER_SOLO_EC']]\n",
    "    df = df.filter(regex=r'(_RS|site)').drop(drop,axis=1)\n",
    "    df = df[['Ta_RS','precip_RS','solar_RS', 'VPD_RS']] # reorder to match EC order\n",
    "    df = fluxes.join(df)\n",
    "    df = df.reset_index(level=[1])\n",
    "    df = df.sort_values('site_name')\n",
    "    df.columns = df.columns.str.rstrip(suffix)\n",
    "    df = df.rename({'NEE_SOLO_EC':'NEE', 'GPP_SOLO_EC':'GPP', 'ER_SOLO_EC':'ER', 'solar':'Fsd'}, axis=1)\n",
    "    fg = sb.FacetGrid(df, col=groupby_var, col_wrap=col_wrap, sharex=False, height=height, aspect=aspect)\n",
    "    fg.map_dataframe(lambda data, color: sb.heatmap(data.corr(), vmin=-1.0, vmax=1.0, annot=True, cbar=False,  cmap=\"bwr_r\", mask=np.triu(np.ones_like(data.corr(), dtype=bool))))\n",
    "    plt.savefig(output_path);\n",
    "    \n",
    "corr_matrix_rs(df=df,       \n",
    "           suffix='_RS',\n",
    "           drop=['lai_RS', 'LST_RS', 'Fpar_RS', 'soil_moisture_RS', 'LST-Tair_RS','spei_RS','precip_cml_RS', 'IGBP_class_RS'],\n",
    "           groupby_var='site_name',\n",
    "           col_wrap=6,\n",
    "           output_path='/g/data/os22/chad_tmp/NEE_modelling/results/figs/corr_rs.png'\n",
    "           )"
   ]
  },
  {
   "cell_type": "code",
   "execution_count": null,
   "metadata": {},
   "outputs": [],
   "source": []
  },
  {
   "cell_type": "code",
   "execution_count": null,
   "metadata": {},
   "outputs": [],
   "source": []
  },
  {
   "cell_type": "code",
   "execution_count": null,
   "metadata": {},
   "outputs": [],
   "source": []
  },
  {
   "cell_type": "code",
   "execution_count": null,
   "metadata": {},
   "outputs": [],
   "source": []
  },
  {
   "cell_type": "code",
   "execution_count": null,
   "metadata": {},
   "outputs": [],
   "source": []
  },
  {
   "cell_type": "code",
   "execution_count": null,
   "metadata": {},
   "outputs": [],
   "source": [
    "corr = df.filter(regex='EC').drop(['Fe_EC','Fh_EC','Fld_EC', 'Sws_EC', 'RH_EC','Fn_EC'],axis=1).corr()\n",
    "mask = np.triu(np.ones_like(corr, dtype=bool))\n",
    "fig,ax=plt.subplots(1,1, figsize=(8,8))\n",
    "sb.heatmap(corr, cmap=\"bwr_r\", annot=True, ax=ax, cbar=False, mask=mask)\n",
    "plt.title('Correlations between CO2 fluxes and in-situ climate variables');"
   ]
  },
  {
   "cell_type": "code",
   "execution_count": null,
   "metadata": {},
   "outputs": [],
   "source": [
    "fluxes = df[['NEE_SOLO_EC', 'GPP_SOLO_EC','ER_SOLO_EC']]\n",
    "rs = df.filter(regex='RS')"
   ]
  },
  {
   "cell_type": "code",
   "execution_count": null,
   "metadata": {},
   "outputs": [],
   "source": [
    "rs.columns"
   ]
  },
  {
   "cell_type": "code",
   "execution_count": null,
   "metadata": {},
   "outputs": [],
   "source": [
    "corr = fluxes.join(rs).drop(['lai_RS', 'LST_RS', 'Fpar_RS', 'soil_moisture_RS', 'LST-Tair_RS','spei_RS','precip_cml_RS'],axis=1).corr()\n",
    "mask = np.triu(np.ones_like(corr, dtype=bool))\n",
    "fig,ax=plt.subplots(1,1, figsize=(10,10))\n",
    "sb.heatmap(corr, cmap=\"bwr_r\", annot=True, ax=ax, cbar=False, mask=mask)\n",
    "plt.title('Correlations between CO2 fluxes and gridded climate variables');"
   ]
  },
  {
   "cell_type": "code",
   "execution_count": null,
   "metadata": {},
   "outputs": [],
   "source": []
  },
  {
   "cell_type": "code",
   "execution_count": null,
   "metadata": {},
   "outputs": [],
   "source": []
  }
 ],
 "metadata": {
  "kernelspec": {
   "display_name": "Python 3 (ipykernel)",
   "language": "python",
   "name": "python3"
  },
  "language_info": {
   "codemirror_mode": {
    "name": "ipython",
    "version": 3
   },
   "file_extension": ".py",
   "mimetype": "text/x-python",
   "name": "python",
   "nbconvert_exporter": "python",
   "pygments_lexer": "ipython3",
   "version": "3.9.2"
  }
 },
 "nbformat": 4,
 "nbformat_minor": 4
}
