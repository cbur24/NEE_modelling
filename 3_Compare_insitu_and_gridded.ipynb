{
 "cells": [
  {
   "cell_type": "markdown",
   "metadata": {},
   "source": [
    "# Exploring and comparing the EC tower data with gridded datasets\n",
    "\n",
    "* Per-site, facet plots:\n",
    "    * For common in-situ and gridded variables: Ta, VPD, rainfall, incoming solar\n",
    "        * Correlation matrices\n",
    "        * 1:1 plots with r2 and MAE\n",
    "        * Distributions\n",
    "* Group all sites together\n",
    "    * Distributions \n",
    "\n",
    "     "
   ]
  },
  {
   "cell_type": "markdown",
   "metadata": {},
   "source": [
    "## Load modules"
   ]
  },
  {
   "cell_type": "code",
   "execution_count": 1,
   "metadata": {},
   "outputs": [],
   "source": [
    "import os\n",
    "import scipy as sp\n",
    "import numpy as np\n",
    "import pandas as pd\n",
    "import seaborn as sb\n",
    "import xarray as xr\n",
    "import matplotlib.pyplot as plt\n",
    "from sklearn.metrics import mean_absolute_error\n"
   ]
  },
  {
   "cell_type": "markdown",
   "metadata": {},
   "source": [
    "## Analysis parameters"
   ]
  },
  {
   "cell_type": "code",
   "execution_count": 2,
   "metadata": {},
   "outputs": [],
   "source": [
    "path = '/g/data/os22/chad_tmp/NEE_modelling/results/training_data/'"
   ]
  },
  {
   "cell_type": "markdown",
   "metadata": {},
   "source": [
    "First, stitch all the trainng data together add site name as field "
   ]
  },
  {
   "cell_type": "code",
   "execution_count": 3,
   "metadata": {
    "tags": []
   },
   "outputs": [],
   "source": [
    "dffs = []\n",
    "for i in os.listdir(path):\n",
    "    if 'csv' in i:\n",
    "        df = pd.read_csv(path+i,index_col='time', parse_dates=True)\n",
    "        df['site_name'] = i[0:3]\n",
    "        dffs.append(df)\n",
    "\n",
    "df = pd.concat(dffs)"
   ]
  },
  {
   "cell_type": "markdown",
   "metadata": {},
   "source": [
    "## Facet plot of 1:1 comparisons"
   ]
  },
  {
   "cell_type": "markdown",
   "metadata": {},
   "source": [
    "Function for producing nice 1:1 plots grouped by a variable in the dataframe"
   ]
  },
  {
   "cell_type": "code",
   "execution_count": null,
   "metadata": {},
   "outputs": [],
   "source": [
    "def one_to_one(df, x, y, groupby_var, title, col_wrap, adjust, output_path, ax_lim=(None,None)):\n",
    "    df = df[[x, y, groupby_var]].dropna()\n",
    "    fg = sb.FacetGrid(df, col=groupby_var, col_wrap=col_wrap, margin_titles=True)\n",
    "    fg.map(sb.scatterplot,x,y,color=\"#338844\", edgecolor=\"white\", s=50, lw=1, alpha=0.5)\n",
    "    fg.map(sb.regplot, x, y, scatter=False, color='m')\n",
    "    fg.map(sb.regplot, x, x, scatter=False, color='black', line_kws={'linestyle':'dashed'})\n",
    "    fg.set(ylim=ax_lim, xlim=ax_lim)\n",
    "    fg.set_axis_labels(\"In-situ\", \"Gridded\")\n",
    "\n",
    "    def annotate(data,**kws):\n",
    "        r, p = sp.stats.pearsonr(data[x], data[y])\n",
    "        mae = mean_absolute_error(data[x], data[y])\n",
    "        ax = plt.gca()\n",
    "        ax.text(.05, .8, 'r={:.3f}'.format(r),\n",
    "                transform=ax.transAxes)\n",
    "        ax.text(.05, .7, 'mae={:.3g}'.format(mae),\n",
    "                transform=ax.transAxes)\n",
    "\n",
    "    fg.map_dataframe(annotate)\n",
    "    fg.fig.subplots_adjust(top=adjust)\n",
    "    fg.fig.suptitle(title)\n",
    "    plt.savefig(output_path);"
   ]
  },
  {
   "cell_type": "markdown",
   "metadata": {},
   "source": [
    "Site specific 1:1 plots"
   ]
  },
  {
   "cell_type": "code",
   "execution_count": null,
   "metadata": {},
   "outputs": [],
   "source": [
    "one_to_one(df,\n",
    "           x='Precip_EC',\n",
    "           y='precip_RS',\n",
    "           groupby_var='site_name',\n",
    "           title=f'Rainfall (mm)', #W/m\\N{SUPERSCRIPT TWO}\n",
    "           col_wrap=5,\n",
    "           ax_lim=(0,400),\n",
    "           adjust=0.935, \n",
    "           output_path='/g/data/os22/chad_tmp/NEE_modelling/results/figs/one_to_one/precip_site_name.png'\n",
    "          )\n"
   ]
  },
  {
   "cell_type": "markdown",
   "metadata": {},
   "source": [
    "Group by simplified landcover class"
   ]
  },
  {
   "cell_type": "code",
   "execution_count": null,
   "metadata": {},
   "outputs": [],
   "source": [
    "one_to_one(df,\n",
    "           x='Precip_EC',\n",
    "           y='precip_RS',\n",
    "           groupby_var='IGBP_class_RS',\n",
    "           title=f'Rainfall (mm)', #W/m\\N{SUPERSCRIPT TWO},\n",
    "           ax_lim=(0,500),\n",
    "           col_wrap=3,\n",
    "           adjust=0.8,\n",
    "           output_path='/g/data/os22/chad_tmp/NEE_modelling/results/figs/one_to_one/precip_IGBP.png'\n",
    "          )"
   ]
  },
  {
   "cell_type": "markdown",
   "metadata": {},
   "source": [
    "## Insitu and remotely sensed distributions"
   ]
  },
  {
   "cell_type": "code",
   "execution_count": 5,
   "metadata": {},
   "outputs": [
    {
     "data": {
      "text/plain": [
       "Index(['NEE_SOLO_EC', 'GPP_SOLO_EC', 'ER_SOLO_EC', 'Ta_EC', 'Sws_EC', 'RH_EC',\n",
       "       'Precip_EC', 'Fe_EC', 'Fh_EC', 'Fsd_EC', 'Fn_EC', 'Fld_EC', 'VPD_EC',\n",
       "       'lai_RS', 'LST_RS', 'Fpar_RS', 'soil_moisture_RS', 'LST-Tair_RS',\n",
       "       'spei_RS', 'solar_RS', 'Ta_RS', 'VPD_RS', 'precip_RS', 'precip_cml_RS',\n",
       "       'IGBP_class_RS', 'site_name'],\n",
       "      dtype='object')"
      ]
     },
     "execution_count": 5,
     "metadata": {},
     "output_type": "execute_result"
    }
   ],
   "source": [
    "df.columns"
   ]
  },
  {
   "cell_type": "code",
   "execution_count": null,
   "metadata": {},
   "outputs": [],
   "source": [
    "def \n",
    "insitu = df[[x, y, groupby_var]].dropna()"
   ]
  },
  {
   "cell_type": "code",
   "execution_count": null,
   "metadata": {},
   "outputs": [],
   "source": [
    "sns.displot(df, x=\"flipper_length_mm\", hue=\"species\", kind=\"kde\", multiple=\"stack\")"
   ]
  },
  {
   "cell_type": "markdown",
   "metadata": {},
   "source": [
    "## CO2 flux correlation matrices"
   ]
  },
  {
   "cell_type": "code",
   "execution_count": null,
   "metadata": {},
   "outputs": [],
   "source": [
    "df = pd.read_csv(path,index_col='time', parse_dates=True)"
   ]
  },
  {
   "cell_type": "code",
   "execution_count": null,
   "metadata": {},
   "outputs": [],
   "source": [
    "corr = df.filter(regex='EC').drop(['Fe_EC','Fh_EC','Fld_EC'],axis=1).corr()\n",
    "mask = np.triu(np.ones_like(corr, dtype=bool))\n",
    "fig,ax=plt.subplots(1,1, figsize=(8,8))\n",
    "sb.heatmap(corr, cmap=\"bwr_r\", annot=True, ax=ax, cbar=False, mask=mask)\n",
    "plt.title('Correlations between CO2 fluxes and in-situ climate variables');"
   ]
  },
  {
   "cell_type": "code",
   "execution_count": null,
   "metadata": {},
   "outputs": [],
   "source": [
    "fluxes = df[['NEE_SOLO_EC', 'GPP_SOLO_EC','ER_SOLO_EC']]\n",
    "rs = df.filter(regex='RS')"
   ]
  },
  {
   "cell_type": "code",
   "execution_count": null,
   "metadata": {},
   "outputs": [],
   "source": [
    "corr = fluxes.join(rs).corr()\n",
    "mask = np.triu(np.ones_like(corr, dtype=bool))\n",
    "fig,ax=plt.subplots(1,1, figsize=(10,10))\n",
    "sb.heatmap(corr, cmap=\"bwr_r\", annot=True, ax=ax, cbar=False, mask=mask)\n",
    "plt.title('Correlations between CO2 fluxes and gridded climate variables');"
   ]
  },
  {
   "cell_type": "markdown",
   "metadata": {},
   "source": [
    "## Compare in-situ and gridded environmental variables"
   ]
  },
  {
   "cell_type": "code",
   "execution_count": null,
   "metadata": {},
   "outputs": [],
   "source": [
    "df.columns"
   ]
  },
  {
   "cell_type": "code",
   "execution_count": null,
   "metadata": {
    "tags": []
   },
   "outputs": [],
   "source": [
    "var_ec = 'Fsd_EC'\n",
    "var_rs = 'solar_RS'\n",
    "var_name = 'ISW'"
   ]
  },
  {
   "cell_type": "code",
   "execution_count": null,
   "metadata": {},
   "outputs": [],
   "source": [
    "x=df[var_ec].values \n",
    "y=df[var_rs].values #dependent\n",
    "\n",
    "mask = ~np.isnan(x) & ~np.isnan(y)\n",
    "slope, intercept, r, p, sd, = linregress(x[mask], y[mask])\n",
    "\n",
    "mae = mean_absolute_error(x[mask],y[mask])"
   ]
  },
  {
   "cell_type": "code",
   "execution_count": null,
   "metadata": {},
   "outputs": [],
   "source": [
    "fig, ax = plt.subplots(1,1, sharey=True, figsize=(8,6))\n",
    "plt.scatter(x, y)\n",
    "plt.plot(x, intercept + slope * x, '--m')\n",
    "plt.plot(x, x, '-k')\n",
    "plt.text(np.nanmin(x*1.05),np.nanmax(y*0.95),\"r2 = \"+str(round(r**2,4)))\n",
    "plt.text(np.nanmin(x*1.05),np.nanmax(y*0.90),\"MAE = \"+str(round(mae, 3)))\n",
    "ax.set_ylabel('Gridded')\n",
    "ax.set_xlabel('In-situ')\n",
    "ax.set_title(var_name);"
   ]
  },
  {
   "cell_type": "code",
   "execution_count": null,
   "metadata": {},
   "outputs": [],
   "source": []
  },
  {
   "cell_type": "code",
   "execution_count": null,
   "metadata": {},
   "outputs": [],
   "source": []
  }
 ],
 "metadata": {
  "kernelspec": {
   "display_name": "Python 3 (ipykernel)",
   "language": "python",
   "name": "python3"
  },
  "language_info": {
   "codemirror_mode": {
    "name": "ipython",
    "version": 3
   },
   "file_extension": ".py",
   "mimetype": "text/x-python",
   "name": "python",
   "nbconvert_exporter": "python",
   "pygments_lexer": "ipython3",
   "version": "3.9.2"
  }
 },
 "nbformat": 4,
 "nbformat_minor": 4
}
