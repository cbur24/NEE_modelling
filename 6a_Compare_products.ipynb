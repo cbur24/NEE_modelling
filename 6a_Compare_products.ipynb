{
 "cells": [
  {
   "cell_type": "markdown",
   "metadata": {},
   "source": [
    "# Comparing fluxes with other products\n",
    "\n",
    "\n"
   ]
  },
  {
   "cell_type": "code",
   "execution_count": null,
   "metadata": {},
   "outputs": [],
   "source": [
    "import numpy as np\n",
    "import xarray as xr\n",
    "import rioxarray as rxr\n",
    "import geopandas as gpd\n",
    "\n",
    "import matplotlib.pyplot as plt\n",
    "import matplotlib as mpl\n",
    "from matplotlib.colors import ListedColormap\n",
    "\n",
    "from odc.geo.geobox import zoom_out\n",
    "from odc.geo.xr import assign_crs\n",
    "from odc.algo import xr_reproject\n",
    "\n",
    "import sys\n",
    "sys.path.append('/g/data/os22/chad_tmp/NEE_modelling/')\n",
    "from collect_prediction_data import allNaN_arg\n",
    "\n",
    "sys.path.append('/g/data/os22/chad_tmp/dea-notebooks/Tools/')\n",
    "from dea_tools.spatial import xr_rasterize\n",
    "\n",
    "import warnings\n",
    "warnings.filterwarnings(\"ignore\")"
   ]
  },
  {
   "cell_type": "markdown",
   "metadata": {},
   "source": [
    "## Analysis Parameters"
   ]
  },
  {
   "cell_type": "code",
   "execution_count": null,
   "metadata": {},
   "outputs": [],
   "source": [
    "var = 'GPP' #ER #NEE #GPP\n",
    "var_fc = 'GPP' #TER #NEE #GPP\n",
    "var_cable = 'gpp' #nbp #er #gpp\n",
    "suffix='20230109'\n",
    "trim=True\n",
    "trim_date = '2003','2021'\n",
    "\n",
    "results_name = var+'_2003_2021_5km_LGBM_'+suffix+'.nc'\n",
    "# upper = 'NEE_2003_2021_5km_LGBM_quantiles.nc'"
   ]
  },
  {
   "cell_type": "markdown",
   "metadata": {},
   "source": [
    "## Open various datasets"
   ]
  },
  {
   "cell_type": "code",
   "execution_count": null,
   "metadata": {},
   "outputs": [],
   "source": [
    "ds = xr.open_dataarray('/g/data/os22/chad_tmp/NEE_modelling/results/predictions/'+results_name)\n",
    "ds.attrs['nodata'] = np.nan\n",
    "\n",
    "# ds_upper = xr.open_dataarray('/g/data/os22/chad_tmp/NEE_modelling/results/predictions/'+upper)\n",
    "# ds_upper.attrs['nodata'] = np.nan\n",
    "\n",
    "# ds_lower = xr.open_dataarray('/g/data/os22/chad_tmp/NEE_modelling/results/predictions/'+lower)\n",
    "# ds_lower.attrs['nodata'] = np.nan"
   ]
  },
  {
   "cell_type": "code",
   "execution_count": null,
   "metadata": {},
   "outputs": [],
   "source": [
    "# mask = xr.open_dataset('/g/data/os22/chad_tmp/NEE_modelling/results/prediction_data/data_5km.nc')\n",
    "# mask = mask[['FPAR']].to_array().isnull().all('variable')\n",
    "# mask = mask.isel(time=1)\n",
    "\n",
    "# ds = ds.where(~mask)\n",
    "# ds_upper = ds_upper.where(~mask)"
   ]
  },
  {
   "cell_type": "markdown",
   "metadata": {},
   "source": [
    "### Fluxcom"
   ]
  },
  {
   "cell_type": "code",
   "execution_count": null,
   "metadata": {},
   "outputs": [],
   "source": [
    "ds_fc = assign_crs(xr.open_dataset('/g/data/os22/chad_tmp/NEE_modelling/data/FLUXCOM/'+var_fc+'_rs.nc'), crs='epsg:4326').sel(time=slice('2003', '2015'))\n",
    "# ds_fc = ds_fc.rename({'lat':'latitude', 'lon':'longitude'})\n",
    "ds_fc.attrs['nodata'] = np.nan\n",
    "ds_fc['latitude'] = ds_fc.latitude.astype('float32')\n",
    "ds_fc['longitude'] = ds_fc.longitude.astype('float32')\n",
    "\n",
    "ds_fc_met = assign_crs(xr.open_dataset('/g/data/os22/chad_tmp/NEE_modelling/data/FLUXCOM/'+var_fc+'_rs_meteo_era5.nc').sel(time=slice('2003', '2018')), crs='epsg:4326')\n",
    "ds_fc_met = ds_fc_met.rename({'lat':'latitude', 'lon':'longitude'})\n",
    "ds_fc_met.attrs['nodata'] = np.nan\n",
    "ds_fc_met['latitude'] = ds_fc_met.latitude.astype('float32')\n",
    "ds_fc_met['longitude'] = ds_fc_met.longitude.astype('float32')\n"
   ]
  },
  {
   "cell_type": "code",
   "execution_count": null,
   "metadata": {},
   "outputs": [],
   "source": [
    "ds_fc['time'] = ds.sel(time=slice('2003', '2015')).time\n",
    "ds_fc_met['time'] = ds.sel(time=slice('2003', '2018')).time"
   ]
  },
  {
   "cell_type": "markdown",
   "metadata": {},
   "source": [
    "### CABLE\n",
    "\n",
    "<!-- '/g/data/os22/chad_tmp/NEE_modelling/data/CABLE/CABLE_ER_10km_monthly_2000_2019.nc' -->"
   ]
  },
  {
   "cell_type": "code",
   "execution_count": null,
   "metadata": {},
   "outputs": [],
   "source": [
    "cable = xr.open_dataarray('/g/data/os22/chad_tmp/NEE_modelling/data/CABLE/CABLE-BIOS/CABLE_BIOS_'+var_cable+'_25km_monthly_2003_2019.nc')\n",
    "cable_pop = xr.open_dataset('/g/data/os22/chad_tmp/NEE_modelling/data/CABLE/CABLE-POP_v10/CABLE-POP_'+var_cable+'_100km_monthly_2003_2020.nc')\n",
    "cable_pop = cable_pop[var_cable]\n",
    "# cable_nee = cable_nee.sel(time=slice('2003', '2015'))"
   ]
  },
  {
   "cell_type": "markdown",
   "metadata": {},
   "source": [
    "### Fire emissions GFASv12"
   ]
  },
  {
   "cell_type": "code",
   "execution_count": null,
   "metadata": {},
   "outputs": [],
   "source": [
    "fire = xr.open_dataarray('/g/data/os22/chad_tmp/NEE_modelling/data/FireEmissions_10km_monthly_2003_2021.nc')\n",
    "fire = fire.sum(['x', 'y'])\n",
    "fire = fire*12"
   ]
  },
  {
   "cell_type": "markdown",
   "metadata": {},
   "source": [
    "### Obs GPP"
   ]
  },
  {
   "cell_type": "code",
   "execution_count": null,
   "metadata": {},
   "outputs": [],
   "source": [
    "if var == 'GPP':\n",
    "    modis_gpp = xr.open_dataarray('/g/data/os22/chad_tmp/NEE_modelling/data/1km/MODIS_GPP_1km_monthly_2002_2021.nc')\n",
    "    modis_gpp.attrs['nodata'] = np.nan\n",
    "\n",
    "    gosif_gpp = xr.open_dataarray('/g/data/os22/chad_tmp/NEE_modelling/data/5km/GOSIF_GPP_5km_monthly_2002_2021.nc')\n",
    "    gosif_gpp.attrs['nodata'] = np.nan"
   ]
  },
  {
   "cell_type": "markdown",
   "metadata": {},
   "source": [
    "### Villalobos et al \n",
    "\n",
    "Needed to fix the dataset before it could be opened. Used the R script in data/villalobos/"
   ]
  },
  {
   "cell_type": "code",
   "execution_count": null,
   "metadata": {},
   "outputs": [],
   "source": [
    "fn = '/g/data/os22/chad_tmp/NEE_modelling/data/villalobos/post.tif'\n",
    "post = rxr.open_rasterio(fn).rename({'band':'month'})\n",
    "post['month']=ds.sel(time=slice('2015', '2019')).time.values\n",
    "post = post.rename({'month':'time'})\n",
    "#post = xr_reproject(post, geobox=post.odc.geobox.to_crs('epsg:3577').compat, resampling='nearest')\n",
    "# post = assign_crs(post, crs='epsg:3577')\n",
    "post.attrs['nodata'] = np.nan\n",
    "post.attrs['units'] = 'PgC/year'\n",
    "\n",
    "fn = '/g/data/os22/chad_tmp/NEE_modelling/data/villalobos/land.tif'\n",
    "cbl = rxr.open_rasterio(fn).rename({'band':'month'})\n",
    "cbl['month']=ds.sel(time=slice('2015', '2019')).time.values\n",
    "cbl = cbl.rename({'month':'time'})\n",
    "#cable = xr_reproject(cable, geobox=cable.odc.geobox.to_crs('epsg:3577').compat, resampling='nearest')\n",
    "# post = assign_crs(post, crs='epsg:3577')\n",
    "cbl.attrs['nodata'] = np.nan\n",
    "cbl.attrs['units'] = 'PgC/year'\n",
    "\n",
    "fn = '/g/data/os22/chad_tmp/NEE_modelling/data/villalobos/fossil.tif'\n",
    "ff = rxr.open_rasterio(fn).rename({'band':'month'})\n",
    "ff['month']=ds.sel(time=slice('2015', '2019')).time.values\n",
    "ff = ff.rename({'month':'time'})\n",
    "#ff = xr_reproject(ff, geobox=ff.odc.geobox.to_crs('epsg:3577').compat, resampling='nearest')\n",
    "# post = assign_crs(post, crs='epsg:3577')\n",
    "ff.attrs['nodata'] = np.nan\n",
    "ff.attrs['units'] = 'PgC/year'\n",
    "\n",
    "#subtract fossile fuels from inversion\n",
    "post = post - ff\n",
    "\n",
    "# create a mask for this janky dataset\n",
    "mask_inv = cbl.where(cbl==0).isel(time=1)\n",
    "mask_inv = mask_inv.astype(bool)\n",
    "\n",
    "post = post.where(mask_inv)"
   ]
  },
  {
   "cell_type": "markdown",
   "metadata": {},
   "source": [
    "## Reproject to Albers Equal Area"
   ]
  },
  {
   "cell_type": "code",
   "execution_count": null,
   "metadata": {},
   "outputs": [],
   "source": [
    "# grid = zoom_out(ds.odc.geobox, 20)\n",
    "# grid = grid.to_crs('EPSG:3577')\n",
    "# grid"
   ]
  },
  {
   "cell_type": "code",
   "execution_count": null,
   "metadata": {},
   "outputs": [],
   "source": [
    "ds = xr_reproject(ds, geobox=ds.odc.geobox.to_crs('EPSG:3577').compat, resampling='bilinear')\n",
    "# ds_upper = xr_reproject(ds_upper, geobox=ds.odc.geobox.to_crs('EPSG:3577').compat, resampling='bilinear')"
   ]
  },
  {
   "cell_type": "code",
   "execution_count": null,
   "metadata": {},
   "outputs": [],
   "source": [
    "ds_fc = xr_reproject(ds_fc, geobox=ds_fc.odc.geobox.to_crs('EPSG:3577').compat, resampling='bilinear')\n",
    "ds_fc = ds_fc[var_fc] #.where(~mask.astype(bool))\n",
    "ds_fc = ds_fc*30 #/day to /month\n",
    "\n",
    "ds_fc_met = xr_reproject(ds_fc_met, geobox=ds_fc_met.odc.geobox.to_crs('EPSG:3577').compat, resampling='bilinear')\n",
    "ds_fc_met = ds_fc_met[var_fc] #.where(~mask.astype(bool))\n",
    "ds_fc_met = ds_fc_met*30 #/day to /month"
   ]
  },
  {
   "cell_type": "code",
   "execution_count": null,
   "metadata": {},
   "outputs": [],
   "source": [
    "cable = assign_crs(cable, crs='epsg:4326')\n",
    "cable = xr_reproject(cable, geobox=cable.odc.geobox.to_crs('EPSG:3577').compat, resampling='bilinear') #['nbp']\n",
    "\n",
    "cable_pop = assign_crs(cable_pop, crs='epsg:4326')\n",
    "cable_pop = xr_reproject(cable_pop, geobox=cable_pop.odc.geobox.to_crs('EPSG:3577').compat, resampling='bilinear') #['nbp']"
   ]
  },
  {
   "cell_type": "code",
   "execution_count": null,
   "metadata": {},
   "outputs": [],
   "source": [
    "if var == 'GPP':\n",
    "    # grid = zoom_out(ds.odc.geobox, 5)\n",
    "    # grid = grid.to_crs('EPSG:3577')\n",
    "    modis_gpp = xr_reproject(modis_gpp, geobox=ds.odc.geobox.compat, resampling='average')\n",
    "    gosif_gpp = xr_reproject(gosif_gpp, geobox=gosif_gpp.odc.geobox.to_crs('EPSG:3577').compat, resampling='bilinear')"
   ]
  },
  {
   "cell_type": "markdown",
   "metadata": {},
   "source": [
    "## Convert to total C in (petagrams) rather than gC/m2\n"
   ]
  },
  {
   "cell_type": "code",
   "execution_count": null,
   "metadata": {},
   "outputs": [],
   "source": [
    "ds = ds * ds.geobox.resolution[1]**2 * 1e-15 *12\n",
    "# ds_upper = ds_upper * ds_upper.geobox.resolution[1]**2 * 1e-15 *12\n",
    "\n",
    "ds_fc = ds_fc * ds_fc.geobox.resolution[1]**2 * 1e-15 * 12\n",
    "ds_fc_met = ds_fc_met * ds_fc_met.geobox.resolution[1]**2 * 1e-15 * 12\n",
    "\n",
    "cable = cable * cable.geobox.resolution[1]**2 * 1e-15 *12\n",
    "cable_pop = cable_pop * cable_pop.geobox.resolution[1]**2 * 1e-15 *12\n",
    "\n",
    "if var == 'GPP':\n",
    "    modis_gpp = modis_gpp * modis_gpp.geobox.resolution[1]**2 * 1e-12\n",
    "    modis_gpp = modis_gpp*12\n",
    "    gosif_gpp = gosif_gpp * gosif_gpp.geobox.resolution[1]**2 * 1e-15\n",
    "    gosif_gpp = gosif_gpp*12"
   ]
  },
  {
   "cell_type": "markdown",
   "metadata": {},
   "source": [
    "## Export harmonized dataset"
   ]
  },
  {
   "cell_type": "code",
   "execution_count": null,
   "metadata": {},
   "outputs": [],
   "source": [
    "# merged = xr.merge([\n",
    "#     ds_fc.rename('Fluxcom_RS_GPP'),\n",
    "#     ds_fc_met.rename('Fluxcom_RS-meteo_GPP'),#,.sel(time=slice('2003', '2015')),\n",
    "#     ds.rename('ThisStudy_GPP'),#.sel(time=slice('2003', '2015')),\n",
    "#     cable_gpp.rename('Cable_GPP'),#.sel(time=slice('2003', '2015')),\n",
    "#     modis_gpp.rename('MODIS_GPP'),#.sel(time=slice('2003', '2015')),\n",
    "#     gosif_gpp.rename('GOSIF_GPP'),#.sel(time=slice('2003', '2015'))\n",
    "# ])\n",
    "\n",
    "# # merged = xr.merge([\n",
    "# #     ds_fc_met.rename('Fluxcom_RS-Meteo_NEE'),\n",
    "# #     ds_fc.rename('Fluxcom_RS_NEE'),#.sel(time=slice('2003', '2015')),\n",
    "# #     ds.rename('ThisStudy_NEE'),#.sel(time=slice('2003', '2015')),\n",
    "# #     cable_nee.rename('Cable_NEE')#.sel(time=slice('2003', '2015')),\n",
    "# # ])\n",
    "\n",
    "# merged.to_netcdf('/g/data/os22/chad_tmp/NEE_modelling/data/harmonized_gpp.nc')"
   ]
  },
  {
   "cell_type": "markdown",
   "metadata": {},
   "source": [
    "## Plot time-series"
   ]
  },
  {
   "cell_type": "code",
   "execution_count": null,
   "metadata": {},
   "outputs": [],
   "source": [
    "if trim:\n",
    "    ds = ds.sel(time=slice(trim_date[0], trim_date[1]))\n",
    "    # ds_upper = ds_upper.sel(time=slice(trim_date[0], trim_date[1]))\n",
    "    ds_fc = ds_fc.sel(time=slice(trim_date[0], trim_date[1]))\n",
    "    ds_fc_met = ds_fc_met.sel(time=slice(trim_date[0], trim_date[1]))\n",
    "    cable = cable.sel(time=slice(trim_date[0], trim_date[1]))\n",
    "    cable_pop = cable_pop.sel(time=slice(trim_date[0], trim_date[1]))\n",
    "    \n",
    "    if var=='GPP':\n",
    "        modis_gpp = modis_gpp.sel(time=slice(trim_date[0], trim_date[1]))\n",
    "        gosif_gpp = gosif_gpp.sel(time=slice(trim_date[0], trim_date[1]))"
   ]
  },
  {
   "cell_type": "code",
   "execution_count": null,
   "metadata": {},
   "outputs": [],
   "source": [
    "ds_1d = ds.sum(['x', 'y'])\n",
    "# ds_1d_upper = ds_upper.sum(['x', 'y'])\n",
    "\n",
    "ds_fc_1d = ds_fc.sum(['x', 'y'])\n",
    "ds_fc_met_1d = ds_fc_met.sum(['x', 'y'])\n",
    "\n",
    "post_1d = post.sum(['x', 'y'])\n",
    "cable_1d = cable.sum(['x', 'y'])\n",
    "cable_pop_1d = cable_pop.sum(['x', 'y'])\n",
    "\n",
    "if var=='GPP':\n",
    "    gosif_gpp_1d = gosif_gpp.sum(['x', 'y'])\n",
    "    modis_gpp_1d = modis_gpp.sum(['x', 'y'])"
   ]
  },
  {
   "cell_type": "markdown",
   "metadata": {},
   "source": [
    "### Plot time-series w/o rolling mean"
   ]
  },
  {
   "cell_type": "code",
   "execution_count": null,
   "metadata": {},
   "outputs": [],
   "source": [
    "fig, ax = plt.subplots(1,1, figsize=(15,7))\n",
    "ax.plot(ds_1d.time.values, ds_1d,  label='This study')\n",
    "\n",
    "# ax.fill_between(ds_1d.time, ds_1d_upper.sel(quantile=0.25).rolling(time=3, min_periods=1).mean(),\n",
    "#                 ds_1d_upper.sel(quantile=0.75).rolling(time=3, min_periods=1).mean(), alpha=0.2)\n",
    "\n",
    "ax.plot(ds_fc_1d.time.values, ds_fc_1d, linestyle='--', label='Fluxcom-RS', alpha=0.8)\n",
    "ax.plot(ds_fc_met_1d.time.values, ds_fc_met_1d, linestyle='--', label='Fluxcom-Met', alpha=0.8)\n",
    "ax.plot(cable_1d.time.values, cable_1d, linestyle='--', label='CABLE-BIOS', alpha=0.8)\n",
    "ax.plot(cable_pop_1d.time.values, cable_pop_1d, linestyle='--', label='CABLE-POP', alpha=0.8)\n",
    "\n",
    "if var=='NEE':\n",
    "    ax.plot(post_1d.time.values, post_1d, linestyle='--', label='Inversion', alpha=0.8)\n",
    "    plt.axhline(0, c='grey')\n",
    "\n",
    "if var == 'GPP':\n",
    "    ax.plot(modis_gpp_1d.time.values, modis_gpp_1d, linestyle='--', label='MODIS', alpha=0.75)\n",
    "    ax.plot(gosif_gpp_1d.time.values, gosif_gpp_1d, linestyle='--', label='GOSIF', alpha=0.75)\n",
    "\n",
    "fontsize=14\n",
    "ax.set_ylabel(var+'PgC/year')\n",
    "\n",
    "if var=='NEE':\n",
    "    ax.text(.015, .30, f'Fluxcom-RS: {ds_fc_1d.mean().values:.3f} PgC/yr',\n",
    "            transform=ax.transAxes, fontsize=fontsize)\n",
    "    ax.text(.015, .25, f'Fluxcom-Met: {ds_fc_met_1d.mean().values:.3f} PgC/yr',\n",
    "            transform=ax.transAxes, fontsize=fontsize)\n",
    "    ax.text(.015, .20, f'This study: {ds_1d.mean().values:.3f} PgC/yr',\n",
    "            transform=ax.transAxes, fontsize=fontsize)\n",
    "    ax.text(.015, .15, f'Cable-BIOS: {cable_1d.mean().values:.3f} PgC/yr',\n",
    "            transform=ax.transAxes, fontsize=fontsize)\n",
    "    ax.text(.015, .10, f'Cable-POP: {cable_pop_1d.mean().values:.3f} PgC/yr',\n",
    "            transform=ax.transAxes,fontsize=fontsize)\n",
    "    ax.text(.015, .05, f'Inversion: {post_1d.mean().values:.3f} PgC/yr',\n",
    "            transform=ax.transAxes, fontsize=fontsize)\n",
    "    ax.legend(loc='lower right', fontsize=fontsize);\n",
    "\n",
    "if var == 'GPP':\n",
    "    ax.text(.015, .95, f'Fluxcom-RS: {ds_fc_1d.mean().values:.3f} PgC/yr',\n",
    "            transform=ax.transAxes, fontsize=fontsize)\n",
    "    ax.text(.015, .90, f'Fluxcom-Met: {ds_fc_met_1d.mean().values:.3f} PgC/yr',\n",
    "            transform=ax.transAxes, fontsize=fontsize)\n",
    "    ax.text(.015, .85, f'This study: {ds_1d.mean().values:.3f} PgC/yr',\n",
    "            transform=ax.transAxes, fontsize=fontsize)\n",
    "    ax.text(.015, .80, f'GOSIF: {gosif_gpp_1d.mean().values:.3f} PgC/yr',\n",
    "            transform=ax.transAxes, fontsize=fontsize)\n",
    "    ax.text(.015, .75, f'MODIS: {modis_gpp_1d.mean().values:.3f} PgC/yr',\n",
    "            transform=ax.transAxes, fontsize=fontsize)\n",
    "    ax.text(.015, .70, f'Cable-BIOS: {cable_1d.mean().values:.3f} PgC/yr',\n",
    "            transform=ax.transAxes, fontsize=fontsize)\n",
    "    ax.text(.015, .65, f'Cable-POP: {cable_pop_1d.mean().values:.3f} PgC/yr',\n",
    "            transform=ax.transAxes, fontsize=fontsize)\n",
    "    ax.legend(loc='upper right', fontsize=fontsize)\n",
    "\n",
    "if var == 'ER':\n",
    "    ax.text(.015, .95, f'Fluxcom-RS: {ds_fc_1d.mean().values:.3f} PgC/yr',\n",
    "            transform=ax.transAxes, fontsize=fontsize)\n",
    "    ax.text(.015, .90, f'Fluxcom-Met: {ds_fc_met_1d.mean().values:.3f} PgC/yr',\n",
    "            transform=ax.transAxes, fontsize=fontsize)\n",
    "    ax.text(.015, .85, f'This study: {ds_1d.mean().values:.3f} PgC/yr',\n",
    "            transform=ax.transAxes, fontsize=fontsize)\n",
    "    ax.text(.015, .80, f'Cable-BIOS: {cable_1d.mean().values:.3f} PgC/yr',\n",
    "            transform=ax.transAxes, fontsize=fontsize)\n",
    "    ax.text(.015, .75, f'Cable-POP: {cable_pop_1d.mean().values:.3f} PgC/yr',\n",
    "            transform=ax.transAxes, fontsize=fontsize)\n",
    "    ax.legend(loc='upper right', fontsize=fontsize)\n",
    "\n"
   ]
  },
  {
   "cell_type": "markdown",
   "metadata": {},
   "source": [
    "### Plot timeseries with rolling mean"
   ]
  },
  {
   "cell_type": "code",
   "execution_count": null,
   "metadata": {},
   "outputs": [],
   "source": [
    "roll_len=12"
   ]
  },
  {
   "cell_type": "code",
   "execution_count": null,
   "metadata": {},
   "outputs": [],
   "source": [
    "fontsize=20\n",
    "\n",
    "fig, ax = plt.subplots(1,1, figsize=(15,7))\n",
    "ax.plot(ds_1d.time.values, ds_1d.rolling(time=roll_len, min_periods=roll_len).mean(),  label='This study')\n",
    "# ax.fill_between(ds_1d.time, ds_1d_upper.sel(quantile=0.25).rolling(time=3, min_periods=1).mean(),\n",
    "#                 ds_1d_upper.sel(quantile=0.75).rolling(time=3, min_periods=1).mean(), alpha=0.2)\n",
    "\n",
    "ax.plot(ds_fc_1d.time.values, ds_fc_1d.rolling(time=roll_len, min_periods=roll_len).mean(), label='Fluxcom-RS')\n",
    "ax.plot(ds_fc_met_1d.time.values, ds_fc_met_1d.rolling(time=roll_len, min_periods=roll_len).mean(),  label='Fluxcom-Met')\n",
    "ax.plot(cable_1d.time.values, cable_1d.rolling(time=roll_len, min_periods=roll_len).mean(), label='CABLE-BIOS')\n",
    "ax.plot(cable_pop_1d.time.values, cable_pop_1d.rolling(time=roll_len, min_periods=roll_len).mean(),  label='CABLE-POP')\n",
    "\n",
    "if var=='NEE':\n",
    "    ax.plot(post_1d.time.values, post_1d.rolling(time=roll_len, min_periods=roll_len).mean(), label='Inversion', color='cyan')\n",
    "    plt.axhline(0, c='grey')\n",
    "\n",
    "if var == 'GPP':\n",
    "    ax.plot(modis_gpp_1d.time.values, modis_gpp_1d.rolling(time=roll_len, min_periods=roll_len).mean(), label='MODIS')\n",
    "    ax.plot(gosif_gpp_1d.time.values, gosif_gpp_1d.rolling(time=roll_len, min_periods=roll_len).mean(), label='GOSIF')\n",
    "\n",
    "if var=='NEE':\n",
    "    ax.text(.015, .30, f'Fluxcom-RS: {ds_fc_1d.mean().values:.3f} PgC/yr',\n",
    "            transform=ax.transAxes, fontsize=fontsize)\n",
    "    ax.text(.015, .25, f'Fluxcom-Met: {ds_fc_met_1d.mean().values:.3f} PgC/yr',\n",
    "            transform=ax.transAxes, fontsize=fontsize)\n",
    "    ax.text(.015, .20, f'This study: {ds_1d.mean().values:.3f} PgC/yr',\n",
    "            transform=ax.transAxes, fontsize=fontsize)\n",
    "    ax.text(.015, .15, f'Cable-BIOS: {cable_1d.mean().values:.3f} PgC/yr',\n",
    "            transform=ax.transAxes, fontsize=fontsize)\n",
    "    ax.text(.015, .10, f'Cable-POP: {cable_pop_1d.mean().values:.3f} PgC/yr',\n",
    "            transform=ax.transAxes,fontsize=fontsize)\n",
    "    ax.text(.015, .05, f'Inversion: {post_1d.mean().values:.3f} PgC/yr',\n",
    "            transform=ax.transAxes, fontsize=fontsize)\n",
    "\n",
    "if var == 'GPP':\n",
    "    ax.text(.015, .95, f'Fluxcom-RS: {ds_fc_1d.mean().values:.3f} PgC/yr',\n",
    "            transform=ax.transAxes, fontsize=fontsize)\n",
    "    ax.text(.015, .90, f'Fluxcom-Met: {ds_fc_met_1d.mean().values:.3f} PgC/yr',\n",
    "            transform=ax.transAxes, fontsize=fontsize)\n",
    "    ax.text(.015, .85, f'This study: {ds_1d.mean().values:.3f} PgC/yr',\n",
    "            transform=ax.transAxes, fontsize=fontsize)\n",
    "    ax.text(.015, .80, f'GOSIF: {gosif_gpp_1d.mean().values:.3f} PgC/yr',\n",
    "            transform=ax.transAxes, fontsize=fontsize)\n",
    "    ax.text(.015, .75, f'MODIS: {modis_gpp_1d.mean().values:.3f} PgC/yr',\n",
    "            transform=ax.transAxes, fontsize=fontsize)\n",
    "    ax.text(.015, .70, f'Cable-BIOS: {cable_1d.mean().values:.3f} PgC/yr',\n",
    "            transform=ax.transAxes, fontsize=fontsize)\n",
    "    ax.text(.015, .65, f'Cable-POP: {cable_pop_1d.mean().values:.3f} PgC/yr',\n",
    "            transform=ax.transAxes, fontsize=fontsize)\n",
    "\n",
    "if var == 'ER':\n",
    "    ax.text(.015, .95, f'Fluxcom-RS: {ds_fc_1d.mean().values:.3f} PgC/yr',\n",
    "            transform=ax.transAxes, fontsize=fontsize)\n",
    "    ax.text(.015, .90, f'Fluxcom-Met: {ds_fc_met_1d.mean().values:.3f} PgC/yr',\n",
    "            transform=ax.transAxes, fontsize=fontsize)\n",
    "    ax.text(.015, .85, f'This study: {ds_1d.mean().values:.3f} PgC/yr',\n",
    "            transform=ax.transAxes, fontsize=fontsize)\n",
    "    ax.text(.015, .80, f'Cable-BIOS: {cable_1d.mean().values:.3f} PgC/yr',\n",
    "            transform=ax.transAxes, fontsize=fontsize)\n",
    "    ax.text(.015, .75, f'Cable-POP: {cable_pop_1d.mean().values:.3f} PgC/yr',\n",
    "            transform=ax.transAxes, fontsize=fontsize)\n",
    "\n",
    "ax.grid('off', which='major', axis='both', linestyle='--', linewidth=0.75)\n",
    "ax.grid('off', which='major', axis='y', linestyle='--', linewidth=0.75)\n",
    "ax.set_ylabel(var+' PgC/year', fontsize=fontsize);\n",
    "ax.tick_params(axis='x', labelsize=fontsize)\n",
    "ax.tick_params(axis='y', labelsize=fontsize)\n",
    "ax.set_yticklabels(['{:3.1f}'.format(x) for x in ax.get_yticks()])\n",
    "plt.tight_layout()\n",
    "fig.savefig('/g/data/os22/chad_tmp/NEE_modelling/results/figs/annual_mean_timeseries_'+var+'.png', bbox_inches='tight')"
   ]
  },
  {
   "cell_type": "markdown",
   "metadata": {},
   "source": [
    "### Save legend of plot above"
   ]
  },
  {
   "cell_type": "code",
   "execution_count": null,
   "metadata": {},
   "outputs": [],
   "source": [
    "# get handles and labels for reuse\n",
    "label_params = ax.get_legend_handles_labels() \n",
    "\n",
    "figl, axl = plt.subplots()\n",
    "axl.axis(False)\n",
    "axl.legend(*label_params, loc=\"best\", fontsize=20, markerscale=2.0, ncol=2)\n",
    "figl.savefig('/g/data/os22/chad_tmp/NEE_modelling/results/figs/legend_annual_mean_timeseries_'+var+'.png', bbox_inches='tight')"
   ]
  },
  {
   "cell_type": "markdown",
   "metadata": {},
   "source": [
    "### Time-series plots per bioclimatic regions "
   ]
  },
  {
   "cell_type": "code",
   "execution_count": null,
   "metadata": {},
   "outputs": [],
   "source": [
    "gdf = gpd.read_file('/g/data/os22/chad_tmp/NEE_modelling/data/bioclimatic_regions.geojson')"
   ]
  },
  {
   "cell_type": "code",
   "execution_count": null,
   "metadata": {},
   "outputs": [],
   "source": [
    "# Dictionary to save results \n",
    "results = {}\n",
    "for index, row in gdf.iterrows():\n",
    "    print(row['region_name'])\n",
    "    datasets = {}\n",
    "    \n",
    "    ds_mask = xr_rasterize(gdf.iloc[[index]], ds)\n",
    "    ds_fc_mask = xr_rasterize(gdf.iloc[[index]], ds_fc)\n",
    "    ds_fc_met_mask = xr_rasterize(gdf.iloc[[index]], ds_fc_met)\n",
    "    cable_mask = xr_rasterize(gdf.iloc[[index]], cable)\n",
    "    cable_pop_mask = xr_rasterize(gdf.iloc[[index]], cable_pop)\n",
    "    #post_mask = xr_rasterize(gdf.iloc[[index]], post)\n",
    "    \n",
    "    dss = ds.where(ds_mask)\n",
    "    dss_fc = ds_fc.where(ds_fc_mask)\n",
    "    dss_fc_met = ds_fc_met.where(ds_fc_met_mask)\n",
    "    dss_cable= cable.where(cable_mask)\n",
    "    dss_cable_pop = cable_pop.where(cable_pop_mask)\n",
    "    #dss_post = post.where(post_mask)\n",
    "    \n",
    "    if var=='GPP':\n",
    "        modis_gpp_mask = xr_rasterize(gdf.iloc[[index]], modis_gpp)\n",
    "        gosif_gpp_mask = xr_rasterize(gdf.iloc[[index]], gosif_gpp)\n",
    "        dss_modis = modis_gpp.where(modis_gpp_mask)\n",
    "        dss_gosif = gosif_gpp.where(gosif_gpp_mask)\n",
    "        \n",
    "        datasets.update({\n",
    "                    'This Study':dss,\n",
    "                    'Fluxcom-RS':dss_fc,\n",
    "                    'Fluxcom-Met':dss_fc_met,\n",
    "                    'CABLE-BIOS':dss_cable,\n",
    "                    'CABLE-POP':dss_cable_pop,\n",
    "                    'MODIS-GPP':dss_modis,\n",
    "                    'GOSIF-GPP':dss_gosif,\n",
    "                    }\n",
    "                   )\n",
    "    else:\n",
    "        datasets.update({\n",
    "                        'This Study':dss,\n",
    "                        'Fluxcom-RS':dss_fc,\n",
    "                        'Fluxcom-Met':dss_fc_met,\n",
    "                        'CABLE-BIOS':dss_cable,\n",
    "                        'CABLE-POP':dss_cable_pop,\n",
    "                        #'Inversion':dss_post\n",
    "                        }\n",
    "                       )\n",
    "    \n",
    "    # Append results to a dictionary using the attribute\n",
    "    # column as an key\n",
    "    results.update({row['region_name']: datasets})"
   ]
  },
  {
   "cell_type": "code",
   "execution_count": null,
   "metadata": {},
   "outputs": [],
   "source": [
    "fig, axs = plt.subplots(3,2, figsize=(12,15), sharex=True)\n",
    "\n",
    "for ax, k in zip(axs.ravel(), results.keys()):\n",
    "    for source, da in results[k].items():\n",
    "        #print(' ', source)\n",
    "        _1D = da.sum(['x','y'])\n",
    "        if source=='This Study':\n",
    "            _1D.plot(ax=ax, label=source)\n",
    "        else:\n",
    "            _1D.plot(ax=ax, label=source)\n",
    "        # ax.text(.015, .95, f'Mean: {_1D.mean().values:.3f}, std: {_1D.std().values:.3f} PgC/yr',\n",
    "        #     transform=ax.transAxes, fontdict={'fontsize': 14})\n",
    "    if var=='NEE':\n",
    "        ax.axhline(0, c='grey', linestyle='--')\n",
    "    \n",
    "    ax.set_title(k, fontdict={'fontsize': 14})\n",
    "    ax.set_ylabel('')\n",
    "    ax.set_xlabel('')\n",
    "\n",
    "axs[0,0].legend(fontsize=14)\n",
    "fig.supylabel(var+' PgC/year', fontsize=14)\n",
    "plt.tight_layout()\n",
    "plt.savefig('/g/data/os22/chad_tmp/NEE_modelling/results/figs/'+var+'_bioregion_comparisons.png', bbox_inches='tight')"
   ]
  },
  {
   "cell_type": "markdown",
   "metadata": {},
   "source": [
    "## Convert to anomalies"
   ]
  },
  {
   "cell_type": "markdown",
   "metadata": {},
   "source": [
    "### Climatology"
   ]
  },
  {
   "cell_type": "code",
   "execution_count": null,
   "metadata": {},
   "outputs": [],
   "source": [
    "import warnings\n",
    "warnings.filterwarnings(\"ignore\")\n",
    "\n",
    "ds_clim_mean = ds.groupby('time.month').mean()\n",
    "# ds_upper_clim_mean = ds_upper.groupby('time.month').mean()\n",
    "# ds_lower_clim_mean = ds_lower.groupby('time.month').mean()\n",
    "\n",
    "ds_fc_clim_mean = ds_fc.groupby('time.month').mean()\n",
    "ds_fc_met_clim_mean = ds_fc_met.groupby('time.month').mean()\n",
    "post_clim_mean = post.groupby('time.month').mean()\n",
    "cable_clim_mean = cable.groupby('time.month').mean()\n",
    "cable_pop_clim_mean = cable_pop.groupby('time.month').mean()\n",
    "\n",
    "if var=='GPP':\n",
    "    modis_gpp_clim_mean = modis_gpp.groupby('time.month').mean()\n",
    "    gosif_gpp_clim_mean = gosif_gpp.groupby('time.month').mean()\n",
    "    #gosif_gpp_clim_mean_annual = gosif_gpp.resample(time='1Y', label='left', loffset='6M').sum().mean('time')\n"
   ]
  },
  {
   "cell_type": "markdown",
   "metadata": {},
   "source": [
    "### Anomalies"
   ]
  },
  {
   "cell_type": "code",
   "execution_count": null,
   "metadata": {},
   "outputs": [],
   "source": [
    "ds_anom = (ds.groupby('time.month') - ds_clim_mean)\n",
    "# ds_upper_anom = (ds_upper.groupby('time.month') - ds_clim_mean) \n",
    "# ds_lower_anom = (ds_lower.groupby('time.month') - ds_clim_mean)\n",
    "ds_fc_anom = (ds_fc.groupby('time.month') - ds_fc_clim_mean)\n",
    "ds_fc_met_anom = (ds_fc_met.groupby('time.month') - ds_fc_met_clim_mean)\n",
    "post_anom = (post.groupby('time.month') - post_clim_mean)\n",
    "cable_anom = (cable.groupby('time.month') - cable_clim_mean)\n",
    "cable_pop_anom = (cable_pop.groupby('time.month') - cable_pop_clim_mean)\n",
    "\n",
    "if var=='GPP':\n",
    "    modis_gpp_anom = (modis_gpp.groupby('time.month') - modis_gpp_clim_mean)\n",
    "    gosif_gpp_anom = (gosif_gpp.groupby('time.month') - gosif_gpp_clim_mean)\n",
    "\n",
    "    # modis_gpp_anom_annual = modis_gpp.resample(time='1Y', label='left', loffset='6M').sum() - modis_gpp_clim_mean_annual\n",
    "    # gosif_gpp_anom_annual = gosif_gpp.resample(time='1Y', label='left', loffset='6M').sum() - gosif_gpp_clim_mean_annual"
   ]
  },
  {
   "cell_type": "markdown",
   "metadata": {},
   "source": [
    "### Zonal summaries"
   ]
  },
  {
   "cell_type": "code",
   "execution_count": null,
   "metadata": {},
   "outputs": [],
   "source": [
    "ds_1D = ds_anom.sum(['x','y'])\n",
    "# ds_upper_1D = ds_upper_anom.sum(['x','y'])\n",
    "# ds_lower_1D = ds_lower_anom.sum(['x','y'])\n",
    "ds_fc_1D = ds_fc_anom.sum(['x','y'])\n",
    "ds_fc_met_1D = ds_fc_met_anom.sum(['x','y'])\n",
    "\n",
    "post_1D = post_anom.sum(['x','y'])\n",
    "cable_1D = cable_anom.sum(['x','y'])\n",
    "cable_pop_1D = cable_pop_anom.sum(['x','y'])\n",
    "\n",
    "if var=='GPP':\n",
    "    modis_gpp_1D = modis_gpp_anom.sum(['x','y'])\n",
    "    gosif_gpp_1D = gosif_gpp_anom.sum(['x','y'])"
   ]
  },
  {
   "cell_type": "markdown",
   "metadata": {},
   "source": [
    "### Plot timeseries"
   ]
  },
  {
   "cell_type": "code",
   "execution_count": null,
   "metadata": {},
   "outputs": [],
   "source": [
    "roll_len=12"
   ]
  },
  {
   "cell_type": "code",
   "execution_count": null,
   "metadata": {},
   "outputs": [],
   "source": [
    "fontsize=20\n",
    "\n",
    "fig, ax = plt.subplots(1,1, figsize=(15,7))\n",
    "ax.plot(ds_1D.time.values, ds_1D.rolling(time=roll_len, min_periods=roll_len).mean(),  label='This study')\n",
    "ax.plot(ds_fc_1D.time.values, ds_fc_1D.rolling(time=roll_len, min_periods=roll_len).mean(),  label='Fluxcom-RS')\n",
    "ax.plot(ds_fc_met_1D.time.values, ds_fc_met_1D.rolling(time=roll_len, min_periods=roll_len).mean(),  label='Fluxcom-Met')\n",
    "ax.plot(cable_1D.time.values, cable_1D.rolling(time=roll_len, min_periods=roll_len).mean(), label='CABLE-BIOS')\n",
    "ax.plot(cable_pop_1D.time.values, cable_pop_1D.rolling(time=roll_len, min_periods=roll_len).mean(), label='CABLE-POP')\n",
    "\n",
    "if var=='NEE':\n",
    "    ax.plot(post_1D.time.values, post_1D.rolling(time=roll_len, min_periods=roll_len).mean(), label='Inversion', color='cyan')\n",
    "\n",
    "if var == 'GPP':\n",
    "    ax.plot(modis_gpp_1D.time.values, modis_gpp_1D.rolling(time=roll_len, min_periods=roll_len).mean(),  label='MODIS')\n",
    "    ax.plot(gosif_gpp_1D.time.values, gosif_gpp_1D.rolling(time=roll_len, min_periods=roll_len).mean(), label='GOSIF')\n",
    "\n",
    "ax.set_ylabel(var+' anomaly PgC/year', fontsize=fontsize)\n",
    "plt.axhline(0, c='grey');\n",
    "\n",
    "ax.grid('off', which='major', axis='both', linestyle='--', linewidth=0.75)\n",
    "ax.grid('off', which='major', axis='y', linestyle='--', linewidth=0.75)\n",
    "ax.tick_params(axis='x', labelsize=fontsize)\n",
    "ax.tick_params(axis='y', labelsize=fontsize)\n",
    "ax.set_yticklabels(['{:3.1f}'.format(x) for x in ax.get_yticks()])\n",
    "plt.tight_layout()\n",
    "fig.savefig('/g/data/os22/chad_tmp/NEE_modelling/results/figs/annual_anomaly_timeseries_'+var+'.png', bbox_inches='tight')"
   ]
  },
  {
   "cell_type": "markdown",
   "metadata": {},
   "source": [
    "## Climatology timeseries"
   ]
  },
  {
   "cell_type": "markdown",
   "metadata": {},
   "source": [
    "### Aus wide "
   ]
  },
  {
   "cell_type": "code",
   "execution_count": null,
   "metadata": {},
   "outputs": [],
   "source": [
    "fig, ax = plt.subplots(1,1, figsize=(9,7))\n",
    "\n",
    "y = ds_clim_mean.sum(['x','y']).values\n",
    "x = ds_clim_mean.month.values\n",
    "\n",
    "y_fc = ds_fc_clim_mean.sum(['x','y']).values\n",
    "x_fc = ds_fc_clim_mean.month.values\n",
    "\n",
    "y_fc_met = ds_fc_met_clim_mean.sum(['x','y']).values\n",
    "x_fc_met = ds_fc_met_clim_mean.month.values\n",
    "\n",
    "y_post = post_clim_mean.sum(['x','y']).values\n",
    "x_post = post_clim_mean.month.values\n",
    "\n",
    "y_cable = cable_clim_mean.sum(['x','y']).values\n",
    "x_cable = cable_clim_mean.month.values\n",
    "\n",
    "y_cable_pop = cable_pop_clim_mean.sum(['x','y']).values\n",
    "x_cable_pop = cable_pop_clim_mean.month.values\n",
    "\n",
    "if var =='GPP':\n",
    "    y_modis_gpp = modis_gpp_clim_mean.sum(['x','y']).values\n",
    "    x_modis_gpp = modis_gpp_clim_mean.month.values\n",
    "\n",
    "    y_gosif_gpp = gosif_gpp_clim_mean.sum(['x','y']).values\n",
    "    x_gosif_gpp = gosif_gpp_clim_mean.month.values\n",
    "\n",
    "\n",
    "ax.plot(x, y,  label='This Study')\n",
    "ax.plot(x_fc, y_fc, label='Fluxcom-RS')\n",
    "ax.plot(x_fc_met, y_fc_met, label='Fluxcom-Met')\n",
    "ax.plot(x_cable, y_cable, label='Cable-BIOS')\n",
    "ax.plot(x_cable_pop, y_cable_pop, label='Cable-POP')\n",
    "\n",
    "if var=='NEE':\n",
    "    ax.plot(x_post, y_post, label='Inversion', color='cyan')\n",
    "\n",
    "if var =='GPP':\n",
    "    ax.plot(x_modis_gpp, y_modis_gpp, label='MODIS')\n",
    "    ax.plot(x_gosif_gpp, y_gosif_gpp, label='GOSIF')\n",
    "\n",
    "\n",
    "if var=='NEE':\n",
    "    ax.axhline(0, c='grey')\n",
    "# ax.legend(loc='best', fontsize=15)\n",
    "\n",
    "ax.set_yticklabels(['{:3.1f}'.format(x) for x in ax.get_yticks()])\n",
    "ax.set_xticks(range(1,13))\n",
    "ax.set_xticklabels([\"J\",\"F\",\"M\",\"A\",\"M\",\"J\",\"J\",\"A\",\"S\",\"O\",\"N\",\"D\"], fontsize=15)    \n",
    "ax.tick_params(axis='x', labelsize=20)\n",
    "ax.tick_params(axis='y', labelsize=20)\n",
    "ax.set_ylabel(var+' PgC/year', fontsize=25);\n",
    "plt.savefig('/g/data/os22/chad_tmp/NEE_modelling/results/figs/'+var+'_Aus_climatology_timeseries.png', bbox_inches='tight')"
   ]
  },
  {
   "cell_type": "markdown",
   "metadata": {},
   "source": [
    "#### Save the legend as file"
   ]
  },
  {
   "cell_type": "code",
   "execution_count": null,
   "metadata": {},
   "outputs": [],
   "source": [
    "# get handles and labels for reuse\n",
    "label_params = ax.get_legend_handles_labels() \n",
    "\n",
    "figl, axl = plt.subplots()\n",
    "axl.axis(False)\n",
    "axl.legend(*label_params, loc=\"best\", fontsize=20, markerscale=2.0, ncol=2)\n",
    "figl.savefig('/g/data/os22/chad_tmp/NEE_modelling/results/figs/climatology_legend_'+var+'.png', bbox_inches='tight')"
   ]
  },
  {
   "cell_type": "markdown",
   "metadata": {},
   "source": [
    "### Per bioregion"
   ]
  },
  {
   "cell_type": "code",
   "execution_count": null,
   "metadata": {},
   "outputs": [],
   "source": [
    "# Dictionary to save results \n",
    "results = {}\n",
    "for index, row in gdf.iterrows():\n",
    "    print(row['region_name'])\n",
    "    datasets = {}\n",
    "    \n",
    "    ds_mask = xr_rasterize(gdf.iloc[[index]], ds)\n",
    "    ds_fc_mask = xr_rasterize(gdf.iloc[[index]], ds_fc)\n",
    "    ds_fc_met_mask = xr_rasterize(gdf.iloc[[index]], ds_fc_met)\n",
    "    cable_mask = xr_rasterize(gdf.iloc[[index]], cable)\n",
    "    cable_pop_mask = xr_rasterize(gdf.iloc[[index]], cable_pop)\n",
    "    post_mask = xr_rasterize(gdf.iloc[[index]], post)\n",
    "    \n",
    "    dss = ds_clim_mean.where(ds_mask)\n",
    "    dss_fc = ds_fc_clim_mean.where(ds_fc_mask)\n",
    "    dss_fc_met = ds_fc_met_clim_mean.where(ds_fc_met_mask)\n",
    "    dss_cable= cable_clim_mean.where(cable_mask)\n",
    "    dss_cable_pop = cable_pop_clim_mean.where(cable_pop_mask)\n",
    "    dss_post = post_clim_mean.where(post_mask)\n",
    "    \n",
    "    if var=='GPP':\n",
    "        modis_gpp_mask = xr_rasterize(gdf.iloc[[index]], modis_gpp)\n",
    "        gosif_gpp_mask = xr_rasterize(gdf.iloc[[index]], gosif_gpp)\n",
    "        dss_modis = modis_gpp_clim_mean.where(modis_gpp_mask)\n",
    "        dss_gosif = gosif_gpp_clim_mean.where(gosif_gpp_mask)\n",
    "        \n",
    "        datasets.update({\n",
    "                    'This Study':dss,\n",
    "                    'Fluxcom-RS':dss_fc,\n",
    "                    'Fluxcom-Met':dss_fc_met,\n",
    "                    'CABLE-BIOS':dss_cable,\n",
    "                    'CABLE-POP':dss_cable_pop,\n",
    "                    'MODIS-GPP':dss_modis,\n",
    "                    'GOSIF-GPP':dss_gosif,\n",
    "                    }\n",
    "                   )\n",
    "    if var=='NEE':\n",
    "        datasets.update({\n",
    "                        'This Study':dss,\n",
    "                        'Fluxcom-RS':dss_fc,\n",
    "                        'Fluxcom-Met':dss_fc_met,\n",
    "                        'CABLE-BIOS':dss_cable,\n",
    "                        'CABLE-POP':dss_cable_pop,\n",
    "                        'Inversion':dss_post\n",
    "                        }\n",
    "                       )\n",
    "    \n",
    "    if var=='ER':\n",
    "        datasets.update({\n",
    "                        'This Study':dss,\n",
    "                        'Fluxcom-RS':dss_fc,\n",
    "                        'Fluxcom-Met':dss_fc_met,\n",
    "                        'CABLE-BIOS':dss_cable,\n",
    "                        'CABLE-POP':dss_cable_pop,\n",
    "                        }\n",
    "                       )\n",
    "    \n",
    "    # Append results to a dictionary using the attribute\n",
    "    # column as an key\n",
    "    results.update({row['region_name']: datasets})"
   ]
  },
  {
   "cell_type": "code",
   "execution_count": null,
   "metadata": {},
   "outputs": [],
   "source": [
    "# fig, axs = plt.subplots(1,1, figsize=(7,5), sharex=True)\n",
    "# for i in results['Mediterranean'].items():\n",
    "#     _1D = i[1].sum(['x','y'])\n",
    "#     _1D.plot(ax=axs, label=i[0])"
   ]
  },
  {
   "cell_type": "code",
   "execution_count": null,
   "metadata": {},
   "outputs": [],
   "source": [
    "fig, axs = plt.subplots(3,2, figsize=(12,15), sharex=True)\n",
    "\n",
    "for ax, k in zip(axs.ravel(), results.keys()):\n",
    "    for source, da in results[k].items():\n",
    "        _1D = da.sum(['x','y'])\n",
    "        if source=='Inversion':\n",
    "            _1D.plot(ax=ax, label=source, color='cyan')\n",
    "        else:    \n",
    "            _1D.plot(ax=ax, label=source)\n",
    "    if var=='NEE':\n",
    "        ax.axhline(0, c='grey', linestyle='--')\n",
    "    \n",
    "    #ax.set_yticklabels(['{:3.1f}'.format(y) for y in ax.get_yticks()])\n",
    "    ax.set_xticks(range(1,13))\n",
    "    ax.set_xticklabels([\"J\",\"F\",\"M\",\"A\",\"M\",\"J\",\"J\",\"A\",\"S\",\"O\",\"N\",\"D\"], fontsize=17)\n",
    "    ax.tick_params(axis='x', labelsize=20)\n",
    "    ax.tick_params(axis='y', labelsize=20)\n",
    "    ax.set_title(k, fontdict={'fontsize': 22})\n",
    "    ax.set_ylabel('')\n",
    "    ax.set_xlabel('')\n",
    "\n",
    "#axs[0,0].legend(fontsize=15)\n",
    "fig.supylabel(var+' PgC/year', fontsize=25)\n",
    "plt.tight_layout()\n",
    "plt.savefig('/g/data/os22/chad_tmp/NEE_modelling/results/figs/'+var+'_bioregion_climatology_timeseries.png', bbox_inches='tight');"
   ]
  },
  {
   "cell_type": "markdown",
   "metadata": {},
   "source": [
    "## Climatology per-pixel"
   ]
  },
  {
   "cell_type": "code",
   "execution_count": null,
   "metadata": {},
   "outputs": [],
   "source": [
    "if var == 'NEE':\n",
    "    max_mean_month = allNaN_arg(ds_clim_mean, 'month', 'min')\n",
    "    max_mean_month_fc = allNaN_arg(ds_fc_clim_mean, 'month', 'min')\n",
    "    max_mean_month_fc_met = allNaN_arg(ds_fc_met_clim_mean, 'month', 'min')\n",
    "    max_mean_month_post = allNaN_arg(post_clim_mean, 'month', 'min')\n",
    "    max_mean_month_cable = allNaN_arg(cable_clim_mean, 'month', 'min')\n",
    "    max_mean_month_cable_pop = allNaN_arg(cable_pop_clim_mean, 'month', 'min')\n",
    "\n",
    "else:\n",
    "    if var=='GPP':\n",
    "        max_mean_month = allNaN_arg(ds_clim_mean, 'month', 'max')\n",
    "        max_mean_month_fc = allNaN_arg(ds_fc_clim_mean, 'month', 'max')\n",
    "        max_mean_month_fc_met = allNaN_arg(ds_fc_met_clim_mean, 'month', 'max')\n",
    "        max_mean_month_modis = allNaN_arg(modis_gpp_clim_mean, 'month', 'max')\n",
    "        max_mean_month_gosif = allNaN_arg(gosif_gpp_clim_mean, 'month', 'max')\n",
    "        max_mean_month_cable = allNaN_arg(cable_clim_mean, 'month', 'max')\n",
    "        max_mean_month_cable_pop = allNaN_arg(cable_pop_clim_mean, 'month', 'max')\n",
    "    if var=='ER':\n",
    "        max_mean_month = allNaN_arg(ds_clim_mean, 'month', 'max')\n",
    "        max_mean_month_fc = allNaN_arg(ds_fc_clim_mean, 'month', 'max')\n",
    "        max_mean_month_fc_met = allNaN_arg(ds_fc_met_clim_mean, 'month', 'max')\n",
    "        max_mean_month_cable = allNaN_arg(cable_clim_mean, 'month', 'max')\n",
    "        max_mean_month_cable_pop = allNaN_arg(cable_pop_clim_mean, 'month', 'max')"
   ]
  },
  {
   "cell_type": "code",
   "execution_count": null,
   "metadata": {},
   "outputs": [],
   "source": [
    "y_range = ' (2003-21)'\n",
    "font=15\n",
    "if var=='GPP':\n",
    "    fig,ax = plt.subplots(2,4, figsize=(22,10))\n",
    "    im = max_mean_month.plot.imshow(vmin=1, vmax=12, ax=ax[0,0], cmap='twilight', add_colorbar=False, add_labels=False)\n",
    "    ax[0,0].set_title('This Study '+var+y_range, fontsize=font);\n",
    "\n",
    "    im = max_mean_month_fc.plot.imshow(vmin=1, vmax=12, ax=ax[0,1], cmap='twilight', add_colorbar=False, add_labels=False)\n",
    "    ax[0,1].set_title('Fluxcom-RS '+var+ ' (2003-2015)', fontsize=font);\n",
    "\n",
    "    im = max_mean_month_fc_met.plot.imshow(vmin=1, vmax=12, ax=ax[0,2], cmap='twilight', add_colorbar=False, add_labels=False)\n",
    "    ax[0,2].set_title('Fluxcom-Met '+var+' (2003-2018)', fontsize=font);\n",
    "\n",
    "    im = max_mean_month_cable.plot.imshow(vmin=1, vmax=12, ax=ax[0,3], cmap='twilight', add_colorbar=False, add_labels=False)\n",
    "    ax[0,3].set_title('Cable-BIOS '+var+y_range, fontsize=font);\n",
    "\n",
    "    im = max_mean_month_cable_pop.plot.imshow(vmin=1, vmax=12, ax=ax[1,0], cmap='twilight', add_colorbar=False, add_labels=False)\n",
    "    ax[1,0].set_title('Cable-POP '+var+y_range, fontsize=font);\n",
    "\n",
    "    # im = max_mean_month_post.isel(x=range(12, 68), y=range(12, 68)).plot.imshow(vmin=1, vmax=12, ax=ax[1,2], cmap='twilight', add_colorbar=False, add_labels=False)\n",
    "    # ax[1,2].set_title('Inversion '+var+' (2015-19)', fontsize=font);\n",
    "\n",
    "    im = max_mean_month_modis.plot.imshow(vmin=1, vmax=12, ax=ax[1,1], cmap='twilight', add_colorbar=False)\n",
    "    ax[1,1].set_title('MODIS '+var+y_range, fontsize=font);\n",
    "\n",
    "    im = max_mean_month_gosif.plot.imshow(vmin=1, vmax=12, ax=ax[1,2], cmap='twilight', add_colorbar=False)\n",
    "    ax[1,2].set_title('GOSIF '+var+y_range, fontsize=font);\n",
    "\n",
    "if var=='NEE':\n",
    "    fig,ax = plt.subplots(2,3, figsize=(18,10))\n",
    "    im = max_mean_month.plot.imshow(vmin=1, vmax=12, ax=ax[0,0], cmap='twilight', add_colorbar=False, add_labels=False)\n",
    "    ax[0,0].set_title('This Study '+var+y_range, fontsize=font);\n",
    "\n",
    "    im = max_mean_month_fc.plot.imshow(vmin=1, vmax=12, ax=ax[0,1], cmap='twilight', add_colorbar=False, add_labels=False)\n",
    "    ax[0,1].set_title('Fluxcom-RS '+var+ ' (2003-2015)', fontsize=font);\n",
    "\n",
    "    im = max_mean_month_fc_met.plot.imshow(vmin=1, vmax=12, ax=ax[0,2], cmap='twilight', add_colorbar=False, add_labels=False)\n",
    "    ax[0,2].set_title('Fluxcom-Met '+var+' (2003-2018)', fontsize=font);\n",
    "\n",
    "    im = max_mean_month_cable.plot.imshow(vmin=1, vmax=12, ax=ax[1,0], cmap='twilight', add_colorbar=False, add_labels=False)\n",
    "    ax[1,0].set_title('Cable-BIOS '+var+y_range, fontsize=font);\n",
    "\n",
    "    im = max_mean_month_cable_pop.plot.imshow(vmin=1, vmax=12, ax=ax[1,1], cmap='twilight', add_colorbar=False, add_labels=False)\n",
    "    ax[1,1].set_title('Cable-POP '+var+y_range, fontsize=font);\n",
    "\n",
    "    im = max_mean_month_post.isel(x=range(12, 68), y=range(12, 68)).plot.imshow(vmin=1, vmax=12, ax=ax[1,2], cmap='twilight', add_colorbar=False, add_labels=False)\n",
    "    ax[1,2].set_title('Inversion '+var+' (2015-19)', fontsize=font);\n",
    "\n",
    "if var=='ER':\n",
    "    fig,ax = plt.subplots(2,3, figsize=(18,10))\n",
    "    im = max_mean_month.plot.imshow(vmin=1, vmax=12, ax=ax[0,0], cmap='twilight', add_colorbar=False, add_labels=False)\n",
    "    ax[0,0].set_title('This Study '+var+y_range, fontsize=font);\n",
    "\n",
    "    im = max_mean_month_fc.plot.imshow(vmin=1, vmax=12, ax=ax[0,1], cmap='twilight', add_colorbar=False, add_labels=False)\n",
    "    ax[0,1].set_title('Fluxcom-RS '+var+ ' (2003-2015)', fontsize=font);\n",
    "\n",
    "    im = max_mean_month_fc_met.plot.imshow(vmin=1, vmax=12, ax=ax[0,2], cmap='twilight', add_colorbar=False, add_labels=False)\n",
    "    ax[0,2].set_title('Fluxcom-Met '+var+' (2003-2018)', fontsize=font);\n",
    "\n",
    "    im = max_mean_month_cable.plot.imshow(vmin=1, vmax=12, ax=ax[1,0], cmap='twilight', add_colorbar=False, add_labels=False)\n",
    "    ax[1,0].set_title('Cable-BIOS '+var+y_range, fontsize=font);\n",
    "\n",
    "    im = max_mean_month_cable_pop.plot.imshow(vmin=1, vmax=12, ax=ax[1,1], cmap='twilight', add_colorbar=False, add_labels=False)\n",
    "    ax[1,1].set_title('Cable-POP '+var+y_range, fontsize=font);\n",
    "    \n",
    "\n",
    "ax[0,0].set_yticks([])\n",
    "ax[0,1].set_yticks([])\n",
    "ax[0,2].set_yticks([])\n",
    "ax[1,0].set_yticks([])\n",
    "ax[1,1].set_yticks([])\n",
    "ax[1,2].set_yticks([])\n",
    "ax[0,0].set_xticks([])\n",
    "ax[0,1].set_xticks([])\n",
    "ax[0,2].set_xticks([])\n",
    "ax[1,0].set_xticks([])\n",
    "ax[1,1].set_xticks([])\n",
    "ax[1,2].set_xticks([])\n",
    "\n",
    "if var=='GPP':\n",
    "    ax[0,3].set_yticks([])\n",
    "    ax[1,3].set_yticks([])\n",
    "    ax[0,3].set_xticks([])\n",
    "    ax[1,3].set_xticks([])\n",
    "\n",
    "plt.tight_layout()\n",
    "plt.savefig('/g/data/os22/chad_tmp/NEE_modelling/results/figs/month_of_max_'+var+'.png', bbox_inches='tight')\n"
   ]
  },
  {
   "cell_type": "markdown",
   "metadata": {},
   "source": [
    "### Save the colorbar"
   ]
  },
  {
   "cell_type": "code",
   "execution_count": null,
   "metadata": {},
   "outputs": [],
   "source": [
    "fig = plt.figure()\n",
    "ax = fig.add_axes([0.05, 0.80, 0.9, 0.1])\n",
    "# cbar = fig.colorbar(im, )\n",
    "cbar = mpl.colorbar.ColorbarBase(orientation='horizontal',\n",
    "                                 ax=ax,\n",
    "                                 norm = mpl.colors.Normalize(vmin=1, vmax=12),\n",
    "                                 ticks=[1,2,3,4,5,6,7,8,9,10,11,12],\n",
    "                                 cmap='twilight')\n",
    "\n",
    "# cbar.set_ticks([1,2,3,4,5,6,7,8,9,10,11,12])\n",
    "cbar.set_ticklabels([\"J\",\"F\",\"M\",\"A\",\"M\",\"J\",\"J\",\"A\",\"S\",\"O\",\"N\",\"D\"], fontsize=font)\n",
    "\n",
    "plt.savefig('/g/data/os22/chad_tmp/NEE_modelling/results/figs/monthofmax_colorbar.png', bbox_inches='tight')\n"
   ]
  }
 ],
 "metadata": {
  "kernelspec": {
   "display_name": "Python 3 (ipykernel)",
   "language": "python",
   "name": "python3"
  },
  "language_info": {
   "codemirror_mode": {
    "name": "ipython",
    "version": 3
   },
   "file_extension": ".py",
   "mimetype": "text/x-python",
   "name": "python",
   "nbconvert_exporter": "python",
   "pygments_lexer": "ipython3",
   "version": "3.8.8"
  }
 },
 "nbformat": 4,
 "nbformat_minor": 4
}
