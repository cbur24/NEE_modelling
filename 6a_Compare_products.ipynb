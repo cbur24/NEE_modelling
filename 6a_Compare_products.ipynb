{
 "cells": [
  {
   "cell_type": "markdown",
   "metadata": {},
   "source": [
    "# Comparing fluxes with other products\n",
    "\n",
    "\n"
   ]
  },
  {
   "cell_type": "code",
   "execution_count": 1,
   "metadata": {},
   "outputs": [],
   "source": [
    "import datetime\n",
    "import numpy as np\n",
    "import xarray as xr\n",
    "import rioxarray as rxr\n",
    "import pyproj\n",
    "\n",
    "import matplotlib.pyplot as plt\n",
    "from matplotlib.colors import ListedColormap\n",
    "\n",
    "from odc.geo.geobox import zoom_out\n",
    "from odc.geo.xr import assign_crs\n",
    "from odc.algo import xr_reproject\n",
    "\n",
    "import sys\n",
    "sys.path.append('/g/data/os22/chad_tmp/NEE_modelling/')\n",
    "from collect_prediction_data import allNaN_arg\n",
    "\n",
    "import warnings\n",
    "warnings.filterwarnings(\"ignore\")"
   ]
  },
  {
   "cell_type": "markdown",
   "metadata": {},
   "source": [
    "## Analysis Parameters"
   ]
  },
  {
   "cell_type": "code",
   "execution_count": 2,
   "metadata": {},
   "outputs": [],
   "source": [
    "var = 'GPP'\n",
    "var_fc = 'gpp'\n",
    "results_name = 'GPP_2003_2021_5km_LGBM.nc'\n",
    "upper = 'NEE_2003_2021_5km_LGBM_quantiles.nc'"
   ]
  },
  {
   "cell_type": "markdown",
   "metadata": {},
   "source": [
    "## Open various datasets"
   ]
  },
  {
   "cell_type": "code",
   "execution_count": 3,
   "metadata": {},
   "outputs": [],
   "source": [
    "ds = xr.open_dataarray('/g/data/os22/chad_tmp/NEE_modelling/results/predictions/'+results_name)\n",
    "ds.attrs['nodata'] = np.nan\n",
    "\n",
    "# ds_upper = xr.open_dataarray('/g/data/os22/chad_tmp/NEE_modelling/results/predictions/'+upper)\n",
    "# ds_upper.attrs['nodata'] = np.nan\n",
    "\n",
    "# ds_lower = xr.open_dataarray('/g/data/os22/chad_tmp/NEE_modelling/results/predictions/'+lower)\n",
    "# ds_lower.attrs['nodata'] = np.nan"
   ]
  },
  {
   "cell_type": "code",
   "execution_count": 4,
   "metadata": {},
   "outputs": [],
   "source": [
    "mask = xr.open_dataset('/g/data/os22/chad_tmp/NEE_modelling/results/prediction_data/data_5km.nc')\n",
    "mask = mask[['FPAR']].to_array().isnull().all('variable')\n",
    "mask = mask.isel(time=1)\n",
    "\n",
    "ds = ds.where(~mask)\n",
    "# ds_upper = ds_upper.where(~mask)"
   ]
  },
  {
   "cell_type": "markdown",
   "metadata": {},
   "source": [
    "### Fluxcom"
   ]
  },
  {
   "cell_type": "code",
   "execution_count": 5,
   "metadata": {},
   "outputs": [],
   "source": [
    "ds_fc = assign_crs(xr.open_dataset('/g/data/os22/chad_tmp/NEE_modelling/data/FLUXCOM/'+var_fc+'_rs.nc'), crs='epsg:4326')\n",
    "# ds_fc = ds_fc.rename({'lat':'latitude', 'lon':'longitude'})\n",
    "ds_fc.attrs['nodata'] = np.nan\n",
    "ds_fc['latitude'] = ds_fc.latitude.astype('float32')\n",
    "ds_fc['longitude'] = ds_fc.longitude.astype('float32')\n",
    "\n",
    "ds_fc_met = assign_crs(xr.open_dataset('/g/data/os22/chad_tmp/NEE_modelling/data/FLUXCOM/'+var_fc+'_rs_meteo_era5.nc').sel(time=slice('2003', '2018')), crs='epsg:4326')\n",
    "ds_fc_met = ds_fc_met.rename({'lat':'latitude', 'lon':'longitude'})\n",
    "ds_fc_met.attrs['nodata'] = np.nan\n",
    "ds_fc_met['latitude'] = ds_fc_met.latitude.astype('float32')\n",
    "ds_fc_met['longitude'] = ds_fc_met.longitude.astype('float32')\n"
   ]
  },
  {
   "cell_type": "code",
   "execution_count": 6,
   "metadata": {},
   "outputs": [],
   "source": [
    "ds_fc['time'] = ds.sel(time=slice('2003', '2015')).time\n",
    "ds_fc_met['time'] = ds.sel(time=slice('2003', '2018')).time"
   ]
  },
  {
   "cell_type": "markdown",
   "metadata": {},
   "source": [
    "### CABLE\n",
    "\n",
    "<!-- '/g/data/os22/chad_tmp/NEE_modelling/data/CABLE/CABLE_ER_10km_monthly_2000_2019.nc' -->"
   ]
  },
  {
   "cell_type": "code",
   "execution_count": null,
   "metadata": {},
   "outputs": [],
   "source": [
    "cable_nee = xr.open_dataarray('/g/data/os22/chad_tmp/NEE_modelling/data/CABLE/CABLE-BIOS/CABLE_BIOS_nbp_25km_monthly_2003_2019.nc')\n",
    "cable_nee_pop = xr.open_dataset('/g/data/os22/chad_tmp/NEE_modelling/data/CABLE/CABLE-POP_v10/CABLE-POP_nbp_100km_monthly_2003_2020.nc')\n",
    "# cable_nee = cable_nee.sel(time=slice('2003', '2015'))"
   ]
  },
  {
   "cell_type": "code",
   "execution_count": 7,
   "metadata": {},
   "outputs": [],
   "source": [
    "cable_gpp = xr.open_dataarray('/g/data/os22/chad_tmp/NEE_modelling/data/CABLE/CABLE-BIOS/CABLE_BIOS_gpp_25km_monthly_2003_2019.nc')#.sel(time=slice('2003', '2015'))\n",
    "cable_gpp_pop = xr.open_dataset('/g/data/os22/chad_tmp/NEE_modelling/data/CABLE/CABLE-POP_v10/CABLE-POP_gpp_100km_monthly_2003_2020.nc')"
   ]
  },
  {
   "cell_type": "markdown",
   "metadata": {},
   "source": [
    "### MODIS GPP"
   ]
  },
  {
   "cell_type": "code",
   "execution_count": 8,
   "metadata": {},
   "outputs": [],
   "source": [
    "modis_gpp = xr.open_dataarray('/g/data/os22/chad_tmp/NEE_modelling/data/1km/MODIS_GPP_1km_monthly_2002_2021.nc')\n",
    "modis_gpp.attrs['nodata'] = np.nan"
   ]
  },
  {
   "cell_type": "markdown",
   "metadata": {},
   "source": [
    "### GOSIF GPP"
   ]
  },
  {
   "cell_type": "code",
   "execution_count": 9,
   "metadata": {},
   "outputs": [],
   "source": [
    "gosif_gpp = xr.open_dataarray('/g/data/os22/chad_tmp/NEE_modelling/data/5km/GOSIF_GPP_5km_monthly_2002_2021.nc')\n",
    "gosif_gpp.attrs['nodata'] = np.nan"
   ]
  },
  {
   "cell_type": "code",
   "execution_count": null,
   "metadata": {},
   "outputs": [],
   "source": [
    "# evi=xr.open_dataarray('/g/data/os22/chad_tmp/NEE_modelling/data/5km/EVI_5km_monthly_2002_2021.nc')"
   ]
  },
  {
   "cell_type": "markdown",
   "metadata": {},
   "source": [
    "### Villalobos et al \n",
    "\n",
    "Needed to fix the dataset before it could be opened. Used the R script in data/villalobos/"
   ]
  },
  {
   "cell_type": "code",
   "execution_count": null,
   "metadata": {},
   "outputs": [],
   "source": [
    "fn = '/g/data/os22/chad_tmp/NEE_modelling/data/villalobos/post.tif'\n",
    "post = rxr.open_rasterio(fn).rename({'band':'month'})\n",
    "post['month']=ds.sel(time=slice('2015', '2019')).time.values\n",
    "post = post.rename({'month':'time'})\n",
    "post = xr_reproject(post, geobox=post.odc.geobox.to_crs('epsg:3577').compat, resampling='nearest')\n",
    "# post = assign_crs(post, crs='epsg:3577')\n",
    "post.attrs['nodata'] = np.nan\n",
    "post.attrs['units'] = 'PgC/year'\n",
    "\n",
    "fn = '/g/data/os22/chad_tmp/NEE_modelling/data/villalobos/land.tif'\n",
    "cable = rxr.open_rasterio(fn).rename({'band':'month'})\n",
    "cable['month']=ds.sel(time=slice('2015', '2019')).time.values\n",
    "cable = cable.rename({'month':'time'})\n",
    "cable = xr_reproject(cable, geobox=cable.odc.geobox.to_crs('epsg:3577').compat, resampling='nearest')\n",
    "# post = assign_crs(post, crs='epsg:3577')\n",
    "cable.attrs['nodata'] = np.nan\n",
    "cable.attrs['units'] = 'PgC/year'\n",
    "\n",
    "# create a mask for this janky dataset\n",
    "mask_inv = cable.where(cable==0).isel(time=1)\n",
    "mask_inv = mask_inv.astype(bool)\n",
    "\n",
    "post = post.where(mask_inv)\n",
    "cable = cable.where(mask_inv)"
   ]
  },
  {
   "cell_type": "markdown",
   "metadata": {},
   "source": [
    "## Define a common grid\n",
    "\n",
    "Resolution is similar to Villalobos as that's the coarest product"
   ]
  },
  {
   "cell_type": "code",
   "execution_count": null,
   "metadata": {},
   "outputs": [],
   "source": [
    "# grid = zoom_out(ds.odc.geobox, 20)\n",
    "# grid = grid.to_crs('EPSG:3577')\n",
    "# grid"
   ]
  },
  {
   "cell_type": "markdown",
   "metadata": {},
   "source": [
    "### Reproject datasets to match common grid"
   ]
  },
  {
   "cell_type": "code",
   "execution_count": 10,
   "metadata": {},
   "outputs": [],
   "source": [
    "ds = xr_reproject(ds, geobox=ds.odc.geobox.to_crs('EPSG:3577').compat, resampling='bilinear')\n",
    "# ds_upper = xr_reproject(ds_upper, geobox=ds.odc.geobox.to_crs('EPSG:3577').compat, resampling='bilinear')"
   ]
  },
  {
   "cell_type": "code",
   "execution_count": 11,
   "metadata": {},
   "outputs": [],
   "source": [
    "ds_fc = xr_reproject(ds_fc, geobox=ds_fc.odc.geobox.to_crs('EPSG:3577').compat, resampling='bilinear')\n",
    "ds_fc = ds_fc[var] #.where(~mask.astype(bool))\n",
    "ds_fc = ds_fc*30 #/day to /month\n",
    "\n",
    "ds_fc_met = xr_reproject(ds_fc_met, geobox=ds_fc_met.odc.geobox.to_crs('EPSG:3577').compat, resampling='bilinear')\n",
    "ds_fc_met = ds_fc_met[var] #.where(~mask.astype(bool))\n",
    "ds_fc_met = ds_fc_met*30 #/day to /month"
   ]
  },
  {
   "cell_type": "code",
   "execution_count": null,
   "metadata": {},
   "outputs": [],
   "source": [
    "# post = xr_reproject(post, geobox=grid.compat, resampling='nearest')\n",
    "# cable = xr_reproject(cable, geobox=grid.compat, resampling='bilinear')"
   ]
  },
  {
   "cell_type": "code",
   "execution_count": null,
   "metadata": {},
   "outputs": [],
   "source": [
    "cable_nee = assign_crs(cable_nee, crs='epsg:4326')\n",
    "cable_nee = xr_reproject(cable_nee, geobox=cable_nee.odc.geobox.to_crs('EPSG:3577').compat, resampling='bilinear') #['nbp']\n",
    "#cable_nee = cable_nee.where(~mask.astype(bool))\n",
    "\n",
    "cable_nee_pop = assign_crs(cable_nee_pop['nbp'], crs='epsg:4326')\n",
    "cable_nee_pop = xr_reproject(cable_nee_pop, geobox=cable_nee_pop.odc.geobox.to_crs('EPSG:3577').compat, resampling='bilinear') #['nbp']\n",
    "#cable_nee_pop = cable_nee_pop.where(~mask.astype(bool))"
   ]
  },
  {
   "cell_type": "code",
   "execution_count": 12,
   "metadata": {},
   "outputs": [],
   "source": [
    "cable_gpp = xr_reproject(assign_crs(cable_gpp, crs='epsg:4326'), geobox=cable_gpp.odc.geobox.to_crs('EPSG:3577').compat, resampling='bilinear') #['nbp']\n",
    "\n",
    "cable_gpp_pop = assign_crs(cable_gpp_pop, crs='epsg:4326')\n",
    "cable_gpp_pop = xr_reproject(cable_gpp_pop, geobox=cable_gpp_pop.odc.geobox.to_crs('EPSG:3577').compat, resampling='bilinear') #['nbp']"
   ]
  },
  {
   "cell_type": "code",
   "execution_count": 13,
   "metadata": {},
   "outputs": [],
   "source": [
    "grid = zoom_out(ds.odc.geobox, 5)\n",
    "grid = grid.to_crs('EPSG:3577')\n",
    "modis_gpp = xr_reproject(modis_gpp, geobox=grid.compat, resampling='bilinear')\n",
    "\n",
    "# modis_gpp = modis_gpp.where(~mask.astype(bool))"
   ]
  },
  {
   "cell_type": "code",
   "execution_count": 14,
   "metadata": {},
   "outputs": [],
   "source": [
    "gosif_gpp = xr_reproject(gosif_gpp, geobox=gosif_gpp.odc.geobox.to_crs('EPSG:3577').compat, resampling='bilinear')\n",
    "\n",
    "# gosif_gpp = gosif_gpp.where(~mask.astype(bool))"
   ]
  },
  {
   "cell_type": "code",
   "execution_count": null,
   "metadata": {},
   "outputs": [],
   "source": [
    "# evi=xr_reproject(evi, geobox=grid.geobox, resampling='average')\n",
    "# evi=evi.where(~mask.astype(bool))gosid"
   ]
  },
  {
   "cell_type": "markdown",
   "metadata": {},
   "source": [
    "## Convert to total C in (petagrams) rather than gC/m2\n",
    "\n",
    "Find area of pixels"
   ]
  },
  {
   "cell_type": "code",
   "execution_count": 15,
   "metadata": {},
   "outputs": [],
   "source": [
    "ds = ds * ds.geobox.resolution[1]**2 * 1e-15\n",
    "ds = ds*12 #convert to Pg/Year (even though monthly timeseries)\n",
    "\n",
    "# ds_upper = ds_upper * ds_upper.geobox.resolution[1]**2 * 1e-15\n",
    "# ds_upper = ds_upper*12 \n",
    "\n",
    "\n",
    "ds_fc = ds_fc * ds_fc.geobox.resolution[1]**2 * 1e-15\n",
    "ds_fc = ds_fc*12\n",
    "\n",
    "ds_fc_met = ds_fc_met * ds_fc_met.geobox.resolution[1]**2 * 1e-15\n",
    "ds_fc_met = ds_fc_met*12\n",
    "\n",
    "# cable_gpp = cable_gpp * area_per_pixel * 1e-15\n",
    "# cable_gpp= cable_gpp*12\n",
    "\n",
    "# cable_nee = cable_nee * cable_nee.geobox.resolution[1]**2 * 1e-15\n",
    "# cable_nee = cable_nee*12\n",
    "\n",
    "# cable_nee_pop = cable_nee_pop * cable_nee_pop.geobox.resolution[1]**2 * 1e-15\n",
    "# cable_nee_pop = cable_nee_pop*12\n",
    "\n",
    "cable_gpp = cable_gpp * cable_gpp.geobox.resolution[1]**2 * 1e-15\n",
    "cable_gpp = cable_gpp*12\n",
    "\n",
    "cable_gpp_pop = cable_gpp_pop * cable_gpp_pop.geobox.resolution[1]**2 * 1e-15\n",
    "cable_gpp_pop = cable_gpp_pop*12"
   ]
  },
  {
   "cell_type": "code",
   "execution_count": null,
   "metadata": {},
   "outputs": [],
   "source": [
    "# modis_gpp = modis_gpp * 1000"
   ]
  },
  {
   "cell_type": "code",
   "execution_count": 16,
   "metadata": {},
   "outputs": [],
   "source": [
    "modis_gpp = modis_gpp * modis_gpp.geobox.resolution[1]**2 * 1e-12\n",
    "modis_gpp = modis_gpp*12\n",
    "gosif_gpp = gosif_gpp * gosif_gpp.geobox.resolution[1]**2 * 1e-15\n",
    "gosif_gpp = gosif_gpp*12"
   ]
  },
  {
   "cell_type": "markdown",
   "metadata": {},
   "source": [
    "## Export harmonized dataset"
   ]
  },
  {
   "cell_type": "code",
   "execution_count": null,
   "metadata": {},
   "outputs": [],
   "source": [
    "merged = xr.merge([\n",
    "    ds_fc.rename('Fluxcom_RS_GPP'),\n",
    "    ds_fc_met.rename('Fluxcom_RS-meteo_GPP'),#,.sel(time=slice('2003', '2015')),\n",
    "    ds.rename('ThisStudy_GPP'),#.sel(time=slice('2003', '2015')),\n",
    "    cable_gpp.rename('Cable_GPP'),#.sel(time=slice('2003', '2015')),\n",
    "    modis_gpp.rename('MODIS_GPP'),#.sel(time=slice('2003', '2015')),\n",
    "    gosif_gpp.rename('GOSIF_GPP'),#.sel(time=slice('2003', '2015'))\n",
    "])\n",
    "\n",
    "# merged = xr.merge([\n",
    "#     ds_fc_met.rename('Fluxcom_RS-Meteo_NEE'),\n",
    "#     ds_fc.rename('Fluxcom_RS_NEE'),#.sel(time=slice('2003', '2015')),\n",
    "#     ds.rename('ThisStudy_NEE'),#.sel(time=slice('2003', '2015')),\n",
    "#     cable_nee.rename('Cable_NEE')#.sel(time=slice('2003', '2015')),\n",
    "# ])\n",
    "\n",
    "merged.to_netcdf('/g/data/os22/chad_tmp/NEE_modelling/data/harmonized_gpp.nc')"
   ]
  },
  {
   "cell_type": "markdown",
   "metadata": {},
   "source": [
    "## Plot time-series and find annual mean and std dev "
   ]
  },
  {
   "cell_type": "code",
   "execution_count": 18,
   "metadata": {},
   "outputs": [],
   "source": [
    "trim=True"
   ]
  },
  {
   "cell_type": "code",
   "execution_count": 19,
   "metadata": {},
   "outputs": [],
   "source": [
    "if trim:\n",
    "    ds = ds.sel(time=slice('2003', '2019'))\n",
    "    # ds_upper = ds_upper.sel(time=slice('2003', '2019'))\n",
    "    ds_fc = ds_fc.sel(time=slice('2003', '2019'))\n",
    "    ds_fc_met = ds_fc_met.sel(time=slice('2003', '2019'))\n",
    "    #cable_nee = cable_nee.sel(time=slice('2003', '2019'))\n",
    "    #cable_nee_pop = cable_nee_pop.sel(time=slice('2003', '2019'))\n",
    "    cable_gpp = cable_gpp.sel(time=slice('2003', '2019'))\n",
    "    cable_gpp_pop = cable_gpp_pop.sel(time=slice('2003', '2019'))\n",
    "    modis_gpp = modis_gpp.sel(time=slice('2003', '2019'))\n",
    "    gosif_gpp = gosif_gpp.sel(time=slice('2003', '2019'))"
   ]
  },
  {
   "cell_type": "code",
   "execution_count": null,
   "metadata": {},
   "outputs": [],
   "source": [
    "ds_1d = ds.sum(['x', 'y'])\n",
    "ds_1d_upper = ds_upper.sum(['x', 'y'])\n",
    "# ds_1d_lower = ds_lower.sum(['x', 'y'])\n",
    "ds_fc_1d = ds_fc.sum(['x', 'y'])\n",
    "ds_fc_met_1d = ds_fc_met.sum(['x', 'y'])\n",
    "post_1d = post.sum(['x', 'y'])\n",
    "# cable_1d = cable.sum(['x', 'y'])\n",
    "cable_nee_1d = cable_nee.sum(['x', 'y'])\n",
    "cable_nee_pop_1d = cable_nee_pop.sum(['x', 'y'])"
   ]
  },
  {
   "cell_type": "code",
   "execution_count": null,
   "metadata": {},
   "outputs": [],
   "source": [
    "print(f'Mean of this study: {ds_1d.mean().values:.3f} PgC/yr')\n",
    "print(f'Std Dev of this study: {ds_1d.std().values:.3f} PgC/yr')\n",
    "print('\\n')\n",
    "print(f'Mean of Fluxcom-RS: {ds_fc_1d.mean().values:.3f} PgC/yr')\n",
    "print(f'Std Dev of Fluxcom-RS: {ds_fc_1d.std().values:.3f} PgC/yr')\n",
    "print('\\n')\n",
    "print(f'Mean of Fluxcom-met: {ds_fc_met_1d.mean().values:.3f} PgC/yr')\n",
    "print(f'Std Dev of Fluxcom-met: {ds_fc_met_1d.std().values:.3f} PgC/yr')\n",
    "print('\\n')\n",
    "print(f'Mean of Inversion: {post_1d.mean().values:.3f} PgC/yr')\n",
    "print(f'Std Dev of Inversion: {post_1d.std().values:.3f} PgC/yr')\n",
    "print('\\n')\n",
    "# print(f'Mean of Cable: {cable_1d.mean().values:.3f} PgC/yr')\n",
    "# print(f'Std Dev of Cable: {cable_1d.std().values:.3f} PgC/yr')\n",
    "print(f'Mean of Cable-BIOS: {cable_nee_1d.mean().values:.3f} PgC/yr')\n",
    "print(f'Std Dev of Cable-BIOS: {cable_nee_1d.std().values:.3f} PgC/yr')\n",
    "print('\\n')\n",
    "print(f'Mean of Cable-POP: {cable_nee_pop_1d.mean().values:.3f} PgC/yr')\n",
    "print(f'Std Dev of Cable-POP: {cable_nee_pop_1d.std().values:.3f} PgC/yr')"
   ]
  },
  {
   "cell_type": "code",
   "execution_count": null,
   "metadata": {},
   "outputs": [],
   "source": [
    "import matplotlib \n",
    "matplotlib.rcParams.update({'font.size': 16})"
   ]
  },
  {
   "cell_type": "code",
   "execution_count": null,
   "metadata": {},
   "outputs": [],
   "source": [
    "fig, ax = plt.subplots(1,1, figsize=(15,7))\n",
    "ax.plot(ds_1d.time.values, ds_1d.rolling(time=3, min_periods=1).mean(),  label='This study '+var)\n",
    "ax.fill_between(ds_1d.time, ds_1d_upper.sel(quantile=0.25).rolling(time=3, min_periods=1).mean(),\n",
    "                ds_1d_upper.sel(quantile=0.75).rolling(time=3, min_periods=1).mean(), alpha=0.2)\n",
    "ax.plot(ds_fc_1d.time.values, ds_fc_1d.rolling(time=3, min_periods=1).mean(), linestyle='--', label='Fluxcom-RS '+var, alpha=0.8)\n",
    "ax.plot(ds_fc_met_1d.time.values, ds_fc_met_1d.rolling(time=3, min_periods=1).mean(), linestyle='--', label='Fluxcom-Met '+var, alpha=0.8)\n",
    "# ax.plot(modis_gpp_1D.time.values, modis_gpp_1D, linestyle='--', label='MODIS '+var, alpha=0.75)\n",
    "# ax.plot(gosif_gpp_1D.time.values, gosif_gpp_1D, linestyle='--', label='GOSIF '+var, alpha=0.75)\n",
    "ax.plot(post_1d.time.values, post_1d.rolling(time=3, min_periods=1).mean(), linestyle='--', label='Inversion '+var, alpha=0.8)\n",
    "# ax.plot(cable_1d.time.values, cable_1d.rolling(time=3, min_periods=1).mean(), linestyle='--', label='CABLE '+var, alpha=0.75)\n",
    "ax.plot(cable_nee_1d.time.values, cable_nee_1d.rolling(time=3, min_periods=1).mean(), linestyle='--', label='CABLE-BIOS '+var, alpha=0.8)\n",
    "ax.plot(cable_nee_pop_1d.time.values, cable_nee_pop_1d.rolling(time=3, min_periods=1).mean(), linestyle='--', label='CABLE-POP '+var, alpha=0.8)\n",
    "\n",
    "# ax.plot(ds_1d_upper.time.values, ds_1d_upper.rolling(time=3, min_periods=1).mean(),  label='This study upper '+var)\n",
    "# ax.plot(ds_1d_lower.time.values, ds_1d_lower.rolling(time=3, min_periods=1).mean(),  label='This study lower '+var)\n",
    "\n",
    "plt.axhline(0, c='grey')\n",
    "ax.legend(loc='lower right')\n",
    "ax.set_ylabel('Carbon Flux PgC/year');\n",
    "ax.text(.015, .30, f'Fluxcom-RS: {ds_fc_1d.mean().values:.3f} PgC/yr',\n",
    "        transform=ax.transAxes)\n",
    "\n",
    "ax.text(.015, .25, f'Fluxcom-Met: {ds_fc_met_1d.mean().values:.3f} PgC/yr',\n",
    "        transform=ax.transAxes)\n",
    "\n",
    "ax.text(.015, .20, f'Inversion: {post_1d.mean().values:.3f} PgC/yr',\n",
    "        transform=ax.transAxes)\n",
    "\n",
    "# ax.text(.015, .85, f'Cable: {cable_1d.mean().values:.3f} PgC/yr',\n",
    "#         transform=ax.transAxes)\n",
    "\n",
    "ax.text(.015, .15, f'This study: {ds_1d.mean().values:.3f} PgC/yr',\n",
    "        transform=ax.transAxes);\n",
    "\n",
    "ax.text(.015, .10, f'Cable-BIOS: {cable_nee_1d.mean().values:.3f} PgC/yr',\n",
    "        transform=ax.transAxes)\n",
    "\n",
    "ax.text(.015, .05, f'Cable-POP: {cable_nee_pop_1d.mean().values:.3f} PgC/yr',\n",
    "        transform=ax.transAxes)\n",
    "\n",
    "plt.title('Net Ecosystem Exchange (2015-19)');\n",
    "# ax.set_xlim([datetime.date(2015, 1, 1), datetime.date(2019, 12, 31)])\n",
    "# ax.set_ylim(-2.5, 2.5)\n"
   ]
  },
  {
   "cell_type": "markdown",
   "metadata": {},
   "source": [
    "## Annual means and variance"
   ]
  },
  {
   "cell_type": "code",
   "execution_count": null,
   "metadata": {},
   "outputs": [],
   "source": [
    "annual_mean = ds.groupby('time.year').sum().mean('year')\n",
    "annual_mean_fc = ds_fc.groupby('time.year').sum().mean('year')\n",
    "annual_mean_post = post.groupby('time.year').sum().mean('year')\n",
    "annual_mean_cable = cable_nee.groupby('time.year').sum().mean('year')\n",
    "\n",
    "annual_std = ds.groupby('time.year').sum().std('year')\n",
    "annual_std_fc = ds_fc.groupby('time.year').sum().std('year')\n",
    "annual_std_post = post.groupby('time.year').sum().std('year')\n",
    "annual_std_cable = cable_nee.groupby('time.year').sum().std('year')\n",
    "\n",
    "scaled_variance = annual_std / annual_mean\n",
    "scaled_variance_fc = annual_std_fc / annual_mean_fc\n",
    "scaled_variance_post = annual_std_post / annual_mean_post\n",
    "scaled_variance_cable = annual_std_cable / annual_mean_cable"
   ]
  },
  {
   "cell_type": "code",
   "execution_count": null,
   "metadata": {},
   "outputs": [],
   "source": [
    "\n",
    "fig,ax = plt.subplots(3,2, figsize=(15,19),sharey=True, sharex=True)\n",
    "im = annual_mean.plot.imshow(ax=ax[0,0], vmax=0.01,cbar_kwargs={'shrink':0.7}, add_labels=False)  #cmap='RdBu_r'\n",
    "# annual_std.where(annual_std>0).plot.imshow(ax=ax[0,1], cmap='magma', vmax=0.01)\n",
    "np.absolute(scaled_variance).plot.imshow(ax=ax[0,1], cmap='magma', vmax=3, cbar_kwargs={'shrink':0.7}, add_labels=False)\n",
    "# ax[0,0].set_title('Annual Mean of '+var+')\n",
    "# ax[0].set_title('Annual Mean of '+var+', 2003-2021')\n",
    "# ax[0].set_title('Annual Mean of '+var+', 2003-2021')\n",
    "\n",
    "im = annual_mean_fc.plot.imshow(ax=ax[1,0], vmax=0.01,cbar_kwargs={'shrink':0.7}, add_labels=False)  #cmap='RdBu_r'\n",
    "# annual_std_fc.where(annual_std_fc>0).plot.imshow(ax=ax[1,1], cmap='magma', vmax=0.01)\n",
    "np.absolute(scaled_variance_fc).plot.imshow(ax=ax[1,1], cmap='magma', vmax=3, cbar_kwargs={'shrink':0.7}, add_labels=False)\n",
    "\n",
    "im = annual_mean_cable.plot.imshow(ax=ax[2,0], vmax=0.01,cbar_kwargs={'shrink':0.7}, add_labels=False)  #cmap='RdBu_r'\n",
    "# annual_std_cable.where(annual_std_cable>0).plot.imshow(ax=ax[2,1], cmap='magma', vmax=0.01)\n",
    "im1 = np.absolute(scaled_variance_cable).plot.imshow(ax=ax[2,1], cmap='magma', vmax=3, cbar_kwargs={'shrink':0.7}, add_labels=False)\n",
    "\n",
    "# annual_mean_post.plot.imshow(ax=ax[3,0], robust=True)  #cmap='RdBu_r'\n",
    "# annual_std_post.where(annual_std_post>0).plot.imshow(ax=ax[3,1], cmap='magma', vmax=0.015)\n",
    "# np.absolute(scaled_variance_post).plot.imshow(ax=ax[3,2], cmap='magma', vmax=2)\n",
    "\n",
    "ax[0,0].set_title('This Study')\n",
    "ax[0,1].set_title('This Study')\n",
    "ax[1,0].set_title('Fluxcom')\n",
    "ax[1,1].set_title('Fluxcom')\n",
    "ax[2,0].set_title('CABLE-POP')\n",
    "ax[2,1].set_title('CABLE-POP')\n",
    "# fig.subplots_adjust(hspace=0.1)\n",
    "# cbar_ax = fig.add_axes([0.0575, 0.1, .35, .015]) #left, bottom, width, height\n",
    "# cbar1_ax = fig.add_axes([0.575, 0.1, .35, .015]) #left, bottom, width, height\n",
    "# cbar = fig.colorbar(im, spacing='uniform', ax=ax[2][0], orientation='vertical', shrink=0.7, label='Annual Mean, PgC/year')\n",
    "# cbar1 = fig.colorbar(im1, spacing='uniform', ax=ax[2][1], orientation='vertical', shrink=0.7, label='Coefficient of Variation')\n",
    "# cbar1 = fig.colorbar(im1, spacing='uniform', ax=ax.ravel().tolist(), orientation='horizontal', shrink=0.4)\n",
    "\n",
    "ax[0,0].set_xticks([])\n",
    "ax[0,1].set_yticks([])\n",
    "ax[1,0].set_xticks([])\n",
    "ax[1,1].set_yticks([])\n",
    "ax[2,0].set_xticks([])\n",
    "ax[2,1].set_yticks([])\n",
    "plt.tight_layout();\n",
    "plt.savefig('/g/data/os22/chad_tmp/NEE_modelling/results/figs/annual_mean_variance.png')"
   ]
  },
  {
   "cell_type": "markdown",
   "metadata": {},
   "source": [
    "## Convert to anomalies"
   ]
  },
  {
   "cell_type": "markdown",
   "metadata": {},
   "source": [
    "### Climatology"
   ]
  },
  {
   "cell_type": "code",
   "execution_count": 20,
   "metadata": {},
   "outputs": [],
   "source": [
    "import warnings\n",
    "warnings.filterwarnings(\"ignore\")\n",
    "\n",
    "ds_clim_mean = ds.groupby('time.month').mean()\n",
    "ds_clim_mean_annual = ds.resample(time='1Y', label='left', loffset='6M').sum().mean('time')\n",
    "\n",
    "# ds_upper_clim_mean = ds_upper.groupby('time.month').mean()\n",
    "# ds_upper_clim_mean_annual = ds_upper.resample(time='1Y', label='left', loffset='6M').sum().mean('time')\n",
    "\n",
    "# ds_lower_clim_mean = ds_lower.groupby('time.month').mean()\n",
    "# ds_lower_clim_mean_annual = ds_lower.resample(time='1Y', label='left', loffset='6M').sum().mean('time')\n",
    "\n",
    "ds_clim_mean = ds.groupby('time.month').mean()\n",
    "ds_clim_mean_annual = ds.resample(time='1Y', label='left', loffset='6M').sum().mean('time')\n",
    "\n",
    "ds_fc_clim_mean = ds_fc.groupby('time.month').mean()\n",
    "ds_fc_clim_mean_annual = ds_fc.resample(time='1Y', label='left', loffset='6M').sum().mean('time')\n",
    "\n",
    "ds_fc_met_clim_mean = ds_fc_met.groupby('time.month').mean()\n",
    "ds_fc_met_clim_mean_annual = ds_fc_met.resample(time='1Y', label='left', loffset='6M').sum().mean('time')\n",
    "\n",
    "# post_clim_mean = post.groupby('time.month').mean()\n",
    "# post_clim_mean_annual = post.resample(time='1Y', label='left', loffset='6M').sum().mean('time')\n",
    "\n",
    "# cable_clim_mean = cable.groupby('time.month').mean()\n",
    "# cable_clim_mean_annual = cable.resample(time='1Y', label='left', loffset='6M').sum().mean('time')\n",
    "\n",
    "# cable_nee_clim_mean = cable_nee.groupby('time.month').mean()\n",
    "# cable_nee_clim_mean_annual = cable_nee.resample(time='1Y', label='left', loffset='6M').sum().mean('time')\n",
    "\n",
    "# cable_nee_pop_clim_mean = cable_nee_pop.groupby('time.month').mean()\n",
    "# cable_nee_pop_clim_mean_annual = cable_nee_pop.resample(time='1Y', label='left', loffset='6M').sum().mean('time')\n",
    "\n",
    "cable_gpp_clim_mean = cable_gpp.groupby('time.month').mean()\n",
    "cable_gpp_clim_mean_annual = cable_gpp.resample(time='1Y', label='left', loffset='6M').sum().mean('time')\n",
    "\n",
    "cable_gpp_pop_clim_mean = cable_gpp_pop.groupby('time.month').mean()\n",
    "cable_gpp_pop_clim_mean_annual = cable_gpp_pop.resample(time='1Y', label='left', loffset='6M').sum().mean('time')"
   ]
  },
  {
   "cell_type": "code",
   "execution_count": 21,
   "metadata": {},
   "outputs": [],
   "source": [
    "modis_gpp_clim_mean = modis_gpp.groupby('time.month').mean()\n",
    "modis_gpp_clim_mean_annual = modis_gpp.resample(time='1Y', label='left', loffset='6M').sum().mean('time')\n",
    "\n",
    "gosif_gpp_clim_mean = gosif_gpp.groupby('time.month').mean()\n",
    "gosif_gpp_clim_mean_annual = gosif_gpp.resample(time='1Y', label='left', loffset='6M').sum().mean('time')"
   ]
  },
  {
   "cell_type": "markdown",
   "metadata": {},
   "source": [
    "### Anomalies"
   ]
  },
  {
   "cell_type": "code",
   "execution_count": null,
   "metadata": {},
   "outputs": [],
   "source": [
    "ds_anom = (ds.groupby('time.month') - ds_clim_mean)\n",
    "# ds_upper_anom = (ds_upper.groupby('time.month') - ds_clim_mean) \n",
    "# ds_lower_anom = (ds_lower.groupby('time.month') - ds_clim_mean)\n",
    "ds_fc_anom = (ds_fc.groupby('time.month') - ds_fc_clim_mean)\n",
    "ds_fc_met_anom = (ds_fc_met.groupby('time.month') - ds_fc_met_clim_mean)\n",
    "post_anom = (post.groupby('time.month') - post_clim_mean)\n",
    "# cable_anom = (cable.groupby('time.month') - cable_clim_mean)\n",
    "cable_nee_anom = (cable_nee.groupby('time.month') - cable_nee_clim_mean)\n",
    "cable_nee_pop_anom = (cable_nee_pop.groupby('time.month') - cable_nee_pop_clim_mean)\n",
    "\n",
    "# ds_anom_annual = ds.resample(time='1Y', label='left', loffset='6M').sum() - ds_clim_mean_annual\n",
    "# ds_fc_anom_annual = ds_fc.resample(time='1Y', label='left', loffset='6M').sum() - ds_fc_clim_mean_annual\n",
    "# # post_anom_annual = post.resample(time='1Y', label='left', loffset='6M').sum() - post_clim_mean_annual\n",
    "# # cable_anom_annual = cable.resample(time='1Y', label='left', loffset='6M').sum() - cable_clim_mean_annual\n",
    "# cable_nee_anom_annual = cable_nee.resample(time='1Y', label='left', loffset='6M').sum() - cable_nee_clim_mean_annual\n",
    "\n"
   ]
  },
  {
   "cell_type": "code",
   "execution_count": null,
   "metadata": {},
   "outputs": [],
   "source": [
    "modis_gpp_anom = (modis_gpp.groupby('time.month') - modis_gpp_clim_mean)\n",
    "gosif_gpp_anom = (gosif_gpp.groupby('time.month') - gosif_gpp_clim_mean)\n",
    "\n",
    "modis_gpp_anom_annual = modis_gpp.resample(time='1Y', label='left', loffset='6M').sum() - modis_gpp_clim_mean_annual\n",
    "gosif_gpp_anom_annual = gosif_gpp.resample(time='1Y', label='left', loffset='6M').sum() - gosif_gpp_clim_mean_annual"
   ]
  },
  {
   "cell_type": "markdown",
   "metadata": {},
   "source": [
    "## Zonal summaries"
   ]
  },
  {
   "cell_type": "markdown",
   "metadata": {},
   "source": [
    "### Monthly"
   ]
  },
  {
   "cell_type": "code",
   "execution_count": null,
   "metadata": {},
   "outputs": [],
   "source": [
    "ds_1D = ds_anom.sum(['x','y'])\n",
    "# ds_upper_1D = ds_upper_anom.sum(['x','y'])\n",
    "# ds_lower_1D = ds_lower_anom.sum(['x','y'])\n",
    "ds_fc_1D = ds_fc_anom.sum(['x','y'])\n",
    "ds_fc_met_1D = ds_fc_met_anom.sum(['x','y'])\n",
    "post_1D = post_anom.sum(['x','y'])\n",
    "# cable_1D = cable_anom.sum(['x','y'])\n",
    "cable_nee_1D = cable_nee_anom.sum(['x','y'])\n",
    "cable_nee_pop_1D = cable_nee_pop_anom.sum(['x','y'])"
   ]
  },
  {
   "cell_type": "code",
   "execution_count": null,
   "metadata": {},
   "outputs": [],
   "source": [
    "modis_gpp_1D = modis_gpp_anom.sum(['x','y'])\n",
    "gosif_gpp_1D = gosif_gpp_anom.sum(['x','y'])"
   ]
  },
  {
   "cell_type": "code",
   "execution_count": null,
   "metadata": {},
   "outputs": [],
   "source": [
    "# if trim:\n",
    "#     ds = ds.sel(time=slice('2015', '2019'))\n",
    "#     ds_fc = ds.sel(time=slice('2015', '2019'))\n",
    "\n",
    "fig, ax = plt.subplots(1,1, figsize=(15,7))\n",
    "\n",
    "ax.plot(ds_1D.time.values, ds_1D.rolling(time=3, min_periods=1).mean(), label='This study '+var)\n",
    "# ax.fill_between(ds_1D.time.values,\n",
    "#                 ds_upper_1D.rolling(time=3, min_periods=1).mean(),\n",
    "#                 ds_lower_1D.rolling(time=3, min_periods=1).mean(),\n",
    "#                 alpha=0.2)\n",
    "\n",
    "ax.plot(ds_fc_1D.time.values, ds_fc_1D.rolling(time=3, min_periods=1).mean(), linestyle='--', label='Fluxcom-RS '+var, alpha=0.8)\n",
    "ax.plot(ds_fc_met_1D.time.values, ds_fc_met_1D.rolling(time=3, min_periods=1).mean(), linestyle='--', label='Fluxcom-Met '+var, alpha=0.8)\n",
    "\n",
    "ax.plot(post_1D.time.values, post_1D.rolling(time=3, min_periods=1).mean(), linestyle='--', label='Inversion '+var, alpha=0.8)\n",
    "\n",
    "ax.plot(cable_nee_1D.time.values, cable_nee_1D.rolling(time=3, min_periods=1).mean(), linestyle='--', label='Cable-BIOS '+var, alpha=0.8)\n",
    "ax.plot(cable_nee_pop_1D.time.values, cable_nee_pop_1D.rolling(time=3, min_periods=1).mean(), linestyle='--', label='Cable-POP '+var, alpha=0.8)\n",
    "\n",
    "#ax.plot(cable_1D.time.values, cable_1D.rolling(time=3, min_periods=1).mean(), linestyle='--', label='Cable '+var, alpha=0.75)\n",
    "\n",
    "# ax.plot(modis_gpp_1D.time.values, modis_gpp_1D, linestyle='--', label='MODIS '+var, alpha=0.75)\n",
    "# ax.plot(gosif_gpp_1D.time.values, gosif_gpp_1D, linestyle='--', label='GOSIF '+var, alpha=0.75)\n",
    "\n",
    "\n",
    "ax.legend(loc='lower left')\n",
    "\n",
    "ax.set_ylabel('Carbon Flux Anomaly PgC/year');\n",
    "\n",
    "# ax.set_ylim(-0.175, 0.175)\n",
    "# ax.text(.015, .95, f'Fluxcom: {ds_fc_1D.std().values:.3f} PgC/yr',\n",
    "#         transform=ax.transAxes)\n",
    "# ax.text(.015, .90, f'Inversion: {post_1D.std().values:.3f} PgC/yr',\n",
    "#         transform=ax.transAxes)\n",
    "# ax.text(.015, .85, f'Cable: {cable_1D.std().values:.3f} PgC/yr',\n",
    "#         transform=ax.transAxes)\n",
    "# ax.text(.015, .80, f'This study: {ds_1D.std().values:.3f} PgC/yr',\n",
    "#         transform=ax.transAxes);\n",
    "# ax2=ax.twinx()\n",
    "# # ax2.plot(evi_1D.time.values, evi_1D, label='MODIS-EVI', color='c', )\n",
    "# ax2.legend(loc='upper right')\n",
    "# ax2.set_ylim(-0.05, 0.05)\n",
    "# ax2.set_ylabel('EVI Anomaly');\n",
    "\n",
    "plt.axhline(0, c='grey');\n",
    "plt.title('Net Ecosystem Exchange Anomalies');\n",
    "\n"
   ]
  },
  {
   "cell_type": "markdown",
   "metadata": {},
   "source": [
    "### Annual"
   ]
  },
  {
   "cell_type": "code",
   "execution_count": null,
   "metadata": {},
   "outputs": [],
   "source": [
    "ds_1D_annual = ds_anom_annual.sum(['x','y'])\n",
    "ds_fc_1D_annual = ds_fc_anom_annual.sum(['x','y'])"
   ]
  },
  {
   "cell_type": "code",
   "execution_count": null,
   "metadata": {
    "tags": []
   },
   "outputs": [],
   "source": [
    "fig, ax = plt.subplots(1,1, figsize=(15,7))\n",
    "ax.plot(ds_fc_1D_annual.time.values, ds_fc_1D_annual, linestyle='--', label='Fluxcom ' +var, alpha=0.75)\n",
    "# ax.plot(modis_gpp_annual.time.values, modis_gpp_annual,linestyle='--', label='MODIS '+var, alpha=0.75)\n",
    "# ax.plot(gosif_gpp_annual.time.values, gosif_gpp_annual, linestyle='--', label='GOSIF '+var, alpha=0.75)\n",
    "ax.plot(ds_1D_annual.time.values, ds_1D_annual, label='This study '+var)\n",
    "# ax.set_ylim(-1.1, 1.1)\n",
    "ax.legend(loc='upper left')\n",
    "ax.set_ylabel('Carbon Flux Anomaly PgC/year')\n",
    "plt.axhline(0, c='grey');\n",
    "\n",
    "# ax2=ax.twinx()\n",
    "# ax2.plot(evi_annual.time.values, evi_annual, marker='o', linestyle='--', label='MODIS-EVI', color='c')\n",
    "# ax2.legend(loc='upper left')\n",
    "# ax2.set_ylabel('EVI Anomaly');"
   ]
  },
  {
   "cell_type": "markdown",
   "metadata": {},
   "source": [
    "## Month of maximum flux"
   ]
  },
  {
   "cell_type": "code",
   "execution_count": 36,
   "metadata": {},
   "outputs": [
    {
     "data": {
      "text/plain": [
       "array([5.82091541, 6.65180317, 6.05475185, 5.26826825, 4.25411231,\n",
       "       3.66093905, 3.47281741, 3.45166189, 3.49893451, 3.90320314,\n",
       "       4.20772074, 4.76164138])"
      ]
     },
     "execution_count": 36,
     "metadata": {},
     "output_type": "execute_result"
    }
   ],
   "source": [
    "y_cable_gpp"
   ]
  },
  {
   "cell_type": "code",
   "execution_count": 38,
   "metadata": {},
   "outputs": [
    {
     "data": {
      "text/plain": [
       "<bound method Mapping.values of <xarray.Dataset>\n",
       "Dimensions:      (month: 12)\n",
       "Coordinates:\n",
       "    spatial_ref  int32 3577\n",
       "  * month        (month) int64 1 2 3 4 5 6 7 8 9 10 11 12\n",
       "Data variables:\n",
       "    gpp          (month) float64 4.145 4.978 4.49 3.731 ... 2.131 2.304 2.827>"
      ]
     },
     "execution_count": 38,
     "metadata": {},
     "output_type": "execute_result"
    }
   ],
   "source": [
    "y_cable_gpp_pop"
   ]
  },
  {
   "cell_type": "code",
   "execution_count": 41,
   "metadata": {},
   "outputs": [
    {
     "data": {
      "image/png": "[encoded data removed]",
      "text/plain": [
       "<Figure size 648x504 with 1 Axes>"
      ]
     },
     "metadata": {
      "needs_background": "light"
     },
     "output_type": "display_data"
    }
   ],
   "source": [
    "y = ds_clim_mean.sum(['x','y']).values\n",
    "x = ds_clim_mean.month.values\n",
    "\n",
    "y_fc = ds_fc_clim_mean.sum(['x','y']).values\n",
    "x_fc = ds_fc_clim_mean.month.values\n",
    "\n",
    "y_fc_met = ds_fc_met_clim_mean.sum(['x','y']).values\n",
    "x_fc_met = ds_fc_met_clim_mean.month.values\n",
    "\n",
    "# y_post = post_clim_mean.sum(['x','y']).values\n",
    "# x_post = post_clim_mean.month.values\n",
    "\n",
    "# y_cable = cable_clim_mean.sum(['x','y']).values\n",
    "# x_cable = cable_clim_mean.month.values\n",
    "\n",
    "# y_cable_nee = cable_nee_clim_mean.sum(['x','y']).values\n",
    "# x_cable_nee = cable_nee_clim_mean.month.values\n",
    "\n",
    "# y_cable_nee_pop = cable_nee_pop_clim_mean.sum(['x','y']).values\n",
    "# x_cable_nee_pop = cable_nee_pop_clim_mean.month.values\n",
    "\n",
    "y_cable_gpp = cable_gpp_clim_mean.sum(['x','y']).values\n",
    "x_cable_gpp = cable_gpp_clim_mean.month.values\n",
    "\n",
    "y_cable_gpp_pop = cable_gpp_pop_clim_mean.gpp.sum(['x','y']).values\n",
    "x_cable_gpp_pop = cable_gpp_pop_clim_mean.month.values\n",
    "\n",
    "y_modis_gpp = modis_gpp_clim_mean.sum(['x','y']).values\n",
    "x_modis_gpp = modis_gpp_clim_mean.month.values\n",
    "\n",
    "y_gosif_gpp = gosif_gpp_clim_mean.sum(['x','y']).values\n",
    "x_gosif_gpp = gosif_gpp_clim_mean.month.values\n",
    "\n",
    "fig,ax = plt.subplots(1,1, figsize=(9,7))\n",
    "ax.plot(x_fc, y_fc, linestyle='--', label='Fluxcom-RS '+var, alpha=0.75)\n",
    "ax.plot(x_fc_met, y_fc_met, linestyle='--', label='Fluxcom-Met '+var, alpha=0.75)\n",
    "# ax.plot(x_post, y_post, linestyle='--', label='Inversion '+var, alpha=0.75)\n",
    "# ax.plot(x_cable, y_cable, linestyle='--', label='Cable '+var, alpha=0.75)\n",
    "# ax.plot(x_cable_nee, y_cable_nee, linestyle='--', label='Cable-BIOS '+var, alpha=0.75)\n",
    "# ax.plot(x_cable_nee_pop, y_cable_nee_pop, linestyle='--', label='Cable-POP '+var, alpha=0.75)\n",
    "\n",
    "ax.plot(x_cable_gpp, y_cable_gpp, linestyle='--', label='Cable-BIOS '+var, alpha=0.75)\n",
    "ax.plot(x_cable_gpp_pop, y_cable_gpp_pop, linestyle='--', label='Cable-POP '+var, alpha=0.75)\n",
    "\n",
    "ax.plot(x_modis_gpp, y_modis_gpp,  linestyle='--', label='MODIS '+var, alpha=0.75)\n",
    "ax.plot(x_gosif_gpp, y_gosif_gpp,  linestyle='--', label='GOSIF '+var, alpha=0.75)\n",
    "ax.plot(x, y, label='This study '+var)\n",
    "\n",
    "# ax.axhline(0, c='grey')\n",
    "ax.legend(loc='upper right')\n",
    "# ax.set_title(var+' Climatology')\n",
    "ax.set_xlabel('Month')\n",
    "ax.set_xticks(range(1,13))\n",
    "ax.set_xticklabels([\"J\",\"F\",\"M\",\"A\",\"M\",\"J\",\"J\",\"A\",\"S\",\"O\",\"N\",\"D\"])             \n",
    "ax.set_ylabel('Climatological Average '+var+' PgC/year');\n"
   ]
  },
  {
   "cell_type": "code",
   "execution_count": 43,
   "metadata": {},
   "outputs": [],
   "source": [
    "if var == 'NEE':\n",
    "    max_mean_month = allNaN_arg(ds_clim_mean, 'month', 'min')\n",
    "    max_mean_month_fc = allNaN_arg(ds_fc_clim_mean, 'month', 'min')\n",
    "    max_mean_month_fc_met = allNaN_arg(ds_fc_met_clim_mean, 'month', 'min')\n",
    "    max_mean_month_post = allNaN_arg(post_clim_mean, 'month', 'min')\n",
    "    #max_mean_month_cable = allNaN_arg(cable_clim_mean, 'month', 'min')\n",
    "    max_mean_month_cable_nee = allNaN_arg(cable_nee_clim_mean, 'month', 'min')\n",
    "    max_mean_month_cable_nee_pop = allNaN_arg(cable_nee_pop_clim_mean, 'month', 'min')\n",
    "    # max_mean_month_modis = allNaN_arg(modis_gpp_clim_mean, 'month', 'min')\n",
    "    # max_mean_month_gosif = allNaN_arg(gosif_gpp_clim_mean, 'month', 'min')\n",
    "    #max_mean_season = allNaN_arg(monthly_season, 'season', 'min')\n",
    "else:\n",
    "    max_mean_month = allNaN_arg(ds_clim_mean, 'month', 'max')\n",
    "    max_mean_month_fc = allNaN_arg(ds_fc_clim_mean, 'month', 'max')\n",
    "    max_mean_month_fc_met = allNaN_arg(ds_fc_met_clim_mean, 'month', 'max')\n",
    "    max_mean_month_modis = allNaN_arg(modis_gpp_clim_mean, 'month', 'max')\n",
    "    max_mean_month_gosif = allNaN_arg(gosif_gpp_clim_mean, 'month', 'max')\n",
    "    max_mean_month_cable_gpp = allNaN_arg(cable_gpp_clim_mean, 'month', 'max')\n",
    "    max_mean_month_cable_gpp_pop = allNaN_arg(cable_gpp_pop_clim_mean.gpp, 'month', 'max')\n",
    "    #max_mean_season = allNaN_arg(monthly_season, 'season', 'max')"
   ]
  },
  {
   "cell_type": "code",
   "execution_count": 48,
   "metadata": {},
   "outputs": [],
   "source": [
    "fig,ax = plt.subplots(3,2, figsize=(18,18), sharey=True, sharex=True)\n",
    "\n",
    "im = max_mean_month.plot.imshow(vmin=0, vmax=11, ax=ax[0,0], cmap='twilight', add_colorbar=False, add_labels=False)\n",
    "ax[0,0].set_title('This Study '+var+' (2015-19)', fontsize=20);\n",
    "\n",
    "im = max_mean_month_fc.plot.imshow(vmin=0, vmax=11, ax=ax[0,1], cmap='twilight', add_colorbar=False, add_labels=False)\n",
    "ax[0,1].set_title('Fluxcom-RS '+var+' (2003-15)', fontsize=20);\n",
    "\n",
    "im = max_mean_month_fc_met.plot.imshow(vmin=0, vmax=11, ax=ax[1,0], cmap='twilight', add_colorbar=False, add_labels=False)\n",
    "ax[1,0].set_title('Fluxcom-Met '+var+' (2015-18)', fontsize=20);\n",
    "\n",
    "im = max_mean_month_cable_nee.plot.imshow(vmin=0, vmax=11, ax=ax[1,1], cmap='twilight', add_colorbar=False, add_labels=False)\n",
    "ax[1,1].set_title('Cable-BIOS '+var+' (2015-19)', fontsize=20);\n",
    "\n",
    "im = max_mean_month_cable_nee_pop.plot.imshow(vmin=0, vmax=11, ax=ax[2,0], cmap='twilight', add_colorbar=False, add_labels=False)\n",
    "ax[2,0].set_title('Cable-POP '+var+' (2015-19)', fontsize=20);\n",
    "\n",
    "im = max_mean_month_post.isel(x=range(15, 72), y=range(12, 68)).plot.imshow(vmin=0, vmax=11, ax=ax[2,1], cmap='twilight', add_colorbar=False, add_labels=False)\n",
    "ax[2,1].set_title('Inversion '+var+' (2015-19)', fontsize=20);\n",
    "\n",
    "\n",
    "ax[0,0].set_xticks([])\n",
    "ax[0,1].set_yticks([])\n",
    "ax[1,0].set_xticks([])\n",
    "ax[1,1].set_yticks([])\n",
    "cbar = fig.colorbar(im, spacing='uniform', ax=ax.ravel().tolist(), orientation='vertical', shrink=0.4)\n",
    "cbar.set_ticks([1,2,3,4,5,6,7,8,9,10,11,12])\n",
    "cbar.set_ticklabels([\"J\",\"F\",\"M\",\"A\",\"M\",\"J\",\"J\",\"A\",\"S\",\"O\",\"N\",\"D\"], fontsize=20)\n",
    "# plt.tight_layout()\n",
    "plt.savefig('/g/data/os22/chad_tmp/NEE_modelling/results/figs/month_of_max_'+var+'.png')\n"
   ]
  },
  {
   "cell_type": "code",
   "execution_count": 52,
   "metadata": {},
   "outputs": [
    {
     "data": {
      "image/png": "[encoded data removed]",
      "text/plain": [
       "<Figure size 1296x1296 with 7 Axes>"
      ]
     },
     "metadata": {
      "needs_background": "light"
     },
     "output_type": "display_data"
    }
   ],
   "source": [
    "fig,ax = plt.subplots(3,2, figsize=(18,18), sharey=True, sharex=True)\n",
    "\n",
    "# im = max_mean_month.plot.imshow(vmin=0, vmax=11, ax=ax[0,0], cmap='twilight', add_colorbar=False, add_labels=False)\n",
    "# ax[0,0].set_title('This Study '+var+' (2015-19)', fontsize=20);\n",
    "\n",
    "im = max_mean_month_fc.plot.imshow(vmin=0, vmax=11, ax=ax[0,0], cmap='twilight', add_colorbar=False, add_labels=False)\n",
    "ax[0,0].set_title('Fluxcom-RS '+var+' (2003-15)', fontsize=20);\n",
    "\n",
    "im = max_mean_month_fc_met.plot.imshow(vmin=0, vmax=11, ax=ax[0,1], cmap='twilight', add_colorbar=False, add_labels=False)\n",
    "ax[0,1].set_title('Fluxcom-Met '+var+' (2003-19)', fontsize=20);\n",
    "\n",
    "im = max_mean_month_cable_gpp.plot.imshow(vmin=0, vmax=11, ax=ax[1,0], cmap='twilight', add_colorbar=False, add_labels=False)\n",
    "ax[1,0].set_title('Cable-BIOS '+var+' (2003-19)', fontsize=20);\n",
    "\n",
    "im = max_mean_month_cable_gpp_pop.plot.imshow(vmin=0, vmax=11, ax=ax[1,1], cmap='twilight', add_colorbar=False, add_labels=False)\n",
    "ax[1,1].set_title('Cable-POP '+var+' (2003-19)', fontsize=20);\n",
    "\n",
    "im = max_mean_month_modis.plot.imshow(vmin=1, vmax=12, ax=ax[2,0], cmap='twilight', add_colorbar=False)\n",
    "ax[2,0].set_title('MODIS '+var+' (2003-19)', fontsize=20);\n",
    "\n",
    "im = max_mean_month_gosif.plot.imshow(vmin=1, vmax=12, ax=ax[2,1], cmap='twilight', add_colorbar=False)\n",
    "ax[2,1].set_title('GOSIF '+var+' (2003-19)', fontsize=20);\n",
    "\n",
    "ax[0,0].set_xticks([])\n",
    "ax[0,1].set_yticks([])\n",
    "ax[1,0].set_xticks([])\n",
    "ax[1,1].set_yticks([])\n",
    "cbar = fig.colorbar(im, spacing='uniform', ax=ax.ravel().tolist(), orientation='vertical', shrink=0.4)\n",
    "cbar.set_ticks([1,2,3,4,5,6,7,8,9,10,11,12])\n",
    "cbar.set_ticklabels([\"J\",\"F\",\"M\",\"A\",\"M\",\"J\",\"J\",\"A\",\"S\",\"O\",\"N\",\"D\"], fontsize=20)\n",
    "# plt.tight_layout()\n",
    "plt.savefig('/g/data/os22/chad_tmp/NEE_modelling/results/figs/month_of_max_'+var+'.png')"
   ]
  },
  {
   "cell_type": "code",
   "execution_count": null,
   "metadata": {},
   "outputs": [],
   "source": []
  }
 ],
 "metadata": {
  "kernelspec": {
   "display_name": "Python 3 (ipykernel)",
   "language": "python",
   "name": "python3"
  },
  "language_info": {
   "codemirror_mode": {
    "name": "ipython",
    "version": 3
   },
   "file_extension": ".py",
   "mimetype": "text/x-python",
   "name": "python",
   "nbconvert_exporter": "python",
   "pygments_lexer": "ipython3",
   "version": "3.8.8"
  }
 },
 "nbformat": 4,
 "nbformat_minor": 4
}
