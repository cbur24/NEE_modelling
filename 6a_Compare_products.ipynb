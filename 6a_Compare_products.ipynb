{
 "cells": [
  {
   "cell_type": "markdown",
   "metadata": {},
   "source": [
    "# Comparing fluxes with other products\n",
    "\n",
    "\n"
   ]
  },
  {
   "cell_type": "code",
   "execution_count": 1,
   "metadata": {},
   "outputs": [],
   "source": [
    "import datetime\n",
    "import numpy as np\n",
    "import xarray as xr\n",
    "import rioxarray as rxr\n",
    "import pyproj\n",
    "\n",
    "import matplotlib.pyplot as plt\n",
    "from matplotlib.colors import ListedColormap\n",
    "\n",
    "from odc.geo.geobox import zoom_out\n",
    "from odc.geo.xr import assign_crs\n",
    "from odc.algo import xr_reproject\n",
    "\n",
    "import sys\n",
    "sys.path.append('/g/data/os22/chad_tmp/NEE_modelling/')\n",
    "from collect_prediction_data import allNaN_arg\n",
    "\n",
    "import matplotlib \n",
    "matplotlib.rcParams.update({'font.size': 16})\n",
    "\n",
    "import warnings\n",
    "warnings.filterwarnings(\"ignore\")"
   ]
  },
  {
   "cell_type": "code",
   "execution_count": 2,
   "metadata": {},
   "outputs": [],
   "source": [
    "import matplotlib \n",
    "matplotlib.rcParams.update({'font.size': 16})"
   ]
  },
  {
   "cell_type": "markdown",
   "metadata": {},
   "source": [
    "## Analysis Parameters"
   ]
  },
  {
   "cell_type": "code",
   "execution_count": 3,
   "metadata": {},
   "outputs": [],
   "source": [
    "var = 'NEE'\n",
    "var_fc = 'nee'\n",
    "results_name = 'NEE_2003_2021_5km_LGBM.nc'\n",
    "upper = 'NEE_2003_2021_5km_LGBM_upper.nc'\n",
    "lower = 'NEE_2003_2021_5km_LGBM_lower.nc'"
   ]
  },
  {
   "cell_type": "markdown",
   "metadata": {},
   "source": [
    "## Open various datasets"
   ]
  },
  {
   "cell_type": "code",
   "execution_count": 4,
   "metadata": {},
   "outputs": [],
   "source": [
    "ds = xr.open_dataarray('/g/data/os22/chad_tmp/NEE_modelling/results/predictions/'+results_name)\n",
    "ds.attrs['nodata'] = np.nan\n",
    "\n",
    "ds_upper = xr.open_dataarray('/g/data/os22/chad_tmp/NEE_modelling/results/predictions/'+upper)\n",
    "ds_upper.attrs['nodata'] = np.nan\n",
    "\n",
    "ds_lower = xr.open_dataarray('/g/data/os22/chad_tmp/NEE_modelling/results/predictions/'+lower)\n",
    "ds_lower.attrs['nodata'] = np.nan"
   ]
  },
  {
   "cell_type": "markdown",
   "metadata": {},
   "source": [
    "### Fluxcom"
   ]
  },
  {
   "cell_type": "code",
   "execution_count": 5,
   "metadata": {},
   "outputs": [],
   "source": [
    "ds_fc = assign_crs(xr.open_dataset('/g/data/os22/chad_tmp/NEE_modelling/data/FLUXCOM/'+var_fc+'_rs_meteo_era5.nc').sel(time=slice('2003', '2018')), crs='epsg:4326')\n",
    "ds_fc = ds_fc.rename({'lat':'latitude', 'lon':'longitude'})\n",
    "ds_fc.attrs['nodata'] = np.nan\n",
    "ds_fc['latitude'] = ds_fc.latitude.astype('float32')\n",
    "ds_fc['longitude'] = ds_fc.longitude.astype('float32')"
   ]
  },
  {
   "cell_type": "markdown",
   "metadata": {},
   "source": [
    "### CABLE\n",
    "\n",
    "<!-- '/g/data/os22/chad_tmp/NEE_modelling/data/CABLE/CABLE_ER_10km_monthly_2000_2019.nc' -->"
   ]
  },
  {
   "cell_type": "code",
   "execution_count": 6,
   "metadata": {},
   "outputs": [],
   "source": [
    "# cable_nee = xr.open_dataarray('/g/data/os22/chad_tmp/NEE_modelling/data/CABLE/CABLE_NEE_10km_monthly_2000_2019.nc')\n",
    "cable_nee = xr.open_dataset('/g/data/os22/chad_tmp/NEE_modelling/data/CABLE-POP/CABLE-POP_NBP_50km_monthly_2000_2015.nc')\n",
    "cable_nee = cable_nee.sel(time=slice('2003', '2015'))"
   ]
  },
  {
   "cell_type": "code",
   "execution_count": null,
   "metadata": {},
   "outputs": [],
   "source": [
    "cable_gpp = xr.open_dataarray('/g/data/os22/chad_tmp/NEE_modelling/data/CABLE/CABLE_GPP_10km_monthly_2000_2019.nc')"
   ]
  },
  {
   "cell_type": "markdown",
   "metadata": {},
   "source": [
    "### MODIS GPP"
   ]
  },
  {
   "cell_type": "code",
   "execution_count": null,
   "metadata": {},
   "outputs": [],
   "source": [
    "modis_gpp = xr.open_dataarray('/g/data/os22/chad_tmp/NEE_modelling/data/1km/MODIS_GPP_1km_monthly_2002_2021.nc')\n",
    "modis_gpp.attrs['nodata'] = np.nan"
   ]
  },
  {
   "cell_type": "markdown",
   "metadata": {},
   "source": [
    "### GOSIF GPP"
   ]
  },
  {
   "cell_type": "code",
   "execution_count": null,
   "metadata": {},
   "outputs": [],
   "source": [
    "gosif_gpp = xr.open_dataarray('/g/data/os22/chad_tmp/NEE_modelling/data/5km/GOSIF_GPP_5km_monthly_2002_2021.nc')\n",
    "gosif_gpp.attrs['nodata'] = np.nan"
   ]
  },
  {
   "cell_type": "code",
   "execution_count": null,
   "metadata": {},
   "outputs": [],
   "source": [
    "# evi=xr.open_dataarray('/g/data/os22/chad_tmp/NEE_modelling/data/5km/EVI_5km_monthly_2002_2021.nc')"
   ]
  },
  {
   "cell_type": "markdown",
   "metadata": {},
   "source": [
    "### Villalobos et al \n",
    "\n",
    "Needed to fix the dataset before it could be opened. Used the R script in data/villalobos/"
   ]
  },
  {
   "cell_type": "code",
   "execution_count": 7,
   "metadata": {},
   "outputs": [],
   "source": [
    "fn = '/g/data/os22/chad_tmp/NEE_modelling/data/villalobos/post.tif'\n",
    "post = rxr.open_rasterio(fn).rename({'band':'month'})\n",
    "post['month']=ds.sel(time=slice('2015', '2019')).time.values\n",
    "post = post.rename({'month':'time'})\n",
    "post = xr_reproject(post, geobox=post.odc.geobox.to_crs('epsg:3577').compat, resampling='nearest')\n",
    "# post = assign_crs(post, crs='epsg:3577')\n",
    "post.attrs['nodata'] = np.nan\n",
    "post.attrs['units'] = 'PgC/year'\n",
    "\n",
    "fn = '/g/data/os22/chad_tmp/NEE_modelling/data/villalobos/land.tif'\n",
    "cable = rxr.open_rasterio(fn).rename({'band':'month'})\n",
    "cable['month']=ds.sel(time=slice('2015', '2019')).time.values\n",
    "cable = cable.rename({'month':'time'})\n",
    "cable = xr_reproject(cable, geobox=cable.odc.geobox.to_crs('epsg:3577').compat, resampling='nearest')\n",
    "# post = assign_crs(post, crs='epsg:3577')\n",
    "cable.attrs['nodata'] = np.nan\n",
    "cable.attrs['units'] = 'PgC/year'\n",
    "\n",
    "# create a mask for this janky dataset\n",
    "mask_inv = cable.where(cable==0).isel(time=1)\n",
    "mask_inv = mask_inv.astype(bool)\n",
    "\n",
    "post = post.where(mask_inv)\n",
    "cable = cable.where(mask_inv)"
   ]
  },
  {
   "cell_type": "markdown",
   "metadata": {},
   "source": [
    "## Define a common grid\n",
    "\n",
    "Resolution is similar to Villalobos as that's the coarest product"
   ]
  },
  {
   "cell_type": "code",
   "execution_count": 8,
   "metadata": {},
   "outputs": [],
   "source": [
    "grid = zoom_out(ds.odc.geobox, 15)"
   ]
  },
  {
   "cell_type": "code",
   "execution_count": 9,
   "metadata": {},
   "outputs": [],
   "source": [
    "grid = grid.to_crs('EPSG:3577')"
   ]
  },
  {
   "cell_type": "code",
   "execution_count": null,
   "metadata": {},
   "outputs": [],
   "source": [
    "grid"
   ]
  },
  {
   "cell_type": "markdown",
   "metadata": {},
   "source": [
    "### Reproject datasets to match common grid"
   ]
  },
  {
   "cell_type": "code",
   "execution_count": 10,
   "metadata": {},
   "outputs": [],
   "source": [
    "ds = xr_reproject(ds, geobox=grid.compat, resampling='average')\n",
    "# ds_upper = xr_reproject(ds_upper, geobox=grid.compat, resampling='average')\n",
    "# ds_lower = xr_reproject(ds_lower, geobox=grid.compat, resampling='average')\n",
    "\n",
    "mask = np.isnan(ds.isel(time=1))"
   ]
  },
  {
   "cell_type": "code",
   "execution_count": 11,
   "metadata": {},
   "outputs": [],
   "source": [
    "ds_fc = xr_reproject(ds_fc, geobox=grid.compat, resampling='average')\n",
    "ds_fc = ds_fc[var].where(~mask.astype(bool))\n",
    "ds_fc = ds_fc*30 #/day to /month"
   ]
  },
  {
   "cell_type": "code",
   "execution_count": 12,
   "metadata": {},
   "outputs": [],
   "source": [
    "post = xr_reproject(post, geobox=grid.compat, resampling='bilinear')\n",
    "cable = xr_reproject(cable, geobox=grid.compat, resampling='bilinear')"
   ]
  },
  {
   "cell_type": "code",
   "execution_count": 13,
   "metadata": {},
   "outputs": [],
   "source": [
    "cable_nee = xr_reproject(assign_crs(cable_nee['nbp'], crs='epsg:4326'), geobox=grid.compat, resampling='average')\n",
    "cable_nee = cable_nee.where(~mask.astype(bool))"
   ]
  },
  {
   "cell_type": "code",
   "execution_count": null,
   "metadata": {},
   "outputs": [],
   "source": [
    "modis_gpp = xr_reproject(modis_gpp, geobox=grid.compat, resampling='average')\n",
    "\n",
    "modis_gpp = modis_gpp.where(~mask.astype(bool))"
   ]
  },
  {
   "cell_type": "code",
   "execution_count": null,
   "metadata": {},
   "outputs": [],
   "source": [
    "gosif_gpp = xr_reproject(gosif_gpp, geobox=grid.compat, resampling='average')\n",
    "\n",
    "gosif_gpp = gosif_gpp.where(~mask.astype(bool))"
   ]
  },
  {
   "cell_type": "code",
   "execution_count": null,
   "metadata": {},
   "outputs": [],
   "source": [
    "# evi=xr_reproject(evi, geobox=grid.geobox, resampling='average')\n",
    "# evi=evi.where(~mask.astype(bool))"
   ]
  },
  {
   "cell_type": "markdown",
   "metadata": {},
   "source": [
    "## Convert to total C in (petagrams) rather than gC/m2\n",
    "\n",
    "Find area of pixels"
   ]
  },
  {
   "cell_type": "code",
   "execution_count": 14,
   "metadata": {},
   "outputs": [],
   "source": [
    "area_per_pixel = ds.geobox.resolution[1]**2\n",
    "\n",
    "ds = ds * area_per_pixel * 1e-15\n",
    "ds = ds*12 #convert to Pg/Year (even though monthly timeseries)\n",
    "\n",
    "ds_upper = ds_upper * area_per_pixel * 1e-15\n",
    "ds_upper = ds_upper*12 \n",
    "\n",
    "ds_lower = ds_lower * area_per_pixel * 1e-15\n",
    "ds_lower = ds_lower*12 \n",
    "\n",
    "ds_fc = ds_fc * area_per_pixel * 1e-15\n",
    "ds_fc = ds_fc*12\n",
    "\n",
    "cable_nee = cable_nee * area_per_pixel * 1e-15\n",
    "cable_nee = cable_nee*12"
   ]
  },
  {
   "cell_type": "code",
   "execution_count": null,
   "metadata": {},
   "outputs": [],
   "source": [
    "modis_gpp = modis_gpp * area_per_pixel * 1e-12\n",
    "gosif_gpp = gosif_gpp * area_per_pixel * 1e-15"
   ]
  },
  {
   "cell_type": "markdown",
   "metadata": {},
   "source": [
    "## Plot time-series and find annual mean and std dev "
   ]
  },
  {
   "cell_type": "code",
   "execution_count": 15,
   "metadata": {},
   "outputs": [],
   "source": [
    "trim=True"
   ]
  },
  {
   "cell_type": "code",
   "execution_count": 16,
   "metadata": {},
   "outputs": [],
   "source": [
    "if trim:\n",
    "    ds = ds.sel(time=slice('2003', '2015'))\n",
    "    ds_fc = ds_fc.sel(time=slice('2003', '2015'))"
   ]
  },
  {
   "cell_type": "code",
   "execution_count": 17,
   "metadata": {},
   "outputs": [],
   "source": [
    "ds_1d = ds.sum(['x', 'y'])\n",
    "ds_1d_upper = ds_upper.sum(['x', 'y'])\n",
    "ds_1d_lower = ds_lower.sum(['x', 'y'])\n",
    "ds_fc_1d = ds_fc.sum(['x', 'y'])\n",
    "post_1d = post.sum(['x', 'y'])\n",
    "cable_1d = cable.sum(['x', 'y'])\n",
    "cable_nee_1d = cable_nee.sum(['x', 'y'])"
   ]
  },
  {
   "cell_type": "code",
   "execution_count": null,
   "metadata": {},
   "outputs": [],
   "source": [
    "print(f'Mean of this study: {ds_1d.mean().values:.3f} PgC/yr')\n",
    "print(f'Std Dev of this study: {ds_1d.std().values:.3f} PgC/yr')\n",
    "print('\\n')\n",
    "print(f'Mean of Fluxcom: {ds_fc_1d.mean().values:.3f} PgC/yr')\n",
    "print(f'Std Dev of Fluxcom: {ds_fc_1d.std().values:.3f} PgC/yr')\n",
    "print('\\n')\n",
    "print(f'Mean of Inversion: {post_1d.mean().values:.3f} PgC/yr')\n",
    "print(f'Std Dev of Inversion: {post_1d.std().values:.3f} PgC/yr')\n",
    "print('\\n')\n",
    "print(f'Mean of Cable: {cable_1d.mean().values:.3f} PgC/yr')\n",
    "print(f'Std Dev of Cable: {cable_1d.std().values:.3f} PgC/yr')\n",
    "print('\\n')\n",
    "print(f'Mean of Cable-POP: {cable_nee_1d.mean().values:.3f} PgC/yr')\n",
    "print(f'Std Dev of Cable-POP: {cable_nee_1d.std().values:.3f} PgC/yr')"
   ]
  },
  {
   "cell_type": "code",
   "execution_count": null,
   "metadata": {},
   "outputs": [],
   "source": [
    "fig, ax = plt.subplots(1,1, figsize=(15,7))\n",
    "ax.plot(ds_fc_1d.time.values, ds_fc_1d.rolling(time=3, min_periods=1).mean(), linestyle='--', label='Fluxcom '+var, alpha=0.75)\n",
    "# ax.plot(modis_gpp_1D.time.values, modis_gpp_1D, linestyle='--', label='MODIS '+var, alpha=0.75)\n",
    "# ax.plot(gosif_gpp_1D.time.values, gosif_gpp_1D, linestyle='--', label='GOSIF '+var, alpha=0.75)\n",
    "# ax.plot(post_1d.time.values, post_1d.rolling(time=3, min_periods=1).mean(), linestyle='--', label='Inversion '+var, alpha=0.75)\n",
    "# ax.plot(cable_1d.time.values, cable_1d.rolling(time=3, min_periods=1).mean(), linestyle='--', label='CABLE '+var, alpha=0.75)\n",
    "ax.plot(cable_nee_1d.time.values, cable_nee_1d.rolling(time=3, min_periods=1).mean(), linestyle='--', label='CABLE-POP '+var, alpha=0.75)\n",
    "\n",
    "ax.plot(ds_1d.time.values, ds_1d.rolling(time=3, min_periods=1).mean(),  label='This study '+var)\n",
    "# ax.plot(ds_1d_upper.time.values, ds_1d_upper.rolling(time=3, min_periods=1).mean(),  label='This study upper '+var)\n",
    "# ax.plot(ds_1d_lower.time.values, ds_1d_lower.rolling(time=3, min_periods=1).mean(),  label='This study lower '+var)\n",
    "\n",
    "plt.axhline(0, c='grey')\n",
    "ax.legend(loc='lower left')\n",
    "ax.set_ylabel('Carbon Flux PgC/year');\n",
    "ax.text(.015, .95, f'Fluxcom: {ds_fc_1d.mean().values:.3f} PgC/yr',\n",
    "        transform=ax.transAxes)\n",
    "ax.text(.015, .90, f'Inversion: {post_1d.mean().values:.3f} PgC/yr',\n",
    "        transform=ax.transAxes)\n",
    "# ax.text(.015, .85, f'Cable: {cable_1d.mean().values:.3f} PgC/yr',\n",
    "#         transform=ax.transAxes)\n",
    "ax.text(.015, .85, f'This study: {ds_1d.mean().values:.3f} PgC/yr',\n",
    "        transform=ax.transAxes);\n",
    "ax.text(.015, .80, f'Cable-POP: {cable_nee_1d.mean().values:.3f} PgC/yr',\n",
    "        transform=ax.transAxes)\n",
    "\n",
    "plt.title('Net Ecosystem Exchange');\n",
    "# ax.set_xlim([datetime.date(2015, 1, 1), datetime.date(2019, 12, 31)])\n",
    "# ax.set_ylim(-2.5, 2.5)\n"
   ]
  },
  {
   "cell_type": "markdown",
   "metadata": {},
   "source": [
    "## Annual means and variance"
   ]
  },
  {
   "cell_type": "code",
   "execution_count": null,
   "metadata": {},
   "outputs": [],
   "source": [
    "annual_mean = ds.groupby('time.year').sum().mean('year')\n",
    "annual_mean_fc = ds_fc.groupby('time.year').sum().mean('year')\n",
    "annual_mean_post = post.groupby('time.year').sum().mean('year')\n",
    "annual_mean_cable = cable_nee.groupby('time.year').sum().mean('year')\n",
    "\n",
    "annual_std = ds.groupby('time.year').sum().std('year')\n",
    "annual_std_fc = ds_fc.groupby('time.year').sum().std('year')\n",
    "annual_std_post = post.groupby('time.year').sum().std('year')\n",
    "annual_std_cable = cable_nee.groupby('time.year').sum().std('year')\n",
    "\n",
    "scaled_variance = annual_std / annual_mean\n",
    "scaled_variance_fc = annual_std_fc / annual_mean_fc\n",
    "scaled_variance_post = annual_std_post / annual_mean_post\n",
    "scaled_variance_cable = annual_std_cable / annual_mean_cable"
   ]
  },
  {
   "cell_type": "code",
   "execution_count": null,
   "metadata": {},
   "outputs": [],
   "source": [
    "\n",
    "fig,ax = plt.subplots(3,2, figsize=(15,19),sharey=True, sharex=True)\n",
    "im = annual_mean.plot.imshow(ax=ax[0,0], vmax=0.01,cbar_kwargs={'shrink':0.7}, add_labels=False)  #cmap='RdBu_r'\n",
    "# annual_std.where(annual_std>0).plot.imshow(ax=ax[0,1], cmap='magma', vmax=0.01)\n",
    "np.absolute(scaled_variance).plot.imshow(ax=ax[0,1], cmap='magma', vmax=3, cbar_kwargs={'shrink':0.7}, add_labels=False)\n",
    "# ax[0,0].set_title('Annual Mean of '+var+')\n",
    "# ax[0].set_title('Annual Mean of '+var+', 2003-2021')\n",
    "# ax[0].set_title('Annual Mean of '+var+', 2003-2021')\n",
    "\n",
    "im = annual_mean_fc.plot.imshow(ax=ax[1,0], vmax=0.01,cbar_kwargs={'shrink':0.7}, add_labels=False)  #cmap='RdBu_r'\n",
    "# annual_std_fc.where(annual_std_fc>0).plot.imshow(ax=ax[1,1], cmap='magma', vmax=0.01)\n",
    "np.absolute(scaled_variance_fc).plot.imshow(ax=ax[1,1], cmap='magma', vmax=3, cbar_kwargs={'shrink':0.7}, add_labels=False)\n",
    "\n",
    "im = annual_mean_cable.plot.imshow(ax=ax[2,0], vmax=0.01,cbar_kwargs={'shrink':0.7}, add_labels=False)  #cmap='RdBu_r'\n",
    "# annual_std_cable.where(annual_std_cable>0).plot.imshow(ax=ax[2,1], cmap='magma', vmax=0.01)\n",
    "im1 = np.absolute(scaled_variance_cable).plot.imshow(ax=ax[2,1], cmap='magma', vmax=3, cbar_kwargs={'shrink':0.7}, add_labels=False)\n",
    "\n",
    "# annual_mean_post.plot.imshow(ax=ax[3,0], robust=True)  #cmap='RdBu_r'\n",
    "# annual_std_post.where(annual_std_post>0).plot.imshow(ax=ax[3,1], cmap='magma', vmax=0.015)\n",
    "# np.absolute(scaled_variance_post).plot.imshow(ax=ax[3,2], cmap='magma', vmax=2)\n",
    "\n",
    "ax[0,0].set_title('This Study')\n",
    "ax[0,1].set_title('This Study')\n",
    "ax[1,0].set_title('Fluxcom')\n",
    "ax[1,1].set_title('Fluxcom')\n",
    "ax[2,0].set_title('CABLE-POP')\n",
    "ax[2,1].set_title('CABLE-POP')\n",
    "# fig.subplots_adjust(hspace=0.1)\n",
    "# cbar_ax = fig.add_axes([0.0575, 0.1, .35, .015]) #left, bottom, width, height\n",
    "# cbar1_ax = fig.add_axes([0.575, 0.1, .35, .015]) #left, bottom, width, height\n",
    "# cbar = fig.colorbar(im, spacing='uniform', ax=ax[2][0], orientation='vertical', shrink=0.7, label='Annual Mean, PgC/year')\n",
    "# cbar1 = fig.colorbar(im1, spacing='uniform', ax=ax[2][1], orientation='vertical', shrink=0.7, label='Coefficient of Variation')\n",
    "# cbar1 = fig.colorbar(im1, spacing='uniform', ax=ax.ravel().tolist(), orientation='horizontal', shrink=0.4)\n",
    "\n",
    "ax[0,0].set_xticks([])\n",
    "ax[0,1].set_yticks([])\n",
    "ax[1,0].set_xticks([])\n",
    "ax[1,1].set_yticks([])\n",
    "ax[2,0].set_xticks([])\n",
    "ax[2,1].set_yticks([])\n",
    "plt.tight_layout();\n",
    "plt.savefig('/g/data/os22/chad_tmp/NEE_modelling/results/figs/annual_mean_variance.png')"
   ]
  },
  {
   "cell_type": "markdown",
   "metadata": {},
   "source": [
    "## Convert to anomalies"
   ]
  },
  {
   "cell_type": "markdown",
   "metadata": {},
   "source": [
    "### Climatology"
   ]
  },
  {
   "cell_type": "code",
   "execution_count": 18,
   "metadata": {},
   "outputs": [],
   "source": [
    "import warnings\n",
    "warnings.filterwarnings(\"ignore\")\n",
    "\n",
    "ds_clim_mean = ds.groupby('time.month').mean()\n",
    "ds_clim_mean_annual = ds.resample(time='1Y', label='left', loffset='6M').sum().mean('time')\n",
    "\n",
    "ds_fc_clim_mean = ds_fc.groupby('time.month').mean()\n",
    "ds_fc_clim_mean_annual = ds_fc.resample(time='1Y', label='left', loffset='6M').sum().mean('time')\n",
    "\n",
    "post_clim_mean = post.groupby('time.month').mean()\n",
    "post_clim_mean_annual = post.resample(time='1Y', label='left', loffset='6M').sum().mean('time')\n",
    "\n",
    "cable_clim_mean = cable.groupby('time.month').mean()\n",
    "cable_clim_mean_annual = cable.resample(time='1Y', label='left', loffset='6M').sum().mean('time')\n",
    "\n",
    "cable_nee_clim_mean = cable_nee.groupby('time.month').mean()\n",
    "cable_nee_clim_mean_annual = cable_nee.resample(time='1Y', label='left', loffset='6M').sum().mean('time')"
   ]
  },
  {
   "cell_type": "code",
   "execution_count": null,
   "metadata": {},
   "outputs": [],
   "source": [
    "# modis_gpp_clim_mean = modis_gpp.groupby('time.month').mean()\n",
    "# modis_gpp_clim_mean_annual = modis_gpp.resample(time='1Y', label='left', loffset='6M').sum().mean('time')\n",
    "\n",
    "# gosif_gpp_clim_mean = gosif_gpp.groupby('time.month').mean()\n",
    "# gosif_gpp_clim_mean_annual = gosif_gpp.resample(time='1Y', label='left', loffset='6M').sum().mean('time')"
   ]
  },
  {
   "cell_type": "markdown",
   "metadata": {},
   "source": [
    "### Anomalies"
   ]
  },
  {
   "cell_type": "code",
   "execution_count": null,
   "metadata": {},
   "outputs": [],
   "source": [
    "ds_anom = (ds.groupby('time.month') - ds_clim_mean)\n",
    "ds_fc_anom = (ds_fc.groupby('time.month') - ds_fc_clim_mean)\n",
    "post_anom = (post.groupby('time.month') - post_clim_mean)\n",
    "cable_anom = (cable.groupby('time.month') - cable_clim_mean)\n",
    "cable_nee_anom = (cable_nee.groupby('time.month') - cable_nee_clim_mean)\n",
    "\n",
    "ds_anom_annual = ds.resample(time='1Y', label='left', loffset='6M').sum() - ds_clim_mean_annual\n",
    "ds_fc_anom_annual = ds_fc.resample(time='1Y', label='left', loffset='6M').sum() - ds_fc_clim_mean_annual\n",
    "post_anom_annual = post.resample(time='1Y', label='left', loffset='6M').sum() - post_clim_mean_annual\n",
    "cable_anom_annual = cable.resample(time='1Y', label='left', loffset='6M').sum() - cable_clim_mean_annual\n",
    "cable_nee_anom_annual = cable_nee.resample(time='1Y', label='left', loffset='6M').sum() - cable_nee_clim_mean_annual\n",
    "\n"
   ]
  },
  {
   "cell_type": "code",
   "execution_count": null,
   "metadata": {},
   "outputs": [],
   "source": [
    "modis_gpp_anom = (modis_gpp.groupby('time.month') - modis_gpp_clim_mean)\n",
    "gosif_gpp_anom = (gosif_gpp.groupby('time.month') - gosif_gpp_clim_mean)\n",
    "\n",
    "modis_gpp_anom_annual = modis_gpp.resample(time='1Y', label='left', loffset='6M').sum() - modis_gpp_clim_mean_annual\n",
    "gosif_gpp_anom_annual = gosif_gpp.resample(time='1Y', label='left', loffset='6M').sum() - gosif_gpp_clim_mean_annual"
   ]
  },
  {
   "cell_type": "markdown",
   "metadata": {},
   "source": [
    "## Zonal summaries"
   ]
  },
  {
   "cell_type": "markdown",
   "metadata": {},
   "source": [
    "### Monthly"
   ]
  },
  {
   "cell_type": "code",
   "execution_count": null,
   "metadata": {},
   "outputs": [],
   "source": [
    "ds_1D = ds_anom.sum(['x','y'])\n",
    "ds_fc_1D = ds_fc_anom.sum(['x','y'])\n",
    "post_1D = post_anom.sum(['x','y'])\n",
    "cable_1D = cable_anom.sum(['x','y'])\n",
    "cable_nee_1D = cable_nee_anom.sum(['x','y'])"
   ]
  },
  {
   "cell_type": "code",
   "execution_count": null,
   "metadata": {},
   "outputs": [],
   "source": [
    "modis_gpp_1D = modis_gpp_anom.sum(['x','y'])\n",
    "gosif_gpp_1D = gosif_gpp_anom.sum(['x','y'])"
   ]
  },
  {
   "cell_type": "code",
   "execution_count": null,
   "metadata": {},
   "outputs": [],
   "source": [
    "# if trim:\n",
    "#     ds = ds.sel(time=slice('2015', '2019'))\n",
    "#     ds_fc = ds.sel(time=slice('2015', '2019'))\n",
    "\n",
    "fig, ax = plt.subplots(1,1, figsize=(15,7))\n",
    "ax.plot(ds_fc_1D.time.values, ds_fc_1D.rolling(time=3, min_periods=1).mean(), linestyle='--', label='Fluxcom '+var, alpha=0.75)\n",
    "ax.plot(post_1D.time.values, post_1D.rolling(time=3, min_periods=1).mean(), linestyle='--', label='Inversion '+var, alpha=0.75)\n",
    "# ax.plot(cable_1D.time.values, cable_1D.rolling(time=3, min_periods=1).mean(), linestyle='--', label='Cable '+var, alpha=0.75)\n",
    "ax.plot(cable_nee_1D.time.values, cable_nee_1D.rolling(time=3, min_periods=1).mean(), linestyle='--', label='Cable-POP '+var, alpha=0.75)\n",
    "# ax.plot(modis_gpp_1D.time.values, modis_gpp_1D, linestyle='--', label='MODIS '+var, alpha=0.75)\n",
    "# ax.plot(gosif_gpp_1D.time.values, gosif_gpp_1D, linestyle='--', label='GOSIF '+var, alpha=0.75)\n",
    "ax.plot(ds_1D.time.values, ds_1D.rolling(time=3, min_periods=1).mean(),  label='This study '+var)\n",
    "ax.legend(loc='lower left')\n",
    "ax.set_ylabel('Carbon Flux Anomaly PgC/year');\n",
    "# ax.set_ylim(-0.175, 0.175)\n",
    "# ax.text(.015, .95, f'Fluxcom: {ds_fc_1D.std().values:.3f} PgC/yr',\n",
    "#         transform=ax.transAxes)\n",
    "# ax.text(.015, .90, f'Inversion: {post_1D.std().values:.3f} PgC/yr',\n",
    "#         transform=ax.transAxes)\n",
    "# ax.text(.015, .85, f'Cable: {cable_1D.std().values:.3f} PgC/yr',\n",
    "#         transform=ax.transAxes)\n",
    "# ax.text(.015, .80, f'This study: {ds_1D.std().values:.3f} PgC/yr',\n",
    "#         transform=ax.transAxes);\n",
    "# ax2=ax.twinx()\n",
    "# # ax2.plot(evi_1D.time.values, evi_1D, label='MODIS-EVI', color='c', )\n",
    "# ax2.legend(loc='upper right')\n",
    "# ax2.set_ylim(-0.05, 0.05)\n",
    "# ax2.set_ylabel('EVI Anomaly');\n",
    "\n",
    "plt.axhline(0, c='grey');\n",
    "plt.title('Net Ecosystem Exchange Anomalies');\n",
    "\n"
   ]
  },
  {
   "cell_type": "markdown",
   "metadata": {},
   "source": [
    "### Annual"
   ]
  },
  {
   "cell_type": "code",
   "execution_count": null,
   "metadata": {},
   "outputs": [],
   "source": [
    "ds_1D_annual = ds_anom_annual.sum(['x','y'])\n",
    "ds_fc_1D_annual = ds_fc_anom_annual.sum(['x','y'])"
   ]
  },
  {
   "cell_type": "code",
   "execution_count": null,
   "metadata": {
    "tags": []
   },
   "outputs": [],
   "source": [
    "fig, ax = plt.subplots(1,1, figsize=(15,7))\n",
    "ax.plot(ds_fc_1D_annual.time.values, ds_fc_1D_annual, linestyle='--', label='Fluxcom ' +var, alpha=0.75)\n",
    "# ax.plot(modis_gpp_annual.time.values, modis_gpp_annual,linestyle='--', label='MODIS '+var, alpha=0.75)\n",
    "# ax.plot(gosif_gpp_annual.time.values, gosif_gpp_annual, linestyle='--', label='GOSIF '+var, alpha=0.75)\n",
    "ax.plot(ds_1D_annual.time.values, ds_1D_annual, label='This study '+var)\n",
    "# ax.set_ylim(-1.1, 1.1)\n",
    "ax.legend(loc='upper left')\n",
    "ax.set_ylabel('Carbon Flux Anomaly PgC/year')\n",
    "plt.axhline(0, c='grey');\n",
    "\n",
    "# ax2=ax.twinx()\n",
    "# ax2.plot(evi_annual.time.values, evi_annual, marker='o', linestyle='--', label='MODIS-EVI', color='c')\n",
    "# ax2.legend(loc='upper left')\n",
    "# ax2.set_ylabel('EVI Anomaly');"
   ]
  },
  {
   "cell_type": "markdown",
   "metadata": {},
   "source": [
    "## Month of maximum flux"
   ]
  },
  {
   "cell_type": "code",
   "execution_count": 19,
   "metadata": {},
   "outputs": [
    {
     "data": {
      "image/png": "[encoded data removed]",
      "text/plain": [
       "<Figure size 1080x504 with 1 Axes>"
      ]
     },
     "metadata": {
      "needs_background": "light"
     },
     "output_type": "display_data"
    }
   ],
   "source": [
    "y = ds_clim_mean.where(~mask).sum(['x','y']).values\n",
    "x = ds_clim_mean.month.values\n",
    "\n",
    "y_fc = ds_fc_clim_mean.where(~mask).sum(['x','y']).values\n",
    "x_fc = ds_fc_clim_mean.month.values\n",
    "\n",
    "y_post = post_clim_mean.sum(['x','y']).values\n",
    "x_post = post_clim_mean.month.values\n",
    "\n",
    "# y_cable = cable_clim_mean.sum(['x','y']).values\n",
    "# x_cable = cable_clim_mean.month.values\n",
    "\n",
    "y_cable_nee = cable_nee_clim_mean.sum(['x','y']).values\n",
    "x_cable_nee = cable_nee_clim_mean.month.values\n",
    "\n",
    "# y_modis_gpp = modis_gpp_clim_mean.where(~mask).sum(['x','y']).values\n",
    "# x_modis_gpp = modis_gpp_clim_mean.month.values\n",
    "\n",
    "# y_gosif_gpp = gosif_gpp_clim_mean.where(~mask).sum(['x','y']).values\n",
    "# x_gosif_gpp = gosif_gpp_clim_mean.month.values\n",
    "\n",
    "fig,ax = plt.subplots(1,1, figsize=(15,7))\n",
    "ax.plot(x_fc, y_fc, linestyle='--', label='Fluxcom '+var, alpha=0.75)\n",
    "ax.plot(x_post, y_post, linestyle='--', label='Inversion '+var, alpha=0.75)\n",
    "# ax.plot(x_cable, y_cable, linestyle='--', label='Cable '+var, alpha=0.75)\n",
    "ax.plot(x_cable_nee, y_cable_nee, linestyle='--', label='Cable-POP '+var, alpha=0.75)\n",
    "# ax.plot(x_modis_gpp, y_modis_gpp,  linestyle='--', label='MODIS '+var, alpha=0.75)\n",
    "# ax.plot(x_gosif_gpp, y_gosif_gpp,  linestyle='--', label='GOSIF '+var, alpha=0.75)\n",
    "ax.plot(x, y, label='This study '+var)\n",
    "\n",
    "ax.axhline(0, c='grey')\n",
    "\n",
    "# ax.fill_between(x_fc, y_fc-std_fc, y_fc+std_fc, alpha=0.5)\n",
    "# ax.fill_between(x, y-std, y+std, alpha=0.5)\n",
    "\n",
    "ax.legend(loc='upper left')\n",
    "# ax.set_title(var+' Climatology')\n",
    "ax.set_xlabel('Month')\n",
    "ax.set_xticks(range(1,13))\n",
    "ax.set_xticklabels([\"J\",\"F\",\"M\",\"A\",\"M\",\"J\",\"J\",\"A\",\"S\",\"O\",\"N\",\"D\"])             \n",
    "ax.set_ylabel('Climatological '+var+' PgC/year');\n"
   ]
  },
  {
   "cell_type": "code",
   "execution_count": 20,
   "metadata": {},
   "outputs": [],
   "source": [
    "if var == 'NEE':\n",
    "    max_mean_month = allNaN_arg(ds_clim_mean, 'month', 'min')\n",
    "    max_mean_month_fc = allNaN_arg(ds_fc_clim_mean, 'month', 'min')\n",
    "    max_mean_month_post = allNaN_arg(post_clim_mean, 'month', 'min')\n",
    "    max_mean_month_cable = allNaN_arg(cable_clim_mean, 'month', 'min')\n",
    "    max_mean_month_cable_nee = allNaN_arg(cable_nee_clim_mean, 'month', 'min')\n",
    "    # max_mean_month_modis = allNaN_arg(modis_gpp_clim_mean, 'month', 'min')\n",
    "    # max_mean_month_gosif = allNaN_arg(gosif_gpp_clim_mean, 'month', 'min')\n",
    "    #max_mean_season = allNaN_arg(monthly_season, 'season', 'min')\n",
    "else:\n",
    "    max_mean_month = allNaN_arg(ds_clim_mean, 'month', 'max')\n",
    "    max_mean_month_fc = allNaN_arg(ds_fc_clim_mean, 'month', 'max')\n",
    "    max_mean_month_modis = allNaN_arg(modis_gpp_clim_mean, 'month', 'max')\n",
    "    max_mean_month_gosif = allNaN_arg(gosif_gpp_clim_mean, 'month', 'max')\n",
    "    #max_mean_season = allNaN_arg(monthly_season, 'season', 'max')"
   ]
  },
  {
   "cell_type": "code",
   "execution_count": 36,
   "metadata": {},
   "outputs": [
    {
     "data": {
      "image/png": "[encoded data removed]",
      "text/plain": [
       "<Figure size 1296x864 with 5 Axes>"
      ]
     },
     "metadata": {
      "needs_background": "light"
     },
     "output_type": "display_data"
    }
   ],
   "source": [
    "fig,ax = plt.subplots(2,2, figsize=(18,12), sharey=True, sharex=True)\n",
    "\n",
    "im = max_mean_month.plot.imshow(vmin=1, vmax=12, ax=ax[0,0], cmap='twilight', add_colorbar=False, add_labels=False)\n",
    "ax[0,0].set_title('This Study '+var, fontsize=20);\n",
    "\n",
    "im = max_mean_month_fc.plot.imshow(vmin=1, vmax=12, ax=ax[0,1], cmap='twilight', add_colorbar=False, add_labels=False)\n",
    "ax[0,1].set_title('Fluxcom '+var, fontsize=20);\n",
    "\n",
    "im = max_mean_month_post.plot.imshow(vmin=1, vmax=12, ax=ax[1,0], cmap='twilight', add_colorbar=False, add_labels=False)\n",
    "ax[1,0].set_title('Inversion '+var, fontsize=20);\n",
    "\n",
    "# im = max_mean_month_cable.plot.imshow(vmin=1, vmax=12, ax=ax[1,1], cmap='twilight', add_colorbar=False)\n",
    "# ax[1,1].set_title('Cable '+var, fontsize=20);\n",
    "\n",
    "im = max_mean_month_cable_nee.plot.imshow(vmin=1, vmax=12, ax=ax[1,1], cmap='twilight', add_colorbar=False, add_labels=False)\n",
    "ax[1,1].set_title('Cable-POP '+var, fontsize=20);\n",
    "\n",
    "# im = max_mean_month_modis.plot.imshow(vmin=1, vmax=12, ax=ax[1,0], cmap='twilight', add_colorbar=False)\n",
    "# ax[1,0].set_title('MODIS '+var, fontsize=20);\n",
    "\n",
    "# im = max_mean_month_gosif.plot.imshow(vmin=1, vmax=12, ax=ax[1,1], cmap='twilight', add_colorbar=False)\n",
    "# ax[1,1].set_title('GOSIF '+var, fontsize=20);\n",
    "ax[0,0].set_xticks([])\n",
    "ax[0,1].set_yticks([])\n",
    "ax[1,0].set_xticks([])\n",
    "ax[1,1].set_yticks([])\n",
    "cbar = fig.colorbar(im, spacing='uniform', ax=ax.ravel().tolist(), orientation='vertical', shrink=0.4)\n",
    "cbar.set_ticks([1,2,3,4,5,6,7,8,9,10,11,12])\n",
    "cbar.set_ticklabels([\"J\",\"F\",\"M\",\"A\",\"M\",\"J\",\"J\",\"A\",\"S\",\"O\",\"N\",\"D\"], fontsize=20)\n",
    "# plt.tight_layout()\n",
    "plt.savefig('/g/data/os22/chad_tmp/NEE_modelling/results/figs/month_of_max_'+var+'.png')\n"
   ]
  },
  {
   "cell_type": "code",
   "execution_count": null,
   "metadata": {},
   "outputs": [],
   "source": []
  }
 ],
 "metadata": {
  "kernelspec": {
   "display_name": "Python 3 (ipykernel)",
   "language": "python",
   "name": "python3"
  },
  "language_info": {
   "codemirror_mode": {
    "name": "ipython",
    "version": 3
   },
   "file_extension": ".py",
   "mimetype": "text/x-python",
   "name": "python",
   "nbconvert_exporter": "python",
   "pygments_lexer": "ipython3",
   "version": "3.8.8"
  }
 },
 "nbformat": 4,
 "nbformat_minor": 4
}
