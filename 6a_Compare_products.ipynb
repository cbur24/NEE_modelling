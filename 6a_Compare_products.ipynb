{
 "cells": [
  {
   "cell_type": "markdown",
   "metadata": {},
   "source": [
    "# Comparing fluxes with other products\n",
    "\n",
    "\n"
   ]
  },
  {
   "cell_type": "code",
   "execution_count": null,
   "metadata": {},
   "outputs": [],
   "source": [
    "import datetime\n",
    "import numpy as np\n",
    "import xarray as xr\n",
    "import rioxarray\n",
    "import pyproj\n",
    "\n",
    "import matplotlib.pyplot as plt\n",
    "from matplotlib.colors import ListedColormap\n",
    "\n",
    "from odc.geo.geobox import zoom_out\n",
    "from odc.geo.xr import assign_crs\n",
    "from odc.algo import xr_reproject\n",
    "\n",
    "import sys\n",
    "sys.path.append('/g/data/os22/chad_tmp/NEE_modelling/')\n",
    "from collect_prediction_data import allNaN_arg\n",
    "\n",
    "import matplotlib \n",
    "matplotlib.rcParams.update({'font.size': 16})\n",
    "\n",
    "import warnings\n",
    "warnings.filterwarnings(\"ignore\")"
   ]
  },
  {
   "cell_type": "markdown",
   "metadata": {},
   "source": [
    "## Analysis Parameters"
   ]
  },
  {
   "cell_type": "code",
   "execution_count": null,
   "metadata": {},
   "outputs": [],
   "source": [
    "var = 'NEE'\n",
    "var_fc = 'nee'\n",
    "results_name = 'NEE_2003_2021_5km_LGBM.nc'\n",
    "upper = 'NEE_2003_2021_5km_LGBM_upper.nc'\n",
    "lower = 'NEE_2003_2021_5km_LGBM_lower.nc'"
   ]
  },
  {
   "cell_type": "markdown",
   "metadata": {},
   "source": [
    "## Open various datasets"
   ]
  },
  {
   "cell_type": "code",
   "execution_count": null,
   "metadata": {},
   "outputs": [],
   "source": [
    "ds = xr.open_dataarray('/g/data/os22/chad_tmp/NEE_modelling/results/predictions/'+results_name)\n",
    "ds.attrs['nodata'] = np.nan\n",
    "\n",
    "ds_upper = xr.open_dataarray('/g/data/os22/chad_tmp/NEE_modelling/results/predictions/'+upper)\n",
    "ds_upper.attrs['nodata'] = np.nan\n",
    "\n",
    "ds_lower = xr.open_dataarray('/g/data/os22/chad_tmp/NEE_modelling/results/predictions/'+lower)\n",
    "ds_lower.attrs['nodata'] = np.nan"
   ]
  },
  {
   "cell_type": "markdown",
   "metadata": {},
   "source": [
    "### Fluxcom"
   ]
  },
  {
   "cell_type": "code",
   "execution_count": null,
   "metadata": {},
   "outputs": [],
   "source": [
    "ds_fc = assign_crs(xr.open_dataset('/g/data/os22/chad_tmp/NEE_modelling/data/FLUXCOM/'+var_fc+'_rs_meteo_era5.nc').sel(time=slice('2003', '2018')), crs='epsg:4326')\n",
    "ds_fc = ds_fc.rename({'lat':'latitude', 'lon':'longitude'})\n",
    "ds_fc.attrs['nodata'] = np.nan\n",
    "ds_fc['latitude'] = ds_fc.latitude.astype('float32')\n",
    "ds_fc['longitude'] = ds_fc.longitude.astype('float32')"
   ]
  },
  {
   "cell_type": "markdown",
   "metadata": {},
   "source": [
    "### MODIS GPP"
   ]
  },
  {
   "cell_type": "code",
   "execution_count": null,
   "metadata": {},
   "outputs": [],
   "source": [
    "modis_gpp = xr.open_dataarray('/g/data/os22/chad_tmp/NEE_modelling/data/1km/MODIS_GPP_1km_monthly_2002_2021.nc')\n",
    "modis_gpp.attrs['nodata'] = np.nan"
   ]
  },
  {
   "cell_type": "markdown",
   "metadata": {},
   "source": [
    "### GOSIF GPP"
   ]
  },
  {
   "cell_type": "code",
   "execution_count": null,
   "metadata": {},
   "outputs": [],
   "source": [
    "gosif_gpp = xr.open_dataarray('/g/data/os22/chad_tmp/NEE_modelling/data/5km/GOSIF_GPP_5km_monthly_2002_2021.nc')\n",
    "gosif_gpp.attrs['nodata'] = np.nan"
   ]
  },
  {
   "cell_type": "code",
   "execution_count": null,
   "metadata": {},
   "outputs": [],
   "source": [
    "# evi=xr.open_dataarray('/g/data/os22/chad_tmp/NEE_modelling/data/5km/EVI_5km_monthly_2002_2021.nc')"
   ]
  },
  {
   "cell_type": "markdown",
   "metadata": {},
   "source": [
    "### Villalobos et al \n",
    "\n",
    "Needed to fix the dataset before it could be opened\n",
    "\n",
    "    import os\n",
    "    os.system('ncrename -d LAT,latitude -d LON,longitude /g/data/os22/chad_tmp/NEE_modelling/data/Villalobos_aus_carbon_fluxes_2015_2019.nc /g/data/os22/chad_tmp/NEE_modelling/data/Villalobos_aus_carbon_fluxes_2015_2019_fixed.nc')\n",
    "    \n",
    "    \n",
    "    # !cdo -P 8 remapbil,global_0.1 /g/data/os22/chad_tmp/NEE_modelling/data/flux.nc /g/data/os22/chad_tmp/NEE_modelling/data/flux_out.nc\n",
    "\n",
    "    # !cdo -f nc setgridtype,curvilinear /g/data/os22/chad_tmp/NEE_modelling/data/flux.nc /g/data/os22/chad_tmp/NEE_modelling/data/flux_out.nc"
   ]
  },
  {
   "cell_type": "code",
   "execution_count": null,
   "metadata": {},
   "outputs": [],
   "source": [
    "# extracted the values in the proj4 string manually from the dataset\n",
    "crs = pyproj.crs.CRS('+proj=lcc +lat_1=-50 +lon_0=134.33 +lat_2=-10 +lat_0=-30 +a=6370000')"
   ]
  },
  {
   "cell_type": "code",
   "execution_count": null,
   "metadata": {},
   "outputs": [],
   "source": [
    "fn = '/g/data/os22/chad_tmp/NEE_modelling/data/Villalobos_aus_carbon_fluxes_2015_2019.nc'\n",
    "\n",
    "import xarray as xr\n",
    "inv = rioxarray.open_rasterio(fn).rename({'band':'month'})\n",
    "\n",
    "lat = inv.LAT.values[0,:,0]\n",
    "lon = inv.LON.values[0,0,:]\n",
    "inv.coords['x'] = lon\n",
    "inv.coords['y'] = lat\n",
    "inv = inv.drop(['LAT', 'LON'])\n",
    "inv['month']=ds.sel(time=slice('2015', '2019')).time.values\n",
    "inv = inv.rename({'month':'time'})\n",
    "inv = inv.rename({'y':'latitude', 'x':'longitude'})\n",
    "inv = assign_crs(inv, crs=crs)\n",
    "post = inv['post_flux']\n",
    "cable = inv['land_flux']\n",
    "\n",
    "# create a mask for this janky dataset\n",
    "mask_inv = cable.where(cable==0).isel(time=1)\n",
    "mask_inv = mask_inv.astype(bool)\n",
    "\n",
    "post = post.where(mask_inv)\n",
    "cable = cable.where(mask_inv)\n",
    "\n",
    "post.attrs['nodata'] = np.nan\n",
    "cable.attrs['nodata'] = np.nan\n",
    "post.attrs['units'] = 'PgC/year'\n",
    "cable.attrs['units'] = 'PgC/year'"
   ]
  },
  {
   "cell_type": "code",
   "execution_count": null,
   "metadata": {},
   "outputs": [],
   "source": [
    "post.odc.geobox.to_crs('epsg:4326')"
   ]
  },
  {
   "cell_type": "code",
   "execution_count": null,
   "metadata": {},
   "outputs": [],
   "source": [
    "post = post.odc.reproject(post.odc.geobox.to_crs('epsg:4326'), resampling='nearest')"
   ]
  },
  {
   "cell_type": "code",
   "execution_count": null,
   "metadata": {},
   "outputs": [],
   "source": [
    "post.isel(time=1).plot.imshow()"
   ]
  },
  {
   "cell_type": "code",
   "execution_count": null,
   "metadata": {},
   "outputs": [],
   "source": [
    "# post.odc.reproject(grid.compat, resampling='nearest')\n",
    "# = xr_reproject(post, geobox=grid.compat, resampling='nearest')"
   ]
  },
  {
   "cell_type": "markdown",
   "metadata": {},
   "source": [
    "## Define a common grid\n",
    "\n",
    "Resolution is similar to Villalobos as that's the coarest product"
   ]
  },
  {
   "cell_type": "code",
   "execution_count": null,
   "metadata": {},
   "outputs": [],
   "source": [
    "grid = zoom_out(ds.odc.geobox, 10)"
   ]
  },
  {
   "cell_type": "code",
   "execution_count": null,
   "metadata": {},
   "outputs": [],
   "source": [
    "grid = grid.to_crs('EPSG:3577')"
   ]
  },
  {
   "cell_type": "markdown",
   "metadata": {},
   "source": [
    "### Reproject datasets to match EPSG:3577 50km grid"
   ]
  },
  {
   "cell_type": "code",
   "execution_count": null,
   "metadata": {},
   "outputs": [],
   "source": [
    "ds = xr_reproject(ds, geobox=grid.compat, resampling='average')\n",
    "ds_upper = xr_reproject(ds_upper, geobox=grid.compat, resampling='average')\n",
    "ds_lower = xr_reproject(ds_lower, geobox=grid.compat, resampling='average')\n",
    "\n",
    "mask = np.isnan(ds.isel(time=1))"
   ]
  },
  {
   "cell_type": "code",
   "execution_count": null,
   "metadata": {},
   "outputs": [],
   "source": [
    "ds_fc = xr_reproject(ds_fc, geobox=grid.compat, resampling='average')\n",
    "ds_fc = ds_fc[var].where(~mask.astype(bool))\n",
    "ds_fc = ds_fc*30 #/day to /month"
   ]
  },
  {
   "cell_type": "code",
   "execution_count": null,
   "metadata": {},
   "outputs": [],
   "source": [
    "# post = xr_reproject(post, geobox=grid.compat, resampling='average')"
   ]
  },
  {
   "cell_type": "code",
   "execution_count": null,
   "metadata": {},
   "outputs": [],
   "source": [
    "modis_gpp = xr_reproject(modis_gpp, geobox=grid.compat, resampling='average')\n",
    "\n",
    "modis_gpp = modis_gpp.where(~mask.astype(bool))"
   ]
  },
  {
   "cell_type": "code",
   "execution_count": null,
   "metadata": {},
   "outputs": [],
   "source": [
    "gosif_gpp = xr_reproject(gosif_gpp, geobox=grid.compat, resampling='average')\n",
    "\n",
    "gosif_gpp = gosif_gpp.where(~mask.astype(bool))"
   ]
  },
  {
   "cell_type": "code",
   "execution_count": null,
   "metadata": {},
   "outputs": [],
   "source": [
    "# evi=xr_reproject(evi, geobox=grid.geobox, resampling='average')\n",
    "# evi=evi.where(~mask.astype(bool))"
   ]
  },
  {
   "cell_type": "markdown",
   "metadata": {},
   "source": [
    "## Convert to total C in (petagrams) rather than gC/m2\n",
    "\n",
    "Find area of pixels"
   ]
  },
  {
   "cell_type": "code",
   "execution_count": null,
   "metadata": {},
   "outputs": [],
   "source": [
    "area_per_pixel = ds.geobox.resolution[1]**2\n",
    "\n",
    "ds = ds * area_per_pixel * 1e-15\n",
    "ds = ds*12 #convert to Pg/Year (even though monthly timeseries)\n",
    "\n",
    "ds_upper = ds_upper * area_per_pixel * 1e-15\n",
    "ds_upper = ds_upper*12 \n",
    "\n",
    "ds_lower = ds_lower * area_per_pixel * 1e-15\n",
    "ds_lower = ds_lower*12 \n",
    "\n",
    "ds_fc = ds_fc * area_per_pixel * 1e-15\n",
    "ds_fc = ds_fc*12"
   ]
  },
  {
   "cell_type": "code",
   "execution_count": null,
   "metadata": {},
   "outputs": [],
   "source": [
    "modis_gpp = modis_gpp * area_per_pixel * 1e-12\n",
    "gosif_gpp = gosif_gpp * area_per_pixel * 1e-15"
   ]
  },
  {
   "cell_type": "markdown",
   "metadata": {},
   "source": [
    "## Plot time-series and find annual mean and std dev "
   ]
  },
  {
   "cell_type": "code",
   "execution_count": null,
   "metadata": {},
   "outputs": [],
   "source": [
    "import matplotlib\n",
    "matplotlib.rcParams.update({'font.size': 16})"
   ]
  },
  {
   "cell_type": "code",
   "execution_count": null,
   "metadata": {},
   "outputs": [],
   "source": [
    "trim=False"
   ]
  },
  {
   "cell_type": "code",
   "execution_count": null,
   "metadata": {},
   "outputs": [],
   "source": [
    "if trim:\n",
    "    ds = ds.sel(time=slice('2015', '2019'))\n",
    "    ds_fc = ds_fc.sel(time=slice('2015', '2019'))"
   ]
  },
  {
   "cell_type": "code",
   "execution_count": null,
   "metadata": {},
   "outputs": [],
   "source": [
    "ds_1d = ds.sum(['x', 'y'])\n",
    "ds_1d_upper = ds_upper.sum(['x', 'y'])\n",
    "ds_1d_lower = ds_lower.sum(['x', 'y'])\n",
    "ds_fc_1d = ds_fc.sum(['x', 'y'])\n",
    "post_1d = post.sum(['latitude', 'longitude'])\n",
    "cable_1d = cable.sum(['latitude', 'longitude'])"
   ]
  },
  {
   "cell_type": "code",
   "execution_count": null,
   "metadata": {},
   "outputs": [],
   "source": [
    "print(f'Mean of this study: {ds_1d.mean().values:.3f} PgC/yr')\n",
    "print(f'Std Dev of this study: {ds_1d.std().values:.3f} PgC/yr')\n",
    "print('\\n')\n",
    "print(f'Mean of Fluxcom: {ds_fc_1d.mean().values:.3f} PgC/yr')\n",
    "print(f'Std Dev of Fluxcom: {ds_fc_1d.std().values:.3f} PgC/yr')\n",
    "print('\\n')\n",
    "print(f'Mean of Inversion: {post_1d.mean().values:.3f} PgC/yr')\n",
    "print(f'Std Dev of Inversion: {post_1d.std().values:.3f} PgC/yr')\n",
    "print('\\n')\n",
    "print(f'Mean of Cable: {cable_1d.mean().values:.3f} PgC/yr')\n",
    "print(f'Std Dev of Cable: {cable_1d.std().values:.3f} PgC/yr')"
   ]
  },
  {
   "cell_type": "code",
   "execution_count": null,
   "metadata": {},
   "outputs": [],
   "source": [
    "fig, ax = plt.subplots(1,1, figsize=(15,7))\n",
    "ax.plot(ds_fc_1d.time.values, ds_fc_1d.rolling(time=3, min_periods=1).mean(), linestyle='--', label='Fluxcom '+var, alpha=0.75)\n",
    "# ax.plot(modis_gpp_1D.time.values, modis_gpp_1D, linestyle='--', label='MODIS '+var, alpha=0.75)\n",
    "# ax.plot(gosif_gpp_1D.time.values, gosif_gpp_1D, linestyle='--', label='GOSIF '+var, alpha=0.75)\n",
    "ax.plot(post_1d.time.values, post_1d.rolling(time=3, min_periods=1).mean(), linestyle='--', label='Inversion '+var, alpha=0.75)\n",
    "ax.plot(cable_1d.time.values, cable_1d.rolling(time=3, min_periods=1).mean(), linestyle='--', label='CABLE '+var, alpha=0.75)\n",
    "ax.plot(ds_1d.time.values, ds_1d.rolling(time=3, min_periods=1).mean(),  label='This study '+var)\n",
    "# ax.plot(ds_1d_upper.time.values, ds_1d_upper.rolling(time=3, min_periods=1).mean(),  label='This study upper '+var)\n",
    "# ax.plot(ds_1d_lower.time.values, ds_1d_lower.rolling(time=3, min_periods=1).mean(),  label='This study lower '+var)\n",
    "\n",
    "plt.axhline(0, c='grey')\n",
    "ax.legend(loc='lower left')\n",
    "ax.set_ylabel('Carbon Flux PgC/year');\n",
    "ax.text(.015, .95, f'Fluxcom: {ds_fc_1d.mean().values:.3f} PgC/yr',\n",
    "        transform=ax.transAxes)\n",
    "ax.text(.015, .90, f'Inversion: {post_1d.mean().values:.3f} PgC/yr',\n",
    "        transform=ax.transAxes)\n",
    "ax.text(.015, .85, f'Cable: {cable_1d.mean().values:.3f} PgC/yr',\n",
    "        transform=ax.transAxes)\n",
    "ax.text(.015, .80, f'This study: {ds_1d.mean().values:.3f} PgC/yr',\n",
    "        transform=ax.transAxes);\n",
    "\n",
    "\n",
    "# ax.set_xlim([datetime.date(2015, 1, 1), datetime.date(2019, 12, 31)])\n",
    "# ax.set_ylim(-2.5, 2.5)\n"
   ]
  },
  {
   "cell_type": "markdown",
   "metadata": {},
   "source": [
    "## Convert to anomalies"
   ]
  },
  {
   "cell_type": "markdown",
   "metadata": {},
   "source": [
    "### Climatology"
   ]
  },
  {
   "cell_type": "code",
   "execution_count": null,
   "metadata": {},
   "outputs": [],
   "source": [
    "import warnings\n",
    "warnings.filterwarnings(\"ignore\")\n",
    "\n",
    "ds_clim_mean = ds.groupby('time.month').mean()\n",
    "ds_clim_mean_annual = ds.resample(time='1Y', label='left', loffset='6M').sum().mean('time')\n",
    "\n",
    "ds_fc_clim_mean = ds_fc.groupby('time.month').mean()\n",
    "ds_fc_clim_mean_annual = ds_fc.resample(time='1Y', label='left', loffset='6M').sum().mean('time')\n",
    "\n",
    "post_clim_mean = post.groupby('time.month').mean()\n",
    "post_clim_mean_annual = post.resample(time='1Y', label='left', loffset='6M').sum().mean('time')\n",
    "\n",
    "cable_clim_mean = cable.groupby('time.month').mean()\n",
    "cable_clim_mean_annual = cable.resample(time='1Y', label='left', loffset='6M').sum().mean('time')"
   ]
  },
  {
   "cell_type": "code",
   "execution_count": null,
   "metadata": {},
   "outputs": [],
   "source": [
    "modis_gpp_clim_mean = modis_gpp.groupby('time.month').mean()\n",
    "modis_gpp_clim_mean_annual = modis_gpp.resample(time='1Y', label='left', loffset='6M').sum().mean('time')\n",
    "\n",
    "gosif_gpp_clim_mean = gosif_gpp.groupby('time.month').mean()\n",
    "gosif_gpp_clim_mean_annual = gosif_gpp.resample(time='1Y', label='left', loffset='6M').sum().mean('time')"
   ]
  },
  {
   "cell_type": "markdown",
   "metadata": {},
   "source": [
    "### Anomalies"
   ]
  },
  {
   "cell_type": "code",
   "execution_count": null,
   "metadata": {},
   "outputs": [],
   "source": [
    "ds_anom = (ds.groupby('time.month') - ds_clim_mean)\n",
    "ds_fc_anom = (ds_fc.groupby('time.month') - ds_fc_clim_mean)\n",
    "post_anom = (post.groupby('time.month') - post_clim_mean)\n",
    "cable_anom = (cable.groupby('time.month') - cable_clim_mean)\n",
    "\n",
    "ds_anom_annual = ds.resample(time='1Y', label='left', loffset='6M').sum() - ds_clim_mean_annual\n",
    "ds_fc_anom_annual = ds_fc.resample(time='1Y', label='left', loffset='6M').sum() - ds_fc_clim_mean_annual\n",
    "post_anom_annual = post.resample(time='1Y', label='left', loffset='6M').sum() - post_clim_mean_annual\n",
    "cable_anom_annual = cable.resample(time='1Y', label='left', loffset='6M').sum() - cable_clim_mean_annual\n",
    "\n"
   ]
  },
  {
   "cell_type": "code",
   "execution_count": null,
   "metadata": {},
   "outputs": [],
   "source": [
    "modis_gpp_anom = (modis_gpp.groupby('time.month') - modis_gpp_clim_mean)\n",
    "gosif_gpp_anom = (gosif_gpp.groupby('time.month') - gosif_gpp_clim_mean)\n",
    "\n",
    "modis_gpp_anom_annual = modis_gpp.resample(time='1Y', label='left', loffset='6M').sum() - modis_gpp_clim_mean_annual\n",
    "gosif_gpp_anom_annual = gosif_gpp.resample(time='1Y', label='left', loffset='6M').sum() - gosif_gpp_clim_mean_annual"
   ]
  },
  {
   "cell_type": "markdown",
   "metadata": {},
   "source": [
    "## Zonal summaries"
   ]
  },
  {
   "cell_type": "markdown",
   "metadata": {},
   "source": [
    "### Monthly"
   ]
  },
  {
   "cell_type": "code",
   "execution_count": null,
   "metadata": {},
   "outputs": [],
   "source": [
    "ds_1D = ds_anom.sum(['x','y'])\n",
    "ds_fc_1D = ds_fc_anom.sum(['x','y'])\n",
    "post_1D = post_anom.sum(['latitude','longitude'])\n",
    "cable_1D = cable_anom.sum(['latitude','longitude'])"
   ]
  },
  {
   "cell_type": "code",
   "execution_count": null,
   "metadata": {},
   "outputs": [],
   "source": [
    "modis_gpp_1D = modis_gpp_anom.sum(['x','y'])\n",
    "gosif_gpp_1D = gosif_gpp_anom.sum(['x','y'])"
   ]
  },
  {
   "cell_type": "code",
   "execution_count": null,
   "metadata": {},
   "outputs": [],
   "source": [
    "# if trim:\n",
    "#     ds = ds.sel(time=slice('2015', '2019'))\n",
    "#     ds_fc = ds.sel(time=slice('2015', '2019'))\n",
    "\n",
    "fig, ax = plt.subplots(1,1, figsize=(15,7))\n",
    "ax.plot(ds_fc_1D.time.values, ds_fc_1D.rolling(time=3, min_periods=1).mean(), linestyle='--', label='Fluxcom '+var, alpha=0.75)\n",
    "ax.plot(post_1D.time.values, post_1D.rolling(time=3, min_periods=1).mean(), linestyle='--', label='Inversion '+var, alpha=0.75)\n",
    "ax.plot(cable_1D.time.values, cable_1D.rolling(time=3, min_periods=1).mean(), linestyle='--', label='Cable '+var, alpha=0.75)\n",
    "# ax.plot(modis_gpp_1D.time.values, modis_gpp_1D, linestyle='--', label='MODIS '+var, alpha=0.75)\n",
    "# ax.plot(gosif_gpp_1D.time.values, gosif_gpp_1D, linestyle='--', label='GOSIF '+var, alpha=0.75)\n",
    "ax.plot(ds_1D.time.values, ds_1D.rolling(time=3, min_periods=1).mean(),  label='This study '+var)\n",
    "ax.legend(loc='lower left')\n",
    "ax.set_ylabel('Carbon Flux Anomaly PgC/year');\n",
    "# ax.set_ylim(-0.175, 0.175)\n",
    "# ax.text(.015, .95, f'Fluxcom: {ds_fc_1D.std().values:.3f} PgC/yr',\n",
    "#         transform=ax.transAxes)\n",
    "# ax.text(.015, .90, f'Inversion: {post_1D.std().values:.3f} PgC/yr',\n",
    "#         transform=ax.transAxes)\n",
    "# ax.text(.015, .85, f'Cable: {cable_1D.std().values:.3f} PgC/yr',\n",
    "#         transform=ax.transAxes)\n",
    "# ax.text(.015, .80, f'This study: {ds_1D.std().values:.3f} PgC/yr',\n",
    "#         transform=ax.transAxes);\n",
    "# ax2=ax.twinx()\n",
    "# # ax2.plot(evi_1D.time.values, evi_1D, label='MODIS-EVI', color='c', )\n",
    "# ax2.legend(loc='upper right')\n",
    "# ax2.set_ylim(-0.05, 0.05)\n",
    "# ax2.set_ylabel('EVI Anomaly');\n",
    "\n",
    "plt.axhline(0, c='grey');\n",
    "# plt.title(var);\n",
    "\n"
   ]
  },
  {
   "cell_type": "markdown",
   "metadata": {},
   "source": [
    "### Annual"
   ]
  },
  {
   "cell_type": "code",
   "execution_count": null,
   "metadata": {},
   "outputs": [],
   "source": [
    "ds_1D_annual = ds_anom_annual.sum(['x','y'])\n",
    "ds_fc_1D_annual = ds_fc_anom_annual.sum(['x','y'])"
   ]
  },
  {
   "cell_type": "code",
   "execution_count": null,
   "metadata": {
    "tags": []
   },
   "outputs": [],
   "source": [
    "fig, ax = plt.subplots(1,1, figsize=(15,7))\n",
    "ax.plot(ds_fc_1D_annual.time.values, ds_fc_1D_annual, linestyle='--', label='Fluxcom ' +var, alpha=0.75)\n",
    "# ax.plot(modis_gpp_annual.time.values, modis_gpp_annual,linestyle='--', label='MODIS '+var, alpha=0.75)\n",
    "# ax.plot(gosif_gpp_annual.time.values, gosif_gpp_annual, linestyle='--', label='GOSIF '+var, alpha=0.75)\n",
    "ax.plot(ds_1D_annual.time.values, ds_1D_annual, label='This study '+var)\n",
    "# ax.set_ylim(-1.1, 1.1)\n",
    "ax.legend(loc='upper left')\n",
    "ax.set_ylabel('Carbon Flux Anomaly PgC/year')\n",
    "plt.axhline(0, c='grey');\n",
    "\n",
    "# ax2=ax.twinx()\n",
    "# ax2.plot(evi_annual.time.values, evi_annual, marker='o', linestyle='--', label='MODIS-EVI', color='c')\n",
    "# ax2.legend(loc='upper left')\n",
    "# ax2.set_ylabel('EVI Anomaly');"
   ]
  },
  {
   "cell_type": "markdown",
   "metadata": {},
   "source": [
    "## Month of maximum flux"
   ]
  },
  {
   "cell_type": "code",
   "execution_count": null,
   "metadata": {},
   "outputs": [],
   "source": [
    "y = ds_clim_mean.where(~mask).sum(['x','y']).values\n",
    "x = ds_clim_mean.month.values\n",
    "\n",
    "y_fc = ds_fc_clim_mean.where(~mask).sum(['x','y']).values\n",
    "x_fc = ds_fc_clim_mean.month.values\n",
    "\n",
    "y_post = post_clim_mean.where(mask_inv).sum(['latitude','longitude']).values\n",
    "x_post = post_clim_mean.month.values\n",
    "\n",
    "y_cable = cable_clim_mean.where(mask_inv).sum(['latitude','longitude']).values\n",
    "x_cable = cable_clim_mean.month.values\n",
    "\n",
    "# y_modis_gpp = modis_gpp_clim_mean.where(~mask).sum(['x','y']).values\n",
    "# x_modis_gpp = modis_gpp_clim_mean.month.values\n",
    "\n",
    "# y_gosif_gpp = gosif_gpp_clim_mean.where(~mask).sum(['x','y']).values\n",
    "# x_gosif_gpp = gosif_gpp_clim_mean.month.values\n",
    "\n",
    "fig,ax = plt.subplots(1,1, figsize=(15,7))\n",
    "ax.plot(x_fc, y_fc, linestyle='--', label='Fluxcom '+var, alpha=0.75)\n",
    "ax.plot(x_post, y_post, linestyle='--', label='Inversion '+var, alpha=0.75)\n",
    "ax.plot(x_cable, y_cable, linestyle='--', label='Cable '+var, alpha=0.75)\n",
    "# ax.plot(x_modis_gpp, y_modis_gpp,  linestyle='--', label='MODIS '+var, alpha=0.75)\n",
    "# ax.plot(x_gosif_gpp, y_gosif_gpp,  linestyle='--', label='GOSIF '+var, alpha=0.75)\n",
    "ax.plot(x, y, label='This study '+var)\n",
    "\n",
    "ax.axhline(0, c='grey')\n",
    "\n",
    "# ax.fill_between(x_fc, y_fc-std_fc, y_fc+std_fc, alpha=0.5)\n",
    "# ax.fill_between(x, y-std, y+std, alpha=0.5)\n",
    "\n",
    "ax.legend(loc='upper left')\n",
    "# ax.set_title(var+' Climatology')\n",
    "ax.set_xlabel('Month')\n",
    "ax.set_xticks(range(1,13))\n",
    "ax.set_xticklabels([\"J\",\"F\",\"M\",\"A\",\"M\",\"J\",\"J\",\"A\",\"S\",\"O\",\"N\",\"D\"])             \n",
    "ax.set_ylabel('Climatological '+var+' PgC/year');\n"
   ]
  },
  {
   "cell_type": "code",
   "execution_count": null,
   "metadata": {},
   "outputs": [],
   "source": [
    "if var == 'NEE':\n",
    "    max_mean_month = allNaN_arg(ds_clim_mean, 'month', 'min')\n",
    "    max_mean_month_fc = allNaN_arg(ds_fc_clim_mean, 'month', 'min')\n",
    "    max_mean_month_post = allNaN_arg(post_clim_mean, 'month', 'min')\n",
    "    max_mean_month_cable = allNaN_arg(cable_clim_mean, 'month', 'min')\n",
    "    # max_mean_month_modis = allNaN_arg(modis_gpp_clim_mean, 'month', 'min')\n",
    "    # max_mean_month_gosif = allNaN_arg(gosif_gpp_clim_mean, 'month', 'min')\n",
    "    #max_mean_season = allNaN_arg(monthly_season, 'season', 'min')\n",
    "else:\n",
    "    max_mean_month = allNaN_arg(ds_clim_mean, 'month', 'max')\n",
    "    max_mean_month_fc = allNaN_arg(ds_fc_clim_mean, 'month', 'max')\n",
    "    max_mean_month_modis = allNaN_arg(modis_gpp_clim_mean, 'month', 'max')\n",
    "    max_mean_month_gosif = allNaN_arg(gosif_gpp_clim_mean, 'month', 'max')\n",
    "    #max_mean_season = allNaN_arg(monthly_season, 'season', 'max')"
   ]
  },
  {
   "cell_type": "code",
   "execution_count": null,
   "metadata": {},
   "outputs": [],
   "source": [
    "mask_inv.plot.imshow()"
   ]
  },
  {
   "cell_type": "code",
   "execution_count": null,
   "metadata": {},
   "outputs": [],
   "source": [
    "fig,ax = plt.subplots(1,2, figsize=(20,10), sharey=True, sharex=True)\n",
    "\n",
    "# im = max_mean_month.plot.imshow(vmin=1, vmax=12, ax=ax[0], cmap='twilight', add_colorbar=False)\n",
    "# ax[0].set_title('This Study '+var, fontsize=20);\n",
    "\n",
    "# im = max_mean_month_fc.plot.imshow(vmin=1, vmax=12, ax=ax[1], cmap='twilight', add_colorbar=False)\n",
    "# ax[1].set_title('Fluxcom '+var, fontsize=20);\n",
    "\n",
    "im = max_mean_month_post.where(mask_inv).plot.imshow(vmin=1, vmax=12, ax=ax[0], cmap='twilight', add_colorbar=False)\n",
    "ax[0].set_title('Inversion '+var, fontsize=20);\n",
    "\n",
    "im = max_mean_month_cable.where(mask_inv).plot.imshow(vmin=1, vmax=12, ax=ax[1], cmap='twilight', add_colorbar=False)\n",
    "ax[1].set_title('Cable '+var, fontsize=20);\n",
    "\n",
    "# im = max_mean_month_modis.plot.imshow(vmin=1, vmax=12, ax=ax[1,0], cmap='twilight', add_colorbar=False)\n",
    "# ax[1,0].set_title('MODIS '+var, fontsize=20);\n",
    "\n",
    "# im = max_mean_month_gosif.plot.imshow(vmin=1, vmax=12, ax=ax[1,1], cmap='twilight', add_colorbar=False)\n",
    "# ax[1,1].set_title('GOSIF '+var, fontsize=20);\n",
    "\n",
    "cbar = fig.colorbar(im, spacing='uniform', ax=ax.ravel().tolist(), orientation='horizontal', shrink=0.4)\n",
    "cbar.set_ticks([1,2,3,4,5,6,7,8,9,10,11,12])\n",
    "cbar.set_ticklabels([\"J\",\"F\",\"M\",\"A\",\"M\",\"J\",\"J\",\"A\",\"S\",\"O\",\"N\",\"D\"], fontsize=20)\n",
    "\n",
    "plt.savefig('/g/data/os22/chad_tmp/NEE_modelling/results/figs/month_of_max_'+var+'.png')\n"
   ]
  },
  {
   "cell_type": "code",
   "execution_count": null,
   "metadata": {},
   "outputs": [],
   "source": []
  }
 ],
 "metadata": {
  "kernelspec": {
   "display_name": "Python 3 (ipykernel)",
   "language": "python",
   "name": "python3"
  },
  "language_info": {
   "codemirror_mode": {
    "name": "ipython",
    "version": 3
   },
   "file_extension": ".py",
   "mimetype": "text/x-python",
   "name": "python",
   "nbconvert_exporter": "python",
   "pygments_lexer": "ipython3",
   "version": "3.8.8"
  }
 },
 "nbformat": 4,
 "nbformat_minor": 4
}
