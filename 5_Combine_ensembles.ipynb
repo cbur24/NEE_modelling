{
 "cells": [
  {
   "cell_type": "markdown",
   "metadata": {},
   "source": [
    "# Combine all the predictions, and map uncertainty\n",
    "\n",
    "Ran 30 predictions, now we need to compute the ensemble median and the interquartile range.\n",
    "\n",
    "At 1km resolution, this requires a ton of memory. Parellize with dask and the `_percentile.py` script, which is adapted from `odc-algo`\n",
    "\n",
    "- ~12.5 gb per prediction * 30 = 375 GiB \n",
    "- Use hugemem queue"
   ]
  },
  {
   "cell_type": "code",
   "execution_count": 1,
   "metadata": {},
   "outputs": [],
   "source": [
    "import os\n",
    "import xarray as xr\n",
    "import numpy as np\n",
    "import pandas as pd\n",
    "import matplotlib.pyplot as plt\n",
    "from odc.algo import xr_reproject\n",
    "from odc.geo.xr import assign_crs\n",
    "import odc.geo.xr\n",
    "\n",
    "import sys\n",
    "sys.path.append('/g/data/os22/chad_tmp/NEE_modelling/')\n",
    "from _percentile import xr_quantile\n"
   ]
  },
  {
   "cell_type": "code",
   "execution_count": 2,
   "metadata": {},
   "outputs": [
    {
     "data": {
      "text/html": [
       "<div>\n",
       "    <div style=\"width: 24px; height: 24px; background-color: #e1e1e1; border: 3px solid #9D9D9D; border-radius: 5px; position: absolute;\"> </div>\n",
       "    <div style=\"margin-left: 48px;\">\n",
       "        <h3 style=\"margin-bottom: 0px;\">Client</h3>\n",
       "        <p style=\"color: #9D9D9D; margin-bottom: 0px;\">Client-d4a23bee-faae-11ed-859d-00000081fe80</p>\n",
       "        <table style=\"width: 100%; text-align: left;\">\n",
       "\n",
       "        <tr>\n",
       "        \n",
       "            <td style=\"text-align: left;\"><strong>Connection method:</strong> Cluster object</td>\n",
       "            <td style=\"text-align: left;\"><strong>Cluster type:</strong> distributed.LocalCluster</td>\n",
       "        \n",
       "        </tr>\n",
       "\n",
       "        \n",
       "            <tr>\n",
       "                <td style=\"text-align: left;\">\n",
       "                    <strong>Dashboard: </strong> <a href=\"/proxy/8787/status\" target=\"_blank\">/proxy/8787/status</a>\n",
       "                </td>\n",
       "                <td style=\"text-align: left;\"></td>\n",
       "            </tr>\n",
       "        \n",
       "\n",
       "        </table>\n",
       "\n",
       "        \n",
       "            <details>\n",
       "            <summary style=\"margin-bottom: 20px;\"><h3 style=\"display: inline;\">Cluster Info</h3></summary>\n",
       "            <div class=\"jp-RenderedHTMLCommon jp-RenderedHTML jp-mod-trusted jp-OutputArea-output\">\n",
       "    <div style=\"width: 24px; height: 24px; background-color: #e1e1e1; border: 3px solid #9D9D9D; border-radius: 5px; position: absolute;\">\n",
       "    </div>\n",
       "    <div style=\"margin-left: 48px;\">\n",
       "        <h3 style=\"margin-bottom: 0px; margin-top: 0px;\">LocalCluster</h3>\n",
       "        <p style=\"color: #9D9D9D; margin-bottom: 0px;\">b7005d1d</p>\n",
       "        <table style=\"width: 100%; text-align: left;\">\n",
       "            <tr>\n",
       "                <td style=\"text-align: left;\">\n",
       "                    <strong>Dashboard:</strong> <a href=\"/proxy/8787/status\" target=\"_blank\">/proxy/8787/status</a>\n",
       "                </td>\n",
       "                <td style=\"text-align: left;\">\n",
       "                    <strong>Workers:</strong> 1\n",
       "                </td>\n",
       "            </tr>\n",
       "            <tr>\n",
       "                <td style=\"text-align: left;\">\n",
       "                    <strong>Total threads:</strong> 24\n",
       "                </td>\n",
       "                <td style=\"text-align: left;\">\n",
       "                    <strong>Total memory:</strong> 735.00 GiB\n",
       "                </td>\n",
       "            </tr>\n",
       "            \n",
       "            <tr>\n",
       "    <td style=\"text-align: left;\"><strong>Status:</strong> running</td>\n",
       "    <td style=\"text-align: left;\"><strong>Using processes:</strong> True</td>\n",
       "</tr>\n",
       "\n",
       "            \n",
       "        </table>\n",
       "\n",
       "        <details>\n",
       "            <summary style=\"margin-bottom: 20px;\">\n",
       "                <h3 style=\"display: inline;\">Scheduler Info</h3>\n",
       "            </summary>\n",
       "\n",
       "            <div style=\"\">\n",
       "    <div>\n",
       "        <div style=\"width: 24px; height: 24px; background-color: #FFF7E5; border: 3px solid #FF6132; border-radius: 5px; position: absolute;\"> </div>\n",
       "        <div style=\"margin-left: 48px;\">\n",
       "            <h3 style=\"margin-bottom: 0px;\">Scheduler</h3>\n",
       "            <p style=\"color: #9D9D9D; margin-bottom: 0px;\">Scheduler-3a5825ba-2be9-4899-80b5-adada5b5c746</p>\n",
       "            <table style=\"width: 100%; text-align: left;\">\n",
       "                <tr>\n",
       "                    <td style=\"text-align: left;\">\n",
       "                        <strong>Comm:</strong> tcp://127.0.0.1:37181\n",
       "                    </td>\n",
       "                    <td style=\"text-align: left;\">\n",
       "                        <strong>Workers:</strong> 1\n",
       "                    </td>\n",
       "                </tr>\n",
       "                <tr>\n",
       "                    <td style=\"text-align: left;\">\n",
       "                        <strong>Dashboard:</strong> <a href=\"/proxy/8787/status\" target=\"_blank\">/proxy/8787/status</a>\n",
       "                    </td>\n",
       "                    <td style=\"text-align: left;\">\n",
       "                        <strong>Total threads:</strong> 24\n",
       "                    </td>\n",
       "                </tr>\n",
       "                <tr>\n",
       "                    <td style=\"text-align: left;\">\n",
       "                        <strong>Started:</strong> Just now\n",
       "                    </td>\n",
       "                    <td style=\"text-align: left;\">\n",
       "                        <strong>Total memory:</strong> 735.00 GiB\n",
       "                    </td>\n",
       "                </tr>\n",
       "            </table>\n",
       "        </div>\n",
       "    </div>\n",
       "\n",
       "    <details style=\"margin-left: 48px;\">\n",
       "        <summary style=\"margin-bottom: 20px;\">\n",
       "            <h3 style=\"display: inline;\">Workers</h3>\n",
       "        </summary>\n",
       "\n",
       "        \n",
       "        <div style=\"margin-bottom: 20px;\">\n",
       "            <div style=\"width: 24px; height: 24px; background-color: #DBF5FF; border: 3px solid #4CC9FF; border-radius: 5px; position: absolute;\"> </div>\n",
       "            <div style=\"margin-left: 48px;\">\n",
       "            <details>\n",
       "                <summary>\n",
       "                    <h4 style=\"margin-bottom: 0px; display: inline;\">Worker: 0</h4>\n",
       "                </summary>\n",
       "                <table style=\"width: 100%; text-align: left;\">\n",
       "                    <tr>\n",
       "                        <td style=\"text-align: left;\">\n",
       "                            <strong>Comm: </strong> tcp://127.0.0.1:44099\n",
       "                        </td>\n",
       "                        <td style=\"text-align: left;\">\n",
       "                            <strong>Total threads: </strong> 24\n",
       "                        </td>\n",
       "                    </tr>\n",
       "                    <tr>\n",
       "                        <td style=\"text-align: left;\">\n",
       "                            <strong>Dashboard: </strong> <a href=\"/proxy/40317/status\" target=\"_blank\">/proxy/40317/status</a>\n",
       "                        </td>\n",
       "                        <td style=\"text-align: left;\">\n",
       "                            <strong>Memory: </strong> 735.00 GiB\n",
       "                        </td>\n",
       "                    </tr>\n",
       "                    <tr>\n",
       "                        <td style=\"text-align: left;\">\n",
       "                            <strong>Nanny: </strong> tcp://127.0.0.1:43029\n",
       "                        </td>\n",
       "                        <td style=\"text-align: left;\"></td>\n",
       "                    </tr>\n",
       "                    <tr>\n",
       "                        <td colspan=\"2\" style=\"text-align: left;\">\n",
       "                            <strong>Local directory: </strong> /jobfs/84989950.gadi-pbs/dask-worker-space/worker-0e0dz8aw\n",
       "                        </td>\n",
       "                    </tr>\n",
       "\n",
       "                    \n",
       "\n",
       "                    \n",
       "\n",
       "                </table>\n",
       "            </details>\n",
       "            </div>\n",
       "        </div>\n",
       "        \n",
       "\n",
       "    </details>\n",
       "</div>\n",
       "\n",
       "        </details>\n",
       "    </div>\n",
       "</div>\n",
       "            </details>\n",
       "        \n",
       "\n",
       "    </div>\n",
       "</div>"
      ],
      "text/plain": [
       "<Client: 'tcp://127.0.0.1:37181' processes=1 threads=24, memory=735.00 GiB>"
      ]
     },
     "execution_count": 2,
     "metadata": {},
     "output_type": "execute_result"
    }
   ],
   "source": [
    "from datacube.utils.dask import start_local_dask\n",
    "client = start_local_dask(mem_safety_margin='2Gb')\n",
    "client"
   ]
  },
  {
   "cell_type": "markdown",
   "metadata": {},
   "source": [
    "## Analysis Parameters"
   ]
  },
  {
   "cell_type": "code",
   "execution_count": 3,
   "metadata": {},
   "outputs": [],
   "source": [
    "var = 'ET'\n",
    "suffix='20230320'"
   ]
  },
  {
   "cell_type": "code",
   "execution_count": null,
   "metadata": {},
   "outputs": [],
   "source": [
    "base = '/g/data/os22/chad_tmp/NEE_modelling/results/predictions_uncertainty/'+var+'/'\n",
    "files = os.listdir(base)"
   ]
  },
  {
   "cell_type": "code",
   "execution_count": null,
   "metadata": {},
   "outputs": [],
   "source": [
    "pred_filepaths = [base+i for i in files if i.endswith('.nc')]\n",
    "len(pred_filepaths)"
   ]
  },
  {
   "cell_type": "markdown",
   "metadata": {},
   "source": [
    "### Quickly plot the results to inspect"
   ]
  },
  {
   "cell_type": "code",
   "execution_count": null,
   "metadata": {},
   "outputs": [],
   "source": [
    "fig,ax = plt.subplots(1,1, figsize=(15, 5))\n",
    "\n",
    "i=0\n",
    "for pred in pred_filepaths:\n",
    "    print(\"  {:02}/{:02}\\r\".format(i + 1, len(range(0, len(pred_filepaths)))), end=\"\")\n",
    "    ds=xr.open_dataarray(pred, chunks=dict(x=1050, y=680, time=1))\n",
    "    ds.sum(['x','y']).compute().plot(ax=ax, alpha=0.25, c='lightskyblue')\n",
    "    i+=1 \n",
    "\n",
    "# ds = xr.open_dataarray('/g/data/os22/chad_tmp/NEE_modelling/results/predictions/'+var+'_2003_2021_5km_LGBM_'+suffix+'.nc')\n",
    "# ds.sum(['x','y']).plot(ax=ax, c='darkblue', label='lgbm w/ all training data')\n",
    "# plt.axhline(0, c='grey', linestyle='--')\n",
    "plt.title('Ensembles')\n",
    "# ax.legend()"
   ]
  },
  {
   "cell_type": "markdown",
   "metadata": {},
   "source": [
    "## Find median and interquantile range"
   ]
  },
  {
   "cell_type": "code",
   "execution_count": null,
   "metadata": {},
   "outputs": [],
   "source": [
    "arrs=[]\n",
    "for pred in pred_filepaths:\n",
    "    ds=xr.open_dataarray(pred, chunks=dict(x=1050, y=680, time=1)) #680, longitude=1050, time=1\n",
    "    arrs.append(ds.rename(pred[-8:-3]))\n",
    "    \n",
    "ds = xr.merge(arrs)\n",
    "ds = ds.to_array()"
   ]
  },
  {
   "cell_type": "code",
   "execution_count": null,
   "metadata": {},
   "outputs": [],
   "source": [
    "ds = xr_quantile(ds, quantiles=[0.25, 0.50, 0.75], nodata=np.nan)"
   ]
  },
  {
   "cell_type": "code",
   "execution_count": null,
   "metadata": {},
   "outputs": [],
   "source": [
    "ds = ds.rename({'band':var+'_quantiles'}).to_array().squeeze().drop('variable')\n",
    "ds.attrs['nodata']=np.nan\n",
    "ds"
   ]
  },
  {
   "cell_type": "code",
   "execution_count": null,
   "metadata": {},
   "outputs": [],
   "source": [
    "%%time\n",
    "ds = ds.compute()"
   ]
  },
  {
   "cell_type": "markdown",
   "metadata": {},
   "source": [
    "### Plot the results"
   ]
  },
  {
   "cell_type": "code",
   "execution_count": null,
   "metadata": {},
   "outputs": [],
   "source": [
    "fig,ax = plt.subplots(1,1, figsize=(15, 5))\n",
    "ds.sel(quantile=0.25).sum(['x','y']).plot(ax=ax, alpha=0.5, c='lightskyblue', label='0.25')\n",
    "ds.sel(quantile=0.50).sum(['x','y']).plot(ax=ax, alpha=0.5, c='darkgreen', label='median')\n",
    "ds.sel(quantile=0.75).sum(['x','y']).plot(ax=ax, alpha=0.5, c='lightskyblue', label='0.75')\n",
    "\n",
    "# da = xr.open_dataarray('/g/data/os22/chad_tmp/NEE_modelling/results/predictions/'+var+'_2003_2021_5km_LGBM_'+suffix+'.nc')\n",
    "# da.sum(['x','y']).plot(ax=ax, c='darkblue', label='lgbm w/ all training data')\n",
    "# plt.axhline(0, c='grey', linestyle='--')\n",
    "ax.legend()\n",
    "plt.title('Uncertanity modelling, quantiles of ensembles')"
   ]
  },
  {
   "cell_type": "markdown",
   "metadata": {},
   "source": [
    "## Save to netcdf\n",
    "\n",
    "Add attritbutes and naming convention ready for upload to zenodo\n",
    "\n",
    "Need to reproject to 5km for uploading to zenodo as the 1km resolutuion datasets are too large\n"
   ]
  },
  {
   "cell_type": "code",
   "execution_count": null,
   "metadata": {},
   "outputs": [],
   "source": [
    "name = 'Evapotranspiration'\n",
    "version = 'v1.1'"
   ]
  },
  {
   "cell_type": "code",
   "execution_count": null,
   "metadata": {},
   "outputs": [],
   "source": [
    "ds = ds.rename(name)\n",
    "ds.attrs['units'] = 'kg/m2/month'"
   ]
  },
  {
   "cell_type": "code",
   "execution_count": null,
   "metadata": {},
   "outputs": [],
   "source": [
    "ds = ds.to_dataset(dim='quantile').rename({0.25:'ET_25th_percentile', 0.5:'ET_median', 0.75:'ET_75th_percentile', 'x':'longitude', 'y':'latitude'})\n",
    "ds = assign_crs(ds, crs='EPSG:4326')\n",
    "ds"
   ]
  },
  {
   "cell_type": "code",
   "execution_count": null,
   "metadata": {},
   "outputs": [],
   "source": [
    "ds.to_netcdf('/g/data/os22/chad_tmp/NEE_modelling/results/predictions/AusEFlux_'+var+'_2003_2022_1km_quantiles_'+version+'.nc')\n"
   ]
  },
  {
   "cell_type": "markdown",
   "metadata": {},
   "source": [
    "### Reproject to 5km resolution"
   ]
  },
  {
   "cell_type": "code",
   "execution_count": null,
   "metadata": {},
   "outputs": [],
   "source": [
    "from odc.geo.geobox import zoom_out\n",
    "\n",
    "grid = zoom_out(ds.odc.geobox, 5)\n",
    "\n",
    "ds_5km = ds.odc.reproject(how=grid, resampling='average')\n",
    "\n",
    "ds_5km = assign_crs(ds_5km, crs='EPSG:4326')\n",
    "\n",
    "ds_5km.to_netcdf('/g/data/os22/chad_tmp/NEE_modelling/results/predictions/AusEFlux_'+var+'_2003_2022_5km_quantiles_'+version+'.nc')"
   ]
  },
  {
   "cell_type": "markdown",
   "metadata": {},
   "source": [
    "## Map Uncertainty"
   ]
  },
  {
   "cell_type": "code",
   "execution_count": 4,
   "metadata": {},
   "outputs": [],
   "source": [
    "base = '/g/data/os22/chad_tmp/NEE_modelling/results/predictions_uncertainty/'+var+'/'\n",
    "files = os.listdir(base)\n",
    "\n",
    "pred_filepaths = [base+i for i in files if i.endswith('.nc')]"
   ]
  },
  {
   "cell_type": "markdown",
   "metadata": {},
   "source": [
    "### Convert to PgC/year"
   ]
  },
  {
   "cell_type": "code",
   "execution_count": 5,
   "metadata": {},
   "outputs": [],
   "source": [
    "geobox = xr.open_dataarray(pred_filepaths[0]).odc.geobox\n",
    "grid = geobox.to_crs('EPSG:3577')"
   ]
  },
  {
   "cell_type": "code",
   "execution_count": 7,
   "metadata": {},
   "outputs": [],
   "source": [
    "%%time\n",
    "i=0\n",
    "arrs=[]\n",
    "for pred in pred_filepaths:\n",
    "    print(\" {:03}/{:03}\\r\".format(i+1, len(pred_filepaths)), end=\"\")\n",
    "    ds=xr.open_dataarray(pred, chunks=dict(x=1100, y=1100, time=1))\n",
    "    ds = ds.odc.reproject(how=grid,resampling='bilinear').compute()\n",
    "    area_per_pixel = ds.geobox.resolution[1]**2\n",
    "    ds = ds * area_per_pixel * 1e-15 * 12\n",
    "    ds = ds.sel(time=slice('2003','2021')).chunk(dict(x=1100, y=1100)).groupby('time.year').sum().mean('year').compute()\n",
    "    arrs.append(ds.rename(pred[-8:-3]))\n",
    "    i+=1"
   ]
  },
  {
   "cell_type": "code",
   "execution_count": null,
   "metadata": {},
   "outputs": [],
   "source": [
    "ds = xr.merge(arrs)\n",
    "ds = ds.to_array()"
   ]
  },
  {
   "cell_type": "markdown",
   "metadata": {},
   "source": [
    "### Find the median abosulte deviation and coefficient of variation "
   ]
  },
  {
   "cell_type": "code",
   "execution_count": null,
   "metadata": {},
   "outputs": [],
   "source": [
    "median = ds.median(dim='variable')\n",
    "dev = np.abs(ds-median)\n",
    "mad = dev.median(dim='variable').compute()"
   ]
  },
  {
   "cell_type": "code",
   "execution_count": null,
   "metadata": {},
   "outputs": [],
   "source": [
    "cv = mad/median"
   ]
  },
  {
   "cell_type": "code",
   "execution_count": null,
   "metadata": {},
   "outputs": [],
   "source": [
    "median.attrs['units']='PgC/year'\n",
    "mad.attrs['nodata']=np.nan\n",
    "mad = mad.rename('MAD')\n",
    "mad.attrs['units']='PgC/year'\n",
    "mad = mad.where(mad>0)"
   ]
  },
  {
   "cell_type": "markdown",
   "metadata": {},
   "source": [
    "### Save MAD and CV to netcdf"
   ]
  },
  {
   "cell_type": "code",
   "execution_count": null,
   "metadata": {},
   "outputs": [],
   "source": [
    "mad.to_netcdf('/g/data/os22/chad_tmp/NEE_modelling/results/MAD_uncertainty_'+var+'_PgCyear_1km_'+suffix+'.nc')\n",
    "cv.to_netcdf('/g/data/os22/chad_tmp/NEE_modelling/results/Coef_Var_'+var+'_1km_'+suffix+'.nc')"
   ]
  },
  {
   "cell_type": "markdown",
   "metadata": {},
   "source": [
    "### Fraction of agreement"
   ]
  },
  {
   "cell_type": "code",
   "execution_count": null,
   "metadata": {},
   "outputs": [],
   "source": [
    "count_of_sinks = xr.where(ds<0, 1, 0)\n",
    "count_of_sources = xr.where(ds>0, 1, 0)"
   ]
  },
  {
   "cell_type": "code",
   "execution_count": null,
   "metadata": {},
   "outputs": [],
   "source": [
    "count_of_sources = count_of_sources.sum('variable')\n",
    "count_of_sources = count_of_sources / len(ds.variable)"
   ]
  },
  {
   "cell_type": "code",
   "execution_count": null,
   "metadata": {},
   "outputs": [],
   "source": [
    "count_of_sinks = count_of_sinks.sum('variable')\n",
    "count_of_sinks = count_of_sinks / len(ds.variable)\n",
    "# count_of_sinks = count_of_sinks.where(~mask)"
   ]
  },
  {
   "cell_type": "code",
   "execution_count": null,
   "metadata": {},
   "outputs": [],
   "source": [
    "frac_of_agreement = xr.where(median<0, count_of_sinks, count_of_sources)\n",
    "frac_of_agreement = frac_of_agreement.where(frac_of_agreement>0)"
   ]
  },
  {
   "cell_type": "code",
   "execution_count": null,
   "metadata": {},
   "outputs": [],
   "source": [
    "frac_of_agreement.attrs['nodata']=np.nan\n",
    "frac_of_agreement = frac_of_agreement.rename('fraction_of_agreement')"
   ]
  },
  {
   "cell_type": "code",
   "execution_count": null,
   "metadata": {},
   "outputs": [],
   "source": [
    "frac_of_agreement.to_netcdf('/g/data/os22/chad_tmp/NEE_modelling/results/uncertainty/Frac_agreement_'+var+'_1km_'+suffix+'.nc')"
   ]
  },
  {
   "cell_type": "markdown",
   "metadata": {},
   "source": [
    "### Re-open datasets if replotting"
   ]
  },
  {
   "cell_type": "code",
   "execution_count": null,
   "metadata": {},
   "outputs": [],
   "source": [
    "var='ER'\n",
    "suffix='20230320'"
   ]
  },
  {
   "cell_type": "code",
   "execution_count": null,
   "metadata": {},
   "outputs": [],
   "source": [
    "frac_of_agreement = xr.open_dataarray('/g/data/os22/chad_tmp/NEE_modelling/results/uncertainty/Frac_agreement_'+var+'_1km_'+suffix+'.nc')\n",
    "mad = xr.open_dataarray('/g/data/os22/chad_tmp/NEE_modelling/results/uncertainty/MAD_uncertainty_'+var+'_PgCyear_1km_'+suffix+'.nc')\n",
    "cv = xr.open_dataarray('/g/data/os22/chad_tmp/NEE_modelling/results/uncertainty/Coef_Var_'+var+'_1km_'+suffix+'.nc')"
   ]
  },
  {
   "cell_type": "markdown",
   "metadata": {},
   "source": [
    "### Plot"
   ]
  },
  {
   "cell_type": "code",
   "execution_count": null,
   "metadata": {},
   "outputs": [],
   "source": [
    "fontsize=15\n",
    "fig, ax = plt.subplots(1,2, figsize=(14,8), sharey=True, sharex=True)\n",
    "# im = median.where(median!=0).plot.imshow(ax=ax[0,0], vmax=0.000035, vmin=-0.000035, cmap='RdBu',add_labels=False)\n",
    "\n",
    "im = mad.plot.imshow(ax=ax[0], robust=True, cmap='cividis', add_labels=False, add_colorbar=False)\n",
    "cbar = plt.colorbar(im, location='bottom', pad=0.025, ax=ax[0])\n",
    "cbar.set_label(label=var+' PgC/year', size=15, weight='bold')\n",
    "cbar.ax.tick_params(labelsize=15)\n",
    "# cbar.formatter.set_powerlimits((0, 0))\n",
    "\n",
    "im2 = np.abs(cv).plot.imshow(ax=ax[1],vmax=1, vmin=0, cmap='plasma', add_labels=False, add_colorbar=False)\n",
    "cbar2 = plt.colorbar(im2, location='bottom', pad=0.025, ax=ax[1])\n",
    "# cbar2.set_label(label=var+' PgC/year', size=15, weight='bold')\n",
    "cbar2.ax.tick_params(labelsize=15)\n",
    "\n",
    "# frac_of_agreement.plot.imshow(ax=ax[1,1], cmap='viridis_r', robust=True, add_labels=False)\n",
    "# plt.gcf().axes[-2].label.set_fontsize(20)\n",
    "aa = plt.gcf().axes\n",
    "# aa[-4].tick_params(labelsize=fontsize) \n",
    "# aa[-3].tick_params(labelsize=fontsize) \n",
    "aa[-1].tick_params(labelsize=fontsize) \n",
    "aa[-2].tick_params(labelsize=fontsize) \n",
    "# aa[-4].ticklabel_format(style='sci', scilimits=[-4, 6])\n",
    "for a in ax.ravel():\n",
    "    a.set_yticklabels([])\n",
    "    a.set_xticklabels([])\n",
    "\n",
    "# ax[0,0].set_title('Median of Annual Mean NEE Ensembles', fontsize=fontsize)\n",
    "ax[0].set_title('Median Absolute Deviation in Annual Mean '+var+' Ensembles', fontsize=fontsize)\n",
    "ax[1].set_title(var+' Absolute Coefficient of Variation (MAD/Median)', fontsize=fontsize)\n",
    "# ax[1,1].set_title(\"Fraction of Model Ensemble Members where Annual NEE Sign Agrees\",  fontsize=fontsize)\n",
    "plt.tight_layout();\n",
    "plt.savefig('/g/data/os22/chad_tmp/NEE_modelling/results/figs/Uncertainty_perpixel_'+var+'_'+suffix+'.png', bbox_inches='tight')"
   ]
  },
  {
   "cell_type": "code",
   "execution_count": null,
   "metadata": {},
   "outputs": [],
   "source": [
    "fontsize=15\n",
    "fig, ax = plt.subplots(1,2, figsize=(14,8), sharey=True, sharex=True)\n",
    "# im = median.where(median!=0).plot.imshow(ax=ax[0,0], vmax=0.000035, vmin=-0.000035, cmap='RdBu',add_labels=False)\n",
    "\n",
    "im = np.abs(cv).plot.imshow(ax=ax[0], vmax=1, vmin=0, cmap='plasma', add_labels=False, add_colorbar=False)\n",
    "cbar = plt.colorbar(im, location='bottom', pad=0.025, ax=ax[0])\n",
    "cbar.set_label(label=' ', size=15, weight='bold')\n",
    "cbar.ax.tick_params(labelsize=15)\n",
    "# cbar.formatter.set_powerlimits((0, 0))\n",
    "\n",
    "# im2 = np.abs(cv).plot.imshow(ax=ax[1],vmax=1, vmin=0, cmap='plasma', add_labels=False, add_colorbar=False)\n",
    "im2 = frac_of_agreement.plot.imshow(ax=ax[1],vmax=1, vmin=0.5, cmap='viridis_r', add_labels=False, add_colorbar=False)\n",
    "cbar2 = plt.colorbar(im2, location='bottom', pad=0.025, ax=ax[1])\n",
    "# cbar2.set_label(label=var+' PgC/year', size=15, weight='bold')\n",
    "cbar2.ax.tick_params(labelsize=15)\n",
    "\n",
    "# frac_of_agreement.plot.imshow(ax=ax[1,1], cmap='viridis_r', robust=True, add_labels=False)\n",
    "# plt.gcf().axes[-2].label.set_fontsize(20)\n",
    "aa = plt.gcf().axes\n",
    "# aa[-4].tick_params(labelsize=fontsize) \n",
    "# aa[-3].tick_params(labelsize=fontsize) \n",
    "aa[-1].tick_params(labelsize=fontsize) \n",
    "aa[-2].tick_params(labelsize=fontsize) \n",
    "# aa[-4].ticklabel_format(style='sci', scilimits=[-4, 6])\n",
    "for a in ax.ravel():\n",
    "    a.set_yticklabels([])\n",
    "    a.set_xticklabels([])\n",
    "\n",
    "# ax[0,0].set_title('Median of Annual Mean NEE Ensembles', fontsize=fontsize)\n",
    "ax[1].set_title('Fraction of Models where Annual NEE Sign Agrees', fontsize=fontsize)\n",
    "ax[0].set_title(var+' Absolute Coefficient of Variation (MAD/Median)', fontsize=fontsize)\n",
    "# ax[1,1].set_title(\"Fraction of Model Ensemble Members where Annual NEE Sign Agrees\",  fontsize=fontsize)\n",
    "plt.tight_layout();\n",
    "plt.savefig('/g/data/os22/chad_tmp/NEE_modelling/results/figs/Uncertainty_perpixel_frac_of_agreement'+var+'_'+suffix+'.png', bbox_inches='tight')"
   ]
  },
  {
   "cell_type": "code",
   "execution_count": null,
   "metadata": {},
   "outputs": [],
   "source": []
  }
 ],
 "metadata": {
  "kernelspec": {
   "display_name": "Python 3 (ipykernel)",
   "language": "python",
   "name": "python3"
  },
  "language_info": {
   "codemirror_mode": {
    "name": "ipython",
    "version": 3
   },
   "file_extension": ".py",
   "mimetype": "text/x-python",
   "name": "python",
   "nbconvert_exporter": "python",
   "pygments_lexer": "ipython3",
   "version": "3.8.8"
  }
 },
 "nbformat": 4,
 "nbformat_minor": 4
}
