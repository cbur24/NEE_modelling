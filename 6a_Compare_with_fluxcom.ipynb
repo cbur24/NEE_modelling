{
 "cells": [
  {
   "cell_type": "markdown",
   "metadata": {},
   "source": [
    "# Comparing fluxes with other products\n",
    "\n",
    "\n"
   ]
  },
  {
   "cell_type": "code",
   "execution_count": 1,
   "metadata": {},
   "outputs": [],
   "source": [
    "import xarray as xr\n",
    "import matplotlib.pyplot as plt\n",
    "from matplotlib.colors import ListedColormap\n",
    "import odc.geo\n",
    "import numpy as np\n",
    "from odc.geo.xr import assign_crs\n",
    "from odc.algo import xr_reproject\n",
    "\n",
    "import sys\n",
    "sys.path.append('/g/data/os22/chad_tmp/dea-notebooks/Tools')\n",
    "from dea_tools.temporal import allNaN_arg"
   ]
  },
  {
   "cell_type": "markdown",
   "metadata": {},
   "source": [
    "## Analysis Parameters"
   ]
  },
  {
   "cell_type": "code",
   "execution_count": 2,
   "metadata": {},
   "outputs": [],
   "source": [
    "var = 'NEE'\n",
    "var_fc = 'nee'\n",
    "results_name = 'NEE_modelled_2003_2021.nc'"
   ]
  },
  {
   "cell_type": "markdown",
   "metadata": {},
   "source": [
    "### Open datasets"
   ]
  },
  {
   "cell_type": "code",
   "execution_count": 3,
   "metadata": {},
   "outputs": [],
   "source": [
    "ds = xr.open_dataarray('/g/data/os22/chad_tmp/NEE_modelling/results/predictions/'+results_name)\n",
    "ds.attrs['nodata'] = np.nan"
   ]
  },
  {
   "cell_type": "code",
   "execution_count": 4,
   "metadata": {},
   "outputs": [],
   "source": [
    "ds_fc = assign_crs(xr.open_dataset('/g/data/os22/chad_tmp/NEE_modelling/data/FLUXCOM/'+var_fc+'_rs_meteo_era5.nc').sel(time=slice('2003','2018')), crs='epsg:4326')\n",
    "ds_fc = ds_fc.rename({'lat':'latitude', 'lon':'longitude'})\n",
    "ds_fc.attrs['nodata'] = np.nan\n",
    "ds_fc['latitude'] = ds_fc.latitude.astype('float32')\n",
    "ds_fc['longitude'] = ds_fc.longitude.astype('float32')"
   ]
  },
  {
   "cell_type": "code",
   "execution_count": null,
   "metadata": {},
   "outputs": [],
   "source": [
    "modis_gpp = xr.open_dataarray('/g/data/os22/chad_tmp/NEE_modelling/data/1km/MODIS_GPP_1km_monthly_2002_2021.nc')\n",
    "modis_gpp.attrs['nodata'] = np.nan"
   ]
  },
  {
   "cell_type": "code",
   "execution_count": null,
   "metadata": {},
   "outputs": [],
   "source": [
    "gosif_gpp = xr.open_dataarray('/g/data/os22/chad_tmp/NEE_modelling/data/5km/GOSIF_GPP_5km_monthly_2002_2021.nc')\n",
    "gosif_gpp.attrs['nodata'] = np.nan"
   ]
  },
  {
   "cell_type": "code",
   "execution_count": null,
   "metadata": {},
   "outputs": [],
   "source": [
    "evi=xr.open_dataarray('/g/data/os22/chad_tmp/NEE_modelling/data/5km/EVI_5km_monthly_2002_2021.nc')"
   ]
  },
  {
   "cell_type": "code",
   "execution_count": null,
   "metadata": {},
   "outputs": [],
   "source": [
    "grid = xr.open_dataset('/g/data/os22/chad_tmp/NEE_modelling/data/epsg3577_50km_grid.nc')"
   ]
  },
  {
   "cell_type": "markdown",
   "metadata": {},
   "source": [
    "### Reproject datasets to match EPSG:3577 50km grid"
   ]
  },
  {
   "cell_type": "code",
   "execution_count": null,
   "metadata": {},
   "outputs": [],
   "source": [
    "ds = xr_reproject(ds, geobox=grid.geobox, resampling='average')\n",
    "\n",
    "mask = np.isnan(ds.isel(time=1))"
   ]
  },
  {
   "cell_type": "code",
   "execution_count": null,
   "metadata": {},
   "outputs": [],
   "source": [
    "ds_fc = xr_reproject(ds_fc, geobox=grid.geobox, resampling='bilinear')\n",
    "ds_fc = ds_fc[var].where(~mask.astype(bool))\n",
    "ds_fc = ds_fc*30 #/day to /month"
   ]
  },
  {
   "cell_type": "code",
   "execution_count": null,
   "metadata": {},
   "outputs": [],
   "source": [
    "modis_gpp = xr_reproject(modis_gpp, geobox=grid.geobox, resampling='average')\n",
    "\n",
    "modis_gpp = modis_gpp.where(~mask.astype(bool))"
   ]
  },
  {
   "cell_type": "code",
   "execution_count": null,
   "metadata": {},
   "outputs": [],
   "source": [
    "gosif_gpp = xr_reproject(gosif_gpp, geobox=grid.geobox, resampling='average')\n",
    "\n",
    "gosif_gpp = gosif_gpp.where(~mask.astype(bool))"
   ]
  },
  {
   "cell_type": "code",
   "execution_count": null,
   "metadata": {},
   "outputs": [],
   "source": [
    "evi=xr_reproject(evi, geobox=grid.geobox, resampling='average')\n",
    "evi=evi.where(~mask.astype(bool))"
   ]
  },
  {
   "cell_type": "markdown",
   "metadata": {},
   "source": [
    "## Convert to total C in (petagrams) rather than gC/m2\n",
    "\n",
    "Find area of pixels"
   ]
  },
  {
   "cell_type": "code",
   "execution_count": null,
   "metadata": {},
   "outputs": [],
   "source": [
    "area_per_pixel = ds.geobox.resolution[1]**2\n",
    "ds = ds * area_per_pixel * 1e-15\n",
    "ds_fc = ds_fc * area_per_pixel * 1e-15"
   ]
  },
  {
   "cell_type": "code",
   "execution_count": null,
   "metadata": {},
   "outputs": [],
   "source": [
    "modis_gpp = modis_gpp * area_per_pixel * 1e-12\n",
    "gosif_gpp = gosif_gpp * area_per_pixel * 1e-15"
   ]
  },
  {
   "cell_type": "code",
   "execution_count": null,
   "metadata": {},
   "outputs": [],
   "source": [
    "ds_fc.isel(time=1).plot.imshow()"
   ]
  },
  {
   "cell_type": "markdown",
   "metadata": {},
   "source": [
    "## Convert to anomalies"
   ]
  },
  {
   "cell_type": "markdown",
   "metadata": {},
   "source": [
    "Climatology"
   ]
  },
  {
   "cell_type": "code",
   "execution_count": null,
   "metadata": {},
   "outputs": [],
   "source": [
    "import warnings\n",
    "warnings.filterwarnings(\"ignore\")\n",
    "\n",
    "ds_clim_mean = ds.groupby('time.month').mean()\n",
    "ds_clim_mean_annual = ds.resample(time='1Y', label='left', loffset='6M').mean().mean('time')\n",
    "\n",
    "ds_fc_clim_mean = ds_fc.groupby('time.month').mean()\n",
    "ds_fc_clim_mean_annual = ds_fc.resample(time='1Y', label='left', loffset='6M').mean().mean('time')"
   ]
  },
  {
   "cell_type": "code",
   "execution_count": null,
   "metadata": {},
   "outputs": [],
   "source": [
    "modis_gpp_clim_mean = modis_gpp.groupby('time.month').mean()\n",
    "modis_gpp_clim_mean_annual = modis_gpp.resample(time='1Y', label='left', loffset='6M').mean().mean('time')\n",
    "\n",
    "gosif_gpp_clim_mean = gosif_gpp.groupby('time.month').mean()\n",
    "gosif_gpp_clim_mean_annual = gosif_gpp.resample(time='1Y', label='left', loffset='6M').mean().mean('time')"
   ]
  },
  {
   "cell_type": "markdown",
   "metadata": {},
   "source": [
    "Anomalies"
   ]
  },
  {
   "cell_type": "code",
   "execution_count": null,
   "metadata": {},
   "outputs": [],
   "source": [
    "ds_anom = (ds.groupby('time.month') - ds_clim_mean)\n",
    "ds_fc_anom = (ds_fc.groupby('time.month') - ds_fc_clim_mean)"
   ]
  },
  {
   "cell_type": "code",
   "execution_count": null,
   "metadata": {},
   "outputs": [],
   "source": [
    "modis_gpp_anom = (modis_gpp.groupby('time.month') - modis_gpp_clim_mean)\n",
    "gosif_gpp_anom = (gosif_gpp.groupby('time.month') - gosif_gpp_clim_mean)"
   ]
  },
  {
   "cell_type": "markdown",
   "metadata": {},
   "source": [
    "## Zonal summaries"
   ]
  },
  {
   "cell_type": "markdown",
   "metadata": {},
   "source": [
    "### Monthly"
   ]
  },
  {
   "cell_type": "code",
   "execution_count": null,
   "metadata": {},
   "outputs": [],
   "source": [
    "ds_1D = ds_anom.sum(['x','y'])\n",
    "ds_fc_1D = ds_fc_anom.sum(['x','y'])"
   ]
  },
  {
   "cell_type": "code",
   "execution_count": null,
   "metadata": {},
   "outputs": [],
   "source": [
    "modis_gpp_1D = modis_gpp_anom.sum(['x','y'])\n",
    "gosif_gpp_1D = gosif_gpp_anom.sum(['x','y'])"
   ]
  },
  {
   "cell_type": "code",
   "execution_count": null,
   "metadata": {},
   "outputs": [],
   "source": [
    "import matplotlib \n",
    "matplotlib.rcParams.update({'font.size': 16})\n",
    "\n",
    "fig, ax = plt.subplots(1,1, figsize=(15,7))\n",
    "ax.plot(ds_fc_1D.time.values, ds_fc_1D, linestyle='--', label='Fluxcom '+var, alpha=0.75)\n",
    "# ax.plot(modis_gpp_1D.time.values, modis_gpp_1D, linestyle='--', label='MODIS '+var, alpha=0.75)\n",
    "# ax.plot(gosif_gpp_1D.time.values, gosif_gpp_1D, linestyle='--', label='GOSIF '+var, alpha=0.75)\n",
    "ax.plot(ds_1D.time.values, ds_1D,  label='This study '+var)\n",
    "ax.legend(loc='upper left')\n",
    "ax.set_ylabel('Carbon Flux Anomaly PgC/month');\n",
    "# ax.set_ylim(-0.175, 0.175)\n",
    "\n",
    "# ax2=ax.twinx()\n",
    "# # ax2.plot(evi_1D.time.values, evi_1D, label='MODIS-EVI', color='c', )\n",
    "# ax2.legend(loc='upper right')\n",
    "# ax2.set_ylim(-0.05, 0.05)\n",
    "# ax2.set_ylabel('EVI Anomaly');\n",
    "\n",
    "plt.axhline(0, c='grey');\n",
    "# plt.title(var);\n",
    "\n"
   ]
  },
  {
   "cell_type": "markdown",
   "metadata": {},
   "source": [
    "### Annual"
   ]
  },
  {
   "cell_type": "code",
   "execution_count": null,
   "metadata": {},
   "outputs": [],
   "source": [
    "ds_1D_annual = ds_anom.resample(time='1Y', label='left', loffset='6M').sum().sum(['x','y'])\n",
    "ds_fc_1D_annual = ds_fc_anom.resample(time='1Y', label='left', loffset='6M').sum().sum(['x','y'])\n"
   ]
  },
  {
   "cell_type": "code",
   "execution_count": null,
   "metadata": {},
   "outputs": [],
   "source": [
    "modis_gpp_annual = modis_gpp_anom.resample(time='1Y', label='left', loffset='6M').sum().sum(['x','y'])\n",
    "gosif_gpp_annual = gosif_gpp_anom.resample(time='1Y', label='left', loffset='6M').sum().sum(['x','y'])\n",
    "# evi_annual = evi.resample(time='1Y', label='left', loffset='6M').mean().sum(['x','y'])\n"
   ]
  },
  {
   "cell_type": "code",
   "execution_count": null,
   "metadata": {
    "tags": []
   },
   "outputs": [],
   "source": [
    "\n",
    "fig, ax = plt.subplots(1,1, figsize=(15,7))\n",
    "ax.plot(ds_fc_1D_annual.time.values, ds_fc_1D_annual, linestyle='--', label='Fluxcom ' +var, alpha=0.75)\n",
    "# ax.plot(modis_gpp_annual.time.values, modis_gpp_annual,linestyle='--', label='MODIS '+var, alpha=0.75)\n",
    "# ax.plot(gosif_gpp_annual.time.values, gosif_gpp_annual, linestyle='--', label='GOSIF '+var, alpha=0.75)\n",
    "ax.plot(ds_1D_annual.time.values, ds_1D_annual, label='This study '+var)\n",
    "# ax.set_ylim(-1.1, 1.1)\n",
    "ax.legend(loc='upper left')\n",
    "ax.set_ylabel('Carbon Flux Anomaly PgC/year')\n",
    "plt.axhline(0, c='grey');\n",
    "\n",
    "# ax2=ax.twinx()\n",
    "# ax2.plot(evi_annual.time.values, evi_annual, marker='o', linestyle='--', label='MODIS-EVI', color='c')\n",
    "# ax2.legend(loc='upper left')\n",
    "# ax2.set_ylabel('EVI Anomaly');"
   ]
  },
  {
   "cell_type": "markdown",
   "metadata": {},
   "source": [
    "## Month of maximum flux"
   ]
  },
  {
   "cell_type": "code",
   "execution_count": null,
   "metadata": {},
   "outputs": [],
   "source": [
    "y = ds_clim_mean.where(~mask).sum(['x','y']).values\n",
    "x = ds_clim_mean.month.values\n",
    "\n",
    "y_fc = ds_fc_clim_mean.where(~mask).sum(['x','y']).values\n",
    "x_fc = ds_fc_clim_mean.month.values\n",
    "\n",
    "# y_modis_gpp = modis_gpp_clim_mean.where(~mask).sum(['x','y']).values\n",
    "# x_modis_gpp = modis_gpp_clim_mean.month.values\n",
    "\n",
    "# y_gosif_gpp = gosif_gpp_clim_mean.where(~mask).sum(['x','y']).values\n",
    "# x_gosif_gpp = gosif_gpp_clim_mean.month.values\n",
    "\n",
    "fig,ax = plt.subplots(1,1, figsize=(15,7))\n",
    "ax.plot(x_fc, y_fc, linestyle='--', label='Fluxcom '+var, alpha=0.75)\n",
    "# ax.plot(x_modis_gpp, y_modis_gpp,  linestyle='--', label='MODIS '+var, alpha=0.75)\n",
    "# ax.plot(x_gosif_gpp, y_gosif_gpp,  linestyle='--', label='GOSIF '+var, alpha=0.75)\n",
    "ax.plot(x, y, label='This study '+var)\n",
    "\n",
    "# ax.axhline(0, c='grey')\n",
    "\n",
    "# ax.fill_between(x_fc, y_fc-std_fc, y_fc+std_fc, alpha=0.5)\n",
    "# ax.fill_between(x, y-std, y+std, alpha=0.5)\n",
    "\n",
    "ax.legend(loc='upper right')\n",
    "# ax.set_title(var+' Climatology')\n",
    "ax.set_xlabel('Month')\n",
    "ax.set_xticks(range(1,13))\n",
    "ax.set_xticklabels([\"J\",\"F\",\"M\",\"A\",\"M\",\"J\",\"J\",\"A\",\"S\",\"O\",\"N\",\"D\"])             \n",
    "ax.set_ylabel('Climatological '+var+' PgC/month');\n"
   ]
  },
  {
   "cell_type": "code",
   "execution_count": null,
   "metadata": {},
   "outputs": [],
   "source": [
    "if var == 'NEE':\n",
    "    max_mean_month = allNaN_arg(ds_clim_mean, 'month', 'min')\n",
    "    max_mean_month_fc = allNaN_arg(ds_fc_clim_mean, 'month', 'min')\n",
    "    # max_mean_month_modis = allNaN_arg(modis_gpp_clim_mean, 'month', 'min')\n",
    "    # max_mean_month_gosif = allNaN_arg(gosif_gpp_clim_mean, 'month', 'min')\n",
    "    #max_mean_season = allNaN_arg(monthly_season, 'season', 'min')\n",
    "else:\n",
    "    max_mean_month = allNaN_arg(ds_clim_mean, 'month', 'max')\n",
    "    max_mean_month_fc = allNaN_arg(ds_fc_clim_mean, 'month', 'max')\n",
    "    max_mean_month_modis = allNaN_arg(modis_gpp_clim_mean, 'month', 'max')\n",
    "    max_mean_month_gosif = allNaN_arg(gosif_gpp_clim_mean, 'month', 'max')\n",
    "    #max_mean_season = allNaN_arg(monthly_season, 'season', 'max')"
   ]
  },
  {
   "cell_type": "code",
   "execution_count": null,
   "metadata": {},
   "outputs": [],
   "source": [
    "fig,ax = plt.subplots(1,2, figsize=(20,10), sharey=True, sharex=True)\n",
    "\n",
    "im = max_mean_month.plot.imshow(vmin=1, vmax=12, ax=ax[0], cmap='twilight', add_colorbar=False)\n",
    "ax[0].set_title('This Study '+var, fontsize=20);\n",
    "\n",
    "im = max_mean_month_fc.plot.imshow(vmin=1, vmax=12, ax=ax[1], cmap='twilight', add_colorbar=False)\n",
    "ax[1].set_title('Fluxcom '+var, fontsize=20);\n",
    "\n",
    "# im = max_mean_month_modis.plot.imshow(vmin=1, vmax=12, ax=ax[1,0], cmap='twilight', add_colorbar=False)\n",
    "# ax[1,0].set_title('MODIS '+var, fontsize=20);\n",
    "\n",
    "# im = max_mean_month_gosif.plot.imshow(vmin=1, vmax=12, ax=ax[1,1], cmap='twilight', add_colorbar=False)\n",
    "# ax[1,1].set_title('GOSIF '+var, fontsize=20);\n",
    "\n",
    "cbar = fig.colorbar(im, spacing='uniform', ax=ax.ravel().tolist(), orientation='horizontal', shrink=0.4)\n",
    "cbar.set_ticks([1,2,3,4,5,6,7,8,9,10,11,12])\n",
    "cbar.set_ticklabels([\"J\",\"F\",\"M\",\"A\",\"M\",\"J\",\"J\",\"A\",\"S\",\"O\",\"N\",\"D\"], fontsize=20)\n",
    "\n",
    "plt.savefig('/g/data/os22/chad_tmp/NEE_modelling/results/figs/month_of_max_'+var+'.png')\n"
   ]
  },
  {
   "cell_type": "code",
   "execution_count": null,
   "metadata": {},
   "outputs": [],
   "source": []
  },
  {
   "cell_type": "code",
   "execution_count": null,
   "metadata": {},
   "outputs": [],
   "source": []
  }
 ],
 "metadata": {
  "kernelspec": {
   "display_name": "Python 3 (ipykernel)",
   "language": "python",
   "name": "python3"
  },
  "language_info": {
   "codemirror_mode": {
    "name": "ipython",
    "version": 3
   },
   "file_extension": ".py",
   "mimetype": "text/x-python",
   "name": "python",
   "nbconvert_exporter": "python",
   "pygments_lexer": "ipython3",
   "version": "3.8.8"
  }
 },
 "nbformat": 4,
 "nbformat_minor": 4
}
