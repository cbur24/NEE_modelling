{
 "cells": [
  {
   "cell_type": "markdown",
   "metadata": {},
   "source": [
    "# Collecting various gridded datasets to use as predictors in a NEE model\n",
    "\n",
    "- ANU climate data\n",
    "- MODIS LAI\n",
    "- Soil moisture from GRAFS\n",
    "\n",
    "Results are saved to `/g/data/os22/chad_tmp/NEE_modelling/results/input_data/input_data_<YYYY>.nc`"
   ]
  },
  {
   "cell_type": "code",
   "execution_count": null,
   "metadata": {},
   "outputs": [],
   "source": [
    "# !pip install xarray\n",
    "# !pip install datacube\n",
    "# !pip install --extra-index-url=\"https://packages.dea.ga.gov.au\" \\\n",
    "#   odc-algo\n",
    "\n",
    "# !pip install rioxarray\n",
    "# !pip install odc-geo\n",
    "# !pip install dea_tools\n",
    "# !pip install joblib\n",
    "# !pip install tqdm\n",
    "# !pip install geopandas\n",
    "# !pip install -U scikit-learn\n",
    "# !pip install dask-ml"
   ]
  },
  {
   "cell_type": "code",
   "execution_count": null,
   "metadata": {},
   "outputs": [],
   "source": [
    "from datacube.utils.dask import start_local_dask\n",
    "import sys\n",
    "sys.path.append('/g/data/os22/chad_tmp/NEE_modelling/')\n",
    "from collect_gridded_data import collect_gridded_data"
   ]
  },
  {
   "cell_type": "code",
   "execution_count": null,
   "metadata": {},
   "outputs": [
    {
     "name": "stdout",
     "output_type": "stream",
     "text": [
      "<Client: 'tcp://127.0.0.1:43781' processes=1 threads=16, memory=44.92 GiB>\n"
     ]
    }
   ],
   "source": [
    "client = start_local_dask(mem_safety_margin='2Gb')\n",
    "print(client)"
   ]
  },
  {
   "cell_type": "markdown",
   "metadata": {},
   "source": [
    "## Analysis Parameters"
   ]
  },
  {
   "cell_type": "code",
   "execution_count": null,
   "metadata": {},
   "outputs": [],
   "source": [
    "time=('2019')"
   ]
  },
  {
   "cell_type": "code",
   "execution_count": null,
   "metadata": {},
   "outputs": [],
   "source": [
    "%%time\n",
    "data = collect_gridded_data(time=time, chunks=dict(lat=1000, lon=1000))"
   ]
  },
  {
   "cell_type": "markdown",
   "metadata": {},
   "source": [
    "---\n",
    "---\n",
    "## Try to stich together SIF"
   ]
  },
  {
   "cell_type": "code",
   "execution_count": null,
   "metadata": {},
   "outputs": [],
   "source": [
    "import xarray as xr\n",
    "import rioxarray\n",
    "from odc.geo.xr import assign_crs\n",
    "import pandas as pd\n",
    "import numpy as np\n",
    "import os"
   ]
  },
  {
   "cell_type": "code",
   "execution_count": null,
   "metadata": {},
   "outputs": [],
   "source": [
    "base='/g/data/os22/chad_tmp/NEE_modelling/data/SIF/GOSIF/'\n",
    "\n",
    "arrs=[]\n",
    "files = os.listdir(base)\n",
    "i = 0\n",
    "for f in files:\n",
    "    print(\" Tif {:03}/{:03}\\r\".format(i + 1, len(files)), end=\"\")\n",
    "    if f.endswith('.tif'):\n",
    "        y=f[-12:-8]\n",
    "        m=f[-6:-4]\n",
    "        sif = rioxarray.open_rasterio(base+f).squeeze().drop('band')\n",
    "        sif = assign_crs(sif, crs='epsg:4326')\n",
    "        time=pd.date_range(np.datetime64(y+'-'+m), periods=1, freq=\"MS\") + pd.Timedelta(14, 'd')\n",
    "        sif = sif.expand_dims(time=time) \n",
    "        sif = sif.where(sif < 32766) # clean up dataset\n",
    "        sif = sif.sel(x=slice(110,155)).sel(y=slice(-8,-45)).astype('float32') #Australia only\n",
    "        arrs.append(sif)\n",
    "        i += 1\n",
    "        \n",
    "sif = xr.concat(arrs, dim='time').sortby('time')\n",
    "sif = xr.where(sif < 0, 0, sif) #replace -ve values with 0\n",
    "sif.name = 'SIF'\n",
    "sif.to_netcdf('/g/data/os22/chad_tmp/NEE_modelling/data/SIF/GOSIF_2000_2020.nc')"
   ]
  },
  {
   "cell_type": "code",
   "execution_count": null,
   "metadata": {},
   "outputs": [],
   "source": []
  },
  {
   "cell_type": "markdown",
   "metadata": {},
   "source": [
    "## MODIS Land surface temp"
   ]
  },
  {
   "cell_type": "code",
   "execution_count": 5,
   "metadata": {},
   "outputs": [],
   "source": [
    "base='/g/data/ub8/au/MODIS/mosaic/MYD11A1.006/'\n",
    "files = os.listdir(base)\n",
    "paths = [base+i for i in files if not 'QC' in i]"
   ]
  },
  {
   "cell_type": "code",
   "execution_count": 6,
   "metadata": {},
   "outputs": [],
   "source": [
    "for p in paths:\n",
    "    y=p[-7:-3] #year\n",
    "    lst = xr.open_dataset('/g/data/ub8/au/MODIS/mosaic/MYD11A1.006/MYD11A1.006.LST_Day_1km.2020.nc',\n",
    "                          chunks=dict(latitude=1000, longitude=1000))\n",
    "    lst = assign_crs(lst, crs='epsg:4326')\n",
    "    lst = lst.resample(time='MS', loffset=pd.Timedelta(14, 'd')).mean().compute()\n",
    "    lst = lst.LST_Day_1km.rename('LST')\n",
    "    lst.to_netcdf('/g/data/os22/chad_tmp/NEE_modelling/data/LST/LST_'+y+'.nc')\n",
    "    "
   ]
  },
  {
   "cell_type": "markdown",
   "metadata": {},
   "source": [
    "## MODIS fPAR\n",
    "data here goes to 2017-03: /g/data/u39/public/data/modis/lpdaac-mosaics-cmar/v2-nc4/aust/MOD15A2.005"
   ]
  },
  {
   "cell_type": "code",
   "execution_count": null,
   "metadata": {},
   "outputs": [],
   "source": []
  },
  {
   "cell_type": "code",
   "execution_count": null,
   "metadata": {},
   "outputs": [],
   "source": []
  },
  {
   "cell_type": "markdown",
   "metadata": {},
   "source": [
    "## fPAR from GEE\n",
    "\n",
    "https://github.com/aazuspan/wxee/blob/main/docs/examples/image_collection_to_xarray.ipynb\n",
    "\n",
    "https://github.com/aazuspan/wxee/blob/main/docs/examples/modis.ipynb"
   ]
  },
  {
   "cell_type": "code",
   "execution_count": null,
   "metadata": {},
   "outputs": [],
   "source": [
    "!pip install earthengine-api\n",
    "!pip install wxee"
   ]
  },
  {
   "cell_type": "code",
   "execution_count": null,
   "metadata": {},
   "outputs": [],
   "source": [
    "import ee\n",
    "import wxee"
   ]
  },
  {
   "cell_type": "code",
   "execution_count": null,
   "metadata": {},
   "outputs": [],
   "source": [
    "# Trigger the authentication flow.\n",
    "ee.Authenticate()\n",
    "\n",
    "# Initialize the library.\n",
    "ee.Initialize()"
   ]
  },
  {
   "cell_type": "code",
   "execution_count": null,
   "metadata": {},
   "outputs": [],
   "source": [
    "ts = wxee.TimeSeries(\"MODIS/061/MCD15A3H\").filterDate(\"2020-03\", \"2020-09\")\n",
    "ts = ts.select([\"Fpar\"])\n",
    "\n",
    "ts.describe()"
   ]
  },
  {
   "cell_type": "code",
   "execution_count": null,
   "metadata": {},
   "outputs": [],
   "source": [
    "countries = ee.FeatureCollection(\"FAO/GAUL_SIMPLIFIED_500m/2015/level0\")\n",
    "aus = countries.filterMetadata(\"ADM0_NAME\", \"equals\", \"Australia\")"
   ]
  },
  {
   "cell_type": "code",
   "execution_count": null,
   "metadata": {},
   "outputs": [],
   "source": [
    "ds = ts.wx.to_xarray(region=aus.geometry().bounds(), scale=0.01, crs=\"EPSG:4326\")"
   ]
  },
  {
   "cell_type": "markdown",
   "metadata": {},
   "source": [
    "## AWRA"
   ]
  },
  {
   "cell_type": "code",
   "execution_count": null,
   "metadata": {},
   "outputs": [],
   "source": [
    "# var='rain_day'\n",
    "# flux = xr.open_dataset('/g/data/fj8/public/BoM/AWRA/Outputs/DailyScheduledRun/processed/values/month/'+var+'.nc')\n",
    "# flux.isel(time=2)[var].plot.imshow()"
   ]
  }
 ],
 "metadata": {
  "kernelspec": {
   "display_name": "Python 3 (ipykernel)",
   "language": "python",
   "name": "python3"
  },
  "language_info": {
   "codemirror_mode": {
    "name": "ipython",
    "version": 3
   },
   "file_extension": ".py",
   "mimetype": "text/x-python",
   "name": "python",
   "nbconvert_exporter": "python",
   "pygments_lexer": "ipython3",
   "version": "3.9.2"
  }
 },
 "nbformat": 4,
 "nbformat_minor": 4
}
