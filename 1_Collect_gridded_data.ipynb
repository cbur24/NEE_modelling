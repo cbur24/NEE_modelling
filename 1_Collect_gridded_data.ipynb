{
 "cells": [
  {
   "cell_type": "markdown",
   "metadata": {},
   "source": [
    "# Collecting/Processing various gridded datasets to use in CO2 flux models\n"
   ]
  },
  {
   "cell_type": "markdown",
   "metadata": {},
   "source": [
    "## Process Metz et al 2023\n",
    "\n",
    "https://www.science.org/doi/full/10.1126/science.add7833?casa_token=UrFzs8I_3LoAAAAA%3ANxpZIIHnv5wXvp7e-Dak3QDoYrEJcziNlhhNkUUUUKnBuQIckmIYgnJAhVCXNsmb0eYk7CKjR743#supplementary-materials"
   ]
  },
  {
   "cell_type": "code",
   "execution_count": null,
   "metadata": {},
   "outputs": [],
   "source": [
    "import pandas as pd"
   ]
  },
  {
   "cell_type": "code",
   "execution_count": null,
   "metadata": {},
   "outputs": [],
   "source": [
    "df = pd.read_csv('/g/data/os22/chad_tmp/NEE_modelling/data/metz_2023/aus_transcom_carbon_flux_metz_2023.csv')\n",
    "# df = pd.read_csv('/g/data/os22/chad_tmp/NEE_modelling/data/metz_2023/semi_arid_aus_carbon_flux.csv')\n",
    "flux = 'TM5-4DVAR+ACOS/GOSAT' #'TM5-4DVAR+ACOS/GOSAT #TM5-4DVAR+RemoTeC/GOSAT"
   ]
  },
  {
   "cell_type": "code",
   "execution_count": null,
   "metadata": {},
   "outputs": [],
   "source": [
    "df = df[['Year','Month', flux]]\n",
    "df[flux] = (df[flux]/1000) * 12\n",
    "df['day'] = 15\n",
    "df['time'] = pd.to_datetime(df[['Year', 'Month','day']])\n",
    "df = df.drop(['Year', 'Month', 'day'], axis=1).set_index('time', drop=True).rename({flux: 'GOSAT_INVERSION'}, axis=1)\n",
    "df.head()"
   ]
  },
  {
   "cell_type": "code",
   "execution_count": null,
   "metadata": {},
   "outputs": [],
   "source": [
    "df.plot();"
   ]
  },
  {
   "cell_type": "code",
   "execution_count": null,
   "metadata": {},
   "outputs": [],
   "source": [
    "df.to_csv('/g/data/os22/chad_tmp/NEE_modelling/data/metz_2023/aus_transcom_gosat_inversion_PgCyear.csv')"
   ]
  },
  {
   "cell_type": "markdown",
   "metadata": {},
   "source": [
    "## fPAR from vegetation indices\n",
    "\n",
    "Donohue (2014):\n",
    "\n",
    "`f = 0.95(V-Vn) / (Vx -Vn)`\n",
    "\n",
    "where Vn and Vx are the minimum (bare soil) and maximum (full cover) NDVI Thresholds.  In the Donohue paper, they use a fixed value of 0.12 and 0.81 for the whole continent.  \n",
    "\n",
    "Lets test if using kNDVI works better, and let's see if we can use per-pixel derived values for Vn and Vx using the 98% and 2% of the NDVI frequency distributions\n",
    "\n",
    "I could derive a per-landcover min and max using one of the better landcover dataset\n",
    "\n",
    "We can derive thresholds by finding the maximum kNDVI over high kNDVI areas, and the opposite for minimum kNDVI.\n"
   ]
  },
  {
   "cell_type": "code",
   "execution_count": null,
   "metadata": {},
   "outputs": [],
   "source": [
    "import xarray as xr\n",
    "from odc.geo.xr import assign_crs\n",
    "import numpy as np\n",
    "import matplotlib.pyplot as plt\n",
    "\n",
    "import sys\n",
    "sys.path.append('/g/data/os22/chad_tmp/NEE_modelling/')\n",
    "from _percentile import xr_quantile\n",
    "\n",
    "from datacube.utils.dask import start_local_dask\n",
    "client = start_local_dask(mem_safety_margin='2Gb')\n",
    "client"
   ]
  },
  {
   "cell_type": "code",
   "execution_count": null,
   "metadata": {},
   "outputs": [],
   "source": [
    "# quants = ds.quantile([0.02, 0.98], method='nearest')\n",
    "quants = xr_quantile(ds, quantiles=[0.02,0.98], nodata=np.nan)\n",
    "quants = quants.compute()\n",
    "\n",
    "kNDVImin = quants.sel(quantile='0.02').to_array(name='kNDVImin').squeeze().drop('variable')\n",
    "kNDVImax = quants.sel(quantile='0.98').to_array(name='kNDVImax').squeeze().drop('variable')\n",
    "\n",
    "#per pixel min max\n",
    "# fpar = ((ds-kNDVImin)*0.95) / (kNDVImax - kNDVImin)\n",
    "\n",
    "#invariant min max\n",
    "fpar = ((ds-kNDVImin.mean().values)*0.95) / (kNDVImax.max().values - kNDVImin.mean().values)\n",
    "fpar = fpar.persist()\n",
    "\n",
    "fpar_u = fpar.mean('time').compute()\n",
    "fpar_1d = fpar.mean(['latitude', 'longitude']).compute()\n",
    "\n",
    "mod = xr.open_dataarray('/g/data/os22/chad_tmp/NEE_modelling/data/1km/FPAR_1km_monthly_2002_2021.nc',\n",
    "                       chunks={'latitude':1100, 'longitude':1100})\n",
    "mod = mod.persist()\n",
    "\n",
    "mod_u = mod.mean('time').compute()\n",
    "mod_1d = mod.mean(['latitude', 'longitude']).compute()\n",
    "\n",
    "fig,ax = plt.subplots(1,2, figsize=(25,10))\n",
    "fpar_u.plot.imshow(ax=ax[0], vmin=0.1, vmax=0.7)\n",
    "(mod_u/100).plot.imshow(ax=ax[1], vmin=0.1, vmax=0.7)\n",
    "ax[0].set_title('Mean fPAR derived from kNDVI (2002-2021)')\n",
    "ax[1].set_title('Mean fPAR from MODIS (2002-2021)')\n",
    "plt.tight_layout()\n",
    "\n",
    "fig,ax = plt.subplots(1,1, figsize=(15,5))\n",
    "fpar_1d.plot(linestyle='-', ax=ax, label='kNDVI fPAR')\n",
    "(mod_1d/100).plot(linestyle='-', ax=ax, label='MODIS fPAR')\n",
    "ax.legend(loc='lower right')\n",
    "ax.set_title('fPAR')"
   ]
  },
  {
   "cell_type": "markdown",
   "metadata": {},
   "source": [
    "### Process Donohue's fPAR and DIFFUSE GPP data\n",
    "\n",
    "kindly sent to me over oneDrive"
   ]
  },
  {
   "cell_type": "code",
   "execution_count": null,
   "metadata": {},
   "outputs": [],
   "source": [
    "import xarray as xr\n",
    "from datetime import datetime\n",
    "from odc.geo.xr import assign_crs\n",
    "from odc.algo import xr_reproject\n",
    "import numpy as np\n",
    "import pandas as pd\n",
    "import os\n",
    "import matplotlib.pyplot as plt\n",
    "\n",
    "from datacube.utils.dask import start_local_dask\n",
    "client = start_local_dask(mem_safety_margin='2Gb')\n",
    "client"
   ]
  },
  {
   "cell_type": "code",
   "execution_count": null,
   "metadata": {},
   "outputs": [],
   "source": [
    "!rm -r -f /g/data/os22/chad_tmp/NEE_modelling/data/fPAR_interim/.ipynb_checkpoints"
   ]
  },
  {
   "cell_type": "code",
   "execution_count": null,
   "metadata": {},
   "outputs": [],
   "source": [
    "base='/g/data/os22/chad_tmp/NEE_modelling/data/DIFFUSE/'\n",
    "j=0\n",
    "for y in range(2005, 2022):\n",
    "    print(\" {:03}/{:03}\\r\".format(j + 1, len(range(2004, 2022))), end=\"\")\n",
    "    _y = str(y)+'/'\n",
    "    l = []\n",
    "    for i in os.listdir(base+_y):\n",
    "        if i.endswith(\".tif\"):\n",
    "            l.append(base+_y+i)\n",
    "    \n",
    "    arrs=[]\n",
    "    l.sort()\n",
    "    for i in l:\n",
    "        ds = xr.open_dataarray(i, chunks={'x':5000, 'y':5000}).squeeze().drop('band')\n",
    "        time = datetime.strptime(str(y) + \"-\" + i[-7:-4], \"%Y-%j\")\n",
    "        time = np.datetime64(time)\n",
    "        ds = ds.expand_dims(time=[time])\n",
    "        ds = assign_crs(ds, crs='epsg:4326')\n",
    "        ds = ds.rename('DIFFUSE_GPP')\n",
    "        arrs.append(ds)\n",
    "        \n",
    "    dss = xr.concat(arrs, dim='time').sortby('time')\n",
    "    dss.attrs['nodata'] = np.nan\n",
    "    da=xr.open_dataset('/g/data/os22/chad_tmp/NEE_modelling/data/1km/C4percent_1km_monthly_2002_2021.nc').isel(time=1)\n",
    "    dss=dss.where(dss>=-800)\n",
    "    ds.attrs['nodata'] = np.nan\n",
    "    dss = xr_reproject(dss, da.geobox, resampling='average')#.compute()\n",
    "    dss['latitude'] = dss.latitude.astype('float32')\n",
    "    dss['longitude'] = dss.longitude.astype('float32')\n",
    "    dss['latitude'] = np.array([round(i,4) for i in dss.latitude.values])\n",
    "    dss['longitude'] = np.array([round(i,4) for i in dss.longitude.values])\n",
    "    dss = dss.resample(time='MS', loffset=pd.Timedelta(14, 'd')).mean()\n",
    "    dss.attrs['nodata'] = np.nan\n",
    "    dss = dss/100\n",
    "    dss=dss.compute()\n",
    "    dss.to_netcdf('/g/data/os22/chad_tmp/NEE_modelling/data/fPAR_interim/'+str(y)+'.nc')\n",
    "    j=j+1"
   ]
  },
  {
   "cell_type": "code",
   "execution_count": null,
   "metadata": {},
   "outputs": [],
   "source": [
    "base='/g/data/os22/chad_tmp/NEE_modelling/data/fPAR_interim/'\n",
    "ds = xr.open_mfdataset([base+i for i in os.listdir(base) if i.endswith(\".nc\")])\n",
    "ds.attrs['nodata'] = np.nan"
   ]
  },
  {
   "cell_type": "code",
   "execution_count": null,
   "metadata": {},
   "outputs": [],
   "source": [
    "ds.DIFFUSE_GPP.isel(time=1).plot.imshow(size=6, robust=True)"
   ]
  },
  {
   "cell_type": "code",
   "execution_count": null,
   "metadata": {},
   "outputs": [],
   "source": [
    "ds.to_netcdf('/g/data/os22/chad_tmp/NEE_modelling/data/1km/DIFFUSE_GPP_1km_monthly_2003_2021.nc')"
   ]
  },
  {
   "cell_type": "code",
   "execution_count": null,
   "metadata": {},
   "outputs": [],
   "source": [
    "gpp_1d = ds.DIFFUSE_GPP.mean(['latitude', 'longitude']).compute()"
   ]
  },
  {
   "cell_type": "code",
   "execution_count": null,
   "metadata": {},
   "outputs": [],
   "source": [
    "gpp_1d.plot(figsize=(11,5))"
   ]
  },
  {
   "cell_type": "code",
   "execution_count": null,
   "metadata": {},
   "outputs": [],
   "source": [
    "fpar_u = ds.fPAR.mean('time').compute()\n",
    "fpar_1d = ds.fPAR.mean(['latitude', 'longitude']).compute()"
   ]
  },
  {
   "cell_type": "code",
   "execution_count": null,
   "metadata": {},
   "outputs": [],
   "source": [
    "mod = xr.open_dataarray('/g/data/os22/chad_tmp/NEE_modelling/data/1km/FPAR_1km_monthly_2002_2021.nc',\n",
    "                       chunks={'latitude':1100, 'longitude':1100})\n",
    "mod = mod.persist()\n",
    "\n",
    "mod_u = mod.mean('time').compute()\n",
    "mod_1d = mod.mean(['latitude', 'longitude']).compute()"
   ]
  },
  {
   "cell_type": "code",
   "execution_count": null,
   "metadata": {},
   "outputs": [],
   "source": [
    "fig,ax = plt.subplots(1,2, figsize=(25,10))\n",
    "fpar_u.plot.imshow(ax=ax[0], vmin=0.0, vmax=0.8)\n",
    "(mod_u/100).plot.imshow(ax=ax[1], vmin=0.0, vmax=0.8)\n",
    "ax[0].set_title('Mean fPAR derived from NDVI (2002-2021)')\n",
    "ax[1].set_title('Mean fPAR from MODIS (2002-2021)')\n",
    "plt.tight_layout()"
   ]
  },
  {
   "cell_type": "code",
   "execution_count": null,
   "metadata": {},
   "outputs": [],
   "source": [
    "fig,ax = plt.subplots(1,1, figsize=(15,5))\n",
    "fpar_1d.plot(linestyle='-', ax=ax, label='NDVI fPAR')\n",
    "(mod_1d/100).plot(linestyle='-', ax=ax, label='MODIS fPAR')\n",
    "ax.legend(loc='lower right')\n",
    "ax.set_title('fPAR')"
   ]
  },
  {
   "cell_type": "markdown",
   "metadata": {},
   "source": [
    "## Bioclimatic regions from RECAPP\n",
    "\n",
    "Plot with EC sites over the top\n",
    "\n",
    "Yohanna sent these files as `.hdr`, converted into a netcdf with `gdal_translate -of netCDF reccap6ctr05.flt bioclimatic_regions.nc`"
   ]
  },
  {
   "cell_type": "code",
   "execution_count": null,
   "metadata": {},
   "outputs": [],
   "source": [
    "import xarray as xr\n",
    "from odc.geo.xr import assign_crs\n",
    "import numpy as np\n",
    "import sys\n",
    "sys.path.append('/g/data/os22/chad_tmp/dea-notebooks/Tools/')\n",
    "from dea_tools.spatial import xr_vectorize\n",
    "\n",
    "import contextily as cx\n",
    "import matplotlib.pyplot as plt"
   ]
  },
  {
   "cell_type": "code",
   "execution_count": null,
   "metadata": {},
   "outputs": [],
   "source": [
    "ds = xr.open_dataarray('/g/data/os22/chad_tmp/NEE_modelling/data/bioclimatic_regions.nc')"
   ]
  },
  {
   "cell_type": "code",
   "execution_count": null,
   "metadata": {},
   "outputs": [],
   "source": [
    "ds = ds.rename('bioclimatic_regions')"
   ]
  },
  {
   "cell_type": "code",
   "execution_count": null,
   "metadata": {},
   "outputs": [],
   "source": [
    "ds = assign_crs(ds, crs='epsg:4326')"
   ]
  },
  {
   "cell_type": "code",
   "execution_count": null,
   "metadata": {},
   "outputs": [],
   "source": [
    "df = xr_vectorize(ds, attribute_col='bioclimatic_regions')"
   ]
  },
  {
   "cell_type": "code",
   "execution_count": null,
   "metadata": {},
   "outputs": [],
   "source": [
    "df = df.dissolve(by='bioclimatic_regions', aggfunc='mean').reset_index()"
   ]
  },
  {
   "cell_type": "code",
   "execution_count": null,
   "metadata": {},
   "outputs": [],
   "source": [
    "# df.plot(column='bioclimatic_regions', legend=True)"
   ]
  },
  {
   "cell_type": "code",
   "execution_count": null,
   "metadata": {},
   "outputs": [],
   "source": [
    "df['region_name'] = 0\n",
    "df['region_name'] = np.where(df['bioclimatic_regions']==1.0, 'Tropics', df['region_name'])\n",
    "df['region_name'] = np.where(df['bioclimatic_regions']==2.0, 'Savanna', df['region_name'])\n",
    "df['region_name'] = np.where(df['bioclimatic_regions']==3.0, 'Warm Temperate', df['region_name'])\n",
    "df['region_name'] = np.where(df['bioclimatic_regions']==4.0, 'Cool Temperate', df['region_name'])\n",
    "df['region_name'] = np.where(df['bioclimatic_regions']==5.0, 'Mediterranean', df['region_name'])\n",
    "df['region_name'] = np.where(df['bioclimatic_regions']==6.0, 'Desert', df['region_name'])\n",
    "df"
   ]
  },
  {
   "cell_type": "code",
   "execution_count": null,
   "metadata": {},
   "outputs": [],
   "source": [
    "# df.to_file('/g/data/os22/chad_tmp/NEE_modelling/data/bioclimatic_regions.geojson')"
   ]
  },
  {
   "cell_type": "code",
   "execution_count": null,
   "metadata": {},
   "outputs": [],
   "source": [
    "df.plot(column='region_name', legend=False, figsize=(10,10)) #legend_kwds={'loc':'lower left', 'fontsize':16}\n",
    "plt.savefig('/g/data/os22/chad_tmp/NEE_modelling/results/figs/bioclimatic_regions.png')"
   ]
  },
  {
   "cell_type": "markdown",
   "metadata": {},
   "source": [
    "### Plot EC sites over the bioclimatic regions"
   ]
  },
  {
   "cell_type": "code",
   "execution_count": null,
   "metadata": {},
   "outputs": [],
   "source": [
    "import os\n",
    "import pandas as pd\n",
    "import numpy as np\n",
    "import geopandas as gpd\n",
    "import contextily as cx\n",
    "import matplotlib as mpl\n",
    "import matplotlib.pyplot as plt"
   ]
  },
  {
   "cell_type": "code",
   "execution_count": null,
   "metadata": {},
   "outputs": [],
   "source": [
    "base = '/g/data/os22/chad_tmp/NEE_modelling/results/training_data/'\n",
    "sites = os.listdir('/g/data/os22/chad_tmp/NEE_modelling/results/training_data/')\n",
    "\n",
    "td = []\n",
    "for site in sites:\n",
    "    if '.csv' in site:\n",
    "        xx = pd.read_csv(base+site, index_col='time', parse_dates=True)\n",
    "        xx['site'] = site[0:5]\n",
    "        td.append(xx)\n",
    "\n",
    "ts = pd.concat(td).dropna()\n",
    "sites= ts[['site', 'x_coord', 'y_coord']]\n",
    "sites = ts.groupby('site').mean()\n",
    "sites = gpd.GeoDataFrame(\n",
    "    sites, geometry=gpd.points_from_xy(sites.x_coord, sites.y_coord), crs='epsg:4326')\n",
    "sites = sites.reset_index()\n",
    "sites = sites.drop(['x_coord', 'y_coord'], axis=1)"
   ]
  },
  {
   "cell_type": "code",
   "execution_count": null,
   "metadata": {},
   "outputs": [],
   "source": [
    "gdf = gpd.read_file('/g/data/os22/chad_tmp/NEE_modelling/data/bioclimatic_regions.geojson')"
   ]
  },
  {
   "cell_type": "code",
   "execution_count": null,
   "metadata": {},
   "outputs": [],
   "source": [
    "gdf = gdf.to_crs(epsg=3857)\n",
    "sites = sites.to_crs(epsg=3857)"
   ]
  },
  {
   "cell_type": "code",
   "execution_count": null,
   "metadata": {},
   "outputs": [],
   "source": [
    "n=len(sites)\n",
    "cmap = mpl.cm.get_cmap('gist_ncar', n)  "
   ]
  },
  {
   "cell_type": "code",
   "execution_count": null,
   "metadata": {},
   "outputs": [],
   "source": [
    "fig,ax=plt.subplots(1,1, figsize=(10,10))\n",
    "gdf.plot(ax=ax, alpha=0.01, color='white', edgecolor='black')\n",
    "\n",
    "sites.plot(column='site', markersize=50, ax=ax, legend=True,cmap=cmap, legend_kwds={'loc':'lower left', 'fontsize':10, 'ncol':3});\n",
    "cx.add_basemap(ax, source=cx.providers.Stamen.TonerLite)\n",
    "plt.savefig('/g/data/os22/chad_tmp/NEE_modelling/results/figs/ec_site_locations.png', bbox_inches='tight')"
   ]
  },
  {
   "cell_type": "markdown",
   "metadata": {},
   "source": [
    "### Make a table of the sites"
   ]
  },
  {
   "cell_type": "code",
   "execution_count": null,
   "metadata": {},
   "outputs": [],
   "source": [
    "annual_mean = ts.groupby('site').resample('Y').mean()\n",
    "annual_sum = ts.groupby('site').resample('Y').sum()\n",
    "\n",
    "annual_mean = annual_mean.groupby('site').mean()\n",
    "annual_sum = annual_sum.groupby('site').mean()"
   ]
  },
  {
   "cell_type": "code",
   "execution_count": null,
   "metadata": {},
   "outputs": [],
   "source": [
    "summary_mean = annual_mean[['Ta_EC', 'elevation_RS' , 'kNDVI_RS', 'x_coord', 'y_coord']]\n",
    "summary_sum = annual_sum[['Precip_EC']]"
   ]
  },
  {
   "cell_type": "code",
   "execution_count": null,
   "metadata": {},
   "outputs": [],
   "source": [
    "summary_sum = summary_sum.rename({\n",
    "                'Precip_EC':'Rainfall (mm y⁻¹)'\n",
    "                                   }, axis=1)\n",
    "\n",
    "summary_mean = summary_mean.rename({\n",
    "                'Ta_EC': 'Temp. (C)',\n",
    "                     'elevation_RS': 'Elevation (mASL)',\n",
    "                     'kNDVI_RS': 'kNDVI',\n",
    "                     'x_coord': 'Lon',\n",
    "                     'y_coord': 'Lat'\n",
    "                      }, axis=1)\n",
    "\n",
    "summary = summary_sum.join(summary_mean)"
   ]
  },
  {
   "cell_type": "code",
   "execution_count": null,
   "metadata": {},
   "outputs": [],
   "source": [
    "summary.reset_index().to_csv('/g/data/os22/chad_tmp/NEE_modelling/results/site_summary.csv')"
   ]
  },
  {
   "cell_type": "markdown",
   "metadata": {},
   "source": [
    "## PET"
   ]
  },
  {
   "cell_type": "code",
   "execution_count": 5,
   "metadata": {},
   "outputs": [
    {
     "data": {
      "text/html": [
       "<div><svg style=\"position: absolute; width: 0; height: 0; overflow: hidden\">\n",
       "<defs>\n",
       "<symbol id=\"icon-database\" viewBox=\"0 0 32 32\">\n",
       "<path d=\"M16 0c-8.837 0-16 2.239-16 5v4c0 2.761 7.163 5 16 5s16-2.239 16-5v-4c0-2.761-7.163-5-16-5z\"></path>\n",
       "<path d=\"M16 17c-8.837 0-16-2.239-16-5v6c0 2.761 7.163 5 16 5s16-2.239 16-5v-6c0 2.761-7.163 5-16 5z\"></path>\n",
       "<path d=\"M16 26c-8.837 0-16-2.239-16-5v6c0 2.761 7.163 5 16 5s16-2.239 16-5v-6c0 2.761-7.163 5-16 5z\"></path>\n",
       "</symbol>\n",
       "<symbol id=\"icon-file-text2\" viewBox=\"0 0 32 32\">\n",
       "<path d=\"M28.681 7.159c-0.694-0.947-1.662-2.053-2.724-3.116s-2.169-2.030-3.116-2.724c-1.612-1.182-2.393-1.319-2.841-1.319h-15.5c-1.378 0-2.5 1.121-2.5 2.5v27c0 1.378 1.122 2.5 2.5 2.5h23c1.378 0 2.5-1.122 2.5-2.5v-19.5c0-0.448-0.137-1.23-1.319-2.841zM24.543 5.457c0.959 0.959 1.712 1.825 2.268 2.543h-4.811v-4.811c0.718 0.556 1.584 1.309 2.543 2.268zM28 29.5c0 0.271-0.229 0.5-0.5 0.5h-23c-0.271 0-0.5-0.229-0.5-0.5v-27c0-0.271 0.229-0.5 0.5-0.5 0 0 15.499-0 15.5 0v7c0 0.552 0.448 1 1 1h7v19.5z\"></path>\n",
       "<path d=\"M23 26h-14c-0.552 0-1-0.448-1-1s0.448-1 1-1h14c0.552 0 1 0.448 1 1s-0.448 1-1 1z\"></path>\n",
       "<path d=\"M23 22h-14c-0.552 0-1-0.448-1-1s0.448-1 1-1h14c0.552 0 1 0.448 1 1s-0.448 1-1 1z\"></path>\n",
       "<path d=\"M23 18h-14c-0.552 0-1-0.448-1-1s0.448-1 1-1h14c0.552 0 1 0.448 1 1s-0.448 1-1 1z\"></path>\n",
       "</symbol>\n",
       "</defs>\n",
       "</svg>\n",
       "<style>/* CSS stylesheet for displaying xarray objects in jupyterlab.\n",
       " *\n",
       " */\n",
       "\n",
       ":root {\n",
       "  --xr-font-color0: var(--jp-content-font-color0, rgba(0, 0, 0, 1));\n",
       "  --xr-font-color2: var(--jp-content-font-color2, rgba(0, 0, 0, 0.54));\n",
       "  --xr-font-color3: var(--jp-content-font-color3, rgba(0, 0, 0, 0.38));\n",
       "  --xr-border-color: var(--jp-border-color2, #e0e0e0);\n",
       "  --xr-disabled-color: var(--jp-layout-color3, #bdbdbd);\n",
       "  --xr-background-color: var(--jp-layout-color0, white);\n",
       "  --xr-background-color-row-even: var(--jp-layout-color1, white);\n",
       "  --xr-background-color-row-odd: var(--jp-layout-color2, #eeeeee);\n",
       "}\n",
       "\n",
       "html[theme=dark],\n",
       "body.vscode-dark {\n",
       "  --xr-font-color0: rgba(255, 255, 255, 1);\n",
       "  --xr-font-color2: rgba(255, 255, 255, 0.54);\n",
       "  --xr-font-color3: rgba(255, 255, 255, 0.38);\n",
       "  --xr-border-color: #1F1F1F;\n",
       "  --xr-disabled-color: #515151;\n",
       "  --xr-background-color: #111111;\n",
       "  --xr-background-color-row-even: #111111;\n",
       "  --xr-background-color-row-odd: #313131;\n",
       "}\n",
       "\n",
       ".xr-wrap {\n",
       "  display: block !important;\n",
       "  min-width: 300px;\n",
       "  max-width: 700px;\n",
       "}\n",
       "\n",
       ".xr-text-repr-fallback {\n",
       "  /* fallback to plain text repr when CSS is not injected (untrusted notebook) */\n",
       "  display: none;\n",
       "}\n",
       "\n",
       ".xr-header {\n",
       "  padding-top: 6px;\n",
       "  padding-bottom: 6px;\n",
       "  margin-bottom: 4px;\n",
       "  border-bottom: solid 1px var(--xr-border-color);\n",
       "}\n",
       "\n",
       ".xr-header > div,\n",
       ".xr-header > ul {\n",
       "  display: inline;\n",
       "  margin-top: 0;\n",
       "  margin-bottom: 0;\n",
       "}\n",
       "\n",
       ".xr-obj-type,\n",
       ".xr-array-name {\n",
       "  margin-left: 2px;\n",
       "  margin-right: 10px;\n",
       "}\n",
       "\n",
       ".xr-obj-type {\n",
       "  color: var(--xr-font-color2);\n",
       "}\n",
       "\n",
       ".xr-sections {\n",
       "  padding-left: 0 !important;\n",
       "  display: grid;\n",
       "  grid-template-columns: 150px auto auto 1fr 20px 20px;\n",
       "}\n",
       "\n",
       ".xr-section-item {\n",
       "  display: contents;\n",
       "}\n",
       "\n",
       ".xr-section-item input {\n",
       "  display: none;\n",
       "}\n",
       "\n",
       ".xr-section-item input + label {\n",
       "  color: var(--xr-disabled-color);\n",
       "}\n",
       "\n",
       ".xr-section-item input:enabled + label {\n",
       "  cursor: pointer;\n",
       "  color: var(--xr-font-color2);\n",
       "}\n",
       "\n",
       ".xr-section-item input:enabled + label:hover {\n",
       "  color: var(--xr-font-color0);\n",
       "}\n",
       "\n",
       ".xr-section-summary {\n",
       "  grid-column: 1;\n",
       "  color: var(--xr-font-color2);\n",
       "  font-weight: 500;\n",
       "}\n",
       "\n",
       ".xr-section-summary > span {\n",
       "  display: inline-block;\n",
       "  padding-left: 0.5em;\n",
       "}\n",
       "\n",
       ".xr-section-summary-in:disabled + label {\n",
       "  color: var(--xr-font-color2);\n",
       "}\n",
       "\n",
       ".xr-section-summary-in + label:before {\n",
       "  display: inline-block;\n",
       "  content: '►';\n",
       "  font-size: 11px;\n",
       "  width: 15px;\n",
       "  text-align: center;\n",
       "}\n",
       "\n",
       ".xr-section-summary-in:disabled + label:before {\n",
       "  color: var(--xr-disabled-color);\n",
       "}\n",
       "\n",
       ".xr-section-summary-in:checked + label:before {\n",
       "  content: '▼';\n",
       "}\n",
       "\n",
       ".xr-section-summary-in:checked + label > span {\n",
       "  display: none;\n",
       "}\n",
       "\n",
       ".xr-section-summary,\n",
       ".xr-section-inline-details {\n",
       "  padding-top: 4px;\n",
       "  padding-bottom: 4px;\n",
       "}\n",
       "\n",
       ".xr-section-inline-details {\n",
       "  grid-column: 2 / -1;\n",
       "}\n",
       "\n",
       ".xr-section-details {\n",
       "  display: none;\n",
       "  grid-column: 1 / -1;\n",
       "  margin-bottom: 5px;\n",
       "}\n",
       "\n",
       ".xr-section-summary-in:checked ~ .xr-section-details {\n",
       "  display: contents;\n",
       "}\n",
       "\n",
       ".xr-array-wrap {\n",
       "  grid-column: 1 / -1;\n",
       "  display: grid;\n",
       "  grid-template-columns: 20px auto;\n",
       "}\n",
       "\n",
       ".xr-array-wrap > label {\n",
       "  grid-column: 1;\n",
       "  vertical-align: top;\n",
       "}\n",
       "\n",
       ".xr-preview {\n",
       "  color: var(--xr-font-color3);\n",
       "}\n",
       "\n",
       ".xr-array-preview,\n",
       ".xr-array-data {\n",
       "  padding: 0 5px !important;\n",
       "  grid-column: 2;\n",
       "}\n",
       "\n",
       ".xr-array-data,\n",
       ".xr-array-in:checked ~ .xr-array-preview {\n",
       "  display: none;\n",
       "}\n",
       "\n",
       ".xr-array-in:checked ~ .xr-array-data,\n",
       ".xr-array-preview {\n",
       "  display: inline-block;\n",
       "}\n",
       "\n",
       ".xr-dim-list {\n",
       "  display: inline-block !important;\n",
       "  list-style: none;\n",
       "  padding: 0 !important;\n",
       "  margin: 0;\n",
       "}\n",
       "\n",
       ".xr-dim-list li {\n",
       "  display: inline-block;\n",
       "  padding: 0;\n",
       "  margin: 0;\n",
       "}\n",
       "\n",
       ".xr-dim-list:before {\n",
       "  content: '(';\n",
       "}\n",
       "\n",
       ".xr-dim-list:after {\n",
       "  content: ')';\n",
       "}\n",
       "\n",
       ".xr-dim-list li:not(:last-child):after {\n",
       "  content: ',';\n",
       "  padding-right: 5px;\n",
       "}\n",
       "\n",
       ".xr-has-index {\n",
       "  font-weight: bold;\n",
       "}\n",
       "\n",
       ".xr-var-list,\n",
       ".xr-var-item {\n",
       "  display: contents;\n",
       "}\n",
       "\n",
       ".xr-var-item > div,\n",
       ".xr-var-item label,\n",
       ".xr-var-item > .xr-var-name span {\n",
       "  background-color: var(--xr-background-color-row-even);\n",
       "  margin-bottom: 0;\n",
       "}\n",
       "\n",
       ".xr-var-item > .xr-var-name:hover span {\n",
       "  padding-right: 5px;\n",
       "}\n",
       "\n",
       ".xr-var-list > li:nth-child(odd) > div,\n",
       ".xr-var-list > li:nth-child(odd) > label,\n",
       ".xr-var-list > li:nth-child(odd) > .xr-var-name span {\n",
       "  background-color: var(--xr-background-color-row-odd);\n",
       "}\n",
       "\n",
       ".xr-var-name {\n",
       "  grid-column: 1;\n",
       "}\n",
       "\n",
       ".xr-var-dims {\n",
       "  grid-column: 2;\n",
       "}\n",
       "\n",
       ".xr-var-dtype {\n",
       "  grid-column: 3;\n",
       "  text-align: right;\n",
       "  color: var(--xr-font-color2);\n",
       "}\n",
       "\n",
       ".xr-var-preview {\n",
       "  grid-column: 4;\n",
       "}\n",
       "\n",
       ".xr-var-name,\n",
       ".xr-var-dims,\n",
       ".xr-var-dtype,\n",
       ".xr-preview,\n",
       ".xr-attrs dt {\n",
       "  white-space: nowrap;\n",
       "  overflow: hidden;\n",
       "  text-overflow: ellipsis;\n",
       "  padding-right: 10px;\n",
       "}\n",
       "\n",
       ".xr-var-name:hover,\n",
       ".xr-var-dims:hover,\n",
       ".xr-var-dtype:hover,\n",
       ".xr-attrs dt:hover {\n",
       "  overflow: visible;\n",
       "  width: auto;\n",
       "  z-index: 1;\n",
       "}\n",
       "\n",
       ".xr-var-attrs,\n",
       ".xr-var-data {\n",
       "  display: none;\n",
       "  background-color: var(--xr-background-color) !important;\n",
       "  padding-bottom: 5px !important;\n",
       "}\n",
       "\n",
       ".xr-var-attrs-in:checked ~ .xr-var-attrs,\n",
       ".xr-var-data-in:checked ~ .xr-var-data {\n",
       "  display: block;\n",
       "}\n",
       "\n",
       ".xr-var-data > table {\n",
       "  float: right;\n",
       "}\n",
       "\n",
       ".xr-var-name span,\n",
       ".xr-var-data,\n",
       ".xr-attrs {\n",
       "  padding-left: 25px !important;\n",
       "}\n",
       "\n",
       ".xr-attrs,\n",
       ".xr-var-attrs,\n",
       ".xr-var-data {\n",
       "  grid-column: 1 / -1;\n",
       "}\n",
       "\n",
       "dl.xr-attrs {\n",
       "  padding: 0;\n",
       "  margin: 0;\n",
       "  display: grid;\n",
       "  grid-template-columns: 125px auto;\n",
       "}\n",
       "\n",
       ".xr-attrs dt,\n",
       ".xr-attrs dd {\n",
       "  padding: 0;\n",
       "  margin: 0;\n",
       "  float: left;\n",
       "  padding-right: 10px;\n",
       "  width: auto;\n",
       "}\n",
       "\n",
       ".xr-attrs dt {\n",
       "  font-weight: normal;\n",
       "  grid-column: 1;\n",
       "}\n",
       "\n",
       ".xr-attrs dt:hover span {\n",
       "  display: inline-block;\n",
       "  background: var(--xr-background-color);\n",
       "  padding-right: 10px;\n",
       "}\n",
       "\n",
       ".xr-attrs dd {\n",
       "  grid-column: 2;\n",
       "  white-space: pre-wrap;\n",
       "  word-break: break-all;\n",
       "}\n",
       "\n",
       ".xr-icon-database,\n",
       ".xr-icon-file-text2 {\n",
       "  display: inline-block;\n",
       "  vertical-align: middle;\n",
       "  width: 1em;\n",
       "  height: 1.5em !important;\n",
       "  stroke-width: 0;\n",
       "  stroke: currentColor;\n",
       "  fill: currentColor;\n",
       "}\n",
       "</style><pre class='xr-text-repr-fallback'>&lt;xarray.DataArray &#x27;BurntCarbon&#x27; (time: 366, longitude: 431, latitude: 341)&gt;\n",
       "[53791386 values with dtype=float32]\n",
       "Coordinates:\n",
       "  * time       (time) datetime64[ns] 2020-01-01 2020-01-02 ... 2020-12-31\n",
       "  * latitude   (latitude) float32 -10.0 -10.1 -10.2 -10.3 ... -43.8 -43.9 -44.0\n",
       "  * longitude  (longitude) float32 112.0 112.1 112.2 112.3 ... 154.8 154.9 155.0\n",
       "Attributes:\n",
       "    short_name:   BurntCarbon\n",
       "    long_name:    Wildfire overall flux of burnt Carbon\n",
       "    units:        gC m-2 d-1\n",
       "    _ChunkSizes:  [ 92 108  86]</pre><div class='xr-wrap' style='display:none'><div class='xr-header'><div class='xr-obj-type'>xarray.DataArray</div><div class='xr-array-name'>'BurntCarbon'</div><ul class='xr-dim-list'><li><span class='xr-has-index'>time</span>: 366</li><li><span class='xr-has-index'>longitude</span>: 431</li><li><span class='xr-has-index'>latitude</span>: 341</li></ul></div><ul class='xr-sections'><li class='xr-section-item'><div class='xr-array-wrap'><input id='section-0bbbd5d2-5b98-422e-bfa2-cfa268b67687' class='xr-array-in' type='checkbox' checked><label for='section-0bbbd5d2-5b98-422e-bfa2-cfa268b67687' title='Show/hide data repr'><svg class='icon xr-icon-database'><use xlink:href='#icon-database'></use></svg></label><div class='xr-array-preview xr-preview'><span>...</span></div><div class='xr-array-data'><pre>[53791386 values with dtype=float32]</pre></div></div></li><li class='xr-section-item'><input id='section-49ecd68c-7890-4486-bc6e-6b67aae4a975' class='xr-section-summary-in' type='checkbox'  checked><label for='section-49ecd68c-7890-4486-bc6e-6b67aae4a975' class='xr-section-summary' >Coordinates: <span>(3)</span></label><div class='xr-section-inline-details'></div><div class='xr-section-details'><ul class='xr-var-list'><li class='xr-var-item'><div class='xr-var-name'><span class='xr-has-index'>time</span></div><div class='xr-var-dims'>(time)</div><div class='xr-var-dtype'>datetime64[ns]</div><div class='xr-var-preview xr-preview'>2020-01-01 ... 2020-12-31</div><input id='attrs-af92fffb-b828-4924-9544-7cb2c01d1331' class='xr-var-attrs-in' type='checkbox' ><label for='attrs-af92fffb-b828-4924-9544-7cb2c01d1331' title='Show/Hide attributes'><svg class='icon xr-icon-file-text2'><use xlink:href='#icon-file-text2'></use></svg></label><input id='data-36fcabac-1704-4fc4-9eae-2126b2d52e25' class='xr-var-data-in' type='checkbox'><label for='data-36fcabac-1704-4fc4-9eae-2126b2d52e25' title='Show/Hide data repr'><svg class='icon xr-icon-database'><use xlink:href='#icon-database'></use></svg></label><div class='xr-var-attrs'><dl class='xr-attrs'><dt><span>long_name :</span></dt><dd>time</dd></dl></div><div class='xr-var-data'><pre>array([&#x27;2020-01-01T00:00:00.000000000&#x27;, &#x27;2020-01-02T00:00:00.000000000&#x27;,\n",
       "       &#x27;2020-01-03T00:00:00.000000000&#x27;, ..., &#x27;2020-12-29T00:00:00.000000000&#x27;,\n",
       "       &#x27;2020-12-30T00:00:00.000000000&#x27;, &#x27;2020-12-31T00:00:00.000000000&#x27;],\n",
       "      dtype=&#x27;datetime64[ns]&#x27;)</pre></div></li><li class='xr-var-item'><div class='xr-var-name'><span class='xr-has-index'>latitude</span></div><div class='xr-var-dims'>(latitude)</div><div class='xr-var-dtype'>float32</div><div class='xr-var-preview xr-preview'>-10.0 -10.1 -10.2 ... -43.9 -44.0</div><input id='attrs-d71c3516-a00a-4426-9fb6-ba3583ca05f9' class='xr-var-attrs-in' type='checkbox' ><label for='attrs-d71c3516-a00a-4426-9fb6-ba3583ca05f9' title='Show/Hide attributes'><svg class='icon xr-icon-file-text2'><use xlink:href='#icon-file-text2'></use></svg></label><input id='data-97f05dc9-8df1-4480-8b02-0de7d6300191' class='xr-var-data-in' type='checkbox'><label for='data-97f05dc9-8df1-4480-8b02-0de7d6300191' title='Show/Hide data repr'><svg class='icon xr-icon-database'><use xlink:href='#icon-database'></use></svg></label><div class='xr-var-attrs'><dl class='xr-attrs'><dt><span>long_name :</span></dt><dd>latitude</dd><dt><span>units :</span></dt><dd>degrees_north</dd></dl></div><div class='xr-var-data'><pre>array([-10. , -10.1, -10.2, ..., -43.8, -43.9, -44. ], dtype=float32)</pre></div></li><li class='xr-var-item'><div class='xr-var-name'><span class='xr-has-index'>longitude</span></div><div class='xr-var-dims'>(longitude)</div><div class='xr-var-dtype'>float32</div><div class='xr-var-preview xr-preview'>112.0 112.1 112.2 ... 154.9 155.0</div><input id='attrs-2273c8a7-1c02-49d7-b591-74b793176d04' class='xr-var-attrs-in' type='checkbox' ><label for='attrs-2273c8a7-1c02-49d7-b591-74b793176d04' title='Show/Hide attributes'><svg class='icon xr-icon-file-text2'><use xlink:href='#icon-file-text2'></use></svg></label><input id='data-fba6d7d4-d72a-4103-a338-b229ca050825' class='xr-var-data-in' type='checkbox'><label for='data-fba6d7d4-d72a-4103-a338-b229ca050825' title='Show/Hide data repr'><svg class='icon xr-icon-database'><use xlink:href='#icon-database'></use></svg></label><div class='xr-var-attrs'><dl class='xr-attrs'><dt><span>long_name :</span></dt><dd>longitude</dd><dt><span>units :</span></dt><dd>degrees_east</dd></dl></div><div class='xr-var-data'><pre>array([112. , 112.1, 112.2, ..., 154.8, 154.9, 155. ], dtype=float32)</pre></div></li></ul></div></li><li class='xr-section-item'><input id='section-460311cd-efd5-4f5f-9fca-df116b657fd4' class='xr-section-summary-in' type='checkbox'  checked><label for='section-460311cd-efd5-4f5f-9fca-df116b657fd4' class='xr-section-summary' >Attributes: <span>(4)</span></label><div class='xr-section-inline-details'></div><div class='xr-section-details'><dl class='xr-attrs'><dt><span>short_name :</span></dt><dd>BurntCarbon</dd><dt><span>long_name :</span></dt><dd>Wildfire overall flux of burnt Carbon</dd><dt><span>units :</span></dt><dd>gC m-2 d-1</dd><dt><span>_ChunkSizes :</span></dt><dd>[ 92 108  86]</dd></dl></div></li></ul></div></div>"
      ],
      "text/plain": [
       "<xarray.DataArray 'BurntCarbon' (time: 366, longitude: 431, latitude: 341)>\n",
       "[53791386 values with dtype=float32]\n",
       "Coordinates:\n",
       "  * time       (time) datetime64[ns] 2020-01-01 2020-01-02 ... 2020-12-31\n",
       "  * latitude   (latitude) float32 -10.0 -10.1 -10.2 -10.3 ... -43.8 -43.9 -44.0\n",
       "  * longitude  (longitude) float32 112.0 112.1 112.2 112.3 ... 154.8 154.9 155.0\n",
       "Attributes:\n",
       "    short_name:   BurntCarbon\n",
       "    long_name:    Wildfire overall flux of burnt Carbon\n",
       "    units:        gC m-2 d-1\n",
       "    _ChunkSizes:  [ 92 108  86]"
      ]
     },
     "execution_count": 5,
     "metadata": {},
     "output_type": "execute_result"
    }
   ],
   "source": [
    "xr.open_dataarray('https://dapds00.nci.org.au/thredds/dodsC/ub8/au/FireEmissions/GFASv12.BurntCarbon.2020.nc')"
   ]
  },
  {
   "cell_type": "code",
   "execution_count": 2,
   "metadata": {},
   "outputs": [],
   "source": [
    "import xarray as xr\n",
    "from odc.geo.xr import assign_crs\n",
    "import pandas as pd\n",
    "import numpy as np\n",
    "from odc.algo import xr_reproject"
   ]
  },
  {
   "cell_type": "code",
   "execution_count": null,
   "metadata": {},
   "outputs": [],
   "source": [
    "i=0\n",
    "arrs = []\n",
    "for y in range(2002, 2022):\n",
    "    print(\" {:03}/{:03}\\r\".format(i + 1, len(range(2002, 2022))), end=\"\")\n",
    "    y = str(y)\n",
    "    ds = xr.open_dataarray('https://dapds00.nci.org.au/thredds/dodsC/iu04/australian-water-outlook/v1-0/historical/v1/ET/pen_pet_'+y+'.nc')\n",
    "    ds = assign_crs(ds, crs='epsg:4326')\n",
    "    ds = ds.resample(time='MS', loffset=pd.Timedelta(14, 'd')).sum()\n",
    "    ds.attrs['nodata'] = np.nan\n",
    "    \n",
    "    da=xr.open_dataset('/g/data/os22/chad_tmp/NEE_modelling/results/prediction_data/data_5km.nc')['LST'].isel(time=1)\n",
    "    da = (~np.isnan(da))\n",
    "    da = da.rename({'x':'longitude', 'y':'latitude'})\n",
    "    ds = xr_reproject(ds, da.geobox, resampling='nearest')#.compute()\n",
    "    ds['latitude'] = ds.latitude.astype('float32')\n",
    "    ds['longitude'] = ds.longitude.astype('float32')\n",
    "    ds['latitude'] = np.array([round(i,4) for i in ds.latitude.values])\n",
    "    ds['longitude'] = np.array([round(i,4) for i in ds.longitude.values])\n",
    "    ds = ds.where(da)\n",
    "    arrs.append(ds)\n",
    "    i+=1\n",
    "\n",
    "dss = xr.concat(arrs, dim='time').sortby('time')\n",
    "dss"
   ]
  },
  {
   "cell_type": "code",
   "execution_count": null,
   "metadata": {},
   "outputs": [],
   "source": [
    "dss.to_netcdf('/g/data/os22/chad_tmp/NEE_modelling/data/5km/PET_5km_monthly_2002_2021.nc')"
   ]
  },
  {
   "cell_type": "code",
   "execution_count": null,
   "metadata": {},
   "outputs": [],
   "source": [
    "dss = dss.astype(np.float32)"
   ]
  },
  {
   "cell_type": "code",
   "execution_count": null,
   "metadata": {},
   "outputs": [],
   "source": [
    "# dss.plot.imshow(col='time', col_wrap=6)"
   ]
  },
  {
   "cell_type": "markdown",
   "metadata": {},
   "source": [
    "## Urban mask"
   ]
  },
  {
   "cell_type": "code",
   "execution_count": null,
   "metadata": {},
   "outputs": [],
   "source": [
    "import xarray as xr\n",
    "from odc.geo.xr import assign_crs\n",
    "import pandas as pd\n",
    "import numpy as np\n",
    "from odc.algo import xr_reproject\n",
    "\n",
    "from datacube.utils.dask import start_local_dask\n",
    "client = start_local_dask(mem_safety_margin='2Gb')\n",
    "client"
   ]
  },
  {
   "cell_type": "code",
   "execution_count": null,
   "metadata": {},
   "outputs": [],
   "source": [
    "ds = xr.open_dataarray('https://dapds00.nci.org.au/thredds/dodsC/ub8/au/LandCover/OzWALD_LC/GUF_FractionUrban_Australia.nc'+'#fillmismatch')"
   ]
  },
  {
   "cell_type": "code",
   "execution_count": null,
   "metadata": {},
   "outputs": [],
   "source": [
    "ds = assign_crs(ds, crs='epsg:4326')\n",
    "ds.attrs['nodata'] = np.nan\n",
    "ds = ds.chunk({'longitude':1000, 'latitude':1000})\n",
    "ds = ds.transpose('latitude', 'longitude') #coordinates are incorrectly ordered"
   ]
  },
  {
   "cell_type": "code",
   "execution_count": null,
   "metadata": {},
   "outputs": [],
   "source": [
    "da = xr.open_dataset('/g/data/os22/chad_tmp/NEE_modelling/data/1km/C4percent_1km_monthly_2002_2021.nc')\n",
    "ds = xr_reproject(ds, da.geobox, resampling='average')#.compute()\n",
    "ds['latitude'] = ds.latitude.astype('float32')\n",
    "ds['longitude'] = ds.longitude.astype('float32')\n",
    "ds['latitude'] = np.array([round(i,4) for i in ds.latitude.values])\n",
    "ds['longitude'] = np.array([round(i,4) for i in ds.longitude.values])"
   ]
  },
  {
   "cell_type": "code",
   "execution_count": null,
   "metadata": {},
   "outputs": [],
   "source": [
    "ds = ds.compute()"
   ]
  },
  {
   "cell_type": "code",
   "execution_count": null,
   "metadata": {},
   "outputs": [],
   "source": [
    "ds = xr.where(ds>=25, 1, 0)"
   ]
  },
  {
   "cell_type": "code",
   "execution_count": null,
   "metadata": {},
   "outputs": [],
   "source": [
    "ds.astype('int8').rename('urban_mask').to_netcdf('/g/data/os22/chad_tmp/NEE_modelling/data/urban_mask_1km.nc')"
   ]
  },
  {
   "cell_type": "markdown",
   "metadata": {},
   "source": [
    "## SIF soundings"
   ]
  },
  {
   "cell_type": "code",
   "execution_count": null,
   "metadata": {},
   "outputs": [],
   "source": [
    "import xarray as xr\n",
    "from odc.geo.xr import assign_crs\n",
    "import pandas as pd\n",
    "import matplotlib.pyplot as plt\n",
    "\n",
    "import sys\n",
    "sys.path.append('/g/data/os22/chad_tmp/NEE_modelling/')\n",
    "from collect_prediction_data import allNaN_arg"
   ]
  },
  {
   "cell_type": "code",
   "execution_count": null,
   "metadata": {},
   "outputs": [],
   "source": [
    "df = pd.read_parquet('/g/data/os22/chad_tmp/NEE_modelling/data/sif/oco2_oco3_summarized_Australia_2014-09-01_2021-12-01.parquet')\n",
    "df.head(20)"
   ]
  },
  {
   "cell_type": "code",
   "execution_count": null,
   "metadata": {},
   "outputs": [],
   "source": [
    "df = df.set_index(['xc','yc','d_ym'])\n",
    "df = df.groupby(['xc','yc','d_ym']).mean()\n",
    "# df = df[~df.index.duplicated(keep=False)]\n",
    "ds = df.to_xarray()\n",
    "ds = ds.transpose()\n",
    "\n",
    "da = xr.open_dataset('/g/data/os22/chad_tmp/NEE_modelling/data/1km/C4percent_1km_monthly_2002_2021.nc')\n",
    "ds['d_ym'] = da.sel(time=slice(ds.d_ym[0].values, ds.d_ym[-1].values)).time.values\n",
    "\n",
    "ds = ds.rename({'d_ym':'time', 'xc':'longitude', 'yc':'latitude'})\n",
    "ds_annual = ds.resample(time='1Y').mean()"
   ]
  },
  {
   "cell_type": "code",
   "execution_count": null,
   "metadata": {},
   "outputs": [],
   "source": [
    "ds_annual.dsif_u.plot.imshow(col='time', col_wrap=5, vmin=0, vmax=0.5)"
   ]
  },
  {
   "cell_type": "code",
   "execution_count": null,
   "metadata": {},
   "outputs": [],
   "source": [
    "n_obs_monthly = ds['dsif_nobs'].groupby('time.month').sum()\n",
    "# n_obs_monthly.where(n_obs_monthly>50).plot.imshow(col='month', col_wrap=4, robust=True)"
   ]
  },
  {
   "cell_type": "code",
   "execution_count": null,
   "metadata": {},
   "outputs": [],
   "source": [
    "monthly_mean = ds.groupby('time.month').mean()"
   ]
  },
  {
   "cell_type": "code",
   "execution_count": null,
   "metadata": {},
   "outputs": [],
   "source": [
    "max_mean_month = allNaN_arg(monthly_mean.dsif_u.where(n_obs_monthly>0), 'month', 'max')"
   ]
  },
  {
   "cell_type": "code",
   "execution_count": null,
   "metadata": {},
   "outputs": [],
   "source": [
    "fig,ax = plt.subplots(1,1, figsize=(12,8), sharey=True)\n",
    "im = max_mean_month.plot.imshow(vmin=1, vmax=12, ax=ax, cmap='twilight', add_colorbar=False)\n",
    "cbar = plt.colorbar(im, spacing='uniform', ax=ax)\n",
    "cbar.set_ticks([1,2,3,4,5,6,7,8,9,10,11,12])\n",
    "cbar.set_ticklabels([\"J\",\"F\",\"M\",\"A\",\"M\",\"J\",\"J\",\"A\",\"S\",\"O\",\"N\",\"D\"], fontsize=20)\n",
    "ax.set_title('Month of maximum SIF');\n",
    "plt.tight_layout();"
   ]
  },
  {
   "cell_type": "code",
   "execution_count": null,
   "metadata": {},
   "outputs": [],
   "source": [
    "monthly_mean.dsif_u.mean(['latitude', 'longitude']).plot()"
   ]
  },
  {
   "cell_type": "markdown",
   "metadata": {},
   "source": [
    "## Resampling GRAFS and LAI to monthly"
   ]
  },
  {
   "cell_type": "code",
   "execution_count": null,
   "metadata": {},
   "outputs": [],
   "source": [
    "i=0\n",
    "for y in range(2018, 2022):\n",
    "    print(\" {:03}/{:03}\\r\".format(i + 1, len(range(2018, 2022))), end=\"\")\n",
    "    \n",
    "    year = str(y)\n",
    "    \n",
    "    sws = xr.open_dataset('/g/data/fj4/SatelliteSoilMoistureProducts/S-GRAFS/ANNUAL_NC/surface_soil_moisture_vol_1km_'+year+'.nc',\n",
    "                      chunks=dict(lat=1000, lon=1000))\n",
    "    sws = assign_crs(sws, crs=sws.attrs['crs'][-9:])\n",
    "    sws = sws.soil_moisture.where(sws >=0)\n",
    "    sws = sws.soil_moisture.resample(time='MS', loffset=pd.Timedelta(14, 'd')).mean().compute()\n",
    "    sws = sws.rename({'lat':'latitude', 'lon':'longitude'})\n",
    "    sws.to_netcdf('/g/data/os22/chad_tmp/NEE_modelling/data/GRAFS/GRAFS_1km_monthly_'+year+'.nc')\n",
    "    i+=1\n",
    "    \n",
    "i=0\n",
    "for y in range(2016, 2022):\n",
    "    print(\" {:03}/{:03}\\r\".format(i + 1, len(range(2016, 2022))), end=\"\")\n",
    "    \n",
    "    year = str(y)\n",
    "    \n",
    "    base = '/g/data/ub8/au/MODIS/mosaic/MOD15A2H.006/'\n",
    "    lai = xr.open_dataset('/g/data/ub8/au/MODIS/mosaic/MOD15A2H.006/MOD15A2H.006.b02.500m_lai.'+year+'.nc',\n",
    "                          chunks=dict(latitude=1000, longitude=1000))\n",
    "    lai = assign_crs(lai, crs='epsg:4326')\n",
    "    lai = lai['500m_lai'].rename('lai') #tidy up the dataset\n",
    "    lai = lai.where((lai <= 10) & (lai >=0)) #remove artefacts and 'no-data'\n",
    "    lai = lai.resample(time='MS', loffset=pd.Timedelta(14, 'd')).mean().compute() # resample to monthly\n",
    "    lai.to_netcdf('/g/data/os22/chad_tmp/NEE_modelling/data/LAI/LAI_500m_monthly_'+year+'.nc')\n",
    "    i+=1"
   ]
  },
  {
   "cell_type": "markdown",
   "metadata": {},
   "source": [
    "## Woody Cover /  Above ground Biomass / Woody height\n",
    "\n",
    "Albert's paper: https://www.sciencedirect.com/science/article/pii/S0303243420304189\n",
    "\n",
    "Mosaics: https://dapds00.nci.org.au/thredds/catalog/ub8/au/LandCover/OzWALD_LC/catalog.html"
   ]
  },
  {
   "cell_type": "code",
   "execution_count": null,
   "metadata": {},
   "outputs": [],
   "source": [
    "import xarray as xr\n",
    "from odc.geo.xr import assign_crs\n",
    "import pandas as pd\n",
    "import numpy as np\n",
    "from odc.algo import xr_reproject"
   ]
  },
  {
   "cell_type": "code",
   "execution_count": null,
   "metadata": {},
   "outputs": [],
   "source": [
    "from datacube.utils.dask import start_local_dask\n",
    "client = start_local_dask(mem_safety_margin='2Gb')\n",
    "client"
   ]
  },
  {
   "cell_type": "code",
   "execution_count": null,
   "metadata": {},
   "outputs": [],
   "source": [
    "# ds = xr.open_dataset('https://dapds00.nci.org.au/thredds/dodsC/ub8/au/LandCover/OzWALD_LC/VegH_2007-2010_mosaic_AustAlb_25m.nc')\n",
    "ds = xr.open_dataset('/g/data/ub8/au/LandCover/OzWALD_LC/VegH_2007-2010_mosaic_AustAlb_25m.nc')\n",
    "ds = ds.transpose('y', 'x') #coordinates are incorrectly ordered\n",
    "ds = assign_crs(ds, crs='epsg:3577')\n",
    "ds = ds.drop('crs')\n",
    "ds = ds['VegH']\n",
    "ds.attrs['nodata'] = np.nan\n",
    "ds = ds.chunk({'x':1000, 'y':1000})\n",
    "ds"
   ]
  },
  {
   "cell_type": "code",
   "execution_count": null,
   "metadata": {},
   "outputs": [],
   "source": [
    "da = xr.open_dataset('/g/data/os22/chad_tmp/NEE_modelling/data/1km/tavg_1km_monthly_2002_2022.nc')\n",
    "ds = xr_reproject(ds, da.geobox, resampling='average')#.compute()\n",
    "ds['latitude'] = ds.latitude.astype('float32')\n",
    "ds['longitude'] = ds.longitude.astype('float32')\n",
    "ds['latitude'] = np.array([round(i,4) for i in ds.latitude.values])\n",
    "ds['longitude'] = np.array([round(i,4) for i in ds.longitude.values])"
   ]
  },
  {
   "cell_type": "code",
   "execution_count": null,
   "metadata": {},
   "outputs": [],
   "source": [
    "ds = ds.compute()"
   ]
  },
  {
   "cell_type": "code",
   "execution_count": null,
   "metadata": {},
   "outputs": [],
   "source": [
    "ds.plot.imshow(size=10, robust=True)"
   ]
  },
  {
   "cell_type": "code",
   "execution_count": null,
   "metadata": {},
   "outputs": [],
   "source": [
    "ds = ds.expand_dims(time=da.sel(time=slice('2002','2022')).time)\n",
    "\n",
    "ds.to_netcdf('/g/data/os22/chad_tmp/NEE_modelling/data/1km/VegH_1km_monthly_2002_2022.nc')"
   ]
  },
  {
   "cell_type": "markdown",
   "metadata": {},
   "source": [
    "## Fire emissions (GFAS)\n",
    "\n",
    "From WALD https://dapds00.nci.org.au/thredds/catalog/ub8/au/FireEmissions/catalog.html"
   ]
  },
  {
   "cell_type": "code",
   "execution_count": null,
   "metadata": {},
   "outputs": [],
   "source": [
    "import xarray as xr\n",
    "import rioxarray\n",
    "from odc.geo.xr import assign_crs\n",
    "import pandas as pd\n",
    "import numpy as np\n",
    "from odc.algo import xr_reproject"
   ]
  },
  {
   "cell_type": "code",
   "execution_count": null,
   "metadata": {},
   "outputs": [],
   "source": [
    "years = [str(i) for i in range(2003,2023)]\n",
    "i=0\n",
    "p=[]\n",
    "for y in years:\n",
    "    print(\" {:02}/{:02}\\r\".format(i + 1, len(years)), end=\"\")\n",
    "    ds = xr.open_dataset('https://dapds00.nci.org.au/thredds/dodsC/ub8/au/FireEmissions/GFASv12.BurntCarbon.'+y+'.nc').BurntCarbon\n",
    "    ds = ds.transpose('time', 'latitude', 'longitude') #coordinates are incorrectly ordered\n",
    "    ds = assign_crs(ds, crs='epsg:4326') # set the right projection\n",
    "    ds = xr_reproject(ds, geobox=ds.odc.geobox.to_crs('EPSG:3577').compat, resampling='bilinear') #convert to equal area\n",
    "    ds = ds * ds.geobox.resolution[1]**2 * 1e-15 #convert to a total carbon flux in petagrams\n",
    "    ds_m = ds.resample(time='MS', loffset=pd.Timedelta(14, 'd')).sum() #resample daily values to monthly sums\n",
    "    ds_m.attrs['units'] = 'PgC'\n",
    "    ds_m=ds_m.rename('Fire Emissions (PgC)')\n",
    "    p.append(ds_m)\n",
    "    i+=1\n",
    "\n",
    "ds = xr.concat(p, dim='time').sortby('time')\n",
    "ds"
   ]
  },
  {
   "cell_type": "code",
   "execution_count": null,
   "metadata": {},
   "outputs": [],
   "source": [
    "ds.to_netcdf('/g/data/os22/chad_tmp/NEE_modelling/data/FireEmissions_10km_monthly_2003_2022.nc')"
   ]
  },
  {
   "cell_type": "code",
   "execution_count": null,
   "metadata": {},
   "outputs": [],
   "source": [
    "# ds = xr.open_dataarray('/g/data/os22/chad_tmp/NEE_modelling/data/FireEmissions_10km_monthly_2003_2021.nc')"
   ]
  },
  {
   "cell_type": "code",
   "execution_count": null,
   "metadata": {},
   "outputs": [],
   "source": [
    "# (ds*1000).resample(time='Y').sum().sum(['x', 'y']).to_series().plot.bar(figsize=(11,4))"
   ]
  },
  {
   "cell_type": "markdown",
   "metadata": {},
   "source": [
    "## ANUClim Climate data (1 x 1km)\n",
    "\n",
    "https://dapds00.nci.org.au/thredds/catalogs/gh70/catalog.html"
   ]
  },
  {
   "cell_type": "code",
   "execution_count": null,
   "metadata": {},
   "outputs": [],
   "source": [
    "import xarray as xr\n",
    "import rioxarray\n",
    "from odc.geo.xr import assign_crs\n",
    "from datetime import datetime\n",
    "import pandas as pd\n",
    "import numpy as np\n",
    "import os\n",
    "from odc.algo import xr_reproject"
   ]
  },
  {
   "cell_type": "code",
   "execution_count": null,
   "metadata": {},
   "outputs": [],
   "source": [
    "from datacube.utils.dask import start_local_dask\n",
    "client = start_local_dask(mem_safety_margin='2Gb')\n",
    "client"
   ]
  },
  {
   "cell_type": "code",
   "execution_count": null,
   "metadata": {},
   "outputs": [],
   "source": [
    "%%time\n",
    "base='/g/data/gh70/ANUClimate/v2-0/stable/month/'\n",
    "var = 'evap' #vpd, #srad, #rain #evap\n",
    "\n",
    "years = [str(i) for i in range(2002,2022)]\n",
    "\n",
    "i=0\n",
    "pp = []\n",
    "for y in years:\n",
    "    print(\" {:02}/{:02}\\r\".format(i + 1, len(years)), end=\"\")\n",
    "    ds = xr.open_mfdataset([base+var+'/'+y+'/'+i for i in os.listdir(base+var+'/'+y+'/')],\n",
    "                              chunks=dict(lat=1000, lon=1000))\n",
    "    \n",
    "    ds = assign_crs(ds, crs='epsg:4283') #GDA94\n",
    "    ds = ds.drop('crs')[var]\n",
    "    ds.attrs['nodata'] = np.nan\n",
    "    attrs = ds.attrs\n",
    "    \n",
    "    da = xr.open_dataset('/g/data/os22/chad_tmp/NEE_modelling/data/1km/EVI_1km_monthly_2002_2021.nc')\n",
    "    ds = xr_reproject(ds, da.geobox, resampling='nearest')#.compute()\n",
    "    ds['latitude'] = ds.latitude.astype('float32')\n",
    "    ds['longitude'] = ds.longitude.astype('float32')\n",
    "    ds['latitude'] = np.array([round(i,4) for i in ds.latitude.values])\n",
    "    ds['longitude'] = np.array([round(i,4) for i in ds.longitude.values])\n",
    "    ds.attrs = attrs\n",
    "    pp.append(ds)\n",
    "    i+=1\n",
    "\n",
    "ds = xr.concat(pp, dim='time').sortby('time')\n",
    "ds"
   ]
  },
  {
   "cell_type": "code",
   "execution_count": null,
   "metadata": {},
   "outputs": [],
   "source": [
    "ds = ds.compute()"
   ]
  },
  {
   "cell_type": "code",
   "execution_count": null,
   "metadata": {},
   "outputs": [],
   "source": [
    "# ds.isel(time=111).plot.imshow(size=6)"
   ]
  },
  {
   "cell_type": "code",
   "execution_count": null,
   "metadata": {},
   "outputs": [],
   "source": [
    "ds.to_netcdf('/g/data/os22/chad_tmp/NEE_modelling/data/1km/'+var+'_1km_monthly_2002_2021.nc')"
   ]
  },
  {
   "cell_type": "markdown",
   "metadata": {},
   "source": [
    "### ANUClim bonus datasets from 2022\n",
    "\n",
    "Provided directly by Tingbao"
   ]
  },
  {
   "cell_type": "code",
   "execution_count": null,
   "metadata": {},
   "outputs": [],
   "source": [
    "import xarray as xr\n",
    "import rioxarray\n",
    "from odc.geo.xr import assign_crs\n",
    "from datetime import datetime\n",
    "import pandas as pd\n",
    "import numpy as np\n",
    "import os\n",
    "from odc.algo import xr_reproject"
   ]
  },
  {
   "cell_type": "code",
   "execution_count": null,
   "metadata": {},
   "outputs": [],
   "source": [
    "var='vpd'"
   ]
  },
  {
   "cell_type": "code",
   "execution_count": null,
   "metadata": {},
   "outputs": [],
   "source": [
    "base='/g/data/os22/chad_tmp/NEE_modelling/data/anuclim/'\n",
    "files = [base+i for i in os.listdir(base) if i.endswith('.tif')]\n",
    "    \n",
    "dss=[]\n",
    "for i in files:\n",
    "    ds = rioxarray.open_rasterio(i).squeeze().drop('band')\n",
    "    time = datetime.strptime(i[-10:-4]+'15', \"%Y%m%d\")\n",
    "    time = np.datetime64(time)\n",
    "    ds = ds.expand_dims(time=[time])\n",
    "    ds = ds.where(ds>-99)\n",
    "    ds = assign_crs(ds, crs='epsg:4283') #GDA94\n",
    "    ds.attrs['nodata'] = np.nan\n",
    "    dss.append(ds)\n",
    "\n",
    "ds = xr.concat(dss, dim='time').sortby('time')"
   ]
  },
  {
   "cell_type": "code",
   "execution_count": null,
   "metadata": {},
   "outputs": [],
   "source": [
    "da = xr.open_dataarray('/g/data/os22/chad_tmp/NEE_modelling/data/1km/'+var+'_1km_monthly_2002_2021.nc')\n",
    "ds = xr_reproject(ds, da.geobox, resampling='nearest')#.compute()\n",
    "ds['latitude'] = ds.latitude.astype('float32')\n",
    "ds['longitude'] = ds.longitude.astype('float32')\n",
    "ds['latitude'] = np.array([round(i,4) for i in ds.latitude.values])\n",
    "ds['longitude'] = np.array([round(i,4) for i in ds.longitude.values])\n",
    "\n",
    "ds = xr.concat([da, ds], dim='time').sortby('time')"
   ]
  },
  {
   "cell_type": "code",
   "execution_count": null,
   "metadata": {},
   "outputs": [],
   "source": [
    "ds"
   ]
  },
  {
   "cell_type": "code",
   "execution_count": null,
   "metadata": {},
   "outputs": [],
   "source": [
    "ds.to_netcdf('/g/data/os22/chad_tmp/NEE_modelling/data/1km/'+var+'_1km_monthly_2002_2022.nc')"
   ]
  },
  {
   "cell_type": "markdown",
   "metadata": {},
   "source": [
    "## ANUCLIM DEM"
   ]
  },
  {
   "cell_type": "code",
   "execution_count": null,
   "metadata": {},
   "outputs": [],
   "source": [
    "import xarray as xr\n",
    "import rioxarray\n",
    "from odc.geo.xr import assign_crs\n",
    "import pandas as pd\n",
    "import numpy as np\n",
    "import os\n",
    "from odc.algo import xr_reproject"
   ]
  },
  {
   "cell_type": "code",
   "execution_count": null,
   "metadata": {},
   "outputs": [],
   "source": [
    "ds = xr.open_dataset('https://dapds00.nci.org.au/thredds/dodsC/gh70/ANUClimate/v2-0/topogrid/dem01/ANUClimate_v2-0_dem01.nc').squeeze().drop('time')\n",
    "ds"
   ]
  },
  {
   "cell_type": "code",
   "execution_count": null,
   "metadata": {},
   "outputs": [],
   "source": [
    "ds = assign_crs(ds, crs='epsg:4283')"
   ]
  },
  {
   "cell_type": "code",
   "execution_count": null,
   "metadata": {},
   "outputs": [],
   "source": [
    "ds = ds.drop('crs')\n",
    "ds = ds['dem01']\n",
    "ds=ds.where(ds>-200)"
   ]
  },
  {
   "cell_type": "code",
   "execution_count": null,
   "metadata": {},
   "outputs": [],
   "source": [
    "# ds.attrs['nodata'] = np.nan\n",
    "    \n",
    "da = xr.open_dataset('/g/data/os22/chad_tmp/NEE_modelling/data/1km/EVI_1km_monthly_2002_2021.nc')\n",
    "ds = xr_reproject(ds, da.geobox, resampling='nearest')#.compute()\n",
    "ds['latitude'] = ds.latitude.astype('float32')\n",
    "ds['longitude'] = ds.longitude.astype('float32')\n",
    "ds['latitude'] = np.array([round(i,4) for i in ds.latitude.values])\n",
    "ds['longitude'] = np.array([round(i,4) for i in ds.longitude.values])"
   ]
  },
  {
   "cell_type": "code",
   "execution_count": null,
   "metadata": {},
   "outputs": [],
   "source": [
    "ds"
   ]
  },
  {
   "cell_type": "code",
   "execution_count": null,
   "metadata": {},
   "outputs": [],
   "source": [
    "ds = ds.expand_dims(time=da.sel(time=slice('2002','2021')).time)"
   ]
  },
  {
   "cell_type": "code",
   "execution_count": null,
   "metadata": {},
   "outputs": [],
   "source": [
    "ds = ds.rename('elevation')"
   ]
  },
  {
   "cell_type": "code",
   "execution_count": null,
   "metadata": {},
   "outputs": [],
   "source": [
    "ds.to_netcdf('/g/data/os22/chad_tmp/NEE_modelling/data/1km/Elevation_1km_monthly_2002_2021.nc')"
   ]
  },
  {
   "cell_type": "markdown",
   "metadata": {},
   "source": [
    "## Month of year"
   ]
  },
  {
   "cell_type": "code",
   "execution_count": null,
   "metadata": {},
   "outputs": [],
   "source": [
    "import xarray as xr\n",
    "import numpy as np"
   ]
  },
  {
   "cell_type": "code",
   "execution_count": null,
   "metadata": {},
   "outputs": [],
   "source": [
    "ds = xr.open_dataarray('/g/data/os22/chad_tmp/NEE_modelling/data/1km/Elevation_1km_monthly_2002_2021.nc')\n",
    "moy = ds.time.dt.month"
   ]
  },
  {
   "cell_type": "code",
   "execution_count": null,
   "metadata": {},
   "outputs": [],
   "source": [
    "moy = moy.expand_dims(latitude=ds.latitude, longitude=ds.longitude)\n",
    "moy = moy.astype(np.float32)\n",
    "mask = ~np.isnan(ds.isel(time=1))\n",
    "moy = moy.where(mask)\n",
    "moy = moy.rename('month')"
   ]
  },
  {
   "cell_type": "code",
   "execution_count": null,
   "metadata": {},
   "outputs": [],
   "source": [
    "# moy.isel(time=range(0,18)).plot.imshow(col='time', col_wrap=6)"
   ]
  },
  {
   "cell_type": "code",
   "execution_count": null,
   "metadata": {},
   "outputs": [],
   "source": [
    "moy.to_netcdf('/g/data/os22/chad_tmp/NEE_modelling/data/1km/MOY_1km_monthly_2002_2021.nc')"
   ]
  },
  {
   "cell_type": "markdown",
   "metadata": {},
   "source": [
    "## Cumulative (Climatological) Water Deficit, Moisture Index\n",
    "\n",
    "Using rainfall from ANUClim and ET-actual from CMRSET"
   ]
  },
  {
   "cell_type": "markdown",
   "metadata": {},
   "source": [
    "CWD:\n",
    "\n",
    "        CWD for month n = CWDn-1 + Pn - ETn, where ET is fixed at 100mm/month\n",
    "        When CWD>0, CWD = 0\n",
    "        CWDn = CWDn-1 + Pn- 100\n",
    "\n",
    "Moisture Index:\n",
    "\n",
    "        P/ET"
   ]
  },
  {
   "cell_type": "code",
   "execution_count": null,
   "metadata": {},
   "outputs": [],
   "source": [
    "import xarray as xr\n",
    "import numpy as np\n",
    "from odc.geo.xr import assign_crs\n",
    "from odc.algo import xr_reproject"
   ]
  },
  {
   "cell_type": "code",
   "execution_count": null,
   "metadata": {},
   "outputs": [],
   "source": [
    "rain = xr.open_dataarray('/g/data/os22/chad_tmp/NEE_modelling/data/1km/rain_1km_monthly_2002_2021.nc')\n",
    "et = xr.open_dataarray('/g/data/os22/chad_tmp/NEE_modelling/data/1km/ETa_1km_monthly_2002_2021.nc')"
   ]
  },
  {
   "cell_type": "markdown",
   "metadata": {},
   "source": [
    "### CWD"
   ]
  },
  {
   "cell_type": "code",
   "execution_count": null,
   "metadata": {},
   "outputs": [],
   "source": [
    "N = len(rain.time.values)\n",
    "times=list(rain.time.values)\n",
    "# ET = 100"
   ]
  },
  {
   "cell_type": "code",
   "execution_count": null,
   "metadata": {},
   "outputs": [],
   "source": [
    "#intialize the first time-step\n",
    "intial = rain.isel(time=0) - et.isel(time=0)\n",
    "intial = xr.where(intial>0, 0, intial) # Max CWD value is zero\n",
    "rain.loc[dict(time=times[0])] = intial"
   ]
  },
  {
   "cell_type": "code",
   "execution_count": null,
   "metadata": {},
   "outputs": [],
   "source": [
    "intial.plot.imshow(robust=True)"
   ]
  },
  {
   "cell_type": "code",
   "execution_count": null,
   "metadata": {},
   "outputs": [],
   "source": [
    "#loop through remaining time-steps\n",
    "i=0\n",
    "for i in range(1, N):\n",
    "    print(\" {:02}/{:02}\\r\".format(i + 1, N), end=\"\")\n",
    "    \n",
    "    #add rainfall to previous time-step, then subtract ET\n",
    "    da = rain.isel(time=i-1) + rain.isel(time=i) - et.isel(time=i) \n",
    "    # reset max value to 0\n",
    "    da = xr.where(da>0, 0, da)\n",
    "    # add array in-place\n",
    "    rain.loc[dict(time=times[i])] = da\n",
    "    i+=1"
   ]
  },
  {
   "cell_type": "code",
   "execution_count": null,
   "metadata": {},
   "outputs": [],
   "source": [
    "rain = rain.rename('CWD')\n",
    "rain.to_netcdf('/g/data/os22/chad_tmp/NEE_modelling/data/1km/CWD_1km_monthly_2002_2021.nc')"
   ]
  },
  {
   "cell_type": "code",
   "execution_count": null,
   "metadata": {},
   "outputs": [],
   "source": [
    "rain.mean(['latitude', 'longitude']).plot(figsize=(11,4))"
   ]
  },
  {
   "cell_type": "markdown",
   "metadata": {},
   "source": [
    "## Moisture Index\n",
    "\n",
    "* Large value (>1) means rainfall greatly exceeds ET and therefore no moisture stress\n",
    "* Value <1 mean ET exceeds rainfall, therefore moisture stress\n",
    "\n",
    "Should use PET not ETa"
   ]
  },
  {
   "cell_type": "code",
   "execution_count": null,
   "metadata": {},
   "outputs": [],
   "source": [
    "import xarray as xr\n",
    "import numpy as np\n",
    "from odc.geo.xr import assign_crs\n",
    "from odc.algo import xr_reproject"
   ]
  },
  {
   "cell_type": "code",
   "execution_count": null,
   "metadata": {},
   "outputs": [],
   "source": [
    "# rain = xr.open_dataarray('/g/data/os22/chad_tmp/NEE_modelling/data/1km/rain_1km_monthly_2002_2021.nc')\n",
    "rain = xr.open_dataarray('/g/data/os22/chad_tmp/NEE_modelling/data/5km/chirps_5km_monthly_1991_2021.nc').sel(time=slice('2002','2021'))\n",
    "# et = xr.open_dataarray('/g/data/os22/chad_tmp/NEE_modelling/data/1km/ETa_1km_monthly_2002_2021.nc')\n",
    "\n",
    "#pan evaporation from ANUClim\n",
    "# et = xr.open_dataarray('/g/data/os22/chad_tmp/NEE_modelling/data/1km/evap_1km_monthly_2002_2021.nc')\n",
    "\n",
    "#Penman PET from AWRA\n",
    "et = xr.open_dataarray('/g/data/os22/chad_tmp/NEE_modelling/data/5km/PET_5km_monthly_2002_2021.nc')"
   ]
  },
  {
   "cell_type": "code",
   "execution_count": null,
   "metadata": {},
   "outputs": [],
   "source": [
    "rain = xr_reproject(rain, et.geobox, resampling='nearest')\n",
    "rain['latitude'] = rain.latitude.astype('float32')\n",
    "rain['longitude'] = rain.longitude.astype('float32')\n",
    "rain['latitude'] = np.array([round(i,4) for i in rain.latitude.values])\n",
    "rain['longitude'] = np.array([round(i,4) for i in rain.longitude.values])"
   ]
  },
  {
   "cell_type": "code",
   "execution_count": null,
   "metadata": {},
   "outputs": [],
   "source": [
    "mi = rain/et"
   ]
  },
  {
   "cell_type": "code",
   "execution_count": null,
   "metadata": {},
   "outputs": [],
   "source": [
    "mi = xr.where(mi>10, 10, mi)"
   ]
  },
  {
   "cell_type": "code",
   "execution_count": null,
   "metadata": {},
   "outputs": [],
   "source": [
    "mi.plot.hist(bins=100, xlim=(0,10));"
   ]
  },
  {
   "cell_type": "code",
   "execution_count": null,
   "metadata": {},
   "outputs": [],
   "source": [
    "mi.isel(time=range(0,12)).plot.imshow(col='time', col_wrap=6, robust=True)"
   ]
  },
  {
   "cell_type": "code",
   "execution_count": null,
   "metadata": {},
   "outputs": [],
   "source": [
    "mi = mi.rename('MI')\n",
    "mi.attrs['nodata'] = np.nan\n",
    "mi.to_netcdf('/g/data/os22/chad_tmp/NEE_modelling/data/5km/MI_15km_monthly_2002_2021.nc')"
   ]
  },
  {
   "cell_type": "markdown",
   "metadata": {},
   "source": [
    "## Vegetation Optical Depth\n",
    "\n",
    "Global long-term Vegetation optical depth climate-data aggregate VODCA"
   ]
  },
  {
   "cell_type": "code",
   "execution_count": null,
   "metadata": {},
   "outputs": [],
   "source": [
    "import xarray as xr\n",
    "import rioxarray\n",
    "from odc.geo.xr import assign_crs\n",
    "import pandas as pd\n",
    "import numpy as np\n",
    "import os\n",
    "from odc.algo import xr_reproject"
   ]
  },
  {
   "cell_type": "code",
   "execution_count": null,
   "metadata": {},
   "outputs": [],
   "source": [
    "year_start = 2002\n",
    "year_end = 2003\n",
    "base = '/g/data/os22/chad_tmp/NEE_modelling/data/VOD/C-Band/'\n",
    "out = '/g/data/os22/chad_tmp/NEE_modelling/data/VOD/VOD_AUS/'"
   ]
  },
  {
   "cell_type": "code",
   "execution_count": null,
   "metadata": {},
   "outputs": [],
   "source": [
    "i=0\n",
    "for y in range(year_start, year_end+1):\n",
    "    print(\" {:02}/{:02}\\r\".format(i + 1, len(range(year_start, year_end+1))), end=\"\")\n",
    "    \n",
    "    year = str(y)\n",
    "    files = os.listdir(base+year)\n",
    "    ds = xr.open_mfdataset([base+year+'/'+f for f in files]).sel(lon=slice(110,155), lat=slice(-9,-45)).vod\n",
    "    ds = assign_crs(ds, crs='epsg:4326')\n",
    "    ds = ds.resample(time='MS', loffset=pd.Timedelta(14, 'd')).mean().compute()\n",
    "    ds.to_netcdf(out+'VODCA_'+year+'.nc')\n",
    "    i+=1"
   ]
  },
  {
   "cell_type": "code",
   "execution_count": null,
   "metadata": {},
   "outputs": [],
   "source": [
    "files = os.listdir(out)\n",
    "ds = xr.open_mfdataset([out+f for f in files]).vod\n",
    "ds = ds.astype('float32')\n",
    "ds.attrs['nodata'] = np.nan\n",
    "ds.to_netcdf('/g/data/os22/chad_tmp/NEE_modelling/data/VOD/VOD_25km_monthly_2002_2018.nc')"
   ]
  },
  {
   "cell_type": "markdown",
   "metadata": {},
   "source": [
    "Resample to 5km"
   ]
  },
  {
   "cell_type": "code",
   "execution_count": null,
   "metadata": {},
   "outputs": [],
   "source": [
    "chirps = xr.open_dataset('/g/data/os22/chad_tmp/NEE_modelling/data/5km/chirps_5km_monthly_1991_2021.nc')\n",
    "ds = xr_reproject(ds, chirps.geobox, resampling='bilinear').compute()\n",
    "ds['latitude'] = ds.latitude.astype('float32')\n",
    "ds['longitude'] = ds.longitude.astype('float32')"
   ]
  },
  {
   "cell_type": "code",
   "execution_count": null,
   "metadata": {},
   "outputs": [],
   "source": [
    "ds.to_netcdf('/g/data/os22/chad_tmp/NEE_modelling/data/5km/VOD_5km_monthly_2002_2018.nc')"
   ]
  },
  {
   "cell_type": "markdown",
   "metadata": {},
   "source": [
    "## Stitch together GO-SIF GPP\n",
    "\n",
    "Li, X., Xiao, J. (2019) Mapping photosynthesis solely from solar-induced chlorophyll fluorescence: A global, fine-resolution dataset of gross primary production derived from OCO-2. Remote Sensing, 11(21), 2563; https://doi.org/10.3390/rs11212563.\n",
    "\n",
    "We used the global, OCO-2-based SIF product (GOSIF) and linear relationships between SIF (Solar-induced chlorophyll fluorescence) and GPP to map GPP globally at a 0.05° spatial resolution and 8-day time step for the period from 2000 to 2018. To account for the uncertainty of GPP estimates resulting from the SIF-GPP relationship, we used eight SIF-GPP relationships (universal and biome-specific, with and without intercept) at both site and grid cell levels to estimate GPP. All the eight SIF-GPP relationships performed well in estimating GPP globally. The ensemble mean 8-day GPP was generally highly correlated with flux tower GPP for 91 eddy covariance flux sites across the globe (R2 = 0.74, RMSE = 1.92 g C m−2 d−1)."
   ]
  },
  {
   "cell_type": "code",
   "execution_count": null,
   "metadata": {},
   "outputs": [],
   "source": [
    "import xarray as xr\n",
    "import rioxarray\n",
    "from odc.geo.xr import assign_crs\n",
    "import pandas as pd\n",
    "import numpy as np\n",
    "import os\n",
    "from odc.algo import xr_reproject"
   ]
  },
  {
   "cell_type": "code",
   "execution_count": null,
   "metadata": {},
   "outputs": [],
   "source": [
    "base='/g/data/os22/chad_tmp/NEE_modelling/data/GOSIF_GPP/'\n",
    "\n",
    "arrs=[]\n",
    "files = os.listdir(base)\n",
    "i = 0\n",
    "for f in files:\n",
    "    print(\" Tif {:03}/{:03}\\r\".format(i + 1, len(files)), end=\"\")\n",
    "    if f.endswith('.tif'):\n",
    "        y=f[-17:-13]\n",
    "        m=f[-11:-9]\n",
    "        sif = rioxarray.open_rasterio(base+f).squeeze().drop('band').sel(x=slice(110,155)).sel(y=slice(-8,-45))\n",
    "        time=pd.date_range(np.datetime64(y+'-'+m), periods=1, freq=\"MS\") + pd.Timedelta(14, 'd')\n",
    "        sif = sif.expand_dims(time=time) \n",
    "        sif = sif.where(sif < 65534) # clean up dataset\n",
    "        sif = sif * 0.01 #scale for monthly GPP\n",
    "        ## reproject to 5km resolution\n",
    "        sif.name = 'GOSIF_GPP_gC_m2_month'\n",
    "        sif = assign_crs(sif, crs='epsg:4326')\n",
    "        sif.attrs['nodata'] = np.nan\n",
    "        chirps = xr.open_dataset('/g/data/os22/chad_tmp/NEE_modelling/data/5km/chirps_5km_monthly_1991_2021.nc')\n",
    "        sif = xr_reproject(sif, chirps.geobox, resampling='bilinear').compute()\n",
    "        sif['latitude'] = sif.latitude.astype('float32')\n",
    "        sif['longitude'] = sif.longitude.astype('float32')\n",
    "        arrs.append(sif.astype('float32'))\n",
    "        i += 1"
   ]
  },
  {
   "cell_type": "code",
   "execution_count": null,
   "metadata": {},
   "outputs": [],
   "source": [
    "sif = xr.concat(arrs, dim='time').sortby('time')"
   ]
  },
  {
   "cell_type": "code",
   "execution_count": null,
   "metadata": {},
   "outputs": [],
   "source": [
    "sif.isel(time=110).plot.imshow(size=8, robust=True);"
   ]
  },
  {
   "cell_type": "code",
   "execution_count": null,
   "metadata": {},
   "outputs": [],
   "source": [
    "sif.to_netcdf('/g/data/os22/chad_tmp/NEE_modelling/data/5km/GOSIF_GPP_5km_monthly_2002_2021.nc')"
   ]
  },
  {
   "cell_type": "markdown",
   "metadata": {},
   "source": [
    "## MODIS Land surface temp"
   ]
  },
  {
   "cell_type": "code",
   "execution_count": null,
   "metadata": {},
   "outputs": [],
   "source": [
    "import xarray as xr\n",
    "from odc.geo.xr import assign_crs\n",
    "import os\n",
    "import pandas as pd\n",
    "\n",
    "from datacube.utils.dask import start_local_dask\n",
    "client = start_local_dask(mem_safety_margin='2Gb')\n",
    "client"
   ]
  },
  {
   "cell_type": "code",
   "execution_count": null,
   "metadata": {},
   "outputs": [],
   "source": [
    "base='/g/data/ub8/au/MODIS/mosaic/MYD11A1.006/'\n",
    "files = os.listdir(base)\n",
    "paths = [base+i for i in files if not 'QC' in i]"
   ]
  },
  {
   "cell_type": "code",
   "execution_count": null,
   "metadata": {},
   "outputs": [],
   "source": [
    "paths[6:7]"
   ]
  },
  {
   "cell_type": "code",
   "execution_count": null,
   "metadata": {},
   "outputs": [],
   "source": [
    "%%time\n",
    "for p in paths[6:7]:\n",
    "    y=p[-7:-3] #year\n",
    "    print(y)\n",
    "    lst = xr.open_dataset('/g/data/ub8/au/MODIS/mosaic/MYD11A1.006/MYD11A1.006.LST_Day_1km.'+y+'.nc',\n",
    "                          chunks=dict(latitude=1000, longitude=1000))\n",
    "    lst = assign_crs(lst, crs='epsg:4326')\n",
    "    lst = lst.resample(time='MS', loffset=pd.Timedelta(14, 'd')).mean().compute()\n",
    "    lst = lst.LST_Day_1km.rename('LST')\n",
    "    "
   ]
  },
  {
   "cell_type": "code",
   "execution_count": null,
   "metadata": {},
   "outputs": [],
   "source": [
    "lst = lst.isel(time=slice(0,6))"
   ]
  },
  {
   "cell_type": "code",
   "execution_count": null,
   "metadata": {},
   "outputs": [],
   "source": [
    "LST = xr.open_dataarray('/g/data/os22/chad_tmp/NEE_modelling/data/1km/LST_1km_monthly_2002_2021.nc')"
   ]
  },
  {
   "cell_type": "code",
   "execution_count": null,
   "metadata": {},
   "outputs": [],
   "source": [
    "ds = xr.concat([LST, lst], dim='time').sortby('time')"
   ]
  },
  {
   "cell_type": "code",
   "execution_count": null,
   "metadata": {},
   "outputs": [],
   "source": [
    "ds.to_netcdf('/g/data/os22/chad_tmp/NEE_modelling/data/1km/LST_1km_monthly_2002_2022.nc')"
   ]
  },
  {
   "cell_type": "code",
   "execution_count": null,
   "metadata": {},
   "outputs": [],
   "source": []
  },
  {
   "cell_type": "markdown",
   "metadata": {},
   "source": [
    "## MODIS fPAR from GEE\n",
    "\n",
    "https://github.com/aazuspan/wxee/blob/main/docs/examples/image_collection_to_xarray.ipynb\n",
    "\n",
    "https://github.com/aazuspan/wxee/blob/main/docs/examples/modis.ipynb"
   ]
  },
  {
   "cell_type": "code",
   "execution_count": null,
   "metadata": {},
   "outputs": [],
   "source": [
    "# !pip install earthengine-api\n",
    "# !pip install wxee"
   ]
  },
  {
   "cell_type": "code",
   "execution_count": null,
   "metadata": {},
   "outputs": [],
   "source": [
    "import ee\n",
    "import wxee\n",
    "import xarray as xr\n",
    "import rioxarray\n",
    "from odc.geo.xr import assign_crs\n",
    "import pandas as pd\n",
    "import numpy as np\n",
    "import os\n",
    "from odc.algo import xr_reproject"
   ]
  },
  {
   "cell_type": "code",
   "execution_count": null,
   "metadata": {},
   "outputs": [],
   "source": [
    "# Trigger the authentication flow.\n",
    "ee.Authenticate()\n",
    "\n",
    "# Initialize the library.\n",
    "ee.Initialize()"
   ]
  },
  {
   "cell_type": "code",
   "execution_count": null,
   "metadata": {},
   "outputs": [],
   "source": [
    "# ~Aus region (slightly less to trick google into giving me 1km res)\n",
    "region = ee.Geometry.Polygon([[\n",
    "            [114,-43.0],\n",
    "            [153.0,-43.0],\n",
    "            [153.0,-10.0],\n",
    "            [114,-10.0],\n",
    "            [114,-43.0]]])"
   ]
  },
  {
   "cell_type": "markdown",
   "metadata": {},
   "source": [
    "### Loop through months and resample 4-day fPAR MODIS data"
   ]
  },
  {
   "cell_type": "code",
   "execution_count": null,
   "metadata": {},
   "outputs": [],
   "source": [
    "#use start and end dates to loop through months and load GEE FPAR data\n",
    "start = pd.date_range(start='7/1/2002', end='12/1/2021', freq='MS') \n",
    "end = pd.date_range(start='7/1/2002', end='12/31/2021', freq='M')\n",
    "\n",
    "i = 0\n",
    "for s, e in zip(start,end):\n",
    "    \n",
    "    print(\" {:03}/{:03}\\r\".format(i + 1, len(start)), end=\"\")\n",
    "    \n",
    "    #use this to check if file already exists\n",
    "    ss = s+pd.Timedelta(14, 'd')\n",
    "    if os.path.isfile('/g/data/os22/chad_tmp/NEE_modelling/data/FPAR/FPAR_'+ss.strftime('%Y-%m-%d')+'.nc'):\n",
    "        pass\n",
    "    \n",
    "    else:\n",
    "        try:\n",
    "            s = s.strftime('%Y-%m-%d')\n",
    "            e = e.strftime('%Y-%m-%d')\n",
    "\n",
    "            #download data from GEE\n",
    "            ts = wxee.TimeSeries(\"MODIS/061/MCD15A3H\").filterDate(s, e)\n",
    "            ts = ts.select([\"Fpar\"])\n",
    "            ds = ts.wx.to_xarray(region=region, scale=1000, crs=\"EPSG:3577\", progress=False) #download at 1km res\n",
    "\n",
    "            attrs=ds.attrs #extract attributes so we don't loose them\n",
    "            ds = assign_crs(ds, crs='epsg:3577') #add geobox\n",
    "            ds = ds.resample(time='MS', loffset=pd.Timedelta(14, 'd')).mean() #resample to monthly\n",
    "            ds = ds.Fpar #convert to dataarray\n",
    "\n",
    "            lst = xr.open_dataarray('/g/data/os22/chad_tmp/NEE_modelling/data/LST/LST_2002.nc').isel(time=0) #use this to reproject too\n",
    "            ds = xr_reproject(ds, geobox=lst.geobox, resampling='bilinear') #reproject\n",
    "            ds = ds.where(ds!=0) # remove spurious zeros from reprojection\n",
    "            ds = ds.assign_attrs(attrs) #add back attrs\n",
    "            ds.to_netcdf('/g/data/os22/chad_tmp/NEE_modelling/data/FPAR/FPAR_'+np.datetime_as_string(ds.time.values[0], unit='D')+'.nc')\n",
    "\n",
    "        except:\n",
    "            print('fail:', s,e)\n",
    "            pass\n",
    "        \n",
    "    i+=1"
   ]
  },
  {
   "cell_type": "markdown",
   "metadata": {},
   "source": [
    "### Stitch together monthly files into annual netcdfs"
   ]
  },
  {
   "cell_type": "code",
   "execution_count": null,
   "metadata": {},
   "outputs": [],
   "source": [
    "base='/g/data/os22/chad_tmp/NEE_modelling/data/FPAR/'\n",
    "i=0\n",
    "for y in range(2002, 2022):\n",
    "    print(\" {:03}/{:03}\\r\".format(i + 1, len(range(2002, 2023))), end=\"\")\n",
    "    \n",
    "    year = str(y)\n",
    "    files = [base+f for f in os.listdir(base) if year in f]\n",
    "    \n",
    "    dss=[]\n",
    "    for f in files:\n",
    "        ds = xr.open_dataset(f)\n",
    "        dss.append(ds)\n",
    "        \n",
    "    data = xr.concat(dss, dim='time').sortby('time')\n",
    "    data.to_netcdf('/g/data/os22/chad_tmp/NEE_modelling/data/FPAR_annual/FPAR_MODIS_1km_'+year+'.nc')\n",
    "    \n",
    "    i+=1"
   ]
  },
  {
   "cell_type": "markdown",
   "metadata": {},
   "source": [
    "##  Standardized Precipitation Evapotranspiration Index\n",
    "\n",
    "Using CHIRPS 5km as input data and  python `climate_indices` on the command line"
   ]
  },
  {
   "cell_type": "markdown",
   "metadata": {},
   "source": [
    "#### Create long time-series of rainfall using ANUCLIM\n",
    "\n",
    "superseeded by CHIRPS rainfall on 5km grid"
   ]
  },
  {
   "cell_type": "code",
   "execution_count": null,
   "metadata": {},
   "outputs": [],
   "source": [
    "# base='/g/data/gh70/ANUClimate/v2-0/stable/month/'\n",
    "# years = [str(i) for i in range(2002,2021)]\n",
    "\n",
    "# pp = []\n",
    "# for y in years:\n",
    "#     precip = xr.open_mfdataset([base+'rain/'+y+'/'+i for i in os.listdir(base+'rain/'+y+'/')],\n",
    "#                               chunks=dict(lat=1000, lon=1000))\n",
    "#     precip = assign_crs(precip, crs='epsg:4283') #GDA94\n",
    "#     precip = precip.drop('crs').rain\n",
    "#     # precip = precip.rename({'lat':'latitude', 'lon':'longitude'})\n",
    "#     pp.append(precip)\n",
    "\n",
    "# precip = xr.concat(pp, dim='time').sortby('time')\n",
    "# del precip.attrs['grid_mapping']\n",
    "# precip.attrs['units'] = 'mm'\n",
    "# precip = precip.to_dataset()\n",
    "# precip.to_zarr('/g/data/os22/chad_tmp/NEE_modelling/data/SPI/rainfall_2002_2020.nc')"
   ]
  },
  {
   "cell_type": "markdown",
   "metadata": {},
   "source": [
    "AWRA"
   ]
  },
  {
   "cell_type": "code",
   "execution_count": null,
   "metadata": {},
   "outputs": [],
   "source": [
    "import xarray as xr\n",
    "tair = xr.open_dataset('/g/data/os22/chad_tmp/NEE_modelling/data/AWRA/tavg_monthly_1991_2021.nc')\n",
    "tair = tair.rename({'latitude':'lat', 'longitude':'lon'})\n",
    "tair.temp_avg_month.attrs['units'] = 'celsius'\n",
    "tair.to_netcdf('/g/data/os22/chad_tmp/NEE_modelling/data/SPEI/tair.nc')"
   ]
  },
  {
   "cell_type": "code",
   "execution_count": null,
   "metadata": {},
   "outputs": [],
   "source": [
    "rain = xr.open_dataset('/g/data/os22/chad_tmp/NEE_modelling/data/chirps_aus_monthly_1991_2021.nc')\n",
    "rain = rain.rename({'latitude':'lat', 'longitude':'lon'})\n",
    "rain.precip.attrs['units'] = 'mm'\n",
    "rain.to_netcdf('/g/data/os22/chad_tmp/NEE_modelling/data/SPEI/rain.nc')"
   ]
  },
  {
   "cell_type": "markdown",
   "metadata": {},
   "source": [
    "CHIRPS"
   ]
  },
  {
   "cell_type": "code",
   "execution_count": null,
   "metadata": {},
   "outputs": [],
   "source": [
    "import xarray as xr\n",
    "import numpy as np\n",
    "from odc.geo.xr import assign_crs\n",
    "from odc.algo import xr_reproject"
   ]
  },
  {
   "cell_type": "code",
   "execution_count": null,
   "metadata": {},
   "outputs": [],
   "source": [
    "ds = xr.open_dataset('/g/data/os22/chad_tmp/NEE_modelling/data/chirps-v2.0.monthly.nc').sel(time=slice('1991','2021'))\n",
    "ds['time'] = ds.time + np.timedelta64(14,'D') #centre times\n",
    "ds = ds.sel(latitude=slice(-45,-9), longitude=slice(110,155)) # select Aus\n",
    "ds = assign_crs(ds, crs='epsg:4326')\n",
    "\n",
    "#reproject to AWRA grid to align with temp etc.\n",
    "awra = xr.open_dataset('/g/data/os22/chad_tmp/NEE_modelling/data/AWRA/rain_monthly_1991_2021.nc')\n",
    "ds = xr_reproject(ds, awra.geobox, 'nearest') \n",
    "ds['latitude'] = ds.latitude.astype('float32')\n",
    "ds['longitude'] = ds.longitude.astype('float32')\n",
    "print(ds)\n",
    "ds.to_netcdf('/g/data/os22/chad_tmp/NEE_modelling/data/chirps_aus_monthly_1991_2021.nc')"
   ]
  },
  {
   "cell_type": "markdown",
   "metadata": {},
   "source": [
    "#### Use `climate_indices` command line to calculate PET"
   ]
  },
  {
   "cell_type": "code",
   "execution_count": null,
   "metadata": {},
   "outputs": [],
   "source": [
    "import xarray as xr"
   ]
  },
  {
   "cell_type": "code",
   "execution_count": null,
   "metadata": {},
   "outputs": [],
   "source": [
    "tair = xr.open_dataset('/g/data/os22/chad_tmp/NEE_modelling/data/1km/tavg_1km_monthly_2002_2021.nc')\n",
    "\n",
    "# tair = xr.open_dataset('/g/data/os22/chad_tmp/NEE_modelling/data/AWRA/tavg_monthly_1991_2021.nc')\n",
    "tair = tair.rename({'latitude':'lat', 'longitude':'lon'})\n",
    "tair.tavg.attrs['units'] = 'celsius'\n",
    "tair.to_netcdf('/g/data/os22/chad_tmp/NEE_modelling/data/1km/tair.nc')"
   ]
  },
  {
   "cell_type": "code",
   "execution_count": null,
   "metadata": {},
   "outputs": [],
   "source": []
  },
  {
   "cell_type": "code",
   "execution_count": null,
   "metadata": {},
   "outputs": [],
   "source": [
    "import os\n",
    "os.system(\"process_climate_indices \"\\\n",
    "       \"--index pet \"\\\n",
    "       \"--periodicity monthly \"\\\n",
    "       \"--netcdf_temp /g/data/os22/chad_tmp/NEE_modelling/data/1km/tair.nc \"\\\n",
    "       \"--var_name_temp tavg \"\\\n",
    "       \"--output_file_base /g/data/os22/chad_tmp/NEE_modelling/data/1km/ \"\\\n",
    "       \"--multiprocessing all \"\n",
    "         )"
   ]
  },
  {
   "cell_type": "markdown",
   "metadata": {},
   "source": [
    "#### Use `climate_indices` command line to calculate SPI"
   ]
  },
  {
   "cell_type": "code",
   "execution_count": null,
   "metadata": {},
   "outputs": [],
   "source": [
    "# scales= < 6 produces NaNs in some places\n",
    "import os\n",
    "os.system(\"process_climate_indices \"\\\n",
    "       \"--index spei \"\\\n",
    "       \"--periodicity monthly \"\\\n",
    "       \"--netcdf_precip /g/data/os22/chad_tmp/NEE_modelling/data/SPEI/rain.nc \"\\\n",
    "       \"--var_name_precip precip \"\\\n",
    "       \"--netcdf_pet /g/data/os22/chad_tmp/NEE_modelling/data/SPEI/_pet_thornthwaite.nc \"\\\n",
    "       \"--var_name_pet pet_thornthwaite \"\\\n",
    "       \"--output_file_base /g/data/os22/chad_tmp/NEE_modelling/data/SPEI/ \"\\\n",
    "       \"--scales 6 \"\\\n",
    "       \"--calibration_start_year 1991 \"\\\n",
    "       \"--calibration_end_year 2021 \"\\\n",
    "       \"--multiprocessing all \"\n",
    "         )"
   ]
  },
  {
   "cell_type": "markdown",
   "metadata": {},
   "source": [
    "## AWRA Climate\n",
    "\n",
    "/g/data/fj8/BoM/AWRA/DATA/CLIMATE/g/data/fj8/BoM/AWRA/DATA/CLIMATE"
   ]
  },
  {
   "cell_type": "code",
   "execution_count": null,
   "metadata": {},
   "outputs": [],
   "source": [
    "import xarray as xr\n",
    "import pandas as pd\n",
    "from odc.geo.xr import assign_crs"
   ]
  },
  {
   "cell_type": "markdown",
   "metadata": {},
   "source": [
    "#### Solar radiation\n",
    "\n",
    "Data comes as MJ/m2/day, converting to W/m2 by dividing by 0.0864 (86400 seconds in the day; 1,000,000 J to a MJ, so 86400/1x10^6 = 0.0864)\n",
    "\n",
    "total solar Swi"
   ]
  },
  {
   "cell_type": "code",
   "execution_count": null,
   "metadata": {},
   "outputs": [],
   "source": [
    "var='solar_exposure_day'\n",
    "\n",
    "aa = []\n",
    "for y in range(2000, 2022):\n",
    "    year = str(y)\n",
    "    ds = xr.open_dataset('/g/data/fj8/BoM/AWRA/DATA/CLIMATE/'+var+'/'+var+'_'+year+'.nc')\n",
    "    ds = assign_crs(ds, crs='epsg:4236')\n",
    "    ds = ds / 0.0864 #convert to W/m2\n",
    "    ds = ds.resample(time='MS', loffset=pd.Timedelta(14, 'd')).mean()\n",
    "    ds['latitude'] = ds.latitude.astype('float32')\n",
    "    ds['longitude'] = ds.longitude.astype('float32')\n",
    "    aa.append(ds)\n",
    "    \n",
    "ds = xr.concat(aa, dim='time').sortby('time')\n",
    "ds.to_netcdf('/g/data/os22/chad_tmp/NEE_modelling/data/AWRA/solar_monthly_wm2_2000_2021.nc')"
   ]
  },
  {
   "cell_type": "markdown",
   "metadata": {},
   "source": [
    "#### Rainfall"
   ]
  },
  {
   "cell_type": "code",
   "execution_count": null,
   "metadata": {},
   "outputs": [],
   "source": [
    "var='rain_day'\n",
    "\n",
    "aa = []\n",
    "for y in range(1991, 2022)[0:1]:\n",
    "    year = str(y)\n",
    "    ds = xr.open_dataset('/g/data/fj8/BoM/AWRA/DATA/CLIMATE/'+var+'/'+var+'_'+year+'.nc')\n",
    "    ds = assign_crs(ds, crs='epsg:4236')\n",
    "    ds = ds.resample(time='MS', loffset=pd.Timedelta(14, 'd')).sum()\n",
    "    ds['latitude'] = ds.latitude.astype('float32')\n",
    "    ds['longitude'] = ds.longitude.astype('float32')\n",
    "    ds = ds.rename({'rain_day':'rain_month'})\n",
    "    aa.append(ds)\n",
    "    \n",
    "ds = xr.concat(aa, dim='time').sortby('time')\n",
    "ds.to_netcdf('/g/data/os22/chad_tmp/NEE_modelling/data/AWRA/rain_monthly_1991_2021.nc')"
   ]
  },
  {
   "cell_type": "markdown",
   "metadata": {},
   "source": [
    "#### Temperature\n",
    "\n",
    "\n",
    "Calculating daily Tavg using `(tmax+tmin)/2`, then aggreating daily Tavg to monthly mean Tavg."
   ]
  },
  {
   "cell_type": "code",
   "execution_count": null,
   "metadata": {},
   "outputs": [],
   "source": [
    "var='temp_max_day'\n",
    "\n",
    "aa = []\n",
    "for y in range(2000, 2022):\n",
    "    year = str(y)\n",
    "    ds = xr.open_dataset('/g/data/fj8/BoM/AWRA/DATA/CLIMATE/'+var+'/'+var+'_'+year+'.nc')\n",
    "    ds = assign_crs(ds, crs='epsg:4236')\n",
    "    ds = ds.resample(time='MS', loffset=pd.Timedelta(14, 'd')).mean()\n",
    "    ds['latitude'] = ds.latitude.astype('float32')\n",
    "    ds['longitude'] = ds.longitude.astype('float32')\n",
    "    ds = ds.rename({'temp_max_day':'temp_max_month'})\n",
    "    aa.append(ds)\n",
    "    \n",
    "ds = xr.concat(aa, dim='time').sortby('time')\n",
    "ds.to_netcdf('/g/data/os22/chad_tmp/NEE_modelling/data/AWRA/tmax_monthly_2000_2021.nc')"
   ]
  },
  {
   "cell_type": "code",
   "execution_count": null,
   "metadata": {},
   "outputs": [],
   "source": [
    "var='temp_min_day'\n",
    "\n",
    "aa = []\n",
    "for y in range(2000, 2022):\n",
    "    year = str(y)\n",
    "    ds = xr.open_dataset('/g/data/fj8/BoM/AWRA/DATA/CLIMATE/'+var+'/'+var+'_'+year+'.nc')\n",
    "    ds = assign_crs(ds, crs='epsg:4236')\n",
    "    ds = ds.resample(time='MS', loffset=pd.Timedelta(14, 'd')).mean()\n",
    "    ds['latitude'] = ds.latitude.astype('float32')\n",
    "    ds['longitude'] = ds.longitude.astype('float32')\n",
    "    ds = ds.rename({'temp_min_day':'temp_min_month'})\n",
    "    aa.append(ds)\n",
    "    \n",
    "ds = xr.concat(aa, dim='time').sortby('time')\n",
    "ds.to_netcdf('/g/data/os22/chad_tmp/NEE_modelling/data/AWRA/tmin_monthly_2000_2021.nc')"
   ]
  },
  {
   "cell_type": "code",
   "execution_count": null,
   "metadata": {},
   "outputs": [],
   "source": [
    "aa = []\n",
    "i=0\n",
    "for y in range(1991, 2022):\n",
    "    print(\" {:03}/{:03}\\r\".format(i + 1, len(range(1991, 2022))), end=\"\")\n",
    "    year = str(y)\n",
    "    tmax = xr.open_dataset('/g/data/fj8/BoM/AWRA/DATA/CLIMATE/temp_max_day/temp_max_day_'+year+'.nc').temp_max_day\n",
    "    tmax['latitude'] = tmax.latitude.astype('float32')\n",
    "    tmax['longitude'] = tmax.longitude.astype('float32')\n",
    "    tmin = xr.open_dataset('/g/data/fj8/BoM/AWRA/DATA/CLIMATE/temp_min_day/temp_min_day_'+year+'.nc').temp_min_day\n",
    "    tmin['latitude'] = tmin.latitude.astype('float32')\n",
    "    tmin['longitude'] = tmin.longitude.astype('float32')\n",
    "    tavg = (tmax+tmin)/2\n",
    "    tavg = tavg.resample(time='MS', loffset=pd.Timedelta(14, 'd')).mean()\n",
    "    tavg.name = 'temp_avg_month'\n",
    "    aa.append(tavg)\n",
    "    i+=1\n",
    "    \n",
    "ds = xr.concat(aa, dim='time').sortby('time')\n",
    "ds.to_netcdf('/g/data/os22/chad_tmp/NEE_modelling/data/AWRA/tavg_monthly_1991_2021.nc')"
   ]
  },
  {
   "cell_type": "markdown",
   "metadata": {},
   "source": [
    "#### Vapour pressure"
   ]
  },
  {
   "cell_type": "code",
   "execution_count": null,
   "metadata": {},
   "outputs": [],
   "source": [
    "var='vapour_pressure'\n",
    "\n",
    "aa = []\n",
    "for y in range(2000, 2022):\n",
    "    year = str(y)\n",
    "    ds = xr.open_dataset('/g/data/fj8/BoM/AWRA/DATA/CLIMATE/'+var+'/'+var+'_'+year+'.nc')\n",
    "    ds = assign_crs(ds, crs='epsg:4236')\n",
    "    ds = ds.resample(time='MS', loffset=pd.Timedelta(14, 'd')).mean()\n",
    "    ds['latitude'] = ds.latitude.astype('float32')\n",
    "    ds['longitude'] = ds.longitude.astype('float32')\n",
    "    ds = ds.rename({'vapour_pressure':'vapour_pressure_month'})\n",
    "    aa.append(ds)\n",
    "    \n",
    "ds = xr.concat(aa, dim='time').sortby('time')\n",
    "ds.to_netcdf('/g/data/os22/chad_tmp/NEE_modelling/data/AWRA/vp_monthly_2000_2021.nc')"
   ]
  },
  {
   "cell_type": "markdown",
   "metadata": {},
   "source": [
    "#### Vapour pressure deficit\n",
    "\n"
   ]
  },
  {
   "cell_type": "code",
   "execution_count": null,
   "metadata": {},
   "outputs": [],
   "source": [
    "import xarray as xr\n",
    "import numpy as np"
   ]
  },
  {
   "cell_type": "code",
   "execution_count": null,
   "metadata": {},
   "outputs": [],
   "source": [
    "ta = xr.open_dataarray('/g/data/os22/chad_tmp/NEE_modelling/data/AWRA/tavg_monthly_1991_2021.nc').sel(time=slice('2000','2021'))\n",
    "vp = xr.open_dataarray('/g/data/os22/chad_tmp/NEE_modelling/data/AWRA/vp_monthly_2000_2021.nc').sel(time=slice('2000','2021'))\n",
    "\n",
    "sat_vp = (6.11 * np.exp((2500000/461) * (1/273 - 1/(273 + ta))))\n",
    "vpd = sat_vp - vp\n",
    "\n",
    "vpd.name = 'VPD'\n",
    "vpd.to_netcdf('/g/data/os22/chad_tmp/NEE_modelling/data/AWRA/vpd_monthly_2000_2021.nc')"
   ]
  },
  {
   "cell_type": "markdown",
   "metadata": {},
   "source": [
    "## Difference between Land surface and air temperature\n",
    "\n"
   ]
  },
  {
   "cell_type": "code",
   "execution_count": null,
   "metadata": {},
   "outputs": [],
   "source": [
    "import os\n",
    "import xarray as xr\n",
    "import pandas as pd\n",
    "import numpy as np\n",
    "from odc.algo import xr_reproject\n",
    "from odc.geo.xr import assign_crs"
   ]
  },
  {
   "cell_type": "code",
   "execution_count": null,
   "metadata": {},
   "outputs": [],
   "source": [
    "from datacube.utils.dask import start_local_dask\n",
    "client = start_local_dask(mem_safety_margin='2Gb')\n",
    "client"
   ]
  },
  {
   "cell_type": "code",
   "execution_count": null,
   "metadata": {},
   "outputs": [],
   "source": [
    "tair = xr.open_dataarray('/g/data/os22/chad_tmp/NEE_modelling/data/1km/tavg_1km_monthly_2002_2022.nc',\n",
    "                         chunks=dict(latitude=1000, longitude=1000))\n",
    "\n",
    "lst = xr.open_dataset('/g/data/os22/chad_tmp/NEE_modelling/data/1km/LST_1km_monthly_2002_2022.nc',\n",
    "                     chunks=dict(latitude=1000, longitude=1000)).LST"
   ]
  },
  {
   "cell_type": "code",
   "execution_count": null,
   "metadata": {},
   "outputs": [],
   "source": [
    "deltaT = lst - tair\n",
    "deltaT"
   ]
  },
  {
   "cell_type": "code",
   "execution_count": null,
   "metadata": {},
   "outputs": [],
   "source": [
    "deltaT.name = 'LST-Tair'\n",
    "deltaT = deltaT.compute()"
   ]
  },
  {
   "cell_type": "code",
   "execution_count": null,
   "metadata": {},
   "outputs": [],
   "source": [
    "deltaT.isel(time=-6).plot.imshow(size=6, robust=True)"
   ]
  },
  {
   "cell_type": "code",
   "execution_count": null,
   "metadata": {},
   "outputs": [],
   "source": [
    "deltaT.to_netcdf('/g/data/os22/chad_tmp/NEE_modelling/data/1km/LST_Tair_1km_monthly_2002_2022.nc')"
   ]
  },
  {
   "cell_type": "code",
   "execution_count": null,
   "metadata": {},
   "outputs": [],
   "source": []
  },
  {
   "cell_type": "markdown",
   "metadata": {},
   "source": [
    "## FLUXCOM\n",
    "\n",
    "Downloaded from https://www.bgc-jena.mpg.de/geodb/projects/DataDnld.php\n",
    "\n",
    "Using RS-METEO driven by ERA5, ensemble of three ML models."
   ]
  },
  {
   "cell_type": "code",
   "execution_count": null,
   "metadata": {},
   "outputs": [],
   "source": [
    "import xarray as xr\n",
    "from matplotlib import pyplot as plt\n",
    "import os\n",
    "from odc.algo import xr_reproject\n",
    "from odc.geo.xr import assign_crs\n",
    "import pandas as pd"
   ]
  },
  {
   "cell_type": "code",
   "execution_count": null,
   "metadata": {},
   "outputs": [],
   "source": [
    "rm -r -f /g/data/os22/chad_tmp/NEE_modelling/data/FLUXCOM/rs/nee/.ipynb_checkpoints"
   ]
  },
  {
   "cell_type": "code",
   "execution_count": null,
   "metadata": {},
   "outputs": [],
   "source": [
    "var='ter'\n",
    "VAR='TER'"
   ]
  },
  {
   "cell_type": "code",
   "execution_count": null,
   "metadata": {},
   "outputs": [],
   "source": [
    "base = '/g/data/os22/chad_tmp/NEE_modelling/data/FLUXCOM/rs/'+var+'/'\n",
    "files = os.listdir(base)\n",
    "ds = xr.open_mfdataset([base+f for f in files]).sel(longitude=slice(110,155), latitude=slice(-10.25,-45))\n",
    "ds = ds.resample(time='MS', loffset=pd.Timedelta(14, 'd')).mean() #fix timestamps"
   ]
  },
  {
   "cell_type": "code",
   "execution_count": null,
   "metadata": {},
   "outputs": [],
   "source": [
    "ds[VAR].isel(time=1).plot.imshow()"
   ]
  },
  {
   "cell_type": "code",
   "execution_count": null,
   "metadata": {},
   "outputs": [],
   "source": [
    "ds = assign_crs(ds, crs='epsg:4326')"
   ]
  },
  {
   "cell_type": "code",
   "execution_count": null,
   "metadata": {},
   "outputs": [],
   "source": [
    "ds.to_netcdf('/g/data/os22/chad_tmp/NEE_modelling/data/FLUXCOM/'+VAR+'_rs.nc')"
   ]
  },
  {
   "cell_type": "markdown",
   "metadata": {},
   "source": [
    "## Global Canopy Height\n",
    "\n",
    "Requires dask to complete, but result is poor...not sure what's going on\n"
   ]
  },
  {
   "cell_type": "code",
   "execution_count": null,
   "metadata": {},
   "outputs": [],
   "source": [
    "import rioxarray\n",
    "import xarray as xr\n",
    "from odc.algo import xr_reproject\n",
    "from odc.geo.xr import assign_crs\n",
    "from datacube.utils.dask import start_local_dask\n",
    "\n",
    "client = start_local_dask(mem_safety_margin='2Gb')\n",
    "print(client)"
   ]
  },
  {
   "cell_type": "code",
   "execution_count": null,
   "metadata": {},
   "outputs": [],
   "source": [
    "ds = rioxarray.open_rasterio('/g/data/os22/chad_tmp/NEE_modelling/data/forest_height/Forest_height_2019_AUS.tif').squeeze().drop('band')\n",
    "ds = assign_crs(ds, crs='epsg:4236')\n",
    "ds = ds.rename({'y':'latitude', 'x':'longitude'})\n",
    "ds = ds.chunk(dict(latitude=1000,longitude=1000))"
   ]
  },
  {
   "cell_type": "code",
   "execution_count": null,
   "metadata": {},
   "outputs": [],
   "source": [
    "# open a dataset to get geobox to project too (1 km resolution)\n",
    "lst = xr.open_dataset('/g/data/os22/chad_tmp/NEE_modelling/data/LST/LST_2019.nc').isel(time=0)\n",
    "lst = lst.chunk(dict(latitude=1000,longitude=1000))"
   ]
  },
  {
   "cell_type": "code",
   "execution_count": null,
   "metadata": {},
   "outputs": [],
   "source": [
    "ds = xr_reproject(ds, geobox=lst.geobox, resampling='average').compute()"
   ]
  },
  {
   "cell_type": "code",
   "execution_count": null,
   "metadata": {},
   "outputs": [],
   "source": [
    "ds.name = 'forest_height_AUS'\n",
    "\n",
    "ds.to_netcdf('/g/data/os22/chad_tmp/NEE_modelling/data/forest_height/Forest_height_1km_2019_AUS.nc')"
   ]
  },
  {
   "cell_type": "markdown",
   "metadata": {},
   "source": [
    "## MODIS Landcover\n",
    "\n",
    "MCD12Q1.006_500m"
   ]
  },
  {
   "cell_type": "code",
   "execution_count": null,
   "metadata": {},
   "outputs": [],
   "source": [
    "import xarray as xr\n",
    "import numpy as np\n",
    "from odc.algo import xr_reproject\n",
    "from odc.geo.xr import assign_crs"
   ]
  },
  {
   "cell_type": "code",
   "execution_count": null,
   "metadata": {},
   "outputs": [],
   "source": [
    "lc = xr.open_dataset('/g/data/os22/chad_tmp/NEE_modelling/data/MCD12Q1.006_500m_aid0001.nc').squeeze()['LC_Type5']\n",
    "lc = lc.rename({'lat':'latitude', 'lon':'longitude'})\n",
    "attrs = lc.attrs\n",
    "\n",
    "#open chrips (reproject to this)\n",
    "chirps = xr.open_dataset('/g/data/os22/chad_tmp/NEE_modelling/data/chirps_aus_monthly_1991_2021.nc')\n"
   ]
  },
  {
   "cell_type": "code",
   "execution_count": null,
   "metadata": {},
   "outputs": [],
   "source": [
    "lc.attrs"
   ]
  },
  {
   "cell_type": "markdown",
   "metadata": {},
   "source": [
    "Reclassify"
   ]
  },
  {
   "cell_type": "code",
   "execution_count": null,
   "metadata": {},
   "outputs": [],
   "source": [
    "lc = xr.where(lc==1, 2, lc) # ENL to EBF\n",
    "lc = xr.where(lc==3, 2, lc) # DNL to EBF\n",
    "lc = xr.where(lc==4, 2, lc) # DBL to EBF\n",
    "lc = xr.where(lc==8, 7, lc) # Broadleaf crop to Cereal crop\n",
    "lc = xr.where(lc==11, 5, lc) # barren to grass\n",
    "lc = xr.where(lc==0, np.nan, lc) # Water to no-data\n",
    "lc = xr.where(lc==9, np.nan, lc) # urban to no-data\n",
    "lc = xr.where(lc==10, np.nan, lc) # snow to no-data"
   ]
  },
  {
   "cell_type": "code",
   "execution_count": null,
   "metadata": {},
   "outputs": [],
   "source": [
    "#reproject\n",
    "lc = assign_crs(lc, crs='epsg:4326')\n",
    "lc = xr_reproject(lc, chirps.geobox, resampling='mode')\n",
    "\n",
    "# make into a time-series\n",
    "lc = lc.expand_dims(time=chirps.sel(time=slice('2002','2021')).time)\n",
    "lc = lc.rename('IGBP_class')\n",
    "lc.attrs = attrs\n",
    "lc.to_netcdf('/g/data/os22/chad_tmp/NEE_modelling/data/IGBP_Landcover_MODIS_5km.nc')"
   ]
  },
  {
   "cell_type": "markdown",
   "metadata": {},
   "source": [
    "## Carbon Tracker Gridded Fluxes\n",
    "\n",
    "Global surface fluxes at 1x1-degree spatial resolution in netCDF format. Provided as flux components: fossil fuel emissions, land biosphere NEE excluding fires, wildfire emissions, and air-sea exchange. CarbonTracker allows for any type of flux to happen at any grid location, so users are cautioned that they may want to sum flux components to get total surface CO2 exchange with the atmosphere. This convention admits land fluxes from islands in the ocean, for instance, or air-water exchange from inland lakes and seas\n",
    "\n",
    "https://gml.noaa.gov/ccgg/carbontracker/\n",
    "\n",
    "https://gml.noaa.gov/aftp/products/carbontracker/co2/fluxes/monthly/"
   ]
  },
  {
   "cell_type": "code",
   "execution_count": null,
   "metadata": {},
   "outputs": [],
   "source": [
    "import xarray as xr\n",
    "import numpy as np"
   ]
  },
  {
   "cell_type": "code",
   "execution_count": null,
   "metadata": {},
   "outputs": [],
   "source": [
    "ct = xr.open_dataset('/g/data/os22/chad_tmp/NEE_modelling/data/carbontracker/CT2019B.flux1x1-monthly.nc', drop_variables='time_components').sel(time=slice('2003','2018'))\n",
    "ct.data_vars"
   ]
  },
  {
   "cell_type": "code",
   "execution_count": null,
   "metadata": {},
   "outputs": [],
   "source": [
    "ct_aus = ct.sel(longitude=slice(110,155), latitude=slice(-46,-9))\n",
    "# ct_aus.to_netcdf('/g/data/os22/chad_tmp/NEE_modelling/data/carbontracker/CarbonTracker_NEE_AUS_monthly_2000_2018.nc')"
   ]
  },
  {
   "cell_type": "code",
   "execution_count": null,
   "metadata": {},
   "outputs": [],
   "source": [
    "ct_aus.bio_flux_opt.sel(time='2011').plot.imshow(col='time', col_wrap=6, cmap='RdBu_r', robust=True);"
   ]
  },
  {
   "cell_type": "code",
   "execution_count": null,
   "metadata": {},
   "outputs": [],
   "source": [
    "annual_mean = ct_aus.bio_flux_opt.groupby('time.year').sum().mean('year')\n",
    "annual_std = ct_aus.bio_flux_opt.groupby('time.year').sum().std('year')"
   ]
  },
  {
   "cell_type": "code",
   "execution_count": null,
   "metadata": {},
   "outputs": [],
   "source": [
    "from matplotlib import pyplot as plt\n",
    "fig,ax = plt.subplots(1,2, figsize=(25,10))\n",
    "annual_mean.plot.imshow(ax=ax[0], robust=True)\n",
    "annual_std.where(annual_std>0).plot.imshow(ax=ax[1], cmap='magma', robust=True)\n",
    "ax[0].set_title('Carbon Tracker Annual Mean NEE, 2003-2018')\n",
    "ax[1].set_title('Carbon Tracker Annual Std. in NEE, 2003-2018')\n",
    "# plt.suptitle('Annual Mean and Std. Dev. of GPP, 2003-2021')\n",
    "plt.tight_layout();"
   ]
  },
  {
   "cell_type": "code",
   "execution_count": null,
   "metadata": {},
   "outputs": [],
   "source": [
    "ds_1D = ct_aus.bio_flux_opt.sum(['longitude','latitude'])"
   ]
  },
  {
   "cell_type": "code",
   "execution_count": null,
   "metadata": {},
   "outputs": [],
   "source": [
    "ds_1D.plot(figsize=(15,5), marker='o', linestyle='--')\n",
    "plt.axhline(0, c='grey')\n",
    "plt.title('Carbon Tracker monthly NEE, 2003-2018');\n",
    "# plt.ylabel('gC/m2/month');"
   ]
  },
  {
   "cell_type": "code",
   "execution_count": null,
   "metadata": {},
   "outputs": [],
   "source": [
    "ds_1D_annual = ds_1D.resample(time='1Y').sum()\n",
    "ds_1D_annual.plot(figsize=(15,5), marker='o', linestyle='--')\n",
    "plt.axhline(0, c='grey')\n",
    "plt.title('Carbon Tracker Annual NEE, 2003-2018');\n",
    "# plt.ylabel('gC/m2/year');"
   ]
  },
  {
   "cell_type": "code",
   "execution_count": null,
   "metadata": {},
   "outputs": [],
   "source": [
    "monthly_mean = ct_aus.bio_flux_opt.groupby('time.month').mean()\n",
    "monthly_std = ct_aus.bio_flux_opt.groupby('time.month').std()"
   ]
  },
  {
   "cell_type": "code",
   "execution_count": null,
   "metadata": {},
   "outputs": [],
   "source": [
    "y = monthly_mean.sum(['longitude','latitude']).values\n",
    "x = monthly_mean.month.values\n",
    "std = monthly_std.sum(['longitude','latitude']).values\n",
    "\n",
    "fig,ax = plt.subplots(1,1, figsize=(9,4))\n",
    "ax.plot(x, y, marker='o', linestyle='--')\n",
    "ax.axhline(0, c='grey')\n",
    "ax.fill_between(x, y-std, y+std, alpha=0.5)\n",
    "ax.set_title('Carbon Tracker Monthly Mean NEE averaged over Australia')\n",
    "ax.set_xlabel('Month');\n",
    "# ax.set_ylabel('gC/m2/month');"
   ]
  },
  {
   "cell_type": "markdown",
   "metadata": {},
   "source": [
    "## Merge ESA Worldcover with GFSAD cropmask\n",
    "\n",
    "GDAL isn't installed???"
   ]
  },
  {
   "cell_type": "code",
   "execution_count": null,
   "metadata": {},
   "outputs": [],
   "source": [
    "import xarray as xr\n",
    "import numpy as np\n",
    "import rioxarray as rxr\n",
    "from odc.algo import xr_reproject\n",
    "from odc.geo.xr import assign_crs\n"
   ]
  },
  {
   "cell_type": "code",
   "execution_count": null,
   "metadata": {},
   "outputs": [],
   "source": [
    "from datacube.utils.dask import start_local_dask\n",
    "client = start_local_dask(mem_safety_margin='2Gb')\n",
    "client"
   ]
  },
  {
   "cell_type": "code",
   "execution_count": null,
   "metadata": {},
   "outputs": [],
   "source": [
    "lc = xr.open_dataarray('/g/data/os22/chad_tmp/NEE_modelling/data/ESA_worldcover_1km.nc')\n",
    "geobox = lc.geobox"
   ]
  },
  {
   "cell_type": "code",
   "execution_count": null,
   "metadata": {},
   "outputs": [],
   "source": [
    "lc = xr.where(lc==60, 30, lc) # barren to grassland\n",
    "lc = xr.where(lc==80, np.nan, lc) # Water to no-data\n",
    "lc = xr.where(lc==50, np.nan, lc) # urban to no-data\n",
    "lc = xr.where(lc==90, 20, lc) # wetland to shrubland\n",
    "lc = xr.where(lc==95, 10, lc) # mangroves to trees"
   ]
  },
  {
   "cell_type": "code",
   "execution_count": null,
   "metadata": {},
   "outputs": [],
   "source": [
    "cm = rxr.open_rasterio('/g/data/os22/chad_tmp/NEE_modelling/data/GFSAD_cropmask_mosaic.tif', chunks=dict(x=1000, y=1000)).squeeze().drop('band')\n",
    "cm = cm.rename({'x':'longitude', 'y':'latitude'})\n",
    "cm = assign_crs(cm, crs='epsg:4326')\n",
    "cm = cm.astype(np.int8)"
   ]
  },
  {
   "cell_type": "code",
   "execution_count": null,
   "metadata": {},
   "outputs": [],
   "source": [
    "#reproject\n",
    "cm = xr_reproject(cm, geobox, resampling='mode')\n",
    "cm"
   ]
  },
  {
   "cell_type": "code",
   "execution_count": null,
   "metadata": {},
   "outputs": [],
   "source": [
    "cm = cm.compute()"
   ]
  },
  {
   "cell_type": "code",
   "execution_count": null,
   "metadata": {},
   "outputs": [],
   "source": [
    "cm = xr.where(cm==2, 40, np.nan) # reclassify to match ESA cropland class\n",
    "cm.plot.imshow(size=6)"
   ]
  },
  {
   "cell_type": "code",
   "execution_count": null,
   "metadata": {},
   "outputs": [],
   "source": [
    "lc_merged = xr.where(np.isnan(cm), lc, cm)#.plot.imshow(size=10) "
   ]
  },
  {
   "cell_type": "code",
   "execution_count": null,
   "metadata": {},
   "outputs": [],
   "source": [
    "lc_merged.plot.imshow(size=10);"
   ]
  },
  {
   "cell_type": "code",
   "execution_count": null,
   "metadata": {},
   "outputs": [],
   "source": [
    "#open chrips (reproject to this)\n",
    "evi = xr.open_dataset('/g/data/os22/chad_tmp/NEE_modelling/data/1km/EVI_1km_monthly_2002_2021.nc')"
   ]
  },
  {
   "cell_type": "code",
   "execution_count": null,
   "metadata": {},
   "outputs": [],
   "source": [
    "lc_merged = xr_reproject(assign_crs(lc_merged, crs='epsg:4326'), evi.geobox, resampling='mode')\n",
    "\n",
    "# make into a time-series\n",
    "lc_merged = lc_merged.expand_dims(time=evi.sel(time=slice('2002','2021')).time)\n",
    "lc_merged = lc_merged.rename('PFT')\n",
    "lc_merged.astype(np.float32)\n",
    "lc_merged.to_netcdf('/g/data/os22/chad_tmp/NEE_modelling/data/1km/Landcover_1km_monthly_2002_2021.nc')"
   ]
  },
  {
   "cell_type": "code",
   "execution_count": null,
   "metadata": {},
   "outputs": [],
   "source": [
    "import xarray as xr\n",
    "import odc.geo\n",
    "import folium\n",
    "from odc.geo.xr import assign_crs"
   ]
  },
  {
   "cell_type": "code",
   "execution_count": null,
   "metadata": {},
   "outputs": [],
   "source": [
    "lc = assign_crs(xr.open_dataset('/g/data/os22/chad_tmp/NEE_modelling/data/Landcover_merged_5km.nc').isel(time=1), crs='epsg:4326')"
   ]
  },
  {
   "cell_type": "code",
   "execution_count": null,
   "metadata": {},
   "outputs": [],
   "source": [
    "# # Create folium Map (ipyleaflet is also supported)\n",
    "# m = folium.Map()\n",
    "\n",
    "# # Plot each sample image with different colormap\n",
    "# lc.PFT.odc.add_to(m, opacity=1.0, cmap='Paired')\n",
    "\n",
    "# # Zoom map to Australia\n",
    "# m.fit_bounds(lc.odc.map_bounds())\n",
    "\n",
    "# tile = folium.TileLayer(\n",
    "#         tiles = 'https://server.arcgisonline.com/ArcGIS/rest/services/World_Imagery/MapServer/tile/{z}/{y}/{x}',\n",
    "#         attr = 'Esri',\n",
    "#         name = 'Esri Satellite',\n",
    "#         overlay = True,\n",
    "#         control = True\n",
    "#        ).add_to(m)\n",
    "\n",
    "# folium.LayerControl().add_to(m)\n",
    "# display(m)"
   ]
  },
  {
   "cell_type": "code",
   "execution_count": null,
   "metadata": {},
   "outputs": [],
   "source": [
    "lc.PFT.plot.imshow(size=10)"
   ]
  },
  {
   "cell_type": "markdown",
   "metadata": {},
   "source": [
    "## MODIS EVI to 5km grid"
   ]
  },
  {
   "cell_type": "code",
   "execution_count": null,
   "metadata": {},
   "outputs": [],
   "source": [
    "import os\n",
    "import xarray as xr\n",
    "from odc.algo import xr_reproject\n",
    "from odc.geo.xr import assign_crs"
   ]
  },
  {
   "cell_type": "code",
   "execution_count": null,
   "metadata": {},
   "outputs": [],
   "source": [
    "base = '/g/data/os22/chad_tmp/NEE_modelling/data/EVI_annual/'\n",
    "ds = xr.open_mfdataset([base+i for i in os.listdir(base)], chunks=dict(time=1))"
   ]
  },
  {
   "cell_type": "code",
   "execution_count": null,
   "metadata": {},
   "outputs": [],
   "source": [
    "#open chrips (reproject to this)\n",
    "chirps = xr.open_dataset('/g/data/os22/chad_tmp/NEE_modelling/data/chirps_aus_monthly_1991_2021.nc')\n",
    "\n",
    "ds = xr_reproject(ds, geobox=chirps.geobox, resampling='nearest')\n",
    "ds['latitude'] = ds.latitude.astype('float32')\n",
    "ds['longitude'] = ds.longitude.astype('float32')"
   ]
  },
  {
   "cell_type": "code",
   "execution_count": null,
   "metadata": {},
   "outputs": [],
   "source": [
    "ds = ds.compute()"
   ]
  },
  {
   "cell_type": "code",
   "execution_count": null,
   "metadata": {},
   "outputs": [],
   "source": [
    "ds.EVI.isel(time=200).plot.imshow(size=8, vmin=0);"
   ]
  },
  {
   "cell_type": "code",
   "execution_count": null,
   "metadata": {},
   "outputs": [],
   "source": [
    "ds = ds.astype('float32')"
   ]
  },
  {
   "cell_type": "code",
   "execution_count": null,
   "metadata": {},
   "outputs": [],
   "source": [
    "ds.to_netcdf('/g/data/os22/chad_tmp/NEE_modelling/data/EVI_5km_monthly_2002_2021.nc');"
   ]
  },
  {
   "cell_type": "markdown",
   "metadata": {},
   "source": [
    "## Aridity Index"
   ]
  },
  {
   "cell_type": "code",
   "execution_count": null,
   "metadata": {},
   "outputs": [],
   "source": [
    "from odc.algo import xr_reproject\n",
    "from odc.geo.xr import assign_crs\n",
    "import rioxarray\n",
    "import numpy as np\n",
    "import xarray as xr"
   ]
  },
  {
   "cell_type": "code",
   "execution_count": null,
   "metadata": {},
   "outputs": [],
   "source": [
    "ai = rioxarray.open_rasterio('/g/data/os22/chad_tmp/NEE_modelling/data/ai_v3_yr.tif').squeeze().drop('band').isel(x=range(35000,40500), y=range(11750,16250))"
   ]
  },
  {
   "cell_type": "code",
   "execution_count": null,
   "metadata": {},
   "outputs": [],
   "source": [
    "ai = assign_crs(ai, crs='epsg:4326')"
   ]
  },
  {
   "cell_type": "code",
   "execution_count": null,
   "metadata": {},
   "outputs": [],
   "source": [
    "ai = ai / 10000"
   ]
  },
  {
   "cell_type": "code",
   "execution_count": null,
   "metadata": {},
   "outputs": [],
   "source": [
    "#open chrips (reproject to this)\n",
    "evi = xr.open_dataset('/g/data/os22/chad_tmp/NEE_modelling/data/1km/EVI_1km_monthly_2002_2021.nc')\n",
    "\n",
    "ai = xr_reproject(ai, evi.geobox, resampling='average')\n",
    "ai['latitude'] = ai.latitude.astype('float32')\n",
    "ai['longitude'] = ai.longitude.astype('float32')\n",
    "\n",
    "# make into a time-series\n",
    "ai = ai.expand_dims(time=evi.sel(time=slice('2002','2021')).time)\n",
    "ai = ai.rename('AI')"
   ]
  },
  {
   "cell_type": "code",
   "execution_count": null,
   "metadata": {},
   "outputs": [],
   "source": [
    "ai.to_netcdf('/g/data/os22/chad_tmp/NEE_modelling/data/1km/AridityIndex_1km_monthly_2002_2021.nc')"
   ]
  },
  {
   "cell_type": "markdown",
   "metadata": {},
   "source": [
    "## Terra Climate Water balance datasets\n",
    "\n",
    "https://climatedataguide.ucar.edu/climate-data/terraclimate-global-high-resolution-gridded-temperature-precipitation-and-other-water"
   ]
  },
  {
   "cell_type": "code",
   "execution_count": null,
   "metadata": {},
   "outputs": [],
   "source": [
    "from odc.algo import xr_reproject\n",
    "import pandas as pd\n",
    "from odc.geo.xr import assign_crs\n",
    "import rioxarray\n",
    "import numpy as np\n",
    "import xarray as xr"
   ]
  },
  {
   "cell_type": "code",
   "execution_count": null,
   "metadata": {},
   "outputs": [],
   "source": [
    "base= 'http://thredds.northwestknowledge.net/thredds/dodsC/TERRACLIMATE_ALL/data/'\n",
    "year_start = 2021\n",
    "year_end = 2021"
   ]
  },
  {
   "cell_type": "code",
   "execution_count": null,
   "metadata": {},
   "outputs": [],
   "source": [
    "i=0\n",
    "for y in [2003, 2005, 2012, 2013]: #range(year_start, year_end+1):\n",
    "    y = str(y)\n",
    "    print(y)\n",
    "    pet = xr.open_dataset(base+'TerraClimate_pet_'+y+'.nc').isel(lat=slice(2375,3250), lon=slice(6900,8100)).drop('crs')\n",
    "    pet = pet['pet']\n",
    "    pet = pet.rename('PET')\n",
    "    pet.attrs['nodata'] = np.nan\n",
    "    pet = assign_crs(pet, crs='epsg:4326')\n",
    "    attrs = pet.attrs\n",
    "    pet = pet.compute()\n",
    "    pet['time'] = pet.time + pd.Timedelta(14, 'd')\n",
    "\n",
    "    ppt = xr.open_dataset(base+'TerraClimate_ppt_'+y+'.nc').isel(lat=slice(2375,3250), lon=slice(6900,8100)).drop('crs')\n",
    "    ppt = ppt['ppt']\n",
    "    ppt = ppt.rename('precip')\n",
    "    ppt.attrs['nodata'] = np.nan\n",
    "    ppt = assign_crs(ppt, crs='epsg:4326')\n",
    "    attrs = ppt.attrs\n",
    "    ppt = ppt.compute()\n",
    "    ppt['time'] = ppt.time + pd.Timedelta(14, 'd')\n",
    "\n",
    "    ds = ppt/pet\n",
    "    \n",
    "#     ds = xr.open_dataset(base+'TerraClimate_def_'+y+'.nc').isel(lat=slice(2375,3250), lon=slice(6900,8100)).drop('crs')\n",
    "#     ds = ds['def']\n",
    "#     ds = ds.rename('CWD')\n",
    "#     ds.attrs['nodata'] = np.nan\n",
    "#     ds = assign_crs(ds, crs='epsg:4326')\n",
    "#     attrs = ds.attrs\n",
    "#     ds = ds.compute()\n",
    "#     ds['time'] = ds.time + pd.Timedelta(14, 'd')\n",
    "    \n",
    "    ## reproject to 5km resolution\n",
    "    chirps = xr.open_dataset('/g/data/os22/chad_tmp/NEE_modelling/data/chirps_aus_monthly_1991_2021.nc')\n",
    "    ds = xr_reproject(ds, chirps.geobox, resampling='bilinear').compute()\n",
    "    ds['latitude'] = ds.latitude.astype('float32')\n",
    "    ds['longitude'] = ds.longitude.astype('float32')\n",
    "    \n",
    "    ds.to_netcdf('/g/data/os22/chad_tmp/NEE_modelling/data/Moisture_index/Moisture_index_5km_monthly_'+y+'.nc')"
   ]
  },
  {
   "cell_type": "code",
   "execution_count": null,
   "metadata": {},
   "outputs": [],
   "source": [
    "rm -r -f /g/data/os22/chad_tmp/NEE_modelling/data/Moisture_index/.ipynb_checkpoints"
   ]
  },
  {
   "cell_type": "code",
   "execution_count": null,
   "metadata": {},
   "outputs": [],
   "source": [
    "import os\n",
    "base='/g/data/os22/chad_tmp/NEE_modelling/data/Moisture_index/'\n",
    "xx = xr.open_mfdataset([base+i for i in os.listdir(base)]).astype('float32').rename({'__xarray_dataarray_variable__':'MI'})\n",
    "xx"
   ]
  },
  {
   "cell_type": "code",
   "execution_count": null,
   "metadata": {},
   "outputs": [],
   "source": [
    "xx.to_netcdf('/g/data/os22/chad_tmp/NEE_modelling/data/Moisture_index_5km_monthly_2002_2021.nc')"
   ]
  },
  {
   "cell_type": "code",
   "execution_count": null,
   "metadata": {},
   "outputs": [],
   "source": [
    "# xx = xr.open_dataarray('/g/data/os22/chad_tmp/NEE_modelling/data/Moisture_index_5km_monthly_2002_2021.nc')"
   ]
  },
  {
   "cell_type": "code",
   "execution_count": null,
   "metadata": {},
   "outputs": [],
   "source": [
    "#2003-07 to 2003-12\n",
    "#2005-01 to 2005-12\n",
    "#2012-09 to 2012-12\n",
    "#2013-10 to 2013-12"
   ]
  },
  {
   "cell_type": "code",
   "execution_count": null,
   "metadata": {},
   "outputs": [],
   "source": [
    "xx = xr.open_dataarray('/g/data/os22/chad_tmp/NEE_modelling/data/Moisture_index/Moisture_index_5km_monthly_2015.nc')\n",
    "xx"
   ]
  },
  {
   "cell_type": "code",
   "execution_count": null,
   "metadata": {},
   "outputs": [],
   "source": [
    "xx.MI.sel(time='2013').plot.imshow(col='time', robust=True, col_wrap=4);"
   ]
  },
  {
   "cell_type": "markdown",
   "metadata": {},
   "source": [
    "## Create 1 km gridded datasets\n",
    "\n",
    "for remote sensing variables so pixels extraction over EC towers is more representative \n",
    "\n",
    "ToDO:\n",
    "\n",
    "* ~~EVI~~\n",
    "* ~~LAI~~\n",
    "* ~~LST~~\n",
    "* ~~FPAR~~\n",
    "* ~~Tree~~, ~~non-tree~~, ~~no-veg~~\n",
    "* ~~TWI~~\n",
    "* Landcover"
   ]
  },
  {
   "cell_type": "code",
   "execution_count": null,
   "metadata": {},
   "outputs": [],
   "source": [
    "import os\n",
    "import xarray as xr\n",
    "import numpy as np\n",
    "from odc.algo import xr_reproject\n",
    "from odc.geo.xr import assign_crs"
   ]
  },
  {
   "cell_type": "code",
   "execution_count": null,
   "metadata": {},
   "outputs": [],
   "source": [
    "from dask.distributed import Client,Scheduler\n",
    "from dask_jobqueue import SLURMCluster\n",
    "\n",
    "cluster = SLURMCluster(processes=2, cores=2, memory=\"47GB\", walltime='01:00:00')\n",
    "client = Client(cluster)\n",
    "cluster.scale(cores=18)"
   ]
  },
  {
   "cell_type": "code",
   "execution_count": null,
   "metadata": {},
   "outputs": [],
   "source": [
    "client"
   ]
  },
  {
   "cell_type": "code",
   "execution_count": null,
   "metadata": {},
   "outputs": [],
   "source": [
    "base='/g/data/os22/chad_tmp/NEE_modelling/data/Tree_cover/'\n",
    "var='Percent_Tree_Cover'"
   ]
  },
  {
   "cell_type": "code",
   "execution_count": null,
   "metadata": {},
   "outputs": [],
   "source": [
    "ds = xr.open_mfdataset([base+i for i in os.listdir(base)], chunks=dict(time=1)).astype('float32').persist()\n",
    "ds"
   ]
  },
  {
   "cell_type": "code",
   "execution_count": null,
   "metadata": {},
   "outputs": [],
   "source": [
    "#compute climatology\n",
    "clim = ds[var].chunk(dict(latitude=750, longitude=750))\n",
    "clim = ds.groupby(\"time.month\").mean(\"time\").compute()\n",
    "\n",
    "# fill nans with climatology and plot cloudiest period\n",
    "ds = ds.groupby(\"time.month\").fillna(clim)"
   ]
  },
  {
   "cell_type": "code",
   "execution_count": null,
   "metadata": {},
   "outputs": [],
   "source": [
    "ds[var].isel(time=104).plot.imshow(robust=True);"
   ]
  },
  {
   "cell_type": "code",
   "execution_count": null,
   "metadata": {},
   "outputs": [],
   "source": [
    "ds[var].attrs['nodata'] = np.nan #need to add this so xr_reproject doesn't include in reprojection\n",
    "ds.attrs['nodata'] = np.nan\n",
    "ds"
   ]
  },
  {
   "cell_type": "code",
   "execution_count": null,
   "metadata": {},
   "outputs": [],
   "source": [
    "ds = ds.rename({var:'FPAR'}).drop('month')\n",
    "ds"
   ]
  },
  {
   "cell_type": "code",
   "execution_count": null,
   "metadata": {},
   "outputs": [],
   "source": [
    "%%time\n",
    "ds.to_netcdf('/g/data/os22/chad_tmp/NEE_modelling/data/1km/FPAR_1km_monthly_2002_2021.nc')"
   ]
  },
  {
   "cell_type": "markdown",
   "metadata": {},
   "source": [
    "## Fill no-data values in MODIS variables with climatology"
   ]
  },
  {
   "cell_type": "code",
   "execution_count": null,
   "metadata": {},
   "outputs": [],
   "source": [
    "import os\n",
    "import xarray as xr\n",
    "import numpy as np\n",
    "from odc.algo import xr_reproject\n",
    "from odc.geo.xr import assign_crs\n",
    "\n",
    "# from dask.distributed import Client,Scheduler\n",
    "# from dask_jobqueue import SLURMCluster"
   ]
  },
  {
   "cell_type": "code",
   "execution_count": null,
   "metadata": {},
   "outputs": [],
   "source": [
    "from datacube.utils.dask import start_local_dask\n",
    "client = start_local_dask(mem_safety_margin='2Gb')\n",
    "client\n",
    "\n",
    "# cluster = SLURMCluster(processes=2, cores=2, memory=\"47GB\", walltime='01:00:00')\n",
    "# client = Client(cluster)\n",
    "# cluster.scale(cores=18)"
   ]
  },
  {
   "cell_type": "code",
   "execution_count": null,
   "metadata": {},
   "outputs": [],
   "source": [
    "# client"
   ]
  },
  {
   "cell_type": "code",
   "execution_count": null,
   "metadata": {},
   "outputs": [],
   "source": [
    "file='/g/data/os22/chad_tmp/NEE_modelling/data/1km/NDWI_1km_monthly_2002_2022.nc'\n",
    "chunks=dict(latitude=750, longitude=750, time=1)\n",
    "\n",
    "ds = xr.open_dataarray(file, chunks=chunks)"
   ]
  },
  {
   "cell_type": "code",
   "execution_count": null,
   "metadata": {},
   "outputs": [],
   "source": [
    "# ds.isel(time=-6).plot.imshow(robust=True, size=6)"
   ]
  },
  {
   "cell_type": "code",
   "execution_count": null,
   "metadata": {},
   "outputs": [],
   "source": [
    "#compute climatology\n",
    "clim = ds.groupby(\"time.month\").mean(\"time\")#.compute()"
   ]
  },
  {
   "cell_type": "code",
   "execution_count": null,
   "metadata": {},
   "outputs": [],
   "source": [
    "# fill nans with climatology and plot cloudiest period\n",
    "ds = ds.groupby(\"time.month\").fillna(clim).compute()"
   ]
  },
  {
   "cell_type": "code",
   "execution_count": null,
   "metadata": {},
   "outputs": [],
   "source": [
    "# ds.isel(time=-6).plot.imshow(robust=True, size=6)"
   ]
  },
  {
   "cell_type": "code",
   "execution_count": null,
   "metadata": {},
   "outputs": [],
   "source": [
    "ds.drop('month').to_netcdf('/g/data/os22/chad_tmp/NEE_modelling/data/1km/NDWI_1km_monthly_2002_2022_fillna.nc')"
   ]
  },
  {
   "cell_type": "markdown",
   "metadata": {},
   "source": [
    "## Cumulative rainfall"
   ]
  },
  {
   "cell_type": "code",
   "execution_count": null,
   "metadata": {},
   "outputs": [],
   "source": [
    "import xarray as xr\n",
    "from dask.distributed import Client,Scheduler\n",
    "from dask_jobqueue import SLURMCluster"
   ]
  },
  {
   "cell_type": "code",
   "execution_count": null,
   "metadata": {},
   "outputs": [],
   "source": [
    "cluster = SLURMCluster(processes=2, cores=2, memory=\"47GB\", walltime='01:00:00')\n",
    "client = Client(cluster)\n",
    "cluster.scale(cores=18)"
   ]
  },
  {
   "cell_type": "code",
   "execution_count": null,
   "metadata": {},
   "outputs": [],
   "source": [
    "client"
   ]
  },
  {
   "cell_type": "code",
   "execution_count": null,
   "metadata": {},
   "outputs": [],
   "source": [
    "rain = xr.open_dataarray('/g/data/os22/chad_tmp/NEE_modelling/data/1km/rain_1km_monthly_2002_2022.nc',\n",
    "                        chunks=dict(latitude=1000, longitude=1000))"
   ]
  },
  {
   "cell_type": "code",
   "execution_count": null,
   "metadata": {},
   "outputs": [],
   "source": [
    "rain_cml_3 = rain.rolling(time=3, min_periods=3).sum()\n",
    "rain_cml_3 = rain_cml_3.rename('rain_cml3')"
   ]
  },
  {
   "cell_type": "code",
   "execution_count": null,
   "metadata": {},
   "outputs": [],
   "source": [
    "rain_cml_6 = rain.rolling(time=6, min_periods=6).sum()\n",
    "rain_cml_6 = rain_cml_6.rename('rain_cml6')"
   ]
  },
  {
   "cell_type": "code",
   "execution_count": null,
   "metadata": {},
   "outputs": [],
   "source": [
    "rain_cml_12 = rain.rolling(time=12, min_periods=12).sum()\n",
    "rain_cml_12 = rain_cml_12.rename('rain_cml12')"
   ]
  },
  {
   "cell_type": "code",
   "execution_count": null,
   "metadata": {},
   "outputs": [],
   "source": [
    "rain_cml_3.compute().to_netcdf('/g/data/os22/chad_tmp/NEE_modelling/data/1km/rain_cml3_1km_monthly_2002_2022.nc')"
   ]
  },
  {
   "cell_type": "code",
   "execution_count": null,
   "metadata": {},
   "outputs": [],
   "source": [
    "rain_cml_6.compute().to_netcdf('/g/data/os22/chad_tmp/NEE_modelling/data/1km/rain_cml6_1km_monthly_2002_2022.nc')"
   ]
  },
  {
   "cell_type": "code",
   "execution_count": null,
   "metadata": {},
   "outputs": [],
   "source": [
    "rain_cml_12.compute().to_netcdf('/g/data/os22/chad_tmp/NEE_modelling/data/1km/rain_cml12_1km_monthly_2002_2022.nc')"
   ]
  },
  {
   "cell_type": "code",
   "execution_count": null,
   "metadata": {},
   "outputs": [],
   "source": [
    "rain_cml_12.mean(['latitude', 'longitude']).plot(figsize=(11,4))"
   ]
  },
  {
   "cell_type": "markdown",
   "metadata": {},
   "source": [
    "## Fractional Anomalies\n",
    "\n",
    "    (obs - climatology) / climatology\n",
    "    \n"
   ]
  },
  {
   "cell_type": "markdown",
   "metadata": {},
   "source": [
    "kNDVI, LAI, rain_cml3, rain_cml6, rain_cml12, NDWI"
   ]
  },
  {
   "cell_type": "code",
   "execution_count": null,
   "metadata": {},
   "outputs": [],
   "source": [
    "import xarray as xr\n",
    "import warnings\n",
    "warnings.filterwarnings(\"ignore\")\n",
    "\n",
    "from dask.distributed import Client,Scheduler\n",
    "from dask_jobqueue import SLURMCluster"
   ]
  },
  {
   "cell_type": "code",
   "execution_count": null,
   "metadata": {},
   "outputs": [],
   "source": [
    "cluster = SLURMCluster(processes=2, cores=2, memory=\"47GB\", walltime='01:00:00')\n",
    "client = Client(cluster)\n",
    "cluster.scale(cores=18)"
   ]
  },
  {
   "cell_type": "code",
   "execution_count": null,
   "metadata": {},
   "outputs": [],
   "source": [
    "client"
   ]
  },
  {
   "cell_type": "code",
   "execution_count": null,
   "metadata": {},
   "outputs": [],
   "source": [
    "var = 'kNDVI'\n",
    "ds = xr.open_dataarray('/g/data/os22/chad_tmp/NEE_modelling/data/1km/'+var+'_1km_monthly_2002_2022.nc',\n",
    "                      chunks=dict(latitude=1200, longitude=1200))"
   ]
  },
  {
   "cell_type": "code",
   "execution_count": null,
   "metadata": {},
   "outputs": [],
   "source": [
    "mean = ds.groupby(\"time.month\").mean(\"time\")"
   ]
  },
  {
   "cell_type": "code",
   "execution_count": null,
   "metadata": {},
   "outputs": [],
   "source": [
    "frac = ds.groupby(\"time.month\") / mean\n",
    "# frac = frac.groupby(\"time.month\") / mean"
   ]
  },
  {
   "cell_type": "code",
   "execution_count": null,
   "metadata": {},
   "outputs": [],
   "source": [
    "frac=frac.compute()"
   ]
  },
  {
   "cell_type": "code",
   "execution_count": null,
   "metadata": {},
   "outputs": [],
   "source": [
    "frac.mean(['latitude', 'longitude']).plot(figsize=(11,5))"
   ]
  },
  {
   "cell_type": "code",
   "execution_count": null,
   "metadata": {},
   "outputs": [],
   "source": [
    "frac.drop('month').rename(var+'_anom').to_netcdf('/g/data/os22/chad_tmp/NEE_modelling/data/1km/'+var+'_anom_1km_monthly_2002_2022.nc')"
   ]
  },
  {
   "cell_type": "code",
   "execution_count": null,
   "metadata": {},
   "outputs": [],
   "source": [
    "client.shutdown()"
   ]
  },
  {
   "cell_type": "markdown",
   "metadata": {},
   "source": [
    "## Topographic Moisture index\n",
    "\n",
    "Values of TWI larger than about 12 are most likely in channels or extremely flat areas where the physical concepts behind TWI are invalid and probably are not useful for measuring relative wetness, topographic position or any other geomorphic property. Contributing area (for channels) and MrVBF are more likely to be useful indicators of geomorphic properties in these areas. See, for example, McKenzie, Gallant and Gregory (2003) where soil depth is estimated using TWI on hillslopes and MrVBF in flat valley floors: the range of validity for TWI in that example was approximately 4.8 to somewhat beyond 8.5."
   ]
  },
  {
   "cell_type": "code",
   "execution_count": null,
   "metadata": {},
   "outputs": [],
   "source": [
    "import os\n",
    "import xarray as xr\n",
    "import rioxarray as rxr\n",
    "import numpy as np\n",
    "from odc.algo import xr_reproject\n",
    "from odc.geo.xr import assign_crs\n",
    "\n",
    "from dask.distributed import Client,Scheduler\n",
    "from dask_jobqueue import SLURMCluster\n"
   ]
  },
  {
   "cell_type": "code",
   "execution_count": null,
   "metadata": {},
   "outputs": [],
   "source": [
    "cluster = SLURMCluster(processes=2, cores=2, memory=\"47GB\", walltime='01:00:00')\n",
    "client = Client(cluster)\n",
    "cluster.scale(cores=18)"
   ]
  },
  {
   "cell_type": "code",
   "execution_count": null,
   "metadata": {},
   "outputs": [],
   "source": [
    "client"
   ]
  },
  {
   "cell_type": "code",
   "execution_count": null,
   "metadata": {},
   "outputs": [],
   "source": [
    "ds = rxr.open_rasterio('/g/data/os22/chad_tmp/NEE_modelling/data/twi_3s.tif').squeeze().drop('band')\n",
    "ds = assign_crs(ds, crs='epsg:4326')\n",
    "ds.attrs['nodata'] = ds.attrs['_FillValue']"
   ]
  },
  {
   "cell_type": "code",
   "execution_count": null,
   "metadata": {},
   "outputs": [],
   "source": [
    "# ds = ds.chunk(dict(x=1000, y=1000))"
   ]
  },
  {
   "cell_type": "code",
   "execution_count": null,
   "metadata": {},
   "outputs": [],
   "source": [
    "## reproject to 1km resolution\n",
    "c4 = xr.open_dataset('/g/data/os22/chad_tmp/NEE_modelling/data/1km/C4percent_1km_monthly_2002_2022.nc')\n",
    "ds = xr_reproject(ds, c4.geobox, resampling='average').compute()\n",
    "ds"
   ]
  },
  {
   "cell_type": "code",
   "execution_count": null,
   "metadata": {},
   "outputs": [],
   "source": [
    "ds['latitude'] = ds.latitude.astype('float32')\n",
    "ds['latitude'] = np.array([round(i,4) for i in ds.latitude.values])\n",
    "ds['longitude'] = ds.longitude.astype('float32')\n",
    "ds['longitude'] = np.array([round(i,4) for i in ds.longitude.values])"
   ]
  },
  {
   "cell_type": "code",
   "execution_count": null,
   "metadata": {},
   "outputs": [],
   "source": [
    "# ds.plot.imshow(robust=True)"
   ]
  },
  {
   "cell_type": "code",
   "execution_count": null,
   "metadata": {},
   "outputs": [],
   "source": [
    "#mask\n",
    "mask = (ds!=ds.attrs['nodata'])\n",
    "ds = ds.where(mask)\n",
    "\n",
    "ds = ds.expand_dims(time=c4.sel(time=slice('2002', '2022')).time)\n",
    "ds = ds.rename('TWI')\n",
    "ds = ds.astype('float32')"
   ]
  },
  {
   "cell_type": "code",
   "execution_count": null,
   "metadata": {},
   "outputs": [],
   "source": [
    "ds.attrs['nodata'] = np.nan\n",
    "ds"
   ]
  },
  {
   "cell_type": "markdown",
   "metadata": {},
   "source": [
    "### Clip to 10 to prevent very high, invalid TWI values"
   ]
  },
  {
   "cell_type": "code",
   "execution_count": null,
   "metadata": {},
   "outputs": [],
   "source": [
    "ds = xr.where(ds>10, 10, ds)"
   ]
  },
  {
   "cell_type": "code",
   "execution_count": null,
   "metadata": {},
   "outputs": [],
   "source": [
    "# ds.isel(time=-1).plot.imshow(size=10, robust=True)"
   ]
  },
  {
   "cell_type": "code",
   "execution_count": null,
   "metadata": {},
   "outputs": [],
   "source": [
    "ds.to_netcdf('/g/data/os22/chad_tmp/NEE_modelling/data/1km/TWI_1km_monthly_2002_2022.nc')"
   ]
  },
  {
   "cell_type": "markdown",
   "metadata": {},
   "source": [
    "## MODIS Vegetation continous fields"
   ]
  },
  {
   "cell_type": "code",
   "execution_count": null,
   "metadata": {},
   "outputs": [],
   "source": [
    "import xarray as xr\n",
    "import numpy as np\n",
    "from odc.geo.xr import assign_crs\n",
    "from odc.algo import xr_reproject"
   ]
  },
  {
   "cell_type": "code",
   "execution_count": null,
   "metadata": {},
   "outputs": [],
   "source": [
    "path = '/g/data/os22/chad_tmp/NEE_modelling/data/NonVegetated_cover/'\n",
    "band = 'Percent_NonVegetated'\n",
    "rename = 'nonveg_cover'"
   ]
  },
  {
   "cell_type": "code",
   "execution_count": null,
   "metadata": {},
   "outputs": [],
   "source": [
    "year_start = 2021\n",
    "year_end = 2021"
   ]
  },
  {
   "cell_type": "code",
   "execution_count": null,
   "metadata": {},
   "outputs": [],
   "source": [
    "i=0\n",
    "for y in range(year_start, year_end+1):\n",
    "    #print(\" {:02}/{:02}\\r\".format(i + 1, len(range(year_start, year_end+1))), end=\"\")\n",
    "    year = str(y)\n",
    "    print(year)\n",
    "    ds = xr.open_dataset(path+'MOD44B_'+'2020'+'.nc').squeeze().drop('time')\n",
    "    ds[band].attrs['nodata'] = np.nan #need to add this so xr_reproject doesn't include in reprojection\n",
    "    ds.attrs['nodata'] = np.nan\n",
    "    \n",
    "    ## reproject to 5km resolution\n",
    "    evi = xr.open_dataset('/g/data/os22/chad_tmp/NEE_modelling/data/1km/EVI_1km_monthly_2002_2021.nc')\n",
    "    \n",
    "    # ds = xr_reproject(ds, chirps.geobox, resampling='average', dst_nodata=np.nan).compute()\n",
    "    # ds['latitude'] = ds.latitude.astype('float32')\n",
    "    # ds['longitude'] = ds.longitude.astype('float32')\n",
    "    \n",
    "    #mask\n",
    "    mask = ~np.isnan(evi.EVI.isel(time=0).squeeze().drop('time'))\n",
    "    ds = ds.where(mask)\n",
    "    \n",
    "    ds = ds[band].expand_dims(time=evi.sel(time=year).time)\n",
    "    ds = ds.rename(rename)\n",
    "    ds = ds.astype('float32')\n",
    "\n",
    "    ds.to_netcdf(path+'monthly/'+year+'.nc')\n"
   ]
  },
  {
   "cell_type": "code",
   "execution_count": null,
   "metadata": {},
   "outputs": [],
   "source": [
    "import os"
   ]
  },
  {
   "cell_type": "code",
   "execution_count": null,
   "metadata": {},
   "outputs": [],
   "source": [
    "!rm -r -f /g/data/os22/chad_tmp/NEE_modelling/data/NonVegetated_cover/monthly/.ipynb_checkpoints"
   ]
  },
  {
   "cell_type": "code",
   "execution_count": null,
   "metadata": {},
   "outputs": [],
   "source": [
    "base = '/g/data/os22/chad_tmp/NEE_modelling/data/NonVegetated_cover/monthly/'\n",
    "files = os.listdir(base)\n",
    "\n",
    "paths = [base+f for f in files]\n",
    "\n",
    "ds = xr.open_mfdataset(paths).compute()"
   ]
  },
  {
   "cell_type": "code",
   "execution_count": null,
   "metadata": {},
   "outputs": [],
   "source": [
    "clim = ds.groupby(\"time.month\").mean(\"time\")\n",
    "ds = ds.groupby(\"time.month\").fillna(clim)"
   ]
  },
  {
   "cell_type": "code",
   "execution_count": null,
   "metadata": {},
   "outputs": [],
   "source": [
    "ds = ds.drop('month')\n",
    "ds/g/data/os22/chad_tmp/NEE_modelling/data/1km/EVI_1km_monthly_2002_2021.nc"
   ]
  },
  {
   "cell_type": "code",
   "execution_count": null,
   "metadata": {},
   "outputs": [],
   "source": [
    "ds.to_netcdf('/g/data/os22/chad_tmp/NEE_modelling/data/1km/NonVeg_1km_monthly_2002_2021.nc')"
   ]
  },
  {
   "cell_type": "markdown",
   "metadata": {},
   "source": [
    "### Extend into 2022"
   ]
  },
  {
   "cell_type": "code",
   "execution_count": null,
   "metadata": {},
   "outputs": [],
   "source": [
    "import xarray as xr"
   ]
  },
  {
   "cell_type": "code",
   "execution_count": null,
   "metadata": {},
   "outputs": [],
   "source": [
    "# nonveg = xr.open_dataarray('/g/data/os22/chad_tmp/NEE_modelling/data/1km/NonVeg_1km_monthly_2002_2021.nc')\n",
    "# tree = xr.open_dataarray('/g/data/os22/chad_tmp/NEE_modelling/data/1km/Tree_1km_monthly_2002_2021.nc')\n",
    "nontree = xr.open_dataarray('/g/data/os22/chad_tmp/NEE_modelling/data/1km/NonTree_1km_monthly_2002_2021.nc')"
   ]
  },
  {
   "cell_type": "code",
   "execution_count": null,
   "metadata": {},
   "outputs": [],
   "source": [
    "da = xr.open_dataarray('/g/data/os22/chad_tmp/NEE_modelling/data/1km/tavg_1km_monthly_2002_2022.nc')"
   ]
  },
  {
   "cell_type": "code",
   "execution_count": null,
   "metadata": {},
   "outputs": [],
   "source": [
    "# nonveg_slice = nonveg.sel(time=slice('2021-01', '2021-06'))\n",
    "# nonveg_slice['time'] = da.sel(time='2022').time\n",
    "\n",
    "# tree_slice = tree.sel(time=slice('2021-01', '2021-06'))\n",
    "# tree_slice['time'] = da.sel(time='2022').time\n",
    "\n",
    "nontree_slice = nontree.sel(time=slice('2021-01', '2021-06'))\n",
    "nontree_slice['time'] = da.sel(time='2022').time"
   ]
  },
  {
   "cell_type": "code",
   "execution_count": null,
   "metadata": {},
   "outputs": [],
   "source": [
    "# nonveg = xr.concat([nonveg, nonveg_slice], dim='time').sortby('time')\n",
    "# tree = xr.concat([tree, tree_slice], dim='time').sortby('time')\n",
    "nontree = xr.concat([nontree, nontree_slice], dim='time').sortby('time')"
   ]
  },
  {
   "cell_type": "code",
   "execution_count": null,
   "metadata": {},
   "outputs": [],
   "source": [
    "# nonveg.to_netcdf('/g/data/os22/chad_tmp/NEE_modelling/data/1km/NonVeg_1km_monthly_2002_2022.nc')\n",
    "# tree.to_netcdf('/g/data/os22/chad_tmp/NEE_modelling/data/1km/Tree_1km_monthly_2002_2022.nc')\n",
    "nontree.to_netcdf('/g/data/os22/chad_tmp/NEE_modelling/data/1km/NonTree_1km_monthly_2002_2022.nc')"
   ]
  },
  {
   "cell_type": "markdown",
   "metadata": {},
   "source": [
    "## Soil and Landscape grids"
   ]
  },
  {
   "cell_type": "code",
   "execution_count": null,
   "metadata": {},
   "outputs": [],
   "source": [
    "import xarray as xr\n",
    "import numpy as np\n",
    "import rioxarray as rxr\n",
    "from odc.geo.xr import assign_crs\n",
    "from odc.algo import xr_reproject"
   ]
  },
  {
   "cell_type": "code",
   "execution_count": null,
   "metadata": {},
   "outputs": [],
   "source": [
    "# ds = xr.open_dataarray('/g/data/os22/chad_tmp/NEE_modelling/data/1km/SOC_1km_monthly_2002_2021.nc').isel(time=1)\n",
    "# ds.plot.hist(bins=100);#imshow(size=10, robust=True)"
   ]
  },
  {
   "cell_type": "code",
   "execution_count": null,
   "metadata": {},
   "outputs": [],
   "source": [
    "from datacube.utils.dask import start_local_dask\n",
    "client = start_local_dask(mem_safety_margin='2Gb')\n",
    "client"
   ]
  },
  {
   "cell_type": "code",
   "execution_count": null,
   "metadata": {},
   "outputs": [],
   "source": [
    "ds = rxr.open_rasterio('/g/data/os22/chad_tmp/NEE_modelling/data/SOC/SOC_000_005_EV_N_P_AU_NAT_C_20140801.tif',\n",
    "                      chunks=dict(x=5000, y=5000)).squeeze().drop('band')\n",
    "ds = assign_crs(ds, crs='epsg:4326')\n",
    "ds = ds.rename('SOC')\n",
    "ds = ds.where(ds>-1)\n",
    "ds.attrs['nodata'] = np.nan\n",
    "ds"
   ]
  },
  {
   "cell_type": "code",
   "execution_count": null,
   "metadata": {},
   "outputs": [],
   "source": [
    "## reproject to 1km resolution\n",
    "da = xr.open_dataset('/g/data/os22/chad_tmp/NEE_modelling/data/1km/tavg_1km_monthly_2002_2022.nc')\n",
    "ds = xr_reproject(ds, da.geobox, resampling='average')\n",
    "ds['latitude'] = ds.latitude.astype('float32')\n",
    "ds['longitude'] = ds.longitude.astype('float32')\n",
    "ds['latitude'] = np.array([round(i,4) for i in ds.latitude.values])\n",
    "ds['longitude'] = np.array([round(i,4) for i in ds.longitude.values])\n",
    "ds = ds.compute()\n",
    "ds"
   ]
  },
  {
   "cell_type": "code",
   "execution_count": null,
   "metadata": {},
   "outputs": [],
   "source": [
    "ds = ds.expand_dims(time=da.sel(time=slice('2002', '2022')).time)"
   ]
  },
  {
   "cell_type": "code",
   "execution_count": null,
   "metadata": {},
   "outputs": [],
   "source": [
    "ds.to_netcdf('/g/data/os22/chad_tmp/NEE_modelling/data/1km/SOC_1km_monthly_2002_2022.nc')"
   ]
  },
  {
   "cell_type": "markdown",
   "metadata": {},
   "source": [
    "## MODIS 'Months Since Burnt'"
   ]
  },
  {
   "cell_type": "code",
   "execution_count": null,
   "metadata": {},
   "outputs": [],
   "source": [
    "import os\n",
    "import xarray as xr\n",
    "import numpy as np\n",
    "from odc.geo.xr import assign_crs\n",
    "from odc.algo import xr_reproject\n",
    "from dask.distributed import Client,Scheduler\n",
    "from dask_jobqueue import SLURMCluster"
   ]
  },
  {
   "cell_type": "code",
   "execution_count": null,
   "metadata": {},
   "outputs": [],
   "source": [
    "cluster = SLURMCluster(processes=2, cores=2, memory=\"47GB\", walltime='01:00:00')\n",
    "client = Client(cluster)\n",
    "cluster.scale(cores=12)"
   ]
  },
  {
   "cell_type": "code",
   "execution_count": null,
   "metadata": {},
   "outputs": [],
   "source": [
    "client"
   ]
  },
  {
   "cell_type": "markdown",
   "metadata": {},
   "source": [
    "### Stitch together files downloaded from GEE\n",
    "\n",
    "product  `\"MODIS/006/MCD64A1\"`, band `BurnDate`"
   ]
  },
  {
   "cell_type": "code",
   "execution_count": null,
   "metadata": {},
   "outputs": [],
   "source": [
    "base='/g/data/os22/chad_tmp/NEE_modelling/data/BurnDate/'\n",
    "files = os.listdir(base)\n",
    "ds = xr.open_mfdataset([base+f for f in files]).persist()\n",
    "ds"
   ]
  },
  {
   "cell_type": "markdown",
   "metadata": {},
   "source": [
    "### Reclassify DOY values to binary\n",
    "\n",
    "If burnt at all during the a given month, then 1, else 0."
   ]
  },
  {
   "cell_type": "code",
   "execution_count": null,
   "metadata": {},
   "outputs": [],
   "source": [
    "ds = ds > 0"
   ]
  },
  {
   "cell_type": "markdown",
   "metadata": {},
   "source": [
    "### Loop through each month in the time-series\n",
    "\n",
    "* In the first month of the time-series (Jan 2002) we reclassify all the 0 (not burnt) values to 120 (assume 10 years of no-disturbance)\n",
    "* Then, for each month thereafter if there is no burn, then the count is iterated by 1 i.e. if not burnt Feb 2002 pixel will be 121, etc. If the pixel is burnt, then the count is set back to 0 whereby it will begin counting upwards from zero again.\n",
    "* After the loop is finished, any pixel that is greater-than 120, is set back to 120. In this way, areas undisturbed by fire have a maxium value of 120 (10 years of being undistrubed by fire), and pixels distrurbed by fire have a value between 0 (just burnt), and 119 (burnt 9 years, 11 months ago)."
   ]
  },
  {
   "cell_type": "code",
   "execution_count": null,
   "metadata": {},
   "outputs": [],
   "source": [
    "i=0\n",
    "results = []\n",
    "for t in range(0,len(ds.time)): \n",
    "    print(\" {:02}/{:02}\\r\".format(i + 1, len(ds.time)), end=\"\")\n",
    "    \n",
    "    time = ds.isel(time=t).time.values\n",
    "    \n",
    "    if t>0:\n",
    "        \n",
    "        da = ds.BurnDate.isel(time=t)\n",
    "        da = xr.where(da==0, results[t-1]+1, 0)\n",
    "    \n",
    "    else:\n",
    "    \n",
    "        time = ds.isel(time=t).time.values\n",
    "        da = ds.BurnDate.isel(time=t)\n",
    "        da = xr.where(da==0, 120 , 0) #what should the starting value be? 0 or some larger number?\n",
    "    \n",
    "    da = da.squeeze().drop('time')\n",
    "    da = da.expand_dims(time=[time])\n",
    "    \n",
    "    results.append(da.astype('int16').rename('Months_since_burn'))\n",
    "    \n",
    "    i+=1\n",
    "\n",
    "ds = xr.concat(results, dim='time').sortby('time')\n",
    "ds = xr.where(ds > 120, 120, ds).compute()"
   ]
  },
  {
   "cell_type": "code",
   "execution_count": null,
   "metadata": {},
   "outputs": [],
   "source": [
    "evi = xr.open_dataarray('/g/data/os22/chad_tmp/NEE_modelling/data/1km/EVI_1km_monthly_2002_2021.nc').isel(time=0)\n",
    "ds = ds.astype('float32').where(~np.isnan(evi))"
   ]
  },
  {
   "cell_type": "code",
   "execution_count": null,
   "metadata": {},
   "outputs": [],
   "source": [
    "ds.to_netcdf('/g/data/os22/chad_tmp/NEE_modelling/data/1km/FireDisturbance_1km_monthly_2002_2021.nc')"
   ]
  },
  {
   "cell_type": "markdown",
   "metadata": {},
   "source": [
    "### Mask pixels that are on average > 50 % trees (using MODIS VCF)"
   ]
  },
  {
   "cell_type": "code",
   "execution_count": null,
   "metadata": {},
   "outputs": [],
   "source": [
    "tree = xr.open_dataarray('/g/data/os22/chad_tmp/NEE_modelling/data/1km/Tree_1km_monthly_2002_2021.nc',\n",
    "                         chunks=dict(latitude=1000, longitude=1000)).mean('time').compute()\n",
    "tree = tree >= 50\n",
    "ds = ds.astype('float32').where(tree)\n",
    "ds.attrs['nodata'] = np.nan"
   ]
  },
  {
   "cell_type": "code",
   "execution_count": null,
   "metadata": {},
   "outputs": [],
   "source": [
    "ds.to_netcdf('/g/data/os22/chad_tmp/NEE_modelling/data/1km/FireDisturbanceTrees_1km_monthly_2002_2021.nc')"
   ]
  },
  {
   "cell_type": "markdown",
   "metadata": {},
   "source": [
    "### Reproject to 5km resolution"
   ]
  },
  {
   "cell_type": "code",
   "execution_count": null,
   "metadata": {},
   "outputs": [],
   "source": [
    "evi = xr.open_dataarray('/g/data/os22/chad_tmp/NEE_modelling/data/5km/EVI_5km_monthly_2002_2021.nc').isel(time=0) #use this to reproject too\n",
    "ds.attrs['nodata'] = np.nan\n",
    "ds = xr_reproject(assign_crs(ds, crs='epsg:4326'), geobox=evi.geobox, resampling='average') #reproject\n",
    "ds['latitude'] = ds.latitude.astype('float32')\n",
    "ds['longitude'] = ds.longitude.astype('float32')\n",
    "ds"
   ]
  },
  {
   "cell_type": "code",
   "execution_count": null,
   "metadata": {},
   "outputs": [],
   "source": [
    "ds.to_netcdf('/g/data/os22/chad_tmp/NEE_modelling/data/5km/FireDisturbance_5km_monthly_2002_2021.nc')"
   ]
  },
  {
   "cell_type": "markdown",
   "metadata": {},
   "source": [
    "### Animate (for fun)"
   ]
  },
  {
   "cell_type": "code",
   "execution_count": null,
   "metadata": {},
   "outputs": [],
   "source": [
    "import sys\n",
    "import xarray as xr\n",
    "import geopandas as gpd\n",
    "from IPython.display import Image\n",
    "import matplotlib.pyplot as plt\n",
    "from odc.geo.xr import assign_crs\n",
    "sys.path.append('/g/data/os22/chad_tmp/dea-notebooks/Tools')\n",
    "from dea_tools.plotting import xr_animation"
   ]
  },
  {
   "cell_type": "code",
   "execution_count": null,
   "metadata": {},
   "outputs": [],
   "source": [
    "ds = assign_crs(xr.open_dataarray('/g/data/os22/chad_tmp/NEE_modelling/data/1km/FireDisturbanceTrees_1km_monthly_2002_2021.nc'), crs='epsg:4326')"
   ]
  },
  {
   "cell_type": "code",
   "execution_count": null,
   "metadata": {},
   "outputs": [],
   "source": [
    "ds = ds.isel(latitude=range(2000,3000), longitude=range(3200,4200))#.isel(time=1).plot.imshow()\n",
    "ds"
   ]
  },
  {
   "cell_type": "code",
   "execution_count": null,
   "metadata": {},
   "outputs": [],
   "source": [
    "poly_gdf = gpd.read_file('/g/data/os22/chad_tmp/NEE_modelling/data/aus_outline/AUS_2021_AUST_GDA2020.shp')\n",
    "poly_gdf =  poly_gdf[poly_gdf['AUS_CODE21']=='AUS']"
   ]
  },
  {
   "cell_type": "code",
   "execution_count": null,
   "metadata": {},
   "outputs": [],
   "source": [
    "ds.sel(time=slice('2003','2021')).to_dataset()"
   ]
  },
  {
   "cell_type": "code",
   "execution_count": null,
   "metadata": {},
   "outputs": [],
   "source": [
    "path = '/g/data/os22/chad_tmp/NEE_modelling/results/figs/fireDisturbance.gif'\n",
    "poly_gdf['color'] = 'None'\n",
    "ds.attrs['nodata'] = np.nan\n",
    "\n",
    "xr_animation(ds.to_dataset(), #isel(time=range(6,240))\n",
    "            bands=['Months_since_burn'],\n",
    "            show_date='%b %Y',\n",
    "            width_pixels=600,\n",
    "            output_path=path,\n",
    "            colorbar_kwargs={'colors': 'black'},\n",
    "            # show_gdf=poly_gdf,\n",
    "            interval=200, \n",
    "            show_text='Months since burnt',\n",
    "            # gdf_kwargs={'edgecolor': 'grey', 'linewidth':0.5}, \n",
    "            imshow_kwargs={'cmap': 'RdYlGn', 'vmin': 0, 'vmax': 120}\n",
    "            )\n",
    "\n",
    "# Plot animation\n",
    "plt.close()\n",
    "Image(path, embed=True)"
   ]
  },
  {
   "cell_type": "markdown",
   "metadata": {},
   "source": [
    "## kNDVI"
   ]
  },
  {
   "cell_type": "code",
   "execution_count": null,
   "metadata": {},
   "outputs": [],
   "source": [
    "import os\n",
    "import xarray as xr\n",
    "import numpy as np\n",
    "from odc.algo import xr_reproject\n",
    "from odc.geo.xr import assign_crs"
   ]
  },
  {
   "cell_type": "code",
   "execution_count": null,
   "metadata": {},
   "outputs": [],
   "source": [
    "from datacube.utils.dask import start_local_dask\n",
    "client = start_local_dask(mem_safety_margin='2Gb')\n",
    "client"
   ]
  },
  {
   "cell_type": "code",
   "execution_count": null,
   "metadata": {},
   "outputs": [],
   "source": [
    "# !rm -r -f /g/data/os22/chad_tmp/NEE_modelling/data/ETa/.ipynb_checkpoints"
   ]
  },
  {
   "cell_type": "code",
   "execution_count": null,
   "metadata": {},
   "outputs": [],
   "source": [
    "base='/g/data/os22/chad_tmp/NEE_modelling/data/kndvi/'\n",
    "files = os.listdir(base)\n",
    "files.sort()"
   ]
  },
  {
   "cell_type": "code",
   "execution_count": null,
   "metadata": {},
   "outputs": [],
   "source": [
    "time = xr.open_dataarray('/g/data/os22/chad_tmp/NEE_modelling/data/1km/ETa_1km_monthly_2002_2021.nc').time.values\n",
    "time = list(time)"
   ]
  },
  {
   "cell_type": "code",
   "execution_count": null,
   "metadata": {},
   "outputs": [],
   "source": [
    "i=0\n",
    "arrs=[]\n",
    "for f, t in zip(files, time):\n",
    "    print(\" {:02}/{:02}\\r\".format(i + 1, len(files)), end=\"\")\n",
    "    ds = xr.open_dataarray(base+f, chunks=dict(x=5000, y=5000)).squeeze().drop('band').astype('float32')\n",
    "    ds = ds.expand_dims(time=[t])\n",
    "    ds = ds.rename('kNDVI')\n",
    "    ds.attrs['nodata']=np.nan\n",
    "    del ds.attrs['long_name']\n",
    "    ds = ds.drop('spatial_ref')\n",
    "    ds = assign_crs(ds, crs='epsg:3577')\n",
    "    i+=1 \n",
    "    arrs.append(ds)"
   ]
  },
  {
   "cell_type": "code",
   "execution_count": null,
   "metadata": {},
   "outputs": [],
   "source": [
    "ds = xr.concat(arrs, dim='time').sortby('time')\n",
    "ds"
   ]
  },
  {
   "cell_type": "code",
   "execution_count": null,
   "metadata": {},
   "outputs": [],
   "source": [
    "da = xr.open_dataarray('/g/data/os22/chad_tmp/NEE_modelling/data/1km/tavg_1km_monthly_2002_2021.nc').isel(time=0) #use this to reproject too\n",
    "ds = xr_reproject(ds, geobox=da.geobox, resampling='bilinear') #reproject\n",
    "\n",
    "ds['latitude'] = ds.latitude.astype('float32')\n",
    "ds['latitude'] = np.array([round(i,4) for i in ds.latitude.values])\n",
    "ds['longitude'] = ds.longitude.astype('float32')\n",
    "ds['longitude'] = np.array([round(i,4) for i in ds.longitude.values])\n"
   ]
  },
  {
   "cell_type": "code",
   "execution_count": null,
   "metadata": {},
   "outputs": [],
   "source": [
    "ds.compute().to_netcdf('/g/data/os22/chad_tmp/NEE_modelling/data/1km/kNDVI_1km_monthly_2002_2021.nc')"
   ]
  },
  {
   "cell_type": "code",
   "execution_count": null,
   "metadata": {},
   "outputs": [],
   "source": [
    "ds = xr.open_dataarray('/g/data/os22/chad_tmp/NEE_modelling/data/1km/kNDVI_1km_monthly_2002_2021.nc',\n",
    "                      chunks=dict(latitude=750, longitude=750, time=-1))"
   ]
  },
  {
   "cell_type": "code",
   "execution_count": null,
   "metadata": {},
   "outputs": [],
   "source": [
    "ds = ds.interpolate_na(method='linear', dim='time', limit=2).compute()#.isel(time=110).plot.imshow(size=10)"
   ]
  },
  {
   "cell_type": "code",
   "execution_count": null,
   "metadata": {},
   "outputs": [],
   "source": [
    "ds.to_netcdf('/g/data/os22/chad_tmp/NEE_modelling/data/1km/kNDVI_1km_monthly_2002_2021.nc')"
   ]
  },
  {
   "cell_type": "code",
   "execution_count": null,
   "metadata": {},
   "outputs": [],
   "source": []
  },
  {
   "cell_type": "markdown",
   "metadata": {},
   "source": [
    "### Append 2022 data"
   ]
  },
  {
   "cell_type": "code",
   "execution_count": null,
   "metadata": {},
   "outputs": [],
   "source": [
    "import os\n",
    "import xarray as xr\n",
    "import numpy as np\n",
    "from odc.algo import xr_reproject\n",
    "from odc.geo.xr import assign_crs"
   ]
  },
  {
   "cell_type": "code",
   "execution_count": null,
   "metadata": {},
   "outputs": [],
   "source": [
    "from datacube.utils.dask import start_local_dask\n",
    "client = start_local_dask(mem_safety_margin='2Gb')\n",
    "client"
   ]
  },
  {
   "cell_type": "code",
   "execution_count": null,
   "metadata": {},
   "outputs": [],
   "source": [
    "base='/g/data/os22/chad_tmp/NEE_modelling/data/NDWI/'\n",
    "ind = 'NDWI'\n",
    "files = [base+i for i in os.listdir(base) if i.endswith('.tif')]\n",
    "files.sort()\n",
    "len(files)"
   ]
  },
  {
   "cell_type": "code",
   "execution_count": null,
   "metadata": {},
   "outputs": [],
   "source": [
    "time = xr.open_dataarray('/g/data/os22/chad_tmp/NEE_modelling/data/1km/tavg_1km_monthly_2002_2022.nc').time.values\n",
    "time = list(time)\n",
    "len(time)"
   ]
  },
  {
   "cell_type": "code",
   "execution_count": null,
   "metadata": {},
   "outputs": [],
   "source": [
    "i=0\n",
    "arrs=[]\n",
    "for f, t in zip(files, time):\n",
    "    print(\" {:02}/{:02}\\r\".format(i + 1, len(files)), end=\"\")\n",
    "    da = xr.open_dataarray(f, chunks=dict(x=5000, y=5000, time=1)).squeeze().drop('band').astype('float32')\n",
    "    da = da.expand_dims(time=[t])\n",
    "    da = da.rename(ind)\n",
    "    da.attrs['nodata']=np.nan\n",
    "    del da.attrs['long_name']\n",
    "    da = da.drop('spatial_ref')\n",
    "    da = assign_crs(da, crs='epsg:3577')\n",
    "    arrs.append(da)\n",
    "    i+=1\n",
    "\n",
    "ds = xr.concat(arrs, dim='time').sortby('time')"
   ]
  },
  {
   "cell_type": "code",
   "execution_count": null,
   "metadata": {},
   "outputs": [],
   "source": [
    "ds.isel(time=0).plot.imshow(robust=True)"
   ]
  },
  {
   "cell_type": "code",
   "execution_count": null,
   "metadata": {},
   "outputs": [],
   "source": [
    "ds = ds.compute()"
   ]
  },
  {
   "cell_type": "code",
   "execution_count": null,
   "metadata": {},
   "outputs": [],
   "source": [
    "da = xr.open_dataarray('/g/data/os22/chad_tmp/NEE_modelling/data/1km/tavg_1km_monthly_2002_2022.nc').isel(time=0)\n",
    "ds = xr_reproject(ds, geobox=da.geobox, resampling='bilinear')\n",
    "\n",
    "ds['latitude'] = ds.latitude.astype('float32')\n",
    "ds['latitude'] = np.array([round(i,4) for i in ds.latitude.values])\n",
    "ds['longitude'] = ds.longitude.astype('float32')\n",
    "ds['longitude'] = np.array([round(i,4) for i in ds.longitude.values])\n"
   ]
  },
  {
   "cell_type": "code",
   "execution_count": null,
   "metadata": {},
   "outputs": [],
   "source": [
    "ds = ds.where(~np.isnan(da))"
   ]
  },
  {
   "cell_type": "code",
   "execution_count": null,
   "metadata": {},
   "outputs": [],
   "source": [
    "ds.mean(['latitude', 'longitude']).plot(figsize=(11,5))"
   ]
  },
  {
   "cell_type": "code",
   "execution_count": null,
   "metadata": {
    "tags": []
   },
   "outputs": [],
   "source": [
    "ds.to_netcdf('/g/data/os22/chad_tmp/NEE_modelling/data/1km/'+ind+'_1km_monthly_2002_2022.nc')"
   ]
  },
  {
   "cell_type": "code",
   "execution_count": null,
   "metadata": {},
   "outputs": [],
   "source": [
    "# ds = ds-273.15"
   ]
  },
  {
   "cell_type": "code",
   "execution_count": null,
   "metadata": {},
   "outputs": [],
   "source": [
    "ds.isel(time=-6).plot.imshow(size=10, vmax=0.5, vmin=-0.5, cmap='RdBu')"
   ]
  },
  {
   "cell_type": "code",
   "execution_count": null,
   "metadata": {},
   "outputs": [],
   "source": [
    "ds.isel(time=-7).plot.imshow(size=10, vmax=0.5, vmin=-0.5, cmap='RdBu')"
   ]
  },
  {
   "cell_type": "code",
   "execution_count": null,
   "metadata": {},
   "outputs": [],
   "source": [
    "ds.isel(time=-1).plot.imshow(robust=True)"
   ]
  },
  {
   "cell_type": "code",
   "execution_count": null,
   "metadata": {},
   "outputs": [],
   "source": []
  },
  {
   "cell_type": "markdown",
   "metadata": {},
   "source": [
    "## CO2"
   ]
  },
  {
   "cell_type": "code",
   "execution_count": null,
   "metadata": {},
   "outputs": [],
   "source": [
    "import pandas as pd\n",
    "import xarray as xr\n",
    "import warnings\n",
    "warnings.filterwarnings(\"ignore\")"
   ]
  },
  {
   "cell_type": "code",
   "execution_count": null,
   "metadata": {},
   "outputs": [],
   "source": [
    "df = pd.read_csv('/g/data/os22/chad_tmp/NEE_modelling/data/CapeGrim_CO2_data.csv')\n",
    "df['time']=pd.to_datetime(df[['year', 'month', 'day']])\n",
    "df=df.set_index('time').drop(['year', 'month', 'day'], axis=1).rename({'CO2(ppm)':'CO2'}, axis=1)\n",
    "df.head()"
   ]
  },
  {
   "cell_type": "code",
   "execution_count": null,
   "metadata": {},
   "outputs": [],
   "source": [
    "df = df.resample('MS',loffset=pd.Timedelta(14, 'd')).mean()"
   ]
  },
  {
   "cell_type": "code",
   "execution_count": null,
   "metadata": {},
   "outputs": [],
   "source": [
    "ds = xr.Dataset.from_dataframe(df)\n",
    "ds"
   ]
  },
  {
   "cell_type": "code",
   "execution_count": null,
   "metadata": {},
   "outputs": [],
   "source": [
    "ds = ds.sel(time=slice('2002', '2021'))"
   ]
  },
  {
   "cell_type": "code",
   "execution_count": null,
   "metadata": {},
   "outputs": [],
   "source": [
    "ds.CO2.plot(figsize=(11,4));"
   ]
  },
  {
   "cell_type": "code",
   "execution_count": null,
   "metadata": {},
   "outputs": [],
   "source": [
    "da=xr.open_dataarray('/g/data/os22/chad_tmp/NEE_modelling/data/1km/kNDVI_1km_monthly_2002_2021.nc')\n",
    "ds = ds.expand_dims(latitude=da.latitude, longitude=da.longitude)\n",
    "ds = "
   ]
  },
  {
   "cell_type": "code",
   "execution_count": null,
   "metadata": {},
   "outputs": [],
   "source": [
    "# ds.co2.isel(time=range(0,12)).plot.imshow(col='time', col_wrap=4);"
   ]
  },
  {
   "cell_type": "code",
   "execution_count": null,
   "metadata": {},
   "outputs": [],
   "source": [
    "ds.astype('float32').to_netcdf('/g/data/os22/chad_tmp/NEE_modelling/data/1km/CO2_1km_monthly_2002_2021.nc')"
   ]
  },
  {
   "cell_type": "markdown",
   "metadata": {},
   "source": [
    "## CABLE-GW\n",
    "\n",
    "The dataset is HUGE (+300 GiB), so the first step is to index out just the variables we need and save those to individual files\n",
    "\n",
    "Next, we need to convert the units to match the g/m2/day of our other datasets\n",
    "\n",
    "Then we need to aggregate the files to monthly temporal resolution\n",
    "\n",
    "Oh and we also need to create ecosystem respiration by summing the components of respiration\n",
    "\n",
    "And we need to make the time dimension match our other datasets (middle of each month)"
   ]
  },
  {
   "cell_type": "code",
   "execution_count": null,
   "metadata": {},
   "outputs": [],
   "source": [
    "import os\n",
    "import xarray as xr\n",
    "import numpy as np\n",
    "import pandas as pd\n",
    "from odc.algo import xr_reproject\n",
    "from odc.geo.xr import assign_crs\n",
    "# from dask.distributed import Client,Scheduler\n",
    "# from dask_jobqueue import SLURMCluster"
   ]
  },
  {
   "cell_type": "code",
   "execution_count": null,
   "metadata": {},
   "outputs": [],
   "source": [
    "from datacube.utils.dask import start_local_dask\n",
    "client = start_local_dask(mem_safety_margin='2Gb')\n",
    "client"
   ]
  },
  {
   "cell_type": "markdown",
   "metadata": {},
   "source": [
    "### Extract variables to make the dataset more manageable"
   ]
  },
  {
   "cell_type": "code",
   "execution_count": null,
   "metadata": {},
   "outputs": [],
   "source": [
    "import netCDF4 as nc\n",
    "ds = nc.Dataset('/g/data/os22/chad_tmp/NEE_modelling/data/cable_gw_2000_2019.nc')"
   ]
  },
  {
   "cell_type": "code",
   "execution_count": null,
   "metadata": {},
   "outputs": [],
   "source": [
    "# list(ds.variables.keys())"
   ]
  },
  {
   "cell_type": "code",
   "execution_count": null,
   "metadata": {},
   "outputs": [],
   "source": [
    "a = list(ds.variables.keys())[5:27]\n",
    "b = list(ds.variables.keys())[28:53]\n",
    "c = list(ds.variables.keys())[58:]\n",
    "\n",
    "drop = a+b+c"
   ]
  },
  {
   "cell_type": "code",
   "execution_count": null,
   "metadata": {},
   "outputs": [],
   "source": [
    "ds = xr.open_dataset('/g/data/os22/chad_tmp/NEE_modelling/data/cable_gw_2000_2019.nc',\n",
    "                chunks=dict(time=50),\n",
    "                drop_variables=drop\n",
    "                )\n",
    "ds = ds.drop(['latitude', 'longitude', 'NPP'])\n",
    "ds"
   ]
  },
  {
   "cell_type": "code",
   "execution_count": null,
   "metadata": {},
   "outputs": [],
   "source": [
    "nee = ds['NEE']\n",
    "nee.compute().to_netcdf('/g/data/os22/chad_tmp/NEE_modelling/data/CABLE/CABLE_NEE_daily_2000_2019.nc')\n",
    "\n",
    "gpp = ds['GPP']\n",
    "gpp.compute().to_netcdf('/g/data/os22/chad_tmp/NEE_modelling/data/CABLE/CABLE_GPP_daily_2000_2019.nc')\n",
    "\n",
    "er = ds[['AutoResp', 'LeafResp', 'HeteroResp']]\n",
    "er.compute().to_netcdf('/g/data/os22/chad_tmp/NEE_modelling/data/CABLE/CABLE_ER_daily_2000_2019.nc')"
   ]
  },
  {
   "cell_type": "markdown",
   "metadata": {},
   "source": [
    "### Convert units and aggregate time"
   ]
  },
  {
   "cell_type": "code",
   "execution_count": null,
   "metadata": {},
   "outputs": [],
   "source": [
    "1e-06 * 0.012011 * 1000 * 86400"
   ]
  },
  {
   "cell_type": "code",
   "execution_count": null,
   "metadata": {},
   "outputs": [],
   "source": [
    "def umol_to_gC(co2_flux):\n",
    "    \"\"\"\n",
    "    Formula to convert from umolCO2/m2/s to gC/m2/day\n",
    "    \n",
    "    C_flux <- CO2_flux * umol-to-mol * Carbon kg per mole * kg-to-gram * seconds-in-a-day\n",
    "    \n",
    "    \"\"\"\n",
    "    c_flux=co2_flux * 1e-06 * 0.012011 * 1000 * 86400\n",
    "    c_flux=assign_crs(c_flux, crs='epsg:4326')\n",
    "    c_flux=c_flux.resample(time='1M').sum()\n",
    "    c_flux.attrs['nodata']=np.nan\n",
    "    c_flux.attrs['units']='gC/m2/month'\n",
    "    return c_flux"
   ]
  },
  {
   "cell_type": "code",
   "execution_count": null,
   "metadata": {},
   "outputs": [],
   "source": [
    "ds = xr.open_dataset('/g/data/os22/chad_tmp/NEE_modelling/data/CABLE/CABLE_ER_daily_2000_2019.nc')\n",
    "ds"
   ]
  },
  {
   "cell_type": "code",
   "execution_count": null,
   "metadata": {},
   "outputs": [],
   "source": [
    "ds = ds['AutoResp']+ds['LeafResp']+ds['HeteroResp']\n",
    "ds = ds.rename('ER')"
   ]
  },
  {
   "cell_type": "code",
   "execution_count": null,
   "metadata": {},
   "outputs": [],
   "source": [
    "mask = np.isnan(ds.isel(time=0))\n",
    "mask.plot.imshow()"
   ]
  },
  {
   "cell_type": "code",
   "execution_count": null,
   "metadata": {},
   "outputs": [],
   "source": [
    "ds = umol_to_gC(ds)\n",
    "ds"
   ]
  },
  {
   "cell_type": "code",
   "execution_count": null,
   "metadata": {},
   "outputs": [],
   "source": [
    "ds['time'] = ds.time.dt.date - pd.offsets.MonthBegin() + pd.Timedelta(14, 'd')"
   ]
  },
  {
   "cell_type": "code",
   "execution_count": null,
   "metadata": {},
   "outputs": [],
   "source": [
    "ds = ds.where(~mask)\n",
    "ds"
   ]
  },
  {
   "cell_type": "code",
   "execution_count": null,
   "metadata": {},
   "outputs": [],
   "source": [
    "ds.sum(['x', 'y']).plot(figsize=(11,5))"
   ]
  },
  {
   "cell_type": "code",
   "execution_count": null,
   "metadata": {},
   "outputs": [],
   "source": [
    "ds.to_netcdf('/g/data/os22/chad_tmp/NEE_modelling/data/CABLE/CABLE_ER_10km_monthly_2000_2019_.nc')"
   ]
  },
  {
   "cell_type": "markdown",
   "metadata": {},
   "source": [
    "### Inspect results"
   ]
  },
  {
   "cell_type": "code",
   "execution_count": null,
   "metadata": {},
   "outputs": [],
   "source": [
    "er = xr.open_dataarray('/g/data/os22/chad_tmp/NEE_modelling/data/CABLE/CABLE_ER_10km_monthly_2000_2019.nc')\n",
    "gpp = xr.open_dataarray('/g/data/os22/chad_tmp/NEE_modelling/data/CABLE/CABLE_GPP_10km_monthly_2000_2019.nc')\n",
    "nee = xr.open_dataarray('/g/data/os22/chad_tmp/NEE_modelling/data/CABLE/CABLE_NEE_10km_monthly_2000_2019.nc')"
   ]
  },
  {
   "cell_type": "code",
   "execution_count": null,
   "metadata": {},
   "outputs": [],
   "source": [
    "er.sum(['x', 'y']).plot(figsize=(12,4))"
   ]
  },
  {
   "cell_type": "code",
   "execution_count": null,
   "metadata": {},
   "outputs": [],
   "source": [
    "gpp.sum(['x', 'y']).plot(figsize=(12,4))"
   ]
  },
  {
   "cell_type": "code",
   "execution_count": null,
   "metadata": {},
   "outputs": [],
   "source": [
    "nee.sum(['x', 'y']).plot(figsize=(12,4))"
   ]
  },
  {
   "cell_type": "code",
   "execution_count": null,
   "metadata": {},
   "outputs": [],
   "source": [
    "nee_sub = gpp-er"
   ]
  },
  {
   "cell_type": "code",
   "execution_count": null,
   "metadata": {},
   "outputs": [],
   "source": [
    "nee_sub"
   ]
  },
  {
   "cell_type": "code",
   "execution_count": null,
   "metadata": {},
   "outputs": [],
   "source": [
    "nee_sub.sum(['x', 'y']).plot(figsize=(12,4))"
   ]
  },
  {
   "cell_type": "markdown",
   "metadata": {},
   "source": [
    "## CABLE-POP\n",
    "\n",
    "Haverd, V., Smith, B., Nieradzik, L., Briggs, P. R., Woodgate, W., Trudinger, C. M., Canadell, J. G. and Cuntz, M.: A new version of the CABLE land surface model (Subversion revision r4601) incorporating land use and land cover change, woody vegetation demography, and a novel optimisation-based approach to plant coordination of photosynthesis, Geosci. Model Dev., 11, 2995–3026, 2018."
   ]
  },
  {
   "cell_type": "code",
   "execution_count": null,
   "metadata": {},
   "outputs": [],
   "source": [
    "import os\n",
    "import xarray as xr\n",
    "import numpy as np\n",
    "import pandas as pd\n",
    "from odc.algo import xr_reproject\n",
    "from odc.geo.xr import assign_crs"
   ]
  },
  {
   "cell_type": "code",
   "execution_count": null,
   "metadata": {},
   "outputs": [],
   "source": [
    "var='rh'\n",
    "ds = xr.open_dataset('/g/data/os22/chad_tmp/NEE_modelling/data/CABLE-POP/CABLE-POP_cruncep_'+var+'_month_1901_2015.nc4')"
   ]
  },
  {
   "cell_type": "code",
   "execution_count": null,
   "metadata": {},
   "outputs": [],
   "source": [
    "ds = ds[var].sel(x=slice(110,155), y=slice(-9,-45)).sel(time=slice('2000', '2015'))"
   ]
  },
  {
   "cell_type": "code",
   "execution_count": null,
   "metadata": {},
   "outputs": [],
   "source": [
    "ds['time'] = ds.time.dt.date - pd.offsets.MonthBegin() + pd.Timedelta(14, 'd')"
   ]
  },
  {
   "cell_type": "code",
   "execution_count": null,
   "metadata": {},
   "outputs": [],
   "source": [
    "ds"
   ]
  },
  {
   "cell_type": "code",
   "execution_count": null,
   "metadata": {},
   "outputs": [],
   "source": [
    "if var == 'gpp':\n",
    "    ds = ds.sum('pft')# dimnesions per Plant functional type\n",
    "ds = ds*1000 #convert to gC/m2/s\n",
    "ds = ds*86400 #convert to gC/m2/day\n",
    "ds = ds*30 #convert to gC/m2/month\n",
    "if var == 'nbp':\n",
    "    ds = ds*-1 #make negative = uptake by plants\n",
    "if var == 'gpp':\n",
    "    ds = ds.where(ds.sum('time')>0) #mask zeros by summing across pft"
   ]
  },
  {
   "cell_type": "code",
   "execution_count": null,
   "metadata": {},
   "outputs": [],
   "source": [
    "ds.sum(['x','y']).plot(figsize=(11,4))"
   ]
  },
  {
   "cell_type": "code",
   "execution_count": null,
   "metadata": {},
   "outputs": [],
   "source": [
    "ds = assign_crs(ds, crs='epsg:4326')"
   ]
  },
  {
   "cell_type": "code",
   "execution_count": null,
   "metadata": {},
   "outputs": [],
   "source": [
    "ds.attrs['nodata'] = np.nan\n",
    "ds.attrs['units'] = 'gC/m2/month'"
   ]
  },
  {
   "cell_type": "code",
   "execution_count": null,
   "metadata": {},
   "outputs": [],
   "source": [
    "ds.to_netcdf('/g/data/os22/chad_tmp/NEE_modelling/data/CABLE-POP/CABLE-POP_RH_50km_monthly_2000_2015.nc')"
   ]
  },
  {
   "cell_type": "markdown",
   "metadata": {},
   "source": [
    "## CABLE-POP-v10"
   ]
  },
  {
   "cell_type": "code",
   "execution_count": null,
   "metadata": {},
   "outputs": [],
   "source": [
    "import xarray as xr\n",
    "import numpy as np\n",
    "import pandas as pd\n",
    "from odc.geo.xr import assign_crs"
   ]
  },
  {
   "cell_type": "code",
   "execution_count": null,
   "metadata": {},
   "outputs": [],
   "source": [
    "var='gpp'\n",
    "ds = xr.open_dataarray('/g/data/os22/chad_tmp/NEE_modelling/data/CABLE/CABLE-POP_v10/CABLE-POP_S2_'+var+'.nc', decode_times=False)\n",
    "ds = assign_crs(ds, crs='epsg:4326')\n",
    "ds = ds.sel(longitude=slice(110,155), latitude=slice(-45,-10)) # clip to Aus\n",
    "ds"
   ]
  },
  {
   "cell_type": "code",
   "execution_count": null,
   "metadata": {},
   "outputs": [],
   "source": [
    "def to_gCm2month(co2_flux):\n",
    "    \"\"\"\n",
    "    Formula to convert from kgC/m2/s to gC/m2/day\n",
    "    \n",
    "    C_flux <- C_flux * kg-to-gram * seconds-in-a-month\n",
    "    \n",
    "    \"\"\"\n",
    "    c_flux=co2_flux * 1000 * 2628288\n",
    "    \n",
    "    if var == 'nbp':\n",
    "        c_flux=c_flux*-1 #convert sign so negative is sink\n",
    "    c_flux.attrs['nodata']=np.nan\n",
    "    c_flux=c_flux.rename(var)\n",
    "    c_flux.attrs['units']='gC/m2/month'\n",
    "    return c_flux"
   ]
  },
  {
   "cell_type": "code",
   "execution_count": null,
   "metadata": {},
   "outputs": [],
   "source": [
    "ds = to_gCm2month(ds)"
   ]
  },
  {
   "cell_type": "code",
   "execution_count": null,
   "metadata": {},
   "outputs": [],
   "source": [
    "time = pd.date_range(start='1700-1-15', periods=len(ds.time), freq='M') - pd.offsets.MonthBegin() + pd.Timedelta(14, 'd')"
   ]
  },
  {
   "cell_type": "code",
   "execution_count": null,
   "metadata": {},
   "outputs": [],
   "source": [
    "ds['time'] = time\n",
    "ds = ds.sel(time=slice('2003', '2020'))\n",
    "ds"
   ]
  },
  {
   "cell_type": "code",
   "execution_count": null,
   "metadata": {},
   "outputs": [],
   "source": [
    "ds.sum(['latitude', 'longitude']).plot(figsize=(12,5))"
   ]
  },
  {
   "cell_type": "code",
   "execution_count": null,
   "metadata": {},
   "outputs": [],
   "source": [
    "ds.to_netcdf('/g/data/os22/chad_tmp/NEE_modelling/data/CABLE/CABLE-POP_v10/CABLE-POP_'+var+'_100km_monthly_2003_2020.nc')"
   ]
  },
  {
   "cell_type": "markdown",
   "metadata": {
    "tags": []
   },
   "source": [
    "### Combine respiration"
   ]
  },
  {
   "cell_type": "code",
   "execution_count": null,
   "metadata": {
    "tags": []
   },
   "outputs": [],
   "source": [
    "ra = xr.open_dataarray('/g/data/os22/chad_tmp/NEE_modelling/data/CABLE/CABLE-POP_v10/CABLE-POP_ra_100km_monthly_2003_2020.nc')\n",
    "rh = xr.open_dataarray('/g/data/os22/chad_tmp/NEE_modelling/data/CABLE/CABLE-POP_v10/CABLE-POP_rh_100km_monthly_2003_2020.nc')"
   ]
  },
  {
   "cell_type": "code",
   "execution_count": null,
   "metadata": {},
   "outputs": [],
   "source": [
    "er = ra+rh"
   ]
  },
  {
   "cell_type": "code",
   "execution_count": null,
   "metadata": {},
   "outputs": [],
   "source": [
    "er.sum(['latitude', 'longitude']).plot(figsize=(12,5))"
   ]
  },
  {
   "cell_type": "code",
   "execution_count": null,
   "metadata": {},
   "outputs": [],
   "source": [
    "er = er.rename('er')\n",
    "er.attrs['units']='gC/m2/month'\n",
    "er.attrs['nodata']=np.nan\n",
    "er.to_netcdf('/g/data/os22/chad_tmp/NEE_modelling/data/CABLE/CABLE-POP_v10/CABLE-POP_er_100km_monthly_2003_2020.nc')"
   ]
  },
  {
   "cell_type": "markdown",
   "metadata": {},
   "source": [
    "## CABLE-BIOS3 "
   ]
  },
  {
   "cell_type": "code",
   "execution_count": null,
   "metadata": {},
   "outputs": [],
   "source": [
    "import xarray as xr\n",
    "import numpy as np\n",
    "import pandas as pd\n",
    "from odc.geo.xr import assign_crs"
   ]
  },
  {
   "cell_type": "code",
   "execution_count": null,
   "metadata": {},
   "outputs": [],
   "source": [
    "var='ra'\n",
    "ds = xr.open_dataarray('/g/data/os22/chad_tmp/NEE_modelling/data/CABLE/CABLE-BIOS/CABLE-BIOS_aust_0.25_pts_'+var+'.nc', decode_times=False)"
   ]
  },
  {
   "cell_type": "code",
   "execution_count": null,
   "metadata": {},
   "outputs": [],
   "source": [
    "ds = assign_crs(ds, crs='epsg:4326')\n",
    "ds"
   ]
  },
  {
   "cell_type": "code",
   "execution_count": null,
   "metadata": {},
   "outputs": [],
   "source": [
    "def to_gCm2month(co2_flux):\n",
    "    \"\"\"\n",
    "    Formula to convert from kgC/m2/s to gC/m2/day\n",
    "    \n",
    "    C_flux <- C_flux * kg-to-gram * seconds-in-a-month\n",
    "    \n",
    "    \"\"\"\n",
    "    c_flux=co2_flux * 1000 * 2628288\n",
    "    c_flux.attrs['units']='gC/m2/month'\n",
    "    if var == 'nbp':\n",
    "        c_flux=c_flux*-1 #convert sign so negative is sink\n",
    "    c_flux.attrs['nodata']=np.nan\n",
    "    c_flux=c_flux.rename(var)\n",
    "    return c_flux"
   ]
  },
  {
   "cell_type": "code",
   "execution_count": null,
   "metadata": {},
   "outputs": [],
   "source": [
    "ds = to_gCm2month(ds)"
   ]
  },
  {
   "cell_type": "code",
   "execution_count": null,
   "metadata": {},
   "outputs": [],
   "source": [
    "time = pd.date_range(start='1900-1-15', periods=len(ds.time), freq='M') - pd.offsets.MonthBegin() + pd.Timedelta(14, 'd')"
   ]
  },
  {
   "cell_type": "code",
   "execution_count": null,
   "metadata": {},
   "outputs": [],
   "source": [
    "ds['time'] = time\n",
    "ds = ds.sel(time=slice('2003', '2020'))\n",
    "ds"
   ]
  },
  {
   "cell_type": "code",
   "execution_count": null,
   "metadata": {},
   "outputs": [],
   "source": [
    "ds.sum(['latitude', 'longitude']).plot(figsize=(12,5))"
   ]
  },
  {
   "cell_type": "code",
   "execution_count": null,
   "metadata": {},
   "outputs": [],
   "source": [
    "ds.to_netcdf('/g/data/os22/chad_tmp/NEE_modelling/data/CABLE/CABLE-BIOS/CABLE_BIOS_'+var+'_25km_monthly_2003_2019.nc')"
   ]
  },
  {
   "cell_type": "markdown",
   "metadata": {
    "tags": []
   },
   "source": [
    "### Combine respiration"
   ]
  },
  {
   "cell_type": "code",
   "execution_count": null,
   "metadata": {
    "tags": []
   },
   "outputs": [],
   "source": [
    "ra = xr.open_dataarray('/g/data/os22/chad_tmp/NEE_modelling/data/CABLE/CABLE-BIOS/CABLE_BIOS_ra_25km_monthly_2003_2019.nc')\n",
    "rh = xr.open_dataarray('/g/data/os22/chad_tmp/NEE_modelling/data/CABLE/CABLE-BIOS/CABLE_BIOS_rh_25km_monthly_2003_2019.nc')"
   ]
  },
  {
   "cell_type": "code",
   "execution_count": null,
   "metadata": {},
   "outputs": [],
   "source": [
    "er = ra+rh"
   ]
  },
  {
   "cell_type": "code",
   "execution_count": null,
   "metadata": {},
   "outputs": [],
   "source": [
    "er.sum(['latitude', 'longitude']).plot(figsize=(12,5))"
   ]
  },
  {
   "cell_type": "code",
   "execution_count": null,
   "metadata": {},
   "outputs": [],
   "source": [
    "er = er.rename('er')\n",
    "er.attrs['units']='gC/m2/month'\n",
    "er.attrs['nodata']=np.nan\n",
    "er.to_netcdf('/g/data/os22/chad_tmp/NEE_modelling/data/CABLE/CABLE-BIOS/CABLE_BIOS_er_25km_monthly_2003_2019.nc')"
   ]
  },
  {
   "cell_type": "markdown",
   "metadata": {},
   "source": [
    "## C3/C4 Percent\n",
    "\n",
    "These datasets have been provided by Randall Donohue, passed on by Luigi\n",
    "\n",
    "We need to multiply the C3/C4 datasets by the fraction grass. \n",
    "\n",
    "```\n",
    "Fraction_C4 = C4_data_you_have * Fraction_Grass\n",
    "\n",
    "Fraction_C3 = (1. - C4_data_you_have) * Fraction_Grass\n",
    "\n",
    "The C4_data_you_have has values 10-95.  Simply divide by 100 to get into proportion.\n",
    "```\n"
   ]
  },
  {
   "cell_type": "code",
   "execution_count": null,
   "metadata": {},
   "outputs": [],
   "source": [
    "import xarray as xr\n",
    "import numpy as np\n",
    "import pandas as pd\n",
    "import rioxarray as rxr\n",
    "from odc.geo.xr import assign_crs\n",
    "from odc.algo import xr_reproject"
   ]
  },
  {
   "cell_type": "markdown",
   "metadata": {},
   "source": [
    "### Fraction C3/C4"
   ]
  },
  {
   "cell_type": "code",
   "execution_count": null,
   "metadata": {},
   "outputs": [],
   "source": [
    "ds = rxr.open_rasterio('/g/data/os22/chad_tmp/NEE_modelling/data/grass/peak_frec_C4_percent.tif').squeeze().drop('band')\n",
    "ds = assign_crs(ds, crs='epsg:4326')\n",
    "ds = ds/100 #convert to fraction"
   ]
  },
  {
   "cell_type": "markdown",
   "metadata": {},
   "source": [
    "### Fraction grass/trees/bare"
   ]
  },
  {
   "cell_type": "code",
   "execution_count": null,
   "metadata": {},
   "outputs": [],
   "source": [
    "grass = rxr.open_rasterio('/g/data/os22/chad_tmp/NEE_modelling/data/grass/MOD13Q1.006_grass_fraction_2020.tif').squeeze().drop('band')\n",
    "grass = grass.where(grass>=0)\n",
    "grass = assign_crs(grass, crs='epsg:4326')\n",
    "grass = grass.rename('grass')\n",
    "grass.attrs['nodata']=np.nan"
   ]
  },
  {
   "cell_type": "code",
   "execution_count": null,
   "metadata": {},
   "outputs": [],
   "source": [
    "trees = rxr.open_rasterio('/g/data/os22/chad_tmp/NEE_modelling/data/grass/MOD13Q1.006_tree_fraction_2020.tif').squeeze().drop('band')\n",
    "trees = trees.where(trees>=0)\n",
    "trees = assign_crs(trees, crs='epsg:4326')\n",
    "trees = trees.rename('trees')\n",
    "trees.attrs['nodata']=np.nan"
   ]
  },
  {
   "cell_type": "code",
   "execution_count": null,
   "metadata": {},
   "outputs": [],
   "source": [
    "bare = rxr.open_rasterio('/g/data/os22/chad_tmp/NEE_modelling/data/grass/MOD13Q1.006_bare_fraction_2020.tif').squeeze().drop('band')\n",
    "bare = bare.where(bare>=0)\n",
    "bare = assign_crs(bare, crs='epsg:4326')\n",
    "bare = bare.rename('bare')\n",
    "bare.attrs['nodata']=np.nan"
   ]
  },
  {
   "cell_type": "code",
   "execution_count": null,
   "metadata": {},
   "outputs": [],
   "source": [
    "# c3_grass = ds*grass\n",
    "c4_grass = (1 - ds) * grass\n",
    "c4_grass = c4_grass.rename('C4_grass')\n",
    "c4_grass.attrs['nodata']=np.nan"
   ]
  },
  {
   "cell_type": "markdown",
   "metadata": {},
   "source": [
    "### create 1km dataset timeseries"
   ]
  },
  {
   "cell_type": "code",
   "execution_count": null,
   "metadata": {},
   "outputs": [],
   "source": [
    "da = xr.open_dataarray('/g/data/os22/chad_tmp/NEE_modelling/data/1km/tavg_1km_monthly_2002_2022.nc') #use this to reproject too"
   ]
  },
  {
   "cell_type": "code",
   "execution_count": null,
   "metadata": {},
   "outputs": [],
   "source": [
    "def preprocess(ds, da, var, time=('2002', '2022'), resampling='average'):\n",
    "    ds = xr_reproject(ds, geobox=da.geobox, resampling=resampling) #reproject\n",
    "    ds['latitude'] = ds.latitude.astype('float32')\n",
    "    ds['latitude'] = np.array([round(i,4) for i in ds.latitude.values])\n",
    "    ds['longitude'] = ds.longitude.astype('float32')\n",
    "    ds['longitude'] = np.array([round(i,4) for i in ds.longitude.values])\n",
    "    ds = ds.where(~np.isnan(da.isel(time=1)))\n",
    "    ds = ds.drop('time')\n",
    "    ds = ds.rename(var)\n",
    "    ds.attrs['nodata']=np.nan\n",
    "    ds = ds.expand_dims(time=da.sel(time=slice(time[0], time[1])).time)\n",
    "    ds.to_netcdf('/g/data/os22/chad_tmp/NEE_modelling/data/1km/'+var+'_1km_monthly_2002_2022.nc')\n",
    "        \n",
    "    return ds"
   ]
  },
  {
   "cell_type": "code",
   "execution_count": null,
   "metadata": {},
   "outputs": [],
   "source": [
    "trees=preprocess(trees, da, 'trees')\n",
    "grass=preprocess(grass, da, 'grass')\n",
    "bare=preprocess(bare, da, 'bare')\n",
    "c4_grass=preprocess(c4_grass, da, 'C4_grass')"
   ]
  },
  {
   "cell_type": "code",
   "execution_count": null,
   "metadata": {},
   "outputs": [],
   "source": [
    "# ds.isel(time=-1).plot.imshow(size=10)"
   ]
  },
  {
   "cell_type": "markdown",
   "metadata": {},
   "source": [
    "###  Second one \n",
    "\n",
    "from here: https://www.tern.org.au/a-vegetation-carbon-isoscape-for-australia/, https://data.tern.org.au/tddp/datasets/dea845e6-f053-409a-b0ae-c37e3af3e9bb/. \n",
    "\n",
    "https://link.springer.com/article/10.1007/s10980-022-01476-y\n",
    "\n"
   ]
  },
  {
   "cell_type": "code",
   "execution_count": null,
   "metadata": {},
   "outputs": [],
   "source": [
    "ds = rxr.open_rasterio('/g/data/os22/chad_tmp/NEE_modelling/data/grass/Proportional_C4_vegation.tif').squeeze().drop('band')\n",
    "ds = ds.where(ds>-3.3e+38)\n",
    "ds.attrs['nodata']=np.nan\n",
    "ds = assign_crs(ds, crs='epsg:4326')\n",
    "\n",
    "da = xr.open_dataarray('/g/data/os22/chad_tmp/NEE_modelling/data/1km/tavg_1km_monthly_2002_2021.nc') #use this to reproject too\n",
    "ds = xr_reproject(ds, geobox=da.geobox, resampling='average') #reproject\n",
    "\n",
    "ds['latitude'] = ds.latitude.astype('float32')\n",
    "ds['latitude'] = np.array([round(i,4) for i in ds.latitude.values])\n",
    "ds['longitude'] = ds.longitude.astype('float32')\n",
    "ds['longitude'] = np.array([round(i,4) for i in ds.longitude.values])\n",
    "\n",
    "ds = ds.where(~np.isnan(da.isel(time=1)))\n",
    "\n",
    "ds = ds.drop('time')\n",
    "\n",
    "ds = ds.rename('C4_percent')\n",
    "ds.attrs['nodata']=np.nan\n",
    "\n",
    "ds = ds.expand_dims(time=da.sel(time=slice('2002', '2021')).time)"
   ]
  },
  {
   "cell_type": "code",
   "execution_count": null,
   "metadata": {},
   "outputs": [],
   "source": [
    "ds.isel(time=1).plot.imshow(size=10, robust=True)"
   ]
  },
  {
   "cell_type": "code",
   "execution_count": null,
   "metadata": {},
   "outputs": [],
   "source": []
  }
 ],
 "metadata": {
  "kernelspec": {
   "display_name": "Python 3 (ipykernel)",
   "language": "python",
   "name": "python3"
  },
  "language_info": {
   "codemirror_mode": {
    "name": "ipython",
    "version": 3
   },
   "file_extension": ".py",
   "mimetype": "text/x-python",
   "name": "python",
   "nbconvert_exporter": "python",
   "pygments_lexer": "ipython3",
   "version": "3.8.8"
  }
 },
 "nbformat": 4,
 "nbformat_minor": 4
}
