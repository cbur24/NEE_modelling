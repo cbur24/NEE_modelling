{
 "cells": [
  {
   "cell_type": "markdown",
   "metadata": {},
   "source": [
    "# Collecting/Processing various gridded datasets to use in CO2 flux models\n",
    "\n",
    "\n",
    "TODO\n",
    "* soil grid: `/g/data/fj4/Soil_Landscape_grid/TERNLandscape_90m`\n",
    "* Take 5 years of MODIS LULC and take MODE\n",
    "* months since burn date: `/g/data/ub8/au/MODIS/mosaic/MCD64A1.006`\n",
    "* Trends in climate variables like Tavg and VPD\n",
    "* The time during which surface soil moisture is below seasonal average \n",
    "* MSWEP rainfall or CHIRPS rainfall instead of AWRA\n",
    "* Soil grids: upper horizon organic carbon, clay, sand\n",
    "* Fix LST-Tair"
   ]
  },
  {
   "cell_type": "code",
   "execution_count": null,
   "metadata": {},
   "outputs": [],
   "source": [
    "import os\n",
    "import odc.geo.xr\n",
    "import xarray as xr\n",
    "import numpy as np\n",
    "import pandas as pd\n",
    "from odc.algo import xr_reproject\n",
    "from odc.geo.xr import assign_crs\n",
    "\n",
    "import sys\n",
    "sys.path.append('/g/data/os22/chad_tmp/NEE_modelling/')\n",
    "from collect_gridded_data import collect_gridded_data"
   ]
  },
  {
   "cell_type": "code",
   "execution_count": null,
   "metadata": {},
   "outputs": [],
   "source": [
    "from datacube.utils.dask import start_local_dask\n",
    "client = start_local_dask(mem_safety_margin='2Gb')\n",
    "client"
   ]
  },
  {
   "cell_type": "markdown",
   "metadata": {},
   "source": [
    "## Resampling GRAFS and LAI to monthly"
   ]
  },
  {
   "cell_type": "code",
   "execution_count": null,
   "metadata": {},
   "outputs": [],
   "source": [
    "i=0\n",
    "for y in range(2018, 2022):\n",
    "    print(\" {:03}/{:03}\\r\".format(i + 1, len(range(2018, 2022))), end=\"\")\n",
    "    \n",
    "    year = str(y)\n",
    "    \n",
    "    sws = xr.open_dataset('/g/data/fj4/SatelliteSoilMoistureProducts/S-GRAFS/ANNUAL_NC/surface_soil_moisture_vol_1km_'+year+'.nc',\n",
    "                      chunks=dict(lat=1000, lon=1000))\n",
    "    sws = assign_crs(sws, crs=sws.attrs['crs'][-9:])\n",
    "    sws = sws.soil_moisture.where(sws >=0)\n",
    "    sws = sws.soil_moisture.resample(time='MS', loffset=pd.Timedelta(14, 'd')).mean().compute()\n",
    "    sws = sws.rename({'lat':'latitude', 'lon':'longitude'})\n",
    "    sws.to_netcdf('/g/data/os22/chad_tmp/NEE_modelling/data/GRAFS/GRAFS_1km_monthly_'+year+'.nc')\n",
    "    i+=1\n",
    "    \n",
    "i=0\n",
    "for y in range(2016, 2022):\n",
    "    print(\" {:03}/{:03}\\r\".format(i + 1, len(range(2016, 2022))), end=\"\")\n",
    "    \n",
    "    year = str(y)\n",
    "    \n",
    "    base = '/g/data/ub8/au/MODIS/mosaic/MOD15A2H.006/'\n",
    "    lai = xr.open_dataset('/g/data/ub8/au/MODIS/mosaic/MOD15A2H.006/MOD15A2H.006.b02.500m_lai.'+year+'.nc',\n",
    "                          chunks=dict(latitude=1000, longitude=1000))\n",
    "    lai = assign_crs(lai, crs='epsg:4326')\n",
    "    lai = lai['500m_lai'].rename('lai') #tidy up the dataset\n",
    "    lai = lai.where((lai <= 10) & (lai >=0)) #remove artefacts and 'no-data'\n",
    "    lai = lai.resample(time='MS', loffset=pd.Timedelta(14, 'd')).mean().compute() # resample to monthly\n",
    "    lai.to_netcdf('/g/data/os22/chad_tmp/NEE_modelling/data/LAI/LAI_500m_monthly_'+year+'.nc')\n",
    "    i+=1"
   ]
  },
  {
   "cell_type": "markdown",
   "metadata": {},
   "source": [
    "## Stitch together GO-SIF"
   ]
  },
  {
   "cell_type": "code",
   "execution_count": null,
   "metadata": {},
   "outputs": [],
   "source": [
    "import xarray as xr\n",
    "import rioxarray\n",
    "from odc.geo.xr import assign_crs\n",
    "import pandas as pd\n",
    "import numpy as np\n",
    "import os"
   ]
  },
  {
   "cell_type": "code",
   "execution_count": null,
   "metadata": {},
   "outputs": [],
   "source": [
    "base='/g/data/os22/chad_tmp/NEE_modelling/data/SIF/GOSIF/'\n",
    "\n",
    "arrs=[]\n",
    "files = os.listdir(base)\n",
    "i = 0\n",
    "for f in files:\n",
    "    print(\" Tif {:03}/{:03}\\r\".format(i + 1, len(files)), end=\"\")\n",
    "    if f.endswith('.tif'):\n",
    "        y=f[-12:-8]\n",
    "        m=f[-6:-4]\n",
    "        sif = rioxarray.open_rasterio(base+f).squeeze().drop('band')\n",
    "        sif = assign_crs(sif, crs='epsg:4326')\n",
    "        time=pd.date_range(np.datetime64(y+'-'+m), periods=1, freq=\"MS\") + pd.Timedelta(14, 'd')\n",
    "        sif = sif.expand_dims(time=time) \n",
    "        sif = sif.where(sif < 32766) # clean up dataset\n",
    "        sif = sif.sel(x=slice(110,155)).sel(y=slice(-8,-45)).astype('float32') #Australia only\n",
    "        arrs.append(sif)\n",
    "        i += 1\n",
    "        \n",
    "sif = xr.concat(arrs, dim='time').sortby('time')\n",
    "sif = xr.where(sif < 0, 0, sif) #replace -ve values with 0\n",
    "sif.name = 'SIF'\n",
    "sif.to_netcdf('/g/data/os22/chad_tmp/NEE_modelling/data/SIF/GOSIF_2000_2020.nc')"
   ]
  },
  {
   "cell_type": "markdown",
   "metadata": {},
   "source": [
    "## MODIS Land surface temp"
   ]
  },
  {
   "cell_type": "code",
   "execution_count": null,
   "metadata": {},
   "outputs": [],
   "source": [
    "import xarray as xr\n",
    "from odc.geo.xr import assign_crs\n",
    "import os\n",
    "import pandas as pd\n",
    "\n",
    "from datacube.utils.dask import start_local_dask\n",
    "client = start_local_dask(mem_safety_margin='2Gb')\n",
    "client"
   ]
  },
  {
   "cell_type": "code",
   "execution_count": null,
   "metadata": {},
   "outputs": [],
   "source": [
    "base='/g/data/ub8/au/MODIS/mosaic/MYD11A1.006/'\n",
    "files = os.listdir(base)\n",
    "paths = [base+i for i in files if not 'QC' in i]"
   ]
  },
  {
   "cell_type": "code",
   "execution_count": null,
   "metadata": {},
   "outputs": [],
   "source": [
    "%%time\n",
    "for p in paths[2:]:\n",
    "    y=p[-7:-3] #year\n",
    "    print(y)\n",
    "    lst = xr.open_dataset('/g/data/ub8/au/MODIS/mosaic/MYD11A1.006/MYD11A1.006.LST_Day_1km.'+y+'.nc',\n",
    "                          chunks=dict(latitude=1000, longitude=1000))\n",
    "    lst = assign_crs(lst, crs='epsg:4326')\n",
    "    lst = lst.resample(time='MS', loffset=pd.Timedelta(14, 'd')).mean().compute()\n",
    "    lst = lst.LST_Day_1km.rename('LST')\n",
    "    lst.to_netcdf('/g/data/os22/chad_tmp/NEE_modelling/data/LST/LST_MODIS_1km_month_'+y+'.nc')\n",
    "    "
   ]
  },
  {
   "cell_type": "markdown",
   "metadata": {},
   "source": [
    "## MODIS fPAR from GEE\n",
    "\n",
    "https://github.com/aazuspan/wxee/blob/main/docs/examples/image_collection_to_xarray.ipynb\n",
    "\n",
    "https://github.com/aazuspan/wxee/blob/main/docs/examples/modis.ipynb"
   ]
  },
  {
   "cell_type": "code",
   "execution_count": null,
   "metadata": {},
   "outputs": [],
   "source": [
    "# !pip install earthengine-api\n",
    "# !pip install wxee"
   ]
  },
  {
   "cell_type": "code",
   "execution_count": null,
   "metadata": {},
   "outputs": [],
   "source": [
    "import ee\n",
    "import wxee\n",
    "import xarray as xr\n",
    "import rioxarray\n",
    "from odc.geo.xr import assign_crs\n",
    "import pandas as pd\n",
    "import numpy as np\n",
    "import os\n",
    "from odc.algo import xr_reproject"
   ]
  },
  {
   "cell_type": "code",
   "execution_count": null,
   "metadata": {},
   "outputs": [],
   "source": [
    "# Trigger the authentication flow.\n",
    "ee.Authenticate()\n",
    "\n",
    "# Initialize the library.\n",
    "ee.Initialize()"
   ]
  },
  {
   "cell_type": "code",
   "execution_count": null,
   "metadata": {},
   "outputs": [],
   "source": [
    "# ~Aus region (slightly less to trick google into giving me 1km res)\n",
    "region = ee.Geometry.Polygon([[\n",
    "            [114,-43.0],\n",
    "            [153.0,-43.0],\n",
    "            [153.0,-10.0],\n",
    "            [114,-10.0],\n",
    "            [114,-43.0]]])"
   ]
  },
  {
   "cell_type": "markdown",
   "metadata": {},
   "source": [
    "### Loop through months and resample 4-day fPAR MODIS data"
   ]
  },
  {
   "cell_type": "code",
   "execution_count": null,
   "metadata": {},
   "outputs": [],
   "source": [
    "#use start and end dates to loop through months and load GEE FPAR data\n",
    "start = pd.date_range(start='7/1/2002', end='12/1/2021', freq='MS') \n",
    "end = pd.date_range(start='7/1/2002', end='12/31/2021', freq='M')\n",
    "\n",
    "i = 0\n",
    "for s, e in zip(start,end):\n",
    "    \n",
    "    print(\" {:03}/{:03}\\r\".format(i + 1, len(start)), end=\"\")\n",
    "    \n",
    "    #use this to check if file already exists\n",
    "    ss = s+pd.Timedelta(14, 'd')\n",
    "    if os.path.isfile('/g/data/os22/chad_tmp/NEE_modelling/data/FPAR/FPAR_'+ss.strftime('%Y-%m-%d')+'.nc'):\n",
    "        pass\n",
    "    \n",
    "    else:\n",
    "        try:\n",
    "            s = s.strftime('%Y-%m-%d')\n",
    "            e = e.strftime('%Y-%m-%d')\n",
    "\n",
    "            #download data from GEE\n",
    "            ts = wxee.TimeSeries(\"MODIS/061/MCD15A3H\").filterDate(s, e)\n",
    "            ts = ts.select([\"Fpar\"])\n",
    "            ds = ts.wx.to_xarray(region=region, scale=1000, crs=\"EPSG:3577\", progress=False) #download at 1km res\n",
    "\n",
    "            attrs=ds.attrs #extract attributes so we don't loose them\n",
    "            ds = assign_crs(ds, crs='epsg:3577') #add geobox\n",
    "            ds = ds.resample(time='MS', loffset=pd.Timedelta(14, 'd')).mean() #resample to monthly\n",
    "            ds = ds.Fpar #convert to dataarray\n",
    "\n",
    "            lst = xr.open_dataarray('/g/data/os22/chad_tmp/NEE_modelling/data/LST/LST_2002.nc').isel(time=0) #use this to reproject too\n",
    "            ds = xr_reproject(ds, geobox=lst.geobox, resampling='bilinear') #reproject\n",
    "            ds = ds.where(ds!=0) # remove spurious zeros from reprojection\n",
    "            ds = ds.assign_attrs(attrs) #add back attrs\n",
    "            ds.to_netcdf('/g/data/os22/chad_tmp/NEE_modelling/data/FPAR/FPAR_'+np.datetime_as_string(ds.time.values[0], unit='D')+'.nc')\n",
    "\n",
    "        except:\n",
    "            print('fail:', s,e)\n",
    "            pass\n",
    "        \n",
    "    i+=1"
   ]
  },
  {
   "cell_type": "markdown",
   "metadata": {},
   "source": [
    "### Stitch together monthly files into annual netcdfs"
   ]
  },
  {
   "cell_type": "code",
   "execution_count": null,
   "metadata": {},
   "outputs": [],
   "source": [
    "base='/g/data/os22/chad_tmp/NEE_modelling/data/FPAR/'\n",
    "i=0\n",
    "for y in range(2002, 2022):\n",
    "    print(\" {:03}/{:03}\\r\".format(i + 1, len(range(2002, 2023))), end=\"\")\n",
    "    \n",
    "    year = str(y)\n",
    "    files = [base+f for f in os.listdir(base) if year in f]\n",
    "    \n",
    "    dss=[]\n",
    "    for f in files:\n",
    "        ds = xr.open_dataset(f)\n",
    "        dss.append(ds)\n",
    "        \n",
    "    data = xr.concat(dss, dim='time').sortby('time')\n",
    "    data.to_netcdf('/g/data/os22/chad_tmp/NEE_modelling/data/FPAR_annual/FPAR_MODIS_1km_'+year+'.nc')\n",
    "    \n",
    "    i+=1"
   ]
  },
  {
   "cell_type": "markdown",
   "metadata": {},
   "source": [
    "##  Standardized Precipitation Evapotranspiration Index\n",
    "\n",
    "Using CHIRPS 5km as input data and  python `climate_indices` on the command line"
   ]
  },
  {
   "cell_type": "markdown",
   "metadata": {},
   "source": [
    "#### Create long time-series of rainfall using ANUCLIM\n",
    "\n",
    "superseeded by CHIRPS rainfall on 5km grid"
   ]
  },
  {
   "cell_type": "code",
   "execution_count": null,
   "metadata": {},
   "outputs": [],
   "source": [
    "# base='/g/data/gh70/ANUClimate/v2-0/stable/month/'\n",
    "# years = [str(i) for i in range(2002,2021)]\n",
    "\n",
    "# pp = []\n",
    "# for y in years:\n",
    "#     precip = xr.open_mfdataset([base+'rain/'+y+'/'+i for i in os.listdir(base+'rain/'+y+'/')],\n",
    "#                               chunks=dict(lat=1000, lon=1000))\n",
    "#     precip = assign_crs(precip, crs='epsg:4283') #GDA94\n",
    "#     precip = precip.drop('crs').rain\n",
    "#     # precip = precip.rename({'lat':'latitude', 'lon':'longitude'})\n",
    "#     pp.append(precip)\n",
    "\n",
    "# precip = xr.concat(pp, dim='time').sortby('time')\n",
    "# del precip.attrs['grid_mapping']\n",
    "# precip.attrs['units'] = 'mm'\n",
    "# precip = precip.to_dataset()\n",
    "# precip.to_zarr('/g/data/os22/chad_tmp/NEE_modelling/data/SPI/rainfall_2002_2020.nc')"
   ]
  },
  {
   "cell_type": "markdown",
   "metadata": {},
   "source": [
    "AWRA"
   ]
  },
  {
   "cell_type": "code",
   "execution_count": null,
   "metadata": {},
   "outputs": [],
   "source": [
    "import xarray as xr\n",
    "tair = xr.open_dataset('/g/data/os22/chad_tmp/NEE_modelling/data/AWRA/tavg_monthly_1991_2021.nc')\n",
    "tair = tair.rename({'latitude':'lat', 'longitude':'lon'})\n",
    "tair.temp_avg_month.attrs['units'] = 'celsius'\n",
    "tair.to_netcdf('/g/data/os22/chad_tmp/NEE_modelling/data/SPEI/tair.nc')"
   ]
  },
  {
   "cell_type": "code",
   "execution_count": null,
   "metadata": {},
   "outputs": [],
   "source": [
    "rain = xr.open_dataset('/g/data/os22/chad_tmp/NEE_modelling/data/chirps_aus_monthly_1991_2021.nc')\n",
    "rain = rain.rename({'latitude':'lat', 'longitude':'lon'})\n",
    "rain.precip.attrs['units'] = 'mm'\n",
    "rain.to_netcdf('/g/data/os22/chad_tmp/NEE_modelling/data/SPEI/rain.nc')"
   ]
  },
  {
   "cell_type": "markdown",
   "metadata": {},
   "source": [
    "CHIRPS"
   ]
  },
  {
   "cell_type": "code",
   "execution_count": null,
   "metadata": {},
   "outputs": [],
   "source": [
    "import xarray as xr\n",
    "import numpy as np\n",
    "from odc.geo.xr import assign_crs\n",
    "from odc.algo import xr_reproject"
   ]
  },
  {
   "cell_type": "code",
   "execution_count": null,
   "metadata": {},
   "outputs": [],
   "source": [
    "ds = xr.open_dataset('/g/data/os22/chad_tmp/NEE_modelling/data/chirps-v2.0.monthly.nc').sel(time=slice('1991','2021'))\n",
    "ds['time'] = ds.time + np.timedelta64(14,'D') #centre times\n",
    "ds = ds.sel(latitude=slice(-45,-9), longitude=slice(110,155)) # select Aus\n",
    "ds = assign_crs(ds, crs='epsg:4326')\n",
    "\n",
    "#reproject to AWRA grid to align with temp etc.\n",
    "awra = xr.open_dataset('/g/data/os22/chad_tmp/NEE_modelling/data/AWRA/rain_monthly_1991_2021.nc')\n",
    "ds = xr_reproject(ds, awra.geobox, 'nearest') \n",
    "ds['latitude'] = ds.latitude.astype('float32')\n",
    "ds['longitude'] = ds.longitude.astype('float32')\n",
    "print(ds)\n",
    "ds.to_netcdf('/g/data/os22/chad_tmp/NEE_modelling/data/chirps_aus_monthly_1991_2021.nc')"
   ]
  },
  {
   "cell_type": "markdown",
   "metadata": {},
   "source": [
    "#### Use `climate_indices` command line to calculate PET"
   ]
  },
  {
   "cell_type": "code",
   "execution_count": null,
   "metadata": {},
   "outputs": [],
   "source": [
    "import os\n",
    "os.system(\"process_climate_indices \"\\\n",
    "       \"--index pet \"\\\n",
    "       \"--periodicity monthly \"\\\n",
    "       \"--netcdf_temp /g/data/os22/chad_tmp/NEE_modelling/data/SPEI/tair.nc \"\\\n",
    "       \"--var_name_temp temp_avg_month \"\\\n",
    "       \"--output_file_base /g/data/os22/chad_tmp/NEE_modelling/data/SPEI/ \"\\\n",
    "       \"--multiprocessing all \"\n",
    "         )"
   ]
  },
  {
   "cell_type": "markdown",
   "metadata": {},
   "source": [
    "#### Use `climate_indices` command line to calculate SPI"
   ]
  },
  {
   "cell_type": "code",
   "execution_count": null,
   "metadata": {},
   "outputs": [],
   "source": [
    "# scales= < 6 produces NaNs in some places\n",
    "import os\n",
    "os.system(\"process_climate_indices \"\\\n",
    "       \"--index spei \"\\\n",
    "       \"--periodicity monthly \"\\\n",
    "       \"--netcdf_precip /g/data/os22/chad_tmp/NEE_modelling/data/SPEI/rain.nc \"\\\n",
    "       \"--var_name_precip precip \"\\\n",
    "       \"--netcdf_pet /g/data/os22/chad_tmp/NEE_modelling/data/SPEI/_pet_thornthwaite.nc \"\\\n",
    "       \"--var_name_pet pet_thornthwaite \"\\\n",
    "       \"--output_file_base /g/data/os22/chad_tmp/NEE_modelling/data/SPEI/ \"\\\n",
    "       \"--scales 6 \"\\\n",
    "       \"--calibration_start_year 1991 \"\\\n",
    "       \"--calibration_end_year 2021 \"\\\n",
    "       \"--multiprocessing all \"\n",
    "         )"
   ]
  },
  {
   "cell_type": "markdown",
   "metadata": {},
   "source": [
    "## AWRA Climate\n",
    "\n",
    "/g/data/fj8/BoM/AWRA/DATA/CLIMATE/g/data/fj8/BoM/AWRA/DATA/CLIMATE"
   ]
  },
  {
   "cell_type": "code",
   "execution_count": null,
   "metadata": {},
   "outputs": [],
   "source": [
    "import xarray as xr\n",
    "import pandas as pd\n",
    "from odc.geo.xr import assign_crs"
   ]
  },
  {
   "cell_type": "markdown",
   "metadata": {},
   "source": [
    "#### Solar radiation\n",
    "\n",
    "Data comes as MJ/m2/day, converting to W/m2 by dividing by 0.0864 (86400 seconds in the day; 1,000,000 J to a MJ, so 86400/1x10^6 = 0.0864)\n",
    "\n",
    "total solar Swi"
   ]
  },
  {
   "cell_type": "code",
   "execution_count": null,
   "metadata": {},
   "outputs": [],
   "source": [
    "var='solar_exposure_day'\n",
    "\n",
    "aa = []\n",
    "for y in range(2000, 2022):\n",
    "    year = str(y)\n",
    "    ds = xr.open_dataset('/g/data/fj8/BoM/AWRA/DATA/CLIMATE/'+var+'/'+var+'_'+year+'.nc')\n",
    "    ds = assign_crs(ds, crs='epsg:4236')\n",
    "    ds = ds / 0.0864 #convert to W/m2\n",
    "    ds = ds.resample(time='MS', loffset=pd.Timedelta(14, 'd')).mean()\n",
    "    ds['latitude'] = ds.latitude.astype('float32')\n",
    "    ds['longitude'] = ds.longitude.astype('float32')\n",
    "    aa.append(ds)\n",
    "    \n",
    "ds = xr.concat(aa, dim='time').sortby('time')\n",
    "ds.to_netcdf('/g/data/os22/chad_tmp/NEE_modelling/data/AWRA/solar_monthly_wm2_2000_2021.nc')"
   ]
  },
  {
   "cell_type": "markdown",
   "metadata": {},
   "source": [
    "#### Rainfall"
   ]
  },
  {
   "cell_type": "code",
   "execution_count": null,
   "metadata": {},
   "outputs": [],
   "source": [
    "var='rain_day'\n",
    "\n",
    "aa = []\n",
    "for y in range(1991, 2022)[0:1]:\n",
    "    year = str(y)\n",
    "    ds = xr.open_dataset('/g/data/fj8/BoM/AWRA/DATA/CLIMATE/'+var+'/'+var+'_'+year+'.nc')\n",
    "    ds = assign_crs(ds, crs='epsg:4236')\n",
    "    ds = ds.resample(time='MS', loffset=pd.Timedelta(14, 'd')).sum()\n",
    "    ds['latitude'] = ds.latitude.astype('float32')\n",
    "    ds['longitude'] = ds.longitude.astype('float32')\n",
    "    ds = ds.rename({'rain_day':'rain_month'})\n",
    "    aa.append(ds)\n",
    "    \n",
    "ds = xr.concat(aa, dim='time').sortby('time')\n",
    "ds.to_netcdf('/g/data/os22/chad_tmp/NEE_modelling/data/AWRA/rain_monthly_1991_2021.nc')"
   ]
  },
  {
   "cell_type": "markdown",
   "metadata": {},
   "source": [
    "#### Temperature\n",
    "\n",
    "\n",
    "Calculating daily Tavg using `(tmax+tmin)/2`, then aggreating daily Tavg to monthly mean Tavg."
   ]
  },
  {
   "cell_type": "code",
   "execution_count": null,
   "metadata": {},
   "outputs": [],
   "source": [
    "var='temp_max_day'\n",
    "\n",
    "aa = []\n",
    "for y in range(2000, 2022):\n",
    "    year = str(y)\n",
    "    ds = xr.open_dataset('/g/data/fj8/BoM/AWRA/DATA/CLIMATE/'+var+'/'+var+'_'+year+'.nc')\n",
    "    ds = assign_crs(ds, crs='epsg:4236')\n",
    "    ds = ds.resample(time='MS', loffset=pd.Timedelta(14, 'd')).mean()\n",
    "    ds['latitude'] = ds.latitude.astype('float32')\n",
    "    ds['longitude'] = ds.longitude.astype('float32')\n",
    "    ds = ds.rename({'temp_max_day':'temp_max_month'})\n",
    "    aa.append(ds)\n",
    "    \n",
    "ds = xr.concat(aa, dim='time').sortby('time')\n",
    "ds.to_netcdf('/g/data/os22/chad_tmp/NEE_modelling/data/AWRA/tmax_monthly_2000_2021.nc')"
   ]
  },
  {
   "cell_type": "code",
   "execution_count": null,
   "metadata": {},
   "outputs": [],
   "source": [
    "var='temp_min_day'\n",
    "\n",
    "aa = []\n",
    "for y in range(2000, 2022):\n",
    "    year = str(y)\n",
    "    ds = xr.open_dataset('/g/data/fj8/BoM/AWRA/DATA/CLIMATE/'+var+'/'+var+'_'+year+'.nc')\n",
    "    ds = assign_crs(ds, crs='epsg:4236')\n",
    "    ds = ds.resample(time='MS', loffset=pd.Timedelta(14, 'd')).mean()\n",
    "    ds['latitude'] = ds.latitude.astype('float32')\n",
    "    ds['longitude'] = ds.longitude.astype('float32')\n",
    "    ds = ds.rename({'temp_min_day':'temp_min_month'})\n",
    "    aa.append(ds)\n",
    "    \n",
    "ds = xr.concat(aa, dim='time').sortby('time')\n",
    "ds.to_netcdf('/g/data/os22/chad_tmp/NEE_modelling/data/AWRA/tmin_monthly_2000_2021.nc')"
   ]
  },
  {
   "cell_type": "code",
   "execution_count": null,
   "metadata": {},
   "outputs": [],
   "source": [
    "aa = []\n",
    "i=0\n",
    "for y in range(1991, 2022):\n",
    "    print(\" {:03}/{:03}\\r\".format(i + 1, len(range(1991, 2022))), end=\"\")\n",
    "    year = str(y)\n",
    "    tmax = xr.open_dataset('/g/data/fj8/BoM/AWRA/DATA/CLIMATE/temp_max_day/temp_max_day_'+year+'.nc').temp_max_day\n",
    "    tmax['latitude'] = tmax.latitude.astype('float32')\n",
    "    tmax['longitude'] = tmax.longitude.astype('float32')\n",
    "    tmin = xr.open_dataset('/g/data/fj8/BoM/AWRA/DATA/CLIMATE/temp_min_day/temp_min_day_'+year+'.nc').temp_min_day\n",
    "    tmin['latitude'] = tmin.latitude.astype('float32')\n",
    "    tmin['longitude'] = tmin.longitude.astype('float32')\n",
    "    tavg = (tmax+tmin)/2\n",
    "    tavg = tavg.resample(time='MS', loffset=pd.Timedelta(14, 'd')).mean()\n",
    "    tavg.name = 'temp_avg_month'\n",
    "    aa.append(tavg)\n",
    "    i+=1\n",
    "    \n",
    "ds = xr.concat(aa, dim='time').sortby('time')\n",
    "ds.to_netcdf('/g/data/os22/chad_tmp/NEE_modelling/data/AWRA/tavg_monthly_1991_2021.nc')"
   ]
  },
  {
   "cell_type": "markdown",
   "metadata": {},
   "source": [
    "#### Vapour pressure"
   ]
  },
  {
   "cell_type": "code",
   "execution_count": null,
   "metadata": {},
   "outputs": [],
   "source": [
    "var='vapour_pressure'\n",
    "\n",
    "aa = []\n",
    "for y in range(2000, 2022):\n",
    "    year = str(y)\n",
    "    ds = xr.open_dataset('/g/data/fj8/BoM/AWRA/DATA/CLIMATE/'+var+'/'+var+'_'+year+'.nc')\n",
    "    ds = assign_crs(ds, crs='epsg:4236')\n",
    "    ds = ds.resample(time='MS', loffset=pd.Timedelta(14, 'd')).mean()\n",
    "    ds['latitude'] = ds.latitude.astype('float32')\n",
    "    ds['longitude'] = ds.longitude.astype('float32')\n",
    "    ds = ds.rename({'vapour_pressure':'vapour_pressure_month'})\n",
    "    aa.append(ds)\n",
    "    \n",
    "ds = xr.concat(aa, dim='time').sortby('time')\n",
    "ds.to_netcdf('/g/data/os22/chad_tmp/NEE_modelling/data/AWRA/vp_monthly_2000_2021.nc')"
   ]
  },
  {
   "cell_type": "markdown",
   "metadata": {},
   "source": [
    "#### Vapour pressure deficit\n",
    "\n"
   ]
  },
  {
   "cell_type": "code",
   "execution_count": null,
   "metadata": {},
   "outputs": [],
   "source": [
    "import xarray as xr\n",
    "import numpy as np"
   ]
  },
  {
   "cell_type": "code",
   "execution_count": null,
   "metadata": {},
   "outputs": [],
   "source": [
    "ta = xr.open_dataarray('/g/data/os22/chad_tmp/NEE_modelling/data/AWRA/tavg_monthly_1991_2021.nc').sel(time=slice('2000','2021'))\n",
    "vp = xr.open_dataarray('/g/data/os22/chad_tmp/NEE_modelling/data/AWRA/vp_monthly_2000_2021.nc').sel(time=slice('2000','2021'))\n",
    "\n",
    "sat_vp = (6.11 * np.exp((2500000/461) * (1/273 - 1/(273 + ta))))\n",
    "vpd = sat_vp - vp\n",
    "\n",
    "vpd.name = 'VPD'\n",
    "vpd.to_netcdf('/g/data/os22/chad_tmp/NEE_modelling/data/AWRA/vpd_monthly_2000_2021.nc')"
   ]
  },
  {
   "cell_type": "markdown",
   "metadata": {},
   "source": [
    "## Difference between Land surface and air temperature\n",
    "\n",
    "Using nearest resampling to reduce the number of NaNs produced"
   ]
  },
  {
   "cell_type": "code",
   "execution_count": null,
   "metadata": {},
   "outputs": [],
   "source": [
    "import os\n",
    "import xarray as xr\n",
    "import pandas as pd\n",
    "from odc.algo import xr_reproject\n",
    "from odc.geo.xr import assign_crs"
   ]
  },
  {
   "cell_type": "code",
   "execution_count": null,
   "metadata": {},
   "outputs": [],
   "source": [
    "tair = xr.open_dataset('/g/data/os22/chad_tmp/NEE_modelling/data/AWRA/tavg_monthly_1991_2021.nc').sel(time=slice('2002','2021'))\n",
    "tair = assign_crs(tair, crs='epsg:4236')\n",
    "\n",
    "# base='/g/data/os22/chad_tmp/NEE_modelling/data/LST/'\n",
    "# lst = xr.open_mfdataset([base+i for i in os.listdir(base)]).compute()\n",
    "\n",
    "# lst = xr_reproject(lst, geobox=tair.geobox, resampling='nearest')\n",
    "# lst['latitude'] = lst.latitude.astype('float32')\n",
    "# lst['longitude'] = lst.longitude.astype('float32')\n",
    "lst = xr.open_dataset('/g/data/os22/chad_tmp/NEE_modelling/data/LST_5km_monthly_2002_2021.nc')\n",
    "lst['latitude'] = lst.latitude.astype('float32')\n",
    "lst['longitude'] = lst.longitude.astype('float32')\n",
    "\n",
    "lst = lst - 273.15 #convert to celsius\n",
    "deltaT = lst.LST - tair.temp_avg_month"
   ]
  },
  {
   "cell_type": "code",
   "execution_count": null,
   "metadata": {},
   "outputs": [],
   "source": [
    "deltaT.name = 'LST-Tair'\n",
    "deltaT.to_netcdf('/g/data/os22/chad_tmp/NEE_modelling/data/LST_Tair_5km_2002_2021.nc')"
   ]
  },
  {
   "cell_type": "markdown",
   "metadata": {},
   "source": [
    "## FLUXCOM\n",
    "\n",
    "Downloaded from https://www.bgc-jena.mpg.de/geodb/projects/DataDnld.php\n",
    "\n",
    "Using RS-METEO driven by ERA5, ensemble of three ML models."
   ]
  },
  {
   "cell_type": "code",
   "execution_count": null,
   "metadata": {},
   "outputs": [],
   "source": [
    "import xarray as xr\n",
    "from matplotlib import pyplot as plt\n",
    "import os"
   ]
  },
  {
   "cell_type": "code",
   "execution_count": null,
   "metadata": {},
   "outputs": [],
   "source": [
    "base = '/g/data/os22/chad_tmp/NEE_modelling/data/FLUXCOM/NEE/'\n",
    "files = os.listdir(base)"
   ]
  },
  {
   "cell_type": "code",
   "execution_count": null,
   "metadata": {},
   "outputs": [],
   "source": [
    "nee = xr.open_mfdataset([base+f for f in files])\n",
    "nee = nee.drop(['lat_bnds','lon_bnds','time_bnds']) # clean up\n",
    "nee = nee.sel(lon=slice(110,155), lat=slice(-9,-45)) # clip to Aus\n",
    "nee.to_netcdf('/g/data/os22/chad_tmp/NEE_modelling/data/FLUXCOM/nee_rs_meteo_era5.nc')"
   ]
  },
  {
   "cell_type": "markdown",
   "metadata": {},
   "source": [
    "## Global Canopy Height\n",
    "\n",
    "Requires dask to complete, but result is poor...not sure what's going on\n"
   ]
  },
  {
   "cell_type": "code",
   "execution_count": null,
   "metadata": {},
   "outputs": [],
   "source": [
    "import rioxarray\n",
    "import xarray as xr\n",
    "from odc.algo import xr_reproject\n",
    "from odc.geo.xr import assign_crs\n",
    "from datacube.utils.dask import start_local_dask\n",
    "\n",
    "client = start_local_dask(mem_safety_margin='2Gb')\n",
    "print(client)"
   ]
  },
  {
   "cell_type": "code",
   "execution_count": null,
   "metadata": {},
   "outputs": [],
   "source": [
    "ds = rioxarray.open_rasterio('/g/data/os22/chad_tmp/NEE_modelling/data/forest_height/Forest_height_2019_AUS.tif').squeeze().drop('band')\n",
    "ds = assign_crs(ds, crs='epsg:4236')\n",
    "ds = ds.rename({'y':'latitude', 'x':'longitude'})\n",
    "ds = ds.chunk(dict(latitude=1000,longitude=1000))"
   ]
  },
  {
   "cell_type": "code",
   "execution_count": null,
   "metadata": {},
   "outputs": [],
   "source": [
    "# open a dataset to get geobox to project too (1 km resolution)\n",
    "lst = xr.open_dataset('/g/data/os22/chad_tmp/NEE_modelling/data/LST/LST_2019.nc').isel(time=0)\n",
    "lst = lst.chunk(dict(latitude=1000,longitude=1000))"
   ]
  },
  {
   "cell_type": "code",
   "execution_count": null,
   "metadata": {},
   "outputs": [],
   "source": [
    "ds = xr_reproject(ds, geobox=lst.geobox, resampling='average').compute()"
   ]
  },
  {
   "cell_type": "code",
   "execution_count": null,
   "metadata": {},
   "outputs": [],
   "source": [
    "ds.name = 'forest_height_AUS'\n",
    "\n",
    "ds.to_netcdf('/g/data/os22/chad_tmp/NEE_modelling/data/forest_height/Forest_height_1km_2019_AUS.nc')"
   ]
  },
  {
   "cell_type": "markdown",
   "metadata": {},
   "source": [
    "## MODIS Landcover\n",
    "\n",
    "MCD12Q1.006_500m"
   ]
  },
  {
   "cell_type": "code",
   "execution_count": null,
   "metadata": {},
   "outputs": [],
   "source": [
    "import xarray as xr\n",
    "import numpy as np\n",
    "from odc.algo import xr_reproject\n",
    "from odc.geo.xr import assign_crs"
   ]
  },
  {
   "cell_type": "code",
   "execution_count": null,
   "metadata": {},
   "outputs": [],
   "source": [
    "lc = xr.open_dataset('/g/data/os22/chad_tmp/NEE_modelling/data/MCD12Q1.006_500m_aid0001.nc').squeeze()['LC_Type5']\n",
    "lc = lc.rename({'lat':'latitude', 'lon':'longitude'})\n",
    "attrs = lc.attrs\n",
    "\n",
    "#open chrips (reproject to this)\n",
    "chirps = xr.open_dataset('/g/data/os22/chad_tmp/NEE_modelling/data/chirps_aus_monthly_1991_2021.nc')\n"
   ]
  },
  {
   "cell_type": "code",
   "execution_count": null,
   "metadata": {},
   "outputs": [],
   "source": [
    "lc.attrs"
   ]
  },
  {
   "cell_type": "markdown",
   "metadata": {},
   "source": [
    "Reclassify"
   ]
  },
  {
   "cell_type": "code",
   "execution_count": null,
   "metadata": {},
   "outputs": [],
   "source": [
    "lc = xr.where(lc==1, 2, lc) # ENL to EBF\n",
    "lc = xr.where(lc==3, 2, lc) # DNL to EBF\n",
    "lc = xr.where(lc==4, 2, lc) # DBL to EBF\n",
    "lc = xr.where(lc==8, 7, lc) # Broadleaf crop to Cereal crop\n",
    "lc = xr.where(lc==11, 5, lc) # barren to grass\n",
    "lc = xr.where(lc==0, np.nan, lc) # Water to no-data\n",
    "lc = xr.where(lc==9, np.nan, lc) # urban to no-data\n",
    "lc = xr.where(lc==10, np.nan, lc) # snow to no-data"
   ]
  },
  {
   "cell_type": "code",
   "execution_count": null,
   "metadata": {},
   "outputs": [],
   "source": [
    "#reproject\n",
    "lc = assign_crs(lc, crs='epsg:4326')\n",
    "lc = xr_reproject(lc, chirps.geobox, resampling='mode')\n",
    "\n",
    "# make into a time-series\n",
    "lc = lc.expand_dims(time=chirps.sel(time=slice('2002','2021')).time)\n",
    "lc = lc.rename('IGBP_class')\n",
    "lc.attrs = attrs\n",
    "lc.to_netcdf('/g/data/os22/chad_tmp/NEE_modelling/data/IGBP_Landcover_MODIS_5km.nc')"
   ]
  },
  {
   "cell_type": "markdown",
   "metadata": {},
   "source": [
    "## Carbon Tracker Gridded Fluxes\n",
    "\n",
    "Global surface fluxes at 1x1-degree spatial resolution in netCDF format. Provided as flux components: fossil fuel emissions, land biosphere NEE excluding fires, wildfire emissions, and air-sea exchange. CarbonTracker allows for any type of flux to happen at any grid location, so users are cautioned that they may want to sum flux components to get total surface CO2 exchange with the atmosphere. This convention admits land fluxes from islands in the ocean, for instance, or air-water exchange from inland lakes and seas\n",
    "\n",
    "https://gml.noaa.gov/ccgg/carbontracker/\n",
    "\n",
    "https://gml.noaa.gov/aftp/products/carbontracker/co2/fluxes/monthly/"
   ]
  },
  {
   "cell_type": "code",
   "execution_count": null,
   "metadata": {},
   "outputs": [],
   "source": [
    "import xarray as xr\n",
    "import numpy as np"
   ]
  },
  {
   "cell_type": "code",
   "execution_count": null,
   "metadata": {},
   "outputs": [],
   "source": [
    "ct = xr.open_dataset('/g/data/os22/chad_tmp/NEE_modelling/data/carbontracker/CT2019B.flux1x1-monthly.nc', drop_variables='time_components').sel(time=slice('2003','2018'))\n",
    "ct.data_vars"
   ]
  },
  {
   "cell_type": "code",
   "execution_count": null,
   "metadata": {},
   "outputs": [],
   "source": [
    "ct_aus = ct.sel(longitude=slice(110,155), latitude=slice(-46,-9))\n",
    "# ct_aus.to_netcdf('/g/data/os22/chad_tmp/NEE_modelling/data/carbontracker/CarbonTracker_NEE_AUS_monthly_2000_2018.nc')"
   ]
  },
  {
   "cell_type": "code",
   "execution_count": null,
   "metadata": {},
   "outputs": [],
   "source": [
    "ct_aus.bio_flux_opt.sel(time='2011').plot.imshow(col='time', col_wrap=6, cmap='RdBu_r', robust=True);"
   ]
  },
  {
   "cell_type": "code",
   "execution_count": null,
   "metadata": {},
   "outputs": [],
   "source": [
    "annual_mean = ct_aus.bio_flux_opt.groupby('time.year').sum().mean('year')\n",
    "annual_std = ct_aus.bio_flux_opt.groupby('time.year').sum().std('year')"
   ]
  },
  {
   "cell_type": "code",
   "execution_count": null,
   "metadata": {},
   "outputs": [],
   "source": [
    "from matplotlib import pyplot as plt\n",
    "fig,ax = plt.subplots(1,2, figsize=(25,10))\n",
    "annual_mean.plot.imshow(ax=ax[0], robust=True)\n",
    "annual_std.where(annual_std>0).plot.imshow(ax=ax[1], cmap='magma', robust=True)\n",
    "ax[0].set_title('Carbon Tracker Annual Mean NEE, 2003-2018')\n",
    "ax[1].set_title('Carbon Tracker Annual Std. in NEE, 2003-2018')\n",
    "# plt.suptitle('Annual Mean and Std. Dev. of GPP, 2003-2021')\n",
    "plt.tight_layout();"
   ]
  },
  {
   "cell_type": "code",
   "execution_count": null,
   "metadata": {},
   "outputs": [],
   "source": [
    "ds_1D = ct_aus.bio_flux_opt.sum(['longitude','latitude'])"
   ]
  },
  {
   "cell_type": "code",
   "execution_count": null,
   "metadata": {},
   "outputs": [],
   "source": [
    "ds_1D.plot(figsize=(15,5), marker='o', linestyle='--')\n",
    "plt.axhline(0, c='grey')\n",
    "plt.title('Carbon Tracker monthly NEE, 2003-2018');\n",
    "# plt.ylabel('gC/m2/month');"
   ]
  },
  {
   "cell_type": "code",
   "execution_count": null,
   "metadata": {},
   "outputs": [],
   "source": [
    "ds_1D_annual = ds_1D.resample(time='1Y').sum()\n",
    "ds_1D_annual.plot(figsize=(15,5), marker='o', linestyle='--')\n",
    "plt.axhline(0, c='grey')\n",
    "plt.title('Carbon Tracker Annual NEE, 2003-2018');\n",
    "# plt.ylabel('gC/m2/year');"
   ]
  },
  {
   "cell_type": "code",
   "execution_count": null,
   "metadata": {},
   "outputs": [],
   "source": [
    "monthly_mean = ct_aus.bio_flux_opt.groupby('time.month').mean()\n",
    "monthly_std = ct_aus.bio_flux_opt.groupby('time.month').std()"
   ]
  },
  {
   "cell_type": "code",
   "execution_count": null,
   "metadata": {},
   "outputs": [],
   "source": [
    "y = monthly_mean.sum(['longitude','latitude']).values\n",
    "x = monthly_mean.month.values\n",
    "std = monthly_std.sum(['longitude','latitude']).values\n",
    "\n",
    "fig,ax = plt.subplots(1,1, figsize=(9,4))\n",
    "ax.plot(x, y, marker='o', linestyle='--')\n",
    "ax.axhline(0, c='grey')\n",
    "ax.fill_between(x, y-std, y+std, alpha=0.5)\n",
    "ax.set_title('Carbon Tracker Monthly Mean NEE averaged over Australia')\n",
    "ax.set_xlabel('Month');\n",
    "# ax.set_ylabel('gC/m2/month');"
   ]
  },
  {
   "cell_type": "markdown",
   "metadata": {},
   "source": [
    "## Merge ESA Worldcover with GFSAD cropmask\n",
    "\n",
    "GDAL isn't installed???"
   ]
  },
  {
   "cell_type": "code",
   "execution_count": null,
   "metadata": {},
   "outputs": [],
   "source": [
    "import xarray as xr\n",
    "import numpy as np\n",
    "import rioxarray as rxr\n",
    "from odc.algo import xr_reproject\n",
    "from odc.geo.xr import assign_crs\n"
   ]
  },
  {
   "cell_type": "code",
   "execution_count": null,
   "metadata": {},
   "outputs": [],
   "source": [
    "from datacube.utils.dask import start_local_dask\n",
    "client = start_local_dask(mem_safety_margin='2Gb')\n",
    "client"
   ]
  },
  {
   "cell_type": "code",
   "execution_count": null,
   "metadata": {},
   "outputs": [],
   "source": [
    "lc = xr.open_dataarray('/g/data/os22/chad_tmp/NEE_modelling/data/ESA_worldcover_5km.nc')\n",
    "geobox = lc.geobox"
   ]
  },
  {
   "cell_type": "code",
   "execution_count": null,
   "metadata": {},
   "outputs": [],
   "source": [
    "lc = xr.where(lc==60, 30, lc) # barren to grassland\n",
    "lc = xr.where(lc==80, np.nan, lc) # Water to no-data\n",
    "lc = xr.where(lc==50, np.nan, lc) # urban to no-data\n",
    "lc = xr.where(lc==90, 20, lc) # wetland to shrubland\n",
    "lc = xr.where(lc==95, 10, lc) # mangroves to trees"
   ]
  },
  {
   "cell_type": "code",
   "execution_count": null,
   "metadata": {},
   "outputs": [],
   "source": [
    "lc.plot.imshow(size=6);"
   ]
  },
  {
   "cell_type": "code",
   "execution_count": null,
   "metadata": {},
   "outputs": [],
   "source": [
    "cm = rxr.open_rasterio('/g/data/os22/chad_tmp/NEE_modelling/data/GFSAD_cropmask_mosaic.tif', chunks=dict(x=1000, y=1000)).squeeze().drop('band')\n",
    "cm = cm.rename({'x':'longitude', 'y':'latitude'})\n",
    "cm = assign_crs(cm, crs='epsg:4326')\n",
    "cm = cm.astype(np.int8)"
   ]
  },
  {
   "cell_type": "code",
   "execution_count": null,
   "metadata": {},
   "outputs": [],
   "source": [
    "#reproject\n",
    "cm = xr_reproject(cm, geobox, resampling='mode')"
   ]
  },
  {
   "cell_type": "code",
   "execution_count": null,
   "metadata": {},
   "outputs": [],
   "source": [
    "cm = cm.compute()"
   ]
  },
  {
   "cell_type": "code",
   "execution_count": null,
   "metadata": {},
   "outputs": [],
   "source": [
    "cm = xr.where(cm==2, 40, np.nan) # reclassify to match ESA cropland class\n",
    "cm.plot.imshow(size=6)"
   ]
  },
  {
   "cell_type": "code",
   "execution_count": null,
   "metadata": {},
   "outputs": [],
   "source": [
    "lc_merged = xr.where(np.isnan(cm), lc, cm)#.plot.imshow(size=10) "
   ]
  },
  {
   "cell_type": "code",
   "execution_count": null,
   "metadata": {},
   "outputs": [],
   "source": [
    "lc_merged.plot.imshow(size=10);"
   ]
  },
  {
   "cell_type": "code",
   "execution_count": null,
   "metadata": {},
   "outputs": [],
   "source": [
    "#open chrips (reproject to this)\n",
    "chirps = xr.open_dataset('/g/data/os22/chad_tmp/NEE_modelling/data/chirps_aus_monthly_1991_2021.nc')"
   ]
  },
  {
   "cell_type": "code",
   "execution_count": null,
   "metadata": {},
   "outputs": [],
   "source": [
    "lc_merged = xr_reproject(assign_crs(lc_merged, crs='epsg:4326'), chirps.geobox, resampling='mode')\n",
    "\n",
    "# make into a time-series\n",
    "lc_merged = lc_merged.expand_dims(time=chirps.sel(time=slice('2002','2021')).time)\n",
    "lc_merged = lc_merged.rename('PFT')\n",
    "lc_merged.to_netcdf('/g/data/os22/chad_tmp/NEE_modelling/data/Landcover_merged_5km.nc')"
   ]
  },
  {
   "cell_type": "code",
   "execution_count": null,
   "metadata": {},
   "outputs": [],
   "source": [
    "lc_merged"
   ]
  },
  {
   "cell_type": "code",
   "execution_count": 1,
   "metadata": {},
   "outputs": [],
   "source": [
    "import xarray as xr\n",
    "import odc.geo\n",
    "import folium\n",
    "from odc.geo.xr import assign_crs"
   ]
  },
  {
   "cell_type": "code",
   "execution_count": 3,
   "metadata": {},
   "outputs": [],
   "source": [
    "lc = assign_crs(xr.open_dataset('/g/data/os22/chad_tmp/NEE_modelling/data/Landcover_merged_5km.nc').isel(time=1), crs='epsg:4326')"
   ]
  },
  {
   "cell_type": "code",
   "execution_count": 13,
   "metadata": {},
   "outputs": [
    {
     "data": {
      "text/html": [
       "<div style=\"width:100%;\"><div style=\"position:relative;width:100%;height:0;padding-bottom:60%;\"><span style=\"color:#565656\">Make this Notebook Trusted to load map: File -> Trust Notebook</span><iframe srcdoc=\"&lt;!DOCTYPE html&gt;\n",
       "&lt;head&gt;    \n",
       "    &lt;meta http-equiv=&quot;content-type&quot; content=&quot;text/html; charset=UTF-8&quot; /&gt;\n",
       "    \n",
       "        &lt;script&gt;\n",
       "            L_NO_TOUCH = false;\n",
       "            L_DISABLE_3D = false;\n",
       "        &lt;/script&gt;\n",
       "    \n",
       "    &lt;style&gt;html, body {width: 100%;height: 100%;margin: 0;padding: 0;}&lt;/style&gt;\n",
       "    &lt;style&gt;#map {position:absolute;top:0;bottom:0;right:0;left:0;}&lt;/style&gt;\n",
       "    &lt;script src=&quot;https://cdn.jsdelivr.net/npm/leaflet@1.6.0/dist/leaflet.js&quot;&gt;&lt;/script&gt;\n",
       "    &lt;script src=&quot;https://code.jquery.com/jquery-1.12.4.min.js&quot;&gt;&lt;/script&gt;\n",
       "    &lt;script src=&quot;https://maxcdn.bootstrapcdn.com/bootstrap/3.2.0/js/bootstrap.min.js&quot;&gt;&lt;/script&gt;\n",
       "    &lt;script src=&quot;https://cdnjs.cloudflare.com/ajax/libs/Leaflet.awesome-markers/2.0.2/leaflet.awesome-markers.js&quot;&gt;&lt;/script&gt;\n",
       "    &lt;link rel=&quot;stylesheet&quot; href=&quot;https://cdn.jsdelivr.net/npm/leaflet@1.6.0/dist/leaflet.css&quot;/&gt;\n",
       "    &lt;link rel=&quot;stylesheet&quot; href=&quot;https://maxcdn.bootstrapcdn.com/bootstrap/3.2.0/css/bootstrap.min.css&quot;/&gt;\n",
       "    &lt;link rel=&quot;stylesheet&quot; href=&quot;https://maxcdn.bootstrapcdn.com/bootstrap/3.2.0/css/bootstrap-theme.min.css&quot;/&gt;\n",
       "    &lt;link rel=&quot;stylesheet&quot; href=&quot;https://maxcdn.bootstrapcdn.com/font-awesome/4.6.3/css/font-awesome.min.css&quot;/&gt;\n",
       "    &lt;link rel=&quot;stylesheet&quot; href=&quot;https://cdnjs.cloudflare.com/ajax/libs/Leaflet.awesome-markers/2.0.2/leaflet.awesome-markers.css&quot;/&gt;\n",
       "    &lt;link rel=&quot;stylesheet&quot; href=&quot;https://cdn.jsdelivr.net/gh/python-visualization/folium/folium/templates/leaflet.awesome.rotate.min.css&quot;/&gt;\n",
       "    \n",
       "            &lt;meta name=&quot;viewport&quot; content=&quot;width=device-width,\n",
       "                initial-scale=1.0, maximum-scale=1.0, user-scalable=no&quot; /&gt;\n",
       "            &lt;style&gt;\n",
       "                #map_dbadececbfbc1d0696195e0ff50d08f7 {\n",
       "                    position: relative;\n",
       "                    width: 100.0%;\n",
       "                    height: 100.0%;\n",
       "                    left: 0.0%;\n",
       "                    top: 0.0%;\n",
       "                }\n",
       "            &lt;/style&gt;\n",
       "        \n",
       "    \n",
       "                &lt;style&gt;\n",
       "                    .leaflet-image-layer {\n",
       "                        /* old android/safari*/\n",
       "                        image-rendering: -webkit-optimize-contrast;\n",
       "                        image-rendering: crisp-edges; /* safari */\n",
       "                        image-rendering: pixelated; /* chrome */\n",
       "                        image-rendering: -moz-crisp-edges; /* firefox */\n",
       "                        image-rendering: -o-crisp-edges; /* opera */\n",
       "                        -ms-interpolation-mode: nearest-neighbor; /* ie */\n",
       "                    }\n",
       "                &lt;/style&gt;\n",
       "            \n",
       "&lt;/head&gt;\n",
       "&lt;body&gt;    \n",
       "    \n",
       "            &lt;div class=&quot;folium-map&quot; id=&quot;map_dbadececbfbc1d0696195e0ff50d08f7&quot; &gt;&lt;/div&gt;\n",
       "        \n",
       "&lt;/body&gt;\n",
       "&lt;script&gt;    \n",
       "    \n",
       "            var map_dbadececbfbc1d0696195e0ff50d08f7 = L.map(\n",
       "                &quot;map_dbadececbfbc1d0696195e0ff50d08f7&quot;,\n",
       "                {\n",
       "                    center: [0, 0],\n",
       "                    crs: L.CRS.EPSG3857,\n",
       "                    zoom: 1,\n",
       "                    zoomControl: true,\n",
       "                    preferCanvas: false,\n",
       "                }\n",
       "            );\n",
       "\n",
       "            \n",
       "\n",
       "        \n",
       "    \n",
       "            var tile_layer_1d56884e1c68b01ce313d5c38d502f96 = L.tileLayer(\n",
       "                &quot;https://{s}.tile.openstreetmap.org/{z}/{x}/{y}.png&quot;,\n",
       "                {&quot;attribution&quot;: &quot;Data by \\u0026copy; \\u003ca href=\\&quot;http://openstreetmap.org\\&quot;\\u003eOpenStreetMap\\u003c/a\\u003e, under \\u003ca href=\\&quot;http://www.openstreetmap.org/copyright\\&quot;\\u003eODbL\\u003c/a\\u003e.&quot;, &quot;detectRetina&quot;: false, &quot;maxNativeZoom&quot;: 18, &quot;maxZoom&quot;: 18, &quot;minZoom&quot;: 0, &quot;noWrap&quot;: false, &quot;opacity&quot;: 1, &quot;subdomains&quot;: &quot;abc&quot;, &quot;tms&quot;: false}\n",
       "            ).addTo(map_dbadececbfbc1d0696195e0ff50d08f7);\n",
       "        \n",
       "    \n",
       "            var image_overlay_1782902579354b803bbcca70b91c6748 = L.imageOverlay(\n",
       "                &quot;data:image/png;base64,iVBORw0KGgoAAAANSUhEUgAAAxsAAALkCAYAAABnbSixAAAgAElEQVR4nOy9vYpdybPmnXpbl6FB 7kDLOgLJKqORUc7A2HOsBoGMAknQF1BGXYCgJZBRIJB1xh4YpwwhQ5YEOlY3jCuOLkNiv4b+WR0V ioiMyI+1cq39/KCoqr3Xysz1lSufjI+89R//+V+HBAAAAAAAAACd+f/WbgAAAAAAAABgn9zOf/z7 v/23W2s2BOyT+2/v/WQ5e/jm2fXfHx+/FD+nvP7wBPcmAAAAsEPyOOHhm2c3xgQzkdv2+fe/uoxH pLFRplcda0M9p2DZAIvz8fFLs0OZtbMBAAAAwBikicWHb56pE5FLksclZyeXh/tv7x3OTi6vf1Zu 2ia4Xd4EgDF4RAWsGgAAAGqRZpD3MnO8F+j1+Pz7X7eopUP6fE3yuIWOX+4/vnd4+OZZaLxCj3mG 4xrNrWzmgBsVGIn3YaKdC4QGAACAFiA29kd0cP7p7qOUUkoPvrwb0p5MHr9QIRK51+6/vXfY071J 3ahg2QBTsgehkTvEPXUeAACwJXL/i/54P1jXUBIio0VGRvPW4G3S7sk935sQG2ARPv/+162zk8sD FRH0Abx+2NKTNZrXHWoG/pyeHEUwGAAAzAr62eOAX2dNZC7luqQJjWMDblQADCDSkR1r5wMAAKPZ m2sKGEMv8aHFlhzjPUjdqCA2wFHAM0Ys4aYFsz0AAACwfWrFyDG//5H6FoDB0I7pGDJNAADArOQ+ GH0xqKHlvsE99wOIDbBr7r+9d1j6YYePJgAAzAUEB1gLeu+tMSaZAQSIg91BXaY+ppc/LQg00oXq GDsRAACYFUz+gFZ49qga+L5SgpwlkGKYlohrgtgAu+X1hye30ocfGa54JqzeQGQAAMBcoF8GPfGK jhwkPsNChFLsqNSm0TGmEBtgd0iiAkIDAABASljoD7ThWf2brp3BB/JrJo9ZSwBBbAAQ5P7bewfq mvUxyQv54OUFAADrMcPMMtg3nvc832bJsYH0DKwxNoHYAMDB2cnlga4Oqq0UmoHQAACA9UFfDMD6 QGwA4CDHf6R0c3XwlH4WHni5AQDAnMDSAY6NGcYkEBsAVPLx8csfD/GHtVsCAABAwyMwsNI4AOPA OhsAAAAA2CWwZACwPhAbAFSCWTCwN451wSmwbz7dfZQ+3X1U3A73PgBjgNgAIMjn3/+6BaEB9gRE Rjt0MVEwFw++vEspJQgOAFYCYgMAAI4ciOc2IDTm5tPdR+nBl3fXogOAY2WtiSWIDQAAWIi1Zk1p vfllE33pYEANtgpEBgA/oJ4ZWv9//+29Q+/+HmIDAAAWIHfsLYIjKhAkkaGVWXIxef3hCawfjLOT y8P9t/cOHx+/xPkBAGyKkkW75+QYUt8CAMDEaAIhJf1lwUUG/U5bVRmzv/XADQ0AsBc+//7Xrc/p Sbr/+MdEVI/+DZYNAABYANphWxYK+t0ItysEwPYlL+4J9gOeEQD6TqLAsgEAAAOxBi501ohv1zrg 0SwYNdByMIv/D9cLe4IpgWgAoJ0e1g1YNgAAYBDelYtrB0XavvnFgIHwOBAwDwAAPiA2AABgALPM qtYIDjqQliwusxzbmsCqAQAAPuBGBQAAO0dzqeJxJPS7GkFxLO5W398/P/zy25+7Pb49AEEMQDu9 +nFYNgAAYACeTro1uDiymj3dTtqvx0sll7tXofH9/fPD9/fPMYjdEJ5VwwEAY4FlAwAAVuLj45er 1V1Kn1tbXmbrgoMH7z988yw9Pcd6I1sDKZ0BWJ9b//Gf/3VIKaV//7f/hg4UAAA6MNqFY8RAXmoz tby8uvj7p4GblElrbZFxdnJ5qBUE/Dh6CzKwDD2eP1xzANrI+iIlWDYAAKArW/UVl+I6suVFc/fy pvWVth01mGsVGtzdrLQPBqUAAGADsQEAABth9MCWCo6Hb57dcPPyuqNYq5fPSmswPJgHXBcA5gNi AwAAOpIH7JowkFyOSgOkJWfPP//+162c+jZbNHrHlszqouRpy0wuY2AcsFoB0A+IDQAA6Iw1SJG+ W8PdyMuIIHbJ+rHWcbbU3xIfAuaHJwlIaf3nEYAtArEBAAATMcus/5qZsiy0c5OtMZ7Bv2RJKs1k S99DaMzDKPcpbf0ZiA4A/EBsAADAZKw9kFlDaHjck85OLg/pzY/25cF//u0d+EcHpYgBAACANiA2 AABgQqzYjiXECI3X+HT30aLrFfBjz1aL3B6+nde/XhMOfF9tOwiPOaHXhSc26M3aEwEAbBGIDQAA OFK4eLke1L/58X0etK25MNr9t/cOuT0p/TOYpINKTzC+hiY0PMH7WnpfDEjXY1b3PwCOmf9v7QYA AACwGT2jfnZyefj+/vkhpR+DtdL6GhEevnnWpZzcLj6YfPjmWfX5oYIi/9DvI+XmVcYhNPYLri0A dUBsAADABui5FgQdWGch8ODLuxsD+Z6Cw5pt/nT30fXfWl3S/tm6oWGdLyqApO2kBQ6tNmaLUI4l URsFAABHCNyoAABgQqwBbynlKnWH+pye3PhOWiW8JCjy968u/k4pxdyqSm4tLS5atOyzk8tD1IXm 7OTy8DH9vI8WA6JlsXr9+5Nb9x/fTOeLWfBlgLgDYH4gNgAAYEJKgygaNC3x6uLv9ODLu3SWfmx3 eudFuvr6R5IG1yklMQg8D97zd0/Pf4iOTxdj4jhq/e2j1pcWv35p35pUugAAcCxAbAAAwCREZ2lz pqiUUnp6/uuN7zQx8PDNs2shktIPIfHU2F4q6+n5ryk9Xi9onEOPpwdeqwY4LpAAAIA6ELMBAAAr oAUll8hiwZqdl767OL2dPj5+KQ7MSzP9WdDk7UZn/IlaKmqERo9YFLAuawlACE8AYkBsAADAyngH LzSYOv/9w73pV22XnzI4SVaK0sCb7jOb0KjdzzoOKgTvv713KLmscT7//tctzH7vGwgOAPxAbAAA wCSUBqhPz39NHx+/TE/Pf70hMKig2MM6A55j4OJi1HFHRAxS3y4HBvsAbAeIDQAAWAjLbcrjUmUN qPOgeMlg6RF42zNbu8HxAcEDgA+IDQAA2CC9B9uaSDn22AZpIUGJh2+eJSsdMRjD2pakmrgrAI4N iA0AAFiYEYOTHDReI0J6LuB3rEBoLAuNi1lbcAAAbCA2AABgAXoJjIdvnomCwgoS90DX1JA+nxG6 Ejg4Xta2LEDsAGCDdTYAAGDj9Bxwj1isbyRriyEMNAEAwAaWDQAA2BAjB9drD9yjbK29YH9AbAJQ BmIDAAAWhloiaqwSUtpXDLwBWJ7axTkBOCYgNgAAYBB5AHJ2cnn4dPfRdYyBN7uRFZPgESmIZxgL ZrXX5ezkEoN8ADYAYjYAAGAAeRD0/f3zw9PzmwHcWQRYFgnp85JQWWqhu1L9x2JlydcYomN57r+9 d0hv1m7FP+AeAEAHlg0AABjIgy/vuro5tbpgtdYNawmYhWMRtQBsnVv/8Z//dUgppX//t/8GVQ4A AB2wXDuis/90cE/3sQb9Hx+/vFGPZBHxunN527jWwG/NujGbvR6zuU/hXgDgJllfpATLBgAAdMMK FM1WgdM7L9LHxy/T+dU3V5nZKiINqK1Bdt4niw5uEeltaVnD4jGiTr7OCJgTDO4B2A4QGwAA0Ak6 AOKDoTy4vzi9feN3Lbk8SYhQdyf6fe/B+R5dqrR1RuiK1QBwZrO0ADATCBAHAICOaANSak3IVg2v 4Khxg+LfUcEh/V3D2j7zPeu3zkW+phhQzsXn3/+6hWsCwPxAbAAAwCC0wVCLVcMT86F9t3a2qpn5 +PjlDVFhWTFg4ZgDCA0AtgECxAEAYBBnJ5fXgyEep9HqRkWJiIhjS0/r5eGbZ+n1hyfX78GS4ADr M5vYwP0CwD/QAHGIDQAAGMT9t/cOUlzD6Z0X6errHyml2KBfEwqwWMSwBBcdMEJwzMtsQiOD+wWA H1CxATcqAABoQFrYrTQQ+mHVeBlaUTylssgAfkrnPF9DCA4AAGgD2agAAKAjmjUjpZ8zR2kpbc+v vhVT42rrb2yVtYUTzzYFgTEvs1o1AAAyEBsAANCB+2/vHb6/f37g6zSUhIA1yC4t3EfFijfF7dqD eo0lBVOkLogOAABoA2IDAAAq8c6wUhEQia84vfPCZeXwlpeZTXCU2iOdN0rLQnxW2RAa8zGzVQP3 CwAyEBsAANCJB1/epQdf3qlrYiwxe2/FgMwmMjLRWJSS+Kipm2YOowNaa1X4/P33988P398/v7EN LQ/0Ayu8A7A9IDYAAKAT1iDYGwzO94+myLVWE7fqmQlLLFnnt3YgSuvThAX/nIqQLDIpNI0u6AsE BwDbAmIDADCUs5PLw9nJpTk7vCdarRe9rR98tXAa47F1svh48OVdenXxd3N5EYsGhy4IeCz3OvgH CCAAdCA2AABDyALj1cXf1wPBPQ3C8rHQQUavAfzF6e3rnx5kkUEtAz1dkXoTaVc+55J1IQK9dprv fcmdqrpy4KblGo9k1nYBMAMQGwCAIby6+PvGQPzT3UfTDm6j0IGlZ5BBB7I156BGdHjqmcm6kcUP bXcpmH7J9nssFxAcyzGjJYHH7QAAfoBF/QAALqzFzeggK2/zy29/3qIv36fnv6aUflg8sj87DaKF j3s/RgmNyAKE0XK1uvhq3570vj2Q7nUqOLT9Pt19lH757U/cy0cIrBsAyMCyAQAoQldTpr85nsFY Sv/EcfDP+rR2PNEUl70GxtHF/rjbVC2jXK5K5Xrq7N2u0rW17u2Hb55BaCwABvUAbAuIDQCAiTS4 KrmUfLr7KH1///wQHRRsRXDkVcJbB/DR7WpjOFoH5HQBQU3M1Jar1aV9T1laaJSYyS0NrANc6QD4 GYgNAEAVZyeXBzrYowO1PLtb8quWMgjNKjiysMqDiY+PX/4UlyLRmnY2OoD1bl+yKEgxFDXt8baB r0Oi/U3JyQda0t6mNKf/P5D5/Ptft3pY60YCwQHATRCzAQCoQhsA/iMW/k5Pz381U5LmOA6pjC3E cDz48u56oBoZlHMLgZeHb56ldOdFeD+p/nC9wn615UTK0L7/+Phlenr+LL26+Ptf29xMRpDSP+42 n+4+Ml1vIha4z7//davkRgjG8vrDk1sfv9w7pMdwpwJgC8CyAQBIKdlxGPknfyZZH/L+WVzkARwV FJ7BKV3ReVYrByUfZ3T9ishAnS4I6HGl8rofRd2g1ppRtup7ev7rtbj4dPdRWGhEsZ4T+h0yEy3D rNYNL7CCgGPg1n/8538dUkrp3//tv2FGBoAjx8o4lb+XPucz39r/Nby6+Hv1oFvPgIC7BNWgZXvS LAveMiX4Yn/S9twC03JcvLzWbFi8zPw5dYnKliev2ChZJrL49bT94ZtnyLA2kBw3ldKcsTJeK1fu W7hYhZUMbJ2sL1KCZQOAo4fGIUgvuPy9ZGWgL3tNWEgrV0esAJqr1VJ4hEYe4PK4gyijBk3ROA7p WrYeV83K5VLsiNTGHLeR0j8WDf7bglvuLF5/eOLadsYB8B6Z9Tx7+g1NaHj3B2ArQGwAANLDN8/M wGxpxl0SFZL4sHzure8pW3CnGomUCSqyL/2dKa0mTjNQ9YjNsD4vfWcFi7+6+FsUpNmlii8sybeJ zCBTSwUXKPl/BJsvw6g1X9YAwgLsHYgNAI4cyxWBZl6S0FxxaNl0QNsyOFhDcHgHAb2sL6UYCksw SOR1OSLuJhEriFS/d0HB0nbSSuKS0KBlpvSzG1V2pZLcqXq453HR8ctvf/4U4wT6ciyTDxAhYC9A bAAAUkoxH2HJd95af6FXEOesg4xW96ne5WRyMHke3NPrcNqQ1cojMCQXKGudDinTVelcZJGXRcfD N89uCD/JkgHAUmhiIbulbj24HQAvEBsA7BD6ktPiLfjnOfvT2cmlGcORUnkNhFFrQyxNSYCNWlnb U6e3Xio48s/pnRdqViuvZaLFvaokVvjx5TVNpHZQ60XeJgsObnHCytNgaXjfS0XGrP0eAL1BNioA dk5+2VF/85KF4OPjlzcG2iVzvhZIHAkwjgzal87yk4+/lNlpSWrWrKitxypXsnLx9ljnzXPv8HTK EprVQspIhUxR2yaSFWwGIq6RHC1ph/YdALNAs1FBbACwY6ioeP3hyS2PG1Jp4MixBqNesRG1DnAx tATWuVtq0GOlqeVtseJoeqWd1eqW2mdluIqKFGk7avkore2CQdq22VosQ4vYoOC+BVsCqW8BOEI8 L2jLPUqLw7BS3lr/t1DKnjWC1x+e3PLMhtcGTXuIBG97B+z5+/Orbz99Hk19K8Vp8H2l+4oHenvd xPJ22Z0KgBkpJdjwQtOUA7AlIDYAOBJaBrySf35kUEjb0DPOYY2AcU8qWen/VrT0tFYb899WIHaG xnCUto3Ga0jt5mtj5M9o7IVVtzd1MhdAmB3eB/l6SimO8/drognuHlbQyBoeAMyAHCEIANgFeSae xhzUrteQku1KZe0zMiBSikkZDT8m6/hr3Za0eq22RPYrlVnbNu89ll2d6LZP//V/FhxSSuGStcVK Q4w4jf3y9PzX9DD9ak4GLB3jQev7dPdRekDatrYYAmBJIDYA2Dn339475BetFJDrdVex/PGl7SSR EXHvmZXPv/91I/alZaCvYc2ISlaCj49fXrtBfUw/Wyi0tlhxHbVtl+rViJTPxceri7/Tgy8//v50 91F6ev5relqq64O7OrARnp7/ml5d/F28l5aMq8r1SWu79GrP/bf3DpaVDhY8MBMIEAfgCJBM6pqA kAKQPUKjNdi3hlz2p7uPbizQdnZyefDWK81288D6lG6eQ+kYawLqRwmuvIbG1dc/itao0YMwyQIU zVLFv8viggqQvI8UKK4lFCgN2MC8cBfK2TJTZbeup+e/qoK+d5txL4OZQIA4AEdG7UvI8zKMpLTt /XLNZVOhcf/tvUNk8E/XF5G+p2kmtTgM7TMthsMTQ1H6jm7Dt7s4vX0dgxFpby3ScfaOWaHkGI+U 5FXEM/Q7+LDvFyvGZy3y+i+W5RCAYwGWDQB2hJZ/vfdAqzRQ1ly1Rszo01lrbtHgPtMZPitO4SmC afu96YNbiZ4nyRrl/d6TrjaK17XMinvJ10e6TnxwmV1VpLU26L6I2dgXs1s31gIWDjADsGwAcATQ NImtLx8tTsD63vq/J/nY+MJ7pQG4FkjMhRndN1tNRlOT5UtCyyLGMzqNtD5pUJcnfs2ywPj4+KXo k//0/NfrmWMLfo0tCxbYF9IzoS38CAAYCywbAOyM+2/vHaTAxM+//3VrlCuJFuuR0vjMKz8ChWNr LGSff4mWeIKWbVvh5z/X7Y0d6SkyvJm6WtHcZ/Kq4RnpWmtxHGA7eBbazPe2Fay9J3BPg1nACuIA 7BTqRiTRU3C0BIL3HIRSN5uI8PCm67U+8+y3JLWZr0bF0nAiKYPzNpr7G//OC19dHIOz7eKxUkFo ALAOcKMCYIdogdEU7eXMA3xL0AGj5Kpj0Xtga62rkPl095HqCibl5S8FUNdkeIqepyUYJYzocZbO q7Qdda/i4kDK7lO6BzSXq4dvnsG1aqOUXBpfXfx9vUgkAGBdYNkAYAd8f//8sOTMHZ+d5i47PVyQ IliDjjyr6ZnBb2nbWscutWEG6H3RGxo87oG6VfF7gbrUIYB8O5QEYr43aPrjvQPLBpgJWDYA2CDZ /Ym+ZPNnWWi0pi/1WjjyLD1N5Zr/1ywAIwfbWorZmv1HsbV0l5/uPmqaFS4N7qw0tRZ5u2zl4Dw9 //Wnz+maB/Q65M9zmUiPuz2k+4zeS9nCcQzQpCAAzAQsGwBMTF50jGdaSkl+ydb430cDhT0L+lnp VJeg9tzUpujlFh7pu9Fsaea29nxIC/bxgaSV1jjH9NBrJZWZEqwcM2NZNej1PIY4DQlYOMAMUMvG 7TUbAgCwoS8Nb+B1FM2/XsIjNDz7jEZy8/KeGy4OIsKj92J5LSyRzrZF3NacFyoGIpYQ7nKl1U9d b85OLg8QHNvjhsh8/O5ogsMzEBpgRuBGBcBGyAMf78A58tKhrkeWG5IVVK2Vuyb0mLTvI9twohaQ JVnC0lEjNOjvnlD3qSwusniQhInUdrrq88fHL9P9t/cOZyeXcE2ZCB4Ybt2DD988Mxd87MWMzz8A MwGxAcAGyMIhkl1FGiB5Fn+LWAEsSwf/eybOr76J8SnRGfeZBhkzxqn0qk+6j7K4oCKDigsuPvLf pVgU+t1M1xf8gyeejG6bRccowTFLPwerBpgViA0ANkLOOMWDwSNpa2tnoq3PpcDykTPYrTx88yxd ff3j+n9valbKjGlspQEWbadkoam9Pq3Xtdd9yNECxjn5Gfr4+OUNFxs6GP1099HRBBZvmZLVkaKl P94LsMCBWUGAOAAbgb5IeosKSkuQ+MwvbsnlqabNnn142s0S0e2lNlFqYin4/rlca+2QaHm0nFH3 Sulc5u81kcHdbqi4pzEceQFNOptMn1HMMvfn/tt7h2jSBu27lNKNBAF7ievAfQdmAalvAdggkrVg xOx6JJC6ZlG/tahJiZuJWj+k9KuefWqRMmDR72qP3RNcXyrXSoW8BtK1yRZDOuCUBp80C9LHx+UV zHPMR2ubwQ9qJga0cngmsr0A6waYEYgNADaC9uLksRajXFRKbWmdTV+K6HkqWTJ6HHNeFbuX9UD6 LFK2NwEA30ZyobMGfLwc7zmwBomSmOCZqGj9kmDIcR2Sn39ecZx/Tgd5n+4+St/fPz98uvtoE88E 2Jc7FQCzATcqADaA5j7QOpCxBII1WORrc2yF2V29euFZ76P3IJjfEy2ZylqvE19ng7uD0b95alRJ fFDXKl6ulFr18+9/3fr+/vmNBTfh3tJO1EpkrX+Tkixa9+BOhXsNzADcqADYGNLLY/SMqTTLPELw LMkxCI2UYtl66D5edyst0LyUrCBy/qU25raXVoXmlg3Nzezhm2eiSxX9ndFcpiShkVJKv/z25628 38i0q8eCV2hILo9e18eUcL0AGAHEBgAbodbfXVs/Q5t99ryYt2jVOFbyAL3FimXFhGhlSf9775vS 9zUxMbTsUvlccOTBJ18ckJbz+fe/bmFGeX0iAeT8Hnp6/qu6LkeNAGmJlwJgT0BsALAhvNYGvg/d VxpYWjOA/IUpiRYwLzQNrgfNoqCVXao7avni4qiUvrcHfCCZ65EGmHmAWhJO99/eO/Cgc1BPazC3 1W9S0fHwzbOfkgVI+0TrRD8JjhmIDQAmhWcVkWZNawdz2md8ULeVoO8tseT5tAKuucXBSkBgDZRa guet7/l3S5w3LmbyIPTBl3dF16wcOM6f24dvnl27VIF6vKItu9l5kSxk0j2dV5aPiAYIDAB+ALEB wKQ8fPPshuCIpjSkgsHrh0/FBbeE5M/AttCsUDXXMmJZGBGAvjTZ1Sbi9vXwzbN0dnJ5oOcqC5Gh jd053usvxeFE9m+pl/+9VqpnpL8FswGxAcCkvP7w5IYPeP6bftb7BUaFhndgCQESY63ZzhYrlScV rrfsGhc8731Ye3xRV6faeiTLB5gTzV004hplxUKNBvcZmInbazcAAOCnFIAaySRUclPRXAb4bB1c BbZDND2ttX8mEuNRoiXNMo3x6HVPRlzEInXef3vvgGDyubDSRWsxbZrlAhMwANwElg0AVkCb4bz/ 9p4682l9l1LZB5+KjB5Zh/g2eMHOR00a28j2NYHjmlixhMYW/ORpMHspWxd3kQTro/Wf/LpG+rsW axsAewKL+gGwEHlhPvry4bObeQAizXpGhAb/TEISI97BY8usLpiDyPWn2/D9qYgdmVCgJRNQzf4l chCy5oIVjW2BpcPGG/OSr8vT81+bUnR7noXZhQTuKbAmdFE/iA0ABsNXEpagLwXNxSIyExoZ6JRc pXh5SOe4HyTBUGJNP3TtfqNCRxPGvN0tA9C8L816VLvuB+f1hyd4FzNqgustMd2a5GDNZyACxAZY E4gNABak1l1Cs3pYWC/UiDuK5YIllQ3G8eri724DWQvr/qgRJRal2BEuHFrvu1bBwa02fD/pGmnC h6/d8eDLO7EdEB3/EBUbpdif/H+kPHrdtrR2CgQHWAsqNhCzAcACaGtkaC+CFh91LYuUx4+eBtha MSCzz+hprDmA8/jz8+1T6jdjXmJ0xifNOlaTxaqmbu7uRQPKI3VL7fCmWtVWoZbagJiOej7dfXR9 riUr1Ke7j8TnUVufI6fTpauL559IOmgAjhVYNgBoIJpVJjqA4O5V0jY1QbQWLbEcQGamGJeae2V0 PAan5p7mlhLLPXDk+bdcuT7dffSTMKGxH3w/WDfiVg2Pa5tkYZKQrFX5GkqxIRprxHfAogHWBpYN ABqh2aS8C+/VzFTmDFSlfVsHT3yWL8/W0ZSP/G8IDT/0nK193kquUtrnNS4orW5PEQuI59y2+up7 8GTrksiz7ZQ1rRu5j8sxZ1vh6fmvpsiQrBfa9nzbbOHIZEuHdV+1uG/Vcn71bXgdAETAOhsAVKAN ItaYTbKCY0v7cHoN1sB2kAb0tde5JqajNOtba7WrtYz0hlo1UrqZLYn+TimlTxcppRsz88/Sw5N0 WMLCwYXNx/Sj3Q++vLvx3awz5jRuRhIUry7+Tg++/PibWzX49tRyofH0/Nf0MN0UKVxo0gma/BkA xwjcqACoIPLyPTu5PEjBrqOJzGBDRBwnlntczX0qBVH3vt+9sSXRbXkdvVyuuNigUKGhDW7z7PnI QX7EgrK02Ghxo+JkEeERE3w/Cc1lzhMfV0vk2ZxVGILjgLpRwbIBQIDIS/n7++eHX3778xafOdZe FpL7hfWZNUjyDJB4O3rGfYBtIgVCW1mjtH2173sID8992hpM3tpOqY08g9Gnu49uWDm0AfCnu49u WBd6DyCtPu3z73/dWtOq0So0qEj4+PjlD8uRsJ2nXC0DVSmT2gi8Qh4r1YNZgNgAoBGrQ8+Cg1o3 otlvtM+lGTUrMFZzm5JEDETHfpGErDU7q8NcWqAAACAASURBVGVtsgKwtXqXFBye/ayBYq+4DQ06 eM2D4J8Gx8Qacl3m25eLDiC3Oljl1ogs2jyB4ZxIqlsabySJgp7B4p6yIDjADCBAHAAn0Vm2X377 89Yvv/15o5OnLhXRl15LcGspdWdNPWCb0LSv+f8eSEGw0melYFrvZ7UDNh58TgPLlw7k5dAZ94dv nqUHX95dD5Bpe3sGjmvHufYAtWYhP+6WRn9S0lMPW7SsqSGJ9J5uhYgBAVsBYgMAJ1bHXsoYVQrw XDKQVRpsAZCSvY6GZkmjFjWPRS7/73X1o9tzoVRzLJrwrkmY4CGvxWCRRUUeLNO28/Ui8t80I14L /BytLTJakQLvW9aqsQRKTXa51vuspv/3ZDQEYCQIEAegQDZD339771Aa6HiDxTPSAE763IvXvQSu UseJFH8h3dM1gdWlWKJSWSU/dMv9iW5jHQt1kZLWvPAQXdG9FOfCv8/uPhba+aSTGmcnl64sVjNm mqqxakjQNUyiVo21VgmPuNpqboAWs1xjsH+wzgYATvKLOOeabx2kv/7w5Bbt7K2Z5Bq8bYPQ2DeS 64aW4rY2c1PNrK7UJv5MSe5WHqHB2yW1j/6/1mAyt8PrzqjFxkjn4ezk8pB/6P9aHXkiJf/EjmIM Untr+kge1B293h5XV49rYBTvsUrbwa0KzArEBgAF+AtH69Br/IH5oCOX0VuEgOPEex/RwGht4GQl GYjGYZQEDnefyvvw/WoECT3OmmesxhpindMSXrc2i14uV6P5aa0PQSB7eXr+63Xci4RXfNT0617o /b3UBND/+V///cY53sJ9AbYP3KgAMLj/9t4hv2yklxPPcMIDwq1yU/p5gMTrggUC1OBxS6JEfcZL g2ePa5YkOGoCtKlrVK8kCj0oZbXqlakol/PqxmKAZUH08fHL6VxqLCtM1AJHzwt3o/K6VVmChF6/ loQFknVx6Ymm2e4DsA+oGxXEBgACND7j4Ztn137akn91pmbxLfpypYMFiA0QxSMCNHrdZ6X4BG0b KYZk5L2/RHKEGtEQ2Ye23bPatcQSK5N78cZpRO8Nq88u4bF+1AqEXsKiRehkIDbACBCzAYCC5G6Q X+RSh34jV/6/ss5oL02eEUTaLi/uBUAEnmGM09unPDooLg2sNKGhpQ6ln/P/vW3idfeeTS5luuKM ns2WBIkV01GK9+hJpJ7Wezln/so/FjxuoxQ/E41j6n3Nz6++XbeD/m8BoQGWAJYNAP5FFgIlc7v0 guIvmFcXf//kUsWzvnhcBqSyAaDwQFg+sB/hHmSVK7kFRdyq6H58W63uXs/LCIvKCBHBXXhS0q0b 2srkfFKDZ7Kin3szW9VSEhs1rnJ8fwmPlYMvtKhRY5nqbdXI4uLiVF+vmW8DsQFGAcsGAAwuNOis F/394Mu7G7NXeeaLv8xLM2aelzcNYkXAONDIgbB8VrU1W5RE9B6ssTZ4Zo+lfS3xI1lHrDb0ZEQQ cKQ/KLlYvf7w5JYkNHL5S1k3LEYFUddmJLOSHnj37yFsa94JWWRk0YEAcbAEsGwAkP6J0eCzxBal GcWUbgaMU0FTm6cfVg6wNloQuCcblCdIXNu/1WKhleG1vPSk58RB7rc8UCtH7oNKkx6jrRq5jtp9 vYP2klVC6/vzBBRdcDFqqcvft8RVaZxffUtXX/9Ip3depIvT226LyfnVN1g3wFBg2QCA4Fmsz8Ib Z1Hq0JcK4gWgBX4fegJdedwGn5nXZuoli03kOZXqkeqwYkl6CYNRFkqv0OAD6VcXf6dXF38XB/pr BpF7zlWPfvHj45ehFLmldkVERclqV+Li9Hb6+PjltXDIZZ1ffbv+0fYDYClg2QBHz9nJ5SFi0aBI LweeVYqKjBlcEgDogZau0xowLTV4tOpcU7T3SI8qwVNw02x2dBVtyQry9PzX1bNSaf1ib6tub4tS S/nWc9OrnZ4YjgysG6A3sGwA8C/uv713yB07Dxa0ggdL/vCStYO/UL0zkgDMSsmViv/QbXq7k1ht pL9LVgxvdqqR8Ssp/WzVsfqbLC6env96Y9KE9zG5DXxiZUa//ZGB9T3imVqtVNr+I47bsnAAsASw bICj5uzk8lDTuUdfVDmjS/4fcRhgy3hiKiI+6x7/91HPScn9q6Ycz7mordvKrCRlJeNWW7odjx/L ZS89y12ybJTOhTcWiEItPq30yCw1Ci4yuJUDsRtgFFjUD4B/UVoh3AsNMJTS4HIrB38xRYPGAeiF JQBqgr55GZ7tarfvRUTM8AB5KQ0t385TXsYbSOwRLCn97GKVkYLFJdYIDueroXsH8qVrYmHd3173 vxkFhzcd7sXpbYgN0BW4UQHwL+iLiC/gFEV6YUuuUtoLKQdsArA0XtciTmkgFxUM1M1lVEC1Va93 W0tU0P/pALQUqJ738SSK8LZXExop3eybrH5nRJxZXjCwJDRSiicEyL97Wqy1dMuzQ60WcKMCawLL Bjhqvr9/Lr5IqZuBZfEozaB5Z4czsHCAJaFpPC3XJY/b1Ii29a6Ll9mSBYiW1ystb015JSH48fHL 8OJ1nvpqZ8E94qU2YYdGq3VDKm9pK0ZLnVR08M8zsGyA3sCyAcC/oIv3UT7dfZQevnnmEhoZKaWh libUAtYNsCSegGgarJx/tnKfWgHs/LMoLYHGUn/Ruw2vLv4eIgofvnkWDirXLBmcEfdVNEuU9JO/ 60W0rBZxowkN+vn51bcpEwWAfQDLBjh6+OrhmewrTK0bpSBXr3+2NOihsSOwcIAlmD1RQa/A8JEB 5q30sBpJcR80HsMzgK/tb6yYjogLFr1GvS0bGU/igZr4kBqLSCnWZwloPAfiNkBvECAOAEETG5zW wb/nJcKFDQCgjR6uUiOfxZ4uanzAXoOU5CJSby3SpEsvoskJPOX12L7WhXEEEBugN3CjAiCI9uKL BCJaL7wcnM5z5G/FVQVsj9Z7q8f+uYyZ7/PRor/G1TIlue/h+y5lHe1xjh6+eTZEaKRUDs7vMaC3 gsutBAzS/7Ss0fcfXYMDQgOMApYNcPTQ9LcW0os7Mmtqmdyz2xSf3dPqBWANeErSHuX0KG8kUurq tZBSZktra3AiYi56rD3PT8+1LzRKKYVH1TdjWtxMFhv/83//P4wDQTdg2QDASQ4gzy/T0kxihDyT 9/DNs+vy6exeSvMOwMBx0vN+fHr+642fHoxIlTvLM8hT6tJ+I38uURIatIxaodFimcoWLlpGSwry ElJKZd7+ntaE2rTRvfbxcHF621yHA4BWIDYASDezUuW/s+9yyaQdWbSL++daL/ceMSItA6+ZZ+JA jJ5uSj0G36MG8C3ZoWZHO7bWY665N6TFAFvvsaVFndUP947TyeXVuszRclrJblPZmkH/BmAUEBsA EKjAqM1SwtFcp/hn9AXe48Xb+rLc66Dt2NAGgS2Dw5oZcDAezT1N+pG285T58fHLn7aVButeqOWY uk+NtG6kVJ6MGelWld8JI2NFPPDVxZH6FowCMRvg6Pn+/vnhl9/+vJU72og7Qq0oyKkdMaAHAKzJ qJiLSKC7tADhyLgNihXAXbuQXmkxzMjnpTq0ejQ0KwYyUYHeIGYDAMIvv/15K6UfmTh4Z/vx8Usz K1RNxqj8ct9C4CDYJ70tDbBcbJOS0IhcV2qZ/XT3kXtfOmim1gzt795ILk69JoEktynPYq+8Ldq6 Tvkn0l4pNgPxGmA0EBsAEKgZmc6yWdTMClKR4hEdECSgB6PSzc4SRA185Pugp0WDB5qXyvbcfzkl eP67J3QQz12aRva33IIhuVTxv0vtqWlvFhgQGmAJ4EYFwL+4//beIXf8kRfbiIEWfXnPlHoTbA9r UIf76njgmaNG9Vut7qElEdJ7sb8alya+eri0MnimZnVx+hkvx9u2KJ9//+valRjuVKAHcKMCgHB2 cnk4O7lUhcaol7JFSzpKAChSMG/PdLNgfrg1q+e1b00b6x0Y53uWJvDw1GVt0yIQ8j78d6R+T52l tZxGxP0hUBz0BpYNcPScnVweaEdvWTV6zgzCYgGWpNeCfGBbaBMbs94DLe3lA3PNauHdtrQPrVeL x+BlW4Hd2r58H63NUasGz0bFgYUDtADLBgDpRxaq+2/vHbI1g/oHS+SXHXVvqmGkGwMAHBqnAYvG PxxDUHtJYG7pHHiScZREAY2PqF1Ur7TWkke0eJDiNni7eXui7lNYzA8sBSwb4CjJZuLa2AzMEgMA tsKW4nY8q5JbbfbENkiWASnuwmt50MrX2qXtJ+3LY0J4GbUxGl5g3QC1wLIBjpb7b+8dvr9/fihZ MSwgNAAAW6bnyt9aOTVpwVP60bbS4JmWS2f9IxmlvClovdYI70Kw0cX8JDFRiuMAYDYgNsBR8P39 88P398+7B71FX6hbclsAAOwPbjXoMWHCA9Bp+TV9nmciiKYOL4kGWuanu49MN6rabFJ0WyooIuJC qptbNDSrTJTzq2/XPwCMBmIDHBWlTrl2gSvvCxWWEADA0oywZEh1aP3biDp5XaW+PafMlVLnRrNa Ra0Tkbq87lWt0HgNCA4wGogNsHvOTi6vLRqll17L9zUWDlg6APgBnoWxjJ7o4NYSKj6idXu2z1bl Vxd/i4N/bXD+6e6j6oG7J6bDIyZKQeYeqHtVS8yGFCAO8QF6A7EBjgLr5dVzTQtYOMAx0kMo4JkY i3SNep1zKUNfFgGcEcHM1O3Ka+Hwbp8puUVFB/6lGA9PVque1o6SWxXW3gAtIBsVOAp4vIaVvraU CcUCAyZwjPReMwZr0IylV8wGn+mn163XiuWeBVDpNp4Vxj/dfeQWHa1rWVhoYsNakdzTxiiawLg4 vX2djQqri4MoyEYFjoK8Mjh1o+J+xZEXoLZtrasAAHuBxwTUZiKiwK1qHL36KmkgnK99j37Rcw/w bXimQSvYXAvIlrJb9aAkHLK1o2ThiGTdKqEt7EeFBuX+23sHWDlAFKzmAo4e6WWoWTdKAeQQHOBY 6SEOkFZ6OR58eScOxLl1IqNdD2vl7KXJx5StFprQuN6uwmrRW4Bwa4YmOPhifr3a4V3U7/Pvf92i IuP+23sHWDmAF1g2wO7RXp7W9in9/HKdYaZ1hjYAEL0Pvc8drITL8fDNsxv9IrVGcctU6XpoFg7v /r3xrqOUt+ED+R54FgC0rBYtKXhb0QTI59//upUFBoQGiACxAXYJdZ3KZBcqHsTIf/LneR8JaR/6 3SgwCAMzoFkDI9unJA9IcY8vC++vuJtpjatpZHKnJ5bAyAIkb/Pgy7trC8iIgXxLmVRw8JS7Jbzr h0hErByuDQH4FwgQB7tEEhuc6IuQ+6VHXA0A2DolN0EpOBjMT8/+i1/30cHhLVjrbSxpRZDqp7S0 pdU6AlEBWkCAONg1WWhYa1lEUtRKs3vS7J83NzwAS9IjWJuXJ8EzD+Fe3wZR60WpLK91eAZmiDOJ 4F180LJueNYCySAQHPQCYgPsEkloeLLkWHEaS60lgEEa6EXPe8nr5oT7d5uUXN082ZlmWqzUSoGr uU+NyEDlpSQQStuVKK0TogHBAXoAsQGOgmzepwMmySLhWUG8xVLiAbPCc7Lla7Lk7DJiL/ZFvo4P 3zwrBl1rFuA1nh1PgPhW8AoFK5Wvto0HCA7QCsQG2BV8TY38m7/0tLS2lruURe+BFQZq84FrUgbn aN94FsyjLOFKlduUA76lNtLPoscwGsutKWqF8KTtrbXcaOtr5M8hSIAF1tkAu4EHhVvrZFgZWDhb 8D0G49nafSAF645se6R8BJBvjx/3/6OUnAHlS1xfvq5GSjctGnS9jdlERkq+Rf6i4kBbq6NXHVhf A9QAywbYFVZ++FIu+aXT2IJt4Qmkne1+off06MFftPxR56p3QDz4gXT/W8kCetVpkYUF/82/l75b Gi4sei7Mx9HW6rC2pZT2Ozu5PNx/e+9wdnJ54OtuwMIBJCA2wC7Q1tWQ/uexGqWAcczAAi+4V3zg uZofyeXGI+LWcinVxMQMgsMSFh7XpkgGqVK5Vjm0Ho/VJSVfmnkAsM4G2Dya+1TNS09yr1rSfWZr rjpgDnqvb7A0EbfG0e3YyjnrRXa7yb/5Zyn9M7DM1ym7Ly11rnpYqmZ1o1or+5WGZxFBvh4J/x9u ViAlrLMBdsT398+7CY0Mt3xIK4+PAjO+22dpF549uf613v+e9NaeMo6RPPDlmYvo4PPp+a/XQmM2 PKlul2x3rQvTCCQXLv6/ZwFAa9FD+pnlSgU3q+MEAeJgs3x///ygpa2NBqvy/6PpcHtYUVLazkw0 0Bl9DbXV67X7dDYrB29P6+Ceng9PTE1pPYljgQYSR3j45ll6muY5X0/Pf00fH780hUQOEF/SuuEN zvZu6ynLW460voj1f83nWVR8/v2vWxAYAG5UYJNYQiMl/8DKOxArvViz5aNW4JTKBoBiDdhnvl9G BxRb9WnP6NJt2hNLuZ1x9y1KxOqcxcYs7ku9xAZ3fao5Pr5PxJ3K2oZvl3n94QnGnDuHulHBsgE2 x9nJ5eHp+T//tw60Wmc6pVnVyKCm1JbZZqbB+kj32siZZnoPapYVqW0j2iE9V546rfN0zAtpRjIX RRghRDTrhce6kfeXrBs9LQzeenucb6mM1hXGtTI11ylr5XOJ0zsv0sXp7XT/MVLoHhMQG2AzSFkv 1hqIe9bliA5etDLzQOgYg1dn5phEIB+M53tRGqRb4r9WKGj7a59J7bYExbEKjZTk2WnvgHWpe790 7XI7eGyG5TbVW1xZ1LhvSZaGUcKQogmIiLXk/OpbSnde9G4a2DAIEAebgAqNnplrahel6jlo8QTF 9vJvB31ZW2jweIVR90nPuKSabVr2QdIFnRwQTgexNSlWJZa2FtF2l+IzWlbS7gU/9xSaHYyno/Ve H76vd5/ctpGcX31LKSFY/JhAzAaYHi2P9xJpamviMCIv2Ug7YdkAlKUsKx43RetZtPYdHWtS6844 qj0zMmK2fERfZbm/0boiA+WlBtc1aPEQPa9TJIjd2p6Ko7xNFhQaF6c/HGvgSrVfELMBpkdbOyOl emtEFOoOFRUFI+ADuGMZDAGdJe6BSPIEuq1mZaEiqbZsDy0pgY/t2ZIGsLUiZKn+r0dd2joRI2lN Mdu7La3B3/x7SWRcff0jnRbcqmj2KnNDsEngRgWm4uzk8kDXzpBy5vPP6KCmNce+VadnOw3Jd701 mB0uVcfLTFYuvi6N9n3NQFEqu4domOXczYA24KxxqRpNybJWMziXBvajYyKsAb4WL7H0tbDcvKx9 rr7+4f4cHA9wowKrwxfmiwaRllJX9kxJW+sTb2XBqaFn3AoAFj2ETc/0sq3t8T7jvVlTIFpZg3oP ske795X60VrBYZ2H3haGiMDhdS/tRlXDwzfPblgyrr7+oVrKPj5+eWMtDlg29gPcqMDqZDcpj5uE N3i6hVorwRopM3vVN9PsONgnNXFMJVrv2bWsg2s8axH3l1nw9EvW/VTjglRaEbs3tYvv9RAaPdb0 8JShuU5JK9Q/PEmHj2m+exH0A5YNsAh8Eb4R1Mz2l9YMkMqKrJcxchZVm0GMWIIgNvbD7OJxBmtc 7Vo3W6Y0YF3KfchLrSVa2qeHW9VSCwDSekuCSbuG1vXT0uiOIBLvUbIiPXzzDAsAbhRq2YDYACo0 SNv7sN9/e+8gdXhLmNa1AOrIol8WNQJi1OCmV9D63gZWYH56iiJLcOfPeZ9QmmA4tmdiibUbRmPd U9EVtfmgf2nR4a2r1tVrieBzaU2Q0grj9HxrCQu4i9X9t1gYcGbgRgXCSOlnqQDJ/pbaC2sJ/93R LhHWQmYlF7DePus1jEgNDMDaeNwvcb/reEWGFfexNlLMBl2bgv6OZF9a8pitlbhLgrDVZaw3tI7T Oy/S1dc/TGsHPd/5Nz/u7G7FJz4hOLYBslGBnzg7uTxoa1tI252dXB5yZ7B0/II1oIgMrD0uVN6Y kshsaSnTVi+RskZsCQAcmk56ZB1c5Jcyx/GsV3hWfsbjojPDYnmlzE15dfFPdx+ZC99RcdLruCxB IX1WEhqedtUs7NdTYOX1NKJQoXd650Uxda7E/bf3Dlg4cA7gRgVu4BEZKf38Qp9p5rBmETKNGlel aJ2a21VLpirLlWumawVAC9Iz5429krbFs1FHqwVgpjgyy23Kmp1vcU8anYnKI0gkUdNbYPVKTZwt GVRISNYNZLhaF+pGBcsGuCYiNPjfS8wEamtdcLglomRp0NYIiFoDSmtn8NlTzSWrlbVf1gBo9FoL J1OzBofVhp5t2yNrWy2WpCQ0rIUQl2pTaZuf3JBIm/lnliWnRUjy8ixrEoVuk60a+TNqscjbWBYM WDfWB2IDpJT8QiOln1/wtQvURfEIAs9gQXJV0gYe0awoVv3a7N3oWAppYTQA1mD0fVgS+61lUCBK +jNrH8UHxqUV1yOuSNZ2Vj1S3IPkzqYJFC1uwrNtDdI5kQSQBI354OeZwkUFLBrzgABx0MTaLwfL skIDumuI7CdZU/j+3oHQiHPKxdXa1w3sH+s+W2pyoiTiJcsino84rT7+s53vT3cfpQdf3qWU7AE/ xZsdqhQorVlQaNA0FxJewaJZKyRLzZJWLG+mL882mhUDLlXrgpiNIyJivdgCLWllvfvuZeCB1Ldg Jkakv6VwF0rJ1arkfoVn47h4dfH3tcDIQeTW2h2ewXlEhElCQyrPqiea/taqqzeROj0xJNzFigei S3Ed/DswFqyzsXOyqNhD/nQPtaJDW5ND257vt8RgRBqUtdQfCZ4FYBS9xIbmmuhJ1iA9V3uaYBjB zOlve9DyzpTW86gth1Ka9fdaBda0XEjt8AatS+c0f84zVEmCAxaN9YDYWJnv758ffvntz+7nOxrg vfUXajR4O+/TK4vWEudRyizV2uZSUPrW7wuwDWrv5drMRVJKXNzr6zOTuOslNjz7W9v1EgK1i+uN Roq/4G3ztuX86tv131KaXYiM9YDYMDg7ufxp0ZieZafkX427pmyLmdPVRikNlrXj6yUwcj1bBq5V YE223geBn9m75cNDVHRoZfTEM3AfLTQ0gUGRrEIRq420LXengvhYDqS+3RmRWIyaGb2l0tp601am pGemGj140Rb+2nLKTJqtCov/gVHwZA4zCg3r3u+dtnfr9BqY7ul89koXy9PRtmAtGBhZZLAVnv7W s33tthAU8wHLxmCoy1RvywbPM60huc7M8qL3uPWkpK95UXNcIyw8W5il3UIbwTZY2gWqFq+w0Rb3 K/VPeJ5uAsvGz7Sek54uVZ6yWxYn7N2WaJmnd16k//m//59rwT8wHrhRDSaLivyiev3hyS1qfZDE Ro0Q4RaN0ot8RrGRaZndGr1OBQCgH/xZXVsEY8VxMIpWlyopQLqVaKB4b/HBU/nyvyN10XNzfvUt XZzehrCYCLhRCfRMC/v6w5Nbrz88ufXLb3/esoTG2cnlIf+k5HvAzk4uD9/fPz/QMiXTvvX/jC9I aZ0J7zoVezLD98SzuCEAFiPuEe6u17M/6t1eiAs/x7S6eAnu1lNr2ejpTpWhK3qXgsVb283/pvXz 7T3rklh1SMHhnGztwIriywPLRlo/cJvD21ET/F2i9qW5tAWB1jfyuPbK2rPGAGRq0tGObk/JcpGS bN2QklDgWQMjWUPM1Vgb8n7ccuGpg+Ox7EiB56Wx3P239w6wgIwHblQEbiHomZJ2zUX0RqU2XfOF WloXY3brzR7AgAqMYvREhiYOrLiMka5ecP3cJj1iMFotFaOFx8g1OSwB06PeXMaorKLAD9yo/sUo oUFdo9Ygvxil7EytL7Y1X4xSJij6mXbMoB84t6AXPJvb6LqkvpBnyNIYfd/DpXE7tAqFXulweTkj A/NHlV0qt5Q1q4X7b+8dNHcquFn156jFRg/OTi6vb9i1RUZK5Rm4PbzUZrCsAHBs9L7/pTitUW3Q yve0gcfEjY4LAYDjmeHPFpNRg3MPvVPp8lTCnnJO77xIp3demGIipR8ZqjRXKrhY9QduVCeXhxar xtriwsMxuBfBvQeA/bFUytlIenBPXEe07h7l1NSLPnN+vIvg0W1a3J68q5pLsRSlWA3vQn4akRXF I6uJY8G/McCNipCzRtXsuwWhkdnrS2WWRbaWboPX/QOANWm9P7nlYZSbZI1lhWfN6211Gc1e3wl7 I2KpKGWY8tTlxSMkSvtH2urd9uL0dro4vX0tOjx8/v2vW1gfZixHb9moYUsiY7ac9qOY8bhmbBM4 Llrvwej+VhIH+lm0DXT/HoHVWkYpqb7S5wCsxYi1L+j/vA7Pmh/R7FHa93mbFmtNXnuDAwvGMsCy UUmOyZhlNr2Gvb4kZzyuGdsEjoulE0KUklL06jd7PVtSOdRikfv6rfb3YL/0zBBFRcZSmbIi1prI 9hQuNHIZCABfHogNJ3RV8C2B7EwAgDXQ+spIHzqqv5VS3UJUgFmhA/hWV6mUfPEfNWX2cEWSji8q OCQXqvOrb+n0zouQexXoB8SGg6yC8SICABw7pUG5lLmJT3p4+1JrQb1WcWC1R4oV4X9vBXqe8A7b JtaK3NK2nkF5KXUuH/RbZXpFQE27eJtKZDFxfvXtxg9YF4gNB/nmxzoOAIBjpmaw2jLQLWWjosKj texS394aCL4WXCyBbUIH/54Us/lvmg43//RwwaKiRmqblIY3b2dZZ6zPadlRrr7+caPtYFkgNgpo vn3otOdla4MBALZID3coz6DHCuCubU8ul8/6SwJEsgygjwFLo1ksLEtGFhbcDYv+9qSplbaxBEPJ alJrfcmfWf1GzkaVfzS2lOhnD0BsKORgcCjg7eERgvDPBiCO59kqbUNn2r39aymQu9bizPfV3Lak 79F/gLXpFSPRox0e9y5er7Qf/0yyZkSOOwuO0zsvrj/Lf1uCA0HkfYHYEMBNBgAAZaT4jGhq2kj8 Rv6pmSzwxpnwOqXtei3iB0ANkkDoxtO4zgAAIABJREFUsSCete+I7Fct5UYFh2XlkEB63L5gnQ0G TGv7BrnyAajDGiRL2Z207bSya9fzKJVdU763fvQhYGay9aDkMkW/076n20mB4zSmQmuLp0zJAqK1 ryb+hK8wDlExjqNbZ+P7++cuAQGhsX8Q5A9AHTxDE6U0mK/NRuVpCy1TKrdWaEhWmy2xxTaDvpQy TPHvtP1Kn3vr4GWVXKM8sSZRuJUDnizLcBRi45ff/iwqV9xw+wYvXgD60erCxIVHS1Ypq64eqXF7 W0WWYottBsshDfZppqhoqttSpiieEasGzSITjRfhYPw3nqMQGxbf3z8/wKKxf/DiBaCdEVZBzxoW USFCt/e6eFllYLICbBlPdiiO1wIiWTKiYkITOJHsW1EXLr72xv239w4QHeM4OrGRs0zln/z5sWWd wssTANATmrlJWxSvlpYyWgWDVDcmL8Cs1AZce4POuQWDx4FEg7619Ti0dkRS7kr1UDyL/UGA9OHo xAYAAAAAAABgGWK5wDaM5ip1rDNUx3rcAIC5aE2VGwk8j2SjQx8J9gLPSsVdlvj3Et7gcP53jdeI FEsSbQvfz5PBSspM5clWla0fyGyls/vUt4jHAACAvkRTz3rLaUl/WxObsfUgcAA4pUG+FHPhTYlb qpOWGdk/Ur6nzFpXMoiFvtDUt7u1bEBkAAD2xB4HxKXjsY6Zi4uScNHS4gKwJzyZmUrZpmg5khhZ O8Z1lnZQYN2wmd6y8f3980N+abz+8KTYRogM0Ass3AVmYZTQ6LEGBaVlYb0aK4eUccojMqL1ALAU HiHQWn5KegYqzc0o0qaeYiDq4tWy0jmEQl82s6hfXozv1cXfXYQGZrFABAxCwDHB08vm/3u5TFkL 8bVmiuJCI1Iu3gtgJkYLDctlKtoGKytUb/epSHnRunNWKmSeGse0YsO76neE2nzr4HjpudgYAGug 3bvW5/w7SYhE+fj4ZXp18feN1JUPvry7sQ393ysUJIHE8bhrAbBX+DoW2sri2oreLSuKt+BZZTyl n0VPjXXo/OobLBsDmVZsRIEiBaOAheMftiC8Zm9fJjqr7x1Y17YjJd+g3KqTrmkhHR8XEw/fPLtR 56e7j8z6NCGBZxSAOiyXp14WihpKa2logon+723/xemP8OXoOBJu+342LzbOTi4P99/eO5RuqC0M ksC8WCsbHxNbGNjN1r7e94inL7OCoS1xQRfma2mfByo8SnVqgoMvHljbptnuGQBGYGWN4ovyRRfn 89R5eudFOr3zIrQP/aw2FiQiOKJAcPiYMkCcu1D98tufatuyErVuppb0igAswQyZhrxtmKGte0Ab NOfz6x2082212AhpW6tMqZ0tcJeplG5aMrTYC96uaKB5Caku6zMAtgofrJfERE+rhiUyrr7+ceP/ 1iB5TZTUrrWR0o+xJtysYtAA8c2LjZRsZdkruHFLQFyNBYNt0MIoa9hWrG9UdHy6++j6f+5ClaEC w+PuFTleZK4Cx0ZpIM6RFv9rhQsPSWxIbYwgBZd7xEZKsuDIYgOiw8/U2agigeHZhUr7/lgHhdkl gWZqkX5APS3nEOf+eOnVJ2luR1JMx2x9YBYVVGhYUPcvr4tXr3S+tD4kGAFbQwqcTklflbsU4+AV KCW4uNDcqzzlR2I7asVLHmfm36WxJ/iZ6cRGhNH5qPcOREcdrS4msw3+cA8sR69rz59d7Z5sGSBL be3R/gdf3t0QHPnH0x7PhInHrUzbT8JbFvpTsAU8YyZuzWiN38hCggoKLjis+muRjqO1TA8QIj8z nRuVZtmQXKlKgeFWxz/bgG8prBc03+ZYz5EX+HODFkYOTHvNwmsDd2/farl0Rt2dSnVyK060/69x oUJfCWZGmpCNrF1Ru85FqR1ZdFx9/ePG31rduf6Se5VnAtojNDQ3qui2x+5uNa0blSY00JH3w+OG wN2vts4Sx7CH8wTWo7drlTcI3JPqNjIRwT/nLp21eLJvcctHqW2R8gHYIhGXKG0b6lpVaxGQ6sri Iv8uZanimbNqVzkvnZOHb56ZccDc1QxWDB91ub4Wgr48Xv9287uzk8tDelPeP4OXyU1G+T3PyIjj QBA+qIEO1vlq1xTLpWfpfo0HZ9PYibX7VescWtDz2HIMeO7B1mixUGTrAv3dgmTh8NRvoVlzIqui U8Hx+sOTausEFSLHbuWYxo3q7OTywNMz0pcBd6P6/v75oealu4eXw1pBn5ov+B7OqRdtkHJM52BW ZgyGptBBe2mWPfq9dF/2FAMetyPvufdaXXoLGe25bcleBfqDWMy5WUJkZGtHrfUi16HFhVjl8v41 H+/rD09ucYsHL4cKCm7xOEaxMaUblfXiykLj7OTykF2teBYTr1l/D/SYkWupl9e99uzmktBz0MM9 5NjZ+71jHZ8nfsr7Pb8vc/m97s+SW1LvZ2BkvF3tJBWe82WA0JgHyV2px/W5+vqHGSCes1NF6uJt pYLFcwx5m/yc5/20IHOJ+2/vqVmqjt3dagqxUUp3m9OM5RfD2cmlGBgu+QtH2PvApxY+E6jNcu45 FaynjT2PYwvnpAc9B3AzuPVwRg7IS/VKwljaJmKRoM957YRDJH0tTTtLf9NtpM+1z7xtleoG4BgZ Kf40q8bF6e0bYkTKTkX3Pb3zIp1ffUvnV9/cdZeOi8eqUKtGr9XVj4nVxcbZyeXBCiLMLwZPasSU br5ArQGw5ie9haDopdvomUlt8eHm+/U+tl5ZeTzbjHRbAftgrUHsKLck/ndPeJs9gd/csiPtL71v asSJ9N0W3iEA9KY0AK8doGuiILtgedPpplQOQve0xSO+YN34mdXFRgveTj0yg7eWi1IE7gawdFtz ndpsqTTzWWLkwAsD9/1zjPFDUXg/2NJvLNHvaBMQkgCxvvf2/VKfVoqdaakPACAjDehLg3xNaND9 SmLEApaMNqYWGzwLSrQDtzr9vb0QlrZ00AELd6/o6VPdi6XOj2d2dGYhu1X29Cx76THgj5ZRGnzT AXj+GfmSjh6/FiRe8z44xnsObJeW51Db17vgn5S2VltfI9KeHPshlUGtGJpQqXUR81o4wD+sLjZa 0oqlNKbDb535W2LWj7pizGaN6SE6Rrp8LA1352jxJd8yez++pYnM2EuTAj3rtRJ8eF1gedIPrW4P littVFjUnOPS52BbHPP1s4QEX4cjwsXp7XRxWr/6Qmk1cCpASsfg2c7zvYdjdaVaXWykZAsOKY1j ZDBb20G0DE6XGthykTFDgKzlQjWLW9WMSP7le2PvxzeK2oFOzwGSFWDeUu+DL++ufzxoooa3pael FRw3klV67fdsDR5BwC0QI+qw6hyxb0mUlPaB+1QfpllnI6V/slJJg+b82ehARLyY4lgd71bPJ+4H sBb83tPuRd4flvpHy/rA6ylta5WrodX34Ms7t/VDax8tn7vfSnVzap537bhL1w1sl1cXf1/fr3u/ rr1T3pasC3ztDfq7VIaWytZaBNCyaEgrpvPta1dVP6b1NqZcZyMlfaZMsmos4WZTmp3v4S+9Z/hA aEvsLaYHbIdS9jdJjFChofVbHtenmkkdrb1afTmOI2LR4HVZ7ePWDs2dytteTklkWGWC+YhaALfs q1/jJhRxk+phDeEZozwZpKTYkVKb6fZ0Wy4ivClyt3xfLMFUYiPjefBHduLWjBT3vd+CL+dSMSRW XIL3Rd6T2a8LABnpGdUCrvP/GU/MliYitL4hYhXg9Vj9QJ4ZplhWDS5IWtw0aX/tmbSykot49pGu J5gT7z2e78W9ikhttr63KxEdoNNg7/xbW1m8ZkBv7UMtKpKlg7aPC5pWl7NjYyqxIcVueGayekBf xN6MK63t8u47IqCzJyVhwVnqpbuGwFmyHrBv6My89CPBxQkvT6O1T7PiNzhZXHy6+8g1eMguK5Ko op+XRIDleuVpdwtb9vVfk9HnK3pdIu5+W6K0PobljuQtwwtfOyN/1gK1PFChw9206PYp1cV5AJmp YjZS+rHIH/W5tdwH1kJyWRhtadH8kdc+Fy20DHB6H/8xBGiDMcz4LFr381JJM2g93rgMj5VG297T Ps+10vqlHhZ39DMxlojTzJTuiUh81JbpHavhLTOLGi4srr7+cSNGQiqvVLaFJjhqxUNJmCFmYwK+ v39+aJ0BWnrmaCm/XC14cwtuXBrabGV0315s9TyCdVnLgmbhERolK0lPvDPCPP5Eo7bdnv2kfqnX Nd2K6+0s8LikEWVnPC6F0v97QhokR92FareRRAIVASXrRk3cxMfHL8X0u5I4opYRqw2eWI9jTH87 ldjw4vW59exfgzRArumQlpphnJ2ZAsnXrh9sk5mfSR6nwD+XqAmy5mVzIsHgtf16T7iLVsRykv+W 3hHWABpCRGbJYHt+zY490L8265JVnjX7T2M3skvVwzfPfvqfu0VF8YgoXjavh7pkSe3h+x+TVYMz jRvV2cnltdIrmbH57H6kI+gVb9ETy11sRheN0axhsi4NuvZsNgfrM/r+8gRCW31j6fnw1BdNcVtC m6TQguF7UeNOFQlER1+zHKXrMqsr9yikGX1vViZPuTUuTimlnwLGa1Ydt9qVUkrnV9/UNLuRdlsu Xw/fPLuOTc7WjT0LEOpGVb984yA8QsPaR9uGfmd1MK0dfclXWvrOCrDea6dWgp6rtQZh9PtjvQ5g PJqVtsc95+nPWu5xabaekq0Zn+4+ahIa2sTLiHMWaYsGrBNz4nXRk/7O/x/TtZWyUvXOCGVBrRkj oFYb74rjHrTz9PHxy5Q+NBW9WaZxo/KsIp7/ljqMiCuO5qvZIjS4NUIyh/PvjqnTirB0HIynXlwv MAotdqLXPed1lbLcrTx1aEIj/02PszbeovTZbM9or+ME9UTvidIzcGzXh7sC1Q7Evatx020sa8Yo AVJqk/Q/xet29vn3v27t2arBmcaNKqV/MlFlamcRor61vdyV9jQLvvSxUKG3lBtB9N7aw3U9Vta4 p1rry23u9SzS8lqsAz3i3TzlRPvxyH4t8L6qhHQNS/0dXKnqKLkCaudfYmlX3iXwWCaszFFRywZf aVvbVwsYH+1GJbVTapNntXGpTIljEhjUjWo6sZH/5i9aiqejl/bVZsF6dSJ7mv1ojZsoub1ZZa0Z o6Gx9et57Mw8WFjjfve4o/LtelsNvGVH4kKs7UfQSzDNem9uCeset+4Vr9jgn+2V2lgFrSxppr80 eOeDf0to9IgpkSiJLu07aRsa+3KsYmMaNyoON/Hzz70vPt5h9HBh4m5dkfZshVEWHs/5oi4dvaHu ch63DO0zAHohDWpq731pP+9gtuRGyLdb0t2RnpeZXBo9ViDpfUH/Rv/SB8s92rN9pOy9U5vhicJX 3i6Vp1kW8joY+Sd/tqQbFW1PSjezUPHv6Db59yhBtCWmFRsUbvL0+hBz83WPgGOvy8EsL8Oe8Je+ to11fnsOrGrRAgAhNPbLrNdREwfad9K2kksoH2hJlsrIc+d9piNE22ANGkdaYErUunuB/njvxVr3 xL1cR83FhwsEb5yFt86SlYOnjM2CQhMXPA1ua/sonnU1SudGKoN68KT0IyvVMay7MY3YyAv6eX1g o8GCtGOxgr/y/xEXLWvgPdtMXA+okJMGO9o+dFsalJq/p9vR/Xq1udYaNoo93ROgjtZBvGTpjQy4 OFpfGHkmo+Kj9TmYoX+VLPCld9SsAvhYONbzHxUPPWfjtUUDI3VwS0eNGCotKsjFjccq4xFm/Hsq MrLo2KvwmCJm4/v75zdOriUaSkgBkLQMb1CY5b8szRJG2kf3m6nDs9rjEV9anEzN+enpYsAtY9Yx eq4/ACPx3qPW/hxvv9aD2a0MlJo+WNvH897xlp9Bn3OTyPWSLH75b2tbus9WaXXbqU1xq7Ujoy3m Z8U8nF99u/7s4vT2T9vSIHJvu7XzQz8/vfPienVxq338mGpWMefsJa5jqgBxLjRS0geo3peiJVas F6EWEKZ1UqUBuKetVrtbibzoStt6xVlUXGjl1dIiUqhgapkxBttiJt95rU/qLb41tAkDaz/rmZcm fzz995p9SInotfAOkKXzNMM9uSeka9fbUrcmXpFR2q6X2JDqszJUZasF3cdqZ94npbLYKImcvK8k IjSxQY/Hm6Wq1KaUIDa6owmNlOxZCa+rFUcaOHqFCK07IiRqZvaXHvyUBtRLzE4u3aHXWHG29NIB ZUYKSc2SatVTml2NtFfqP2ue7ZKFZTbXRK3OFqw+v2VSQ/q8tsxjxNNP11oCtfK0/T2W89FErRlL Cg5PZqeS9cAiixRzMT2lfroNFQ3ZokJdtaz0uBLRtLgZiI3OWO5TnpdjydIQnXkqiRGtnS30mGHh M/KRmTSrXG+7tLZGROEss3gekQn6ssdBluVWqG3LP5P2aZkYiPQJEawJopoJmh71089bGTH5EO1P Si5Ae3p2RlBj0aCUxiYzXIMacdBjoO9tU0t51HohfVdad0NLQ2uRxUZ2paL7a2VzaoPL9yg2VgsQ l6waFO3BfXqup1zUXtj0d/4pIb3Uc738u9pOplfnRNtU8zL3iJxoW3Pna12rnlacHoMYqy1rv0j2 Cr1uS814L0FUoEr9kvTsWM9U6fxJdWh1Ws+81M/SZ4f2l/R36fisfsLb51v11VBjAfWgTcZo10c6 Js/+eyPyDqfw+6dWaEj/z0SvzFEp+VfCjpTnERo0AxX9nf+2Ut56MmhR0SO1J392cXo7XX39w5Xm 1kPPzF5bZDXLhseqUevmEHWz0ly2tHbV1mm1wSqn9tg9A57ogIi3q7a9I11YItRY0MBNWgWjNSO9 JatHy+xm6/1WM/gq1c+Pp1cdNeXzwXZ0vxpqXMRa8F6D0ZacmRllZbLwvs/WPP+1VgOPK1VNubwM yRrgdY2ivzVKcR4l64N0nN7PIuXT/0sWlj1YN1Z3ozo7uTyMGsxFfIk1U+iIAbhUn1We52VaI3x6 DQhr2nNML8NjONZMr0E2xXLDiT6blpjs3fe0lBndv1YMeCdyIn2pVY4Hz4DP0z9rA/DofeO1jtRe q5btRgy4t0LLZJz2fJXOZ+l+2+p5j6yC3VtseLfLAiNnoeKCg4oQS3DUpPv1ZKyyjoW3gX5XWgxw L6uNr+pGxRc0Kc26j3AL0urlZn9eVvSl6+3U+L5es23NS4ef01o3Fu7eELVm7BXvuQA60vOX79vo uR0lNLRBT0uZ0f3zwNvbT0b6Fu077Xn3Pv8tfXpJWFkTNUs/k9Kxlo6d3+v8J0OP5dj6GnrvRZ6X qNDg+2j328znv+S2w92IvClpPWW3bE8FRRYQWjusWI5cr7W/Rd5Hs6jQ4ym5dkl/a+3KYmTrQoMz zaJ+AAAAAAAAgH2xqtiIzEpEZsQ8s+2esrRZ1VaXoujMXnQGxev7XGvVkLbX9qezQzPPAnGOwQoz K73cRLSZ8BnuRe/95XHjifaj3u34sytZM6z6pRl5vj3tW3tdl9ZnN9LPe85pr75Esm4caz/V+30Y qW9vrrKe2AbL6uFJ/1oKDrfKkFylOJHVvj1Qiwivs2Rlkbbhlp3SGiIfH79Me1tJfPGYDe5GZVHb SfDOoHcMg+XLHGkX/7xUhrWdJEgstwJeTqkD9fi/S0TPr8eXHOyPXr7xe0Ca2KhxyexBbfyApwyp n26d0LGEas9JG6s90fdDbT28jGN6RiJE4mUoe4jTqFlRm+9jxUDUBH6X6rc+y0ixG7R+qzxKKVi7 NVZFw7POB+Xz73/d4uJjC25WqwaIjxAb2kC79OKqeQFJbSy1xbNvVLhYZVr7ay9C6xhaX9Itgm5L bLHNLYw43lqrxshzbw341xr4aYJktAipmQjR4H2R1OdEJx+07Wtno0vvIKs+qW/3nr9SncfUz4ym dK+1vg+3gGe1bu/K2tJ+tQsHavVoYqPUDgnJQjNiMcPIefWwNbGxi5iN3FFw079339a6tbZ4KFkM uCuXpz3UHUEbBND6tI424mqmtSEyAKLHOrIzr3FlAz8z4hrxe6f1Xmyh1J9ox986SWB9VipjCZFD f2fotYr0vSMtWvSdUOuiVbJUa/2cx1ocqYvWSX+DPuB8xshuUZ51LayBu2dQTwfhWj1WgLYHXm7N ehi0DdL+pTKjwexbc7OaVmy0+sHWig9P2SWkl481KKf/l9rDj8vTllI7PdtFvuMvxBoT9sjOv3bg 4SkX9McjOEZfU+0Z7CVcPWLGI0iWGDRZA97oNdAEpTRpE+nzJMG6NJLgqBFXJcGDgXIb/D1ovdPy Nns451pmpKgFgH8+YmFB7f9MKRvVUovp5UUHtXZ7RI12XbRj34roWNSNqpcLVSZiki65DvF9S2XT l0ePl1lN51XjrjWqLbQ9lnuEp04M2sEsSC4UEp4Z8N7tovXONPjp0ddILmJ0nyXdiUqiqtTfeVyq Iu5adN9a97BjpPZ+WdptqjbuoUe9HGvxusjCdto+EejMv2TJkARHq8iItpeuC1JTV01cSUrzulRR N6r4GWmkZ+cYHaBqM00tHZBX8PTurCLllWZqSvtpL8uaMj31AeChZuAfLd/br7R8X0PvyY6eePt4 S8iVRN7a4ooeY8k6LQkjzz1juax5yzlmoudcK4P+XuJ8ryE0aL1S1iRpdn0tUeQVGr3rtOq4Pmdv /ri2bESETilAvVTe/bf3DrMKjsyUblQtL5LSLJQ1I+XB40cuCRGPy4Vm/ve6W9F6pPa1nlfNT9sS XT39ldcCrgrLUfMsjnKZ0QaOpXqWvFdmf24saD9quYhJ5zt/Nvpce8r3DERLlhjpfaFtB3z0Olf0 PZzS+kK3J5qw8IoIGq/B97NWJC+1RSKXf/X1jxsDf0sERMSQlKLXKxjyflmUnN55kc6vvrnr1ljK /WsJFnWj+v7++bVJRTI1U2oebG654H973Xkibj8RVy6pvTV119QVaQP/zuOb3cN/O2KpWnJGd8bZ 4z2gndctnu9Z3AB7xY9Y/VtEREife8vR9lsSz7G2znpL7yytrrz91p6PpRnh3jzrOR9pYbCClkux HZ5t6T7cRUs6LutYNetDjXtXa2Yq6k7lXY/EalvJjSozm3VjtdS3EbFBt6mNZ/B03FL5pVnLiBjx 1G+1wRqQ9UQ7Xx7B4fFVtraz9tG2kdoBtkPpvp7tmpbuy9GDEm/5S8y6au6V3ue65CI106A6OtkV LVvrH3tM3oB2ZnvXLOG6xAVGNJC8dlu+n7beR1RsWPVroobuVys2WmJISvEb+W9e5sxiY0o3KkrP WXvP9h5TtuWqVNsurW7rxbNEx6e5OFgDh/yjuT5YeI7J61IG5sXrTrIVqHvVCLc7T780Aul68NiK vB3vEzWBJPULUl1LuElZRCwvNfdsTf8I1mXU/ehduXuk0MguUSWBUEp1K0FdlEqpcEvZl3rQo55S ul3p+9Zj4m5vW3KzWl1sRH1TI50x9/n17muJDG97tJerZ7CttbVV5Fh4rwMfUNGBghSrMhK8mOvY k8/xUtRaWVuEBxXukdiBWuizKw38S4NjSRB5217rYtWT2llsq1/Gs7YvpIm1HmiD0CUDsK0A8WgZ ke2oCPGILqtNNett0H1y6lqtbopluWiNI6ldzXzmNLiLio1ffvtTNPHwWfAW9ylapvQ3L9vrApS3 ibwU6cDcM+tpDfil9vTq6KjAKQkj6XxJL9vRs5LHJDSk87ikxQ/8Q+25qxmY8OeSPp9chNA+Rtre MwngcWGrtTz2FEsjLEca0UkqzWqjbR9pB4gREera/j23mx3NZShqAfBYMOh2Ul25PSNm73mdWRjU WCIscdMrcD1Tuj6ZWQXH4pYNKjj4TDgdkNP/e5ibpU6HiwBv+ZoLkQer7MhLPmqticAHNLxOatUo iaC9dMQjsM7NiBiAXtcC1zRGbxcr6X6wJgZK2/F9Su2rsS5r7dG2L01mjKCHK5TlSuatD89XH3q/ GyXLnfb/VpAWveshOGrbUiswPj5+GY7X4OT9vbEWmtCYwbVpRsGxaIA45fv754fWzqDnzL5nVq8V XoenTu+gs+Zc8M7TmoWUtp1hZq5G8M3E1tt/TESe1x5WBG+bvHXV0GLJKe2v9SNrPA+l81hyM9X6 ae/1sQay6B/qaXnOrHevNNk2YgyxxloWUpyIlClKo8fCfR4i6Xm1/bJgsKwQpTU2pLqstpXOr4W0 rbb/DMHiq2Wj4uQVxfkDWztzFoELjMjLMdou60WitatmMN8qOLT2RdovtaWHmNvroHzp44oMTvd4 vmsYMfir6ee050h71ji9+ggP3nMWteCteW9afWNrf1fq8/Es1lFrIa6ZCHx18Xd68OVdN3GwZHC4 p36J0mJ0PerQ6pXK4kLi6usfptWGrovhERR0OyvjVOn4tTS/0XO+RDrcbCWpKWeabFTUHcf6fi1q BxnWyz/i/lQzGImWQ/1atZepx/eVusLxOntcw729bEf7EffeF/SJJZPKKj1f3CWnxcIpPZ9RvK5W vK/jLlWapddT7hp4665xIy0JwbXfhVtEOl9RV77SMxkpd2toGaSiAc6ae1SLu5Hk/sX/z0LAWqTP cp2SyuWLCdYEpFOkmJWIULHO4fnVt3R+9S39n//13w+1blU93bFWtWykpLtTlV6srQ+3ZkGImsBb 21U722iVx/FaSjznomT5sOg5i6+VJZm3R9W1FrWzdXxfq4zZjnlNIvd8a58RtayWJgAiVo6oK09t u0dYJ1r6pZb6vNfDY7kvuVNJ9a3FrP2DV7B69q0Ze2j7aLPdpTUeOL2tJtHyZohHyGgL8fVeoE9D c8GKWjakdnmufcm6wVcwv/r6R3r94UlonE/FRqtlY1WxkRf5+7+XV+l/PDlNKfk7ZUrNjKNHbETq 5tto/py07lHUuljw7aXyPHhnYEe8rI7BBajmGKV7cc/nqCelZ77HvdxbQI4g6nKpbTdCeNRaoVvq igxGo66LcKdqo8Wtrfd4wMJRPmdEAAAgAElEQVQSIRo912poWcxuJuFBsSwZEauMNxOVZRWJXF+r 3dI2tHxpoT8uNnJbI4JjN2IjpZ/jNiIiowVNBEh11s421Yif0vc9rAu8vog1RzofkZm6JV6W0jXl x31MA29LcO75uEfg6Z9qz2mv/UfSSxSU+t/S+yDintSD2j43Yv2h281s1ZgNr8Wv5h1Z+r6HyB21 lkWpzh6iJRo8Pgo6yK4RGzVWJO+K5R6xkYVBLs8jNiVRpNVL27qkdWOamA1Kfkh7dKjRMnrPqmnl SvU8PZfXtqC/6d+9BhS5g6Yv/Vw2/ZvvY/2v1ZMZPdvI262df+l875l8naXjX2pWfA1GHJt1v/Bn ubZs7fnbCvRZlAZjpUG3ZwLIQ1QMtJal7Zd/vNdV22bL98RIvK5s2juNfr725FPtgm9rIKXDXVNo 1LbF2s6KCUnJt4igVIa21kcmsqaJlCo4708XKaxds4QKjJYYjmnEhkX05SvNdGiDLWsAHxlct760 aJutwaB3QKOdM162dW65AOFtis4UrUlPN7GtULqv9zK41Vjyutb0URJcGHr3HX39IkIqct614/VY i6MuLlr9SyO9V/baB62Bdi41URK1cpdc3SKUBrORfSP0so5Is+tLZc3yBFPz7TOe9TxKa5BIsRr8 nJQWLizVHdlOcqW6OL3tKscihzu00t4She/vnx+0FcMprz88uSW5UqXUNpMf9XnVrA60PKmz4m3k 5n/vLLLVgdWYbelMmuYyFaVldq9Eyws36q7Wq95ZKV1rPsuqzR7v7byUaDnmJc+V1ldofY3llmO5 NVEiriXSdy1CRZs88vSnPantR6X+u9T2Hv31sT3DLROS0rt8dix3Go3awHCt/hlcqNZYiyRDBQc/ fsmly2onLyvvw7GCwS9Ob//0PRcc99/eO0TcoR58eefd1GRYzIZXbKT0I25j1EMemf3SXr6RTig6 I+ktU5rRi7xMpIFJqT3SAMRrspbKGYXHgiOds7VN5ksgHaM18Gw9F2sPcHqK67WPxUtJMJSselIf Z01saOdWe7Z6TSR4+6zR1y1avjVRlf/OHFPf1JMW4Rmxlmn7evcr+dlHqc0mNSqrFY3jWFJ8lOIi rMF7az0a2rmJ7u9t1+mdFz8Ji/Orb6p1wyM4JLepiFBZJEA8Ijby9j3rz3g7Gmv2j25HP5dehJHZ wpa2azMz1valurRjLA3eIrOmIwYDLS8LXk6NkKspP/+fUszaUjPQ0eqgRO6l2elxP1guFr1EGWXU 88DL9k4wtJY96v6J9qUj2lErBGaYmNk7kedKE9mj6D3wrhEMI6wAPAVrr4F9FE/62F6cX30rZqHS 2qVt7w1stzJV0e+y0Mi/pTIs4dAqNFKaNED8l9/+vBURJ16o2Zr+ZLirk7a/tE3+TDLxe6wCFh6h 4inbElC5ndpxeDru0mxp/ru2rRFKgyr6GW+Ttb3H9SGCVDe/N6V7NaU69w2LiCDeiosBv69ry8jw PqDHgISWIT13NedaaqfUN9G/rXZo7dbOLf2u9V7Rnker/fTz/Ns6l0vez60iD8TxnFP6ntraNYgE /NYGB9eSB8/RuIrWOlP6J2i7tV5rf8laoJ1jGvvB4zqiKY69KXGltnriVDI9F/PLDIvZqKXHi4pT Ks+yRFgva/6/9eKj/9cOIKWXrRdarzbDHm2DJWT496XrWjtjr9Vba+Wxzk3E0iRhDVYtVwr6d/SF 6Jmplq6NdDxrvYzXsrR4rlfN7PaIcvM+NbPntefW0/7W+1baXytL2sY6J72O29NHlPrMrVsTwVxw d6aRSOs8WNuM5OPjlym9sVcDj2DFpfBza51nyVIRSY9bWsCPirv8PbVqaNx/e++Q6y6lxK1ZZ4My jWUDAAAAAAAAsC9WX9SPQzNTjcQ7s9/qDkXr0GbEIjPmo+IdvNYK7z58f63dXiuPdv5oG6S/tf2l ej379Uay/mizutFZ4l6ua9Z5Be30jAdZyv/cg3S/1t7D2j1ILXNeK94ISsfV27oCZKL3f+09wZ9Z Wp9W5oigaa/VIhpDUIMUEM3r7BGg7SmjZwB+ySpR2z7rfHnK1LKRtSwSae3buoL4dJaN1x+e3FrC l5b7xJdeEq3+2pb7lEfstGL5QFv+1y3QMkouHlJ9WtwC3Sd/z//O+0fqaxkUtZDbwuM1aFtqngmP uPPuNzu152gGtOek1zXPjDw/0j1rfe8tk/9tTRhE4yJ6x3JAaKxPbzdTCe29OXMftEZq2J7xGkuv 40HbLi1eKLUhIiQ1gSCdM8ldq2btDqsttN2ff//rFhcWrS5UKU0Ys5HSmLiNEh4LQo/Bt1VnqX09 2lBqD2+bJkRKHas040PLLVG6/rR9kmiURIdkRbDar7Wnxmdbar8XrwUpUhb932r/TAMi696JtnMJ MbmElcGKaeDnS7vnqWWg1cqiTWrwtknt09rl+b7H+ZX6P88+nmOa6TnaO0s907y+kjheay2IlPqn vJUYHZcRTRtbc6xWzIn0mRRX4Smfx33QlcCpuOH/U0aumTIiQHw6y0Zmjc65NBjtLYBqhIY0yLdm 6Oj29H9pFr1loMxnZyW0QXNkxrF0Luj+liCyxJTVhtJ3UfhgUBo00jprnovSPrRea0a6x8CzZXtr VjtKjeUuOnPZYg311lM6DumZ1+qyLBOednhouZ+ksnpg9SNan5l/eyxREBr7o6ZvW2PBu6Whg2b6 2RaxXJe076XtqSWCCwRrDY5S+T0tR5bQ6GHVSKlzzEZeK6OUwtazBsdSsRslrFmr6OCodfbVmlXh +5VmMa12amWXREKp/VL52nmRLBOeY/EScTfxWhYiM6HR+6Hm/onu5zmXPQdOtce0ZZawqGh19RBo 0bq95Zb6VsslcE3RUrIMgn1h9VkfH79Mn+4++unzfI/0WomZE12DYfTg31rorxbe/lHCTcsKVTpn npS02vnXYlui8Ti1MRt5zRBtvxaxMWxRv55iI6U5BIdHbFiD3ujstHfWP+KK5BErJXcFT9tqKAmS EpILiLUtr9saxNQQGdgvITZqWNJ1ZRQj7tUe8D5j6Xb16ku9Ew2lMjwTOCXro6ctkT43wiz3FRhP ZCIupXRDXPQaIHuDha39R9N7lXTOiEUDe5wXz7m3LD4taYpLiwLyOr0CsNWqMSxAPD+A1mrg+bvI iuGzd+gltyK6DXf/sVwXNN9f7/nwWCw8riHSNh63G28b+fGU3LB4fdRdRfrbQnKVqHGxiVByu9C2 j+xTKqd2m6jQGDlRYLkHRe+DpfC4G46i57Wg93DJTcuC9oeWm5fUZ0YsNktMWK1thQdj8boJ52dc 87X3uL9EBp2ebZdcXC/XZ/3fo1yrzJ7HenrnxfVCgRaeRQwllyoL7yJ83H1NawMt6/TOi3R+9a1Y di+6WjbOTi4PucOVLBeSwLAsHNmykfFYEnrjnXHvOePba8ZzhPtRtJzW8yKJnIi7j1Y3t4b0cjXh 9XNaButLzIYv7UpVyxasKzMyut+UniOvBcNbNkeaSIk+Ny3umMfoDghsSj74+bt873jTq2qz49F0 sLxNI4RIq3sPJbJgHt3HW6dV/umdF+nqq3+hQM2NjH8fbYfVPr5wn/fYS4v+TWvZGM0ss5Q1/sO1 M38taOer14veEjMtg3c+kxkRfLyM0rbaOcqf05/oMUifRS0uvI1LCu2e9G7ziL5gjWd0aWrv55p6 pN89LXPS82H1SaX29pgkstoAjgfPoPHj45ei0LDK49tKM981lpSIEPDMtmtCqWeGKG1bKW2tVV6p /IjQoG1IyRZCnmuirRZOP9fa56lDEhq9AsI5XcUGXe7ca8Ww3Km05dPXsGrwzyIvJ+4G4x0Ij6D2 pRo5517XLO/nEXej0vFpbl984FJyzylh3TuetmmDwtGzqKNcfHpbjkbQexA+87H2xusO2fP8SvXx /jlaXy/BAQBHmt0uZTzylOldB6IHrZaQ1pgSTVx5XdNGuXdZdXo+o1jnSEu1G7n2pXM1Iu1tSgPW 2aiZeaWB5TzI/PWHJ7e4O1VPuCtNye2mtD/fXouVWBLpWDz7aIPt2hcqj6/Q4kBq3C1Kg1ku+Hg7 rIFSJGZCEyoeAWSdc085vegxSLSel8j2Lazt3nIsLjY9rH5amZaFcAZ4XwL2w9L3WTSIXAswrnFX 6h0jQpHWjvCUrwVM9xI6SwbLt2zvOX9Ry9QadI3ZSKkct5GSbs2QxAYtN/+9lN8xrU9zI9IG8tJg lb9AvQMvPhj1uuFYdWh1et0QIiLAGnjT4ykNtFuFR+vgr3RuSvEl3nuIlrXmACZy38/ILO2cpR2c 0fFJWp0tLk/e56LX87OVGCawDUr++nRgaWUnisQpeF26vNt68a61Eam7Zv2O3jES3jo96YY9li1+ zKVUuT1jZXrGbHQXGyn9IzhqxAb9XhMcI8WGZ+AXGTxIwiHi5mO1y1N3ad/SAFmrv1ZsRFyJWuhl VfLEjZTui8jAh4q+yH1TQ027QIylLZtLPmvRe12bRNHKqxUMve9VjzUTAA/aQNAzGI2sz6AFqFv1 LBEk7t2ndD6i5WksZd2IpAHWrrNXSNYmEJDYRIC41QFbGag8lo2RaEGI+e9oEKDHjznSLk/Mh1Uf 3b82PiI6SIlYJ3r5zfcULTUDJPq/95ise6u3q0rLNQR+amMHWuobWbZ1PFJfSfuZyDNA66tpZ0+W miAB+6Tk9iINIlvWqqDxID2yMY2gV8yKBy2mw1OPlPLWkwZXur6R65HLiFxzr9Uncn7vv7136BXD MURs5MDuPa6pUYM0APUIBunlHhm8eM/lyHOej5O2u/bl3NLOiEDrUXZNfb0HpVb9tK6ogAVzs6S4 keouwe812i8s3e6aSZuS0AKAYsUdWEIj4g5lDUytmfFoWT2pjS1pESNWlioJKdOTlZ2qJeaGlhGx fljWHv5dzbnrlZ1qiBtVxspIxb97ev7rtUg5O7k88ExUEcHSAzootmItvG5RLS40vfG6TvFttP09 RGc1ebta65faE42n8N4PVp0WM7vcjGzDHicYtkzJeufdTytDuu+2cB9YFscttB/Mh2bBqM1YJLnN RNyptH1r3ay0dkQsGq0uXqNcxHgdFK8Y0PbP25eus6d8ybUuIopaxAZ1o+qejUqDBn9L/9+0hvyd Xv9m7z8aOpCMDm75i6fVhaY3/Ji8dY5um3aeuAArBZiW6oiIDHofSNt621ISpNH7xUNpAITBEZCo vS8izwKdWNkKmmDa0jGAm9TGBUWIDHYt60RLFiYpNaoUPxKdAffMqmv/W9vzNtYEhtdu3xvt3Gix NXyb0mee7F1rCA3OYov6SS5VPC6DfseFxVIxGxRtZr2WiNvUSGpejq0v1Mj+ETezmnZYlghpVlcb RLWIHqmcFjczbR8t5mgWRtzrsx3jnuCxGNKz2itObSus6bYG2ljq2nlmqKOfafV43a+oS1JJaFhl 9KZU/1qpWy0kUSDFaUgubbWuVzx2RBM1Uv2l/UYwVGxYM8EZza2Ks/YAwqpfetmWgnxbZsa0wO6o //GSwataHdSiQ+M7pG0i5Vrwc8WtSl63KK29vdoYQXP34haTYxgUrXGMa/dPS9HyvHFh0iPOaS2O 5VkC7VgD5ZY0tRH4gFMSJd54Do52fLXxFaWAeu8+M0HPtzcmozaAPcKSVp+hYkNbAXwNK0UrdIAu BTdas3klX1+6XWlwy8vm7Sjtq7GWNYW7RnmPjZ4ry/2Kl8F/tPbl/7MYliwilmuV13WudF6izDJY 87SjR1u9VrDRHOPA03omW5jlmmrM3DYwJ9xqUBOETWfFvYPEyHYe60GpPM0qERnU1rj7WGmBvVAR FhnE9wyol86VJBS97fLUs5RQW8SNShpIUsHxy29/3so/WhnWdyPQZtc9sRWeAEs++0x/al9kHlca 2iY+27iE4LBmM7VgS21GNBJw7fmcfp+vhWRxk+4BTXB6rSR8vxKzD3Zqr82IukBfSu6Dva4trivw Mnt/qBHNSKTFLmgDeu62U2O9qEnbakFT0WqDay6s6HYe4VJap4P/TTm/+nYj41Sr9cALF3vcGpK3 odtdff2j+rqW6BmvkdLgbFSZvMgfH3iVFv2j36+ZjUr7voXawX1poF0qtxSzsBRey4/1vSTqPBYc 6xxJwkcqm5eT//YKIX5cPYPCtTKXEJRbBuenDe9z6gHXAaxNpC/3Egl05gG/pcxOpexFXpctrbzW jFCecjyB06Pgx53rz2Lj4vT2DSHS2yJQCrLXAsFL57Zk4dC26SE2FlnUDwAAAAAAAHDcLCI2PK5H EjWLAi6FxxWnxTJi+fK3zLQsOWPorctyM4vcM73jBKQgcm7xsLbRyhxpTaq1eIHjo/e9qMWtIZh6 XrbqfrQEI+7bSGyBNusspT4tZZLKs+Ga65JWnrfdPYOepfpGwtueLRmnd16kj49fpovT2+ni9Mcq ERent7u6lGW082utp+F176o9l71WDs8sIjaoO1T0BbdmMHmNIBjhGuOpt6aM0S8aj7tSaf/Sd62B 1Np58LRPC0AviUwtGL6XsIokC8Bg43jpOZiy4rGifQ2EyTLg2f8ZLVHICCIDVitzlOTbn4kONHnK ViugXYqtkNoQYY01MWjbz6++3fi9VP0U7iblEYcSnlibJbN4LeZG9ctvf97iL5Hv758fZk55KwVx U0pB5C3QAG6rbRajAzi9lM5btCx6LWr9wXu0QSJ6D1CB0nOQZQkoLpJmZe37NMKWBm4tbY1YXGvO 58z34x7B+f6ZJSYMU/LP9FvrTpQsI9GUq952aMHMUdEzU8raLDByTMbF6e308M2zdH717cZPpocw qrF0ZWgQe0t7dpWNKqOlwqXM6jKlDd6sl28PNEFjpXutae8otDprg9StDFCecy4FenvLkDJkWW1a w11K+75HQgPp797UzITPwJYGba1C2xLUrckntnjt98jWrsOxZEDzBFfz7VvTwuYyvPuVRFTJSmMx MjMUDfzOQkOqLwsOLYhdc1WT3NhaU9kulSmrB4sHiEsZqM5OLg8eK8eSSDPNnkxHPWktr5SKtaa8 Gfyv+YBUc18qxYLwckovWLp9SaB4XJlovbz9veNPtHZ6B/el4x3l/6+54ljt9liXRg2mlhygrTFx kJK9Jo71OZgP7bmi/2+BB1/eNZexxHFLvvgtRNevKLk7WULBE+cRPS4+6C7tz1PS0sE2/z9KFhm5 XZ6yvC5K0ZgXq1ypXRELWSkeZxS3F6mF8ctvf96aSViU8KRvnClWoyVOYjTR9LA96st4YkDyPpIA 4GV64iI8AzKpPK+VpgXJP7mmzB5uOV5hn9touZ61XJdWZkzAsFR9PfuXJfsIMMe7oYUeA6Yl7rWI hSDTw83FcsUq1Selwq0RFlbZVns0svDIg++rr3+YAuH0zoufxEpepyKKdh25q5ll/chtyFaUEudX 31Jix8ddqVLSUxdrbdmlGxWFxnDM3NGV3GqkgaJHmHgHvtoMbqQMT5s8tAoqeq4irkueuqwZbvq3 Vh632vR48XhEaoTez0kvV6seFq8aS0MprkkSMBi8rkPteW9xxYpYLYHMMT4vS4xLahbKq7E4ROGW l4iLUw3aehERqOiQBt8WkTqjZackX5tsgcnCyHv9rr7+ceNYeSwOD9iXjo3fc0sG5K+6zoYnhmNJ pMGJ16JBZ1yt7aR6SmVH4YOqUf6s2uBcOw+j3FaswabmajXaimCJFu958LiFjcTjjlRbbsvgT3Or 8u4L1qGX4NBcIS23umMcNJcoTbps9ZyNet9FWSP4WRILUUEjzchzS0brsfEBb62lhFNyfbK+p/Xz 7WjQeE5/e371zZ1OmAsMrU0eV7AsOrilKf+OnMfSdeyZ/naRFcRL0PS2aw4GameipYE9/8zjJtIq EPiMDHc1GeFTn8uNDKo9bi58+9rzYQ00LFepUt2lc1oSnbzcUhtH4jlHvesbyUyDpGMZ6EpuiDMg PafHcD3A+pTcVnrPKltWidYBqDRTbrkJae3i6XR7n4OIdYOvEp7jNTI081T+jqfE5a5c0mcl9y4J egza/WJl/OopdFtWEt/FCuIPvry7DgrrERyWUl3AreWKUpp15/u3zPhq7aAv29rYAImS21KpXVqZ HtHC3bFaBsqlskuuatJMoLVfVPgtMTAqubFZ8RO19a0x4OvlShi1qCwx8F57cD/CDbGVGdowM3At G0vN2ggearJJ1WJlorLceFraUuNilom4OmnHJa2xkVPgWvVeff3jJ8GSUixjFHWVonWnFHeB4lYO +v8a65lMITZq3Kk+3X0k/r0EpZeYFseh+Q+3vKAj+3C3mB4zkLxMyVe6tG/Gex56tVmLHfHGiGhu CPS3JCBbYxtamGlwMUJ01AonCc+967XSjRzY1bi7aRMb2nMcbQ8X4kvgqetYBYh0LbfsKqUxU/+W khwQ3cPNxRqMWxYOD6WMVdo+0e+1mXrLLam3a1oWHNxycX717cbK4ZpgyG5P0vXgwkMSIlp5ltuV ZNHwZAqj/0vbjGYKN6rM2cnlwdNZjDbTW7PP0XgLj2tUj+PxuHL1xjNLH3GZ8riaSfV6LAkl1rA0 lI5f26e1DRGLz1LuVT3v/170cC/ziJIWat34tO1K1yE6ueFxtyy1sdQWzU211CeW2rsXPP3MXo59 L8eRUtndis9yS7PercHAnkUDPd/3Gsx63bascya5G0lWC811ipJdpKiQ0NzErLq0crmVwzqf3oUU Jazr2MuNapNiYw0ig1Y6+PUO+EvbeQcPS+JpU0RsSPvUxEt46i61pSQAPTEZ+X/vOdAGZqMHrFKd UhtrBo619fcUf3sagKTU9zx5XRel8rRBrFVmT/Efvaa0b97T/VCil1UVrENNylItxiJaV60lgYud UuyKdYyWBcSDFcehWSyicRaa1cJKkesJBKdxHxKle0DaNmq12qXYSGlewWG9PLnAkPbrdUy9yutR TkRsaDONpTJLwqvF+lRbT6tVIG8TERM9B0hRUSG1bYQA6i02pOfSI/xarJdrUSO8a4VGLi9iIeNt iO5rtcOLdb32KEBqLKdgm3iChb2B3J/uPmqKg6XiwbK+SPvRtpRECN+H70uR1tig8MF8zeKAHjcp jmbl4GKnFIsSFWVREZkFB81O5REhU4uNlFKadcG/6Gy29Pno9mkDfWlbSk3bJCEhuTaVBEetO0qr 65RWR6kcb7v5efEO8EtltWzXc5az1wBNc4PxUjvg9bSnh6DwuPnUluullwCPlO112YpaP61+DgPq H3j6HrA/WiwB3ixUJaT6S5mUtH17oVk3Sq5KPawbFh6Xqown+J1n+0qpnMVKgl/3HmJjigBxDu0Y e2Wa6kHk5c63jby46Q//rledry5uBoC2DEZKs6O0HqlO/r3GqBcmrb9mP2nf3sLSe+yl7bR7KyX7 eFraJKHdq7XXQirfui6le67X9fO0YUZLrgf+/JaOJ/o5rYPft3zSAQPqm9BzgfNyHFixCrVCg+9r BSN71niQMipF1tloXfiv9HleP+P86lvYukHX3cjwY+L/R7JnlYLFvW5z3uv0+fe/buUfdyMNprRs pPSPdaPkO7800ox9Sm0uCbx8q4yR56Om7KhLU427h4Y0c9pr5r5mtr20ffT7NVjDNaj1fn7w5d1P nadmVYxal2oGsSVLn0RNHRGk+q2+bGl6WCNneH4AGMmItSlyuZSc4TP3Ed5JXytGoSWAmbax5vit 2Adu3cjnuMaVKnP19Q+XMJIsG554EUukcBc2T4IBCUlk7M6NKiVbbOQbf+mUt5wWn2PJxUlzMVrq 5V9bl1dwlM6HNfj2DIpK59RL7QCT1in93+JGtRS9XdNq6oogCQ1adtQdam3XsBaxXSp3zUmb0vMN APCxhOD4dPeR6IZXqju6Wrm0vzZQbjluT/wD36ZFbKTkc6uKuFFJ5bdkpaoRGyn9EBxea8f0blQA AAAAAACA7TOt2Pjltz9vpaTP3vWwalj+6x5qfNzzj3e/Jd0Eamc+S/tJs8r8vFtWCh7/ESnD2zb+ f+S60uPz+JjzNta0cxRSe3ved72PQ5u10e4Lq/48g9czXiPqOjXqOs/gioo4AgD60nORO+rLr7lN eVetpvEe/G9rwT5rheseVo38f/4sn79WK4aXHA+SqQkqz5YZr1WkZjX20rmm7lRephUblFFB4lQs aINCS4xIQYr0f82NwgqU7BEw2uNFXuNGVBrI9XLR4eexdM0iA76ac6cJo5oyZsIrxKPHzM9T7bFn YZA7UklUSG0rBTF73P4icDFaKn8tYdAy8eJhNpdBALZKHkCOcKfiE7m1z2tp1Wpr+54i6urrH+JP Sv8M2HukvuVQMcBFhtS+Enkbq22lFMj5+9L5/fj4Zbr/9t7h7OTycHZyeagRF5xpYzZS+nnNjdGx GtYgIDoLqQmNXjOnNf7gNXXUzPZq20c+94gFbRurc7R88r3X3So7uk+07J7l94pPiNTV6z7l7f74 +OV1fnjawfaOk+hFS7u8+85gzaBE42cAAMs/LzQg3LM4n8QoIeRBCgb3rteRg8V7iA1qtchCw7Jk RILSSyuMS2VHF/XL273+8EQNFC/FbtCYjbgNZ0Fef3hy61X6ESh+4+Zf4CWqvaxrZnE9s5mRdvUo ZySeGduSkPG6mJUGVdJMtRY8TGmxcGyFJdrrdWGKILU7T0B8uvsoPe1Sy016vvAj7nleC11tHUsy Y5sA2ArS5FDPQX3JjSlSzoxI5+ra2kAG+T0Fxyh42zyWiixmrpx1XJf5Qd8mEiw+tdiQGPnCsmbd a0UG/VsabLcwevZyVNm03aU6PGKi9FlJ/EjXZiZ6W8VGo1mpRlj0vN/VwicL6GfW9vyz2vZFLIQA zMiSFtQ9IvWfIwb0efb7wZeUHqZ/rldNXVELiLTiuLcsPsPvXfwupZQ+ptuie1NvoVETm9ELKjLo ufEu2EitGC3uVJuI2T8RRakAACAASURBVMjkm25kx6XNgvPvPViDjBniMrz0HtiUBl/RY5O2r7lO 0e3WGPAtaUrvEYtRCgqOxGONEhrSsebPegiEWuvEaGgMCQaDbcx0XWcD91Yf6HnMQdYel/KIWPh0 99Eq7k/SwoHeGI7Iwni8rIdvnokxE5EYCo0lzqNHFGmrp1tIbZesGJEF/6YXGzkrVdQPu5ZS2aNm aVqCZNfqzFvrjcS8RMtpuU7e+6sUGzL7AMRqo3RfReN2PHVF4q8iojBy/kuJHqztte9oG7xWPE87 ez7rtF1r3KsziPeebL39PVniXGjP+TFdB29/4BEc2nmLDPx7b9PDrSvvL5WRM1PVrLFR2kb73goW 9+AROQ/fPBPr0DJT8XOjXRtq2YjGTk8dIJ7JB7j2In6zUOpgRrirjHTnkMzEPQPga9vZOlveWgYv T1vArqXMlPqntqXxOFJ9Up0tAk+KyxmBdlxSO+hnWjneOrVytoxl7d3qTPixuwtJbsJLxYV53RxB PTTmoRRwnZJPILSuKs7RZvEtYaOJkB5o7lPnV99++s4TIE4X8uOB8KVzbwX517jKRVcQn96ykVLs Bvy/l97wlzizdGClGdPWdnrdkmoHQHSGdrRFp7WeWnqKpdEvz1o3MgnP+fZeN889x5+BJSx93GpR shBJ+0frGsEs/VlmtvZE2Xr7e8H7gNFCmZ/3Wd0W90DEGuEJWs7ba5aHKF53IVrniPiXi9PbZpyG 9F2pHVdf//hJaPC/tbKssqNCrJZdWTay0PgfT0671k9nImedaSy59LSUJYmZXjEn3gGsN+i49/Xp 4YrFEwV4919SYFgvaM851e4Jqdweg4FZn8OUfj4+BHTLYHC+T7h1s/dkWKQdS9Z3LFgZsHigd2mw 2tuyUSq/VFevlLelVLeSZYN+p6GttXH19Q/xXHrPb0noSAsRRi0b04uN7+9vpr5NaT3RsRVaZ9W5 uOrlKtVLoPz/7Z27alvd1oaHSC7Dm7SBpNqBuEoRXKgJpP52ZTCoCMQBX4AKX4Ah/sCFwZBqpw64 URFSuLLBu/IHacPvy3DQXzhDHhoe87jmXCe9D4TI0jpMLa3DeOc4MTEPsRohZbGUdO+3HRrg2l9T 4Zq7naEBgREGRuB4iBHVbf/emxpOVbvHhd6+r7dDzLZ86zT9LiGx4Qq7ihUdUlhY76WKjdRcDr3/ UB8PF7HeHSlgRis2Ps5frL4kxEZ9mhhLfTS0msyEu0RObO5Mnx94qQ/kUmIjZ1t9w/J4Sob+/dqi z9cHyEdPWLWRx+HLCwN10LkckpKejRRvSWzCs9VBPEZosFFviYMmZW6tMKlUYgWHFFrWsQ0JkNHl bDx5+3kSm4dxfrpYy9lwvWb6HPNfktw49tqz8LHbd+WQpI4vtbKQb98x+AROyBD1raPj+FON2ibV W/i4p4SDpZBSClfTxcwpaMaQ76vgMTqHSU881fq9eZ+p9yfQHG3Y6xyMkHchJmdjunW0tj3LGOf3 rO1Y+8gJo5Iio6TQKJWzQuT2jujthxLpS3vHeu/ZICL68OZ0Od06Wvuh382mScngtbwcfZzF1+TE yKd+r1TPQezyXcfm6/1b44nxcFgxzLEhRq7fr8tckKa5Fk2349t21+cK0/f7Qh+AUTg+QiGY+M3H Saznoek+fOFPMWPRVZykwLA8Fj4vhrVMjOBwVaO63Dte24/+jjEeDyt/Q+9HH7/USlXbZ/t0cjEb l2dDwz9EatUp7eVIXb+PN8gSM/tNtq+N4NwqO6VDbeTsVsox8i0bSkh3YT14LaPUVVUptG4MLoHS xBjOPcYuj0yXAqgUNStHATAUXEIDHoc0alRJqon0PNQaO+8jxgiPERr8WlaP0uuF+mJw3sR8cUeL 2wNz2RivwnTryNkbg/8PVbni7VjIMcR6YJoIDc3gxAYAAAAAAABgGORnsrTI34f/0PnpQ/gUUV4/ jRqJ40OZyWwa119im7nbyR27zLcpUV0rx8uQ6xGx1kn93LevpjOM2mOTEqpn/Rb8P+dsDL2B51Du C12zqRWDAAgRW82pZtiSa59E7tyINjwy8nubPSfO3CFW2qvgS3CPwfJGPHpv64imf0zWw+lT7364 g/m99+HBqyGxqmDp/fvCqUKli619NmUQORtED3kbucgcj1SxkWug+mqNlyAl76HJ+IeOVQUl5nvF hHdZ2/SFEfjWbRLz78v/CH2PUqFZvmU0Y85vGMt10wYQGgCAVGTuBpGdf8FGe2yjP0mpDuI+ZCiT zqPwVemSYo9fpyarp1YJsxhdNarSaKER4yHJNRxqGxy1Y8S7NphKGiI5ycN61l2+Tq2QFdp/0+Rm XQXG+ix3G6U8Qa59dX2elWZs36cWEBoANGNoeR2lCJW2ZaFBdC8c9L8QOQIlBS0E5PhDQkN2Pg/l k1iU8oRxs+1YBuPZILrvufFx/iJLdVrejPPThdPLkVuNiQjGRilKzhBbM+mh7YcqqujXIU+FXN+1 njVGvV6IGlWZmhiGuB6ARa43DgAAfLg8Hj5vR9vejBRkaJPLy8FY1bX0tkLhVSki1ufhGFRTP82H N6dLXR4sFZn3IV8vbg+KzOLGhujUCn8CNrmhOym14l25Gbr8bSq+sC1rXClhYk1yP2LBeQxCQGAA AHJgASH/J7LDq+T71nZikPtw4eouHourwZ7l6ZCExIZvP5IYwcElfF2CY9Big+hecBCVV6L6JO26 Xn+tPI8+GH59GUcIX06GK8+idPJ17nabiFnrs5y+HqljAgCiA4B1XDPakrYTxfuAztHg9/Rrazm5 jRjxIAn13pDJ2SmCw/I6+N5z/ebSjo0RDXJ7oeWtHiQxYmOQORsnF7NJjVhFfZLmVLzKRfYsKBnH bvVD6MPDvHSPhRKk9BXxkZMXov/W50CTJH9XP4wYMSK3EbMOAE3oy70AgD7h69Jdq3rQkLCEhnyf X1uiIlVoEIV7b/AypQSg1WHcEgb8txZUVu8Qa70YEcu9PlJDwgYpNojiMuFd+KpRSWOqdNdxbbxZ xn8bxlzpWP6mYiZnpryWURKqrBQrSGIEo69CValytZZ3IjaR3RJCvnVTxwIA0+S8AmDshISETBre FKwGffJ9iSucynqPRUkJLveOo7YnxYQ07vk39TVK1J9LwcGvm0QBlTqnehFG9eHN6TKnIyER0be/ nidlxIeQJXL1+ym4ZqKtGP7aWInLpROvh2ZIWuMO/WZy+djk7lghVSMp1hf25fIsNS0JHDOmMZe9 BelAZAAQRxd9NYaIjlLR+D6rgRQbvvwLfk8nfusQJ+sc0Nt1iQTOsyjBfHFH77/+HGeCuEXTHhyx xAiOGONbG6G1ja1axt1QhQbTRHTpalSaWE+IXNbaRy4uURQSSHIdOYZSYW9DPVfGRF/ypSAyQElS 7rlDZZPFhsuT4VvOeq230ZbgYNjQD+XgyGUsgWIJj1C+R4zQ4BCrWEEy2mpUFm2JDaL80CqrVOqQ KSE02jwOPq9FTlWqUHI1Udmk7pSKWNa2Yr0XPi+OD5/gkp8P/bwH5RizUQjaZROEBlGc2Bi7IAk1 6vN5MlzbKmU/xm4rlLjt8ly48nNkN3WugpXrvaglNsr4Ujrm5GI2oUoVqkohjawhGVyuUKAS36HN EDLXvnKTuX1egBqkHqvcMCn5XWIFQugYWEKpRPI7uAfHD4Dx4gq7sZYZisjIFUQp9l2sB4T/t0rV puIbHwuReyM+PQ8iphDA4vaA5oujKO+FqwfHgtKO86svL5cxOdSj8GwQ1SuHa1E6cbzvpMyKb4rR k+Np0JQQcS6PgrXdNn4f5GN0Q+rv3Ydrdeyz0F1SIwesz1jne6z39/Wv70TUH0OdDXH+Lqnj69qz EfI8pGyHyPYWuMrXyvVCy3eFy8hnrHwN62+LWK+ES2xYZW1jt2MJjsGXvgXtE6qu1AfjpS3kQ0zP /vNxykm09j0ofdWpfPvisVjb872XWx1Ifv9NOB/6UkVJn3+hynBdhp304XiNFdf1Pnb0fSslzNQq K1qa2HuhTAS2voNlaOpqRLWqUvmqIUl0PkSsYS89DXIdKTpclZ1i33PRtAJVzLqyNwcb9VpkuEKl dIUqify7VOJ3KjGeDYgNAAAAAAAAQBVGkbNBdJ+3waFUtTk/XWxcKFWImrPYffKavP71na4OH/7O ycUJzSpb39cKEwh5NOT2rM95BjAmYbwvx79v9Om4pHorupr97tMxGxub5tFIJcbr1/W+ZL+Ej/N9 2ib/ujFVjUphhWj5vEKx3gJXmFRqBaqYMcT02kgldn3peZgv7oi2jojOHsanj6Xl6bCW4fdzxrG2 b2N9GZo1X9xFdyXXjCZng6h8zw0ftcVGnwzsLkntAeHbTonj+frXd7p6tkOvf31fi6vVRrnv4dKk 3G7ONkJ5FCFBgXPRDY5NM1J60QCQi6sSYR9xVRpK3UZfclBcWJWgfLkYvu1IeJvyf2vZklWoQrjC m9h41/hK3ZbCFW7nSpKXYWD6+7jCqJCzUQCr8V8J+jKT3JcbcUz8f9NeFilxvlfPdta2KX+vWE9D LJZIsPYTGndKBaqc9TcZHJt82pphBkDTt3OOjb6/D/95JBJS7zG6k3RbpOw3tmt3jGfEJ1B82+xD 5VKXCOE8Il/+TW6uEYuJ6dbR6rX+37U/uY3Uyl2jEhulWszHJgudny6qi46uyJkJ6nrMJYj9Diw6 tKGuxUep0BafGCpVhhgzzEDS5rkA0QZq0pdCDi7YS/761/dHs9opE5DaMG1TeLBhLI1Sl0Efa/D7 Qp44kTw1Ab2PWL9bqJyxTihPRdq4LHp8CeayRLD0csQkhxONLIyKyB9K9W42rSIOSodUlQrNaNtL osN82goxKbGf2JKtVrhU7L5T+1aUCiHT29WvQ+toSp6bpbbXFpsUNlXr/lGibDQAuXRZic1HTD+N 0HoWlghoi5icC1+olLV+KBTK2pbeTtvCg/McYprtWd6MkIeDqJygDHkspNAgInr/9WdUU79ReTaI /F+8lheiJCWNmRpGQsxnbRtj8uGR8wBJWUeHMcWEZ6Wit5+TnxHqv5EiNHKS4PUYxhKiNbTx5uLK QWoyQ+xaV5ftBaAmffNyaCNRhuqmritpo6RvaCwxUSK+z33ry/f1ctLrocvoduHhkF4B/bu4fiNX 4r9reQ5tyglxkrDnQv7T+2F89rZmNNWoJO+//py0mSxesjpV6YdtLcHhmpns0lhoc9+WKCz5AGu6 LdexyPFmuESD5SVxretKpAf9xXd+506KNDkvAahB2+Gjen/aeHz96zvR3nevUAh5KlIqRqXC4V6W MdyGB0WLDy069Ht9CZ9i70SsByIkJNvOyWFYfKQIDaIRhlFJPrw5XbZxoi1uD4o9LPtmjMVWi+nL eJmc8CZJTM5KyjKxYVpy2VRPRClqPXjbDK0bIl0cG9/5FRvuVGvMfZp9BuOlhtiQ97qYbVuGY24o 1dWzHfo4fxGM+U+lRJWs3H3m7MuqdpVC6WpVMQ33XKVvY8KqUrt/p6JDwGJyNUYdRiU5uZi1IqD6 opxrUdNz8frX9yLbaeIajw3fCIUTWfv3JXyH3u/K2KoVzmIZr218x74YrTmCPWXsqaF7+lyz1tXX fmxVN984YsbXl98MjJ+uJlfk+7GhNT54Gznfp6tZcosSY5FJ5E22UaLoUOw2XKFPrq7xbefgNBUw owyjGjp9mvkNzczw513PWOt9l0gYt7YRShy3lm3yMOsi/KimoRcrXPucu5RL6jhknkTOulrYpSRl +0LnUjxUsfuxrl8IDtAGNc61mOvD9nbvNBpLTdHQVuhOU9HVJ2RY1/YZrZLEiYwGf4rQsdafc9O9 Gl4NTWwFKsmoPRu1sJQqJ5+fny4aJVD2xTBKoYlRnZIMV5smORiupO6UWWZpeFmzyG2dG10m6krh OlZjM/V7xf4WvvM3N7G/5LLWer5zbYj3QjA8aj13fcU6fLju/a4xuma5r57tBPM+mNjleNm2RECO h6JkpEnpzuKu46YT3GNF3ZDE2KhzNoiIXn15uWySmZ9DbrJ4X8WGb1Z0LIm/voTvmHh233YlMZ4R y9Cule/gM0i7NPaHeh65iM0Lcq3TxIuQE56V4gXJwSou4GKsohMATeoklRYaLgEhY/9lqVRfDwdX rkBfkV6DWNrqIs6lbxldrtY6rilepJR8jSYeqqtnO/Tk7edorbAxORtE9wfn3WxKh9OnxfthhEgt tdtXAys08xhzY0zJzShpXJTI5bC2kftbxY6ltuEfis9PFTY1RdAmkvr9rfMz5DUoEQaVizz/cnJZ AKhBX8612HHkJJH7GsjJRnGuXIGSlDL0eVzsIYhtzFxaaFilYhn+reaLO5puHTmFRkyzPl3i1lWm 1hpDk9+wSY7t6MUGAAAAAAAAoBs2RmxwbsC72TRJ+TKxy5aoXhCirSo+sYRmSV//+h6Vm6FnO1Or 64TG5tpWzMxqbqhHiXj71G3J9a1jGlovNdbYl1/RZKawb+d5Lk29FKFlm3jdYkowp6yTS+w12GU+ ERg/fbzf/H34z2q2W/6ThPo3WLPk/B7nYMj15ay7NfNegthqTz7vg28sMd3LSyK9CofTp2bPD0ko 5Iu9G/o30OulhI7l/nZNGwUSbYDYsOLLUh9aKXF9060jOj9dmCFUJW9kfXzguozO2CTwHMMnh5ox 6DGfuURVKCkwVQS0lUfjG481hpzKSn00AtpE//auY1Lqt247tEmHZIYmGyA6wBDIFf7WOa8NT5fA kM9bnwgJ5WPovAI5hhKkTuC6epFYIsllr6VOMqeijXK9L3nsYqpG+XppxLzflJLb3YjSt9bM+sf5 iyQB0QQ2JHMejtJY60MSdm2jz5dA3TRvIsbDkVueNJTwGpPgLT93Gee5FbL0ONpG54PwWPRnGjne lN8n9lrJrdiUgivh3zUOF7HLpB6jVGqcP3Lcpb8nAF1Q8vy0hICVg2FN7GmDPCVu3/Kg9DFJXI5J 22vy71K9Myy0Ya5zMvS+5ftED8LEJaB81Grix/8fTp/S1bMdOkTORjrTraNWEsbPTxeNbjo5JVRr YhnDct+1DYAS25fCr+n2QgLGWjb0nms7lsGesi9erysjzefh0cvp3yg3odklKkMJ8qVxealKb7/E vSZmPzVwCcTY6waAoaINypjnk/R0aI+D9m7IdaQRHDJkdc+LpkKjyf3D2vd06yhrTLVDq6TwkMnr WvhIASKTxl24ksD1MSjpkeD9NW3AvBGlb/m1vABTK0U1pYmwaWP2dejEGtEuL1eN8JNcL4lGekWa eLeGFIpU+vulGvpth57FeJzaEPixY6gtzKzraEjnL9hsQp5L+bnrmSSXY0MvZFjr5TWu0Cjrb6uk blOxcbl3TFfPdh5FlpQy/mOjUNooecvlbuXx9IV3TbeOvI35eH3+TFai0q+bejqsxoNEKH3r5erZ zupfDm0lF4XAA3ed17++r/4xMcfm6tnOoxtxSWNNzjCHvB2xydhaaJQaX5+Fa+539Xl0UrZbI09E h4OV8HTE5AOljC827KzmuSP34RPYfT5/weaSel5K20Tm71nb8c18514PMTkdpXI1ts/2H92T2KCN mdmXY7vcO37kKYilltCwjPzp1lGUp2Fxe7C23PbZvpmYrd/TnzcRGiUSwV2MXmy40J6G2iFVJQ1F 33a7DLdqUwhpAZkSzsTrxRr7ObgMytwZ2xIz2PoYjUG46u8SEm0522+6DcbK2wn9pqmiUOcOlfKu 1UaPVYtrCA7QZ2IncOQysfeWj/MXa5WjXMh7oK40xbgSxuXyqfkCKcj965CgFCOZDXEZgtQloR4X 7OWQk9cyWd3qNC7fCwmAmB4bsfiqaKV4NTQbKzY0HFb1bjZ9JDxKeDdqXgw5BkLTh7Tlpu3qwW+N JTZURsbGljS0QtvLNfb77pEoiRQSWkzE5siUOF6lBYf1XigvISVfxWfQhMbWxbmlv6cW6C6BMRbB DMaB73yMFSI+Uj0LOt8i9JklaEong/NEn5V4nkpNoZFi80kj38rVOJw+XXk3dI4G78sy8HWLhtTv meOh4H0dTp8WF5obJTakUWrlbLDIkJ9xEk9XhGa0rRnBNsgNSyuNNY4Uo6lWqIyFDgtxLVOboQqW nFCoWGLCh/RMe60kb7kP+X8qpfM55HZLfvfQ96zlfQSgBNJj2eR6a5pLZoUcWn05XF4PSckStxLr O1pJ7mx3afuriS1WurM4exNC5WitPiUuL4Qvp8OHNYZcT0cte3f0pW+fvP08+f3j01ILDem9YHGh 32csEdI2pWKlfTMvQ8UKpwpRy3DRM8r6d5N/S2MQBlUdugwrtLYfc37mzty3kUBeA2kkxQhx6xrC dQP6gOt+z4nR1vKu63OVFE5xVQjlvl7/IqK9dY9/X0rWhsahjV092+9azgcnYOttNTGsfZ6Dw+nT P9/zQeQ97Ps+Wfxw75i2zx7Wudw7pkt6ah6fy71jmrZgfvIYajB6saEJCQb5uZXX0URwfJy/yCq5 Wyu8J8YIie3+3QdyY9tLzEoR+Y+V3EftJNshGJggTEroVJvoc7jUGGJCD62/ITRAH/Cdh9tn+0SR +VT8vlXMZBNwhQ2xWMgRCLwOb6ONalSyD8q9Af84F8YKVbL6c/iEBntXSlSh8nG9e9OoYu3oS9/+ /vFpSXRvCEol6vJWWO9bXpBcpLLmm4rel/zbWp6oTsnLoYgPK8m6xPZKHc9SxQBKf0+LsRtqbcx6 +36bWr+h5RVLGVfM9l24PCi5WL+R5cVouh8AamFNIpUIl80532W5VaYPXo2chnp6nRICQQqNEqJD lpvVJWNTGihqrNK2Fpx83kexsVGlbwEAAAAAAADdsLFiw+ehcH3myulIQaroj/MXj/al/55uHZku 19Iz3UPxahDV+e6lw0Ga0kYOQRueky5p6ztZv1XtSkm1w/F0pbbUsp6h5eTr2OMnvTljPF9Bd5TK hcz1WDS5X+h9NplNr0lOYnYtr0aJSla+crNWgr3Pu8SlfPX2icJVpfr4W1tsbBiVCy0mXMnkJYh1 4dXuAVKbWJHy+td32j7bD4al6OTqkpQw4GpUKSqFDr8pHRLTF9pOGk4J8xm7oRxTklgv5/u9XOGj YzhPQfeUOp9iChboZxc/G0ufyz4DVPZw6KppcSikqmnVqRLbsXB16JbvyZAqDnEisru3My6BGNNf wxpDaXLzNWQY1egTxLka1dWzHTqnhVctdmHUhwTH4vaA3tG6cSIFz+H06SqRrLTXoZRBX8MbUstg 64vIqJmfY+1D7mvouPJdan63MRy3NgiV7ozBmhDoQliG9jvUKllDHXdfcOUfWctdHdrnkC+PybWf EDLhuCuRwbg8CyU8D9Y6pXpyaIPeJQa2z/aJ/pTt5epOnEujt0dE98suaE2cxEyOW+OpmbfRhI0K o5JiwvpBzk8XzoTxGpRQ3fPFXbXwppiHTky1jJRlQi7BtmeFUyreuMJImhpYJb8z/6bye8l/Y8AV ltMX9DH3/Rsbru/kus6s41GiclwTYn+bMf5+YyTnd7LC+ULndsw2fOvI9/RkSuh6kEZuSGjIvhxW n44cuF8Gb8flWUkRGimCqUS/tFCHcCK/+HAKDUHOGLkSVd8ZfRgVkR1KxR4BIn+DP03bvTb4JP77 8B/nOGX381q4wotShI5vhl4Kkj7khTTBNVPl+5yXqVm2dlONnzHN1PY5BMsVQtLk+LuqUln7BsBF De9m6nkdW7UutG39mTVjzu8TpVWi+vvwn6jJwZLVrbpsmpyDJTp0NSqNFEayWlioGV+uiCjt3SgR RrVRng3JfHEXNNLbEhYxCt2XtK5fs4em5PhdsycpwsB3s716trO6gVk3u9e/vndiUOTMMMuEWn3c rIeKTpitwSYbY2P67n33etQow1tifbDZxFwzqedY7jWoPRSxnlgWD6HJLKZWF3A5lhK8m02Tuntb 1A4LCxnv/LlczvLaMHz8DqdPHy0nk8V9Seg+tEhp4vlo2l+D2QjPBhHRhzeny5RYOMZKGK+FK3+j SS3oEt4Ol/eitDciZvZyqEZH7AOi9j7B+OjLNVHjfBuTVwr0myEWHnB5NXKJ9WxIagmaGJsn1zaS XggdtiXzRqycElcit/ZIyO3yerGJ4FYCeiqWhyT0nkUTsbGRno2mSrwNL4fromniZiw57te/vq/+ 6Rsyvx9DTB6Inv15/es7Xe4dR3s4andeTXkgdeWRAZtBX35rlzfPtWwMoQTsvuEaUx/HCtbps8fQ 4u/Df6INfSv3Qr7H7+c8N63tdEHIu6G9Jz6vAS8jl/dtv0nok+s3nC/u1rwci9sDr+ckBt5mLCVD 2jfGs/H7x6clX0j6ZHg3m9LH+QvTqNcdvdumRIfLFO9GSulX68bEJ6f2hsR4JeS+XZ4A3mfqtmsQ u9+2vRpDemCC8vTRsNXXinXtxJ63pfNCmiD3OzQvTFfVvED7yPyNNgSBy6BNzSNx2T7aLtJVrKx9 yc9jvAtyWflZyBNgiQ3LI+KqbCX3K8sU877l9n32oa68mhOO1TSESno2IDaoe0FRm1ixkWu0a9Eh BYf8m/dBtO6ylq99NyP+bGgJ5FbiLJLBQW36KDoshnquDk1cSIYYMrTplPzNagqOlJlzqyqVZWS7 sCpXhXpgWMvIz3zbceHzbLgEEI/ZCumSy1riImYSWvf9SKVErsZGhlF9nL9YGanWge9z47wmiVNE caFUHKZk3chiXataBPhEgctl7VpH3hxlKFVbrm99DFLCxiQcYtLEKwJADEMLCylBW2VxY8LESo+j rV474J6+HZvU61mHN/Uh1Elj2TYuoZFrB8l1fEY3h1XlJmXH7EM29rP2w997unW0WlYvkxrt0pe+ GxsjNgAAAAAAAADtsjFhVETroVRXz3bWZvzHHkplob05VtgTvx/bpVzP2OttxpTGfP3r+5orVlfc 0KFWTToPh5b3AD6lNwAAIABJREFU9QVx5af0hU2b1QZ++jZTq4lJBi9xTpfo+8HE5mM1HXfJ/Ioh h3+1ydCOk34utuXB4DyQGlWppltHzjAjuYyk1ky+FWYl80GsUC1ZlYrInyuic0Rc1bBiGx82PQ4I o2rI1bOd1Y/7bjZd/QP3N42mRrN+0Or8jZjwAmsM8iKV9cNdD/YYIyC37roUXzzeptWvcsOyAIil 74aTvt60gZ06WeCixHHoIkRtE8PiumRIx1pfE20KDf4/dZ+h5dmQDlV3qt1jw4cVliaNfH7ty0XV omD7bN8ZKiXDrFh0WOFffQmdkmyU2Hjy9vOEqN/5GW1hHQNXzgbR/Y13+2x/7XNZCjfVUA4ZDLE3 LusBLPMiQuvkNEmzxIVrVic33yUW+T0AGANyQiK2lG5bxAge10RHk+9QSmjp6llg+OjeGG3mZOg8 kBKCwzdbz0Y2/9O4jGxZQjYXK2Gc/+n3+LV8X45F2ws54uBw+tQ8frlNAJsenxAbJTYkMM5suJeF RF8Y2ji/erbjNJbltvR2fZ4D19h8CW4u8ePqDeIai17OEiPc8Zw/c4V5aGHiEzdNvUou0QUA0+f7 XszkANPleR0zORETLppKibCeoZbpBW769DumGKz8DNXE9MuQSNHh2r8Mc8ohxhi3qlDNF3emveKy YaSNE9vXowTSK1KrSePGiQ32bujZgE3L13Chy9SyIZ3SsEsLEd9ylpGuxYuvDC7R+m9p5Xa4tiHX 12OPuYFbx4Mf4rHHIIaQ58g31j49iADwoa8lfR1Jj+VQz+sm426yrnWPGgKYLImjloGYSkpIk+sc TKm0ZC3r6nNRCx3KFDMe3zLs+fAdh1qeCJc4KkH/ArtagE/ybXpBr/eO6erZziqsaIiiI7YUmgyd Oj9drJLi5fts1PIxut/u9FGS+L2B/7BOjGfD9fk22eV2+f37B8567odMguNxMDJ+lJfXCWyhJM77 9f94Jfb8CeDcH0Quo0WU9YC3whlkcjy/b+3bNwsMgI+a/V1qMCTj2EWfxt+nsYQY0lg3nVTBo3ts 6MRnn11jNfWTzBdHa430OOk6N8Qo9D2mymyUXcdlnoVL9NyP68HIj+2hUZqauR4bVY2K+fDmdKk9 G0QPRt0QBUcsLlHF72tvw3TriN7Npo2Tl3UCWcpsv2yKJ0WD3p4UIpY61zdDX4Ub3k+uyreqb/mS xCzvjBYwDB7AoARDEhwWQ7gO+tQ8Dx3Dx03X/TNKeFesruAxhJrdNQ2hSsVXLcrVxVxWpYr93jXF QelqVBspNojuy+AS3c8ky1JluiTuWNFeDn5PG8fzxd1qWZcxbxnHLAwsfB4Gq3Suz+jXNzhXmVzX stb7ej2Jrq6VS8xYtNiAgQBKMnSxIcG1ATaJkmVum0yqWdtoIjpSQqgYyzNibatNwRHyyvhK4KbS Z8Gx0aVvmSdvP09cBmMfyuFa3TJLxh2eny5W/3jbbOhblR7OTxc0X9w9upFYNzspNEJdxXXCtA6Z uHq24yx7qw1zqyKGS3iE0BUjZB5JjtCIuQGHxjom4xCAkuDaAJtC6Z4WpTwiXeWNSHvFV6kq1Zhv khMRqqhlkdO5vLTQ4KpdNfJBNtazwbz68nKlvHgWn43J2qXAXGgXXGp7+tLIhoepJ7cUF9JI3z7b DxoIup8Fr6fFhDXLY4kglwcjdJOM9djEELsvV4NFHgMATRmLgV7rehhDrggYH67nn/V3DXzPVv08 9eUpWLia2JUkxoaJsf18VbGajCOUHJ6yrVTk937/9Sea+gEAAAAAAAD6DzwbfzwbUtFZ+Qxtehe6 9mTEoPM4iNyzLDp525ecL6kVrsTExpjq78DkdA5PGV9OcilmY0EKQ/dutHGu60Z4uL5A35DPslAY cSnvh7UdrvjE+9UVp0LUtntKeTWIHnIvfJ6Iw+nTYCleqwdIrGelpBdL28DcJqIJSBAXaLHBSeKM DB/iMKshJZDXFC6uqgpWJSZZTcpCltWV5CZih4z6FKPBqgrlG6uV23H1bOfR/nzhXzxGF/rY+j4H IMRQO0s37T0RWt8qYJGyPgBtEQoJLp1UrrfBRncoOdpHH8QGExPOxNtziQPf5yzKXMnisbZb0xAq XRKYbbHS1ag2ss+G5Hr3ZsKCY6VCZ+vL8A8xNKFB9BAz+ffhP1XG7rthWUaLK4eDX0sjXhrvMaIj xdOQaiRY27VySnzLWv1EiNYfArEGjF4ORg9ognX+hATt0LH6jfh64bg+A6AmqVWedNl2bdCWmA13 CRvuF3FJj70bmtR8jhKwYZ3bc0OTk18hx0J/enTosdyPMW671ndJ+X56uaaVNl0gZ4MeLmLdZ0Mb 569/fXdWqapZfqwp062jokJDVuvS3b6J1jtey2pTTQwWuQ/ep963vEia3FD/PvzHdEXzvmSlqlWD yLP96N4hcvtyW5d7x9EGTI6hM0aDEdg0+a3l9aq7eveNpmOT9yffNWV91ufjAsaL9WzzlXyvlTCu t8t/61l8q7Kmrh4VS6o4kRWe9GuNrMIUG2oWM/ZcYZOyjq4g1Ud7FGKDiE4uZpPD6dNH3bT5tbyI X//6bqrQsSO/oxQuH+cvvPkX0ljhB/brX9+jjGV93F3CJhVZJpf/lu9/nL9wlvjV68v/Y8eim/dZ +9ANuGLCPULGD2ZiQSxDMqRrj5W3X2o/tcer729gHd/x77O4dpV3J+qu7KzcvzbWJZa4yPFqpHoR ZHh8zHLyNYcyNfG+yG35xpBbbraW7VkihEqz8TkbzKsvL5fyx/Z1ovQpyK7K5baN7DjuytmQsKFr LcuzqFYehAtffgSRu2leDE1iWn2hXLGNj1yhHb4OwOgOvDm4jKHSv3tfjS4fQ0jkbqOreOleDGOi T13dY/Aldjd5zsWi92sZ8FY4Uag0bFuFcFwGechWsxLdm47Bl9shBUlseFZpsVEyX4MIORsm17s3 E/rr+ZLoT5gQ/UNE9wa1DkFyVRjYBPR3v79xrxv8lmjQFahiRAWLECsEa5Vw/ed9n5GvY1hjcNUQ DxHj3Qgl8b3+9dg7pEPRkBS+mQxRAHRFbIGFlG3Ia7DP1xuERpg+C1JJ09+yafUp/Sw8dIRxXZLb LrIM5y6ERqyng+HvPl2sby+nQSCHcVnras/H5d7xap9MGxE0tfI1iBBGtUbIZRYTPjX2kCq+KKx8 Ft/fuiu4632Z7+ESGkys4ZVys/Z1SLcEkit/xCJmttH1uUtcWPHmMEg3E5lj0TQcRK8rr8u+YhVM cOVjxB4f37WVe3yHYOCOmZgcnT6gw6ZCgsHyerDQqCE+tdG8fbZvejO6LONvhUfp10R2SBeHNlkh UL7cD43cdopIkdvWXqQhgjAqxYc3p0uih5l4mTSuVa0ryWgT0Inyvo7XMZ9by8aWgdXr8bquTuI+ XEl2Lnw5JLqcL7+OrTblQnp8XOv2/UEK8kkxcn3nQeg84f2keiTbJLUHTe66KdtwlRG2RAuuU+DD 9QxKqUyl10n1ckjPiGWk970nmI+UXhVNbbtQRIzLnpTvcx5JiXA5XzpAjTAqeDYUJxezCdF6MjNX oYpxwY3ds8Gcny5Wx8YqYZuLTM72GVV633q/sdU4ZDUovWzIsAp97urFwbNUeraqlBEJA2Z88H2J KO73ld5BCxmO5/KE6P30TWi4iPVYlN5myrZr9jRBgvh40M8nies5Yv32ubPhofW00ND2D0eLxCRZ t207xYZEpRw73/cskQB+OH1aTNxxWFdbxx1iAwAAAAAAAFCFzZiGT8SKcXz96zvNya9ONyWEioiT 6B97FGITv4nsWb2H0A1yLhPTRI/JqULF+/04f0G0564sRZEzqDI53krW478/zsMenVAIFcgjNMMc E0pU6zdhrwb/z6GeGtd1cXUYN5NuFWSwvJZ98HD4crlq/A45IYt9qRCH+8XwcVWi0qHCum8T09TT xfsKhU1ZNhA373PN+ncZhsWJ2K6Qovnijhb053kfMc6YjuNcaSo32by2J6JG2VsieDZMrndvJtbF KfMUxpIc7mpSGIOrU3YsOV28XeVxYxK0NVbZQP4X+h7WMjpnxCcsNDz2GMMAhkMZ9O8dkwQdOsdi k7NjwmdOLmYTGT4l33/y9vOj9335UjJHwJUcy8vI49FX+tDzoul1WOs61qE3uF8MFx0mpX9bfsaU CJuLCRdy7SdWSHDCuHyf1y09WRvTW8NVGco1Hh6rDA9L6cMxX9ythIYMy2/Ddow5vrWEBhESxL28 +vJybQbx6tnOWhWmTemx4RIkllfDNfup349NoPTtT+/XV/5Wom+quixvCq4+H7wfa4Y4tC0XMBrK EBJ8PtjI//DmdGkJgS748OZ0Ka8X37lmFV2Q51XIaJHHqGtPR07eRdNrSHp+UsvnojcOiCGUY2j1 anL1b/Llb4SSz9kj4dp+rEfC5w3h7Zf2bmhjvoltxgnZ0pOkj0fM+PWx7COlxYZMEIfY8MBig08u KTbGWInq3Wz6qKSt/MzCCi9xeR+kcZIqNprOslqzNilCwEVMNarUbbiAQZKONA6150kuQ3R/fPsi IHL4/ePT0vqumtAMZkwFnJhGnrXJTfIudR1pweESINY9rkRlLDAuXA37tGEbEiNye00qUPnERoo4 6LJiVWyoks+ei/E6xNp+fY5+qeHVQDWqSPTB5we4r0RZn0+mGFyi4vx0sfZPh1lIY8MnNPi172Er RUCtcI4SQkOub41TiiuXMdaH+Pexw7/11bMd2j7bp6tnO6tQJw5JevL2sxmyNCT4Ozx5+3nC35Ph kIGYzrRsUIREiTyv5bXaVvhVai+R2ga9a/uy5wfRY/ExVKExtn4+KedTze/uq0All0ndpu993qdc 7nD69D6nQdwvZAhUrK2jczZSwo5y0ftw9axgtFjQPTlcIVcp4/Edr9htD3lCG56NADqUauw9Nizv hvUef3/dS8JCzrbK0CLfLGBpg8WayZZioKv4dHg18omZMZafyc+tnIex8fvHpyXR+rUk71GpD32e KWVjgycmfOGNXWF1+i6dKG1tL8bb0WZiOzwoafQhmd4VEiU/j+0K7gqrcnlA9DI6fEgKj5DXIBQ+ VdrbwdvksCmd6O1Cfg9rndjwJ9f6LltR3n9lwjhR867vel9yHNa2a+VqIIwqASk2Ytxq8oQbovhg A8IVTiWXkXkSsc36WGyEwg14+RAx+Rcxcayl0fkrTQ2yrh+AtYgVDPJz3zLWsnqdTRAakt8/Pi0t wWGJjRIGgI6Rfjeb9qYxYO3ryBIbct85520NkC/SX0Jiw1ouJ0xKbscKt/Llh4Rsm1q5GL79aY+L y17zNbOzlrH207Sxnj62WmyURJ8f1nFpQ2wgjCqC692byfXuzSTmZAi564aGr1oVGw2W8WA9wDh8 RWJV70kJxeCLKLaKlAsr1KmUUdTnqj5do0NM9GcxolQv7zL2OFyq6ZiHhhVWJeHrb7p1tHa9s+s/ 9T6mH9Tnp4u1UIQS10Nu+FHT8BdfE0Qel1zWJzx869ZmyOFbfUZWhso1RkON/ORy8r2U0CprO9Yy rs9C9wVdcYoorcFfCnJ7srKVa4w+gRESUfI7hcJN+X3XdnX+S4lwLT0ern5lhcnx65oVqCTwbARg z8b17s1Eh1TFMFTvxutf351j9wkQ6eUIeTxcyeUSqcpzw518ia0a7alpIl5KJocTjWsG0lfVJ9cg tDwjmygufEgvB7vyY463z9OZinzY6+pWqdeDT3iGik+UEispgtjHmK7vTcUKQaqxbd8+m6L7dsh9 SHJsm7aSxWPK3uZEoPiEktXzhJFeF/078d+xCel6Odf4rZ4echuL24PqBVHg2QAAAAAAAABUB54N gVU7X3ozrndvJt/+er5MCSsYomfDoknzP6szsSTGkxDyFPg+zy3/1xY18zbaSHiM7c3g+v19ng3r Nw0dL3gz/HDi+Pnpgt7Npqvj75rl0onmpe9pTe4tLkLnvJU4HZPHkHr+pgDPBmB8vTRSCHk7XNvX OQWumfec5PDapJSqdfXgcHkNdFK3/J7yM1fSvZWszdsKjZ29MbHJ76Hj0Eb4FBLEM2DRoX/oEGMQ GzWMAY0OoeBk8pgQKqvRmKSk2ChZJYLRxrOupKNf16quEwv3nCEKi4FQWJ31u6cg14XIiIcFBFH8 ceN1+Jyr0YiLKC9XyhKyKYKh6Xqh4gYxy8QIJAiS8RLKo4jJ10h5NlnbCFW6KtUorwaWIa6RBnvs 9iSxie863EqLjVIN/vT45DFwHYvts/3W+kkhjCqBV19eLnNyNZgxJImnIg1G+XDUrz/OX6wlg8s6 /dbNViekpxglpQRCLaEhEzZdxgi/z8mpbRoenPj49+E/j3qq6L/lb+r6zPW7x3L1bIeud29WPTIg NNLIOW56+VqTEKFzITZHIrUPh2vbTSmVjA2hUYe+9QuJFRr8OrUnRyj53PeM02VitX3Tpb2jE6M1 /F5KTwv+jvy9UidYpltHj4SGa1/bZ/vJCeKugkQyOV3TVYQHxEYCOUq+b+q/FNYD1DISrGTMmFlA Fz4PR+qseMnkvaZIwyjGqKhpeLCwYHERc3OyRIekRLM3rgrHIqPRxkA2JxezVQNEOYPH4kMbIe+/ /oz6rWKrsYSqkYWWtyY9fFXMXFiV1FKuS2ufKffErsJUxkZfRFxMBSr+27onu+7TrvAo13Zi4Jlz fa12+Uz1XQ+uUCmXOPIJqZjrToZFWfuWFajke7mNobXouNw7djYSbKv6lAZhVA7YmyEvzpT29cwY xIZrBjOlbrxrOV+ehbwRWqE2upeFa3t9z9mQdN13w3eMfD1VZM+VknR1YwRhPrw5XRLRWsyy7HMj f7tvfz3P8g6nek9CFaokPu+gr0qabzu+nA5fKdzQWEtXNgL9J6VpXygvQ38e8p649mMZ0fy67d4a NUnJ+2BcPThkOJM8jvK9mn02LNp6riKMKgKeQR2CgdoGOeUdcwxiqw60ZdzKUCrfjDpRsxmcNsgJ CyuF9GK4jpHVg8RClzK2vlfMdqQHI7gw6Az2cLz/+nPy/uvPycnFbPLk7efVb/f7x6cl53nEejc0 56cLOj9dRHvGSoXEuHJAUnJD5JhkCGTsehIIjXGj78GWOEgVCBbWdlwldX3nnMw92D7bN2f9rTKx pQ1qPXvvms2PXZ+JzemQnojLveOVV0Hvg8g+vtwHw7fPmPCvIdwf4NkI8OrLyyUrTyb2ZB6DV4MJ zTDmdgjm9XRyGl88rupVvv0MqYme73uyYWN5DZreXKxO6xa6kpQOX/LlM8X+PhAV44SFhj5ncr0c Er4fpYY+yXV0hbwUz4ePmN4fMZ4QDbwb46ZGtSleRm7fdw75zjFXknOqJ6NUpSruI8E02aYOd6rh ZXCJPCK7q7lOZtev5TKpdOHZ2Lzs5Q3m3Wya3ZyLy2TGENuc6+P8BW1T+sN8qCLD92D4OH/x+LO9 7/T61/1LK3QsB64kFSs0pKF48vbxMr6b1hO6yRwlGANWXs2rLy+Xh/T44Zo6McP3IykIXF4H/Z78 2/dZbqiiK5RL79fK+XAJlVXp0T9hGqAMQ6jw1aQCYsy6VkUrXbZV/s3XqyyHG0upczc3YduFz6tQ ItzJd+1un+3Tgh5K6RLd/x6WuNC5MkMqQIQwqkRSfty+nQhNuwDr9a2btA65cd3I5cwe/7PqUsuK RRpd0Wj7bL+1UKQSM4wpbmvm4/xF8r61iz5GaCAJG9SAxWlMnfgQ1v1M3m9e//r+SDzo+5FODreS xX3klrG1hEZovdIGFojLO+wbMhQqVkjEfO7qDSE/0xWfcmycUiHNtSNH9Pb1dRezfy3S9GfycylE WFBID8bQI2UgNgAAAAAAAABVQM5GAJ2z0cRbMSRl6gu5coVTucKnQrNHVuUVTchjIfdthSRZM0Hb Z/vRuQsl0C5ty0PBx0mPKcWb0WTmCPkToDa/f3xayrDMJh5XXeUlVPUulCMlP/N5GWS+R0638hj0 tnXYiiskZYpQq0ESUzHKWt4V8uR6Dljei5h9yUpKMl+DcydSPG6uDt1trZ+7PyYlvyPmmtXo7uRy X01zS9p8xqMaVcsM0QWmDQB5kVjGgRYaMXHIVrhCrqEs960bz4WWt6otlQ7Hio271ccjpmkT06Tq FjfJy1oZbDxcBjcWFhpP3n5eVbNqsn/uCePq/cPXs6uXhSt5W+dZ5DTU1GFaKetp+haaOyT6Hi7F 93ktFnQ4k08g8HMmVrjI58t068gpGHwhRZy/0SZ9salirkeZb8G/TWyvjlAvkFS6fMZDbESQGyM7 xCQeF3q2TAsObZyHPBmuGvY5hr/VgTrkrXj96/ujGyTvu0beh3UzlsYLf//LveNoT0upkr7IzwBN 4SZ/KehzLkdwaKPDJQRkbpeVJ2GVppXbtBLJ2+5Obk08WAZiqWo/Q0cfg9jj34dS6fK3tiaqXAIk Fxm5YW3LmpHXgkOS06eiBLU6mud8P9/y8m/rtww192MPh74fWCKsL6XkEUbl4NWXl8vr3ZuJLtOY 09Avp9pKX9EPMhlSlVKFiklpdOXDCjvii/jq2c5qH1yNSY/XFeoll7FEQKiyU9NQLR57k4eJy62u q00B0AdyS+NaIVWyiltsA7+ce1CMIesSQqmeEtlE0RIVCKG6Rx6noeDyWoTeT8XXs8NqVuf6TMO2 ji/MqUQIVEx5WOtvIjKb7rm+Q+1yuK4xuMbiG4Pr8y5FBsKoAnDvgCZCQzI0ofFuNnXmZeiHm1Wh KlTRRc8i6tn9GLTxzh4Jqymga30pNOT/ervWa/l3jMDK9ZZYHpgUtNCQsxwQGmAsyHuznO3XEwX6 WrLuRZpSzQR9lfms+1/IW+TyXvjCYcZE7bCorr0bjDWOkmOL9YzEVJ+yGtDJ5ne6dGsOWqzwuGKa 81nLxIYq1bLjts/2aXF7sPonxxPT0M8aK9HDs778iPOAZ8OAxYaV9DT2hn65SZu8nm6452telYvV 1E83B5TH/91s6vRc6PdD47VEjutz9nr4PCNyOYumNdaJ7h8mfbrpAMDICZ33X38+8iSnoB/Q2uvq wnevCgkNff3nhkq5ktLZEys9synPlr7O6rfV3yI3Wb4vDRRjG/HVwDWr7/IEtEVTz4jl2XB9B+t7 l/ZwzBd3qzFZRWRcEweWuJBNdvvwzIdnI5KaMxt9zeNgkRHbwE+vR5SWv5GDK6/j6tkO/X34z6Ob xvnpgi73jlcPN21A6BCKVA+LzBfJ8WBYBk1KYriLy71jOrmY9Wp2AwCJzNMo0VlcXvvnp4uoSROd x2HlgGliRUaK19baxvXuzUR7ZWKeHdLAlsZKX2brrZy90DHKyZMpJbZqHTefV8HqbWGNhZex+jbF JIbz34zuEM7v8TK+ykxtELs/13XiEnAykZv/WX0ySienyzwZHa4We95dPdshKTT6CDwbDviHyy1x 5qLrCzUGKTSsqlQ+F32qSCmF9lC4xq3Hl+p50aLC8nSEhEdMWEbT2FwIDDAUuBSuC1lmUxJ7L431 cOTga2AaU/VKltC1tnNyMZt8eHO6tEqvxz47fAZ3mzP4nEPjKvmtj0dMw702vCO1vDCljr1V7ja2 6Z8PS3QQPVRJyrFdSnlBmm6HhYT2FFo2nvQ2NE0Uj8UX0eALZ+P1+vL8l54NiA0Hltgg8p9cXbsX a+Drt+FicXuw1i8ip/dGDNojETtOOb4SWKFT+m9fuJWFL4FPo8PJ+nKjASAGaUz7kp61kRMTo63h dXyhizH3cbkdJtSXQ+MSJ1psSI+PTIKPzcvoSyhVKGHfVyI9dPzaCssqSWyPi9jtpBIToiuvNVki N5eSYkOOL3ccMUngfK357gNt4Zrk7OszH2FUAAAAAAAAgOrAs+Hgw5vTZYyLTeNLNhoTIY9HqXCq kEtdvh8KxbDCqErgS/yWn4fK5DI84+TyblieIng0wBDRzQD5WrfKlupQhpyQ1JL1/6V3I9ZTm7Ic 0UNFKvZuuELKfPTBs6GT7lMKiFjHbGhejJqUyiexSqz22Y5pYmfJrufyu0rPqs/r0XUPte2z/aze Rm2DMKoIcnI2NH2+UNug7fyNUBgVC6Ra4yoVDy7d21JwyAcuytaCsSAFh47Zl1gVZOTfOeh7QW4V Ph5zTqEIVx6HNCZ0KFXO95WGVGkB4so5iV2uD7kZQ6Wp2PDlAJQMDS85Cav7bPDrpttLqf4UUwq4 JkOYXEQYVQTXuzcTVrqpdK16+0Lqg/vj/MWqMoyvT0fT8aSOKwaerSvRfdx6eJxczCZP3n5e/Wu8 EwB6wsnFbMIP+PPTxcrw5H4Rsm+EqxJMqOOuCz1BkDoRIe9TuZMNLC60wGgyLos+9N6wKv/FeHpy KlFtCq5qVET53j69LbaDuCdEDiUnX0vYWLL6FKOfvdYy8rNNn1BOAWIjQM4NukTjmiFQY3aMy9fq h0ufZ7Z0AngJwSEZgrsUgCbwvYS9j9aEgO9+mnu/nS/uGgkOXbIyhLyPuSZUnrz9PNHX/JO3nyc8 Ll8Ts65ImSDq873cRV9KBodwlXNNxVVmuS8NI0uIDMszwRPMlrfEdX/pws4bgldDgzAqD1bd95ST fKhiIyUfQ8ZXx2y3JjEeizZCu5qGU3FuxxBvKAA04fePT0uiuGu5ZBnxw+nTR5MEOWPw4ao6ZIVN ueBnUtMQMhk2UopQXkWJ6oMyvK52BSqdZ+IqJ9uH5n+aEuKo7/ZLzjWg1wlVudPvucI32xT+Q7IL EEaVSeoJ1ZeZp5AHIiVuWS8b+wDhLt4l0DOfsc27eNnaxHg2Qg+o0t4RAIbAx/kLOj9dmPesd7Np tcmC+eJudR/hfzH7S/GoSANQG7IhofHqy8vlhzeny1LPlDYMSfkdS4ZAubqtWzSZhZdhvdb9WoYu yeZ8ffCCuJr8+YiZxe8bOQV85P+Xe8eNvSR9sfP6Do6Sh02JyWtigN/PNoW3cf95nRyMnPVqJonr kCrL0xFwb8jAAAAgAElEQVR6ICEvA2wiJxezCb05Xd4blNPVdfD7x6clX0fbKyFyfw2trrdZ2ckE 3lZMryE54xmqOsfGMs/M+2YqX315udw+2yc6e9iP3F/TajylcImJrkQGUzrU13XflqKjT56OtfNj 64jo7MD77BmKvaMN/NxrQV63rvB3WaFLV+sC8cCzAZLQHgV+AMTMAjZ58JT2SOjtlewsvDKK/jx0 UhLHt8/2i3c5BmBIyGII/N6Tt58n17s3E76OpltHpnEh70E1PSEWMV6OlNCfldAgO1a+D4Zhm0nb NYqGuJAGOXst/j78x5uMTdTPkCoWXFp4bZ/tN6q22TXaSxE7/u2z/UeJ39Y29Ouur7fr3ZvJkEKo NBAbAAAAAAAAgCpAbDj48OZ02cdZirZY3B5E53rIOGcfTcKe5H5y4ZmK0rOdckzSi5Ey6yc9H0Oe vQCgJlyp6d1suro/cVw90UOITUkPR8o9h/fj82bqnhouaj9/muYWyHCwXF7/+l7Fk9skV0Mel+2z /UcNCIeE7K3CsEdDl5PueuY+FumVSO2xwcdDe0VS9gvygNgwePXl5dJVb3mI5Nx4Lbd9W2EJ1sM9 tN+YcfGNhR9uWiTIz1LGZpGb4I1a8gCE4RAraSSFjEHfPYLvbW3c4/geE7rWa5a8lgmysciS5KXu U7UKYTTN1dg+2x9Nbw85cRhjC/TV1pHCwhJILuEgRYn1/aXw0Nvrw7EYevgU0/2R7DF9qCddipgk x9B6bVRyYvS+SnpN5ou7Na/Mu9n0UVM+mRyq96H3lWuccKdw3ufVsx0khgMQycnFbDI1ypMTPQgP NqZ9nYFLiAtXRb+5Wu6cFkQJBszJxWwiO6yXJLdpbQqyo7osniFfxwoO+VvWxlX21jUmC76/dxUh Md06Mj0bXdk1TfMefGLC93lJpDBZ3PqT7Uvx6svLJcTGCPn21/PlIa0nDA3Fvejjvh+G3yCPeejm iJZcoVMDKTKY89PFvVEwu3+wyN/bEh2puLwlUmgAAJrx9+E/j8rmSkNvcXuwZkTqyYOm13hOt+Yh TS6Ewr7kMvqex39L8ZFC20UzpMDYzqyi2FUJXBYZ8jrw2TFakNSyfbqyo1aiOkNkSe/G42T6dn7f MQgNIoRRrcENpXIvijGIEgsdXmA9lPV78u/Xv75HhSecny6cD5VSoQ2+vA9+33KdNhFLV892HlUx SalQBQAI83H+wjtTrw1lyxuRmxem7/2u+5W87mOFxsnFbFLDA1Fjm7FhRyniwdXnojYxYsHXf8NX taoWLi9GyCswZGrnm4zVrmubjRAbr768XPI/1zLf/nq+9D1krDhBqx6zXqcvlIw9tY6TfE97MuaL u7WHixQVnCDYZblXaRjMF3dJIiBXBKG8LQD10T0tmKbFJkL4JjRy9tuXkN6UJGndb0gTuu/rUrdt GO9aYIQER9+6iccUdtG4zq0+2S9NaXr96GPRVlL9WLwaRAij8mKpflcdZqavF2ipB2toO2x8Sxfs u9mUDn99p/PTxf0x+3PcVuFLAldDnTYNg1AH9ZyxaGNn+2yfSFWlGVJIBQB9xJpUKVE1KQcrXp6J vda/OXJSmtLEq8H3K19YlczHkILCanjI+RtdVXsK5V3E0rXQ0PRFoEpSEtX7gBVKlhteJvPGYjxK YxIaRBvi2QAAAAAAAAC0z8Z5NvRM0cMMz7rStjpLxiYA9tW7kUvKTP7Ke0H3x2JthmuaHjrUt2PZ 1MMiZ9F4Ju/kYjY5edtoswBsPPfX1kO4Dl9fNT0a+n4fc/+/f+bMgtuu5dUgekgiziUmWVyiE8SJ 1r0cXXs1LI9LyFPRVQJ4iBSvge9cHaMtUwp5bGJL5F7uHdPl5pncKzbmm7suGn1h+k6a2GSqTbhI feFEusyh9XlfqlM1hUvn+pAP5tUx+VOxZWyuUgBKw6Vfrb4TvlClNsKmrFhuiVU6O6Z/Rk2hURrf vT5mva7y16ZbRyvjT47BJzJ8AqPLMrcS3zURS63E8VLhU3J8XSWH17TzxmgXTP77v/9bEhH959// Gt2XY159ebnMKUuo8SnYsYsLFyw6dPUpFhSyhwVRu706cih1A+HjIWfstPGDHA0A/MgeEz4jXS53 uXe81kvHNQvvuhdZ5bFT4Rr8uUZDW2Ij17vhMrpdieAhShnpPC5fDxHX2OUYfMIhZv0+0MSwb7N3 RQ5NxUaT53wbFbzGIjZYXxBtkGfDR4rHAtwjxYUWFPw/L5MjNFJuBvp3kc2U5A1XPnx8N2I2FLS4 jB2PFho6OZwI1agAiCG2i7Zsfrd9tk8LIlqI6hP6+vv78B/TO6vva0R5ouO+4EO6wTAkj4bE59mI 8V6U9Arw728hvRmuMfQ1PKoN+mrjlJgE1N8tR1DlHh8+r/rSlbwLNvNbU/xJE+PN2JSTxwoX0p23 9WdM6o3icQMdP9e7NxNd2vhxjORDB1oWFPyAm24drapmyYeN/I15HK6Hpz4GvjCOscxcANAXWHDE 5CPo0B9XWGiK0ODwlfdff07o68/4gf+hC6HRNHdD4wup0p4DjXwvV3iEQqDk80AKi9V9PtClfOxe DbZ3+ubR8NkDpYWIr/pUrliYbh0Rnd03FpTnnWW3jJXNsJL/kHNS+oTG2EWGfAD78hKsB0zqzL1M JtfrWob5hzenSz3ryctd04zo4j58Tl/M17s3k2uakXyPhQbRupBwzWxyd1l5w/j949NSzp6ykFl1 0937TkQ7CJ0CoCInF7PJCRF9eEPeB/j22T6d/zHIfM1KY3n/9eeEaEYn2VsoSxMDrKQA4Xui7MLt 601Rw6sQ8ppsn+2vdZf2LbsJE4x9EBo+r4Orq3doe9prlfJbNgkr43WmW0d/xvHwmbRRxi48NiZn Q/7d9IaRG14zNFhsyBl9F6FkPxlK5Trubc/2c9iF9EB8nL+gk4vZ5NWXl0v5fWLGps+zq2cP4oJv JiXHDwCwkV6Cxe3BSvTre5gvjIro/r7mu7/fi4wydBlCpT29Mcj7pq4yJd8PeQn05673c5Hbc31H l1dFLl+qH0cXpHg6SngKmiapl84ZkeOxbDdf9dFSwjJ0HrF9YE2kDhWZs7ExYkOfRE1PoJSSuH10 S8bAD15+kFhiIhSP22cD25pFaDLeD29Ol/JG0ufvDsDY4cmEy73jahXwSomNPuRqyNnfGOOZjytR ntiQ+LwpMh8nFZ9wYeOThRaT6mkZk9Ag6k9yeE3BwdsP2YIlBIccvz7XXIzFdpBiA039AAAAAAAA AFUYb+Chg1K5FqyKY5SvVralak23RWoN9aGo8tLjPLmYTeii5BYBALnwjPh8cUfnzvpEeZQMn+oL PEMfWwJ2+2yfPpK7EEaKV8NHrleD6LHXQYbSTP+cEmOtEjQ0O0OTk1/rWuf+tz1e/eZ6P67fvuQ5 wbbfpjb225hvXeNGktPk73LPPuGHCj9QxhJj2BTkZgDQH2oYXF0LjVoTVlYoky/8iPk4PyDae8ht +Xj7gqZbRzSn++pOrm34GsOWwBWaZcXjy2d5KMxlKOVxhzix2QSfOHEJCp2/UdpOtCpb+Riz7bBx YVTsjWg7HpFLp3YdB2nhugDOTxePHgZWmdsxCI1SVSDGfLMAYEj0IQ8ihpyZ+5LlamOZbh05jVf5 XJO5EDIp9nLvOKuru89gtsYk968pcdxKlOhtC9/3dX3WRxulBPp7uexA+V6TY6HL5m+S8LPYCLHB BqCr8kAKUqx0IVpKIftGhL6DFB2vf31fSwbs+802FogEAMbF+68/J9qgamps1vBqpBohNSd35Fhi Z+9jxr99tk/zxR29Fn2MPs5fPPo99D5jj40lOKx15fZjZ7G3z/ZH8Zxb3B6s/hGFj+1QwsqajFOv K/tplNh27ATz9e7NZOw2yEaIDQttaKfUa+Z1F7cHSc0Brf13RapIsmrQX+/eTMbg1QAAjBN9fxpC +IsPFjuXe8dVvRt/H/5DV892Hh0vaayGYINfG7VXz3acPU1cRr3clstI1p9xGJF8P9eItPaZKkC6 OvdSfjNmSBOpTb0PPg9HiWNghepJxi4ymGFI10K42tVbn8WQkuyjFW7pCzkn/jVlDKlN+gAAoE8s bg9ovsgPZeg6V4PoISfsevdmsh1oXJjLdOuIXv96/Fxjg/Vy7/i+GzKFZ8cfSn3ed++WJYinW+7n VWi7sR4PnbdwH9r10GDNhYzf5zzL2FwNXxhXH9i0cJ6m4es1GzluitAg2pA+G4zuJG293wYxPTpc n+Wc8Kn7cC1rsUkXCwBgeJTI3agpNFLGp8fx4c3psrTxaDX4s5KtY/YrBcr22b53Hbn9mgbxmmhy EJMsHNuLpGkIVsmO7rw9kE5psbEJthP6bAAAAAAAAACqs1Fig93PWlG6knNcMxI5sXwyycyXmF2y a2YosS1lH0OJ3wQAgFK8//pz0ofwqTbhfA2J9jroTswueDnfc6hW1ajQmEL4CsH4vg9vnz0nTXM1 fMfCl8sSk+cC8oA9lM5GiY0QWnS4bhIySTwFuT19A4mtXBB7kqe4bnnf8h8nlcn3GJdoAwCAPtCk EVxbpIyxTdHzcf6CiNzN+vSzK/RMChm7XRvCMc/KlEnAhzyV9e3nfs8csWAtD9FRJhTKKiqkRSnE yGM2KkE8luvdm0ntPI7LveNVcrlVbi3UoCZI5k2FBcQ1zQbxwAYAAAnft/ge/n73ZtLXnhv3Y803 AE8uZhOqkLcRS0reX8oYaze/lWIg5HmwCsnIXAyZbC6FixYxud4aWVVL/m2VsXUd49hyt7HkJl13 3WssZd8pObXyb9c688VdVL7QWIHYcMBGdynR4Tu5uiqDq70V+vOTi9mELtAVGwAwHPheK6sHpVTr azNs6uRiNpn2TAixR4M9HIxlqNY0HFPKyrOxp43+kHEtJ/g4gX1xe0B8psj1Q0nj88UdLehxUrhM 8M5J9rbWCf2tK3DJ1yUER+7v7luvphDJ2XZKR3JX6Vx9vvBvuYn21EZVo8rhw5vTZVcqtMaFp93B i9uDUXQABwAAIqLfPz4tn7z9PCF68HKcXMwmr768XLIAcd1b382mxOu2RYzXxSeAeEKs1PNC98CQ osMq6ypn9puMIWfS7erZzqOy7NqjoPNLZFdzX1lTX/Usl3Evj0OJvJNaZXQ3PZwqBst7waQ0iNbr HU6fbozYkNWoIDYiaLs0LhO6ccfe4H038e2zfYgNAMBo8d2/5b3z/defEylULD68OV2Wvl82FRtE cYIjZXZ3cXtgejgsw71kaE4qnMj++tf3tdeW4JDbd/XMcIXGxBr70qsWC892ly5xG9pnLF2HPvUB l60l3485f3n9TSk6gdK3iXSlQkOJ6DF9OHzrowM4AGCT0EYg3x8Xtwf04c3pUocOafp6v7SeUdJw DXUx1ky3jujj/AV9nL9wVjSaL+6qzJBfPdsx/1nLSdjDYS1rweeCr4M0M906us+zFBWm5Hfn4xOq AOnDJTRKJ3anbmuThQYXySFyCw39GthAbAAAAAAAAACqgDCqBNhVLWM+20ImwVloZe2KRd2UWEEA AJD48u90WE2b98lQGFVqyMW3v54vfTkVJXs5lUTnijRFeql8z+qc0rSuROu2wqCakuspKZVgPgRk Ur++ZmJDpqw8j03Kk0XORgO6Ehyx9b11bCoDkQEA2HR0OW/X/XuoYsP3fOqbuNCkiA2Zo5GyLL+O rUxGlJ6z0LbgSM316LtY6KMYbhImpfOANskWk2IDgWYZuJLLamJdgPomyLXJU9Q3AABsClyVqutx 1OJ692bCSexN+iTpvgwyYZyJNdhZRLiWTylLzHAVqljBQXQvNOaLOzqnh325IgJC7+n1dX5H24ne Mfvsu8hg+lT+VhObCC6Xl/vfJKGhgWejAG09vHwJ4bECY5NPdgAAIHq4Z/P9UIdYlbpP+rwW7LGI WSYV65nU5kyxFBCWx8InLg6nT5NEhAULC71d33Oy9PGpLTh84sHXdwM8ECtAQueOD7neptlfqEZV mOvdm0mJk8jVgdJVLcNa1hpXqfEBAMAY0PdDK4b61ZeXy5oTSd/+er4s3dn8w5vTZROPRgnY0H03 myaFRsmO2Lp3RiohD4XvmToEUsVDU+ETqozZJTy23DGmlKzN8WrIcY3ZqxoCno0K5JxQLvdcqI55 qLRt6jgAAGBTkR4PabTnJHR+eHO6bDKj3KQWv34Gte3VCCG9Hj4PSCqp4Vgl0aFn8r1apDYdzKXP vTZiQuFC68tmn67vWlJsbYpthpyNysgTKVZ4sItNL3+5d0yX5HfhbcqJCwAANeHE6muared3XJTZ fm2jjQXSJbWbUyg5P104Q6dYXHAxEykOLAFi/W3lj8j1u4LzJmTFJlcH8BJ5HbECYswhVCUFwPbZ PtHWkTf8rgmWfbdJIIwKAAAAAAAAUAWEUQ0AqYbZi6EVMrwbAADQHzgfI7eUZ04YlUx077qnhvRu aK9DTgUqyRj6PeR4Nrr6zn0Oo1rcHpjVQWPHy2FURI+Pr89zklqZSno2NsVeQxjVwLDcbzmhWgAA AJrD4UquXA4tNFxIQSGTxe8N0VnW2GSeX5cGok9MpAoNLS6GLjSYNsvkNqHEeWTltDTZFudYTLeO 6NJjyob2y0IjldQQrldfXi43RWRYwLMBAAAAFIInf1x5drUMjqYJ6X1niN4MPWbfd4gRHUP7/rnE eFJSqkjxcdfCw+fViN1HiE30aDAofQsAAABUhA2b7bP9VanVmp6GWsZSX8g1tDmci0vxppbkbcJ0 62jtNwg1A267WXAfsYRG7nnM6/HvcLl3vDrGcps1hQb/v2lCQzOeOxEAAADQEy73julk9+eEaEYn HY2hr3H2JQgJBl0Vq8tqVWxA+34Pl9BwVbSqRR89SE3OYz72XN6WiI/l/evLvWOaOk6N1LwMuc6m iwsNxAYAAABg8OHN6TK1x0YXRkaT5oB9NC6JHsSEq5Suxcf5CyKiVWncHIFRMreAKN5QXi0nvCFy 3bZ+o67PBdfxKpWkPl/cEYk8Dy55y/twjSdWdIzJm1gShFEBAAAAAAAAqgAJBgAAABjkdA5vmyZe DaL773hSYDtN8HkucvIrPs5f0HQrL2yqDxWixhj+luqZsDxuOV4DDmvaPkteNRuEUD0Gng0AAABg g3j/9eeE/8n32h5HzWTtJtvtOpRojKQKqMu9YzqcPm3cK4ZFznTraK3MLW9P/tZyH2MUfF0CzwYA AAAwIFK9ELL053TraLX++68/J216NJo28wvBuRpyf0yXCeJMn5vjdUXsMVncHtD2WbOKXTLZXm4H eRb1wREGAAAAOkQa/6W2yaFA96FgM5r+9Xw53TpaGeBP3n6uLjQs70JbZWdd+2XRUVv4uCghOPqa 1J8KG/l8TKxj81AR6rhxAz7Z8FJ/Zq0DYVgONPUDAAAAWuLDm9Mldz+2CAkOKRB8BpFrO79/fFp+ nL+gvw//WTO22cshDdmmBldXwoK/n6YP3g1J0xChMeCqAJXqbZClbS1ie3ekVp/SIF/jAdnUD54N AAAAoBKPvQdHZl3/xe1BVEI6iwHLGOL3fAbPk7efJx/enDo9Gq4Y9li6EhgMl7/tUljU9jyMZdbd 51VIJRReJYWdb/v6sxzhAx6DIwgAAAA05NWXl0uixzOsh9Rs5vrbX8+X0kvB1aPo6/3f7+XCX+O2 eXIxm5y8vfeysFHcZu6Gy/NQiq5DjFL3PxbxUIKc7uEhr4beXi0BAa+GG1SjAgAAAAAAAFQBYgMA AADI4NWXl0v+x+/JGVZfN2QNV4mS//gz670SnFzMJl2EiNT0ahBR530yctjUUB2fRycnb6PJ/mLH oLdxvXszgVfDDxLEAQAAgAykyHDRpD+Aaxule2LIcKoSdJG30bfk71isHIHUdVLW7RMxhnzpMCqu SGVdX7F5HRYQG49BgjgAAADQArnx+NLg0YbPq+nLZUnjJraLeGz1pNe/vtPVs5219zhxWyJL8TZh qEKDqHn1I0mfcz98389V9lZ+5iJFaMSMBdQBRxwAAADoAdxsbCUk/iR8aw9KrVnU919/TnxejpKG LO/j/HRhNt/TIkQvB9YJ/TZdCZFUwz51+SZN/kqMAR6NOBBGBQAAAGTAJWRdBo9l3PkMmb4YLq++ vFw2MUwPp0/XPBshz4PVYC9VWHycv+i8ClVTYjxHvvC6vmKFJ/m8Gfo4pBj/crtW5SnO62gqUni7 fblm+4gMo4LYAAAAADKRPSuaGjB9MVxCjQfbRooRy+NhLTdWajQCLNkXhJPzQ526XSIjVaBrQjkf lthoImr6cs32ESk2UI0KAAAAAAAAUAWIDQAAACAT3fV7+2x/NXuqZz25RGbfS2WeXMwm22f7j0rI Hk6f0uL2oPXcCemtOD9drP2TWEnoY6KGV4OoTBNEPjemW0fm9kKhYblJ26Fyt3K/88Wd87vm5JbE lNoF9yCMCgAAAACP4BAxl4FWMvymBK4QnrHQ12pTvuOeUk7WyuMIrSOrUc0Xd+Y5qXM4uBBDCfo8 adA1CKMCAAAAgBf22ixuD5xlePuEa1a9z+TkCXSJ5YXgY764PXjkDdOehRCxYoo9iFI0HE6fPvr9 F7cHtH22vzbm6dZRL0XbmIFnAwAAAABOuBzuJiRgg7rENjGUHo6YJO/Q9vQ29XZzhRw8G27g2QAA AABANIvbA/S62AB8Bjd7NeS/mPVi9unK27DeY5GhcyZC3gp4M7oDYgMAAAAATk4uZhM28HSp2a6S xkG3zBd3K29Ak5K1ehkpOroOGfMB4ZIGxAYAAAAAAACgChAbAAAAAPByvXsz0cm/56eLVTlR5HI0 K+E6BHg2X3o05PulwqpCcGK4ztmQhQxSyA2/Qr5GPBAbAAAAAAAjoYmhXyPvQedkNAlB4jwNV75G rfAmDhtj3n/9CaGRAMQGAAAAAKLQ3g3wgDZIuxxHKlbZ2lxCYqdEAz/Lq5FKTD8P6bUZs9eqNjhy AAAAAAhycjGbcKO/0sgEc19I1rvZdK1T+N+H/5jLvf71vReG/5Bo0qPEZYinNPWLRQqN1W/sGbuv 6WBoXH1tpDg04NkAAAAAQDRyFrnGbO+72XQlPvi1fC+GvhiIsccnd+a8xPHP6QSfenxLjNPK0/Dt gyul+Zo9xnY1B83AEQQAAABAFCcXs8m3v56vvBt9MerbTFB3GedNxEIXxjtvZ75IExrWvnUZ3LYM dEtgrOVvZIgo/ZtAcDQHng0AAAAAAABAFSDVAAAAANA556cLOpw+patnOytPheWxmG4txDqtDW/F 5d4xTT2OFJ4Jb8vr02RfofWkp8I1w295F4ZM6Jig5G068GwAAAAAoFNYVMwXd6Po2RFj/Ovcl9iO 21aYTwq+ZG49jpiKTRZ9Ca+T3ciHLoKGDMQGAAAAAICHXEPVtd7i9mCV7CxLuoaEgH4v16gPGd9N DfMuDfsm+47x3IB0IDYAAAAA0EtCxl9bhqDPqLdEQMpM+uXe8UpwpDTVqxU6xXRhZJfyiMjj70vC 70tvlLEDsQEAAACAKD68OV222djPZQjW6N+QghVqZBmurvFf7h2vfeYqzbq4PTC/3/bZfpHvHRJG pcKPdMdv33i6Rh4TPR7ka+QBsQEAAAAAAACoQvcSEgAAAAC958Ob02WTLtOl0EnLuQnStcJnYqpR 6eRuWe1p+2x/5enQTexKeTOs8daAPRq+Znx6/03Go495aDt98KRsApP//u//lkRE//n3v+AaAgAA AMAjZCO/PqBLsaYIB1e1pZz918ZlDLMRnyv+SlScKkGqOMjZtuu3ytkXwqjiYX1BhDAqAAAAAESy uD2gNnM2XJRIlE4lRaS4ch30+6Hj6Upg9nkKYuDtxuaY1CBVaKSMLeb8QGJ4e8B/BAAAAAAv77/+ nHz763kvwqgkvpClVK/H4vbA6ymwwnua7Pd+ueOo8ZnLVPot2ki6z/Vo+LxZMaV8ITC6AZ4NAAAA AFRDV1TK9Yy4vAWhEJnYxm4x3oKQgZszO9926JKutNR2dTHXMUz1FrmqRvlEoa/SFKgHxAYAAAAA gkijNMVAnW4drZU+DXlHLKOSqFlPhJKlXeU4XPkOMcnhpWhiOB9OnzYOyUrdn++38NGH/iCvvrzs Ve7SUIDYAAAAAAAAAFQBPiQAAAAABLncO6bp4v51Su5GapgOe0EO/zS+ayvOXu8nJocj5f1UauUZ WGFGXTVGlL9vzBhS8kkQJtUf4NkAAAAAQJDr3ZvJ4fTpSjy8m02D63CYTmzo1OL2gC73jtc6bKcY jSVj8a0x+7Yfazi7PpOiLEVo+ARZSp5LmwxZCCCUKh2IDQAAAAAkc366CC4jjW+dKM7o92R+R04+ RQ0sT4Av0Tgm2VmLBCluYj06scnOffBkaLQwyy0n3CbXuzcT9NpIB2IDAAAAAFGwoZVi9M0XdysB 4TMot8/2V14NvY/U/VmvmyATwvW/Jlhle2PDznIERB8MdkaOBaVpxw3EBgAAAACiObmYTYjSjeJQ 1SP9uavqUww+IVCqkR17akLru46TNrTZ+L7cO84WBTnhW32h7+MD+UBsAAAAAAAAAKoAsQEAAACA JK53byaXe8fOJHE5mz9f3NF06yjbg2CFGVnJ1LHbiu2HESKmP4X0VISWk8i8FRehpPA+eApSj68v +b4P/P7xCcnhGUBsAAAAACAZX6JsbGlcK1Fafubatk6mjqFU+JRc37eNxe1BVK6Kb/s+FrcHrZYG zqGE4MkNpQP9AWIDAAAAAFk8eft54iuBK0vlWp/J/2sZzqm9HGpTKsGcBVdM3shQkb9bSeGSy5O3 n1GJKgOIDQAAAABk8+Tt54nPGIwJN3JRQxy04Q2ITYrn8WhYSFhCTb7H3o3Q9oZK6XCw1G1xqVuU vG3G5L//+78lEdF//v0vHEQAAAAAZPHhzenS1QivSez+EIxny4jlECrZoNAHNzR0LWsJD0vM9MmL MwZ5zf0AABPtSURBVGQgLprB+oIIng0AAAAAFODkYjZxhU3p8q4hpMHdl2RnH1ZewXTr6JEY8H0P mUSvvRcWPqGhX4+Nkr1OQH0gNgAAAAAAAABVgNgAAAAAQBGs0BMd1hMzE215AGI9HLHNBkujv5f1 fXXpXbmcDw6xIrr3IHFjRU0fvUCWF8L1Xiw1vyPyM8oDsQEAAACAomhj0BfuEjKQU0ODYsvu1iI0 Xl1hyZcgLrnevZmcXMwmr768XL768tLb76FPosM6F4jW+6XkhEIdTp+u9XlpGk4FkVEPJIgDAAAA oCivvrxc8ix+yAj0JYOn5ncQ3RuxXQuOECkJ8GyQS29GSGzIbdeq6BXzu22f7UcnyOt1LSAGhoNM EO+H7AUAAADAaLh6tkPntCCi+GpUlsHqM5bZkNVc7h3TJQ2j90Ssp+bdbEonbx/eu969mcQIjja8 Gz7vDW0d0WXA1JQhYsz22T65QsXA8IDYAAAAAEBRuPnZN3oeDPexXstQI1cp1+nWEU0Xj7c5RJHh E2SL2wNazNffY6Ehy+s2GUeuKCl1rFk8sefimmZFtgv6AXI2AAAAAAAAAFVAzgYAAAAAqsH5Gz5c M+tWbsDQGv41YXF74A0n+vDmdEl0n88Rm8chyfVslDruvF/kYowPmbMBsQEAAACA6rg6jBPFG7uW cSwFyJDFByeCT7eO6P3Xn9E2GR9XK/chpcxwbDJ5yjF+N5vS+eni0XvM61/fITRGCsQGAAAAAHrF hzeny1DugWXoukqrtkVK9SvXsrI3yMnFbPLtr4dcl5DwYO8Gkb/sb8o4fZ4mH3of72ZTevL28+T3 j0+PvC6c1wPGCapRAQAAAKBXnFzMJnThL+tqJVLHltjtAz5jf/XZm9MlUZwoePXl5fKS7gUaJ4vn 7FszX9yteVpisZaVQuP1r+909WwHQmPDQII4AAAAAHoDN1dj49nVw0E2rqvVTyKGpj09tDcgdnvS o7F9tl+st4g+jrL5nrWs/KeXPT9d0Mf5i9XfEBqbCcQGAAAAAAAAoAoQGwAAAADoHScXs8n22f5q pny+uFvzclh/DxH2SMjEacZ6j2i9zwZ7gKSHISXBnNdltJdounVEnIDOv4XLi3S5d7yWpK6Xg1dj M0HOBgAAAAB6ycnFbPLhzely+2yf6I9RzvkEbADL0rAysbptUhKwLe7DjR5Cjk4uZpNX06fO78Pf n7l6tkNE93kRr768XFKk+NKCgP+W3+X+vXsRwd3ZLcFh5dO8O/wHImPDgdgAAAAAQG/h6kw6Cfx+ 9n690zTP6HcpOlz4jHPruzDsxeAu2/IzFgT3296h17++r+0vxttjLRPqv8HbtvI7pEhZ3B7Q+7fu PiFgM4DYAAAAAEDvud69mRyKBoGvvrxcuno0aNGhPSCcXJ3qifD18/Bty2e0ExHRV3s9/n6vvrxc fnhzupwujtYMfTmO89MFzaO+hZ9S4WihhoRgc0CfDQAAAABsLE28IDGhRL4qWSkN7axxSsFxOH1K 17s3E1/zxFhClb0sr4b+3ql5I2BcyD4bSBAHAAAAAAAAVAFhVAAAAADYWN5//TlJ9W748iFCXoEU b4ZEjpMTw693ZxP68958cUeLAl6NEFYSOMMdw6sOAAwOhFEBAAAAYOPJERyp5AqNEB/enC65cleN EKrYPA6ETgFGhlHBswEAAACAjSfFw9EnoUFEq0Tsk4vZ5OTPe00rclm5J0PtZQK6BZ4NAAAAAAAF l5lNSfh2UVNo+Cjh6fDBTQcROgU08GwAAAAAAHhggfD+z9+5noKuhAbRvafj8svL5fbZ/sr78UqU D05FCq3r3ZsJff1ZZqBg1KAaFQAAAAAAAKAKCKMCAAAAAIhAd/C2mC/uep8o7fPS6LFb37lLbw0Y BuizAQAAAACQCBvZ17s3E349xGZ2vjFaQuTq2Q4RrX9vAGKB2AAAAAAAiEQa29e7NxNpuA/VELe8 Ga++vFz+/vFpSUT0+tf3wX430D1IEAcAAAAAaMAYDPH3X39OdMjU61/fuxoOGBHwbAAAAAAAAACq AM8GAAAAAMCGYeVtXO/ePPJu8PvtjAqMEXg2AAAAAAAAAFWA2AAAAAAAAERkezFiSv4C4AJiAwAA AAAArNCCA2FUoAkQGwAAAAAAwARCAzQFYgMAAAAAAABQBVSjAgAAAAAAa8CjAUoBzwYAAAAAAACg ChAbAAAAAAAAgCpAbAAAAAAAAACqALEBAAAAAAAAqALEBgAAAAAAAKAKEBsAAAAAAKAKr768XKID +WYDsQEAAAAAAKL48OYUwgEkgT4bAAAAAAAgipOLWVL/DfTrAPBsAAAAAABU5MOb0+W3v54jnAhs JBAbAAAAAAAAgCpAbAAAAAAAVEJ6M+aLO/r94xO8G2CjQM4GAAAAAEAFPrw5XdIZ0XTriIiI3s2m HY+o33DyeWpeCOg38GwAAAAAAFSChQYR0cf5iw5H0n8u947pcu+462GAwkBsAAAAAABUYnF7sHoN QzqO3z8+LRFuNh4gNgAAAAAAKiE9G/PFHRER8jYUrsZ/6OkxDiA2AAAAAAAAAFWA2AAAAAAAaInX v77Tk7efkQDt4fx0QeenC5puHcELNAIgNgAAAAAAKiFzNojuQ6m+/fUcBrTgevdmcr17M7l6tvPo s/PTBb368nLJeRwIrRoeEBsAAAAAABVACdc0zk8XwWVwTIcH+mwAAAAAALTI+68/YTALfv/4tJSh ZYfTB/N0vrgjy+MBhgM8GwAAAAAAAIAqwLMBAAAAAFCJy71juhTm1vXuDbwaCm52+P7rzwl9pVVO C3s4zk8X6L4+YCA2AAAAAAAqsX22T0TINfDhOjbcl4QIgmPIQGwAAAAAAFQCIiOd919/TrjJnxQc RI/zO0D/Qc4GAAAAAADoBbq07eH0KR1On9Li9oA+zl+gR8kAgdgAAAAAAAAAVAFiAwAAAAAAdI70 alzv3kw43+V692bC4WjoKD48IDYAAAAAAEAvYFHx6svL5eXeMRHdCwwWGR/nLyA4BgYSxAEAAAAA BgAnTY+1fK4UGvJ9Lo0rQaL4cIDYAAAAAADoKR/enK5m+DeF692bye8fn5ZaZPx9+A+9/vWdPs73 OxoZyAFhVAAAAAAAPYTDhTh3YZP4OH9BUmSx0Lh6tkNEKCk8JCA2AAAAAAAAAFWY/Pd//7ckIvrP v/8FhQgAAAAA0CPGnqfhQ/fcgDdjOLC+IIJnAwAAAACg10ihoQ3wMSPFBYTGcEGCOAAAAABAD/n2 1/MlLe7o/Z+/73M4/qG/aXMqMUFkDB94NgAAAAAAesy3v54vZW+J17++o9cEGAwQGwAAAAAAAIAq IIwKAAAAAKCHHE7vzbT54o7OTxer9+dERLP1Zb/99Xz5/uvPwYccfXhzupxuHRER0bvZlDYlXGzM wLMBAAAAANBT5os7IroXHiw+iIjOTxf0+8en5e8fn5bf/nq+fDebdjXEbKxkd9lbQwosMFwgNgAA AAAABoIUHeeni5VBfn66oG9/PV+++vJyyf93Oc4QPL5vfz1ffvvr+ZLoXnzIBoaH06crQdXRMEEB EEYFAAAAANAzuBKV9GbM1d8S6/2+9uj48OZ0OV0cEf0JlyL6833piA6nT2n6x6ExX9zROS1WogMh VcMEng0AAAAAAABAFSA2AAAAAAB6xO8fn5YyOTyVw+nT1Xrzxd0qVInDldqCQ7rkfl99eblKAOex 8neV/0tPzfbZPr3+9Z36HhoGbCA2AAAAAAB6xtWznUfv6VApbaS7lpWvawkOmS8ic0YWtwerz7/9 9XwpxZNrjPI9/T7yN4bH5L//+78lEdF//v0vxMEBAAAAAPSAGrP40tBf3B7Q5d5xo3wOXU3qcu/Y zCvh93w5J7H0Lf8E2LC+IEKCOAAAAABA77jevZmUFByyhO58cUfTrSO6pKcrT0dsjw45puniKEo8 +Dwwcnyhbc0Xd/Q+ZpCgVyCMCgAAAAAAAFAFeDYAAAAAAHrI1bMdev3re7HtWeFN/P43Ws/leP/1 50Tmd7i8DtojEeOdsJaL8ZDc53/MgsuBfgHPBgAAAABAD/k4f7F6LZvd5aAFQci41yFcVlUsWTFr vrij7bP91WsL6/2caltgWEBsAAAAAAD0kMu9YyJqLjRSSC25K/MxLveOveuzyHF5WEJc7h2j/O0A QTUqAAAAAIAe8vvHp6X0bjAsQkpghTXp0ChX6JP8zPV5DVCRqv/IalTwbAAAAAAAAACqALEBAAAA ANBDnrz9PCG692RIb0bJsCoZ1uTKqfDleMjQKF++Rgm2z/bh1RggEBsAAAAAAD1m+2y/lbwNFgxE j/tyhISE/KzWWEuGj4H2QOlbAAAAAIAe8/fhP2uVqS73jmn7bL+K8e3Lu4jP2bA7iTcFXo1hAs8G AAAAAEBPObmYPTKwS3gOUrahS9zq14z2gFiekCZj//DmFJWoBgjEBgAAAAAAAKAKCKMCAAAAAOgx T95+nuhZ/TbyF1Ka84W2wd4RK9E99rtc7h0TXUTvGvQEiA0AAAAAgJ5zcjGbcEO7Npv8aXIb8llw 7olGb7Ot/h2gDmjqBwAAAAAwANrsnm0loLuSvmMEx+L2IOjB8DUPZJAkPgzQ1A8AAAAAYGC0VQLX tT9fr40Q062j1bZc38HXz4OomRcFdAfEBgAAAAAAAKAKEBsAAAAAAAPg5GI2sUrhEuXlcbjW0e9L Dwe/lu/5PA7SUzHdOlot22XeCWgXiA0AAAAAgIFSI7TKlVvhC39yMV/c0eL2YO296dYRXe4dOzuT u8SL3g4YBhAbAAAAAAADgpOkU0vHalJFhW99LTikMJhuHa29z8u6cjRc4qWNcr+gPBAbAAAAAAAA gCpAbAAAAAAADAxZApbL1JYIp5LekhRPwvbZ/spTcTh96lxX5m0wKX002iz/C8oAsQEAAAAAMEA4 WZwN+xJhRlpkJHX3VnAolQydykGKE/TZGB4QGwAAAAAAA+XkYja5erZDRO334dBoj0UTETRf3K2+ CxLDhw36vwMAAAAADJgnbz9PXn15uayRQC07iUshI8O2+HOX96JJMz6rkzkYFvBsAAAAAAAAAKoA sQEAAAAAMGKahFbFeBWsJoBMbq6GDJ2SeRpIEB8eCKMCAAAAABgxpcKQdDhVk+3OF3dRQsTVMR0M B3g2AAAAAAAGTNuz/dz9m4jMDuBahFgN/xa3B50ms4P2gGcDAAAAAAAkcTh9uiYyXJ6KlaAQXcS5 o3jIswGvxjiAZwMAAAAAAABQBYgNAAAAAICBs322v0qkbis8iZv1cTK33C/3yZhuHa08GRpXSdzt s32nVwNN/YbH5L//+78lEdF//v0v/HgAAAAAAAPjw5vTRz022u5PIYXD4vbAKTAkHEbl6uUhBYfM S4Hg6D+sL4ggNgAAAAAABk/bSeIpjfrY82EJkMXtwZrQ4GaByNcYNlJsIIwKAAAAAAAAUAVUowIA AAAAGBm1wqh8Hg0Oi+JlOJyKxzFdPF6W6GGMq5K6W0d0UnbYoEPg2QAAAAAAGDilksJLJ5fLErmH 06erf23sG/QDiA0AAAAAgIFjeTFyjHfOmXDhEguclyE9H3JMMTkel3vHtLg9oPdffyJfY0RAbAAA AAAAjJRcwRGDFB0y+VuWw9XLWcgx8r5ffXm55H9RgwG9BWIDAAAAAAAAUAWIDQAAAACAEdE092H7 bD+4DZ+3gteV21jcHjhDqaQnBXkb4wNiAwAAAABg4Fzv3ky42V3TKlQp62vRcTh9+kg8cCdx/ju0 bzTwGxcQGwAAAAAAIyNFMLAAkIZ9E8Gh17e6m/sSxiEwxgU6iAMAAAAAjATpFbC8CDV6b8j9+bY/ X9ytJY7L8cwXd6hCNSLQQRwAAAAAAABQHYgNAAAAAICRYIUgXe4dr/65kr9jksJDhHp9cLjVycXs UW7J4vaAUOp2nEBsAAAAAACMFJ2s7QpzYjFSa/9ayJxczCYscHT+BgTHuIDYAAAAAAAYEde7NxNd flY3znN5MWqVnmVvBhHRhzenSx7H5d4xcjVGDsQGAAAAAAAAoAoQGwAAAAAAI4a9FX8f/rPmuShd rcqXC/LhzelSfs6hUvyZ9HyAcYHStwAAAAAAI4bDlpia5W9dsNC43DteJbFLwSHHhD4bwwelbwEA AAAANoQYcSGrUZXO2+DtnVzMJq5qWWC8QGwAAAAAAIyY692biRWmJAWGrEYlS+TGCg9XCFVoXNb7 qEY1LiA2AAAAAAAAAFWA2AAAAAAA2ADYu6E9Fq5EcdkIMITVT4Pfm24dERE8FpsKEsQBAAAAADaE V19eLl3ioY3cCV/oFBLDxwMSxAEAAAAANhCfQZ+So+Hbht7H9e7NhP/ljAsMG4gNAAAAAAAAQBWe dj0AAAAAAADQHpy78fvHp+XH+QsiehxCpXtfpG5bwrka8F5sJvBsAAAAAABsOFfPdtb+zs3fQBI4 0MCzAQAAAACwgTx5+3nyIA521npu5HC9ezN59eXl0hIc8GpsLvBsAAAAAAAAAKoAsQEAAAAAsKGw x0HnbuiwqtTtAcBAbAAAAAAAbDic2C3FQkoZXLmsLHUbKnkLxg+a+gEAAAAAgDVcTfZcCeAQFEAi m/ohQRwAAAAAAKzhEg/6fVSfAiEQRgUAAAAAAACoAjwbAAAAAAAgC4RPgRDwbAAAAAAAAACqALEB AAAAAAAAqALEBgAAAAAAAKAKEBsAAAAAAACAKkBsAAAAAAAAAKoAsQEAAAAAAACoAsQGAAAAAAAA oAoT2U4cAAAAAAAAAEoBzwYAAAAAAACgChAbAAAAAAAAgCr8P3o80Dv/4eXdAAAAAElFTkSuQmCC &quot;,\n",
       "                [[-44.105090650222465, 111.92999999999999], [-9.93, 154.11123662042488]],\n",
       "                {&quot;opacity&quot;: 1.0}\n",
       "            ).addTo(map_dbadececbfbc1d0696195e0ff50d08f7);\n",
       "        \n",
       "    \n",
       "            map_dbadececbfbc1d0696195e0ff50d08f7.fitBounds(\n",
       "                [[-44.025000000000006, 111.975], [-9.975, 154.025]],\n",
       "                {}\n",
       "            );\n",
       "        \n",
       "    \n",
       "            var tile_layer_8689d86312b6338212b314bb2faa78df = L.tileLayer(\n",
       "                &quot;https://server.arcgisonline.com/ArcGIS/rest/services/World_Imagery/MapServer/tile/{z}/{y}/{x}&quot;,\n",
       "                {&quot;attribution&quot;: &quot;Esri&quot;, &quot;detectRetina&quot;: false, &quot;maxNativeZoom&quot;: 18, &quot;maxZoom&quot;: 18, &quot;minZoom&quot;: 0, &quot;noWrap&quot;: false, &quot;opacity&quot;: 1, &quot;subdomains&quot;: &quot;abc&quot;, &quot;tms&quot;: false}\n",
       "            ).addTo(map_dbadececbfbc1d0696195e0ff50d08f7);\n",
       "        \n",
       "    \n",
       "            var layer_control_136167499a3eb4a552a1d34c61444432 = {\n",
       "                base_layers : {\n",
       "                    &quot;openstreetmap&quot; : tile_layer_1d56884e1c68b01ce313d5c38d502f96,\n",
       "                },\n",
       "                overlays :  {\n",
       "                    &quot;macro_element_1782902579354b803bbcca70b91c6748&quot; : image_overlay_1782902579354b803bbcca70b91c6748,\n",
       "                    &quot;Esri Satellite&quot; : tile_layer_8689d86312b6338212b314bb2faa78df,\n",
       "                },\n",
       "            };\n",
       "            L.control.layers(\n",
       "                layer_control_136167499a3eb4a552a1d34c61444432.base_layers,\n",
       "                layer_control_136167499a3eb4a552a1d34c61444432.overlays,\n",
       "                {&quot;autoZIndex&quot;: true, &quot;collapsed&quot;: true, &quot;position&quot;: &quot;topright&quot;}\n",
       "            ).addTo(map_dbadececbfbc1d0696195e0ff50d08f7);\n",
       "        \n",
       "&lt;/script&gt;\" style=\"position:absolute;width:100%;height:100%;left:0;top:0;border:none !important;\" allowfullscreen webkitallowfullscreen mozallowfullscreen></iframe></div></div>"
      ],
      "text/plain": [
       "<folium.folium.Map at 0x7f869436aee0>"
      ]
     },
     "metadata": {},
     "output_type": "display_data"
    }
   ],
   "source": [
    "# Create folium Map (ipyleaflet is also supported)\n",
    "m = folium.Map()\n",
    "\n",
    "# Plot each sample image with different colormap\n",
    "lc.PFT.odc.add_to(m, opacity=1.0, cmap='Paired')\n",
    "\n",
    "# Zoom map to Australia\n",
    "m.fit_bounds(lc.odc.map_bounds())\n",
    "\n",
    "tile = folium.TileLayer(\n",
    "        tiles = 'https://server.arcgisonline.com/ArcGIS/rest/services/World_Imagery/MapServer/tile/{z}/{y}/{x}',\n",
    "        attr = 'Esri',\n",
    "        name = 'Esri Satellite',\n",
    "        overlay = True,\n",
    "        control = True\n",
    "       ).add_to(m)\n",
    "\n",
    "folium.LayerControl().add_to(m)\n",
    "display(m)"
   ]
  },
  {
   "cell_type": "code",
   "execution_count": null,
   "metadata": {},
   "outputs": [],
   "source": []
  },
  {
   "cell_type": "code",
   "execution_count": 7,
   "metadata": {},
   "outputs": [
    {
     "data": {
      "text/plain": [
       "<matplotlib.image.AxesImage at 0x7f8695949310>"
      ]
     },
     "execution_count": 7,
     "metadata": {},
     "output_type": "execute_result"
    },
    {
     "data": {
      "image/png": "[encoded data removed]",
      "text/plain": [
       "<Figure size 1080x720 with 2 Axes>"
      ]
     },
     "metadata": {
      "needs_background": "light"
     },
     "output_type": "display_data"
    }
   ],
   "source": [
    "lc.PFT.plot.imshow(size=10)"
   ]
  },
  {
   "cell_type": "markdown",
   "metadata": {},
   "source": [
    "## MODIS EVI to 5km grid"
   ]
  },
  {
   "cell_type": "code",
   "execution_count": null,
   "metadata": {},
   "outputs": [],
   "source": [
    "import os\n",
    "import xarray as xr\n",
    "from odc.algo import xr_reproject\n",
    "from odc.geo.xr import assign_crs"
   ]
  },
  {
   "cell_type": "code",
   "execution_count": null,
   "metadata": {},
   "outputs": [],
   "source": [
    "base = '/g/data/os22/chad_tmp/NEE_modelling/data/EVI_annual/'\n",
    "ds = xr.open_mfdataset([base+i for i in os.listdir(base)], chunks=dict(time=1))"
   ]
  },
  {
   "cell_type": "code",
   "execution_count": null,
   "metadata": {},
   "outputs": [],
   "source": [
    "#open chrips (reproject to this)\n",
    "chirps = xr.open_dataset('/g/data/os22/chad_tmp/NEE_modelling/data/chirps_aus_monthly_1991_2021.nc')\n",
    "\n",
    "ds = xr_reproject(ds, geobox=chirps.geobox, resampling='nearest')\n",
    "ds['latitude'] = ds.latitude.astype('float32')\n",
    "ds['longitude'] = ds.longitude.astype('float32')"
   ]
  },
  {
   "cell_type": "code",
   "execution_count": null,
   "metadata": {},
   "outputs": [],
   "source": [
    "ds = ds.compute()"
   ]
  },
  {
   "cell_type": "code",
   "execution_count": null,
   "metadata": {},
   "outputs": [],
   "source": [
    "ds.EVI.isel(time=200).plot.imshow(size=8, vmin=0);"
   ]
  },
  {
   "cell_type": "code",
   "execution_count": null,
   "metadata": {},
   "outputs": [],
   "source": [
    "ds = ds.astype('float32')"
   ]
  },
  {
   "cell_type": "code",
   "execution_count": null,
   "metadata": {},
   "outputs": [],
   "source": [
    "ds.to_netcdf('/g/data/os22/chad_tmp/NEE_modelling/data/EVI_5km_monthly_2002_2021.nc');"
   ]
  },
  {
   "cell_type": "markdown",
   "metadata": {},
   "source": [
    "## Aridity Index"
   ]
  },
  {
   "cell_type": "code",
   "execution_count": 14,
   "metadata": {},
   "outputs": [],
   "source": [
    "from odc.algo import xr_reproject\n",
    "from odc.geo.xr import assign_crs\n",
    "import rioxarray\n",
    "import numpy as np\n",
    "import xarray as xr"
   ]
  },
  {
   "cell_type": "code",
   "execution_count": 15,
   "metadata": {},
   "outputs": [],
   "source": [
    "ai = rioxarray.open_rasterio('/g/data/os22/chad_tmp/NEE_modelling/data/ai_v3_yr.tif').squeeze().drop('band').isel(x=range(35000,40500), y=range(11750,16250))"
   ]
  },
  {
   "cell_type": "code",
   "execution_count": 16,
   "metadata": {},
   "outputs": [],
   "source": [
    "ai = assign_crs(ai, crs='epsg:4326')"
   ]
  },
  {
   "cell_type": "code",
   "execution_count": 17,
   "metadata": {},
   "outputs": [],
   "source": [
    "ai = ai /10000"
   ]
  },
  {
   "cell_type": "code",
   "execution_count": 19,
   "metadata": {},
   "outputs": [],
   "source": [
    "#open chrips (reproject to this)\n",
    "chirps = xr.open_dataset('/g/data/os22/chad_tmp/NEE_modelling/data/chirps_aus_monthly_1991_2021.nc')\n",
    "\n",
    "ai = xr_reproject(ai, chirps.geobox, resampling='average')\n",
    "ai['latitude'] = ai.latitude.astype('float32')\n",
    "ai['longitude'] = ai.longitude.astype('float32')\n",
    "\n",
    "# make into a time-series\n",
    "ai = ai.expand_dims(time=chirps.sel(time=slice('2002','2021')).time)\n",
    "ai = ai.rename('AI')"
   ]
  },
  {
   "cell_type": "code",
   "execution_count": 22,
   "metadata": {},
   "outputs": [],
   "source": [
    "ai.to_netcdf('/g/data/os22/chad_tmp/NEE_modelling/data/AridityIndex_5km_2002_2021.nc')"
   ]
  },
  {
   "cell_type": "markdown",
   "metadata": {},
   "source": [
    "## L3 Flux tower data\n",
    "\n",
    "* https://www.ozflux.org.au/monitoringsites/ciamaizewheat/index.html\n",
    "* https://data.ozflux.org.au/portal/pub/listPubCollections.jspx?pageNo=1&sizePerPage=100"
   ]
  },
  {
   "cell_type": "code",
   "execution_count": null,
   "metadata": {},
   "outputs": [],
   "source": []
  },
  {
   "cell_type": "markdown",
   "metadata": {},
   "source": [
    "## Fill no-data values in MODIS variables with climatology"
   ]
  },
  {
   "cell_type": "code",
   "execution_count": null,
   "metadata": {},
   "outputs": [],
   "source": [
    "import os\n",
    "import xarray as xr\n",
    "import numpy as np\n",
    "from odc.algo import xr_reproject\n",
    "from odc.geo.xr import assign_crs\n",
    "\n",
    "from dask.distributed import Client,Scheduler\n",
    "from dask_jobqueue import SLURMCluster"
   ]
  },
  {
   "cell_type": "code",
   "execution_count": null,
   "metadata": {},
   "outputs": [],
   "source": [
    "cluster = SLURMCluster(processes=2, cores=2, memory=\"47GB\", walltime='01:00:00')\n",
    "client = Client(cluster)\n",
    "cluster.scale(cores=24)"
   ]
  },
  {
   "cell_type": "code",
   "execution_count": null,
   "metadata": {},
   "outputs": [],
   "source": [
    "client"
   ]
  },
  {
   "cell_type": "code",
   "execution_count": null,
   "metadata": {},
   "outputs": [],
   "source": [
    "base='/g/data/os22/chad_tmp/NEE_modelling/data/LAI-annual/'\n",
    "var='Lai'"
   ]
  },
  {
   "cell_type": "code",
   "execution_count": null,
   "metadata": {},
   "outputs": [],
   "source": [
    "ds = xr.open_mfdataset([base+i for i in os.listdir(base)], chunks=dict(time=1)).astype('float32').persist()\n",
    "\n",
    "ds[var].isel(time=104).plot.imshow(vmin=0)"
   ]
  },
  {
   "cell_type": "code",
   "execution_count": null,
   "metadata": {},
   "outputs": [],
   "source": [
    "#compute climatology\n",
    "clim = ds[var].chunk(dict(latitude=750, longitude=750))\n",
    "clim = ds.groupby(\"time.month\").mean(\"time\").compute()"
   ]
  },
  {
   "cell_type": "code",
   "execution_count": null,
   "metadata": {},
   "outputs": [],
   "source": [
    "clim"
   ]
  },
  {
   "cell_type": "code",
   "execution_count": null,
   "metadata": {},
   "outputs": [],
   "source": [
    "clim.Lai.plot.imshow(col='month')"
   ]
  },
  {
   "cell_type": "code",
   "execution_count": null,
   "metadata": {},
   "outputs": [],
   "source": [
    "# fill nans with climatology and plot cloudiest period\n",
    "ds = ds.groupby(\"time.month\").fillna(clim)\n",
    "\n",
    "ds[var].isel(time=104).plot.imshow(vmin=0)"
   ]
  },
  {
   "cell_type": "code",
   "execution_count": null,
   "metadata": {},
   "outputs": [],
   "source": [
    "ds = ds.fillna(0)\n",
    "ds[var].isel(time=104).plot.imshow()"
   ]
  },
  {
   "cell_type": "code",
   "execution_count": null,
   "metadata": {},
   "outputs": [],
   "source": [
    "## reproject to 5km resolution\n",
    "chirps = xr.open_dataset('/g/data/os22/chad_tmp/NEE_modelling/data/chirps_aus_monthly_1991_2021.nc') # open chrips (reproject to this)\n",
    "\n",
    "ds_rp = xr_reproject(ds, chirps.geobox, resampling='average').compute()\n",
    "ds_rp['latitude'] = ds_rp.latitude.astype('float32')\n",
    "ds_rp['longitude'] = ds_rp.longitude.astype('float32')\n",
    "\n",
    "ds_rp[var].isel(time=110).plot.imshow(vmin=0)"
   ]
  },
  {
   "cell_type": "code",
   "execution_count": null,
   "metadata": {},
   "outputs": [],
   "source": [
    "ds_rp = ds_rp.rename({'Lai':'LAI'})"
   ]
  },
  {
   "cell_type": "code",
   "execution_count": null,
   "metadata": {},
   "outputs": [],
   "source": [
    "ds_rp.to_netcdf('/g/data/os22/chad_tmp/NEE_modelling/data/LAI_5km_monthly_2002_2021.nc')"
   ]
  },
  {
   "cell_type": "markdown",
   "metadata": {},
   "source": [
    "## Cumulative rainfall"
   ]
  },
  {
   "cell_type": "code",
   "execution_count": null,
   "metadata": {},
   "outputs": [],
   "source": [
    "import xarray as xr"
   ]
  },
  {
   "cell_type": "code",
   "execution_count": null,
   "metadata": {},
   "outputs": [],
   "source": [
    "rain = xr.open_dataset('/g/data/os22/chad_tmp/NEE_modelling/data/chirps_aus_monthly_1991_2021.nc')"
   ]
  },
  {
   "cell_type": "code",
   "execution_count": null,
   "metadata": {},
   "outputs": [],
   "source": [
    "rain"
   ]
  },
  {
   "cell_type": "code",
   "execution_count": null,
   "metadata": {},
   "outputs": [],
   "source": [
    "rain_cml_3 = rain.rolling(time=3, min_periods=3).sum()\n",
    "rain_cml_3 = rain_cml_3.rename({'precip':'precip_cml_3'})"
   ]
  },
  {
   "cell_type": "code",
   "execution_count": null,
   "metadata": {},
   "outputs": [],
   "source": [
    "rain_cml_6 = rain.rolling(time=6, min_periods=6).sum()\n",
    "rain_cml_6 = rain_cml_6.rename({'precip':'precip_cml_6'})"
   ]
  },
  {
   "cell_type": "code",
   "execution_count": null,
   "metadata": {},
   "outputs": [],
   "source": [
    "rain_cml_3.to_netcdf('/g/data/os22/chad_tmp/NEE_modelling/data/chirps_cml3_1991_2021.nc')"
   ]
  },
  {
   "cell_type": "code",
   "execution_count": null,
   "metadata": {},
   "outputs": [],
   "source": [
    "rain_cml_6.to_netcdf('/g/data/os22/chad_tmp/NEE_modelling/data/chirps_cml6_1991_2021.nc')"
   ]
  },
  {
   "cell_type": "code",
   "execution_count": null,
   "metadata": {},
   "outputs": [],
   "source": []
  }
 ],
 "metadata": {
  "kernelspec": {
   "display_name": "Python 3 (ipykernel)",
   "language": "python",
   "name": "python3"
  },
  "language_info": {
   "codemirror_mode": {
    "name": "ipython",
    "version": 3
   },
   "file_extension": ".py",
   "mimetype": "text/x-python",
   "name": "python",
   "nbconvert_exporter": "python",
   "pygments_lexer": "ipython3",
   "version": "3.9.2"
  }
 },
 "nbformat": 4,
 "nbformat_minor": 4
}
