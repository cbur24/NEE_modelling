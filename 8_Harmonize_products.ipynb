{
 "cells": [
  {
   "cell_type": "markdown",
   "metadata": {},
   "source": [
    "# Comparing fluxes with other products\n",
    "\n",
    "\n"
   ]
  },
  {
   "cell_type": "code",
   "execution_count": null,
   "metadata": {},
   "outputs": [],
   "source": [
    "import numpy as np\n",
    "import xarray as xr\n",
    "\n",
    "from odc.geo.geobox import zoom_out\n",
    "from odc.geo.xr import assign_crs\n",
    "from odc.algo import xr_reproject\n",
    "\n",
    "import warnings\n",
    "warnings.filterwarnings(\"ignore\")"
   ]
  },
  {
   "cell_type": "markdown",
   "metadata": {},
   "source": [
    "## Analysis Parameters"
   ]
  },
  {
   "cell_type": "code",
   "execution_count": null,
   "metadata": {},
   "outputs": [],
   "source": [
    "var = 'GPP' #ER #NEE #GPP\n",
    "var_fc = 'GPP' #TER #NEE #GPP\n",
    "var_cable = 'gpp' #nbp #er #gpp\n",
    "suffix='20230109'\n",
    "trim=True\n",
    "trim_date = '2003','2021'\n",
    "\n",
    "results_name = var+'_2003_2021_5km_LGBM_'+suffix+'.nc'\n",
    "# upper = 'NEE_2003_2021_5km_LGBM_quantiles.nc'"
   ]
  },
  {
   "cell_type": "markdown",
   "metadata": {},
   "source": [
    "## Open various datasets"
   ]
  },
  {
   "cell_type": "code",
   "execution_count": null,
   "metadata": {},
   "outputs": [],
   "source": [
    "ds = xr.open_dataarray('/g/data/os22/chad_tmp/NEE_modelling/results/predictions/'+results_name)\n",
    "ds.attrs['nodata'] = np.nan"
   ]
  },
  {
   "cell_type": "markdown",
   "metadata": {},
   "source": [
    "### Fluxcom"
   ]
  },
  {
   "cell_type": "code",
   "execution_count": null,
   "metadata": {},
   "outputs": [],
   "source": [
    "import xarray as xr"
   ]
  },
  {
   "cell_type": "code",
   "execution_count": null,
   "metadata": {},
   "outputs": [],
   "source": [
    "ds_fc = assign_crs(xr.open_dataset('/g/data/os22/chad_tmp/NEE_modelling/data/FLUXCOM/'+var_fc+'_rs.nc'), crs='epsg:4326').sel(time=slice('2003', '2015'))\n",
    "# ds_fc = ds_fc.rename({'lat':'latitude', 'lon':'longitude'})\n",
    "ds_fc.attrs['nodata'] = np.nan\n",
    "ds_fc['latitude'] = ds_fc.latitude.astype('float32')\n",
    "ds_fc['longitude'] = ds_fc.longitude.astype('float32')\n",
    "\n",
    "# ds_fc_met = assign_crs(xr.open_dataset('/g/data/os22/chad_tmp/NEE_modelling/data/FLUXCOM/'+var_fc+'_rs_meteo_era5.nc').sel(time=slice('2003', '2018')), crs='epsg:4326')\n",
    "# ds_fc_met = ds_fc_met.rename({'lat':'latitude', 'lon':'longitude'})\n",
    "# ds_fc_met.attrs['nodata'] = np.nan\n",
    "# ds_fc_met['latitude'] = ds_fc_met.latitude.astype('float32')\n",
    "# ds_fc_met['longitude'] = ds_fc_met.longitude.astype('float32')\n"
   ]
  },
  {
   "cell_type": "code",
   "execution_count": null,
   "metadata": {},
   "outputs": [],
   "source": [
    "ds_fc.resample(time='MS', loffset=pd.Timedelta(14, 'd')).mean()"
   ]
  },
  {
   "cell_type": "code",
   "execution_count": null,
   "metadata": {},
   "outputs": [],
   "source": [
    "ds_fc['time'] = ds.sel(time=slice('2003', '2015')).time\n",
    "# ds_fc_met['time'] = ds.sel(time=slice('2003', '2018')).time"
   ]
  },
  {
   "cell_type": "markdown",
   "metadata": {},
   "source": [
    "### CABLE\n",
    "\n",
    "<!-- '/g/data/os22/chad_tmp/NEE_modelling/data/CABLE/CABLE_ER_10km_monthly_2000_2019.nc' -->"
   ]
  },
  {
   "cell_type": "code",
   "execution_count": null,
   "metadata": {},
   "outputs": [],
   "source": [
    "cable = xr.open_dataarray('/g/data/os22/chad_tmp/NEE_modelling/data/CABLE/CABLE-BIOS/CABLE_BIOS_'+var_cable+'_25km_monthly_2003_2019.nc')\n",
    "# cable_pop = xr.open_dataset('/g/data/os22/chad_tmp/NEE_modelling/data/CABLE/CABLE-POP_v10/CABLE-POP_'+var_cable+'_100km_monthly_2003_2020.nc')\n",
    "# cable_pop = cable_pop[var_cable]\n",
    "# cable_nee = cable_nee.sel(time=slice('2003', '2015'))"
   ]
  },
  {
   "cell_type": "markdown",
   "metadata": {},
   "source": [
    "### Obs GPP"
   ]
  },
  {
   "cell_type": "code",
   "execution_count": null,
   "metadata": {},
   "outputs": [],
   "source": [
    "if var == 'GPP':\n",
    "    modis_gpp = xr.open_dataarray('/g/data/os22/chad_tmp/NEE_modelling/data/1km/MODIS_GPP_1km_monthly_2002_2021.nc')\n",
    "    modis_gpp.attrs['nodata'] = np.nan\n",
    "    modis_gpp = modis_gpp * 1000 #convert to g from kg\n",
    "\n",
    "    gosif_gpp = xr.open_dataarray('/g/data/os22/chad_tmp/NEE_modelling/data/5km/GOSIF_GPP_5km_monthly_2002_2021.nc')\n",
    "    gosif_gpp.attrs['nodata'] = np.nan"
   ]
  },
  {
   "cell_type": "markdown",
   "metadata": {},
   "source": [
    "## Reproject to match the 0.25 CABLE grid"
   ]
  },
  {
   "cell_type": "code",
   "execution_count": null,
   "metadata": {},
   "outputs": [],
   "source": [
    "ds = xr_reproject(ds, geobox=cable.odc.geobox.compat, resampling='bilinear')\n",
    "# ds_upper = xr_reproject(ds_upper, geobox=ds.odc.geobox.to_crs('EPSG:3577').compat, resampling='bilinear')"
   ]
  },
  {
   "cell_type": "code",
   "execution_count": null,
   "metadata": {},
   "outputs": [],
   "source": [
    "ds_fc = xr_reproject(ds_fc, geobox=cable.odc.geobox.compat, resampling='bilinear')\n",
    "ds_fc = ds_fc[var_fc] #.where(~mask.astype(bool))\n",
    "ds_fc = ds_fc*30 #/day to /month"
   ]
  },
  {
   "cell_type": "code",
   "execution_count": null,
   "metadata": {},
   "outputs": [],
   "source": [
    "if var == 'GPP':\n",
    "    modis_gpp = xr_reproject(modis_gpp, geobox=cable.odc.geobox.compat, resampling='bilinear')\n",
    "    gosif_gpp = xr_reproject(gosif_gpp, geobox=cable.odc.geobox.compat, resampling='bilinear')"
   ]
  },
  {
   "cell_type": "markdown",
   "metadata": {},
   "source": [
    "## Export harmonized dataset"
   ]
  },
  {
   "cell_type": "code",
   "execution_count": null,
   "metadata": {},
   "outputs": [],
   "source": [
    "if var == 'GPP':\n",
    "    merged = xr.merge([\n",
    "        ds_fc.rename('FLUXCOM_RS_GPP'),\n",
    "        ds.rename('This_Study_GPP'),\n",
    "        cable.rename('CABLE_BIOS_GPP'),\n",
    "        modis_gpp.rename('MODIS_GPP'),\n",
    "        gosif_gpp.rename('GOSIF_GPP'),\n",
    "    ])\n",
    "\n",
    "else:\n",
    "    merged = xr.merge([\n",
    "        ds_fc.rename('FLUXCOM_RS_'+var),\n",
    "        ds.rename('This_Study_'+var),\n",
    "        cable.rename('CABLE_BIOS_'+var)\n",
    "    ])"
   ]
  },
  {
   "cell_type": "code",
   "execution_count": null,
   "metadata": {},
   "outputs": [],
   "source": [
    "merged.to_netcdf('/g/data/os22/chad_tmp/NEE_modelling/data/harmonized_'+var+'.nc')"
   ]
  },
  {
   "cell_type": "markdown",
   "metadata": {},
   "source": [
    "### Extract pixel values from harmonized dataset"
   ]
  },
  {
   "cell_type": "code",
   "execution_count": 5,
   "metadata": {},
   "outputs": [],
   "source": [
    "import sys\n",
    "import os\n",
    "import numpy as np\n",
    "import pandas as pd\n",
    "import seaborn as sb\n",
    "import scipy as sp\n",
    "from scipy import stats\n",
    "from scipy.stats import gaussian_kde\n",
    "from sklearn.metrics import mean_absolute_error, r2_score\n",
    "\n",
    "import matplotlib.pyplot as plt\n",
    "sys.path.append('/g/data/os22/chad_tmp/NEE_modelling/')\n",
    "from collect_training_data import extract_ec_gridded_data"
   ]
  },
  {
   "cell_type": "code",
   "execution_count": null,
   "metadata": {},
   "outputs": [],
   "source": [
    "suffixes = [\n",
    "    'Emerald/2022_v2/L6/default/Emerald_L6_20110610_20131231_Monthly.nc',\n",
    "    'GreatWesternWoodlands/2022_v2/L6/default/GreatWesternWoodlands_L6_20130101_20220601_Monthly.nc',\n",
    "    'CowBay/2022_v2/L6/default/CowBay_L6_20090101_20220816_Monthly.nc',\n",
    "    'Tumbarumba/2022_v2/L6/default/Tumbarumba_L6_20020107_20220530_Monthly.nc',\n",
    "    'Whroo/2022_v2/L6/default/Whroo_L6_20111201_20220821_Monthly.nc',\n",
    "    'WombatStateForest/2022_v2/L6/default/WombatStateForest_L6_20100120_20210529_Monthly.nc',\n",
    "    'WallabyCreek/2022_v2/L6/default/WallabyCreek_L6_20050825_20130409_Monthly.nc',\n",
    "    'RobsonCreek/2022_v2/L6/default/RobsonCreek_L6_20130801_20220816_Monthly.nc',\n",
    "    'CapeTribulation/2022_v2/L6/default/CapeTribulation_L6_20100101_20181102_Monthly.nc',\n",
    "    'AliceSpringsMulga/2022_v2/L6/default/AliceSpringsMulga_L6_20100903_20220806_Monthly.nc',\n",
    "    'CalperumChowilla/2022_v2/L6/default/Calperum_L6_20100730_20220829_Monthly.nc',\n",
    "    'DryRiver/2022_v2/L6/default/DryRiver_L6_20091025_20220820_Monthly.nc',\n",
    "    'Litchfield/2022_v2/L6/default/Litchfield_L6_20150623_20220513_Monthly.nc',\n",
    "    'SturtPlains/2022_v2/L6/default/SturtPlains_L6_20080828_20220513_Monthly.nc',\n",
    "    'RiggsCreek/2022_v2/L6/default/RiggsCreek_L6_20110101_20170712_Monthly.nc', #dryland cropping\n",
    "    'Otway/2022_v2/L6/default/Otway_L6_20070811_20110101_Monthly.nc', # pasture site\n",
    "    'Yanco/2022_v2/L6/default/Yanco_L6_20130101_20220821_Monthly.nc', # soil site\n",
    "    \n",
    "    ## check the location of these ones below as they are new additions\n",
    "    'Gingin/2022_v2/L6/default/Gingin_L6_20111013_20210614_Monthly.nc', # native Banksia woodland\n",
    "    'LongreachMitchellGrassRangeland/2022_v2/L6/default/Longreach_L6_20181009_20220607_Monthly.nc',\n",
    "    'Ridgefield/2022_v2/L6/default/Ridgefield_L6_20160101_20220821_Monthly.nc', #  dryland agriculture\n",
    "    'SilverPlains/2022_v2/L6/default/SilverPlains_L6_20200101_20211231_Monthly.nc', #Australian Mountain Reseach \n",
    "    'Collie/2022_v2/L6/default/Collie_L6_20170804_20191111_Monthly.nc', # wandoo woodland\n",
    "    'AdelaideRiver/2022_v2/L6/default/AdelaideRiver_L6_20071017_20090524_Monthly.nc', #  Savanna dominated by Eucalyptus\n",
    "    'Warra/2022_v2/L6/default/Warra_L6_20130305_20210921_Monthly.nc', #tasmania\n",
    "    \n",
    "    ### ----------Problematic sites--------\n",
    "    #'DalyPasture/2022_v2/L6/default/DalyPasture_L6_20080101_20130908_Monthly.nc', #fragmented landscape, pasture among native veg fragments\n",
    "    #'DalyUncleared/2022_v1/L6/default/DalyUncleared_L6_20080101_20220217_Monthly.nc', #Woodland savanna LOTS OF UNCERTAINTY IN THIS SITE - Peter Isaac\n",
    "    'CumberlandPlain/2022_v2/L6/default/CumberlandPlain_L6_20140101_20220820_Monthly.nc',# small remnant bushland block in ag district\n",
    "    'SamfordEcologicalResearchFacility/2022_v2/L6/default/Samford_L6_20100602_20171231_Monthly.nc', #fragmented landscape 5km resolution not good enough\n",
    "    'Boyagin/2022_v2/L6/default/Boyagin_L6_20171020_20220821_Monthly.nc', # in remnant forest around crops, BORDERLINE MIGHT BE OKAY\n",
    "    'TiTreeEast/2022_v1/L6/default/TiTreeEast_L6_20120718_20220117_Monthly.nc', \n",
    "    #'RedDirtMelonFarm/2021_v1/L6/default/RedDirtMelonFarm_L6_20110923_20130721_Monthly.nc', #small farm in the middle of savannah woodland\n",
    "    'FoggDam/2022_v2/L6/default/FoggDam_L6_20060207_20081031_Monthly.nc', # wetland that floods seasonally\n",
    "    #'Loxton/2022_v1/L6/default/Loxton_L6_20080819_20090609_Monthly.nc' # almond tress, 1 year of data\n",
    "]\n",
    "\n",
    "i=0\n",
    "sites = []\n",
    "for suffix in suffixes:\n",
    "    print(\" {:02}/{:02}\\r\".format(i + 1, len(suffixes)), end=\"\")\n",
    "    xx = extract_ec_gridded_data(suffix,\n",
    "                                 covariables=['kNDVI'],\n",
    "                                 scale='1km',\n",
    "                                 save_ec_data=False,\n",
    "                                 verbose=False,\n",
    "                                 add_comparisons=True,\n",
    "                                 export_path='/g/data/os22/chad_tmp/NEE_modelling/results/harmonized/'\n",
    "                                )\n",
    "    sites.append(xx)\n",
    "    i+=1"
   ]
  },
  {
   "cell_type": "code",
   "execution_count": 7,
   "metadata": {},
   "outputs": [],
   "source": [
    "base = '/g/data/os22/chad_tmp/NEE_modelling/results/harmonized/'\n",
    "sites = os.listdir(base)\n",
    "\n",
    "td = []\n",
    "for site in sites:\n",
    "    if '.csv' in site:\n",
    "        xx = pd.read_csv(base+site, index_col='time', parse_dates=True)\n",
    "        xx['site'] = site[0:5]\n",
    "        td.append(xx)\n",
    "\n",
    "df = pd.concat(td)"
   ]
  },
  {
   "cell_type": "code",
   "execution_count": 8,
   "metadata": {},
   "outputs": [],
   "source": [
    "df = df[['NEE_SOLO_EC', 'GPP_SOLO_EC', 'ER_SOLO_EC', 'FLUXCOM_RS_NEE',\n",
    "       'CABLE_BIOS_NEE', 'FLUXCOM_RS_GPP', 'GOSIF_GPP', 'FLUXCOM_RS_ER',\n",
    "       'CABLE_BIOS_GPP', 'MODIS_GPP', 'CABLE_BIOS_ER', 'site', 'This_Study_NEE', 'This_Study_GPP', 'This_Study_ER'\n",
    "        ]]\n",
    " # \n",
    "# df = df.dropna()"
   ]
  },
  {
   "cell_type": "markdown",
   "metadata": {},
   "source": [
    "## Plot"
   ]
  },
  {
   "cell_type": "code",
   "execution_count": 33,
   "metadata": {},
   "outputs": [],
   "source": [
    "# fig,ax = plt.subplots(3,1, figsize=(11,11), sharex=True)\n",
    "# df[df['site']=='Tumba']['ER_SOLO_EC'].plot(ax=ax[0], label='Obs. ER')\n",
    "# df[df['site']=='Tumba']['This_Study_ER'].plot(ax=ax[0], label='This Study ER')\n",
    "# df[df['site']=='Tumba']['FLUXCOM_RS_ER'].plot(ax=ax[0], label='FLUXCOM-RS ER')\n",
    "# ax[0].legend()\n",
    "# ax[0].set_ylabel('ER (gC m\\N{SUPERSCRIPT TWO} m⁻¹)')\n",
    "# df[df['site']=='Tumba']['GPP_SOLO_EC'].plot(ax=ax[1], label='Obs. GPP')\n",
    "# df[df['site']=='Tumba']['This_Study_GPP'].plot(ax=ax[1], label='This Study GPP')\n",
    "# df[df['site']=='Tumba']['FLUXCOM_RS_GPP'].plot(ax=ax[1], label='FLUXCOM-RS GPP')\n",
    "# ax[1].legend()\n",
    "# ax[1].set_ylabel('GPP (gC m\\N{SUPERSCRIPT TWO} m⁻¹)')\n",
    "# df[df['site']=='Tumba']['NEE_SOLO_EC'].plot(ax=ax[2], label='Obs. NEE')\n",
    "# df[df['site']=='Tumba']['This_Study_NEE'].plot(ax=ax[2], label='This Study NEE')\n",
    "# df[df['site']=='Tumba']['FLUXCOM_RS_NEE'].plot(ax=ax[2], label='FLUXCOM-RS NEE')\n",
    "# ax[2].axhline(0, c='grey')\n",
    "# ax[2].set_ylabel('NEE (gC m\\N{SUPERSCRIPT TWO} m⁻¹)')\n",
    "# ax[2].legend()\n",
    "# plt.tight_layout();"
   ]
  },
  {
   "cell_type": "code",
   "execution_count": 6,
   "metadata": {},
   "outputs": [],
   "source": [
    "var='ER'"
   ]
  },
  {
   "cell_type": "code",
   "execution_count": null,
   "metadata": {},
   "outputs": [],
   "source": [
    "if var == 'GPP':\n",
    "    products=['This_Study_'+var,'CABLE_BIOS_'+var, 'FLUXCOM_RS_'+var, 'MODIS_'+var, 'GOSIF_'+var] #\n",
    "    fig,axes = plt.subplots(2,3, figsize=(18,12), sharey=True, sharex=True)\n",
    "    \n",
    "else:\n",
    "    products=['This_Study_'+var, 'CABLE_BIOS_'+var, 'FLUXCOM_RS_'+var] #'This_Study_'+var,\n",
    "    fig,axes = plt.subplots(1,3, figsize=(18,7), sharey=True, sharex=True)\n",
    "\n",
    "for prod, ax in zip(products, axes.ravel()):\n",
    "    \n",
    "    obs,pred = df[var+'_SOLO_EC'].values, df[prod].values\n",
    "    slope, intercept, r_value, p_value, std_err = stats.linregress(obs,pred)\n",
    "    r2 = r_value**2\n",
    "    # r2 = r2_score(obs, pred)\n",
    "    # r2 = sp.stats.pearsonr(obs, pred)\n",
    "    ac = mean_absolute_error(obs, pred)\n",
    "    \n",
    "    xy = np.vstack([obs,pred])\n",
    "    z = gaussian_kde(xy)(xy)\n",
    "\n",
    "    sb.scatterplot(data=df, x=var+'_SOLO_EC',y=prod, c=z, s=50, lw=1, alpha=0.5, ax=ax)\n",
    "    sb.regplot(data=df, x=var+'_SOLO_EC',y=prod, scatter=False, color='red', ax=ax)\n",
    "    sb.regplot(data=df, x=var+'_SOLO_EC',y=var+'_SOLO_EC', color='black', scatter=False, line_kws={'linestyle':'dashed'}, ax=ax)\n",
    "    ax.set_title(prod, fontsize=20)\n",
    "    ax.set_xlabel('')\n",
    "    ax.set_ylabel('')\n",
    "    # ax.set_aspect(1.5)\n",
    "    ax.text(.05, .90, 'r\\N{SUPERSCRIPT TWO}={:.2f}'.format(np.mean(r2)),\n",
    "            transform=ax.transAxes, fontsize=20)\n",
    "    ax.text(.05, .825, 'MAE={:.3g}'.format(np.mean(ac)),\n",
    "            transform=ax.transAxes, fontsize=20)\n",
    "    ax.tick_params(axis='x', labelsize=20)\n",
    "    ax.tick_params(axis='y', labelsize=20)\n",
    "\n",
    "fig.supylabel('Predicted '+var+' (gC m\\N{SUPERSCRIPT TWO} m⁻¹)', fontsize=20)\n",
    "fig.supxlabel('Observed '+var+' (gC m\\N{SUPERSCRIPT TWO} m⁻¹)', fontsize=20, y=0.025);\n",
    "plt.tight_layout(pad=1.75)\n",
    "fig.savefig('/g/data/os22/chad_tmp/NEE_modelling/results/figs/cross_val_intercomparison_'+var+'.png', bbox_inches='tight')"
   ]
  },
  {
   "cell_type": "code",
   "execution_count": null,
   "metadata": {},
   "outputs": [],
   "source": []
  }
 ],
 "metadata": {
  "kernelspec": {
   "display_name": "Python 3 (ipykernel)",
   "language": "python",
   "name": "python3"
  },
  "language_info": {
   "codemirror_mode": {
    "name": "ipython",
    "version": 3
   },
   "file_extension": ".py",
   "mimetype": "text/x-python",
   "name": "python",
   "nbconvert_exporter": "python",
   "pygments_lexer": "ipython3",
   "version": "3.8.8"
  }
 },
 "nbformat": 4,
 "nbformat_minor": 4
}
