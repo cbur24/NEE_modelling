{
 "cells": [
  {
   "cell_type": "markdown",
   "id": "f01dc010-fbc3-4c49-8d32-eb30c7828a3b",
   "metadata": {},
   "source": [
    "## Gridded Datasets"
   ]
  },
  {
   "cell_type": "markdown",
   "id": "25389b40-e265-41cd-9709-db464d04ebbc",
   "metadata": {},
   "source": [
    "* ~~%tree, non-tree, non-veg (`MODIS/006/MOD44B`) from MODIS instead of LULC~~\n",
    "* ~~Redo reprojection of MODIS datasets with nodata flag set so NaNs aren't propogated~~\n",
    "* ~~**Need to extract pixel values at finer (500m - 1km) spatial resolution for the MODIS datasets - fragmented landscapes are causing havoc with the predictions since a forest surrounded by pasture/crop or vice versa throws off the 5 km re-scaled data e.g. Samford site, Boyagin**~~\n",
    "* **Consider creating PFT specific models: grass, crops, shrubs, Tree, (tropical trees?)**\n",
    "* ~~MODIS months since burn date~~\n",
    "* GPM-IMERG instead of CHIRPS, 6-month cml and 12-mnt cml, Cumulative Water Deficit\n",
    "* ~~Fill NaNs in fire disturbance with 120 values...or not?~~\n",
    "* ~~Extract GOSIF GPP and MODIS GPP for comparisons~~\n",
    "* Digital Elevation Model\n",
    "* Coefficient of variation for rainfall (std.dev of annual P / Mean Annual P) (Page et al 2022 - memory effects)\n",
    "* Extract MODIS surface relfectance bands:\n",
    "    * ~~Add NDWI as a general proxy for soil moisture~~\n",
    "    * Use NIRV instead of EVI\n",
    "        * NIRV = (NDVI-0.08) x NIR\n",
    "* ~~Do my own Aridity Index instead of CGIAR's~~\n",
    "* Update TerraClimate 'Moisture Index' with one derived from AWRA+CHIRPS (GPM-IMERG) data\n",
    "* The last 4 months of TerraClimate 'CWD' is dodgy `CWD_5km_monthly_2002_2021.nc`\n",
    "* Synoptic CO2 as predictor?\n",
    "* Soil grids: upper horizon organic carbon and clay`/g/data/fj4/Soil_Landscape_grid/TERNLandscape_90m`\n",
    "* ~~Topographic wetness index https://portal.tern.org.au/topographic-wetness-index-dem-h/17355~~\n",
    "\n"
   ]
  },
  {
   "cell_type": "markdown",
   "id": "b71e5d92-3635-4d5e-b89f-8af92f5b84bb",
   "metadata": {},
   "source": [
    "## Modelling"
   ]
  },
  {
   "cell_type": "markdown",
   "id": "028e0a23-34c8-4590-9d85-34b08776843b",
   "metadata": {},
   "source": [
    "* ~~Make an ET model as well~~\n",
    "* ~~Implement spatial Cross-validation to prevent test points coming from the same EC tower as training points.~~\n",
    "* Consider balancing landcover types in EC data, so less data from Trees\n",
    "* Consider implementing time-series splits for k-fold cross validation https://scikit-learn.org/stable/modules/generated/sklearn.model_selection.TimeSeriesSplit.html\n",
    "\n",
    "If using categorical data like LULC:\n",
    "* one-hot-encoding but this may be a poor way of handling categorical variables in this case:\n",
    "* https://notebook.community/roaminsight/roamresearch/BlogPosts/Categorical_variables_in_tree_models/categorical_variables_post\n",
    "* https://notebook.community/marcotcr/lime/doc/notebooks/Tutorial_H2O_continuous_and_cat\n",
    "* `LightGBM` handles categorical variables well: https://lightgbm.readthedocs.io/en/latest/Features.html#optimal-split-for-categorical-features\n",
    "\n",
    "* Compare various CV techniques\n",
    "    * ~~Random splits~~\n",
    "    * ~~leave-one-group-out (spatial)~~\n",
    "    * time-series-splits"
   ]
  },
  {
   "cell_type": "markdown",
   "id": "6265533c-cf75-4620-8cba-dff4ea8e03e8",
   "metadata": {},
   "source": [
    "## Plotting/Analysis"
   ]
  },
  {
   "cell_type": "markdown",
   "id": "e0f71a21-3c90-4d35-a577-5d0e3428f1cc",
   "metadata": {},
   "source": [
    "* ~~Make a map where the pixels are color coded to show which month each pixel has the largest carbon sink~~"
   ]
  },
  {
   "cell_type": "markdown",
   "id": "9c2b8c89-0335-43da-8118-3a22a2484eb1",
   "metadata": {},
   "source": [
    "## Reading"
   ]
  },
  {
   "cell_type": "markdown",
   "id": "d44211c0-a94c-4c17-9ea2-418696b26777",
   "metadata": {},
   "source": [
    "* ~~EC tower data QC papers by Peter Isaac~~\n",
    "* ~~Cleverly's papers examining climate drivers of C fluxes~~\n",
    "* ~~Biogeosciences special issues on OzFlux: https://bg.copernicus.org/articles/special_issue618.html~~\n",
    "* ~~Li, X., Xiao, J. (2019) Mapping photosynthesis solely from solar-induced chlorophyll fluorescence: A global, fine-resolution dataset of gross primary production derived from OCO-2. Remote Sensing, 11(21), 2563; https://doi.org/10.3390/rs11212563.~~\n",
    "* Drought rapidly diminishes the large net CO2 uptake in 2011 over semi-arid Australia\n",
    "* Terrestrial carbon cycle model-data fusion: Progress and challenges\n",
    "* Measuring fluxes of trace gases and energy between ecosystems and the atmosphere–the state and future of the eddy covariance method\n",
    "* ~~An introduction to the Australian and New Zealand flux tower network – OzFlux~~\n",
    "* Fire in Australian savannas: from leaf to landscape\n",
    "* Multiple observation types reduce uncertainty in Australia’s terrestrial carbon and water cycles\n",
    "* Dryland vegetation response to wet episode, not inherent shift in sensitivity to rainfall, behind Australia’s role in 2011 global carbon sink anomaly\n",
    "* Learning from imbalanced data: open challenges and future directions"
   ]
  },
  {
   "cell_type": "markdown",
   "id": "78db068b-5bf1-42ab-aef8-3627d6c061ba",
   "metadata": {},
   "source": [
    "## Writing\n",
    "\n",
    "* Literature review for chapter 1, upscaling EC Tower data\n",
    "* Literature review for chapter 2, causal inference on time-series"
   ]
  },
  {
   "cell_type": "markdown",
   "id": "9fa10da7-803b-414c-adb8-abc17743cb25",
   "metadata": {},
   "source": [
    "## Questions"
   ]
  },
  {
   "cell_type": "markdown",
   "id": "24463e01-9b15-4246-a2b8-cd82eefc0345",
   "metadata": {},
   "source": [
    "1. Need guidance on the best approach for cross-validation:\n",
    "    * time-series-splits difficult because training on 29 seperate time-series\n",
    "    * Nested, random k-fold splits will include some data leakage but not as bad as would be typical  because 29 seperate time-series. Should expect some over-estimation of test-scores\n",
    "    * Spatial K-fold will exclude whole time-series from the training and test on those - this will certainly mean there is no data leakage but test-scores will most likely be underestimated, and hyperparameters may be then biased to those sites that are easier to predict.\n",
    "\n",
    "2. Sometimes GPP in the flux tower data is negative...what is the best approach to dealing with this? Set to zero? If setting to zero, then should the other fluxes be modified?\n",
    "3. Imbalance in the training data.\n",
    "    * Should I consider better balancing the proportions of woody vs grassy ecosystems in the training data? For example by randomly sampling fewer years of data from the woody sites?\n",
    "    * imbalance in number of large vs small fluxes? Oversample large fluxes?\n",
    "    * Algorithmic: [SMOTE](https://machinelearningmastery.com/smote-oversampling-for-imbalanced-classification/)\n",
    "4. How to include 'synoptic' CO2 measurements in the modelling/predictions?\n",
    "5. Do you think its possible to validate these estimates of NEE using site level NEE from GEM sites?\n",
    "6. Months since burnt, only for Trees? What should the starting months be? Or should it be a binary: if burnt anytime in last 10 years = 1, if not = 0. \n",
    "7. What is Ozwald GPP?\n",
    "8. Have the EC sites been used to study the 2019 drought?\n",
    "9. Should I implement a urban model? Suggested in reitz etal 2021"
   ]
  },
  {
   "cell_type": "markdown",
   "id": "195b6035-6627-4695-b4b8-588333051355",
   "metadata": {},
   "source": [
    "virtual env path: `/g/data/os22/chad_tmp/NEE_modelling/env/nee`\n",
    "\n",
    "`https://dap.tern.org.au/thredds/catalog.html`"
   ]
  },
  {
   "cell_type": "code",
   "execution_count": null,
   "id": "a076d53a-efc1-454c-b6d2-c21c93b976ca",
   "metadata": {},
   "outputs": [],
   "source": []
  }
 ],
 "metadata": {
  "kernelspec": {
   "display_name": "Python 3 (ipykernel)",
   "language": "python",
   "name": "python3"
  },
  "language_info": {
   "codemirror_mode": {
    "name": "ipython",
    "version": 3
   },
   "file_extension": ".py",
   "mimetype": "text/x-python",
   "name": "python",
   "nbconvert_exporter": "python",
   "pygments_lexer": "ipython3",
   "version": "3.8.8"
  }
 },
 "nbformat": 4,
 "nbformat_minor": 5
}
