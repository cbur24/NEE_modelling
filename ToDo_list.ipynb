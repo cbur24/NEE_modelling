{
 "cells": [
  {
   "cell_type": "markdown",
   "id": "f01dc010-fbc3-4c49-8d32-eb30c7828a3b",
   "metadata": {},
   "source": [
    "## Gridded Datasets"
   ]
  },
  {
   "cell_type": "markdown",
   "id": "25389b40-e265-41cd-9709-db464d04ebbc",
   "metadata": {},
   "source": [
    "* ~~%tree, non-tree, non-veg (`MODIS/006/MOD44B`) from MODIS instead of LULC~~\n",
    "* ~~Redo reprojection of MODIS datasets with nodata flag set so NaNs aren't propogated~~\n",
    "* months since burn date: `/g/data/ub8/au/MODIS/mosaic/MCD64A1.006`\n",
    "* GPM-IMERG instead of CHIRPS, 6-month cml and 12-mnt cml, Cumulative Water Deficit\n",
    "* Extract MODIS surface relfectance bands:\n",
    "    * Add NDWI as a general proxy for soil moisture\n",
    "    * Use NIRV instead of EVI\n",
    "        * NIRV = (NDVI-0.08) x NIR\n",
    "* ~~Do my own Aridity Index instead of CGIAR's~~\n",
    "* Update TerraClimate 'Moisture Index' with one derived from AWRA+CHIRPS (GPM-IMERG) data\n",
    "* The last 4 months of TerraClimate 'CWD' is dodgy `CWD_5km_monthly_2002_2021.nc`\n",
    "* Synoptic CO2 as predictor?\n",
    "* Soil grids: upper horizon organic carbon and clay`/g/data/fj4/Soil_Landscape_grid/TERNLandscape_90m`\n",
    "* ~~Topographic wetness index https://portal.tern.org.au/topographic-wetness-index-dem-h/17355~~"
   ]
  },
  {
   "cell_type": "markdown",
   "id": "b71e5d92-3635-4d5e-b89f-8af92f5b84bb",
   "metadata": {},
   "source": [
    "## Modelling"
   ]
  },
  {
   "cell_type": "markdown",
   "id": "028e0a23-34c8-4590-9d85-34b08776843b",
   "metadata": {},
   "source": [
    "* ~~Make an ET model as well~~\n",
    "* ~~Implement spatial Cross-validation to prevent test points coming from the same EC tower as training points.~~\n",
    "* Consider balancing landcover types in EC data, so less data from Trees\n",
    "* Consider implementing time-series splits for k-fold cross validation https://scikit-learn.org/stable/modules/generated/sklearn.model_selection.TimeSeriesSplit.html\n",
    "\n",
    "If using categorical data like LULC:\n",
    "* one-hot-encoding but this may be a poor way of handling categorical variables in this case:\n",
    "* https://notebook.community/roaminsight/roamresearch/BlogPosts/Categorical_variables_in_tree_models/categorical_variables_post\n",
    "* https://notebook.community/marcotcr/lime/doc/notebooks/Tutorial_H2O_continuous_and_cat\n",
    "* `LightGBM` handles categorical variables well: https://lightgbm.readthedocs.io/en/latest/Features.html#optimal-split-for-categorical-features\n"
   ]
  },
  {
   "cell_type": "markdown",
   "id": "6265533c-cf75-4620-8cba-dff4ea8e03e8",
   "metadata": {},
   "source": [
    "## Plotting/Analysis"
   ]
  },
  {
   "cell_type": "markdown",
   "id": "e0f71a21-3c90-4d35-a577-5d0e3428f1cc",
   "metadata": {},
   "source": [
    "* Make a map where the pixels are color coded to show which month each pixel has the largest carbon sink"
   ]
  },
  {
   "cell_type": "markdown",
   "id": "9c2b8c89-0335-43da-8118-3a22a2484eb1",
   "metadata": {},
   "source": [
    "## Reading"
   ]
  },
  {
   "cell_type": "markdown",
   "id": "d44211c0-a94c-4c17-9ea2-418696b26777",
   "metadata": {},
   "source": [
    "* EC tower data QC papers by Peter Isaac\n",
    "* Cleverly's papers examining climate drivers of C fluxes\n",
    "* Biogeosciences special issues on OzFlux: https://bg.copernicus.org/articles/special_issue618.html\n"
   ]
  },
  {
   "cell_type": "markdown",
   "id": "9fa10da7-803b-414c-adb8-abc17743cb25",
   "metadata": {},
   "source": [
    "## Questions"
   ]
  },
  {
   "cell_type": "markdown",
   "id": "24463e01-9b15-4246-a2b8-cd82eefc0345",
   "metadata": {},
   "source": [
    "* Need guidance on the best approach for cross-validation:\n",
    "    * time-series-splits difficult because training on 29 seperate time-series\n",
    "    * Nested, random k-fold splits will include some data leakage but not as bad as would be typical  because 29 seperate time-series. Should expect some over-estimation of test-scores\n",
    "/g/data/os22/chad_tmp/NEE_modelling/env/nee    * Spatial K-fold will exclude whole time-series from the training and test on those - this will certainly mean there is no data leakage but test-scores will most likely be underestimated, and hyperparameters may be then biased to those sites that are easier to predict. "
   ]
  },
  {
   "cell_type": "markdown",
   "id": "195b6035-6627-4695-b4b8-588333051355",
   "metadata": {},
   "source": [
    "virtual env path: `/g/data/os22/chad_tmp/NEE_modelling/env/nee`"
   ]
  }
 ],
 "metadata": {
  "kernelspec": {
   "display_name": "Python 3 (ipykernel)",
   "language": "python",
   "name": "python3"
  },
  "language_info": {
   "codemirror_mode": {
    "name": "ipython",
    "version": 3
   },
   "file_extension": ".py",
   "mimetype": "text/x-python",
   "name": "python",
   "nbconvert_exporter": "python",
   "pygments_lexer": "ipython3",
   "version": "3.8.8"
  }
 },
 "nbformat": 4,
 "nbformat_minor": 5
}
