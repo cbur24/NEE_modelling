{
 "cells": [
  {
   "cell_type": "markdown",
   "metadata": {},
   "source": [
    "# Analyse modelled fluxes\n",
    "\n",
    "- Should also compare results of gridded NEE predictions (correlations etc.) with EC point data to see if they follow the same trends. "
   ]
  },
  {
   "cell_type": "code",
   "execution_count": null,
   "metadata": {},
   "outputs": [],
   "source": [
    "import sys\n",
    "import xarray as xr\n",
    "import numpy as np\n",
    "from matplotlib import pyplot as plt\n",
    "from datacube.utils.dask import start_local_dask"
   ]
  },
  {
   "cell_type": "code",
   "execution_count": null,
   "metadata": {},
   "outputs": [],
   "source": [
    "client = start_local_dask(mem_safety_margin='2Gb')\n",
    "client"
   ]
  },
  {
   "cell_type": "markdown",
   "metadata": {},
   "source": [
    "## Open predictor data"
   ]
  },
  {
   "cell_type": "code",
   "execution_count": null,
   "metadata": {},
   "outputs": [],
   "source": [
    "data0 = xr.open_dataset('/g/data/os22/chad_tmp/NEE_modelling/results/input_data/input_data_2015.nc',\n",
    "                       chunks=dict(x=1000,y=1000))\n",
    "data1 = xr.open_dataset('/g/data/os22/chad_tmp/NEE_modelling/results/input_data/input_data_2016.nc',\n",
    "                       chunks=dict(x=1000,y=1000))\n",
    "data2 = xr.open_dataset('/g/data/os22/chad_tmp/NEE_modelling/results/input_data/input_data_2017.nc',\n",
    "                       chunks=dict(x=1000,y=1000))\n",
    "data3 = xr.open_dataset('/g/data/os22/chad_tmp/NEE_modelling/results/input_data/input_data_2018.nc',\n",
    "                       chunks=dict(x=1000,y=1000))\n",
    "data4 = xr.open_dataset('/g/data/os22/chad_tmp/NEE_modelling/results/input_data/input_data_2019.nc',\n",
    "                       chunks=dict(x=1000,y=1000))\n",
    "data5 = xr.open_dataset('/g/data/os22/chad_tmp/NEE_modelling/results/input_data/input_data_2020.nc',\n",
    "                       chunks=dict(x=1000,y=1000))"
   ]
  },
  {
   "cell_type": "code",
   "execution_count": null,
   "metadata": {},
   "outputs": [],
   "source": [
    "data = xr.concat([data0,data1,data2,data3,data4,data5], dim='time').sortby('time')"
   ]
  },
  {
   "cell_type": "markdown",
   "metadata": {},
   "source": [
    "## Open predictions"
   ]
  },
  {
   "cell_type": "code",
   "execution_count": null,
   "metadata": {},
   "outputs": [],
   "source": [
    "nee = xr.open_dataarray('/g/data/os22/chad_tmp/NEE_modelling/results/predictions/nee_AUS_2015_2020.nc',\n",
    "                       chunks=dict(x=1000,y=1000))"
   ]
  },
  {
   "cell_type": "markdown",
   "metadata": {},
   "source": [
    "# Compute correlations\n",
    "\n",
    "TODO: compute p-values and plot hashes over areas with significance > 0.05\n",
    "https://xskillscore.readthedocs.io/en/stable/api/xskillscore.pearson_r_eff_p_value.html"
   ]
  },
  {
   "cell_type": "code",
   "execution_count": null,
   "metadata": {},
   "outputs": [],
   "source": [
    "data = data.sel(time=nee.time) #match times"
   ]
  },
  {
   "cell_type": "code",
   "execution_count": null,
   "metadata": {},
   "outputs": [],
   "source": [
    "precip_corr = xr.corr(nee, data['rain'], dim='time').compute()\n",
    "lai_corr = xr.corr(nee, data['lai'], dim='time').compute()\n",
    "sm_corr = xr.corr(nee, data['soil_moisture'], dim='time').compute()\n",
    "tavg_corr = xr.corr(nee, data['tavg'], dim='time').compute()"
   ]
  },
  {
   "cell_type": "code",
   "execution_count": null,
   "metadata": {},
   "outputs": [],
   "source": [
    "sm_corr.plot.imshow(size=6, vmin=-1, vmax=1, cmap='RdBu')\n",
    "plt.title('Pearson correlation: NEE & Soil Moisture');"
   ]
  },
  {
   "cell_type": "code",
   "execution_count": null,
   "metadata": {},
   "outputs": [],
   "source": [
    "lai_corr.plot.imshow(size=6, vmin=-1, vmax=1, cmap='RdBu')\n",
    "plt.title('Pearson correlation: NEE & Leaf Area Index');"
   ]
  },
  {
   "cell_type": "code",
   "execution_count": null,
   "metadata": {},
   "outputs": [],
   "source": [
    "tavg_corr.plot.imshow(size=6, vmin=-1, vmax=1, cmap='RdBu')\n",
    "plt.title('Pearson correlation: NEE & Average Temperature');"
   ]
  },
  {
   "cell_type": "code",
   "execution_count": null,
   "metadata": {},
   "outputs": [],
   "source": [
    "precip_corr.plot.imshow(size=6, vmin=-1, vmax=1, cmap='RdBu')\n",
    "plt.title('Pearson correlation: NEE & Precipitation');"
   ]
  },
  {
   "cell_type": "markdown",
   "metadata": {},
   "source": [
    "## Plot relationships between NEE, GPP, ER and environmental variables (P, T, SM etc)\n",
    "\n",
    "Following Lui et al. (2018) "
   ]
  },
  {
   "cell_type": "code",
   "execution_count": null,
   "metadata": {},
   "outputs": [],
   "source": []
  },
  {
   "cell_type": "code",
   "execution_count": null,
   "metadata": {},
   "outputs": [],
   "source": []
  }
 ],
 "metadata": {
  "kernelspec": {
   "display_name": "Python 3 (ipykernel)",
   "language": "python",
   "name": "python3"
  },
  "language_info": {
   "codemirror_mode": {
    "name": "ipython",
    "version": 3
   },
   "file_extension": ".py",
   "mimetype": "text/x-python",
   "name": "python",
   "nbconvert_exporter": "python",
   "pygments_lexer": "ipython3",
   "version": "3.9.2"
  }
 },
 "nbformat": 4,
 "nbformat_minor": 4
}
