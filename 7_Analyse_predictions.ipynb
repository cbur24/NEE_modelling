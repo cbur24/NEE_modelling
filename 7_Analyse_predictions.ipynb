{
 "cells": [
  {
   "cell_type": "markdown",
   "metadata": {},
   "source": [
    "# Analyse modelled fluxes\n"
   ]
  },
  {
   "cell_type": "code",
   "execution_count": 1,
   "metadata": {},
   "outputs": [],
   "source": [
    "import sys\n",
    "import xarray as xr\n",
    "import numpy as np\n",
    "from scipy import stats\n",
    "import scipy as sp\n",
    "import geopandas as gpd\n",
    "import pandas as pd\n",
    "from odc.algo import xr_reproject\n",
    "from matplotlib import pyplot as plt\n",
    "from datacube.utils.dask import start_local_dask\n",
    "\n",
    "sys.path.append('/g/data/os22/chad_tmp/dea-notebooks/Tools/')\n",
    "from dea_tools.spatial import xr_rasterize"
   ]
  },
  {
   "cell_type": "code",
   "execution_count": 2,
   "metadata": {},
   "outputs": [
    {
     "name": "stderr",
     "output_type": "stream",
     "text": [
      "2023-02-03 09:47:24,490 - distributed.diskutils - INFO - Found stale lock file and directory '/local/u46/cb3058/tmp/dask-worker-space/worker-tbn07092', purging\n"
     ]
    },
    {
     "data": {
      "text/html": [
       "<div>\n",
       "    <div style=\"width: 24px; height: 24px; background-color: #e1e1e1; border: 3px solid #9D9D9D; border-radius: 5px; position: absolute;\"> </div>\n",
       "    <div style=\"margin-left: 48px;\">\n",
       "        <h3 style=\"margin-bottom: 0px;\">Client</h3>\n",
       "        <p style=\"color: #9D9D9D; margin-bottom: 0px;\">Client-8979c34c-a34b-11ed-a006-fa163e4c69f8</p>\n",
       "        <table style=\"width: 100%; text-align: left;\">\n",
       "\n",
       "        <tr>\n",
       "        \n",
       "            <td style=\"text-align: left;\"><strong>Connection method:</strong> Cluster object</td>\n",
       "            <td style=\"text-align: left;\"><strong>Cluster type:</strong> distributed.LocalCluster</td>\n",
       "        \n",
       "        </tr>\n",
       "\n",
       "        \n",
       "            <tr>\n",
       "                <td style=\"text-align: left;\">\n",
       "                    <strong>Dashboard: </strong> <a href=\"/proxy/8787/status\" target=\"_blank\">/proxy/8787/status</a>\n",
       "                </td>\n",
       "                <td style=\"text-align: left;\"></td>\n",
       "            </tr>\n",
       "        \n",
       "\n",
       "        </table>\n",
       "\n",
       "        \n",
       "            <details>\n",
       "            <summary style=\"margin-bottom: 20px;\"><h3 style=\"display: inline;\">Cluster Info</h3></summary>\n",
       "            <div class=\"jp-RenderedHTMLCommon jp-RenderedHTML jp-mod-trusted jp-OutputArea-output\">\n",
       "    <div style=\"width: 24px; height: 24px; background-color: #e1e1e1; border: 3px solid #9D9D9D; border-radius: 5px; position: absolute;\">\n",
       "    </div>\n",
       "    <div style=\"margin-left: 48px;\">\n",
       "        <h3 style=\"margin-bottom: 0px; margin-top: 0px;\">LocalCluster</h3>\n",
       "        <p style=\"color: #9D9D9D; margin-bottom: 0px;\">eda54618</p>\n",
       "        <table style=\"width: 100%; text-align: left;\">\n",
       "            <tr>\n",
       "                <td style=\"text-align: left;\">\n",
       "                    <strong>Dashboard:</strong> <a href=\"/proxy/8787/status\" target=\"_blank\">/proxy/8787/status</a>\n",
       "                </td>\n",
       "                <td style=\"text-align: left;\">\n",
       "                    <strong>Workers:</strong> 1\n",
       "                </td>\n",
       "            </tr>\n",
       "            <tr>\n",
       "                <td style=\"text-align: left;\">\n",
       "                    <strong>Total threads:</strong> 16\n",
       "                </td>\n",
       "                <td style=\"text-align: left;\">\n",
       "                    <strong>Total memory:</strong> 44.92 GiB\n",
       "                </td>\n",
       "            </tr>\n",
       "            \n",
       "            <tr>\n",
       "    <td style=\"text-align: left;\"><strong>Status:</strong> running</td>\n",
       "    <td style=\"text-align: left;\"><strong>Using processes:</strong> True</td>\n",
       "</tr>\n",
       "\n",
       "            \n",
       "        </table>\n",
       "\n",
       "        <details>\n",
       "            <summary style=\"margin-bottom: 20px;\">\n",
       "                <h3 style=\"display: inline;\">Scheduler Info</h3>\n",
       "            </summary>\n",
       "\n",
       "            <div style=\"\">\n",
       "    <div>\n",
       "        <div style=\"width: 24px; height: 24px; background-color: #FFF7E5; border: 3px solid #FF6132; border-radius: 5px; position: absolute;\"> </div>\n",
       "        <div style=\"margin-left: 48px;\">\n",
       "            <h3 style=\"margin-bottom: 0px;\">Scheduler</h3>\n",
       "            <p style=\"color: #9D9D9D; margin-bottom: 0px;\">Scheduler-32d80c1f-0a4e-4bb6-b2fa-b680910b8d8c</p>\n",
       "            <table style=\"width: 100%; text-align: left;\">\n",
       "                <tr>\n",
       "                    <td style=\"text-align: left;\">\n",
       "                        <strong>Comm:</strong> tcp://127.0.0.1:45667\n",
       "                    </td>\n",
       "                    <td style=\"text-align: left;\">\n",
       "                        <strong>Workers:</strong> 1\n",
       "                    </td>\n",
       "                </tr>\n",
       "                <tr>\n",
       "                    <td style=\"text-align: left;\">\n",
       "                        <strong>Dashboard:</strong> <a href=\"/proxy/8787/status\" target=\"_blank\">/proxy/8787/status</a>\n",
       "                    </td>\n",
       "                    <td style=\"text-align: left;\">\n",
       "                        <strong>Total threads:</strong> 16\n",
       "                    </td>\n",
       "                </tr>\n",
       "                <tr>\n",
       "                    <td style=\"text-align: left;\">\n",
       "                        <strong>Started:</strong> Just now\n",
       "                    </td>\n",
       "                    <td style=\"text-align: left;\">\n",
       "                        <strong>Total memory:</strong> 44.92 GiB\n",
       "                    </td>\n",
       "                </tr>\n",
       "            </table>\n",
       "        </div>\n",
       "    </div>\n",
       "\n",
       "    <details style=\"margin-left: 48px;\">\n",
       "        <summary style=\"margin-bottom: 20px;\">\n",
       "            <h3 style=\"display: inline;\">Workers</h3>\n",
       "        </summary>\n",
       "\n",
       "        \n",
       "        <div style=\"margin-bottom: 20px;\">\n",
       "            <div style=\"width: 24px; height: 24px; background-color: #DBF5FF; border: 3px solid #4CC9FF; border-radius: 5px; position: absolute;\"> </div>\n",
       "            <div style=\"margin-left: 48px;\">\n",
       "            <details>\n",
       "                <summary>\n",
       "                    <h4 style=\"margin-bottom: 0px; display: inline;\">Worker: 0</h4>\n",
       "                </summary>\n",
       "                <table style=\"width: 100%; text-align: left;\">\n",
       "                    <tr>\n",
       "                        <td style=\"text-align: left;\">\n",
       "                            <strong>Comm: </strong> tcp://127.0.0.1:34625\n",
       "                        </td>\n",
       "                        <td style=\"text-align: left;\">\n",
       "                            <strong>Total threads: </strong> 16\n",
       "                        </td>\n",
       "                    </tr>\n",
       "                    <tr>\n",
       "                        <td style=\"text-align: left;\">\n",
       "                            <strong>Dashboard: </strong> <a href=\"/proxy/36623/status\" target=\"_blank\">/proxy/36623/status</a>\n",
       "                        </td>\n",
       "                        <td style=\"text-align: left;\">\n",
       "                            <strong>Memory: </strong> 44.92 GiB\n",
       "                        </td>\n",
       "                    </tr>\n",
       "                    <tr>\n",
       "                        <td style=\"text-align: left;\">\n",
       "                            <strong>Nanny: </strong> tcp://127.0.0.1:38937\n",
       "                        </td>\n",
       "                        <td style=\"text-align: left;\"></td>\n",
       "                    </tr>\n",
       "                    <tr>\n",
       "                        <td colspan=\"2\" style=\"text-align: left;\">\n",
       "                            <strong>Local directory: </strong> /local/u46/cb3058/tmp/dask-worker-space/worker-gzim8vq3\n",
       "                        </td>\n",
       "                    </tr>\n",
       "\n",
       "                    \n",
       "\n",
       "                    \n",
       "\n",
       "                </table>\n",
       "            </details>\n",
       "            </div>\n",
       "        </div>\n",
       "        \n",
       "\n",
       "    </details>\n",
       "</div>\n",
       "\n",
       "        </details>\n",
       "    </div>\n",
       "</div>\n",
       "            </details>\n",
       "        \n",
       "\n",
       "    </div>\n",
       "</div>"
      ],
      "text/plain": [
       "<Client: 'tcp://127.0.0.1:45667' processes=1 threads=16, memory=44.92 GiB>"
      ]
     },
     "execution_count": 2,
     "metadata": {},
     "output_type": "execute_result"
    }
   ],
   "source": [
    "client = start_local_dask(mem_safety_margin='2Gb')\n",
    "client"
   ]
  },
  {
   "cell_type": "code",
   "execution_count": 34,
   "metadata": {},
   "outputs": [],
   "source": [
    "var = 'ER'\n",
    "suffix='20230109'\n",
    "results_name = var+'_2003_2021_5km_LGBM_'+suffix+'.nc'\n",
    "mask_path = '/g/data/os22/chad_tmp/NEE_modelling/results/prediction_data/mask_5km.nc'\n",
    "data_path = '/g/data/os22/chad_tmp/NEE_modelling/results/prediction_data/data_5km.nc'"
   ]
  },
  {
   "cell_type": "markdown",
   "metadata": {},
   "source": [
    "## Open predictions"
   ]
  },
  {
   "cell_type": "code",
   "execution_count": 35,
   "metadata": {},
   "outputs": [],
   "source": [
    "ds = xr.open_dataarray('/g/data/os22/chad_tmp/NEE_modelling/results/predictions/'+results_name,\n",
    "                       chunks=dict(x=250,y=250, time=-1))#.sel(time=slice('2003','2018'))"
   ]
  },
  {
   "cell_type": "code",
   "execution_count": 36,
   "metadata": {},
   "outputs": [],
   "source": [
    "grid = ds.odc.geobox.to_crs('EPSG:3577')\n",
    "ds = xr_reproject(ds, geobox=grid.compat, resampling='bilinear')\n",
    "area_per_pixel = ds.geobox.resolution[1]**2\n",
    "\n",
    "ds = ds * area_per_pixel * 1e-15 * 12"
   ]
  },
  {
   "cell_type": "markdown",
   "metadata": {},
   "source": [
    "## Open predictor data"
   ]
  },
  {
   "cell_type": "code",
   "execution_count": 24,
   "metadata": {
    "tags": []
   },
   "outputs": [],
   "source": [
    "data = xr.open_dataset(data_path,  chunks=dict(x=250,y=250, time=-1))\n",
    "data = xr_reproject(data, geobox=grid.compat, resampling='bilinear')"
   ]
  },
  {
   "cell_type": "markdown",
   "metadata": {},
   "source": [
    "## Correlations\n",
    "\n"
   ]
  },
  {
   "cell_type": "code",
   "execution_count": 25,
   "metadata": {},
   "outputs": [],
   "source": [
    "data_var='vpd'"
   ]
  },
  {
   "cell_type": "code",
   "execution_count": 26,
   "metadata": {},
   "outputs": [
    {
     "name": "stderr",
     "output_type": "stream",
     "text": [
      "/g/data/os22/chad_tmp/NEE_modelling/env/nee/lib/python3.8/site-packages/xarray/core/indexing.py:1228: PerformanceWarning: Slicing with an out-of-order index is generating 19 times more chunks\n",
      "  return self.array[key]\n"
     ]
    }
   ],
   "source": [
    "var_clim_mean = data[data_var].groupby('time.month').mean()\n",
    "var_anom = (data[data_var].groupby('time.month') - var_clim_mean).compute()\n",
    "\n",
    "var_clim_mean = var_clim_mean.compute()"
   ]
  },
  {
   "cell_type": "code",
   "execution_count": 37,
   "metadata": {},
   "outputs": [
    {
     "name": "stderr",
     "output_type": "stream",
     "text": [
      "/g/data/os22/chad_tmp/NEE_modelling/env/nee/lib/python3.8/site-packages/xarray/core/indexing.py:1228: PerformanceWarning: Slicing with an out-of-order index is generating 19 times more chunks\n",
      "  return self.array[key]\n"
     ]
    }
   ],
   "source": [
    "ds_clim_mean = ds.groupby('time.month').mean()\n",
    "ds_anom = (ds.groupby('time.month') - ds_clim_mean).compute()\n",
    "\n",
    "ds_clim_mean = ds_clim_mean.compute()"
   ]
  },
  {
   "cell_type": "markdown",
   "metadata": {},
   "source": [
    "### Create table of correlations per bioclimatic region"
   ]
  },
  {
   "cell_type": "code",
   "execution_count": 28,
   "metadata": {},
   "outputs": [
    {
     "data": {
      "text/html": [
       "<div>\n",
       "<style scoped>\n",
       "    .dataframe tbody tr th:only-of-type {\n",
       "        vertical-align: middle;\n",
       "    }\n",
       "\n",
       "    .dataframe tbody tr th {\n",
       "        vertical-align: top;\n",
       "    }\n",
       "\n",
       "    .dataframe thead th {\n",
       "        text-align: right;\n",
       "    }\n",
       "</style>\n",
       "<table border=\"1\" class=\"dataframe\">\n",
       "  <thead>\n",
       "    <tr style=\"text-align: right;\">\n",
       "      <th></th>\n",
       "      <th>bioclimatic_regions</th>\n",
       "      <th>region_name</th>\n",
       "      <th>geometry</th>\n",
       "    </tr>\n",
       "  </thead>\n",
       "  <tbody>\n",
       "    <tr>\n",
       "      <th>0</th>\n",
       "      <td>1.0</td>\n",
       "      <td>Tropics</td>\n",
       "      <td>MULTIPOLYGON (((122.92500 -16.42500, 122.92500...</td>\n",
       "    </tr>\n",
       "    <tr>\n",
       "      <th>1</th>\n",
       "      <td>2.0</td>\n",
       "      <td>Savanna</td>\n",
       "      <td>MULTIPOLYGON (((147.67500 -19.87500, 147.72500...</td>\n",
       "    </tr>\n",
       "    <tr>\n",
       "      <th>2</th>\n",
       "      <td>3.0</td>\n",
       "      <td>Warm Temperate</td>\n",
       "      <td>MULTIPOLYGON (((145.42500 -36.02500, 145.42500...</td>\n",
       "    </tr>\n",
       "    <tr>\n",
       "      <th>3</th>\n",
       "      <td>4.0</td>\n",
       "      <td>Cool Temperate</td>\n",
       "      <td>MULTIPOLYGON (((147.07500 -43.37500, 147.12500...</td>\n",
       "    </tr>\n",
       "    <tr>\n",
       "      <th>4</th>\n",
       "      <td>5.0</td>\n",
       "      <td>Mediterranean</td>\n",
       "      <td>MULTIPOLYGON (((135.82500 -34.87500, 135.82500...</td>\n",
       "    </tr>\n",
       "  </tbody>\n",
       "</table>\n",
       "</div>"
      ],
      "text/plain": [
       "   bioclimatic_regions     region_name  \\\n",
       "0                  1.0         Tropics   \n",
       "1                  2.0         Savanna   \n",
       "2                  3.0  Warm Temperate   \n",
       "3                  4.0  Cool Temperate   \n",
       "4                  5.0   Mediterranean   \n",
       "\n",
       "                                            geometry  \n",
       "0  MULTIPOLYGON (((122.92500 -16.42500, 122.92500...  \n",
       "1  MULTIPOLYGON (((147.67500 -19.87500, 147.72500...  \n",
       "2  MULTIPOLYGON (((145.42500 -36.02500, 145.42500...  \n",
       "3  MULTIPOLYGON (((147.07500 -43.37500, 147.12500...  \n",
       "4  MULTIPOLYGON (((135.82500 -34.87500, 135.82500...  "
      ]
     },
     "execution_count": 28,
     "metadata": {},
     "output_type": "execute_result"
    }
   ],
   "source": [
    "gdf = gpd.read_file('/g/data/os22/chad_tmp/NEE_modelling/data/bioclimatic_regions.geojson')\n",
    "gdf.head()"
   ]
  },
  {
   "cell_type": "code",
   "execution_count": 29,
   "metadata": {},
   "outputs": [],
   "source": [
    "data['vpd_anom'] = var_anom.drop('month')"
   ]
  },
  {
   "cell_type": "code",
   "execution_count": 38,
   "metadata": {},
   "outputs": [],
   "source": [
    "clim_vars = ['rain_anom', 'rain_cml3_anom', 'rain_cml6_anom','rain_cml12_anom', 'tavg_anom', 'srad_anom', 'vpd_anom', 'kNDVI_anom']"
   ]
  },
  {
   "cell_type": "code",
   "execution_count": 39,
   "metadata": {},
   "outputs": [
    {
     "name": "stdout",
     "output_type": "stream",
     "text": [
      "Tropics\n",
      "   rain_anom 0.3010361125163598\n",
      "   rain_cml3_anom 0.39584345331292536\n",
      "   rain_cml6_anom 0.4190790970507721\n",
      "   rain_cml12_anom 0.2847108527306472\n",
      "   tavg_anom 0.01789328418619021\n",
      "   srad_anom -0.24873191351631796\n"
     ]
    },
    {
     "name": "stderr",
     "output_type": "stream",
     "text": [
      "/g/data/os22/chad_tmp/NEE_modelling/env/nee/lib/python3.8/site-packages/numpy/lib/nanfunctions.py:1670: RuntimeWarning: Degrees of freedom <= 0 for slice.\n",
      "  var = nanvar(a, axis=axis, dtype=dtype, out=out, ddof=ddof,\n",
      "/g/data/os22/chad_tmp/NEE_modelling/env/nee/lib/python3.8/site-packages/numpy/lib/nanfunctions.py:1670: RuntimeWarning: Degrees of freedom <= 0 for slice.\n",
      "  var = nanvar(a, axis=axis, dtype=dtype, out=out, ddof=ddof,\n"
     ]
    },
    {
     "name": "stdout",
     "output_type": "stream",
     "text": [
      "   vpd_anom -0.3378394789346753\n",
      "   kNDVI_anom 0.650658144003097\n",
      "Savanna\n",
      "   rain_anom 0.4258050943632751\n",
      "   rain_cml3_anom 0.5027683227819504\n",
      "   rain_cml6_anom 0.5432768869226903\n",
      "   rain_cml12_anom 0.5180453711256738\n",
      "   tavg_anom -0.3059702714608702\n",
      "   srad_anom -0.5259331762625784\n"
     ]
    },
    {
     "name": "stderr",
     "output_type": "stream",
     "text": [
      "/g/data/os22/chad_tmp/NEE_modelling/env/nee/lib/python3.8/site-packages/numpy/lib/nanfunctions.py:1670: RuntimeWarning: Degrees of freedom <= 0 for slice.\n",
      "  var = nanvar(a, axis=axis, dtype=dtype, out=out, ddof=ddof,\n",
      "/g/data/os22/chad_tmp/NEE_modelling/env/nee/lib/python3.8/site-packages/numpy/lib/nanfunctions.py:1670: RuntimeWarning: Degrees of freedom <= 0 for slice.\n",
      "  var = nanvar(a, axis=axis, dtype=dtype, out=out, ddof=ddof,\n"
     ]
    },
    {
     "name": "stdout",
     "output_type": "stream",
     "text": [
      "   vpd_anom -0.6432145373483046\n",
      "   kNDVI_anom 0.7519923824365157\n",
      "Warm Temperate\n",
      "   rain_anom 0.3992940151925918\n",
      "   rain_cml3_anom 0.5639494752350361\n",
      "   rain_cml6_anom 0.5465238147349588\n",
      "   rain_cml12_anom 0.47743825179693516\n",
      "   tavg_anom -0.17982722886641062\n",
      "   srad_anom -0.4012077514730826\n"
     ]
    },
    {
     "name": "stderr",
     "output_type": "stream",
     "text": [
      "/g/data/os22/chad_tmp/NEE_modelling/env/nee/lib/python3.8/site-packages/numpy/lib/nanfunctions.py:1670: RuntimeWarning: Degrees of freedom <= 0 for slice.\n",
      "  var = nanvar(a, axis=axis, dtype=dtype, out=out, ddof=ddof,\n",
      "/g/data/os22/chad_tmp/NEE_modelling/env/nee/lib/python3.8/site-packages/numpy/lib/nanfunctions.py:1670: RuntimeWarning: Degrees of freedom <= 0 for slice.\n",
      "  var = nanvar(a, axis=axis, dtype=dtype, out=out, ddof=ddof,\n"
     ]
    },
    {
     "name": "stdout",
     "output_type": "stream",
     "text": [
      "   vpd_anom -0.5063410287873675\n",
      "   kNDVI_anom 0.7492447259291836\n",
      "Cool Temperate\n",
      "   rain_anom 0.3376538771394378\n",
      "   rain_cml3_anom 0.49003342614782147\n",
      "   rain_cml6_anom 0.5084317919888883\n",
      "   rain_cml12_anom 0.49023729271261157\n",
      "   tavg_anom -0.016150216141434512\n",
      "   srad_anom -0.2515735029544409\n"
     ]
    },
    {
     "name": "stderr",
     "output_type": "stream",
     "text": [
      "/g/data/os22/chad_tmp/NEE_modelling/env/nee/lib/python3.8/site-packages/numpy/lib/nanfunctions.py:1670: RuntimeWarning: Degrees of freedom <= 0 for slice.\n",
      "  var = nanvar(a, axis=axis, dtype=dtype, out=out, ddof=ddof,\n",
      "/g/data/os22/chad_tmp/NEE_modelling/env/nee/lib/python3.8/site-packages/numpy/lib/nanfunctions.py:1670: RuntimeWarning: Degrees of freedom <= 0 for slice.\n",
      "  var = nanvar(a, axis=axis, dtype=dtype, out=out, ddof=ddof,\n"
     ]
    },
    {
     "name": "stdout",
     "output_type": "stream",
     "text": [
      "   vpd_anom -0.3549042183542805\n",
      "   kNDVI_anom 0.6768562107771269\n",
      "Mediterranean\n",
      "   rain_anom 0.64004979887547\n",
      "   rain_cml3_anom 0.668576391055295\n",
      "   rain_cml6_anom 0.5924952409413708\n",
      "   rain_cml12_anom 0.5186857572094286\n",
      "   tavg_anom -0.1903927615837482\n",
      "   srad_anom -0.5224491431971122\n"
     ]
    },
    {
     "name": "stderr",
     "output_type": "stream",
     "text": [
      "/g/data/os22/chad_tmp/NEE_modelling/env/nee/lib/python3.8/site-packages/numpy/lib/nanfunctions.py:1670: RuntimeWarning: Degrees of freedom <= 0 for slice.\n",
      "  var = nanvar(a, axis=axis, dtype=dtype, out=out, ddof=ddof,\n",
      "/g/data/os22/chad_tmp/NEE_modelling/env/nee/lib/python3.8/site-packages/numpy/lib/nanfunctions.py:1670: RuntimeWarning: Degrees of freedom <= 0 for slice.\n",
      "  var = nanvar(a, axis=axis, dtype=dtype, out=out, ddof=ddof,\n"
     ]
    },
    {
     "name": "stdout",
     "output_type": "stream",
     "text": [
      "   vpd_anom -0.49352058552441497\n",
      "   kNDVI_anom 0.6252493758229084\n",
      "Desert\n",
      "   rain_anom 0.6945312096731284\n",
      "   rain_cml3_anom 0.6824930447715422\n",
      "   rain_cml6_anom 0.6486216420880332\n",
      "   rain_cml12_anom 0.5554339119165882\n",
      "   tavg_anom -0.3357004329093372\n",
      "   srad_anom -0.7106807338043947\n"
     ]
    },
    {
     "name": "stderr",
     "output_type": "stream",
     "text": [
      "/g/data/os22/chad_tmp/NEE_modelling/env/nee/lib/python3.8/site-packages/numpy/lib/nanfunctions.py:1670: RuntimeWarning: Degrees of freedom <= 0 for slice.\n",
      "  var = nanvar(a, axis=axis, dtype=dtype, out=out, ddof=ddof,\n",
      "/g/data/os22/chad_tmp/NEE_modelling/env/nee/lib/python3.8/site-packages/numpy/lib/nanfunctions.py:1670: RuntimeWarning: Degrees of freedom <= 0 for slice.\n",
      "  var = nanvar(a, axis=axis, dtype=dtype, out=out, ddof=ddof,\n"
     ]
    },
    {
     "name": "stdout",
     "output_type": "stream",
     "text": [
      "   vpd_anom -0.6932809524167751\n",
      "   kNDVI_anom 0.586000895223868\n"
     ]
    }
   ],
   "source": [
    "outer = {}\n",
    "for index, row in gdf.iterrows():\n",
    "    print(row['region_name'])\n",
    "    mask = xr_rasterize(gdf.iloc[[index]], ds_anom.isel(time=1))\n",
    "    inner = {}\n",
    "    for v in clim_vars:\n",
    "        var_anom_region = data[v].where(mask)\n",
    "        ds_anom_region = ds_anom.where(mask)\n",
    "        r2 = xr.corr(ds_anom_region, var_anom_region, dim='time').compute()\n",
    "        r2 = r2.mean(['x', 'y'])\n",
    "        print('  ', v, r2.values)\n",
    "        inner[v] = r2.values\n",
    "    outer[row['region_name']] = inner    "
   ]
  },
  {
   "cell_type": "code",
   "execution_count": 40,
   "metadata": {},
   "outputs": [
    {
     "data": {
      "text/html": [
       "<div>\n",
       "<style scoped>\n",
       "    .dataframe tbody tr th:only-of-type {\n",
       "        vertical-align: middle;\n",
       "    }\n",
       "\n",
       "    .dataframe tbody tr th {\n",
       "        vertical-align: top;\n",
       "    }\n",
       "\n",
       "    .dataframe thead th {\n",
       "        text-align: right;\n",
       "    }\n",
       "</style>\n",
       "<table border=\"1\" class=\"dataframe\">\n",
       "  <thead>\n",
       "    <tr style=\"text-align: right;\">\n",
       "      <th></th>\n",
       "      <th>Tropics</th>\n",
       "      <th>Savanna</th>\n",
       "      <th>Warm Temperate</th>\n",
       "      <th>Cool Temperate</th>\n",
       "      <th>Mediterranean</th>\n",
       "      <th>Desert</th>\n",
       "    </tr>\n",
       "  </thead>\n",
       "  <tbody>\n",
       "    <tr>\n",
       "      <th>rain_anom</th>\n",
       "      <td>0.3010361125163598</td>\n",
       "      <td>0.4258050943632751</td>\n",
       "      <td>0.3992940151925918</td>\n",
       "      <td>0.3376538771394378</td>\n",
       "      <td>0.64004979887547</td>\n",
       "      <td>0.6945312096731284</td>\n",
       "    </tr>\n",
       "    <tr>\n",
       "      <th>rain_cml3_anom</th>\n",
       "      <td>0.39584345331292536</td>\n",
       "      <td>0.5027683227819504</td>\n",
       "      <td>0.5639494752350361</td>\n",
       "      <td>0.49003342614782147</td>\n",
       "      <td>0.668576391055295</td>\n",
       "      <td>0.6824930447715422</td>\n",
       "    </tr>\n",
       "    <tr>\n",
       "      <th>rain_cml6_anom</th>\n",
       "      <td>0.4190790970507721</td>\n",
       "      <td>0.5432768869226903</td>\n",
       "      <td>0.5465238147349588</td>\n",
       "      <td>0.5084317919888883</td>\n",
       "      <td>0.5924952409413708</td>\n",
       "      <td>0.6486216420880332</td>\n",
       "    </tr>\n",
       "    <tr>\n",
       "      <th>rain_cml12_anom</th>\n",
       "      <td>0.2847108527306472</td>\n",
       "      <td>0.5180453711256738</td>\n",
       "      <td>0.47743825179693516</td>\n",
       "      <td>0.49023729271261157</td>\n",
       "      <td>0.5186857572094286</td>\n",
       "      <td>0.5554339119165882</td>\n",
       "    </tr>\n",
       "    <tr>\n",
       "      <th>tavg_anom</th>\n",
       "      <td>0.01789328418619021</td>\n",
       "      <td>-0.3059702714608702</td>\n",
       "      <td>-0.17982722886641062</td>\n",
       "      <td>-0.016150216141434512</td>\n",
       "      <td>-0.1903927615837482</td>\n",
       "      <td>-0.3357004329093372</td>\n",
       "    </tr>\n",
       "    <tr>\n",
       "      <th>srad_anom</th>\n",
       "      <td>-0.24873191351631796</td>\n",
       "      <td>-0.5259331762625784</td>\n",
       "      <td>-0.4012077514730826</td>\n",
       "      <td>-0.2515735029544409</td>\n",
       "      <td>-0.5224491431971122</td>\n",
       "      <td>-0.7106807338043947</td>\n",
       "    </tr>\n",
       "    <tr>\n",
       "      <th>vpd_anom</th>\n",
       "      <td>-0.3378394789346753</td>\n",
       "      <td>-0.6432145373483046</td>\n",
       "      <td>-0.5063410287873675</td>\n",
       "      <td>-0.3549042183542805</td>\n",
       "      <td>-0.49352058552441497</td>\n",
       "      <td>-0.6932809524167751</td>\n",
       "    </tr>\n",
       "    <tr>\n",
       "      <th>kNDVI_anom</th>\n",
       "      <td>0.650658144003097</td>\n",
       "      <td>0.7519923824365157</td>\n",
       "      <td>0.7492447259291836</td>\n",
       "      <td>0.6768562107771269</td>\n",
       "      <td>0.6252493758229084</td>\n",
       "      <td>0.586000895223868</td>\n",
       "    </tr>\n",
       "  </tbody>\n",
       "</table>\n",
       "</div>"
      ],
      "text/plain": [
       "                              Tropics              Savanna  \\\n",
       "rain_anom          0.3010361125163598   0.4258050943632751   \n",
       "rain_cml3_anom    0.39584345331292536   0.5027683227819504   \n",
       "rain_cml6_anom     0.4190790970507721   0.5432768869226903   \n",
       "rain_cml12_anom    0.2847108527306472   0.5180453711256738   \n",
       "tavg_anom         0.01789328418619021  -0.3059702714608702   \n",
       "srad_anom        -0.24873191351631796  -0.5259331762625784   \n",
       "vpd_anom          -0.3378394789346753  -0.6432145373483046   \n",
       "kNDVI_anom          0.650658144003097   0.7519923824365157   \n",
       "\n",
       "                       Warm Temperate         Cool Temperate  \\\n",
       "rain_anom          0.3992940151925918     0.3376538771394378   \n",
       "rain_cml3_anom     0.5639494752350361    0.49003342614782147   \n",
       "rain_cml6_anom     0.5465238147349588     0.5084317919888883   \n",
       "rain_cml12_anom   0.47743825179693516    0.49023729271261157   \n",
       "tavg_anom        -0.17982722886641062  -0.016150216141434512   \n",
       "srad_anom         -0.4012077514730826    -0.2515735029544409   \n",
       "vpd_anom          -0.5063410287873675    -0.3549042183542805   \n",
       "kNDVI_anom         0.7492447259291836     0.6768562107771269   \n",
       "\n",
       "                        Mediterranean               Desert  \n",
       "rain_anom            0.64004979887547   0.6945312096731284  \n",
       "rain_cml3_anom      0.668576391055295   0.6824930447715422  \n",
       "rain_cml6_anom     0.5924952409413708   0.6486216420880332  \n",
       "rain_cml12_anom    0.5186857572094286   0.5554339119165882  \n",
       "tavg_anom         -0.1903927615837482  -0.3357004329093372  \n",
       "srad_anom         -0.5224491431971122  -0.7106807338043947  \n",
       "vpd_anom         -0.49352058552441497  -0.6932809524167751  \n",
       "kNDVI_anom         0.6252493758229084    0.586000895223868  "
      ]
     },
     "execution_count": 40,
     "metadata": {},
     "output_type": "execute_result"
    }
   ],
   "source": [
    "df = pd.DataFrame(outer)\n",
    "df"
   ]
  },
  {
   "cell_type": "code",
   "execution_count": 41,
   "metadata": {
    "tags": []
   },
   "outputs": [],
   "source": [
    "df.to_csv('/g/data/os22/chad_tmp/NEE_modelling/results/'+var+'_anomaly_bioregion_correlations.csv')"
   ]
  },
  {
   "cell_type": "markdown",
   "metadata": {},
   "source": [
    "### Over all of Aus"
   ]
  },
  {
   "cell_type": "code",
   "execution_count": null,
   "metadata": {},
   "outputs": [],
   "source": [
    "r2 = xr.corr(ds_anom_region, var_anom_region, dim='time').compute()\n",
    "r2 = r2.mean(['x', 'y'])\n",
    "print(r2)"
   ]
  },
  {
   "cell_type": "code",
   "execution_count": null,
   "metadata": {},
   "outputs": [],
   "source": [
    "ax2_ylim = -100,100\n",
    "ax_ylim = -1,1\n",
    "\n",
    "fig,ax=plt.subplots(1,2, figsize=(18,5), gridspec_kw={'width_ratios': [3, 1]})\n",
    "ax2 = ax[0].twinx()\n",
    "var_anom.mean(['x','y']).rolling(time=3).mean().plot(ax=ax2, label=data_var, c='orange')\n",
    "ds_anom.sum(['x','y']).rolling(time=3).mean().plot(ax=ax[0], label=var)\n",
    "ax[0].legend(loc=(0.80,0.925))\n",
    "ax2.legend(loc=(0.80,0.85))\n",
    "ax2.set_ylabel(data_var+' Anomaly', fontsize=15)\n",
    "ax[0].set_xlabel('')\n",
    "ax2.set_ylim(ax2_ylim)\n",
    "ax[0].set_ylim(ax_ylim)\n",
    "ax[0].text(.05, .90, 'r={:.2f}'.format(r2[0]),\n",
    "            transform=ax[0].transAxes, fontsize=15)\n",
    "ax[0].set_ylabel(var+' Anomalies (PgC y⁻¹)', fontsize=15)\n",
    "ax[0].tick_params(axis='x', labelsize=14)\n",
    "ax[0].tick_params(axis='y', labelsize=14)\n",
    "ax2.tick_params(axis='y', labelsize=14)\n",
    "ax[1].tick_params(axis='x', labelsize=14)\n",
    "ax[1].tick_params(axis='y', labelsize=14)\n",
    "\n",
    "ax[0].axhline(0, c='grey', linestyle='--')\n",
    "\n",
    "ax3 = ax[1].twinx()\n",
    "\n",
    "var_clim_mean.mean(['x','y']).plot(ax=ax3, label=data_var, c='orange')\n",
    "ds_clim_mean.mean(['x','y']).plot(ax=ax[1], label='NEE')\n",
    "ax3.set_ylabel(data_var)\n",
    "ax3.set_ylabel(data_var, fontsize=15)\n",
    "ax[1].set_ylabel(var+' (PgC y⁻¹)', fontsize=15)\n",
    "ax[1].set_xticks(range(1,13))\n",
    "ax[1].set_xticklabels([\"J\",\"F\",\"M\",\"A\",\"M\",\"J\",\"J\",\"A\",\"S\",\"O\",\"N\",\"D\"]) \n",
    "ax[1].set_xlabel('')\n",
    "ax3.tick_params(axis='y', labelsize=14)\n",
    "ax[0].set_title(None)\n",
    "ax[1].set_title(None)\n",
    "ax2.set_title(None)\n",
    "ax3.set_title(None)\n",
    "plt.tight_layout();\n",
    "plt.savefig('/g/data/os22/chad_tmp/NEE_modelling/results/figs/'+var+'_Aus_'+data_var+'_correlations.png')"
   ]
  },
  {
   "cell_type": "markdown",
   "metadata": {},
   "source": [
    "### Plots by bioregion"
   ]
  },
  {
   "cell_type": "code",
   "execution_count": null,
   "metadata": {},
   "outputs": [],
   "source": [
    "ax2_ylim = -0.11,0.11"
   ]
  },
  {
   "cell_type": "code",
   "execution_count": null,
   "metadata": {},
   "outputs": [],
   "source": [
    "# Dictionary to save results \n",
    "results = {}\n",
    "for index, row in gdf.iterrows():\n",
    "\n",
    "\n",
    "    # Generate a polygon mask to keep only data within the polygon\n",
    "    mask = xr_rasterize(gdf.iloc[[index]], var_anom.isel(time=1))\n",
    "    mask['latitude'] = mask.latitude.astype('float32')\n",
    "    mask['longitude'] = mask.longitude.astype('float32')  \n",
    "    mask['latitude'] = np.array([round(i,4) for i in mask.latitude.values])\n",
    "    mask['longitude'] = np.array([round(i,4) for i in mask.longitude.values])\n",
    "    mask = mask.rename({'latitude':'y', 'longitude':'x'})\n",
    "    \n",
    "    # Mask dataset to set pixels outside the polygon to `NaN`\n",
    "    var_anom_region = var_anom.where(mask)\n",
    "    ds_anom_region = ds_anom.where(mask)\n",
    "    \n",
    "    var_clim_mean_region = var_clim_mean.where(mask)\n",
    "    ds_clim_mean_region = ds_clim_mean.where(mask)\n",
    "    \n",
    "    r2 = xr.corr(ds_anom_region, var_anom_region, dim='time').compute()\n",
    "    r2 = r2.mean(['x', 'y'])\n",
    "    print(row['region_name'], r2)\n",
    "\n",
    "    fig,ax=plt.subplots(1,2, figsize=(18,5), gridspec_kw={'width_ratios': [3, 1]})\n",
    "    ax2 = ax[0].twinx()\n",
    "    var_anom_region.mean(['x','y']).rolling(time=3).mean().plot(ax=ax2, label=data_var, c='orange')\n",
    "    ds_anom_region.mean(['x','y']).rolling(time=3).mean().plot(ax=ax[0], label=var)\n",
    "    \n",
    "    ax[0].legend(loc=(0.80,0.925))\n",
    "    ax2.legend(loc=(0.80,0.85))\n",
    "    ax2.set_ylabel(data_var+' Anomaly', fontsize=15)\n",
    "    ax[0].set_xlabel('')\n",
    "    ax2.set_ylim(ax2_ylim)\n",
    "    ax[0].set_ylim(ax_ylim)\n",
    "    ax[0].text(.05, .90, 'r={:.2f}'.format(r2[0]),\n",
    "                transform=ax[0].transAxes, fontsize=15)\n",
    "    ax[0].set_ylabel(var+' Anomalies (gC m\\N{SUPERSCRIPT TWO} m⁻¹)', fontsize=15)\n",
    "    ax[0].tick_params(axis='x', labelsize=14)\n",
    "    ax[0].tick_params(axis='y', labelsize=14)\n",
    "    ax2.tick_params(axis='y', labelsize=14)\n",
    "    ax[1].tick_params(axis='x', labelsize=14)\n",
    "    ax[1].tick_params(axis='y', labelsize=14)\n",
    "\n",
    "    ax[0].axhline(0, c='grey', linestyle='--')\n",
    "\n",
    "    ax3 = ax[1].twinx()\n",
    "\n",
    "    var_clim_mean_region.mean(['x','y']).plot(ax=ax3, label=data_var, c='orange')\n",
    "    ds_clim_mean_region.mean(['x','y']).plot(ax=ax[1], label='NEE')\n",
    "    \n",
    "    ax3.set_ylabel(data_var)\n",
    "    ax3.set_ylabel(data_var, fontsize=15)\n",
    "    ax[1].set_ylabel(var+' (gC m\\N{SUPERSCRIPT TWO} m⁻¹)', fontsize=15)\n",
    "    ax[1].set_xticks(range(1,13))\n",
    "    ax[1].set_xticklabels([\"J\",\"F\",\"M\",\"A\",\"M\",\"J\",\"J\",\"A\",\"S\",\"O\",\"N\",\"D\"]) \n",
    "    ax[1].set_xlabel('')\n",
    "    ax3.tick_params(axis='y', labelsize=14)\n",
    "    ax[0].set_title(None)\n",
    "    ax[1].set_title(None)\n",
    "    ax2.set_title(None)\n",
    "    ax3.set_title(None)\n",
    "    \n",
    "    plt.suptitle(row['region_name'], fontsize=18)\n",
    "    plt.tight_layout();\n",
    "    plt.savefig('/g/data/os22/chad_tmp/NEE_modelling/results/figs/'+var+'_'+row['region_name']+'_'+data_var+'_correlations.png')"
   ]
  },
  {
   "cell_type": "markdown",
   "metadata": {},
   "source": [
    "## Per-pixel correlations"
   ]
  },
  {
   "cell_type": "code",
   "execution_count": null,
   "metadata": {},
   "outputs": [],
   "source": [
    "kndvi_corr = xr.corr(ds.chunk({'x':250,'y':250, 'time':-1}), data['kNDVI'], dim='time').compute()\n",
    "rain_corr = xr.corr(ds.chunk({'x':250,'y':250, 'time':-1}), data['rain'], dim='time').compute()\n",
    "vpd_corr = xr.corr(ds.chunk({'x':250,'y':250, 'time':-1}), data['vpd'], dim='time').compute()\n",
    "srad_corr = xr.corr(ds.chunk({'x':250,'y':250, 'time':-1}), data['srad'], dim='time').compute()\n",
    "tavg_corr = xr.corr(ds.chunk({'x':250,'y':250, 'time':-1}), data['tavg'], dim='time').compute()"
   ]
  },
  {
   "cell_type": "code",
   "execution_count": null,
   "metadata": {},
   "outputs": [],
   "source": [
    "# kndvi_corr.plot.imshow()\n",
    "# plt.title('kNDVI correlation with ER')"
   ]
  },
  {
   "cell_type": "markdown",
   "metadata": {},
   "source": [
    "### Correlations with anomalies"
   ]
  },
  {
   "cell_type": "code",
   "execution_count": null,
   "metadata": {},
   "outputs": [],
   "source": [
    "kNDVI_anom_corr = xr.corr(ds_anom.chunk({'x':250,'y':250, 'time':-1}), data['kNDVI_anom'], dim='time').compute()\n",
    "rain_anom_corr = xr.corr(ds_anom.chunk({'x':250,'y':250, 'time':-1}), data['rain_anom'], dim='time').compute()\n",
    "vpd_anom_corr = xr.corr(ds_anom.chunk({'x':250,'y':250, 'time':-1}), data['vpd'], dim='time').compute()\n",
    "srad_anom_corr = xr.corr(ds_anom.chunk({'x':250,'y':250, 'time':-1}), data['srad_anom'], dim='time').compute()\n",
    "tavg_anom_corr = xr.corr(ds_anom.chunk({'x':250,'y':250, 'time':-1}), data['tavg_anom'], dim='time').compute()"
   ]
  },
  {
   "cell_type": "markdown",
   "metadata": {},
   "source": [
    "### Correlations with climatology"
   ]
  },
  {
   "cell_type": "code",
   "execution_count": null,
   "metadata": {},
   "outputs": [],
   "source": [
    "precip_clim_corr = xr.corr(ds_clim_mean.chunk({'x':250,'y':250, 'month':-1}), data['rain'].groupby('time.month').mean(), dim='month').compute()\n",
    "srad_clim_corr = xr.corr(ds_clim_mean.chunk({'x':250,'y':250, 'month':-1}), data['srad'].groupby('time.month').mean(), dim='month').compute()\n",
    "tavg_clim_corr = xr.corr(ds_clim_mean.chunk({'x':250,'y':250, 'month':-1}), data['tavg'].groupby('time.month').mean(), dim='month').compute()\n",
    "kNDVI_clim_corr = xr.corr(ds_clim_mean.chunk({'x':250,'y':250, 'month':-1}), data['kNDVI'].groupby('time.month').mean(), dim='month').compute()\n"
   ]
  },
  {
   "cell_type": "markdown",
   "metadata": {},
   "source": [
    "### Plot correlations with anomalies"
   ]
  },
  {
   "cell_type": "code",
   "execution_count": null,
   "metadata": {},
   "outputs": [],
   "source": [
    "anom_data = [rain_anom_corr,  tavg_anom_corr, srad_anom_corr, kNDVI_anom_corr]\n",
    "clim_vars = ['Rainfall', 'Air Temperature','Solar Radiation', 'kNDVI']"
   ]
  },
  {
   "cell_type": "code",
   "execution_count": null,
   "metadata": {},
   "outputs": [],
   "source": [
    "fig,axes = plt.subplots(1,4, figsize=(24,7), sharey=True, sharex=True)\n",
    "\n",
    "for ax, ds, clim in zip(axes.ravel(), anom_data, clim_vars):\n",
    "\n",
    "    im = ds.plot.imshow(vmin=-0.8, vmax=0.8, cmap='RdBu_r', ax=ax, add_colorbar=False)\n",
    "    ax.set_title(var+' Anomalies & '+clim+' Anomalies',  fontsize=18);\n",
    "    ax.set_yticklabels([])\n",
    "    ax.set_ylabel('')\n",
    "    ax.set_xlabel('')\n",
    "    ax.set_xticklabels([])\n",
    "\n",
    "plt.tight_layout();\n",
    "# fig.savefig('/g/data/os22/chad_tmp/NEE_modelling/results/figs/'+var+'_anomalies_perpixel_climate_correlations.png', bbox_inches='tight')"
   ]
  },
  {
   "cell_type": "code",
   "execution_count": null,
   "metadata": {},
   "outputs": [],
   "source": [
    "# get handles and labels for reuse\n",
    "# label_params = ax[1,1].get_legend_handles_labels() \n",
    "cbar = fig.colorbar(im, spacing='uniform', ax=ax, orientation='horizontal', shrink=0.4);\n",
    "\n",
    "# cbar\n",
    "figl, axl = plt.subplots(figsize=(11,4))\n",
    "axl.axis(False)\n",
    "cbar = plt.colorbar(im, spacing='uniform', ax=axl, orientation='horizontal')\n",
    "cbar.ax.tick_params(labelsize=20)\n",
    "cbar.set_label(\"Pearson's Correlation\",size=20)\n",
    "figl.savefig('/g/data/os22/chad_tmp/NEE_modelling/results/figs/correlation_legend.png', bbox_inches='tight')"
   ]
  },
  {
   "cell_type": "markdown",
   "metadata": {},
   "source": [
    "### Plot correlations with climatology"
   ]
  },
  {
   "cell_type": "code",
   "execution_count": null,
   "metadata": {},
   "outputs": [],
   "source": [
    "fig,ax = plt.subplots(2,2, figsize=(12,12), sharey=True, sharex=True)\n",
    "precip_clim_corr.plot.imshow(vmin=-0.8, vmax=0.8, cmap='RdBu_r', ax=ax[0,0], add_colorbar=False)\n",
    "ax[0,0].set_title(var+' Climatology & Rain Climatology',  fontsize=18);\n",
    "ax[0,0].set_yticklabels([])\n",
    "ax[0,0].set_ylabel('')\n",
    "ax[0,0].set_xlabel('')\n",
    "ax[0,0].set_xticklabels([])\n",
    "\n",
    "tavg_clim_corr.plot.imshow(vmin=-0.8, vmax=0.8, cmap='RdBu_r', ax=ax[0,1], add_colorbar=False)\n",
    "ax[0,1].set_title(var+' Climatology & TAVG Climatology',  fontsize=18);\n",
    "ax[0,1].set_yticklabels([])\n",
    "ax[0,1].set_ylabel('')\n",
    "ax[0,1].set_xlabel('')\n",
    "ax[0,1].set_xticklabels([])\n",
    "\n",
    "srad_clim_corr.plot.imshow(vmin=-0.8, vmax=0.8, cmap='RdBu_r', ax=ax[1,0], add_colorbar=False)\n",
    "ax[1,0].set_title(var+' Climatology & SRAD Climatology',  fontsize=18);\n",
    "ax[1,0].set_yticklabels([])\n",
    "ax[1,0].set_ylabel('')\n",
    "ax[1,0].set_xlabel('')\n",
    "ax[1,0].set_xticklabels([])\n",
    "\n",
    "im = kNDVI_clim_corr.plot.imshow(vmin=-0.8, vmax=0.8, cmap='RdBu_r', ax=ax[1,1], add_colorbar=False)\n",
    "ax[1,1].set_title(var+' Climatology & kNDVI Climatology', fontsize=18)\n",
    "ax[1,1].set_yticklabels([])\n",
    "ax[1,1].set_ylabel('')\n",
    "ax[1,1].set_xlabel('')\n",
    "ax[1,1].set_xticklabels([])\n",
    "plt.tight_layout();\n",
    "fig.savefig('/g/data/os22/chad_tmp/NEE_modelling/results/figs/'+var+'_climatology_perpixel_climate_correlations.png', bbox_inches='tight')"
   ]
  },
  {
   "cell_type": "markdown",
   "metadata": {},
   "source": [
    "### Variable with highest correlation"
   ]
  },
  {
   "cell_type": "code",
   "execution_count": null,
   "metadata": {},
   "outputs": [],
   "source": [
    "corrs = xr.merge([\n",
    "    np.abs(rain_corr.rename('rain')),\n",
    "    np.abs(vpd_corr.rename('vpd')),\n",
    "    np.abs(srad_corr.rename('srad')),\n",
    "    np.abs(tavg_corr.rename('tavg'))\n",
    "])\n",
    "\n",
    "max_corrs = corrs.to_array(\"variable\").idxmax(\"variable\")\n",
    "max_corrs = xr.where(max_corrs == 'rain', 1, max_corrs)\n",
    "max_corrs = xr.where(max_corrs == 'vpd', 2, max_corrs)\n",
    "max_corrs = xr.where(max_corrs == 'srad', 3, max_corrs)\n",
    "max_corrs = xr.where(max_corrs == 'tavg', 4, max_corrs)\n",
    "\n",
    "max_corrs = max_corrs.astype(np.float32)"
   ]
  },
  {
   "cell_type": "code",
   "execution_count": null,
   "metadata": {},
   "outputs": [],
   "source": [
    "rain_corrs = xr.merge([\n",
    "    np.abs(precip_corr.rename('precip_anom')),\n",
    "    np.abs(precip_3_corr.rename('precip_3_anom')),\n",
    "    np.abs(precip_6_corr.rename('precip_6_anom')),\n",
    "    np.abs(precip_12_corr.rename('precip_12_anom'))\n",
    "])\n",
    "\n",
    "rain_max_corrs = rain_corrs.to_array(\"variable\").idxmax(\"variable\")\n",
    "\n",
    "rain_max_corrs = xr.where(rain_max_corrs == 'precip_anom', 1, rain_max_corrs)\n",
    "rain_max_corrs = xr.where(rain_max_corrs == 'precip_3_anom', 2, rain_max_corrs)\n",
    "rain_max_corrs = xr.where(rain_max_corrs == 'precip_6_anom', 3, rain_max_corrs)\n",
    "rain_max_corrs = xr.where(rain_max_corrs == 'precip_12_anom', 4, rain_max_corrs)\n",
    "\n",
    "rain_max_corrs = rain_max_corrs.astype(np.float32)"
   ]
  },
  {
   "cell_type": "markdown",
   "metadata": {},
   "source": [
    "### Plots"
   ]
  },
  {
   "cell_type": "code",
   "execution_count": null,
   "metadata": {},
   "outputs": [],
   "source": [
    "fig,ax = plt.subplots(1,1, figsize=(10,7))\n",
    "im = max_corrs.plot.imshow(add_colorbar=False, ax=ax)\n",
    "cbar = fig.colorbar(im, spacing='uniform', ax=ax, orientation='vertical', shrink=0.4)\n",
    "cbar.set_ticks([1,2,3,4])\n",
    "cbar.set_ticklabels(['Rain', 'VPD', 'SRAD', 'TAVG'], fontsize=10)\n",
    "plt.title('Climate Variable with Maximum Absolute Correlation with '+var);"
   ]
  },
  {
   "cell_type": "code",
   "execution_count": null,
   "metadata": {},
   "outputs": [],
   "source": [
    "fig,ax = plt.subplots(1,1, figsize=(10,7))\n",
    "im = rain_max_corrs.plot.imshow(add_colorbar=False, ax=ax)\n",
    "cbar = fig.colorbar(im, spacing='uniform', ax=ax, orientation='vertical', shrink=0.4)\n",
    "cbar.set_ticks([1,2,3,4])\n",
    "cbar.set_ticklabels(['Rain', 'Rain-3', 'Rain-6', 'Rain-12'], fontsize=10)\n",
    "plt.title('Rainfall Variable with Maximum Absolute Correlation with '+var);"
   ]
  },
  {
   "cell_type": "markdown",
   "metadata": {},
   "source": [
    "## Linear trends"
   ]
  },
  {
   "cell_type": "code",
   "execution_count": null,
   "metadata": {},
   "outputs": [],
   "source": [
    "# import xarray as xr\n",
    "import dask.array as da\n",
    "from dask.delayed import delayed\n",
    "from  scipy import stats\n",
    "\n",
    "def _calc_slope(y):\n",
    "    \"\"\"return linear regression statistical variables\"\"\"\n",
    "    mask = np.isfinite(y)\n",
    "    x = np.arange(len(y))\n",
    "    return stats.linregress(x[mask], y[mask])\n",
    "\n",
    "# regression function defition\n",
    "def regression(y):\n",
    "    \"\"\"apply linear regression function along time axis\"\"\"\n",
    "    axis_num = y.get_axis_num('time')\n",
    "    return da.apply_along_axis(_calc_slope, axis_num, y)\n",
    "\n",
    "# fill pixels that are all-NaNs\n",
    "allnans = ds.isnull().all('time').compute()\n",
    "ds = ds.where(~allnans, other=0)\n",
    "\n",
    "# regression analysis\n",
    "delayed_objs = delayed(regression)(ds).persist()\n",
    "\n",
    "# transforms dask.delayed to dask.array\n",
    "results = da.from_delayed(delayed_objs, shape=(5, ds.shape[1:][0], ds.shape[1:][1]), dtype=np.float32)\n",
    "results = results.compute()\n",
    "results = results.compute() #need this twice haven't figured out why\n",
    "\n",
    "# statistical variables definition\n",
    "variables = ['slope', 'intercept', 'r_value', 'p_value', 'std_err']\n",
    "\n",
    "# coordination definition\n",
    "coords = {'y': ds.y, 'x': ds.x}\n",
    "\n",
    "# output xarray.Dataset definition\n",
    "ds_out = xr.Dataset(\n",
    "    data_vars=dict(slope=([\"y\", \"x\"], results[0]),\n",
    "                   intercept=([\"y\", \"x\"], results[1]),\n",
    "                   r_value=([\"y\", \"x\"], results[2]),\n",
    "                   p_value=([\"y\", \"x\"], results[3]),\n",
    "                   std_err=([\"y\", \"x\"], results[4]),\n",
    "                  ),\n",
    "    coords = coords)\n",
    "\n",
    "#remask all-NaN pixel\n",
    "ds_out = ds_out.where(~allnans)\n",
    "ds_out"
   ]
  },
  {
   "cell_type": "markdown",
   "metadata": {},
   "source": [
    "### Mask with Evergreen Trees"
   ]
  },
  {
   "cell_type": "code",
   "execution_count": null,
   "metadata": {},
   "outputs": [],
   "source": [
    "lc = xr.open_dataset('/g/data/os22/chad_tmp/NEE_modelling/data/Landcover_merged_5km.nc').isel(time=1)\n",
    "lc['latitude'] = lc.latitude.astype('float32')\n",
    "lc['longitude'] = lc.longitude.astype('float32')\n",
    "lc = lc.rename({'latitude':'y','longitude':'x'})\n",
    "\n",
    "trees = lc.PFT == 10"
   ]
  },
  {
   "cell_type": "code",
   "execution_count": null,
   "metadata": {},
   "outputs": [],
   "source": [
    "trees.plot.imshow()"
   ]
  },
  {
   "cell_type": "code",
   "execution_count": null,
   "metadata": {},
   "outputs": [],
   "source": [
    "ds_out.slope.max()"
   ]
  },
  {
   "cell_type": "code",
   "execution_count": null,
   "metadata": {},
   "outputs": [],
   "source": [
    "# import folium\n",
    "# import odc.geo\n",
    "# import folium\n",
    "# from odc.geo.xr import assign_crs\n",
    "\n",
    "# # Create folium Map (ipyleaflet is also supported)\n",
    "# m = folium.Map(tiles='openstreetmap')\n",
    "\n",
    "# # Plot each sample image with different colormap\n",
    "# ds_out.slope.where(trees).odc.add_to(m, cmap='BrBG', vmax=0.2,vmin=-0.2, opacity=1.0)\n",
    "\n",
    "# # Zoom map to Australia\n",
    "# m.fit_bounds(ds_out.odc.map_bounds())\n",
    "\n",
    "# # tile = folium.TileLayer(\n",
    "# #         tiles = 'https://server.arcgisonline.com/ArcGIS/rest/services/World_Imagery/MapServer/tile/{z}/{y}/{x}',\n",
    "# #         attr = 'Esri',\n",
    "# #         name = 'Esri Satellite',\n",
    "# #         overlay = True,\n",
    "# #         control = True\n",
    "# #        ).add_to(m)\n",
    "\n",
    "# folium.LayerControl().add_to(m)\n",
    "# display(m)\n",
    "\n",
    "\n",
    "# ds_out.slope.where(trees).plot.imshow(size=10, robust=True, cmap='BrBG')\n",
    "# plt.title('Linear Trend in Evergreen Forest GPP 2003-2018');"
   ]
  },
  {
   "cell_type": "code",
   "execution_count": null,
   "metadata": {},
   "outputs": [],
   "source": [
    "ds_out.slope.where(trees).plot.imshow(size=10, robust=True, cmap='BrBG')\n",
    "plt.title('Linear Trend in Evergreen Forest GPP 2003-2018');"
   ]
  },
  {
   "cell_type": "code",
   "execution_count": null,
   "metadata": {},
   "outputs": [],
   "source": [
    "ds_out.slope.plot.imshow(size=10, robust=True, cmap='BrBG')\n",
    "plt.title('Linear Trend in Evergreen Forest GPP 2003-2018');"
   ]
  },
  {
   "cell_type": "markdown",
   "metadata": {},
   "source": [
    "## Plot relationships between NEE, GPP, ER and environmental variables (P, T, SM etc)\n",
    "\n",
    "Following Lui et al. (2018) "
   ]
  },
  {
   "cell_type": "code",
   "execution_count": null,
   "metadata": {},
   "outputs": [],
   "source": [
    "gpp = xr.open_dataarray('/g/data/os22/chad_tmp/NEE_modelling/results/predictions/GPP_2003_2021_5km_LGBM.nc',\n",
    "                       chunks=dict(x=250,y=250, time=-1))#.sel(time=slice('2003','2018'))\n",
    "\n",
    "nee = xr.open_dataarray('/g/data/os22/chad_tmp/NEE_modelling/results/predictions/NEE_2003_2021_5km_LGBM.nc',\n",
    "                       chunks=dict(x=250,y=250, time=-1))#.sel(time=slice('2003','2018'))"
   ]
  },
  {
   "cell_type": "code",
   "execution_count": null,
   "metadata": {},
   "outputs": [],
   "source": [
    "def s_cor(x,y, pthres = 0.05, direction = True):\n",
    "    \"\"\"\n",
    "    Uses the scipy stats module to calculate a Kendall correlation test\n",
    "    :x vector: Input pixel vector to run tests on\n",
    "    :y vector: The date input vector\n",
    "    :pthres: Significance of the underlying test\n",
    "    :direction: output only direction as output (-1 & 1)\n",
    "    \"\"\"\n",
    "    # Check NA values\n",
    "    co = np.count_nonzero(~np.isnan(x))\n",
    "    if co < 4: # If fewer than 4 observations return -9999\n",
    "        return np.nan\n",
    "    # Run the kendalltau test\n",
    "    r, p_value = stats.spearmanr(x, y, nan_policy='omit')\n",
    "\n",
    "    # Criterium to return results in case of Significance\n",
    "    if p_value > pthres:\n",
    "        return np.nan\n",
    "    else:\n",
    "        return r \n",
    "\n",
    "def spearman_correlation(x,y,dim='year'):\n",
    "    return xr.apply_ufunc(\n",
    "        s_cor, x , y,\n",
    "        input_core_dims=[[dim], [dim]],\n",
    "        vectorize=True,\n",
    "        dask='parallelized',\n",
    "        output_dtypes=[np.float32]\n",
    "        )\n"
   ]
  },
  {
   "cell_type": "code",
   "execution_count": null,
   "metadata": {},
   "outputs": [],
   "source": [
    "r = spearman_correlation(gpp, nee ,'time').compute()"
   ]
  },
  {
   "cell_type": "code",
   "execution_count": null,
   "metadata": {},
   "outputs": [],
   "source": [
    "r.plot.imshow(size=6, vmin=-1, vmax=1, cmap='RdBu')\n",
    "plt.title('Signficant (p<0.05) Temporal Spearman Correlations: GPP & NEE')"
   ]
  },
  {
   "cell_type": "code",
   "execution_count": null,
   "metadata": {},
   "outputs": [],
   "source": []
  },
  {
   "cell_type": "markdown",
   "metadata": {},
   "source": [
    "## Causality\n",
    "\n",
    "###  Granger casaulity tests?\n",
    "\n",
    "### Bayesian structure learning?\n",
    "https://towardsdatascience.com/a-step-by-step-guide-in-detecting-causal-relationships-using-bayesian-structure-learning-in-python-c20c6b31cee5"
   ]
  },
  {
   "cell_type": "code",
   "execution_count": null,
   "metadata": {},
   "outputs": [],
   "source": [
    "from statsmodels.tsa.stattools import grangercausalitytests\n",
    "\n",
    "def grangers_causation_matrix(data, variables, maxlag=12, test='ssr_chi2test', verbose=False):    \n",
    "    \"\"\"Check Granger Causality of all possible combinations of the Time series.\n",
    "    The rows are the response variable, columns are predictors. The values in the table \n",
    "    are the P-Values. P-Values lesser than the significance level (0.05), implies \n",
    "    the Null Hypothesis that the coefficients of the corresponding past values is \n",
    "    zero, that is, the X does not cause Y can be rejected.\n",
    "\n",
    "    data      : pandas dataframe containing the time series variables\n",
    "    variables : list containing names of the time series variables.\n",
    "    \"\"\"\n",
    "    df = pd.DataFrame(np.zeros((len(variables), len(variables))), columns=variables, index=variables)\n",
    "    for c in df.columns:\n",
    "        for r in df.index:\n",
    "            test_result = grangercausalitytests(data[[r, c]], maxlag=maxlag, verbose=False)\n",
    "            p_values = [round(test_result[i+1][0][test][1],4) for i in range(maxlag)]\n",
    "            if verbose: print(f'Y = {r}, X = {c}, P Values = {p_values}')\n",
    "            min_p_value = np.min(p_values)\n",
    "            df.loc[r, c] = min_p_value\n",
    "    df.columns = [var + '_x' for var in variables]\n",
    "    df.index = [var + '_y' for var in variables]\n",
    "    return df\n",
    "\n",
    "grangers_causation_matrix(ndvi, variables = ndvi.columns)  "
   ]
  },
  {
   "cell_type": "code",
   "execution_count": null,
   "metadata": {},
   "outputs": [],
   "source": []
  }
 ],
 "metadata": {
  "kernelspec": {
   "display_name": "Python 3 (ipykernel)",
   "language": "python",
   "name": "python3"
  },
  "language_info": {
   "codemirror_mode": {
    "name": "ipython",
    "version": 3
   },
   "file_extension": ".py",
   "mimetype": "text/x-python",
   "name": "python",
   "nbconvert_exporter": "python",
   "pygments_lexer": "ipython3",
   "version": "3.8.8"
  }
 },
 "nbformat": 4,
 "nbformat_minor": 4
}
