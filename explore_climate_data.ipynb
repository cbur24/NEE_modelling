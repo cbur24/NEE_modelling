{
 "cells": [
  {
   "cell_type": "markdown",
   "metadata": {},
   "source": [
    "# Exploring how to acquire and process various climate datasets"
   ]
  },
  {
   "cell_type": "code",
   "execution_count": 1,
   "metadata": {},
   "outputs": [],
   "source": [
    "import os\n",
    "import xarray as xr\n",
    "import numpy as np\n",
    "import pandas as pd\n",
    "import seaborn as sb\n",
    "\n",
    "from dea_tools.dask import create_local_dask_cluster"
   ]
  },
  {
   "cell_type": "code",
   "execution_count": null,
   "metadata": {},
   "outputs": [],
   "source": [
    "# client = create_local_dask_cluster(return_client=True)"
   ]
  },
  {
   "cell_type": "markdown",
   "metadata": {},
   "source": [
    "## Retrieving ANU climate data (1 km, unsure of quality)"
   ]
  },
  {
   "cell_type": "code",
   "execution_count": 2,
   "metadata": {},
   "outputs": [],
   "source": [
    "Ta = xr.open_dataset('https://dapds00.nci.org.au/thredds/dodsC/gh70/ANUClimate/v2-0/stable/month/tavg').sel(time=slice('2000', '2022'))"
   ]
  },
  {
   "cell_type": "code",
   "execution_count": 3,
   "metadata": {},
   "outputs": [],
   "source": [
    "precip = xr.open_dataset('https://dapds00.nci.org.au/thredds/dodsC/gh70/ANUClimate/v2-0/stable/month/rain').sel(time=slice('2000', '2022'))"
   ]
  },
  {
   "cell_type": "code",
   "execution_count": 4,
   "metadata": {},
   "outputs": [],
   "source": [
    "fn = xr.open_dataset('https://dapds00.nci.org.au/thredds/dodsC/gh70/ANUClimate/v2-0/stable/month/srad').sel(time=slice('2000', '2022'))"
   ]
  },
  {
   "cell_type": "code",
   "execution_count": 10,
   "metadata": {},
   "outputs": [],
   "source": [
    "vpd = xr.open_dataset('https://dapds00.nci.org.au/thredds/dodsC/gh70/ANUClimate/v2-0/stable/month/vpd').sel(time=slice('2000', '2022'))"
   ]
  },
  {
   "cell_type": "markdown",
   "metadata": {},
   "source": [
    "## Retrieving BARRA data (12 km resolution over Aus)"
   ]
  },
  {
   "cell_type": "code",
   "execution_count": null,
   "metadata": {},
   "outputs": [],
   "source": [
    "year_month = '2018/01/'\n",
    "out_folder= '/g/data/os22/chad_tmp/NEE_modelling/data/BARRA/'"
   ]
  },
  {
   "cell_type": "markdown",
   "metadata": {},
   "source": [
    "### Soil Moisture"
   ]
  },
  {
   "cell_type": "code",
   "execution_count": null,
   "metadata": {},
   "outputs": [],
   "source": [
    "var = 'soil_mois'"
   ]
  },
  {
   "cell_type": "code",
   "execution_count": null,
   "metadata": {},
   "outputs": [],
   "source": [
    "base = '/g/data/cj37/BARRA/BARRA_R/v1/analysis/slv/'+var+'/'+year_month\n",
    "files = os.listdir(base)\n",
    "\n",
    "paths = [base+f for f in files]\n",
    "\n",
    "ds = xr.open_mfdataset(paths=paths,\n",
    "                 chunks={},\n",
    "                 engine='netcdf4',\n",
    "                 concat_dim='time',\n",
    "                 combine='nested',\n",
    "                 ).sortby('time')\n",
    "\n",
    "ds = ds[var].mean('depth').mean('time').isel(latitude=slice(190,500), longitude=slice(400,850)).compute()\n",
    "ds.to_netcdf(out_folder+'sm.nc')"
   ]
  },
  {
   "cell_type": "code",
   "execution_count": null,
   "metadata": {},
   "outputs": [],
   "source": [
    "ds.plot.imshow(figsize=(6,6));"
   ]
  },
  {
   "cell_type": "markdown",
   "metadata": {},
   "source": [
    "### Precip"
   ]
  },
  {
   "cell_type": "code",
   "execution_count": null,
   "metadata": {},
   "outputs": [],
   "source": [
    "var = 'vis_precip'"
   ]
  },
  {
   "cell_type": "code",
   "execution_count": null,
   "metadata": {},
   "outputs": [],
   "source": [
    "base = '/g/data/cj37/BARRA/BARRA_R/v1/analysis/slv/'+var+'/'+year_month\n",
    "files = os.listdir(base)\n",
    "\n",
    "paths = [base+f for f in files]\n",
    "\n",
    "ds = xr.open_mfdataset(paths=paths,\n",
    "                 chunks={},\n",
    "                 engine='netcdf4',\n",
    "                 concat_dim='time',\n",
    "                 combine='nested',\n",
    "                 ).sortby('time')\n",
    "\n",
    "ds = ds[var].mean('time').isel(latitude=slice(190,500), longitude=slice(400,850)).compute()\n",
    "ds.to_netcdf(out_folder+'precip.nc')"
   ]
  },
  {
   "cell_type": "code",
   "execution_count": null,
   "metadata": {},
   "outputs": [],
   "source": [
    "ds.plot.imshow(figsize=(6,6));"
   ]
  },
  {
   "cell_type": "markdown",
   "metadata": {},
   "source": [
    "### Net solar radiation"
   ]
  },
  {
   "cell_type": "code",
   "execution_count": null,
   "metadata": {},
   "outputs": [],
   "source": [
    "var = 'av_netlwsfc'\n",
    "var1 = 'av_netswsfc'"
   ]
  },
  {
   "cell_type": "markdown",
   "metadata": {},
   "source": [
    "#### Net Long wave"
   ]
  },
  {
   "cell_type": "code",
   "execution_count": null,
   "metadata": {},
   "outputs": [],
   "source": [
    "base = '/g/data/cj37/BARRA/BARRA_R/v1/analysis/slv/'+var+'/'+year_month\n",
    "files = os.listdir(base)\n",
    "\n",
    "paths = [base+f for f in files]\n",
    "\n",
    "ds_lw = xr.open_mfdataset(paths=paths,\n",
    "                 chunks={},\n",
    "                 engine='netcdf4',\n",
    "                 concat_dim='time',\n",
    "                 combine='nested',\n",
    "                 ).sortby('time')\n",
    "\n",
    "ds_lw = ds_lw[var].mean('time').isel(latitude=slice(190,500), longitude=slice(400,850)).compute()"
   ]
  },
  {
   "cell_type": "markdown",
   "metadata": {},
   "source": [
    "#### Net short wave"
   ]
  },
  {
   "cell_type": "code",
   "execution_count": null,
   "metadata": {},
   "outputs": [],
   "source": [
    "base = '/g/data/cj37/BARRA/BARRA_R/v1/analysis/slv/'+var1+'/'+year_month\n",
    "files = os.listdir(base)\n",
    "\n",
    "paths = [base+f for f in files]\n",
    "\n",
    "ds_sw = xr.open_mfdataset(paths=paths,\n",
    "                 chunks={},\n",
    "                 engine='netcdf4',\n",
    "                 concat_dim='time',\n",
    "                 combine='nested',\n",
    "                 ).sortby('time')\n",
    "\n",
    "ds_sw = ds_sw[var1].mean('time').isel(latitude=slice(190,500), longitude=slice(400,850)).compute()"
   ]
  },
  {
   "cell_type": "code",
   "execution_count": null,
   "metadata": {},
   "outputs": [],
   "source": [
    "ds = ds_sw + ds_lw\n",
    "ds.to_netcdf(out_folder+'fn.nc')"
   ]
  },
  {
   "cell_type": "code",
   "execution_count": null,
   "metadata": {},
   "outputs": [],
   "source": [
    "ds.plot.imshow(figsize=(6,6));"
   ]
  },
  {
   "cell_type": "markdown",
   "metadata": {},
   "source": [
    "### Air temp"
   ]
  },
  {
   "cell_type": "code",
   "execution_count": null,
   "metadata": {},
   "outputs": [],
   "source": [
    "var = 'av_temp_scrn'"
   ]
  },
  {
   "cell_type": "code",
   "execution_count": null,
   "metadata": {},
   "outputs": [],
   "source": [
    "base = '/g/data/cj37/BARRA/BARRA_R/v1/analysis/slv/'+var+'/'+year_month\n",
    "files = os.listdir(base)\n",
    "\n",
    "paths = [base+f for f in files]\n",
    "\n",
    "ds = xr.open_mfdataset(paths=paths,\n",
    "                 chunks={},\n",
    "                 engine='netcdf4',\n",
    "                 concat_dim='time',\n",
    "                 combine='nested',\n",
    "                 ).sortby('time')\n",
    "\n",
    "ds = ds[var].mean('time').isel(latitude=slice(190,500), longitude=slice(400,850)).compute()\n",
    "ds.to_netcdf(out_folder+'Ta.nc')"
   ]
  },
  {
   "cell_type": "code",
   "execution_count": null,
   "metadata": {},
   "outputs": [],
   "source": [
    "ds.plot.imshow(figsize=(6,6));"
   ]
  },
  {
   "cell_type": "markdown",
   "metadata": {},
   "source": [
    "### Relative humidity (calculated from dewpoint and Ta)"
   ]
  },
  {
   "cell_type": "code",
   "execution_count": null,
   "metadata": {},
   "outputs": [],
   "source": [
    "var = 'dewpt_scrn'"
   ]
  },
  {
   "cell_type": "code",
   "execution_count": null,
   "metadata": {},
   "outputs": [],
   "source": [
    "base = '/g/data/cj37/BARRA/BARRA_R/v1/analysis/slv/'+var+'/'+year_month\n",
    "files = os.listdir(base)\n",
    "\n",
    "paths = [base+f for f in files]\n",
    "\n",
    "ds = xr.open_mfdataset(paths=paths,\n",
    "                 chunks={},\n",
    "                 engine='netcdf4',\n",
    "                 concat_dim='time',\n",
    "                 combine='nested',\n",
    "                 ).sortby('time')\n",
    "\n",
    "ds = ds[var].mean('time').isel(latitude=slice(190,500), longitude=slice(400,850)).compute()\n",
    "ds.to_netcdf(out_folder+'dewpt.nc')\n",
    "\n",
    "#open Ta\n",
    "Ta = xr.open_dataarray(out_folder+'Ta.nc')\n",
    "rh = 100*(xr.ufuncs.exp((17.625*ds)/(243.04+ds))/xr.ufuncs.exp((17.625*Ta)/(243.04+Ta)))\n",
    "rh.to_netcdf(out_folder+'rh.nc')"
   ]
  },
  {
   "cell_type": "code",
   "execution_count": null,
   "metadata": {},
   "outputs": [],
   "source": [
    "rh.plot.imshow(figsize=(6,6));"
   ]
  },
  {
   "cell_type": "markdown",
   "metadata": {},
   "source": [
    "### Vapour Pressure Deficit"
   ]
  },
  {
   "cell_type": "code",
   "execution_count": null,
   "metadata": {},
   "outputs": [],
   "source": [
    "def VPD(rh, ta):\n",
    "    sat_vp = (6.11 * xr.ufuncs.exp((2500000/461) * (1/273 - 1/(273 + ta))))\n",
    "    vpd = (((100 - rh)/100) * sat_vp)\n",
    "    return vpd / 10 # go from mb to kPA"
   ]
  },
  {
   "cell_type": "code",
   "execution_count": null,
   "metadata": {},
   "outputs": [],
   "source": [
    "Ta = xr.open_dataarray(out_folder+'Ta.nc')\n",
    "Ta=Ta-273.15 #to celsius\n",
    "rh = xr.open_dataarray(out_folder+'rh.nc')\n",
    "\n",
    "vpd = VPD(rh,Ta)"
   ]
  },
  {
   "cell_type": "code",
   "execution_count": null,
   "metadata": {},
   "outputs": [],
   "source": [
    "vpd.to_netcdf(out_folder+'vpd.nc')"
   ]
  }
 ],
 "metadata": {
  "kernelspec": {
   "display_name": "Python 3",
   "language": "python",
   "name": "python3"
  },
  "language_info": {
   "codemirror_mode": {
    "name": "ipython",
    "version": 3
   },
   "file_extension": ".py",
   "mimetype": "text/x-python",
   "name": "python",
   "nbconvert_exporter": "python",
   "pygments_lexer": "ipython3",
   "version": "3.6.10"
  }
 },
 "nbformat": 4,
 "nbformat_minor": 4
}
