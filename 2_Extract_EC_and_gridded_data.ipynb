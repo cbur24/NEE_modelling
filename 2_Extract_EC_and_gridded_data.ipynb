{
 "cells": [
  {
   "cell_type": "markdown",
   "metadata": {},
   "source": [
    "# Generate training and prediction data from insitu and gridded datasets\n",
    "\n",
    "More datasets are here https://dap.tern.org.au/thredds/catalog/ecosystem_process/ozflux/catalog.html\n",
    "\n"
   ]
  },
  {
   "cell_type": "markdown",
   "metadata": {},
   "source": [
    "## Load modules"
   ]
  },
  {
   "cell_type": "code",
   "execution_count": 1,
   "metadata": {},
   "outputs": [],
   "source": [
    "import sys\n",
    "sys.path.append('/g/data/os22/chad_tmp/NEE_modelling/')\n",
    "from collect_training_data import extract_ec_gridded_data"
   ]
  },
  {
   "cell_type": "markdown",
   "metadata": {},
   "source": [
    "## Collect training data from EC towers, and gridded data at pixel location of EC tower\n",
    "\n",
    "This data is used for training the models.\n"
   ]
  },
  {
   "cell_type": "code",
   "execution_count": 2,
   "metadata": {},
   "outputs": [
    {
     "name": "stdout",
     "output_type": "stream",
     "text": [
      " 33/33\r"
     ]
    }
   ],
   "source": [
    "suffixes = [\n",
    "    'Emerald/2022_v2/L6/default/Emerald_L6_20110610_20131231_Monthly.nc',\n",
    "    'GreatWesternWoodlands/2022_v2/L6/default/GreatWesternWoodlands_L6_20130101_20220601_Monthly.nc',\n",
    "    'CowBay/2022_v2/L6/default/CowBay_L6_20090101_20220816_Monthly.nc',\n",
    "    'Tumbarumba/2022_v2/L6/default/Tumbarumba_L6_20020107_20220530_Monthly.nc',\n",
    "    'Whroo/2022_v2/L6/default/Whroo_L6_20111201_20220821_Monthly.nc',\n",
    "    'WombatStateForest/2022_v2/L6/default/WombatStateForest_L6_20100120_20210529_Monthly.nc',\n",
    "    'WallabyCreek/2022_v2/L6/default/WallabyCreek_L6_20050825_20130409_Monthly.nc',\n",
    "    'RobsonCreek/2022_v2/L6/default/RobsonCreek_L6_20130801_20220816_Monthly.nc',\n",
    "    'CapeTribulation/2022_v2/L6/default/CapeTribulation_L6_20100101_20181102_Monthly.nc',\n",
    "    'AliceSpringsMulga/2022_v2/L6/default/AliceSpringsMulga_L6_20100903_20220806_Monthly.nc',\n",
    "    'CalperumChowilla/2022_v2/L6/default/Calperum_L6_20100730_20220829_Monthly.nc',\n",
    "    'DryRiver/2022_v2/L6/default/DryRiver_L6_20091025_20220820_Monthly.nc',\n",
    "    'Litchfield/2022_v2/L6/default/Litchfield_L6_20150623_20220513_Monthly.nc',\n",
    "    'SturtPlains/2022_v2/L6/default/SturtPlains_L6_20080828_20220513_Monthly.nc',\n",
    "    'RiggsCreek/2022_v2/L6/default/RiggsCreek_L6_20110101_20170712_Monthly.nc', #dryland cropping\n",
    "    'Otway/2022_v2/L6/default/Otway_L6_20070811_20110101_Monthly.nc', # pasture site\n",
    "    'Yanco/2022_v2/L6/default/Yanco_L6_20130101_20220821_Monthly.nc', # soil site\n",
    "    \n",
    "    ## check the location of these ones below as they are new additions\n",
    "    'Gingin/2022_v2/L6/default/Gingin_L6_20111013_20210614_Monthly.nc', # native Banksia woodland\n",
    "    'LongreachMitchellGrassRangeland/2022_v2/L6/default/Longreach_L6_20181009_20220607_Monthly.nc',\n",
    "    'Ridgefield/2022_v2/L6/default/Ridgefield_L6_20160101_20220821_Monthly.nc', #  dryland agriculture\n",
    "    'SilverPlains/2022_v2/L6/default/SilverPlains_L6_20200101_20211231_Monthly.nc', #Australian Mountain Reseach \n",
    "    'Collie/2022_v2/L6/default/Collie_L6_20170804_20191111_Monthly.nc', # wandoo woodland\n",
    "    'AdelaideRiver/2022_v2/L6/default/AdelaideRiver_L6_20071017_20090524_Monthly.nc', #  Savanna dominated by Eucalyptus\n",
    "    'Warra/2022_v2/L6/default/Warra_L6_20130305_20210921_Monthly.nc', #tasmania\n",
    "    \n",
    "    ### ----------Problematic sites--------\n",
    "    #'DalyPasture/2022_v2/L6/default/DalyPasture_L6_20080101_20130908_Monthly.nc', #fragmented landscape, pasture among native veg fragments\n",
    "    #'DalyUncleared/2022_v1/L6/default/DalyUncleared_L6_20080101_20220217_Monthly.nc', #Woodland savanna LOTS OF UNCERTAINTY IN THIS SITE - Peter Isaac\n",
    "    'CumberlandPlain/2022_v2/L6/default/CumberlandPlain_L6_20140101_20220820_Monthly.nc',# small remnant bushland block in ag district\n",
    "    'SamfordEcologicalResearchFacility/2022_v2/L6/default/Samford_L6_20100602_20171231_Monthly.nc', #fragmented landscape 5km resolution not good enough\n",
    "    'Boyagin/2022_v2/L6/default/Boyagin_L6_20171020_20220821_Monthly.nc', # in remnant forest around crops, BORDERLINE MIGHT BE OKAY\n",
    "    'TiTreeEast/2022_v1/L6/default/TiTreeEast_L6_20120718_20220117_Monthly.nc', \n",
    "    #'RedDirtMelonFarm/2021_v1/L6/default/RedDirtMelonFarm_L6_20110923_20130721_Monthly.nc', #small farm in the middle of savannah woodland\n",
    "    'FoggDam/2022_v2/L6/default/FoggDam_L6_20060207_20081031_Monthly.nc', # wetland that floods seasonally\n",
    "    #'Loxton/2022_v1/L6/default/Loxton_L6_20080819_20090609_Monthly.nc' # almond tress, 1 year of data\n",
    "]\n",
    "\n",
    "i=0\n",
    "sites = []\n",
    "for suffix in suffixes:\n",
    "    print(\" {:02}/{:02}\\r\".format(i + 1, len(suffixes)), end=\"\")\n",
    "    xx = extract_ec_gridded_data(suffix,\n",
    "                                 scale='1km',\n",
    "                                 save_ec_data=False,\n",
    "                                 verbose=False,\n",
    "                                 add_comparisons=False,\n",
    "                                 export_path='/g/data/os22/chad_tmp/NEE_modelling/results/training_data/'\n",
    "                                )\n",
    "    sites.append(xx)\n",
    "    i+=1\n",
    "    "
   ]
  },
  {
   "cell_type": "markdown",
   "metadata": {},
   "source": [
    "## Examine sites"
   ]
  },
  {
   "cell_type": "code",
   "execution_count": 4,
   "metadata": {},
   "outputs": [],
   "source": [
    "import os\n",
    "import geopandas as gpd\n",
    "import pandas as pd\n",
    "import matplotlib.pyplot as plt\n",
    "import numpy as np\n",
    "import seaborn as sns\n",
    "from scipy.stats import skew\n",
    "import xarray as xr\n",
    "\n",
    "from sklearn.preprocessing import PowerTransformer"
   ]
  },
  {
   "cell_type": "code",
   "execution_count": null,
   "metadata": {},
   "outputs": [],
   "source": [
    "var = 'NEE'\n",
    "suffix = '20221212'"
   ]
  },
  {
   "cell_type": "code",
   "execution_count": 5,
   "metadata": {},
   "outputs": [],
   "source": [
    "base = '/g/data/os22/chad_tmp/NEE_modelling/results/training_data/'\n",
    "sites = os.listdir('/g/data/os22/chad_tmp/NEE_modelling/results/training_data/')\n",
    "\n",
    "td = []\n",
    "for site in sites:\n",
    "    if '.csv' in site:\n",
    "        xx = pd.read_csv(base+site, index_col='time', parse_dates=True)\n",
    "        xx['site'] = site[0:5]\n",
    "        td.append(xx)\n",
    "\n",
    "ts = pd.concat(td)#.dropna()\n",
    "# sites = ts[['site', 'x_coord','y_coord']]\n",
    "# sites = sites.drop_duplicates().reset_index(drop=True)\n",
    "# gdf = gpd.GeoDataFrame(\n",
    "#     sites, geometry=gpd.points_from_xy(sites.x_coord, sites.y_coord), crs='epsg:4326')\n",
    "\n",
    "# gdf = gdf.drop(['x_coord', 'y_coord'],axis=1)"
   ]
  },
  {
   "cell_type": "code",
   "execution_count": null,
   "metadata": {},
   "outputs": [],
   "source": [
    "fig,ax = plt.subplots(1,1, figsize=(7,5))\n",
    "sns.distplot(ts.GPP_SOLO_EC, ax=ax, label='GPP')\n",
    "sns.distplot(ts.ER_SOLO_EC, ax=ax, label='ER')\n",
    "sns.distplot(ts.NEE_SOLO_EC, ax=ax, label='NEE')\n",
    "s_nee = skew(ts.NEE_SOLO_EC)\n",
    "s_gpp = skew(ts.GPP_SOLO_EC)\n",
    "s_er = skew(ts.ER_SOLO_EC)\n",
    "ax.legend()\n",
    "ax.text(.825, .75, 'Skew:',transform=ax.transAxes)\n",
    "ax.text(.825, .7, 'GPP = {:.3f}'.format(s_gpp),\n",
    "                transform=ax.transAxes)\n",
    "ax.text(.825, .65, 'ER = {:.3f}'.format(s_er),\n",
    "                transform=ax.transAxes)\n",
    "ax.text(.825, .6, 'NEE = {:.3f}'.format(s_nee),\n",
    "                transform=ax.transAxes)\n",
    "ax.set_xlabel('Ozflux Carbon fluxes (gC m\\N{SUPERSCRIPT TWO} m⁻¹)')\n",
    "ax.set_xlim(-225,450)\n",
    "plt.tight_layout()\n",
    "#plt.savefig('/g/data/os22/chad_tmp/NEE_modelling/results/figs/ozflux_carbon_flux_distributions.png');"
   ]
  },
  {
   "cell_type": "code",
   "execution_count": null,
   "metadata": {},
   "outputs": [],
   "source": [
    "ds = xr.open_dataarray('/g/data/os22/chad_tmp/NEE_modelling/results/predictions/'+var+'_2003_2021_5km_LGBM_'+suffix+'.nc')"
   ]
  },
  {
   "cell_type": "code",
   "execution_count": null,
   "metadata": {},
   "outputs": [],
   "source": [
    "fig,ax = plt.subplots(1,1, figsize=(7,5))\n",
    "sns.displot(ts.NEE_SOLO_EC, ax=ax, label='Observed')\n",
    "ds.plot.hist(bins=100, ax=ax, label='predicted')\n",
    "ax.legend()\n",
    "ax.set_xlabel(var+' (gC m\\N{SUPERSCRIPT TWO} m⁻¹)')\n",
    "# ax.set_xlim(-225,450)\n",
    "plt.tight_layout()\n",
    "ds.plot.hist(bins=100);"
   ]
  },
  {
   "cell_type": "code",
   "execution_count": null,
   "metadata": {},
   "outputs": [],
   "source": [
    "sns.displot(ds, label='NEE')"
   ]
  },
  {
   "cell_type": "markdown",
   "metadata": {},
   "source": [
    "### Power transform distributions to enforce normality"
   ]
  },
  {
   "cell_type": "code",
   "execution_count": null,
   "metadata": {},
   "outputs": [],
   "source": [
    "nee = ts.NEE_SOLO_EC.values.reshape(-1, 1)\n",
    "gpp = ts.GPP_SOLO_EC.values.reshape(-1, 1)\n",
    "er = ts.ER_SOLO_EC.values.reshape(-1, 1)"
   ]
  },
  {
   "cell_type": "code",
   "execution_count": null,
   "metadata": {},
   "outputs": [],
   "source": [
    "bc.inverse_transform"
   ]
  },
  {
   "cell_type": "code",
   "execution_count": null,
   "metadata": {},
   "outputs": [],
   "source": [
    "bc = PowerTransformer(method=\"yeo-johnson\")\n",
    "\n",
    "nee_transformed = bc.fit(nee).transform(nee)\n",
    "gpp_transformed = bc.fit(gpp).transform(gpp)\n",
    "er_transformed = bc.fit(er).transform(er)"
   ]
  },
  {
   "cell_type": "code",
   "execution_count": null,
   "metadata": {},
   "outputs": [],
   "source": [
    "fig,ax = plt.subplots(1,1, figsize=(7,5))\n",
    "sns.distplot(gpp_transformed, ax=ax, label='GPP')\n",
    "sns.distplot(er_transformed, ax=ax, label='ER')\n",
    "sns.distplot(nee_transformed, ax=ax, label='NEE')\n",
    "s_nee = skew(nee_transformed)\n",
    "s_gpp = skew(gpp_transformed)\n",
    "s_er = skew(er_transformed)\n",
    "\n",
    "ax.legend()\n",
    "\n",
    "ax.text(.825, .75, 'Skew:',transform=ax.transAxes)\n",
    "ax.text(.825, .7, 'GPP = {:.3f}'.format(s_gpp[0]),\n",
    "                transform=ax.transAxes)\n",
    "ax.text(.825, .65, 'ER = {:.3f}'.format(s_er[0]),\n",
    "                transform=ax.transAxes)\n",
    "ax.text(.825, .6, 'NEE = {:.3f}'.format(s_nee[0]),\n",
    "                transform=ax.transAxes)\n",
    "ax.set_xlabel('Ozflux Carbon fluxes (gC m\\N{SUPERSCRIPT TWO} m⁻¹)')\n",
    "# ax.set_xlim(-225,450)\n",
    "plt.tight_layout()\n"
   ]
  },
  {
   "cell_type": "code",
   "execution_count": null,
   "metadata": {},
   "outputs": [],
   "source": [
    "gdf.explore(column='site', marker_kwds={'radius':1000, 'fill':True}, marker_type ='circle',\n",
    "            tiles='https://server.arcgisonline.com/ArcGIS/rest/services/World_Imagery/MapServer/tile/{z}/{y}/{x}', attr='Esri'\n",
    "           )"
   ]
  },
  {
   "cell_type": "markdown",
   "metadata": {},
   "source": [
    "## Observed vs Predicted\n",
    "\n",
    "Boxplots, distrbutions\n",
    "\n",
    "Create a plot where x-axis is each site, and the y-axis is the annual mean NEE (GPP,ER).\n",
    "\n",
    "Compare annual means in gridded predictions vs insitu"
   ]
  },
  {
   "cell_type": "code",
   "execution_count": null,
   "metadata": {},
   "outputs": [],
   "source": [
    "import os\n",
    "import geopandas as gpd\n",
    "import pandas as pd\n",
    "import matplotlib.pyplot as plt\n",
    "import numpy as np\n",
    "import seaborn as sb\n",
    "from sklearn.metrics import mean_absolute_error, r2_score\n",
    "import xarray as xr"
   ]
  },
  {
   "cell_type": "markdown",
   "metadata": {},
   "source": [
    "### Analysis Params\n"
   ]
  },
  {
   "cell_type": "code",
   "execution_count": null,
   "metadata": {},
   "outputs": [],
   "source": [
    "var = 'ER'\n",
    "suffix = '20230109'"
   ]
  },
  {
   "cell_type": "markdown",
   "metadata": {},
   "source": [
    "### Open predictions"
   ]
  },
  {
   "cell_type": "code",
   "execution_count": null,
   "metadata": {},
   "outputs": [],
   "source": [
    "ds = xr.open_dataarray('/g/data/os22/chad_tmp/NEE_modelling/results/predictions/'+var+'_2003_2021_5km_LGBM_'+suffix+'.nc')"
   ]
  },
  {
   "cell_type": "code",
   "execution_count": null,
   "metadata": {},
   "outputs": [],
   "source": [
    "base = '/g/data/os22/chad_tmp/NEE_modelling/results/training_data/'\n",
    "sites = os.listdir('/g/data/os22/chad_tmp/NEE_modelling/results/training_data/')\n",
    "\n",
    "td = []\n",
    "for site in sites:\n",
    "    if '.csv' in site:\n",
    "        xx = pd.read_csv(base+site, index_col='time', parse_dates=True)\n",
    "        \n",
    "        # indexing spatiotemporal values at EC site\n",
    "        lat = xx['y_coord'].values[0]\n",
    "        lon = xx['x_coord'].values[0]\n",
    "        time_start = str(np.datetime_as_string(xx.index.values[0], unit='D'))\n",
    "        time_end = str(np.datetime_as_string(xx.index.values[-1], unit='D'))\n",
    "        idx=dict(y=lat,  x=lon)\n",
    "        \n",
    "        da = ds.sel(idx, method='nearest').sel(time=slice(time_start, time_end)) # grab pixel\n",
    "        da = da.reindex(time=xx.index, method='nearest', tolerance='1D').compute() \n",
    "        da = da.rename(var+'_prediction').to_dataframe().drop(['y', 'x', 'spatial_ref'], axis=1)\n",
    "        xx = xx.join(da)\n",
    "        xx['site'] = site[0:5]\n",
    "        \n",
    "        td.append(xx)\n",
    "\n",
    "ts = pd.concat(td)#.dropna()"
   ]
  },
  {
   "cell_type": "markdown",
   "metadata": {},
   "source": [
    "### Compare distributions"
   ]
  },
  {
   "cell_type": "code",
   "execution_count": null,
   "metadata": {},
   "outputs": [],
   "source": [
    "hist = ts[[var+'_SOLO_EC', var+'_prediction']].rename({var+'_SOLO_EC':'Observed', var+'_prediction':'Prediction'}, axis=1)\n",
    "sb.displot(hist, kind=\"kde\", fill=True)\n",
    "plt.xlabel(var+' (gC m\\N{SUPERSCRIPT TWO} m⁻¹)', fontsize=15)\n",
    "plt.ylabel('Density', fontsize=12)\n",
    "if var=='NEE':\n",
    "    plt.axvline(0, c='grey', linestyle='--')\n",
    "plt.tight_layout()\n",
    "plt.savefig('/g/data/os22/chad_tmp/NEE_modelling/results/figs/'+var+'_kde_obs_pred.png')"
   ]
  },
  {
   "cell_type": "markdown",
   "metadata": {},
   "source": [
    "### Convert to annual means"
   ]
  },
  {
   "cell_type": "code",
   "execution_count": null,
   "metadata": {},
   "outputs": [],
   "source": [
    "df = ts.groupby('site').resample('Y').mean()\n",
    "\n",
    "df = df[[var+'_SOLO_EC', var+'_prediction']]\n",
    "df = df.rename({var+'_SOLO_EC':'obs', var+'_prediction':'pred'}, axis=1)"
   ]
  },
  {
   "cell_type": "markdown",
   "metadata": {},
   "source": [
    "### Per site annual mean boxplots"
   ]
  },
  {
   "cell_type": "code",
   "execution_count": null,
   "metadata": {},
   "outputs": [],
   "source": [
    "fig, ax =  plt.subplots(4,8,figsize=(23,10), sharex=True)\n",
    "df.groupby('site').boxplot(subplots=True, ax=ax.flatten()[:29], rot=0, grid=False, fontsize=12)\n",
    "if var == 'NEE':\n",
    "    for a in ax.reshape(-1): \n",
    "        a.axhline(0, c='grey', linestyle='--');\n",
    "fig.supylabel('Annual '+var+' (gC m\\N{SUPERSCRIPT TWO} m⁻¹)', fontsize=16)\n",
    "plt.tight_layout()\n",
    "plt.savefig('/g/data/os22/chad_tmp/NEE_modelling/results/figs/'+var+'_boxplots_annualmean.png')"
   ]
  },
  {
   "cell_type": "markdown",
   "metadata": {},
   "source": [
    "### Per site climatology"
   ]
  },
  {
   "cell_type": "code",
   "execution_count": null,
   "metadata": {},
   "outputs": [],
   "source": [
    "clim = ts.groupby([ts['site'], ts.index.month]).mean()\n",
    "clim = clim[[var+'_SOLO_EC', var+'_prediction']]\n",
    "clim = clim.rename({var+'_SOLO_EC':'obs', var+'_prediction':'pred'}, axis=1)"
   ]
  },
  {
   "cell_type": "code",
   "execution_count": null,
   "metadata": {},
   "outputs": [],
   "source": [
    "fig, ax =  plt.subplots(4,8,figsize=(23,10), sharex=True)\n",
    "\n",
    "for a, b in zip(ax.reshape(-1), clim.groupby('site')): \n",
    "    label, df = b[0], b[1] \n",
    "    if label=='Adela':   \n",
    "        df.plot(kind=\"line\", ax=a, label=label, legend=True)\n",
    "    else:\n",
    "        df.plot(kind=\"line\", ax=a, label=label, legend=False)\n",
    "    if var == 'NEE':\n",
    "        a.axhline(0, c='grey', linestyle='--')\n",
    "    a.set_xticks(range(0,12))\n",
    "    a.set_xticklabels([\"J\",\"F\",\"M\",\"A\",\"M\",\"J\",\"J\",\"A\",\"S\",\"O\",\"N\",\"D\"], fontsize=17)\n",
    "    a.tick_params(axis='x', labelsize=12)\n",
    "    a.tick_params(axis='y', labelsize=12)\n",
    "    a.set_title(label, fontdict={'fontsize':12})\n",
    "    a.set_ylabel('')\n",
    "    a.set_xlabel('')\n",
    "\n",
    "fig.supylabel('Climatological '+var+' (gC m\\N{SUPERSCRIPT TWO} m⁻¹)', fontsize=16)\n",
    "\n",
    "plt.tight_layout()\n",
    "plt.savefig('/g/data/os22/chad_tmp/NEE_modelling/results/figs/climatology_curves_persite_'+var+'.png')"
   ]
  },
  {
   "cell_type": "markdown",
   "metadata": {},
   "source": [
    "### 1:1 of annual means"
   ]
  },
  {
   "cell_type": "code",
   "execution_count": null,
   "metadata": {},
   "outputs": [],
   "source": [
    "df = df.dropna()"
   ]
  },
  {
   "cell_type": "code",
   "execution_count": null,
   "metadata": {},
   "outputs": [],
   "source": [
    "r2 = r2_score(df['obs'], df['pred'])\n",
    "ac = mean_absolute_error(df['obs'], df['pred'])"
   ]
  },
  {
   "cell_type": "code",
   "execution_count": null,
   "metadata": {},
   "outputs": [],
   "source": [
    "fig,ax = plt.subplots(1,1, figsize=(11,9))\n",
    "\n",
    "sb.scatterplot(data=df, x='obs',y='pred', hue='site', s=100, lw=1, ax=ax)\n",
    "sb.regplot(data=df, x='obs',y='pred', scatter=False, color='red', ax=ax)\n",
    "sb.regplot(data=df, x='obs',y='obs', color='black', scatter=False, line_kws={'linestyle':'dashed'}, ax=ax);\n",
    "plt.legend(bbox_to_anchor=(1.02, 1.0), loc='upper left', borderaxespad=0, fontsize=12)\n",
    "plt.xlabel('Obs, annual mean '+ var + ' gC m\\N{SUPERSCRIPT TWO} m⁻¹', fontsize=24)\n",
    "plt.ylabel('Pred, annual mean ' + var+ ' gC m\\N{SUPERSCRIPT TWO} m⁻¹', fontsize=24)\n",
    "ax.text(.05, .95, 'r\\N{SUPERSCRIPT TWO}={:.2f}'.format(np.mean(r2)),\n",
    "            transform=ax.transAxes, fontsize=24)\n",
    "ax.text(.05, .9, 'MAE={:.3g}'.format(np.mean(ac)),\n",
    "            transform=ax.transAxes, fontsize=24)\n",
    "ax.tick_params(axis='x', labelsize=22)\n",
    "ax.tick_params(axis='y', labelsize=22)\n",
    "\n",
    "plt.tight_layout()\n",
    "fig.savefig(\"/g/data/os22/chad_tmp/NEE_modelling/results/cross_validation/\"+var+\"_annual_mean_onetoone.png\", bbox_inches='tight')"
   ]
  },
  {
   "cell_type": "code",
   "execution_count": null,
   "metadata": {},
   "outputs": [],
   "source": [
    "# get handles and labels for reuse\n",
    "label_params = ax.get_legend_handles_labels() \n",
    "\n",
    "figl, axl = plt.subplots()\n",
    "axl.axis(False)\n",
    "axl.legend(*label_params, loc='best', fontsize=24, markerscale=4, ncol=15)\n",
    "figl.savefig('/g/data/os22/chad_tmp/NEE_modelling/results/cross_validation/legend_annual_mean_onetoone.png', bbox_inches='tight')"
   ]
  },
  {
   "cell_type": "code",
   "execution_count": null,
   "metadata": {},
   "outputs": [],
   "source": []
  },
  {
   "cell_type": "markdown",
   "metadata": {},
   "source": [
    "## Collate gridded data for predictions\n",
    "\n",
    "This data is used to predict on, results of this are stored here `/g/data/os22/chad_tmp/NEE_modelling/results/predicton_data/prediction_data_YYYY.nc`"
   ]
  },
  {
   "cell_type": "code",
   "execution_count": null,
   "metadata": {},
   "outputs": [],
   "source": [
    "import sys\n",
    "sys.path.append('/g/data/os22/chad_tmp/NEE_modelling/')\n",
    "from collect_prediction_data import collect_prediction_data"
   ]
  },
  {
   "cell_type": "code",
   "execution_count": null,
   "metadata": {},
   "outputs": [],
   "source": [
    "t1, t2='2003','2021'"
   ]
  },
  {
   "cell_type": "code",
   "execution_count": null,
   "metadata": {},
   "outputs": [],
   "source": [
    "ds = collect_prediction_data(time_start=t1,\n",
    "                             time_end=t2,\n",
    "                             verbose=True,\n",
    "                             export=False\n",
    "                             )\n",
    "ds"
   ]
  },
  {
   "cell_type": "code",
   "execution_count": null,
   "metadata": {},
   "outputs": [],
   "source": []
  }
 ],
 "metadata": {
  "kernelspec": {
   "display_name": "Python 3 (ipykernel)",
   "language": "python",
   "name": "python3"
  },
  "language_info": {
   "codemirror_mode": {
    "name": "ipython",
    "version": 3
   },
   "file_extension": ".py",
   "mimetype": "text/x-python",
   "name": "python",
   "nbconvert_exporter": "python",
   "pygments_lexer": "ipython3",
   "version": "3.8.8"
  }
 },
 "nbformat": 4,
 "nbformat_minor": 4
}
