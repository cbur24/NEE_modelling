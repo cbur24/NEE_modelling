{
 "cells": [
  {
   "cell_type": "markdown",
   "metadata": {},
   "source": [
    "# Creating various plots of observed vs predicted values\n",
    "\n",
    "These include:\n",
    "\n",
    "- Boxplots, distrbutions\n",
    "\n",
    "- comparing annual means between predictions and EC tower data\n",
    "\n",
    "- compare seasonal cycle at each site\n",
    "\n",
    "- compare EC sites with predictions from other products\n"
   ]
  },
  {
   "cell_type": "markdown",
   "metadata": {},
   "source": [
    "## Load modules"
   ]
  },
  {
   "cell_type": "code",
   "execution_count": null,
   "metadata": {},
   "outputs": [],
   "source": [
    "import sys\n",
    "import os\n",
    "import scipy as sp\n",
    "import numpy as np\n",
    "import pandas as pd\n",
    "import seaborn as sb\n",
    "import geopandas as gpd\n",
    "import xarray as xr\n",
    "from scipy import stats\n",
    "from scipy.stats import skew\n",
    "from scipy.stats import gaussian_kde\n",
    "from sklearn.metrics import mean_absolute_error, r2_score\n",
    "from sklearn.preprocessing import PowerTransformer\n",
    "\n",
    "import matplotlib.pyplot as plt\n",
    "sys.path.append('/g/data/os22/chad_tmp/NEE_modelling/')\n",
    "from _collect_training_data import extract_ec_gridded_data"
   ]
  },
  {
   "cell_type": "code",
   "execution_count": null,
   "metadata": {},
   "outputs": [],
   "source": [
    "# from odc.geo.xr import assign_crs\n",
    "# ds = assign_crs(xr.open_dataset('/g/data/os22/chad_tmp/NEE_modelling/results/harmonized/reprojected/CABLE_BIOS_ER_25km.nc'), crs='epsg:4326')\n",
    "# ds\n",
    "\n",
    "# np.isnan(ds.CABLE_BIOS_ER).isel(time=1).plot.imshow()"
   ]
  },
  {
   "cell_type": "markdown",
   "metadata": {},
   "source": [
    "## Product 1:1 intercomparison\n",
    "\n",
    "Extract flux values from many products\n",
    "\n",
    "The easist way to do this is to use our training data extraction procedure but use it extract pixel values from other products"
   ]
  },
  {
   "cell_type": "code",
   "execution_count": null,
   "metadata": {},
   "outputs": [],
   "source": [
    "suffixes = [\n",
    "    'Emerald_L6_20110610_20131231_Monthly.nc',\n",
    "    'GreatWesternWoodlands_L6_20130101_20220601_Monthly.nc',\n",
    "    'CowBay_L6_20090101_20220816_Monthly.nc',\n",
    "    'Tumbarumba_L6_20020107_20220530_Monthly.nc',\n",
    "    'Whroo_L6_20111201_20220821_Monthly.nc',\n",
    "    'WombatStateForest_L6_20100120_20210529_Monthly.nc',\n",
    "    'WallabyCreek_L6_20050825_20130409_Monthly.nc',\n",
    "    'RobsonCreek_L6_20130801_20220816_Monthly.nc',\n",
    "    'CapeTribulation_L6_20100101_20181102_Monthly.nc',\n",
    "    'AliceSpringsMulga_L6_20100903_20220806_Monthly.nc',\n",
    "    'Calperum_L6_20100730_20220829_Monthly.nc',\n",
    "    'DryRiver_L6_20091025_20220820_Monthly.nc',\n",
    "    'Litchfield_L6_20150623_20220513_Monthly.nc',\n",
    "    'SturtPlains_L6_20080828_20220513_Monthly.nc',\n",
    "    'RiggsCreek_L6_20110101_20170712_Monthly.nc', #dryland cropping\n",
    "    'Otway_L6_20070811_20110101_Monthly.nc', # pasture site\n",
    "    'Yanco_L6_20130101_20220821_Monthly.nc', # soil site\n",
    "    \n",
    "    ## check the location of these ones below as they are new additions\n",
    "    'Gingin_L6_20111013_20210614_Monthly.nc', # native Banksia woodland\n",
    "    'Longreach_L6_20181009_20220607_Monthly.nc',\n",
    "    'Ridgefield_L6_20160101_20220821_Monthly.nc', #  dryland agriculture\n",
    "    'SilverPlains_L6_20200101_20211231_Monthly.nc', #Australian Mountain Reseach \n",
    "    'Collie_L6_20170804_20191111_Monthly.nc', # wandoo woodland\n",
    "    'AdelaideRiver_L6_20071017_20090524_Monthly.nc', #  Savanna dominated by Eucalyptus\n",
    "    'Warra_L6_20130305_20210921_Monthly.nc', #tasmania\n",
    "    \n",
    "    ### ----------Problematic sites--------\n",
    "    #'DalyPasture/2022_v2/L6/default/DalyPasture_L6_20080101_20130908_Monthly.nc', #fragmented landscape, pasture among native veg fragments\n",
    "    #'DalyUncleared/2022_v1/L6/default/DalyUncleared_L6_20080101_20220217_Monthly.nc', #Woodland savanna LOTS OF UNCERTAINTY IN THIS SITE - Peter Isaac\n",
    "    'CumberlandPlain_L6_20140101_20220820_Monthly.nc',# small remnant bushland block in ag district\n",
    "    'Samford_L6_20100602_20171231_Monthly.nc', #fragmented landscape 5km resolution not good enough\n",
    "    'Boyagin_L6_20171020_20220821_Monthly.nc', # in remnant forest around crops, BORDERLINE MIGHT BE OKAY\n",
    "    'TiTreeEast_L6_20120718_20220117_Monthly.nc', \n",
    "    #'RedDirtMelonFarm/2021_v1/L6/default/RedDirtMelonFarm_L6_20110923_20130721_Monthly.nc', #small farm in the middle of savannah woodland\n",
    "    'FoggDam_L6_20060207_20081031_Monthly.nc', # wetland that floods seasonally\n",
    "    #'Loxton/2022_v1/L6/default/Loxton_L6_20080819_20090609_Monthly.nc' # almond tress, 1 year of data\n",
    "]\n",
    "\n",
    "i=0\n",
    "sites = []\n",
    "for suffix in suffixes:\n",
    "    print(\" {:02}/{:02}\\r\".format(i + 1, len(suffixes)), end=\"\")\n",
    "    xx = extract_ec_gridded_data(suffix,\n",
    "                                 covariables=['kNDVI'],\n",
    "                                 scale='1km',\n",
    "                                 save_ec_data=False,\n",
    "                                 verbose=False,\n",
    "                                 add_comparisons='harmonized',\n",
    "                                 export_path='/g/data/os22/chad_tmp/NEE_modelling/results/harmonized/'\n",
    "                                )\n",
    "    sites.append(xx)\n",
    "    i+=1"
   ]
  },
  {
   "cell_type": "markdown",
   "metadata": {},
   "source": [
    "### Stitch together other products data in a df"
   ]
  },
  {
   "cell_type": "code",
   "execution_count": null,
   "metadata": {},
   "outputs": [],
   "source": [
    "base = '/g/data/os22/chad_tmp/NEE_modelling/results/harmonized/'\n",
    "sites = [i for i in os.listdir(base) if i.endswith('.csv')]\n",
    "\n",
    "td = []\n",
    "for site in sites:\n",
    "    if '.csv' in site:\n",
    "        xx = pd.read_csv(base+site, index_col='time', parse_dates=True)\n",
    "        xx['site'] = site[0:5]\n",
    "        td.append(xx)\n",
    "\n",
    "df = pd.concat(td)"
   ]
  },
  {
   "cell_type": "code",
   "execution_count": null,
   "metadata": {},
   "outputs": [],
   "source": [
    "df = df[['NEE_SOLO_EC', 'GPP_SOLO_EC', 'ER_SOLO_EC',\n",
    "         'FLUXCOM_RS_NEE','FLUXCOM_RS_GPP', 'FLUXCOM_RS_ER',\n",
    "         # 'FLUXCOM_MET_NEE','FLUXCOM_MET_GPP', 'FLUXCOM_MET_ER',\n",
    "         'CABLE_BIOS_NEE', 'CABLE_BIOS_GPP', 'CABLE_BIOS_ER',\n",
    "         # 'CABLE_POP_NEE', 'CABLE_POP_GPP', 'CABLE_POP_ER',\n",
    "         'GOSIF_GPP', 'DIFFUSE_GPP', 'MODIS_GPP',\n",
    "         'This_Study_NEE', 'This_Study_GPP', 'This_Study_ER',\n",
    "         'site'\n",
    "        ]]\n",
    "\n",
    "# df = df.dropna()\n",
    "print(len(df))"
   ]
  },
  {
   "cell_type": "markdown",
   "metadata": {},
   "source": [
    "### Plot"
   ]
  },
  {
   "cell_type": "code",
   "execution_count": null,
   "metadata": {},
   "outputs": [],
   "source": [
    "var='NEE'\n",
    "font=24"
   ]
  },
  {
   "cell_type": "code",
   "execution_count": null,
   "metadata": {},
   "outputs": [],
   "source": [
    "if var == 'GPP':\n",
    "    # products=['CABLE_BIOS_'+var, 'FLUXCOM_MET_'+var, 'FLUXCOM_RS_'+var, 'MODIS_'+var, 'GOSIF_'+var, 'DIFFUSE_'+var]\n",
    "    products=['CABLE_BIOS_'+var,  'This_Study_'+var, 'FLUXCOM_RS_'+var, 'MODIS_'+var, 'GOSIF_'+var, 'DIFFUSE_'+var] \n",
    "    fig,axes = plt.subplots(2,3, figsize=(18,12), sharey=True, sharex=True)\n",
    "    \n",
    "else:\n",
    "    products=['CABLE_BIOS_'+var,'This_Study_'+var, 'FLUXCOM_RS_'+var]\n",
    "    # products=['CABLE_BIOS_'+var,'FLUXCOM_MET_'+var, 'FLUXCOM_RS_'+var]\n",
    "    fig,axes = plt.subplots(1,3, figsize=(18,7), sharey=True, sharex=True)\n",
    "\n",
    "for prod, ax in zip(products, axes.ravel()):\n",
    "    \n",
    "    obs,pred = df[var+'_SOLO_EC'].values, df[prod].values\n",
    "    mask = ~np.isnan(obs) & ~np.isnan(pred)\n",
    "    slope, intercept, r_value, p_value, std_err = stats.linregress(obs[mask],pred[mask])\n",
    "    r2 = r_value**2\n",
    "    # r2 = r2_score(obs, pred)\n",
    "    # r2 = sp.stats.pearsonr(obs, pred)\n",
    "    ac = mean_absolute_error(obs[mask], pred[mask])\n",
    "    \n",
    "    xy = np.vstack([obs[mask],pred[mask]])\n",
    "    z = gaussian_kde(xy)(xy)\n",
    "\n",
    "    sb.scatterplot(data=df, x=var+'_SOLO_EC',y=prod, c=z, s=50, lw=1, alpha=0.5, ax=ax) #\n",
    "    sb.regplot(data=df, x=var+'_SOLO_EC',y=prod, scatter=False, color='blue', ax=ax)\n",
    "    sb.regplot(data=df, x=var+'_SOLO_EC',y=var+'_SOLO_EC', color='black', scatter=False, line_kws={'linestyle':'dashed'}, ax=ax)\n",
    "    ax.set_title(prod, fontsize=font)\n",
    "    ax.set_xlabel('')\n",
    "    ax.set_ylabel('')\n",
    "    # ax.set_aspect(1.5)\n",
    "    ax.text(.05, .90, 'r\\N{SUPERSCRIPT TWO}={:.2f}'.format(np.mean(r2)),\n",
    "            transform=ax.transAxes, fontsize=font)\n",
    "    ax.text(.05, .825, 'MAE={:.3g}'.format(np.mean(ac)),\n",
    "            transform=ax.transAxes, fontsize=font)\n",
    "    ax.tick_params(axis='x', labelsize=font)\n",
    "    ax.tick_params(axis='y', labelsize=font)\n",
    "\n",
    "fig.supylabel('Predicted '+var+' gC m\\N{SUPERSCRIPT TWO} mon⁻¹', fontsize=font)\n",
    "fig.supxlabel('Observed '+var+' gC m\\N{SUPERSCRIPT TWO} mon⁻¹', fontsize=font, y=0.025);\n",
    "plt.tight_layout(pad=1.75)\n",
    "fig.savefig('/g/data/os22/chad_tmp/NEE_modelling/results/figs/cross_val_intercomparison_native_'+var+'.png',\n",
    "           bbox_inches='tight', dpi=300)"
   ]
  },
  {
   "cell_type": "markdown",
   "metadata": {},
   "source": [
    "## Comparing our predictions with site-level data"
   ]
  },
  {
   "cell_type": "markdown",
   "metadata": {},
   "source": [
    "### Analysis Params\n"
   ]
  },
  {
   "cell_type": "code",
   "execution_count": null,
   "metadata": {},
   "outputs": [],
   "source": [
    "var = 'NEE'\n",
    "suffix = 'v1.1'"
   ]
  },
  {
   "cell_type": "markdown",
   "metadata": {},
   "source": [
    "### Open predictions"
   ]
  },
  {
   "cell_type": "code",
   "execution_count": null,
   "metadata": {},
   "outputs": [],
   "source": [
    "ds = xr.open_dataset('/g/data/os22/chad_tmp/NEE_modelling/results/predictions//AusEFlux_'+var+'_2003_2022_1km_quantiles_'+suffix+'.nc')[var+'_median']\n",
    "\n",
    "ds = ds.sel(time=slice('2003', '2021'))"
   ]
  },
  {
   "cell_type": "code",
   "execution_count": null,
   "metadata": {},
   "outputs": [],
   "source": [
    "base = '/g/data/os22/chad_tmp/NEE_modelling/results/training_data/'\n",
    "sites = os.listdir('/g/data/os22/chad_tmp/NEE_modelling/results/training_data/')\n",
    "\n",
    "td = []\n",
    "for site in sites:\n",
    "    if '.csv' in site:\n",
    "        xx = pd.read_csv(base+site, index_col='time', parse_dates=True)\n",
    "        \n",
    "        # indexing spatiotemporal values at EC site\n",
    "        lat = xx['y_coord'].values[0]\n",
    "        lon = xx['x_coord'].values[0]\n",
    "        time_start = str(np.datetime_as_string(xx.index.values[0], unit='D'))\n",
    "        time_end = str(np.datetime_as_string(xx.index.values[-1], unit='D'))\n",
    "        idx=dict(latitude=lat,  longitude=lon)\n",
    "        \n",
    "        da = ds.sel(idx, method='nearest').sel(time=slice(time_start, time_end)) # grab pixel\n",
    "        da = da.reindex(time=xx.index, method='nearest', tolerance='1D').compute() \n",
    "        da = da.rename(var+'_prediction').to_dataframe().drop(['longitude', 'latitude'], axis=1)\n",
    "        xx = xx.join(da)\n",
    "        xx['site'] = site[0:5]\n",
    "        \n",
    "        td.append(xx)\n",
    "\n",
    "ts = pd.concat(td)#.dropna()"
   ]
  },
  {
   "cell_type": "markdown",
   "metadata": {},
   "source": [
    "### Compare distributions"
   ]
  },
  {
   "cell_type": "code",
   "execution_count": null,
   "metadata": {},
   "outputs": [],
   "source": [
    "hist = ts[[var+'_SOLO_EC', var+'_prediction']].rename({var+'_SOLO_EC':'Observed', var+'_prediction':'Prediction'}, axis=1)\n",
    "sb.displot(hist, kind=\"kde\", fill=True)\n",
    "plt.xlabel(var+' (gC m\\N{SUPERSCRIPT TWO} mon⁻¹)', fontsize=15)\n",
    "plt.ylabel('Density', fontsize=12)\n",
    "if var=='NEE':\n",
    "    plt.axvline(0, c='grey', linestyle='--')\n",
    "plt.tight_layout()\n",
    "# plt.savefig('/g/data/os22/chad_tmp/NEE_modelling/results/figs/'+var+'_kde_obs_pred.png')"
   ]
  },
  {
   "cell_type": "markdown",
   "metadata": {},
   "source": [
    "### Convert to annual means"
   ]
  },
  {
   "cell_type": "code",
   "execution_count": null,
   "metadata": {},
   "outputs": [],
   "source": [
    "df = ts.groupby('site').resample('Y').mean()\n",
    "\n",
    "df = df[[var+'_SOLO_EC', var+'_prediction']]\n",
    "df = df.rename({var+'_SOLO_EC':'obs', var+'_prediction':'pred'}, axis=1)"
   ]
  },
  {
   "cell_type": "markdown",
   "metadata": {},
   "source": [
    "### Per site annual mean boxplots"
   ]
  },
  {
   "cell_type": "markdown",
   "metadata": {},
   "source": [
    "#### Just observed at EC sites"
   ]
  },
  {
   "cell_type": "code",
   "execution_count": null,
   "metadata": {},
   "outputs": [],
   "source": [
    "sb.set(font_scale=1.15)\n",
    "\n",
    "fig, ax =  plt.subplots(1,1,figsize=(20,5), sharex=True)\n",
    "sb.boxplot(x='site',\n",
    "           y='obs',\n",
    "           data=df[['obs']].reset_index(),\n",
    "           ax=ax,palette='Spectral')\n",
    "ax.yaxis.grid(True)\n",
    "ax.xaxis.grid(True) \n",
    "ax.set_ylabel('')\n",
    "ax.set_xlabel('')\n",
    "if var == 'NEE':\n",
    "    ax.axhline(0, c='grey', linestyle='--')\n",
    "fig.supylabel(var+' (gC m\\N{SUPERSCRIPT TWO} mon⁻¹)', fontsize=17);\n",
    "plt.tight_layout()\n",
    "\n",
    "fig.savefig('/g/data/os22/chad_tmp/NEE_modelling/results/figs/NEE_EC_annual_boxplots.png',\n",
    "            bbox_inches='tight', dpi=300)"
   ]
  },
  {
   "cell_type": "markdown",
   "metadata": {},
   "source": [
    "#### Obs vs predicted annual "
   ]
  },
  {
   "cell_type": "code",
   "execution_count": null,
   "metadata": {},
   "outputs": [],
   "source": [
    "fig, ax =  plt.subplots(4,8,figsize=(23,10), sharex=True)\n",
    "df.groupby('site').boxplot(subplots=True, ax=ax.flatten()[:29], rot=0, grid=False, fontsize=12)\n",
    "if var == 'NEE':\n",
    "    for a in ax.reshape(-1): \n",
    "        a.axhline(0, c='grey', linestyle='--');\n",
    "fig.supylabel('Annual '+var+' (gC m\\N{SUPERSCRIPT TWO} mon⁻¹)', fontsize=16)\n",
    "plt.tight_layout()\n",
    "# plt.savefig('/g/data/os22/chad_tmp/NEE_modelling/results/figs/'+var+'_boxplots_annualmean.png')"
   ]
  },
  {
   "cell_type": "markdown",
   "metadata": {},
   "source": [
    "### Per site climatology comparison"
   ]
  },
  {
   "cell_type": "code",
   "execution_count": null,
   "metadata": {},
   "outputs": [],
   "source": [
    "clim = ts.groupby([ts['site'], ts.index.month]).mean()\n",
    "clim = clim[[var+'_SOLO_EC', var+'_prediction']]\n",
    "clim = clim.rename({var+'_SOLO_EC':'obs', var+'_prediction':'pred'}, axis=1)"
   ]
  },
  {
   "cell_type": "code",
   "execution_count": null,
   "metadata": {},
   "outputs": [],
   "source": [
    "fig, ax =  plt.subplots(5,6,figsize=(17,12), sharex=True)\n",
    "\n",
    "for a, b in zip(ax.reshape(-1), clim.groupby('site')): \n",
    "    label, df = b[0], b[1] \n",
    "    if label=='Adela':   \n",
    "        df.plot(kind=\"line\", ax=a, label=label, legend=True)\n",
    "    else:\n",
    "        df.plot(kind=\"line\", ax=a, label=label, legend=False)\n",
    "    if var == 'NEE':\n",
    "        a.axhline(0, c='grey', linestyle='--')\n",
    "    a.set_xticks(range(0,12))\n",
    "    a.set_xticklabels([\"J\",\"F\",\"M\",\"A\",\"M\",\"J\",\"J\",\"A\",\"S\",\"O\",\"N\",\"D\"], fontsize=17)\n",
    "    a.tick_params(axis='x', labelsize=13)\n",
    "    a.tick_params(axis='y', labelsize=20)\n",
    "    a.set_title(label, fontdict={'fontsize':20})\n",
    "    a.set_ylabel('')\n",
    "    a.set_xlabel('')\n",
    "\n",
    "fig.supylabel('Climatological '+var+' gC m\\N{SUPERSCRIPT TWO} mon⁻¹', fontsize=24)\n",
    "\n",
    "plt.tight_layout()\n",
    "plt.savefig('/g/data/os22/chad_tmp/NEE_modelling/results/figs/climatology_curves_persite_'+var+'.png',\n",
    "           bbox_inches='tight', dpi=300)"
   ]
  },
  {
   "cell_type": "markdown",
   "metadata": {},
   "source": [
    "### 1:1 of annual means \n",
    "\n",
    "Using annual monthly, but we can use the annual monthly sum but results are very similar\n",
    "\n",
    "\n",
    "Plots will be coloured by biome (not site)"
   ]
  },
  {
   "cell_type": "code",
   "execution_count": null,
   "metadata": {},
   "outputs": [],
   "source": [
    "gdf = gpd.read_file('/g/data/os22/chad_tmp/NEE_modelling/data/bioclimatic_regions.geojson')\n",
    "gdf"
   ]
  },
  {
   "cell_type": "code",
   "execution_count": null,
   "metadata": {},
   "outputs": [],
   "source": [
    "gdf_ts = gpd.GeoDataFrame(\n",
    "    ts, geometry=gpd.points_from_xy(ts.x_coord, ts.y_coord))"
   ]
  },
  {
   "cell_type": "code",
   "execution_count": null,
   "metadata": {},
   "outputs": [],
   "source": [
    "gdf_ts.crs = gdf.crs"
   ]
  },
  {
   "cell_type": "code",
   "execution_count": null,
   "metadata": {},
   "outputs": [],
   "source": [
    "gdf_ts = gdf_ts.sjoin(gdf, how=\"left\")\n",
    "\n",
    "gdf_ts.loc[gdf_ts['site'] == 'CapeT', ['bioclimatic_regions']] = 1.0\n",
    "gdf_ts.loc[gdf_ts['site'] == 'CowBa', ['bioclimatic_regions']] = 1.0"
   ]
  },
  {
   "cell_type": "code",
   "execution_count": null,
   "metadata": {},
   "outputs": [],
   "source": [
    "# fig, ax = plt.subplots(1,1, figsize=(10,10))\n",
    "# gdf.plot(column='region_name', ax=ax, alpha=0.25)\n",
    "# gdf_ts.plot(ax=ax, column='region_name', legend=True)"
   ]
  },
  {
   "cell_type": "markdown",
   "metadata": {},
   "source": [
    "### Code for switchin to annual sums\n"
   ]
  },
  {
   "cell_type": "code",
   "execution_count": null,
   "metadata": {},
   "outputs": [],
   "source": [
    "# #seperate regions first so we can do a .sum\n",
    "# regions = gdf_ts.groupby('site').resample('Y').mean() \n",
    "# regions =  regions['bioclimatic_regions']\n",
    "\n",
    "# #resample to sum over the year\n",
    "# df = gdf_ts.groupby('site').resample('Y').sum()\n",
    "\n",
    "# # clean up\n",
    "# df = df[[var+'_SOLO_EC', var+'_prediction']]\n",
    "# df = df.rename({var+'_SOLO_EC':'obs', var+'_prediction':'pred'}, axis=1)\n",
    "# df['bioclimatic_regions'] = regions \n",
    "# df = df.dropna()"
   ]
  },
  {
   "cell_type": "code",
   "execution_count": null,
   "metadata": {},
   "outputs": [],
   "source": [
    "# gdf_ts.loc[gdf_ts['site'] == 'TiTre'].tail(25)\n",
    "\n",
    "# df.loc[df['bioclimatic_regions'] == 6.0]"
   ]
  },
  {
   "cell_type": "markdown",
   "metadata": {},
   "source": [
    "### Calculate annual means"
   ]
  },
  {
   "cell_type": "code",
   "execution_count": null,
   "metadata": {},
   "outputs": [],
   "source": [
    "#resample to mean over the year\n",
    "df = gdf_ts.drop(['geometry', 'region_name'],axis=1).groupby('site').resample('Y').mean()\n",
    "\n",
    "# clean up\n",
    "df = df[[var+'_SOLO_EC', var+'_prediction', 'bioclimatic_regions']]\n",
    "df = df.rename({var+'_SOLO_EC':'obs', var+'_prediction':'pred'}, axis=1)\n",
    "df = df.dropna()"
   ]
  },
  {
   "cell_type": "markdown",
   "metadata": {},
   "source": [
    "### Reclassify region names for nice plotting"
   ]
  },
  {
   "cell_type": "code",
   "execution_count": null,
   "metadata": {},
   "outputs": [],
   "source": [
    "df.loc[df['bioclimatic_regions'] == 1.0, ['region']] = 'Tropics'\n",
    "df.loc[df['bioclimatic_regions'] == 2.0, ['region']] = 'Savanna'\n",
    "df.loc[df['bioclimatic_regions'] == 3.0, ['region']] = 'Warm Temperate'\n",
    "df.loc[df['bioclimatic_regions'] == 4.0, ['region']] = 'Cool Temperate'\n",
    "df.loc[df['bioclimatic_regions'] == 5.0, ['region']] = 'Mediterranean'\n",
    "df.loc[df['bioclimatic_regions'] == 6.0, ['region']] = 'Desert'\n"
   ]
  },
  {
   "cell_type": "code",
   "execution_count": null,
   "metadata": {},
   "outputs": [],
   "source": [
    "# df.loc[df['bioclimatic_regions'] == 3.0].plot.scatter('obs', 'pred')"
   ]
  },
  {
   "cell_type": "markdown",
   "metadata": {},
   "source": [
    "### Plot"
   ]
  },
  {
   "cell_type": "code",
   "execution_count": null,
   "metadata": {},
   "outputs": [],
   "source": [
    "r2 = r2_score(df['obs'], df['pred'])\n",
    "ac = mean_absolute_error(df['obs'], df['pred'])"
   ]
  },
  {
   "cell_type": "code",
   "execution_count": null,
   "metadata": {},
   "outputs": [],
   "source": [
    "fig,ax = plt.subplots(1,1, figsize=(7,6))\n",
    "\n",
    "font=20\n",
    "\n",
    "sb.scatterplot(data=df, x='obs',y='pred', hue='region', s=100, lw=1, ax=ax, alpha=0.75, legend=False) \n",
    "sb.regplot(data=df, x='obs',y='obs', color='black', scatter=False, line_kws={'linestyle':'dashed'}, ax=ax)\n",
    "\n",
    "for r in df['region'].unique():\n",
    "    dff = df.loc[df['region']==r]\n",
    "    sb.regplot(data=dff, x='obs',y='pred', scatter=False, ax=ax, line_kws={'linewidth':3}, label=r)\n",
    "\n",
    "sb.regplot(data=df, x='obs',y='pred', scatter=False, color='black', ax=ax, label='All Data')    \n",
    "    \n",
    "# plt.legend(loc='lower right', fontsize=20, markerscale=2)\n",
    "plt.xlabel('Obs. annual mean '+ var + ' gC m\\N{SUPERSCRIPT TWO} mon⁻¹', fontsize=font)\n",
    "plt.ylabel('Pred. annual mean ' + var+ ' gC m\\N{SUPERSCRIPT TWO} mon⁻¹', fontsize=font)\n",
    "ax.text(.05, .95, 'r\\N{SUPERSCRIPT TWO}={:.2f}'.format(np.mean(r2)),\n",
    "            transform=ax.transAxes, fontsize=font)\n",
    "ax.text(.05, .9, 'MAE={:.3g}'.format(np.mean(ac)),\n",
    "            transform=ax.transAxes, fontsize=font)\n",
    "if var=='NEE':\n",
    "    ax.set_ylim(-125, 40)\n",
    "    ax.set_xlim(-125, 40)\n",
    "    ax.axhline(0, c='grey', linestyle='--')\n",
    "    \n",
    "    \n",
    "ax.tick_params(axis='x', labelsize=font)\n",
    "ax.tick_params(axis='y', labelsize=font)\n",
    "\n",
    "plt.tight_layout()\n",
    "fig.savefig(\"/g/data/os22/chad_tmp/NEE_modelling/results/cross_validation/\"+var+\"_annual_mean_onetoone.png\",\n",
    "           bbox_inches='tight', dpi=300)"
   ]
  },
  {
   "cell_type": "code",
   "execution_count": null,
   "metadata": {},
   "outputs": [],
   "source": [
    "# get handles and labels for reuse\n",
    "label_params = ax.get_legend_handles_labels() \n",
    "\n",
    "figl, axl = plt.subplots()\n",
    "axl.axis(False)\n",
    "axl.legend(*label_params, loc='best', fontsize=24, markerscale=4, ncol=10)\n",
    "figl.savefig('/g/data/os22/chad_tmp/NEE_modelling/results/cross_validation/legend_annual_mean_onetoone.png',\n",
    "            bbox_inches='tight', dpi=300)\n"
   ]
  },
  {
   "cell_type": "code",
   "execution_count": null,
   "metadata": {},
   "outputs": [],
   "source": []
  },
  {
   "cell_type": "code",
   "execution_count": null,
   "metadata": {},
   "outputs": [],
   "source": []
  }
 ],
 "metadata": {
  "kernelspec": {
   "display_name": "Python 3 (ipykernel)",
   "language": "python",
   "name": "python3"
  },
  "language_info": {
   "codemirror_mode": {
    "name": "ipython",
    "version": 3
   },
   "file_extension": ".py",
   "mimetype": "text/x-python",
   "name": "python",
   "nbconvert_exporter": "python",
   "pygments_lexer": "ipython3",
   "version": "3.9.2"
  }
 },
 "nbformat": 4,
 "nbformat_minor": 4
}
